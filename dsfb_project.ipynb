{
 "cells": [
  {
   "cell_type": "code",
   "execution_count": 2,
   "metadata": {
    "ExecuteTime": {
     "end_time": "2017-05-21T19:05:48.418344",
     "start_time": "2017-05-21T19:05:47.851654"
    },
    "collapsed": true
   },
   "outputs": [],
   "source": [
    "import pandas as pd\n",
    "import numpy as np\n",
    "\n",
    "from sklearn import preprocessing"
   ]
  },
  {
   "cell_type": "markdown",
   "metadata": {},
   "source": [
    "# Data Science For Business Project\n",
    "\n",
    "> Contributors: `Genolet Robin` and `Rodrigues Alves Danny`"
   ]
  },
  {
   "cell_type": "markdown",
   "metadata": {},
   "source": [
    "Notebook's organisation:\n",
    "\n",
    "*  [Step 1](#step1)\n",
    "  * [Preprocessing](#preprocessing1)\n",
    "  * [Models](#models1)\n",
    "  * [Models comparison](#modelscomparison1)\n",
    "  * [Unseen datasets](#unseen1)\n",
    "\n",
    "*  [Step 2](#step2)\n",
    "  * [Preprocessing](#preprocessing2)\n",
    "  * [Models](#models2)\n",
    "  * [Models comparison](#modelscomparison2)\n",
    "  * [Unseen datasets](#unseen2)\n",
    "  \n",
    "*  [Step 3](#step3)\n",
    "  * [Preprocessing](#preprocessing3)\n",
    "  * [Models](#models3)\n",
    "  * [Models comparison](#modelscomparison3)\n",
    "  * [Unseen datasets](#unseen3)\n",
    "*  [Conclusion](#conclusion)"
   ]
  },
  {
   "cell_type": "markdown",
   "metadata": {},
   "source": [
    "# <a name=\"step1\"></a> Step 1\n",
    "\n",
    "> Predict the category of each product, based on the reviewText field. View the problem as a multiclass classification (24 product categories).\n",
    ">\n",
    "> f(`reviewText`) -> category\n",
    "\n",
    "## <a name=\"preprocessing1\"></a> Preprocessing"
   ]
  },
  {
   "cell_type": "code",
   "execution_count": 3,
   "metadata": {
    "ExecuteTime": {
     "end_time": "2017-05-21T19:05:51.524861",
     "start_time": "2017-05-21T19:05:48.419869"
    }
   },
   "outputs": [
    {
     "data": {
      "text/html": [
       "<div>\n",
       "<style>\n",
       "    .dataframe thead tr:only-child th {\n",
       "        text-align: right;\n",
       "    }\n",
       "\n",
       "    .dataframe thead th {\n",
       "        text-align: left;\n",
       "    }\n",
       "\n",
       "    .dataframe tbody tr th {\n",
       "        vertical-align: top;\n",
       "    }\n",
       "</style>\n",
       "<table border=\"1\" class=\"dataframe\">\n",
       "  <thead>\n",
       "    <tr style=\"text-align: right;\">\n",
       "      <th></th>\n",
       "      <th>asin</th>\n",
       "      <th>category</th>\n",
       "      <th>helpful</th>\n",
       "      <th>overall</th>\n",
       "      <th>reviewText</th>\n",
       "      <th>reviewTime</th>\n",
       "      <th>reviewerID</th>\n",
       "      <th>reviewerName</th>\n",
       "      <th>summary</th>\n",
       "      <th>unixReviewTime</th>\n",
       "    </tr>\n",
       "  </thead>\n",
       "  <tbody>\n",
       "    <tr>\n",
       "      <th>0</th>\n",
       "      <td>B000J4HXUC</td>\n",
       "      <td>Sports_and_Outdoors</td>\n",
       "      <td>[1, 1]</td>\n",
       "      <td>5</td>\n",
       "      <td>It's a .50 Caliber Ammo Can. That largely sums...</td>\n",
       "      <td>01 5, 2014</td>\n",
       "      <td>A3QRW0UJPKIAX7</td>\n",
       "      <td>Grant Fritchey</td>\n",
       "      <td>Clean and Exactly as Advertised</td>\n",
       "      <td>1388880000</td>\n",
       "    </tr>\n",
       "    <tr>\n",
       "      <th>1</th>\n",
       "      <td>0983393214</td>\n",
       "      <td>Books</td>\n",
       "      <td>[0, 0]</td>\n",
       "      <td>5</td>\n",
       "      <td>This was a very good book. It kept me excited ...</td>\n",
       "      <td>06 23, 2013</td>\n",
       "      <td>A2SEIOM4H06WTH</td>\n",
       "      <td>TJ</td>\n",
       "      <td>Great read!</td>\n",
       "      <td>1371945600</td>\n",
       "    </tr>\n",
       "    <tr>\n",
       "      <th>2</th>\n",
       "      <td>B003G4FVMY</td>\n",
       "      <td>Grocery_and_Gourmet_Food</td>\n",
       "      <td>[0, 0]</td>\n",
       "      <td>5</td>\n",
       "      <td>If you love coconut the way I do, you can't go...</td>\n",
       "      <td>05 19, 2013</td>\n",
       "      <td>A3GDEXMU9587JX</td>\n",
       "      <td>K. Parsley \"kindlekat\"</td>\n",
       "      <td>If you love coconut, get this coffee</td>\n",
       "      <td>1368921600</td>\n",
       "    </tr>\n",
       "    <tr>\n",
       "      <th>3</th>\n",
       "      <td>B00F9VRNF0</td>\n",
       "      <td>Cell_Phones_and_Accessories</td>\n",
       "      <td>[0, 0]</td>\n",
       "      <td>5</td>\n",
       "      <td>I recently switched from the Galaxy S3 to the ...</td>\n",
       "      <td>04 25, 2014</td>\n",
       "      <td>ASP3J2NEHDN4E</td>\n",
       "      <td>ChriS</td>\n",
       "      <td>Superior Protection!!!</td>\n",
       "      <td>1398384000</td>\n",
       "    </tr>\n",
       "    <tr>\n",
       "      <th>4</th>\n",
       "      <td>B00D5OZQUC</td>\n",
       "      <td>Amazon_Instant_Video</td>\n",
       "      <td>[0, 0]</td>\n",
       "      <td>5</td>\n",
       "      <td>Good show,looks like the gap from season 2 to ...</td>\n",
       "      <td>11 4, 2013</td>\n",
       "      <td>A1EDBI6TBKP9CO</td>\n",
       "      <td>Grants Book Trade</td>\n",
       "      <td>Love the show, thanks for putting Season 3 on ...</td>\n",
       "      <td>1383523200</td>\n",
       "    </tr>\n",
       "  </tbody>\n",
       "</table>\n",
       "</div>"
      ],
      "text/plain": [
       "         asin                     category helpful  overall  \\\n",
       "0  B000J4HXUC          Sports_and_Outdoors  [1, 1]        5   \n",
       "1  0983393214                        Books  [0, 0]        5   \n",
       "2  B003G4FVMY     Grocery_and_Gourmet_Food  [0, 0]        5   \n",
       "3  B00F9VRNF0  Cell_Phones_and_Accessories  [0, 0]        5   \n",
       "4  B00D5OZQUC         Amazon_Instant_Video  [0, 0]        5   \n",
       "\n",
       "                                          reviewText   reviewTime  \\\n",
       "0  It's a .50 Caliber Ammo Can. That largely sums...   01 5, 2014   \n",
       "1  This was a very good book. It kept me excited ...  06 23, 2013   \n",
       "2  If you love coconut the way I do, you can't go...  05 19, 2013   \n",
       "3  I recently switched from the Galaxy S3 to the ...  04 25, 2014   \n",
       "4  Good show,looks like the gap from season 2 to ...   11 4, 2013   \n",
       "\n",
       "       reviewerID            reviewerName  \\\n",
       "0  A3QRW0UJPKIAX7          Grant Fritchey   \n",
       "1  A2SEIOM4H06WTH                      TJ   \n",
       "2  A3GDEXMU9587JX  K. Parsley \"kindlekat\"   \n",
       "3   ASP3J2NEHDN4E                   ChriS   \n",
       "4  A1EDBI6TBKP9CO       Grants Book Trade   \n",
       "\n",
       "                                             summary  unixReviewTime  \n",
       "0                    Clean and Exactly as Advertised      1388880000  \n",
       "1                                        Great read!      1371945600  \n",
       "2               If you love coconut, get this coffee      1368921600  \n",
       "3                             Superior Protection!!!      1398384000  \n",
       "4  Love the show, thanks for putting Season 3 on ...      1383523200  "
      ]
     },
     "execution_count": 3,
     "metadata": {},
     "output_type": "execute_result"
    }
   ],
   "source": [
    "# Load file (we keep the git repo as light as possible by only hosting the .gz's)\n",
    "!rm -f *.json\n",
    "!gunzip -c amazon_step1.json.gz > amazon_step1.json\n",
    "\n",
    "# A first look at the data\n",
    "df1 = pd.read_json('amazon_step1.json', lines=True)\n",
    "df1.head()"
   ]
  },
  {
   "cell_type": "code",
   "execution_count": 4,
   "metadata": {
    "ExecuteTime": {
     "end_time": "2017-05-21T19:05:51.531762",
     "start_time": "2017-05-21T19:05:51.526579"
    }
   },
   "outputs": [
    {
     "data": {
      "text/plain": [
       "asin              object\n",
       "category          object\n",
       "helpful           object\n",
       "overall            int64\n",
       "reviewText        object\n",
       "reviewTime        object\n",
       "reviewerID        object\n",
       "reviewerName      object\n",
       "summary           object\n",
       "unixReviewTime     int64\n",
       "dtype: object"
      ]
     },
     "execution_count": 4,
     "metadata": {},
     "output_type": "execute_result"
    }
   ],
   "source": [
    "# Features name and type\n",
    "df1.dtypes"
   ]
  },
  {
   "cell_type": "code",
   "execution_count": 5,
   "metadata": {
    "ExecuteTime": {
     "end_time": "2017-05-21T19:05:51.538599",
     "start_time": "2017-05-21T19:05:51.533559"
    }
   },
   "outputs": [
    {
     "name": "stdout",
     "output_type": "stream",
     "text": [
      "('Number of features:', 10)\n",
      "('Number of samples:', 96000)\n"
     ]
    }
   ],
   "source": [
    "# For python2 kernel:\n",
    "from __future__ import division\n",
    "# Analyze the data: features and sample\n",
    "num_total_samples = len(df1.index)\n",
    "num_total_features = len(df1.columns)\n",
    "print(\"Number of features:\", num_total_features)\n",
    "print(\"Number of samples:\", num_total_samples)"
   ]
  },
  {
   "cell_type": "code",
   "execution_count": 6,
   "metadata": {
    "ExecuteTime": {
     "end_time": "2017-05-21T19:05:51.646680",
     "start_time": "2017-05-21T19:05:51.540645"
    }
   },
   "outputs": [
    {
     "name": "stdout",
     "output_type": "stream",
     "text": [
      "('Number of damaged samples:', 994)\n",
      "('Percentage of damaged Samples:', 1.0, '%')\n"
     ]
    }
   ],
   "source": [
    "# Start by counting the number of valid entrie per sample\n",
    "num_valid_entries_per_sample = df1.count(axis=1)\n",
    "# Then compute the total number of complete samples\n",
    "num_complete_samples = num_valid_entries_per_sample.tolist().count(num_total_features)\n",
    "\n",
    "# We can now compute the percenter of damaged sample\n",
    "percentage_damaged_samples = 1 - num_complete_samples/num_total_samples\n",
    "print('Number of damaged samples:', num_total_samples - num_complete_samples)\n",
    "print('Percentage of damaged Samples:', np.around(100*percentage_damaged_samples,decimals=1), '%')"
   ]
  },
  {
   "cell_type": "markdown",
   "metadata": {},
   "source": [
    "It appears that we have some missing data. <br />\n",
    "Let's see the number of valid entries for each feature"
   ]
  },
  {
   "cell_type": "code",
   "execution_count": 7,
   "metadata": {
    "ExecuteTime": {
     "end_time": "2017-05-21T19:05:51.753098",
     "start_time": "2017-05-21T19:05:51.648349"
    }
   },
   "outputs": [
    {
     "name": "stdout",
     "output_type": "stream",
     "text": [
      "Number of valid entrie perf feature: \n",
      "reviewerName      95006\n",
      "asin              96000\n",
      "category          96000\n",
      "helpful           96000\n",
      "overall           96000\n",
      "reviewText        96000\n",
      "reviewTime        96000\n",
      "reviewerID        96000\n",
      "summary           96000\n",
      "unixReviewTime    96000\n",
      "dtype: int64\n"
     ]
    }
   ],
   "source": [
    "num_valid_entries_per_feature = df1.count(axis=0).sort_values()\n",
    "print(\"Number of valid entrie perf feature: \")\n",
    "print(num_valid_entries_per_feature)"
   ]
  },
  {
   "cell_type": "markdown",
   "metadata": {},
   "source": [
    "Only `reviewerName` is sometimes missing (994 times to be precise). We will see how to deal with it later."
   ]
  },
  {
   "cell_type": "code",
   "execution_count": 8,
   "metadata": {
    "ExecuteTime": {
     "end_time": "2017-05-21T19:05:51.857284",
     "start_time": "2017-05-21T19:05:51.754492"
    }
   },
   "outputs": [
    {
     "data": {
      "text/plain": [
       "asin                0\n",
       "category            0\n",
       "helpful             0\n",
       "overall             0\n",
       "reviewText          0\n",
       "reviewTime          0\n",
       "reviewerID          0\n",
       "reviewerName      994\n",
       "summary             0\n",
       "unixReviewTime      0\n",
       "dtype: int64"
      ]
     },
     "execution_count": 8,
     "metadata": {},
     "output_type": "execute_result"
    }
   ],
   "source": [
    "df1.isnull().sum()"
   ]
  },
  {
   "cell_type": "markdown",
   "metadata": {},
   "source": [
    "### We now present the preprocessing choices for each features\n",
    "\n",
    "As stated in the project description, we will mainly rely on the **reviewText** feature. Nevertheless, we decide to take a look into each other feature and try to see if we can extract some useful information from them in order to improve our models."
   ]
  },
  {
   "cell_type": "markdown",
   "metadata": {},
   "source": [
    "### asin\n",
    "> Defintion: `amazon standard identification number which is unique for each product`\n",
    "\n",
    "This feature will obvisously not bring useful information for the task we want to perform. We drop it. Another option would have been to use it as the index for each row, but we decided to go with the regular incremental index from pandas dataframe."
   ]
  },
  {
   "cell_type": "code",
   "execution_count": 9,
   "metadata": {
    "ExecuteTime": {
     "end_time": "2017-05-21T19:05:51.876106",
     "start_time": "2017-05-21T19:05:51.858531"
    },
    "collapsed": true
   },
   "outputs": [],
   "source": [
    "df1 = df1.drop(['asin'], axis=1)"
   ]
  },
  {
   "cell_type": "markdown",
   "metadata": {},
   "source": [
    "### category\n",
    "> Definition: `category of the product`\n",
    "\n",
    "This is the target feature for part I of the project.<br />\n",
    "We see below that the frequency of each category is equal<br />\n",
    "This is a great news since we will be able to use a simple accuracy score to rank our different models.<br />\n",
    "Moreover, it will be easy to sample a subset of the dataset if need be (e.g. to test a model on small data to improve speed)."
   ]
  },
  {
   "cell_type": "code",
   "execution_count": 10,
   "metadata": {
    "ExecuteTime": {
     "end_time": "2017-05-21T19:05:52.412290",
     "start_time": "2017-05-21T19:05:51.877585"
    }
   },
   "outputs": [
    {
     "data": {
      "image/png": "[encoded data removed]",
      "text/plain": [
       "<matplotlib.figure.Figure at 0x7fddd721b8d0>"
      ]
     },
     "metadata": {},
     "output_type": "display_data"
    }
   ],
   "source": [
    "import matplotlib.pyplot as plt\n",
    "df1[\"category\"].value_counts().plot(kind='bar')\n",
    "plt.show()"
   ]
  },
  {
   "cell_type": "markdown",
   "metadata": {},
   "source": [
    "### helpful\n",
    "> Definition: `[x,y]: x is the number of helpful ticks and y is the number of total ticks`\n",
    "\n",
    "This features is not useful in it's actual form, but we think that we can take advantage of the information it contains. Indeed, it's reasonable to think that a five stars product might have a bigger ratio x/y than a one start product. Therefore, we decide to create a new feature from the *helpful* one: **helpfulPercentage**."
   ]
  },
  {
   "cell_type": "code",
   "execution_count": 11,
   "metadata": {
    "ExecuteTime": {
     "end_time": "2017-05-21T19:05:52.499749",
     "start_time": "2017-05-21T19:05:52.414192"
    }
   },
   "outputs": [
    {
     "data": {
      "text/plain": [
       "13987    1.176272\n",
       "82548    0.900858\n",
       "48084    1.561853\n",
       "51227   -0.751631\n",
       "30475    1.561853\n",
       "Name: helpfulPercentage, dtype: float64"
      ]
     },
     "execution_count": 11,
     "metadata": {},
     "output_type": "execute_result"
    }
   ],
   "source": [
    "from ast import literal_eval\n",
    "from sklearn.preprocessing import StandardScaler\n",
    "\n",
    "# Compute the new feature 'helpfulPercentage'\n",
    "def createHelpfulPercentage(df):\n",
    "    # First, check if the column 'helpful' is a list or not. If not, convert it.\n",
    "    if not isinstance(df.helpful[0], list):\n",
    "        df.helpful = df.helpful.apply(literal_eval)\n",
    "    df[\"helpfulPercentage\"] = df.helpful.apply(lambda x: x[0]/x[1] if x[1] != 0 else 0)\n",
    "\n",
    "createHelpfulPercentage(df1)\n",
    "\n",
    "# Standardize the feature\n",
    "scalerHelpful = StandardScaler()\n",
    "df1.helpfulPercentage = scalerHelpful.fit_transform(df1.helpfulPercentage.values.reshape(-1,1))\n",
    "\n",
    "# Remove the 'old' one\n",
    "df1 = df1.drop([\"helpful\"], axis=1)\n",
    "\n",
    "df1.helpfulPercentage.sample(5)"
   ]
  },
  {
   "cell_type": "markdown",
   "metadata": {},
   "source": [
    "> Notice that to standardize the newly created feature, we use a **StandardScaler** object and not the *scale()* method from sklearn. Both ways result in the same result, but with the StandardScaler object, we will be able to reuse it, already trained or *fit*, with the unseen data"
   ]
  },
  {
   "cell_type": "markdown",
   "metadata": {},
   "source": [
    "### overall\n",
    "> Definition: `overal rating of the product in the range of [1,2,3,4,5]`\n",
    "\n",
    "This is the target feature for parts II and II of the project\n",
    "\n",
    "We can see that the mean for each category are quite close one to the other and except for the category *Apps_for_Android*, they are all above 4 (apparently, people rate products positevely). It also means that the data will be skewed for step 3."
   ]
  },
  {
   "cell_type": "code",
   "execution_count": 12,
   "metadata": {
    "ExecuteTime": {
     "end_time": "2017-05-21T19:05:52.813498",
     "start_time": "2017-05-21T19:05:52.501186"
    }
   },
   "outputs": [
    {
     "name": "stdout",
     "output_type": "stream",
     "text": [
      "category\n",
      "Amazon_Instant_Video           4.21125\n",
      "Apps_for_Android               3.96325\n",
      "Automotive                     4.45325\n",
      "Baby                           4.22200\n",
      "Beauty                         4.18700\n",
      "Books                          4.26575\n",
      "CDs_and_Vinyl                  4.27800\n",
      "Cell_Phones_and_Accessories    4.12600\n",
      "Clothing_Shoes_and_Jewelry     4.25000\n",
      "Digital_Music                  4.22650\n",
      "Electronics                    4.23575\n",
      "Grocery_and_Gourmet_Food       4.25825\n",
      "Health_and_Personal_Care       4.24675\n",
      "Home_and_Kitchen               4.32525\n",
      "Kindle_Store                   4.35850\n",
      "Movies_and_TV                  4.12200\n",
      "Musical_Instruments            4.49550\n",
      "Office_Products                4.34450\n",
      "Patio_Lawn_and_Garden          4.21875\n",
      "Pet_Supplies                   4.22325\n",
      "Sports_and_Outdoors            4.40150\n",
      "Tools_and_Home_Improvement     4.35275\n",
      "Toys_and_Games                 4.38350\n",
      "Video_Games                    4.09725\n",
      "Name: overall, dtype: float64\n"
     ]
    },
    {
     "data": {
      "image/png": "[encoded data removed]",
      "text/plain": [
       "<matplotlib.figure.Figure at 0x7fddd6e85490>"
      ]
     },
     "metadata": {},
     "output_type": "display_data"
    }
   ],
   "source": [
    "print(df1.groupby(\"category\")[\"overall\"].mean())\n",
    "\n",
    "df1.groupby(\"category\")[\"overall\"].mean().plot(kind='bar')\n",
    "plt.show()"
   ]
  },
  {
   "cell_type": "markdown",
   "metadata": {},
   "source": [
    "### reviewText\n",
    "> Definition: `text of the review`\n",
    "\n",
    "This is the main feature on which we need to rely on. It's text, so we need to transform it into a numerical form.\n",
    "\n",
    "But before doing so, we decided to extract some information from this feature.\n",
    "\n",
    "Firstly, we create a new feature **reviewTextLenght**. The name describe perfectly the feature."
   ]
  },
  {
   "cell_type": "code",
   "execution_count": 13,
   "metadata": {
    "ExecuteTime": {
     "end_time": "2017-05-21T19:05:52.879035",
     "start_time": "2017-05-21T19:05:52.814942"
    }
   },
   "outputs": [
    {
     "name": "stderr",
     "output_type": "stream",
     "text": [
      "/root/miniconda2/lib/python2.7/site-packages/sklearn/utils/validation.py:429: DataConversionWarning: Data with input dtype int64 was converted to float64 by StandardScaler.\n",
      "  warnings.warn(msg, _DataConversionWarning)\n"
     ]
    },
    {
     "data": {
      "text/plain": [
       "56079   -0.631406\n",
       "77418   -0.626515\n",
       "9270     0.580363\n",
       "41022    0.872606\n",
       "39613   -0.430871\n",
       "Name: reviewTextLength, dtype: float64"
      ]
     },
     "execution_count": 13,
     "metadata": {},
     "output_type": "execute_result"
    }
   ],
   "source": [
    "# Compute the feature\n",
    "def createTextLength(df, feature):\n",
    "    name = feature + \"Length\"\n",
    "    df[name] = df[feature].apply(lambda x: len(x))\n",
    "    df[name] = pd.to_numeric(df[name])\n",
    "    \n",
    "createTextLength(df1, \"reviewText\")\n",
    "\n",
    "# Standardize the new feature\n",
    "scalerTextLength = StandardScaler()\n",
    "df1.reviewTextLength = scalerTextLength.fit_transform(df1.reviewTextLength.values.reshape(-1,1))\n",
    "\n",
    "df1.reviewTextLength.sample(5)"
   ]
  },
  {
   "cell_type": "markdown",
   "metadata": {},
   "source": [
    "We also create features that capture the amount of punctuation that is used, namely **points**, **exclamation marks**, **question marks**, and **comas**. "
   ]
  },
  {
   "cell_type": "code",
   "execution_count": 14,
   "metadata": {
    "ExecuteTime": {
     "end_time": "2017-05-21T19:05:53.374451",
     "start_time": "2017-05-21T19:05:52.881075"
    }
   },
   "outputs": [
    {
     "data": {
      "text/html": [
       "<div>\n",
       "<style>\n",
       "    .dataframe thead tr:only-child th {\n",
       "        text-align: right;\n",
       "    }\n",
       "\n",
       "    .dataframe thead th {\n",
       "        text-align: left;\n",
       "    }\n",
       "\n",
       "    .dataframe tbody tr th {\n",
       "        vertical-align: top;\n",
       "    }\n",
       "</style>\n",
       "<table border=\"1\" class=\"dataframe\">\n",
       "  <thead>\n",
       "    <tr style=\"text-align: right;\">\n",
       "      <th></th>\n",
       "      <th>reviewTextCountPoints</th>\n",
       "      <th>reviewTextCountExcl</th>\n",
       "      <th>reviewTextCountInterr</th>\n",
       "      <th>reviewTextCountComas</th>\n",
       "    </tr>\n",
       "  </thead>\n",
       "  <tbody>\n",
       "    <tr>\n",
       "      <th>12462</th>\n",
       "      <td>-0.362196</td>\n",
       "      <td>-0.341411</td>\n",
       "      <td>-0.218245</td>\n",
       "      <td>-0.441073</td>\n",
       "    </tr>\n",
       "    <tr>\n",
       "      <th>45215</th>\n",
       "      <td>-0.578953</td>\n",
       "      <td>-0.341411</td>\n",
       "      <td>-0.218245</td>\n",
       "      <td>-0.187700</td>\n",
       "    </tr>\n",
       "    <tr>\n",
       "      <th>56545</th>\n",
       "      <td>-0.362196</td>\n",
       "      <td>-0.341411</td>\n",
       "      <td>-0.218245</td>\n",
       "      <td>-0.567760</td>\n",
       "    </tr>\n",
       "    <tr>\n",
       "      <th>6141</th>\n",
       "      <td>-0.470575</td>\n",
       "      <td>0.772321</td>\n",
       "      <td>-0.218245</td>\n",
       "      <td>-0.567760</td>\n",
       "    </tr>\n",
       "    <tr>\n",
       "      <th>40647</th>\n",
       "      <td>-0.470575</td>\n",
       "      <td>-0.341411</td>\n",
       "      <td>-0.218245</td>\n",
       "      <td>-0.441073</td>\n",
       "    </tr>\n",
       "  </tbody>\n",
       "</table>\n",
       "</div>"
      ],
      "text/plain": [
       "       reviewTextCountPoints  reviewTextCountExcl  reviewTextCountInterr  \\\n",
       "12462              -0.362196            -0.341411              -0.218245   \n",
       "45215              -0.578953            -0.341411              -0.218245   \n",
       "56545              -0.362196            -0.341411              -0.218245   \n",
       "6141               -0.470575             0.772321              -0.218245   \n",
       "40647              -0.470575            -0.341411              -0.218245   \n",
       "\n",
       "       reviewTextCountComas  \n",
       "12462             -0.441073  \n",
       "45215             -0.187700  \n",
       "56545             -0.567760  \n",
       "6141              -0.567760  \n",
       "40647             -0.441073  "
      ]
     },
     "execution_count": 14,
     "metadata": {},
     "output_type": "execute_result"
    }
   ],
   "source": [
    "def count_char(row, char):\n",
    "    return row.count(char)\n",
    "\n",
    "def createTextPunctuationFeatures(df, feature):\n",
    "    df[feature+\"CountPoints\"] = df[feature].apply(count_char, args=(\".\"))\n",
    "    df[feature+\"CountExcl\"] = df[feature].apply(count_char, args=(\"!\"))\n",
    "    df[feature+\"CountInterr\"] = df[feature].apply(count_char, args=(\"?\"))\n",
    "    df[feature+\"CountComas\"] = df[feature].apply(count_char, args=(\",\"))\n",
    "\n",
    "createTextPunctuationFeatures(df1, \"reviewText\")\n",
    "\n",
    "\n",
    "# Standardize all new features\n",
    "scalerCountPoints = StandardScaler()\n",
    "scalerCountExcl = StandardScaler()\n",
    "scalerCountInterr = StandardScaler()\n",
    "scalerCountComas = StandardScaler()\n",
    "\n",
    "df1.reviewTextCountPoints = scalerCountPoints.fit_transform(df1.reviewTextCountPoints.values.reshape(-1,1))\n",
    "df1.reviewTextCountExcl = scalerCountExcl.fit_transform(df1.reviewTextCountExcl.values.reshape(-1,1))\n",
    "df1.reviewTextCountInterr = scalerCountInterr.fit_transform(df1.reviewTextCountInterr.values.reshape(-1,1))\n",
    "df1.reviewTextCountComas = scalerCountComas.fit_transform(df1.reviewTextCountComas.values.reshape(-1,1))\n",
    "\n",
    "\n",
    "# Output some sample\n",
    "df1[[\"reviewTextCountPoints\", \"reviewTextCountExcl\", \"reviewTextCountInterr\", \"reviewTextCountComas\"]].sample(5)"
   ]
  },
  {
   "cell_type": "markdown",
   "metadata": {},
   "source": [
    "Another created features, that we think is useful to detect a sentiment in a text: presence of smileys in the text"
   ]
  },
  {
   "cell_type": "code",
   "execution_count": 15,
   "metadata": {
    "ExecuteTime": {
     "end_time": "2017-05-21T19:05:53.755034",
     "start_time": "2017-05-21T19:05:53.375985"
    }
   },
   "outputs": [
    {
     "data": {
      "text/html": [
       "<div>\n",
       "<style>\n",
       "    .dataframe thead tr:only-child th {\n",
       "        text-align: right;\n",
       "    }\n",
       "\n",
       "    .dataframe thead th {\n",
       "        text-align: left;\n",
       "    }\n",
       "\n",
       "    .dataframe tbody tr th {\n",
       "        vertical-align: top;\n",
       "    }\n",
       "</style>\n",
       "<table border=\"1\" class=\"dataframe\">\n",
       "  <thead>\n",
       "    <tr style=\"text-align: right;\">\n",
       "      <th></th>\n",
       "      <th>reviewTextPositiveSmiley</th>\n",
       "      <th>reviewTextNegativeSmiley</th>\n",
       "    </tr>\n",
       "  </thead>\n",
       "  <tbody>\n",
       "    <tr>\n",
       "      <th>6959</th>\n",
       "      <td>0</td>\n",
       "      <td>0</td>\n",
       "    </tr>\n",
       "    <tr>\n",
       "      <th>63170</th>\n",
       "      <td>0</td>\n",
       "      <td>0</td>\n",
       "    </tr>\n",
       "    <tr>\n",
       "      <th>25953</th>\n",
       "      <td>0</td>\n",
       "      <td>0</td>\n",
       "    </tr>\n",
       "    <tr>\n",
       "      <th>78568</th>\n",
       "      <td>0</td>\n",
       "      <td>0</td>\n",
       "    </tr>\n",
       "    <tr>\n",
       "      <th>58380</th>\n",
       "      <td>0</td>\n",
       "      <td>0</td>\n",
       "    </tr>\n",
       "  </tbody>\n",
       "</table>\n",
       "</div>"
      ],
      "text/plain": [
       "       reviewTextPositiveSmiley  reviewTextNegativeSmiley\n",
       "6959                          0                         0\n",
       "63170                         0                         0\n",
       "25953                         0                         0\n",
       "78568                         0                         0\n",
       "58380                         0                         0"
      ]
     },
     "execution_count": 15,
     "metadata": {},
     "output_type": "execute_result"
    }
   ],
   "source": [
    "# Build two new features in relation with the presence of smileys in a textual feature\n",
    "# Return 'True' if a smiley is in the text, 'False' otherway\n",
    "def contains_smiley(df, feature):\n",
    "    df[feature+\"PositiveSmiley\"] = df[feature].apply(lambda x: 1 * ((\":)\" in x) or (\":D\" in x) or (\";)\" in x) ))\n",
    "    df[feature+\"NegativeSmiley\"] = df[feature].apply(lambda x: 1 * (\":(\" in x) )\n",
    "\n",
    "contains_smiley(df1, \"reviewText\")\n",
    "\n",
    "# Since this is a boolean feature (0 or 1), no need to standardize\n",
    "\n",
    "df1[[\"reviewTextPositiveSmiley\", \"reviewTextNegativeSmiley\"]].sample(5)"
   ]
  },
  {
   "cell_type": "markdown",
   "metadata": {},
   "source": [
    "Another feature that we think may have an impact on the sentiment of the review: presence of words written in capital letters."
   ]
  },
  {
   "cell_type": "code",
   "execution_count": 16,
   "metadata": {
    "ExecuteTime": {
     "end_time": "2017-05-21T19:05:55.096920",
     "start_time": "2017-05-21T19:05:53.756454"
    }
   },
   "outputs": [
    {
     "data": {
      "text/plain": [
       "1002      True\n",
       "41915    False\n",
       "1399     False\n",
       "57226    False\n",
       "8127      True\n",
       "Name: reviewTextAllCAPS, dtype: bool"
      ]
     },
     "execution_count": 16,
     "metadata": {},
     "output_type": "execute_result"
    }
   ],
   "source": [
    "# Build a new feature into a dataframe: 'AllCAPS'. \n",
    "#This feature will be created from a textual feature (the argument 'feature')\n",
    "def createALLCAPS(df, feature):\n",
    "    \n",
    "    # Return True is the given string contains a words with only capital letters\n",
    "    # and if that word is composed of more than 3 characters (avoid acronymns, or sentence start like 'A')\n",
    "    def containsALLCAPSword(string):\n",
    "        containsUpper = False\n",
    "        for w in string.split(' '):\n",
    "            if (w.isupper() and len(w)>3):\n",
    "                containsUpper = True\n",
    "                break\n",
    "        return containsUpper\n",
    "    \n",
    "    df[feature+\"AllCAPS\"] = df[feature].apply(lambda x : containsALLCAPSword(x))\n",
    "\n",
    "# Create the new feature. Again boolean feature, no need to standardize\n",
    "createALLCAPS(df1, \"reviewText\")\n",
    "\n",
    "df1.reviewTextAllCAPS.sample(5)"
   ]
  },
  {
   "cell_type": "markdown",
   "metadata": {},
   "source": [
    "Now that we have built all desired new features from the textual feature `reviewText`, we will need to transform this feature into a numercial one. For this, we will tokenize the features, apply english stop-words removing, use stemming and compute the TF-IDF score for each token. \n",
    "\n",
    "Since this type of operation will be use often through this notebook, we decide to build a pipeline transforming textual features into a numerical one."
   ]
  },
  {
   "cell_type": "code",
   "execution_count": 17,
   "metadata": {
    "ExecuteTime": {
     "end_time": "2017-05-21T19:05:55.313537",
     "start_time": "2017-05-21T19:05:55.098840"
    },
    "collapsed": true
   },
   "outputs": [],
   "source": [
    "from sklearn.feature_extraction.text import CountVectorizer\n",
    "from sklearn.feature_extraction.text import TfidfTransformer\n",
    "from sklearn.pipeline import Pipeline\n",
    "from nltk.stem.snowball import EnglishStemmer"
   ]
  },
  {
   "cell_type": "code",
   "execution_count": 18,
   "metadata": {
    "ExecuteTime": {
     "end_time": "2017-05-21T19:05:55.321247",
     "start_time": "2017-05-21T19:05:55.314770"
    },
    "collapsed": true
   },
   "outputs": [],
   "source": [
    "stemmer = EnglishStemmer()\n",
    "analyzer = CountVectorizer().build_analyzer()\n",
    "\n",
    "# Function applying stemming\n",
    "def stemmed_words(doc):\n",
    "    return (stemmer.stem(w) for w in analyzer(doc))\n",
    "\n",
    "# Reviews are written in english\n",
    "stop_words = 'english'\n",
    "\n",
    "# We tokenize all the words, removing stop words (for english language) and then compute a TF-IDF score for each token\n",
    "pipe_modified = Pipeline([('vectorize_stem', CountVectorizer(stop_words=stop_words,analyzer=stemmed_words, min_df=5, max_df=0.8)),\n",
    "                          ('compute_tfidf', TfidfTransformer())])"
   ]
  },
  {
   "cell_type": "markdown",
   "metadata": {},
   "source": [
    "### reviewTime\n",
    "> Definition: `time of writing the review in normal format`\n",
    "\n",
    "We think that we cannot retrieve useful information from this features. We decide to drop it."
   ]
  },
  {
   "cell_type": "code",
   "execution_count": 19,
   "metadata": {
    "ExecuteTime": {
     "end_time": "2017-05-21T19:05:55.339440",
     "start_time": "2017-05-21T19:05:55.322466"
    },
    "collapsed": true
   },
   "outputs": [],
   "source": [
    "df1 = df1.drop([\"reviewTime\"], axis=1)"
   ]
  },
  {
   "cell_type": "markdown",
   "metadata": {},
   "source": [
    "### reviewerID\n",
    "> Definition: `id of the reviewer`"
   ]
  },
  {
   "cell_type": "markdown",
   "metadata": {
    "ExecuteTime": {
     "end_time": "2017-05-13T17:05:09.947462",
     "start_time": "2017-05-13T17:05:06.041037"
    }
   },
   "source": [
    "We decide to drop this feature. Nevertheless, we think that some possible intersting information may be hide with `reviewerID`. \n",
    "\n",
    "We didn't do it for this project, but we think that creating a feature from the `reviewerID` may be a good idea. Some people only rate products for a certain category. For example, a librarian will probably rate more often Books than Pet Supplies. Following that idea, we can create 24 new features, one per category. Each of these feature will correspond to the percentage of reviews that this user did, compare to all others classes."
   ]
  },
  {
   "cell_type": "markdown",
   "metadata": {},
   "source": [
    "### reviewerName\n",
    "> Definition: `name of the reviewer`\n",
    "\n",
    "We decide to drop this feature, as it is redundant with the reviewerId. *(Note that some revierID are asociated with several reviewerNames, but we don't need to deal with it.)*\n",
    "\n",
    "> Since we drop this feature, no need to taking care of the missing values."
   ]
  },
  {
   "cell_type": "code",
   "execution_count": 20,
   "metadata": {
    "ExecuteTime": {
     "end_time": "2017-05-21T19:06:00.170837",
     "start_time": "2017-05-21T19:05:55.340745"
    }
   },
   "outputs": [
    {
     "data": {
      "text/plain": [
       "reviewerID\n",
       "A2DG63DN704LOI           3\n",
       "A3R5GTYQ50QVMD           3\n",
       "AAV45IBIJCSWN            3\n",
       "AWJBO5XGIW8ZS            2\n",
       "A3SJNPFFJIPT4U           2\n",
       "A1S0D037M0D71X           2\n",
       "A70NFM6KHU24F            2\n",
       "AX47EVO5R71HI            2\n",
       "A2FTHCGH06O4Y5           2\n",
       "AJC1CRUPPTWNW            2\n",
       "A2NCWLAWOVCKF7           2\n",
       "AFICF7DKHTQ87            2\n",
       "A3D4YTF8EL8YKH           2\n",
       "A1AHJMZVJUR1GC           2\n",
       "A13GFMDEPD0776           2\n",
       "ADDT2MU773IYL            2\n",
       "A2SZ4Q10WWZZO7           2\n",
       "A2I98OOPNIJNYY           2\n",
       "A1M7VLUUTO1NRL           2\n",
       "A3IEAYDS24L2IK           2\n",
       "AYUJYN6K5UBKM            2\n",
       "AZFODJ6KW6KQH            2\n",
       "A3PBPEFMYAX0CT           2\n",
       "A1JRD2Z3ESN8E9           2\n",
       "A3NGABXDIB0POU           2\n",
       "A3SI53R6YBH1XW           2\n",
       "A15PUBCS4N4G60           2\n",
       "A2EN82VBJT44QP           2\n",
       "A11FWFZNI2VQT            2\n",
       "ACDJL2NYQL0GT            2\n",
       "                        ..\n",
       "A3JA893PH2V0F7           1\n",
       "A3JB45FLJWJ563           1\n",
       "A3JAVLC91VL5KE           1\n",
       "A3JASVF01JUMV8           1\n",
       "A3JAROGQ2RN6L2           1\n",
       "A3JAR8K4EF94ZO           1\n",
       "A3JAQCCJAF9AH8           1\n",
       "A3JAITM5A93M0U           1\n",
       "A3JAG2Z79Y6VNA           1\n",
       "A3JADS9AZXTBAG           1\n",
       "A3JAC90CICBB5T           1\n",
       "A3JAAB4G1R7YIC           1\n",
       "A3JA9Y564YMWLF           1\n",
       "A3JA8EXHWOUV6M           1\n",
       "A3JA80DEUKKILA           1\n",
       "A3J9B8X7OJFJKR           1\n",
       "A3JA4JDIWIOO06           1\n",
       "A3JA2ORXXFB8FF           1\n",
       "A3JA2OB28804OD           1\n",
       "A3JA28M256ODD7           1\n",
       "A3JA0TUHTU0XUJ           1\n",
       "A3JA0F5LC6SYV7           1\n",
       "A3J9Z79JM8UB8J           1\n",
       "A3J9Y6KCZ1IMGE           1\n",
       "A3J9T84USTXM9Y           1\n",
       "A3J9SCGJG4E2X6           1\n",
       "A3J9LMY11O2BDX           1\n",
       "A3J9LLWHZH15HG           1\n",
       "A3J9CH217FP2TG           1\n",
       "A00625243BI8W1SSZNLMD    1\n",
       "Name: reviewerName, Length: 66708, dtype: int64"
      ]
     },
     "execution_count": 20,
     "metadata": {},
     "output_type": "execute_result"
    }
   ],
   "source": [
    "# Compute the number of different names used per 'reviewerIDs'\n",
    "names_per_id = df1.groupby('reviewerID')[\"reviewerName\"].unique()\n",
    "names_count = names_per_id.apply(lambda x : len(x))\n",
    "names_count.sort_values(ascending=False)"
   ]
  },
  {
   "cell_type": "code",
   "execution_count": 21,
   "metadata": {
    "ExecuteTime": {
     "end_time": "2017-05-21T19:06:00.190686",
     "start_time": "2017-05-21T19:06:00.172926"
    },
    "collapsed": true
   },
   "outputs": [],
   "source": [
    "df1 = df1.drop([\"reviewerID\", \"reviewerName\"], axis=1)"
   ]
  },
  {
   "cell_type": "markdown",
   "metadata": {
    "ExecuteTime": {
     "end_time": "2017-05-13T17:25:41.039855",
     "start_time": "2017-05-13T17:25:41.031511"
    }
   },
   "source": [
    "### summary\n",
    "> Defintion: `a summary of reviewer's opinion about the product`\n",
    "\n",
    "Let's look at this feature, with the **reviewText** next to it.\n",
    "\n",
    "As for the reviewText, we think that thise feature is really useful. We will be able to use the same pipeline as for `reviewText` to transform this feature to a numerical one. Also, we can create the same type of features from `summary` that we did for `reviewerText` ! We will do so for the step 2 & 3"
   ]
  },
  {
   "cell_type": "code",
   "execution_count": 22,
   "metadata": {
    "ExecuteTime": {
     "end_time": "2017-05-21T19:06:00.217604",
     "start_time": "2017-05-21T19:06:00.192339"
    }
   },
   "outputs": [
    {
     "data": {
      "text/html": [
       "<div>\n",
       "<style>\n",
       "    .dataframe thead tr:only-child th {\n",
       "        text-align: right;\n",
       "    }\n",
       "\n",
       "    .dataframe thead th {\n",
       "        text-align: left;\n",
       "    }\n",
       "\n",
       "    .dataframe tbody tr th {\n",
       "        vertical-align: top;\n",
       "    }\n",
       "</style>\n",
       "<table border=\"1\" class=\"dataframe\">\n",
       "  <thead>\n",
       "    <tr style=\"text-align: right;\">\n",
       "      <th></th>\n",
       "      <th>reviewText</th>\n",
       "      <th>summary</th>\n",
       "    </tr>\n",
       "  </thead>\n",
       "  <tbody>\n",
       "    <tr>\n",
       "      <th>0</th>\n",
       "      <td>It's a .50 Caliber Ammo Can. That largely sums...</td>\n",
       "      <td>Clean and Exactly as Advertised</td>\n",
       "    </tr>\n",
       "    <tr>\n",
       "      <th>1</th>\n",
       "      <td>This was a very good book. It kept me excited ...</td>\n",
       "      <td>Great read!</td>\n",
       "    </tr>\n",
       "    <tr>\n",
       "      <th>2</th>\n",
       "      <td>If you love coconut the way I do, you can't go...</td>\n",
       "      <td>If you love coconut, get this coffee</td>\n",
       "    </tr>\n",
       "    <tr>\n",
       "      <th>3</th>\n",
       "      <td>I recently switched from the Galaxy S3 to the ...</td>\n",
       "      <td>Superior Protection!!!</td>\n",
       "    </tr>\n",
       "    <tr>\n",
       "      <th>4</th>\n",
       "      <td>Good show,looks like the gap from season 2 to ...</td>\n",
       "      <td>Love the show, thanks for putting Season 3 on ...</td>\n",
       "    </tr>\n",
       "    <tr>\n",
       "      <th>5</th>\n",
       "      <td>I'm ordering more of these spoons, as one just...</td>\n",
       "      <td>Perfect for babies</td>\n",
       "    </tr>\n",
       "    <tr>\n",
       "      <th>6</th>\n",
       "      <td>We installed some sensor lights in the house f...</td>\n",
       "      <td>Nice little sensor light, good for  power fail...</td>\n",
       "    </tr>\n",
       "    <tr>\n",
       "      <th>7</th>\n",
       "      <td>It was 1979 and the B-52s were on Saturday Nig...</td>\n",
       "      <td>Defining An Era</td>\n",
       "    </tr>\n",
       "    <tr>\n",
       "      <th>8</th>\n",
       "      <td>My Manchester terrier eats so fast she chokes ...</td>\n",
       "      <td>Perfect Solution For Dogs That Gobble Food Too...</td>\n",
       "    </tr>\n",
       "    <tr>\n",
       "      <th>9</th>\n",
       "      <td>This movie starts off with some clever and fun...</td>\n",
       "      <td>Reverse Cinderella just doesn't cut it.</td>\n",
       "    </tr>\n",
       "    <tr>\n",
       "      <th>10</th>\n",
       "      <td>I bought one of these for each of my four cont...</td>\n",
       "      <td>Same as the other 1 star reviews...</td>\n",
       "    </tr>\n",
       "    <tr>\n",
       "      <th>11</th>\n",
       "      <td>I have to start by first saying at the end I w...</td>\n",
       "      <td>The Unfinished Song: Sacrifice</td>\n",
       "    </tr>\n",
       "    <tr>\n",
       "      <th>12</th>\n",
       "      <td>I purchased this scope to go along with my UTG...</td>\n",
       "      <td>Excellent Scope</td>\n",
       "    </tr>\n",
       "    <tr>\n",
       "      <th>13</th>\n",
       "      <td>I like this Leash , it is very light , an comp...</td>\n",
       "      <td>Works</td>\n",
       "    </tr>\n",
       "    <tr>\n",
       "      <th>14</th>\n",
       "      <td>These are good covers. They've held up to todd...</td>\n",
       "      <td>So far so good.</td>\n",
       "    </tr>\n",
       "    <tr>\n",
       "      <th>15</th>\n",
       "      <td>This is perfect for my Boston Terrier - she is...</td>\n",
       "      <td>Exactly as pictured</td>\n",
       "    </tr>\n",
       "    <tr>\n",
       "      <th>16</th>\n",
       "      <td>good quality plastic. Easy install template in...</td>\n",
       "      <td>good quality, easy to install</td>\n",
       "    </tr>\n",
       "    <tr>\n",
       "      <th>17</th>\n",
       "      <td>There are a few types of board games but only ...</td>\n",
       "      <td>Not another \"Bored\" on a Board</td>\n",
       "    </tr>\n",
       "    <tr>\n",
       "      <th>18</th>\n",
       "      <td>This is much lighter than my Frieling french p...</td>\n",
       "      <td>I love it</td>\n",
       "    </tr>\n",
       "    <tr>\n",
       "      <th>19</th>\n",
       "      <td>Sexaaay! I loved this book. The detail and des...</td>\n",
       "      <td>Sexy!</td>\n",
       "    </tr>\n",
       "    <tr>\n",
       "      <th>20</th>\n",
       "      <td>This most recent purchase of the Tea Bag Stain...</td>\n",
       "      <td>Very practical</td>\n",
       "    </tr>\n",
       "    <tr>\n",
       "      <th>21</th>\n",
       "      <td>Since my athletic shorts don't have side pocke...</td>\n",
       "      <td>Great lightweight carry-all</td>\n",
       "    </tr>\n",
       "    <tr>\n",
       "      <th>22</th>\n",
       "      <td>I was a bit bored with the mindless style ofAl...</td>\n",
       "      <td>I had almost Bought INFERNO+ a Couple Days Ago</td>\n",
       "    </tr>\n",
       "    <tr>\n",
       "      <th>23</th>\n",
       "      <td>I don't know what happened but one day I notic...</td>\n",
       "      <td>It really works</td>\n",
       "    </tr>\n",
       "    <tr>\n",
       "      <th>24</th>\n",
       "      <td>I think that I have a problem. I have not seen...</td>\n",
       "      <td>I am just not sure how to rate this!</td>\n",
       "    </tr>\n",
       "    <tr>\n",
       "      <th>25</th>\n",
       "      <td>A bit dull! Not so great. But I guess they do ...</td>\n",
       "      <td>Ehhhh</td>\n",
       "    </tr>\n",
       "    <tr>\n",
       "      <th>26</th>\n",
       "      <td>Bought this shadow and when you think of cherr...</td>\n",
       "      <td>Not \"cherry\"</td>\n",
       "    </tr>\n",
       "    <tr>\n",
       "      <th>27</th>\n",
       "      <td>I've ordered two of these kits in the aged whi...</td>\n",
       "      <td>Why No Protective Covering For The Back Plate???</td>\n",
       "    </tr>\n",
       "    <tr>\n",
       "      <th>28</th>\n",
       "      <td>The Morgan Sister series is fastly become one ...</td>\n",
       "      <td>Friend or Foe?</td>\n",
       "    </tr>\n",
       "    <tr>\n",
       "      <th>29</th>\n",
       "      <td>Duran's weeklong homecoming concerts at Wemble...</td>\n",
       "      <td>The original lineup is awesome</td>\n",
       "    </tr>\n",
       "    <tr>\n",
       "      <th>...</th>\n",
       "      <td>...</td>\n",
       "      <td>...</td>\n",
       "    </tr>\n",
       "    <tr>\n",
       "      <th>95970</th>\n",
       "      <td>Porcupine was my favorite Bunnymen album for t...</td>\n",
       "      <td>A fine transitional album</td>\n",
       "    </tr>\n",
       "    <tr>\n",
       "      <th>95971</th>\n",
       "      <td>I could not get this to work. I'm sure it's ju...</td>\n",
       "      <td>No Workie</td>\n",
       "    </tr>\n",
       "    <tr>\n",
       "      <th>95972</th>\n",
       "      <td>This watch felt very cheaply made when I first...</td>\n",
       "      <td>Feels cheap but has held up well.</td>\n",
       "    </tr>\n",
       "    <tr>\n",
       "      <th>95973</th>\n",
       "      <td>...Be aware that many of the tracks bear littl...</td>\n",
       "      <td>If you're considering this as a learning tool ...</td>\n",
       "    </tr>\n",
       "    <tr>\n",
       "      <th>95974</th>\n",
       "      <td>Best driving game I have ever played in a long...</td>\n",
       "      <td>Love the ride</td>\n",
       "    </tr>\n",
       "    <tr>\n",
       "      <th>95975</th>\n",
       "      <td>I remember these from high school.  They requi...</td>\n",
       "      <td>Love these loafers</td>\n",
       "    </tr>\n",
       "    <tr>\n",
       "      <th>95976</th>\n",
       "      <td>Great little camera for the price. Simple &amp; ta...</td>\n",
       "      <td>Great Value!</td>\n",
       "    </tr>\n",
       "    <tr>\n",
       "      <th>95977</th>\n",
       "      <td>These little tabs are very handy.  They're ess...</td>\n",
       "      <td>Very handy!</td>\n",
       "    </tr>\n",
       "    <tr>\n",
       "      <th>95978</th>\n",
       "      <td>For me, they are a bit too soft to actually re...</td>\n",
       "      <td>Bristles are very soft</td>\n",
       "    </tr>\n",
       "    <tr>\n",
       "      <th>95979</th>\n",
       "      <td>this is a wonderful product. It coved the grey...</td>\n",
       "      <td>eyebrow tint</td>\n",
       "    </tr>\n",
       "    <tr>\n",
       "      <th>95980</th>\n",
       "      <td>Our first weekend out with this tent we got ca...</td>\n",
       "      <td>Amazing in high wind.</td>\n",
       "    </tr>\n",
       "    <tr>\n",
       "      <th>95981</th>\n",
       "      <td>It applied as described, I have put wax on it ...</td>\n",
       "      <td>Clear spray</td>\n",
       "    </tr>\n",
       "    <tr>\n",
       "      <th>95982</th>\n",
       "      <td>I cant find minecraft for kindle fire so I saw...</td>\n",
       "      <td>Pretty cool</td>\n",
       "    </tr>\n",
       "    <tr>\n",
       "      <th>95983</th>\n",
       "      <td>good knife for the money but nothing special!</td>\n",
       "      <td>its okay!</td>\n",
       "    </tr>\n",
       "    <tr>\n",
       "      <th>95984</th>\n",
       "      <td>I purchased this as a backup charging cable fo...</td>\n",
       "      <td>A convenient, compact solution</td>\n",
       "    </tr>\n",
       "    <tr>\n",
       "      <th>95985</th>\n",
       "      <td>Good things about this game:1) Absolutely stun...</td>\n",
       "      <td>Fun if one had a time machine to travel two ye...</td>\n",
       "    </tr>\n",
       "    <tr>\n",
       "      <th>95986</th>\n",
       "      <td>This is the oem version of the mercedes one. I...</td>\n",
       "      <td>Fleece filter and comes with the rubbers that ...</td>\n",
       "    </tr>\n",
       "    <tr>\n",
       "      <th>95987</th>\n",
       "      <td>A great and easy install, only hick up --- it ...</td>\n",
       "      <td>A bit large, but works very well.</td>\n",
       "    </tr>\n",
       "    <tr>\n",
       "      <th>95988</th>\n",
       "      <td>This is one of my favourite albums of all time...</td>\n",
       "      <td>one of the best</td>\n",
       "    </tr>\n",
       "    <tr>\n",
       "      <th>95989</th>\n",
       "      <td>My cat loves these cubes and spends much time ...</td>\n",
       "      <td>Feline favorite, but destructible</td>\n",
       "    </tr>\n",
       "    <tr>\n",
       "      <th>95990</th>\n",
       "      <td>I'll try to be succinct:  1.  This isn't as go...</td>\n",
       "      <td>Don't believe the hype -</td>\n",
       "    </tr>\n",
       "    <tr>\n",
       "      <th>95991</th>\n",
       "      <td>One of the bowls arrived broken into pieces.  ...</td>\n",
       "      <td>Poor shipping and hard to use</td>\n",
       "    </tr>\n",
       "    <tr>\n",
       "      <th>95992</th>\n",
       "      <td>I really like this product. At first i was rea...</td>\n",
       "      <td>Good for me</td>\n",
       "    </tr>\n",
       "    <tr>\n",
       "      <th>95993</th>\n",
       "      <td>Aided in my sleep however I had very weird dre...</td>\n",
       "      <td>Helped with Sleep however</td>\n",
       "    </tr>\n",
       "    <tr>\n",
       "      <th>95994</th>\n",
       "      <td>It holds my TV on the wall. Easy to install an...</td>\n",
       "      <td>Exactly what it needs to be.</td>\n",
       "    </tr>\n",
       "    <tr>\n",
       "      <th>95995</th>\n",
       "      <td>I have to agree with the reviewer who said the...</td>\n",
       "      <td>Okay, but not the best</td>\n",
       "    </tr>\n",
       "    <tr>\n",
       "      <th>95996</th>\n",
       "      <td>This flashlight is a little bulky and fits int...</td>\n",
       "      <td>Great little flashlight</td>\n",
       "    </tr>\n",
       "    <tr>\n",
       "      <th>95997</th>\n",
       "      <td>First of all the seller, &amp;#34;ABETRADES&amp;#34; i...</td>\n",
       "      <td>Not the worst, but certainly could have done b...</td>\n",
       "    </tr>\n",
       "    <tr>\n",
       "      <th>95998</th>\n",
       "      <td>I was finally able to install a screen saver o...</td>\n",
       "      <td>Easy to install</td>\n",
       "    </tr>\n",
       "    <tr>\n",
       "      <th>95999</th>\n",
       "      <td>I enjoyed this movie quite a bit. There's alot...</td>\n",
       "      <td>My Review</td>\n",
       "    </tr>\n",
       "  </tbody>\n",
       "</table>\n",
       "<p>96000 rows × 2 columns</p>\n",
       "</div>"
      ],
      "text/plain": [
       "                                              reviewText  \\\n",
       "0      It's a .50 Caliber Ammo Can. That largely sums...   \n",
       "1      This was a very good book. It kept me excited ...   \n",
       "2      If you love coconut the way I do, you can't go...   \n",
       "3      I recently switched from the Galaxy S3 to the ...   \n",
       "4      Good show,looks like the gap from season 2 to ...   \n",
       "5      I'm ordering more of these spoons, as one just...   \n",
       "6      We installed some sensor lights in the house f...   \n",
       "7      It was 1979 and the B-52s were on Saturday Nig...   \n",
       "8      My Manchester terrier eats so fast she chokes ...   \n",
       "9      This movie starts off with some clever and fun...   \n",
       "10     I bought one of these for each of my four cont...   \n",
       "11     I have to start by first saying at the end I w...   \n",
       "12     I purchased this scope to go along with my UTG...   \n",
       "13     I like this Leash , it is very light , an comp...   \n",
       "14     These are good covers. They've held up to todd...   \n",
       "15     This is perfect for my Boston Terrier - she is...   \n",
       "16     good quality plastic. Easy install template in...   \n",
       "17     There are a few types of board games but only ...   \n",
       "18     This is much lighter than my Frieling french p...   \n",
       "19     Sexaaay! I loved this book. The detail and des...   \n",
       "20     This most recent purchase of the Tea Bag Stain...   \n",
       "21     Since my athletic shorts don't have side pocke...   \n",
       "22     I was a bit bored with the mindless style ofAl...   \n",
       "23     I don't know what happened but one day I notic...   \n",
       "24     I think that I have a problem. I have not seen...   \n",
       "25     A bit dull! Not so great. But I guess they do ...   \n",
       "26     Bought this shadow and when you think of cherr...   \n",
       "27     I've ordered two of these kits in the aged whi...   \n",
       "28     The Morgan Sister series is fastly become one ...   \n",
       "29     Duran's weeklong homecoming concerts at Wemble...   \n",
       "...                                                  ...   \n",
       "95970  Porcupine was my favorite Bunnymen album for t...   \n",
       "95971  I could not get this to work. I'm sure it's ju...   \n",
       "95972  This watch felt very cheaply made when I first...   \n",
       "95973  ...Be aware that many of the tracks bear littl...   \n",
       "95974  Best driving game I have ever played in a long...   \n",
       "95975  I remember these from high school.  They requi...   \n",
       "95976  Great little camera for the price. Simple & ta...   \n",
       "95977  These little tabs are very handy.  They're ess...   \n",
       "95978  For me, they are a bit too soft to actually re...   \n",
       "95979  this is a wonderful product. It coved the grey...   \n",
       "95980  Our first weekend out with this tent we got ca...   \n",
       "95981  It applied as described, I have put wax on it ...   \n",
       "95982  I cant find minecraft for kindle fire so I saw...   \n",
       "95983      good knife for the money but nothing special!   \n",
       "95984  I purchased this as a backup charging cable fo...   \n",
       "95985  Good things about this game:1) Absolutely stun...   \n",
       "95986  This is the oem version of the mercedes one. I...   \n",
       "95987  A great and easy install, only hick up --- it ...   \n",
       "95988  This is one of my favourite albums of all time...   \n",
       "95989  My cat loves these cubes and spends much time ...   \n",
       "95990  I'll try to be succinct:  1.  This isn't as go...   \n",
       "95991  One of the bowls arrived broken into pieces.  ...   \n",
       "95992  I really like this product. At first i was rea...   \n",
       "95993  Aided in my sleep however I had very weird dre...   \n",
       "95994  It holds my TV on the wall. Easy to install an...   \n",
       "95995  I have to agree with the reviewer who said the...   \n",
       "95996  This flashlight is a little bulky and fits int...   \n",
       "95997  First of all the seller, &#34;ABETRADES&#34; i...   \n",
       "95998  I was finally able to install a screen saver o...   \n",
       "95999  I enjoyed this movie quite a bit. There's alot...   \n",
       "\n",
       "                                                 summary  \n",
       "0                        Clean and Exactly as Advertised  \n",
       "1                                            Great read!  \n",
       "2                   If you love coconut, get this coffee  \n",
       "3                                 Superior Protection!!!  \n",
       "4      Love the show, thanks for putting Season 3 on ...  \n",
       "5                                     Perfect for babies  \n",
       "6      Nice little sensor light, good for  power fail...  \n",
       "7                                        Defining An Era  \n",
       "8      Perfect Solution For Dogs That Gobble Food Too...  \n",
       "9                Reverse Cinderella just doesn't cut it.  \n",
       "10                   Same as the other 1 star reviews...  \n",
       "11                        The Unfinished Song: Sacrifice  \n",
       "12                                       Excellent Scope  \n",
       "13                                                 Works  \n",
       "14                                       So far so good.  \n",
       "15                                   Exactly as pictured  \n",
       "16                         good quality, easy to install  \n",
       "17                        Not another \"Bored\" on a Board  \n",
       "18                                             I love it  \n",
       "19                                                 Sexy!  \n",
       "20                                        Very practical  \n",
       "21                           Great lightweight carry-all  \n",
       "22        I had almost Bought INFERNO+ a Couple Days Ago  \n",
       "23                                       It really works  \n",
       "24                  I am just not sure how to rate this!  \n",
       "25                                                 Ehhhh  \n",
       "26                                          Not \"cherry\"  \n",
       "27      Why No Protective Covering For The Back Plate???  \n",
       "28                                        Friend or Foe?  \n",
       "29                        The original lineup is awesome  \n",
       "...                                                  ...  \n",
       "95970                          A fine transitional album  \n",
       "95971                                          No Workie  \n",
       "95972                  Feels cheap but has held up well.  \n",
       "95973  If you're considering this as a learning tool ...  \n",
       "95974                                      Love the ride  \n",
       "95975                                 Love these loafers  \n",
       "95976                                       Great Value!  \n",
       "95977                                        Very handy!  \n",
       "95978                             Bristles are very soft  \n",
       "95979                                       eyebrow tint  \n",
       "95980                              Amazing in high wind.  \n",
       "95981                                        Clear spray  \n",
       "95982                                        Pretty cool  \n",
       "95983                                          its okay!  \n",
       "95984                     A convenient, compact solution  \n",
       "95985  Fun if one had a time machine to travel two ye...  \n",
       "95986  Fleece filter and comes with the rubbers that ...  \n",
       "95987                  A bit large, but works very well.  \n",
       "95988                                    one of the best  \n",
       "95989                  Feline favorite, but destructible  \n",
       "95990                           Don't believe the hype -  \n",
       "95991                      Poor shipping and hard to use  \n",
       "95992                                        Good for me  \n",
       "95993                          Helped with Sleep however  \n",
       "95994                       Exactly what it needs to be.  \n",
       "95995                             Okay, but not the best  \n",
       "95996                            Great little flashlight  \n",
       "95997  Not the worst, but certainly could have done b...  \n",
       "95998                                    Easy to install  \n",
       "95999                                          My Review  \n",
       "\n",
       "[96000 rows x 2 columns]"
      ]
     },
     "execution_count": 22,
     "metadata": {},
     "output_type": "execute_result"
    }
   ],
   "source": [
    "df1[[\"reviewText\", \"summary\"]]"
   ]
  },
  {
   "cell_type": "markdown",
   "metadata": {},
   "source": [
    "### unixReviewTime\n",
    "> Definition: `time of writing the review in UNIX format`\n",
    "\n",
    "This feature is redudant with **reviewTime**. We also drop it."
   ]
  },
  {
   "cell_type": "code",
   "execution_count": 23,
   "metadata": {
    "ExecuteTime": {
     "end_time": "2017-05-21T19:06:00.230519",
     "start_time": "2017-05-21T19:06:00.219711"
    },
    "collapsed": true
   },
   "outputs": [],
   "source": [
    "df1 = df1.drop([\"unixReviewTime\"], axis=1)"
   ]
  },
  {
   "cell_type": "markdown",
   "metadata": {},
   "source": [
    "### Preprocessing results\n",
    "We give below an overview of the final data frame that we will be using."
   ]
  },
  {
   "cell_type": "code",
   "execution_count": 24,
   "metadata": {
    "ExecuteTime": {
     "end_time": "2017-05-21T19:06:00.249795",
     "start_time": "2017-05-21T19:06:00.232150"
    },
    "scrolled": false
   },
   "outputs": [
    {
     "data": {
      "text/html": [
       "<div>\n",
       "<style>\n",
       "    .dataframe thead tr:only-child th {\n",
       "        text-align: right;\n",
       "    }\n",
       "\n",
       "    .dataframe thead th {\n",
       "        text-align: left;\n",
       "    }\n",
       "\n",
       "    .dataframe tbody tr th {\n",
       "        vertical-align: top;\n",
       "    }\n",
       "</style>\n",
       "<table border=\"1\" class=\"dataframe\">\n",
       "  <thead>\n",
       "    <tr style=\"text-align: right;\">\n",
       "      <th></th>\n",
       "      <th>category</th>\n",
       "      <th>overall</th>\n",
       "      <th>reviewText</th>\n",
       "      <th>summary</th>\n",
       "      <th>helpfulPercentage</th>\n",
       "      <th>reviewTextLength</th>\n",
       "      <th>reviewTextCountPoints</th>\n",
       "      <th>reviewTextCountExcl</th>\n",
       "      <th>reviewTextCountInterr</th>\n",
       "      <th>reviewTextCountComas</th>\n",
       "      <th>reviewTextPositiveSmiley</th>\n",
       "      <th>reviewTextNegativeSmiley</th>\n",
       "      <th>reviewTextAllCAPS</th>\n",
       "    </tr>\n",
       "  </thead>\n",
       "  <tbody>\n",
       "    <tr>\n",
       "      <th>0</th>\n",
       "      <td>Sports_and_Outdoors</td>\n",
       "      <td>5</td>\n",
       "      <td>It's a .50 Caliber Ammo Can. That largely sums...</td>\n",
       "      <td>Clean and Exactly as Advertised</td>\n",
       "      <td>1.561853</td>\n",
       "      <td>-0.106836</td>\n",
       "      <td>0.396455</td>\n",
       "      <td>-0.341411</td>\n",
       "      <td>-0.218245</td>\n",
       "      <td>-0.187700</td>\n",
       "      <td>0</td>\n",
       "      <td>0</td>\n",
       "      <td>False</td>\n",
       "    </tr>\n",
       "    <tr>\n",
       "      <th>1</th>\n",
       "      <td>Books</td>\n",
       "      <td>5</td>\n",
       "      <td>This was a very good book. It kept me excited ...</td>\n",
       "      <td>Great read!</td>\n",
       "      <td>-0.751631</td>\n",
       "      <td>-0.627738</td>\n",
       "      <td>-0.470575</td>\n",
       "      <td>-0.341411</td>\n",
       "      <td>-0.218245</td>\n",
       "      <td>-0.567760</td>\n",
       "      <td>0</td>\n",
       "      <td>0</td>\n",
       "      <td>False</td>\n",
       "    </tr>\n",
       "    <tr>\n",
       "      <th>2</th>\n",
       "      <td>Grocery_and_Gourmet_Food</td>\n",
       "      <td>5</td>\n",
       "      <td>If you love coconut the way I do, you can't go...</td>\n",
       "      <td>If you love coconut, get this coffee</td>\n",
       "      <td>-0.751631</td>\n",
       "      <td>-0.547035</td>\n",
       "      <td>-0.687332</td>\n",
       "      <td>0.215455</td>\n",
       "      <td>-0.218245</td>\n",
       "      <td>-0.441073</td>\n",
       "      <td>0</td>\n",
       "      <td>0</td>\n",
       "      <td>False</td>\n",
       "    </tr>\n",
       "    <tr>\n",
       "      <th>3</th>\n",
       "      <td>Cell_Phones_and_Accessories</td>\n",
       "      <td>5</td>\n",
       "      <td>I recently switched from the Galaxy S3 to the ...</td>\n",
       "      <td>Superior Protection!!!</td>\n",
       "      <td>-0.751631</td>\n",
       "      <td>1.256557</td>\n",
       "      <td>1.155105</td>\n",
       "      <td>1.886052</td>\n",
       "      <td>-0.218245</td>\n",
       "      <td>-0.314387</td>\n",
       "      <td>0</td>\n",
       "      <td>0</td>\n",
       "      <td>True</td>\n",
       "    </tr>\n",
       "    <tr>\n",
       "      <th>4</th>\n",
       "      <td>Amazon_Instant_Video</td>\n",
       "      <td>5</td>\n",
       "      <td>Good show,looks like the gap from season 2 to ...</td>\n",
       "      <td>Love the show, thanks for putting Season 3 on ...</td>\n",
       "      <td>-0.751631</td>\n",
       "      <td>-0.573936</td>\n",
       "      <td>-0.578953</td>\n",
       "      <td>-0.341411</td>\n",
       "      <td>2.760569</td>\n",
       "      <td>-0.187700</td>\n",
       "      <td>0</td>\n",
       "      <td>0</td>\n",
       "      <td>False</td>\n",
       "    </tr>\n",
       "  </tbody>\n",
       "</table>\n",
       "</div>"
      ],
      "text/plain": [
       "                      category  overall  \\\n",
       "0          Sports_and_Outdoors        5   \n",
       "1                        Books        5   \n",
       "2     Grocery_and_Gourmet_Food        5   \n",
       "3  Cell_Phones_and_Accessories        5   \n",
       "4         Amazon_Instant_Video        5   \n",
       "\n",
       "                                          reviewText  \\\n",
       "0  It's a .50 Caliber Ammo Can. That largely sums...   \n",
       "1  This was a very good book. It kept me excited ...   \n",
       "2  If you love coconut the way I do, you can't go...   \n",
       "3  I recently switched from the Galaxy S3 to the ...   \n",
       "4  Good show,looks like the gap from season 2 to ...   \n",
       "\n",
       "                                             summary  helpfulPercentage  \\\n",
       "0                    Clean and Exactly as Advertised           1.561853   \n",
       "1                                        Great read!          -0.751631   \n",
       "2               If you love coconut, get this coffee          -0.751631   \n",
       "3                             Superior Protection!!!          -0.751631   \n",
       "4  Love the show, thanks for putting Season 3 on ...          -0.751631   \n",
       "\n",
       "   reviewTextLength  reviewTextCountPoints  reviewTextCountExcl  \\\n",
       "0         -0.106836               0.396455            -0.341411   \n",
       "1         -0.627738              -0.470575            -0.341411   \n",
       "2         -0.547035              -0.687332             0.215455   \n",
       "3          1.256557               1.155105             1.886052   \n",
       "4         -0.573936              -0.578953            -0.341411   \n",
       "\n",
       "   reviewTextCountInterr  reviewTextCountComas  reviewTextPositiveSmiley  \\\n",
       "0              -0.218245             -0.187700                         0   \n",
       "1              -0.218245             -0.567760                         0   \n",
       "2              -0.218245             -0.441073                         0   \n",
       "3              -0.218245             -0.314387                         0   \n",
       "4               2.760569             -0.187700                         0   \n",
       "\n",
       "   reviewTextNegativeSmiley  reviewTextAllCAPS  \n",
       "0                         0              False  \n",
       "1                         0              False  \n",
       "2                         0              False  \n",
       "3                         0               True  \n",
       "4                         0              False  "
      ]
     },
     "execution_count": 24,
     "metadata": {},
     "output_type": "execute_result"
    }
   ],
   "source": [
    "df1.head()"
   ]
  },
  {
   "cell_type": "markdown",
   "metadata": {},
   "source": [
    "### Training, tuning and testing of models"
   ]
  },
  {
   "cell_type": "code",
   "execution_count": 25,
   "metadata": {
    "ExecuteTime": {
     "end_time": "2017-05-21T19:06:00.255330",
     "start_time": "2017-05-21T19:06:00.252201"
    },
    "collapsed": true
   },
   "outputs": [],
   "source": [
    "# The target feature --> CATEGORY\n",
    "y = df1.category"
   ]
  },
  {
   "cell_type": "code",
   "execution_count": 26,
   "metadata": {
    "ExecuteTime": {
     "end_time": "2017-05-21T19:11:45.387901",
     "start_time": "2017-05-21T19:06:00.257028"
    },
    "collapsed": true
   },
   "outputs": [],
   "source": [
    "# Features to transfrom from textual to numerical representation: REVIEWTEXT and SUMMARY\n",
    "# ---- ReviewText\n",
    "pipe_modified.fit(df1.reviewText)\n",
    "x_reviewText = pipe_modified.transform(df1.reviewText)\n",
    "\n",
    "# ---- Summary\n",
    "pipe_modified.fit(df1.summary)\n",
    "x_summary = pipe_modified.transform(df1.summary)"
   ]
  },
  {
   "cell_type": "markdown",
   "metadata": {},
   "source": [
    "> Note that for this first step, we decide to not use the features we create. Firstly, those features are more related to the sentiment of the text. We think that to find out the category of the product, the sentiment will not be part of. But since we are in the Data science world, we cannot only rely on our simple assumption. So we try with and without the new features. We test with the SVC model and without the features the model was better."
   ]
  },
  {
   "cell_type": "code",
   "execution_count": 27,
   "metadata": {
    "ExecuteTime": {
     "end_time": "2017-05-21T19:11:45.500677",
     "start_time": "2017-05-21T19:11:45.389054"
    },
    "collapsed": true
   },
   "outputs": [],
   "source": [
    "# Now we can combine all features into a single dataframe\n",
    "from scipy.sparse import hstack\n",
    "\n",
    "# Combine first the two `sparse matrix` filled with the TF-IDF scores \n",
    "X = hstack((x_reviewText, x_summary))"
   ]
  },
  {
   "cell_type": "code",
   "execution_count": 28,
   "metadata": {
    "ExecuteTime": {
     "end_time": "2017-05-21T19:11:45.505949",
     "start_time": "2017-05-21T19:11:45.502154"
    }
   },
   "outputs": [
    {
     "data": {
      "text/plain": [
       "(96000, 26180)"
      ]
     },
     "execution_count": 28,
     "metadata": {},
     "output_type": "execute_result"
    }
   ],
   "source": [
    "X.shape"
   ]
  },
  {
   "cell_type": "code",
   "execution_count": 29,
   "metadata": {
    "ExecuteTime": {
     "end_time": "2017-05-21T19:11:46.902268",
     "start_time": "2017-05-21T19:11:45.507472"
    }
   },
   "outputs": [
    {
     "name": "stderr",
     "output_type": "stream",
     "text": [
      "/root/miniconda2/lib/python2.7/site-packages/sklearn/cross_validation.py:44: DeprecationWarning: This module was deprecated in version 0.18 in favor of the model_selection module into which all the refactored classes and functions are moved. Also note that the interface of the new CV iterators are different from that of this module. This module will be removed in 0.20.\n",
      "  \"This module will be removed in 0.20.\", DeprecationWarning)\n"
     ]
    }
   ],
   "source": [
    "# Now we divided the feature into two sets: a trainin set and another one for testing. \n",
    "# Training set = 80% of the entire data\n",
    "# Testing set  = 20% of the entire data\n",
    "\n",
    "from sklearn.cross_validation import train_test_split\n",
    "seed = 2017\n",
    "X_train, X_test, y_train, y_test = train_test_split(X, y, test_size=0.2, random_state=seed)"
   ]
  },
  {
   "cell_type": "code",
   "execution_count": 30,
   "metadata": {
    "ExecuteTime": {
     "end_time": "2017-05-21T19:11:46.908761",
     "start_time": "2017-05-21T19:11:46.903853"
    }
   },
   "outputs": [
    {
     "name": "stdout",
     "output_type": "stream",
     "text": [
      "('X_train: ', (76800, 26180))\n",
      "('y_train: ', (76800,))\n",
      "('X_test:  ', (19200, 26180))\n",
      "('y_test:  ', (19200,))\n"
     ]
    }
   ],
   "source": [
    "# Train\n",
    "print(\"X_train: \", X_train.shape)\n",
    "print(\"y_train: \", y_train.shape)\n",
    "\n",
    "# Test\n",
    "print(\"X_test:  \", X_test.shape)\n",
    "print(\"y_test:  \", y_test.shape)"
   ]
  },
  {
   "cell_type": "markdown",
   "metadata": {},
   "source": [
    "## <a name=\"models1\"></a> Models\n",
    "\n",
    "For each step, we will try five different models:\n",
    "\n",
    "* Dummy Classifier\n",
    "* Linear Support Vector Classification\n",
    "* SGD\n",
    "* K-nearest neighbors \n",
    "* Random forest classifier\n",
    "\n",
    "For some of those models, we will use a *Grid search* to optimize the parameters to use"
   ]
  },
  {
   "cell_type": "code",
   "execution_count": 129,
   "metadata": {
    "ExecuteTime": {
     "end_time": "2017-05-21T19:11:46.915154",
     "start_time": "2017-05-21T19:11:46.910146"
    },
    "collapsed": true
   },
   "outputs": [],
   "source": [
    "from sklearn.metrics import confusion_matrix\n",
    "import itertools\n",
    "\n",
    "# We define an helper function to compute and print the precision of our models\n",
    "# Since we are dealing with a classifier, we decide to print only the 'precision? of the models\n",
    "# Therefore, we don't use recall, f measure and support\n",
    "def print_precision(y_t, y_pred):\n",
    "    p_and_rec=precision_recall_fscore_support(y_t,y_pred)\n",
    "    precision = p_and_rec[0]\n",
    "    recall = p_and_rec[1]\n",
    "    f_measure = p_and_rec[2]\n",
    "    support = p_and_rec[3]\n",
    "    print(\"Precision mean: \", np.mean(precision))\n",
    "\n",
    "# Prints a colorful confusion matrix\n",
    "# Adapted from\n",
    "# http://scikit-learn.org/stable/auto_examples/model_selection/plot_confusion_matrix.html#sphx-glr-auto-examples-model-selection-plot-confusion-matrix-py\n",
    "def plot_confusion_matrix(cm, classes,\n",
    "                          normalize=False,\n",
    "                          title='Confusion matrix',\n",
    "                          cmap=plt.cm.Blues):\n",
    "    \"\"\"\n",
    "    This function prints and plots the confusion matrix.\n",
    "    Normalization can be applied by setting `normalize=True`.\n",
    "    \"\"\"\n",
    "    plt.imshow(cm, interpolation='nearest', cmap=cmap)\n",
    "    plt.title(title)\n",
    "    plt.colorbar()\n",
    "\n",
    "    thresh = cm.max() / 2.\n",
    "    \n",
    "\n",
    "    plt.tight_layout()\n",
    "    plt.ylabel('True label')\n",
    "    plt.xlabel('Predicted label')\n",
    "    \n",
    "# Compute confusion matrix\n",
    "def print_confusion_matrix(y_test, y_pred, n_class):\n",
    "    cnf_matrix = confusion_matrix(y_test, y_pred)\n",
    "    np.set_printoptions(precision=2)\n",
    "    # Plot normalized confusion matrix\n",
    "    plt.figure()\n",
    "    # Hack, only 28mins left\n",
    "    if n_class == 24:\n",
    "        cc = [0, 1, 2, 3, 4, 5, 6, 7, 8, 9, 10, 11, 12, 13, 14, 15, 16, 16, 18, 19, 20, 21, 22, 23]\n",
    "    elif n_class == 2:\n",
    "        cc = [0, 1]\n",
    "    elif n_class == 5:\n",
    "        cc = [0, 1, 2, 3, 4]\n",
    "    plot_confusion_matrix(cnf_matrix, classes=cc, normalize=True,\n",
    "                          title='Normalized confusion matrix')\n",
    "    plt.show()"
   ]
  },
  {
   "cell_type": "markdown",
   "metadata": {},
   "source": [
    "### Baseline model (Dummy Classifier)"
   ]
  },
  {
   "cell_type": "code",
   "execution_count": 60,
   "metadata": {
    "ExecuteTime": {
     "end_time": "2017-05-21T19:11:47.395382",
     "start_time": "2017-05-21T19:11:46.916540"
    }
   },
   "outputs": [
    {
     "name": "stdout",
     "output_type": "stream",
     "text": [
      "('Precision mean: ', 0.044706184620732059)\n",
      "('1 / 24 = ', 0.041666666666666664)\n"
     ]
    }
   ],
   "source": [
    "from sklearn.metrics import precision_recall_fscore_support\n",
    "from sklearn.dummy import DummyClassifier\n",
    "baselineModel = DummyClassifier(random_state=seed)\n",
    "baselineModel.fit(X_train,y_train)\n",
    "y_pred = baselineModel.predict(X_test)\n",
    "\n",
    "print_precision(y_test, y_pred, 24)\n",
    "print(\"1 / 24 = \", 1/24)"
   ]
  },
  {
   "cell_type": "code",
   "execution_count": 67,
   "metadata": {},
   "outputs": [
    {
     "data": {
      "image/png": "[encoded data removed]",
      "text/plain": [
       "<matplotlib.figure.Figure at 0x7fddd3f97cd0>"
      ]
     },
     "metadata": {},
     "output_type": "display_data"
    }
   ],
   "source": [
    "from sklearn.metrics import confusion_matrix\n",
    "import itertools\n",
    "print_confusion_matrix(y_test, y_pred, 24)"
   ]
  },
  {
   "cell_type": "markdown",
   "metadata": {},
   "source": [
    "The baseline model has a precision that is close to 1/24. This is completly normal, since we have 24 features !<br />\n",
    "The confusion matrix has a random look, as expected."
   ]
  },
  {
   "cell_type": "code",
   "execution_count": 33,
   "metadata": {
    "ExecuteTime": {
     "end_time": "2017-05-21T19:11:47.400617",
     "start_time": "2017-05-21T19:11:47.396956"
    },
    "collapsed": true
   },
   "outputs": [],
   "source": [
    "baseline_precision = 0.0447061846207"
   ]
  },
  {
   "cell_type": "markdown",
   "metadata": {},
   "source": [
    "### Support Vector Model: Linear Support Vector Classification"
   ]
  },
  {
   "cell_type": "code",
   "execution_count": 68,
   "metadata": {
    "ExecuteTime": {
     "end_time": "2017-05-21T19:11:47.412425",
     "start_time": "2017-05-21T19:11:47.402209"
    }
   },
   "outputs": [
    {
     "name": "stdout",
     "output_type": "stream",
     "text": [
      "{'svm_clf__C': 0.125}\n"
     ]
    }
   ],
   "source": [
    "from sklearn.model_selection import GridSearchCV\n",
    "from sklearn.pipeline import Pipeline\n",
    "from sklearn.svm import LinearSVC\n",
    "\n",
    "# setup pipeline\n",
    "estimators = []\n",
    "estimators.append(('svm_clf', LinearSVC()))\n",
    "pipe = Pipeline(estimators)\n",
    "\n",
    "# tuning requsted parameter\n",
    "tuned_parameters = [{'svm_clf__C': np.logspace(-5,15,11,base=2.0)}]\n",
    "clf = GridSearchCV(pipe, tuned_parameters, cv=5, scoring='accuracy')\n",
    "\n",
    "run = False\n",
    "if run:\n",
    "    # Speed up computation: with only a subset of the training data for Grid search\n",
    "    subset_size = 10000\n",
    "    clf.fit(X_train[:subset_size],y_train[:subset_size])\n",
    "    print(clf.best_params_)\n",
    "else:\n",
    "    print(\"{'svm_clf__C': 0.125}\")"
   ]
  },
  {
   "cell_type": "code",
   "execution_count": 69,
   "metadata": {
    "ExecuteTime": {
     "end_time": "2017-05-21T19:11:47.416420",
     "start_time": "2017-05-21T19:11:47.413846"
    },
    "collapsed": true
   },
   "outputs": [],
   "source": [
    "# bect C value resulting from GridSearch\n",
    "best_C = 0.125"
   ]
  },
  {
   "cell_type": "code",
   "execution_count": 70,
   "metadata": {
    "ExecuteTime": {
     "end_time": "2017-05-21T19:11:55.559104",
     "start_time": "2017-05-21T19:11:47.417955"
    }
   },
   "outputs": [
    {
     "name": "stdout",
     "output_type": "stream",
     "text": [
      "('Precision mean: ', 0.76137184873449038)\n"
     ]
    }
   ],
   "source": [
    "svc = LinearSVC(C=best_C)\n",
    "svc.fit(X_train, y_train)\n",
    "\n",
    "y_pred = svc.predict(X_test)\n",
    "print_precision(y_test, y_pred)"
   ]
  },
  {
   "cell_type": "code",
   "execution_count": 71,
   "metadata": {
    "ExecuteTime": {
     "end_time": "2017-05-21T19:11:55.562680",
     "start_time": "2017-05-21T19:11:55.560432"
    },
    "collapsed": true
   },
   "outputs": [],
   "source": [
    "svc_precision = 0.761371848734"
   ]
  },
  {
   "cell_type": "code",
   "execution_count": 72,
   "metadata": {},
   "outputs": [
    {
     "data": {
      "image/png": "[encoded data removed]",
      "text/plain": [
       "<matplotlib.figure.Figure at 0x7fddd43afe50>"
      ]
     },
     "metadata": {},
     "output_type": "display_data"
    }
   ],
   "source": [
    "print_confusion_matrix(y_test, y_pred, 24)"
   ]
  },
  {
   "cell_type": "markdown",
   "metadata": {},
   "source": [
    "### Linear Model:  Stochastic Gradient Descent"
   ]
  },
  {
   "cell_type": "code",
   "execution_count": 73,
   "metadata": {
    "ExecuteTime": {
     "end_time": "2017-05-21T19:11:55.575287",
     "start_time": "2017-05-21T19:11:55.563942"
    }
   },
   "outputs": [
    {
     "name": "stdout",
     "output_type": "stream",
     "text": [
      "Best params: {'alpha': 1e-05, 'average': False, 'class_weight': None, 'epsilon': 0.1, 'eta0': 0.0, 'fit_intercept': True,           'l1_ratio': 0.15, 'learning_rate': 'optimal', 'loss': 'hinge', 'n_iter': 5, 'n_jobs': 1, 'penalty': 'l1', 'power_t': 0.5, 'random_state': 2017, 'shuffle': True, 'verbose': 0, 'warm_start': False}\n"
     ]
    }
   ],
   "source": [
    "from sklearn.linear_model import SGDClassifier\n",
    "from sklearn.model_selection import KFold\n",
    "from sklearn.model_selection import GridSearchCV\n",
    "parameters = {\n",
    "    'penalty': ['l1', 'l2', 'elasticnet'],\n",
    "    'alpha': [0.001, 0.0001, 0.00001, 0.000001]\n",
    "}\n",
    "cv = KFold(n_splits=10, random_state=seed)\n",
    "sgd = GridSearchCV(SGDClassifier(loss=\"hinge\", random_state=seed), parameters,\n",
    "     scoring=\"accuracy\", cv=cv)\n",
    "\n",
    "# Takes approximately 15 minutes to run with our machines\n",
    "runGridSearch = False\n",
    "if (runGridSearch):\n",
    "    X_train_s, X_test_s, y_train_s, y_test_s = train_test_split(X_train, y_train, test_size=0.001, random_state=seed)\n",
    "    X_train_s1, X_test_s1, y_train_s1, y_test_s1 = train_test_split(X_train_s, y_train_s, test_size=0.2, random_state=seed)\n",
    "    sgd.fit(X_train_s1, y_train_s1)\n",
    "    print(\"Best params:\", sgd.best_estimator_.get_params())\n",
    "else:\n",
    "    # Copy/Paste from the results of the 'if' block\n",
    "    print(\"Best params: {'alpha': 1e-05, 'average': False, 'class_weight': None, 'epsilon': 0.1, 'eta0': 0.0, 'fit_intercept': True, \\\n",
    "          'l1_ratio': 0.15, 'learning_rate': 'optimal', 'loss': 'hinge', 'n_iter': 5, 'n_jobs': 1, 'penalty': 'l1', 'power_t': 0.5, 'random_state': 2017, 'shuffle': True, 'verbose': 0, 'warm_start': False}\")"
   ]
  },
  {
   "cell_type": "code",
   "execution_count": 74,
   "metadata": {
    "ExecuteTime": {
     "end_time": "2017-05-21T19:12:04.906983",
     "start_time": "2017-05-21T19:11:55.576635"
    }
   },
   "outputs": [
    {
     "name": "stdout",
     "output_type": "stream",
     "text": [
      "('Precision mean: ', 0.73438582847698797)\n"
     ]
    }
   ],
   "source": [
    "# Build the SGDClassifier with the best params return by grid search\n",
    "sgd = SGDClassifier(alpha=1e-05, average=False, class_weight=None, epsilon=0.1, eta0=0.0, fit_intercept=True, l1_ratio=0.15, learning_rate='optimal', loss='hinge', n_iter=5, n_jobs=1, penalty='l1', power_t=0.5, random_state=2017, shuffle= True, verbose=0, warm_start=False)\n",
    "\n",
    "# Predict testing data\n",
    "sgd.fit(X_train, y_train)\n",
    "y_pred = sgd.predict(X_test)\n",
    "print_precision(y_test, y_pred)"
   ]
  },
  {
   "cell_type": "code",
   "execution_count": 76,
   "metadata": {
    "ExecuteTime": {
     "end_time": "2017-05-21T19:12:04.911788",
     "start_time": "2017-05-21T19:12:04.909040"
    },
    "collapsed": true
   },
   "outputs": [],
   "source": [
    "SGD_precision = 0.734385828477"
   ]
  },
  {
   "cell_type": "code",
   "execution_count": 77,
   "metadata": {},
   "outputs": [
    {
     "data": {
      "image/png": "[encoded data removed]",
      "text/plain": [
       "<matplotlib.figure.Figure at 0x7fddd27ac310>"
      ]
     },
     "metadata": {},
     "output_type": "display_data"
    }
   ],
   "source": [
    "print_confusion_matrix(y_test, y_pred, 24)"
   ]
  },
  {
   "cell_type": "markdown",
   "metadata": {},
   "source": [
    "### Similarity-based model: KNN Classifier"
   ]
  },
  {
   "cell_type": "code",
   "execution_count": 78,
   "metadata": {
    "ExecuteTime": {
     "end_time": "2017-05-21T19:12:04.918067",
     "start_time": "2017-05-21T19:12:04.913425"
    },
    "collapsed": true
   },
   "outputs": [],
   "source": [
    "from sklearn.model_selection import cross_val_score, cross_val_predict, GridSearchCV"
   ]
  },
  {
   "cell_type": "code",
   "execution_count": 79,
   "metadata": {
    "ExecuteTime": {
     "end_time": "2017-05-21T19:12:04.937381",
     "start_time": "2017-05-21T19:12:04.919991"
    }
   },
   "outputs": [
    {
     "name": "stdout",
     "output_type": "stream",
     "text": [
      "Pipeline(steps=[('knn_clf', KNeighborsClassifier(algorithm='brute', leaf_size=30, metric='minkowski',           metric_params=None, n_jobs=1, n_neighbors=61, p=2,           weights='uniform'))])\n"
     ]
    }
   ],
   "source": [
    "from sklearn.neighbors import KNeighborsClassifier\n",
    "estimators = []\n",
    "estimators.append(('knn_clf', KNeighborsClassifier()))\n",
    "knn_clf_pipe = Pipeline(estimators)\n",
    "knn_clf_pipe.set_params(knn_clf__algorithm='brute')\n",
    "knn_clf_pipe.set_params(knn_clf__weights='distance')\n",
    "\n",
    "# create a grid search over n_neighbors values\n",
    "# We decided to test from a large variety of neighbors possible. To speed up the computation time, we didn't test all possibilities, but use a step between each number\n",
    "parameters = {\n",
    "        'knn_clf__n_neighbors' : range(1,151,10)\n",
    "}\n",
    "estimator_knnclf = GridSearchCV(knn_clf_pipe, parameters, cv=5)\n",
    "\n",
    "run = False\n",
    "if run:\n",
    "    # With our machines, we had several memory errors. Therefore we decide to use less data in order to have some results\n",
    "    subset_size = 10000\n",
    "    # evaluate the grid search and print best regressor\n",
    "    estimator_knnclf.fit(X_train[:subset_size], y_train[:subset_size])\n",
    "    print(estimator_knnclf.best_estimator_)\n",
    "else:\n",
    "    # Copy/Paste from the results of the 'if' block\n",
    "    print(\"Pipeline(steps=[('knn_clf', KNeighborsClassifier(algorithm='brute', leaf_size=30, metric='minkowski',\\\n",
    "           metric_params=None, n_jobs=1, n_neighbors=61, p=2,\\\n",
    "           weights='uniform'))])\")"
   ]
  },
  {
   "cell_type": "code",
   "execution_count": 80,
   "metadata": {
    "ExecuteTime": {
     "end_time": "2017-05-21T19:12:04.942483",
     "start_time": "2017-05-21T19:12:04.939018"
    },
    "collapsed": true
   },
   "outputs": [],
   "source": [
    "# best number of neighbors obtained using GridSearchCV\n",
    "best_clf_neighbors = 61"
   ]
  },
  {
   "cell_type": "code",
   "execution_count": 81,
   "metadata": {
    "ExecuteTime": {
     "end_time": "2017-05-21T19:12:11.308998",
     "start_time": "2017-05-21T19:12:04.944311"
    }
   },
   "outputs": [
    {
     "name": "stdout",
     "output_type": "stream",
     "text": [
      "('Precision mean: ', 0.47742667436221681)\n"
     ]
    }
   ],
   "source": [
    "# fix the number of neighbors to the best value\n",
    "knn_clf_pipe.set_params(knn_clf__n_neighbors=best_clf_neighbors)\n",
    "\n",
    "# fit the model to the training set\n",
    "knn_clf_pipe.fit(X_train, y_train)\n",
    "\n",
    "y_pred = knn_clf_pipe.predict(X_test[:1000])\n",
    "print_precision(y_test[:1000], y_pred)"
   ]
  },
  {
   "cell_type": "code",
   "execution_count": 82,
   "metadata": {
    "ExecuteTime": {
     "end_time": "2017-05-21T19:12:11.314125",
     "start_time": "2017-05-21T19:12:11.310869"
    },
    "collapsed": true
   },
   "outputs": [],
   "source": [
    "knn_precision = 0.477426674362"
   ]
  },
  {
   "cell_type": "code",
   "execution_count": 84,
   "metadata": {},
   "outputs": [
    {
     "data": {
      "image/png": "[encoded data removed]",
      "text/plain": [
       "<matplotlib.figure.Figure at 0x7fddd3ca4cd0>"
      ]
     },
     "metadata": {},
     "output_type": "display_data"
    }
   ],
   "source": [
    "print_confusion_matrix(y_test[:1000], y_pred, 24)"
   ]
  },
  {
   "cell_type": "markdown",
   "metadata": {},
   "source": [
    "### Information Based model: Random Forest Classifier"
   ]
  },
  {
   "cell_type": "code",
   "execution_count": 85,
   "metadata": {
    "ExecuteTime": {
     "end_time": "2017-05-21T19:12:11.340003",
     "start_time": "2017-05-21T19:12:11.315584"
    }
   },
   "outputs": [
    {
     "name": "stdout",
     "output_type": "stream",
     "text": [
      "{'max_depth': 41, 'n_estimators': 701}\n"
     ]
    }
   ],
   "source": [
    "from sklearn.ensemble import RandomForestClassifier\n",
    "tuned_parameters = {\n",
    "    'n_estimators': range(1,801,100),\n",
    "    'max_depth': range(1,101,20)\n",
    "    }\n",
    "\n",
    "rf_clf = GridSearchCV(RandomForestClassifier(), tuned_parameters, cv=5, scoring='accuracy')\n",
    "\n",
    "run = False\n",
    "if run:\n",
    "    # As for before, we need to use less data to avoid 'memory_errors'\n",
    "    subset_size = 1000\n",
    "    rf_clf.fit(X_train[:subset_size],y_train[:subset_size])\n",
    "    print(rf_clf.best_params_)\n",
    "else:\n",
    "    print(\"{'max_depth': 41, 'n_estimators': 701}\")"
   ]
  },
  {
   "cell_type": "code",
   "execution_count": 86,
   "metadata": {
    "ExecuteTime": {
     "end_time": "2017-05-21T19:12:11.348673",
     "start_time": "2017-05-21T19:12:11.341629"
    }
   },
   "outputs": [
    {
     "name": "stdout",
     "output_type": "stream",
     "text": [
      "{'max_depth': 42, 'n_estimators': 752}\n"
     ]
    }
   ],
   "source": [
    "tuned_parameters = {\n",
    "    'n_estimators': range(602,801,30),\n",
    "    'max_depth': range(32,51,5)\n",
    "    }\n",
    "\n",
    "rf_clf = GridSearchCV(RandomForestClassifier(), tuned_parameters, cv=5, scoring='accuracy')\n",
    "\n",
    "run = False\n",
    "if run:\n",
    "    # As for before, we need to use less data to avoid 'memory_errors'\n",
    "    subset_size = 1000\n",
    "    rf_clf.fit(X_train[:subset_size],y_train[:subset_size])\n",
    "    print(rf_clf.best_params_)\n",
    "else:\n",
    "    print(\"{'max_depth': 42, 'n_estimators': 752}\")"
   ]
  },
  {
   "cell_type": "code",
   "execution_count": 87,
   "metadata": {
    "ExecuteTime": {
     "end_time": "2017-05-21T19:12:11.353051",
     "start_time": "2017-05-21T19:12:11.349986"
    },
    "collapsed": true
   },
   "outputs": [],
   "source": [
    "best_n_estimators = 752\n",
    "best_clf_tree_depth = 42"
   ]
  },
  {
   "cell_type": "code",
   "execution_count": 88,
   "metadata": {
    "ExecuteTime": {
     "end_time": "2017-05-21T19:13:29.885534",
     "start_time": "2017-05-21T19:12:11.354418"
    }
   },
   "outputs": [
    {
     "name": "stdout",
     "output_type": "stream",
     "text": [
      "('Precision mean: ', 0.62913790136827785)\n"
     ]
    }
   ],
   "source": [
    "rf_clf = RandomForestClassifier(n_estimators=best_n_estimators, max_depth=best_clf_tree_depth)\n",
    "\n",
    "# As for before, we need to use less data to avoid 'memory_errors' and speed up the all computation\n",
    "subset_size = 10000\n",
    "rf_clf.fit(X_train[:subset_size],y_train[:subset_size])\n",
    "\n",
    "y_pred = rf_clf.predict(X_test)\n",
    "print_precision(y_test, y_pred)"
   ]
  },
  {
   "cell_type": "code",
   "execution_count": 90,
   "metadata": {
    "ExecuteTime": {
     "end_time": "2017-05-21T19:13:29.890815",
     "start_time": "2017-05-21T19:13:29.887670"
    },
    "collapsed": true
   },
   "outputs": [],
   "source": [
    "randomForest_precision = 0.630331140822"
   ]
  },
  {
   "cell_type": "code",
   "execution_count": 92,
   "metadata": {},
   "outputs": [
    {
     "data": {
      "image/png": "[encoded data removed]",
      "text/plain": [
       "<matplotlib.figure.Figure at 0x7fddd1c26ed0>"
      ]
     },
     "metadata": {},
     "output_type": "display_data"
    }
   ],
   "source": [
    "print_confusion_matrix(y_test, y_pred, 24)"
   ]
  },
  {
   "cell_type": "markdown",
   "metadata": {},
   "source": [
    "This model is both very slow and underperfomes."
   ]
  },
  {
   "cell_type": "markdown",
   "metadata": {},
   "source": [
    "## <a name=\"modelscomparison1\"></a> Models comparison\n",
    "We rank our models by the accuracy it achieved with the test data."
   ]
  },
  {
   "cell_type": "code",
   "execution_count": 93,
   "metadata": {
    "ExecuteTime": {
     "end_time": "2017-05-21T19:14:02.370286",
     "start_time": "2017-05-21T19:14:02.194142"
    }
   },
   "outputs": [
    {
     "data": {
      "image/png": "[encoded data removed]",
      "text/plain": [
       "<matplotlib.figure.Figure at 0x7fddd2173c50>"
      ]
     },
     "metadata": {},
     "output_type": "display_data"
    }
   ],
   "source": [
    "models_precision = [baseline_precision, svc_precision, SGD_precision, knn_precision, randomForest_precision]\n",
    "models = [\"Baseline\", \"SVC\", \"SGD\", \"KNN\", \"Random Forest\"]\n",
    "\n",
    "models_df = pd.DataFrame(models_precision, models)\n",
    "models_df[0].plot(kind='bar')\n",
    "plt.show()"
   ]
  },
  {
   "cell_type": "code",
   "execution_count": 94,
   "metadata": {
    "ExecuteTime": {
     "end_time": "2017-05-21T19:14:04.967851",
     "start_time": "2017-05-21T19:14:04.961212"
    }
   },
   "outputs": [
    {
     "data": {
      "text/plain": [
       "[0.0447061846207,\n",
       " 0.761371848734,\n",
       " 0.734385828477,\n",
       " 0.477426674362,\n",
       " 0.630331140822]"
      ]
     },
     "execution_count": 94,
     "metadata": {},
     "output_type": "execute_result"
    }
   ],
   "source": [
    "models_precision"
   ]
  },
  {
   "cell_type": "markdown",
   "metadata": {},
   "source": [
    "As we can see, the two linear models perform the best among the others. We will use the **SVC model** to predict the unseen data, as it performs better with our test data. \n",
    "\n",
    "Compare to the baseline model, we can observe that our models aren't bad ! Almost 80% of accuracy for a 24 classes classifier is an acceptable result in our opinion."
   ]
  },
  {
   "cell_type": "markdown",
   "metadata": {},
   "source": [
    "## <a name=\"unseen1\"></a>Prediction of the unseen data"
   ]
  },
  {
   "cell_type": "code",
   "execution_count": 95,
   "metadata": {
    "ExecuteTime": {
     "end_time": "2017-05-21T19:14:18.673709",
     "start_time": "2017-05-21T19:14:18.211783"
    }
   },
   "outputs": [
    {
     "data": {
      "text/html": [
       "<div>\n",
       "<style>\n",
       "    .dataframe thead tr:only-child th {\n",
       "        text-align: right;\n",
       "    }\n",
       "\n",
       "    .dataframe thead th {\n",
       "        text-align: left;\n",
       "    }\n",
       "\n",
       "    .dataframe tbody tr th {\n",
       "        vertical-align: top;\n",
       "    }\n",
       "</style>\n",
       "<table border=\"1\" class=\"dataframe\">\n",
       "  <thead>\n",
       "    <tr style=\"text-align: right;\">\n",
       "      <th></th>\n",
       "      <th>Unnamed: 0</th>\n",
       "      <th>reviewerID</th>\n",
       "      <th>asin</th>\n",
       "      <th>reviewerName</th>\n",
       "      <th>helpful</th>\n",
       "      <th>reviewText</th>\n",
       "      <th>overall</th>\n",
       "      <th>summary</th>\n",
       "      <th>unixReviewTime</th>\n",
       "      <th>reviewTime</th>\n",
       "      <th>label</th>\n",
       "    </tr>\n",
       "  </thead>\n",
       "  <tbody>\n",
       "    <tr>\n",
       "      <th>17883</th>\n",
       "      <td>17883</td>\n",
       "      <td>A3TY5FFEYD06JL</td>\n",
       "      <td>0005119367</td>\n",
       "      <td>Diane F. Adams \"onesweetdeedee\"</td>\n",
       "      <td>[1, 1]</td>\n",
       "      <td>In my opinion I think Joseph is a great movie,...</td>\n",
       "      <td>5.0</td>\n",
       "      <td>My review of Joseph</td>\n",
       "      <td>1141257600</td>\n",
       "      <td>03 2, 2006</td>\n",
       "      <td>?</td>\n",
       "    </tr>\n",
       "    <tr>\n",
       "      <th>17369</th>\n",
       "      <td>17369</td>\n",
       "      <td>A3H0ZQ74ITU83J</td>\n",
       "      <td>1617160377</td>\n",
       "      <td>Mom and Teacher</td>\n",
       "      <td>[0, 1]</td>\n",
       "      <td>This item is a great language program, but you...</td>\n",
       "      <td>5.0</td>\n",
       "      <td>Great learning tool</td>\n",
       "      <td>1299110400</td>\n",
       "      <td>03 3, 2011</td>\n",
       "      <td>?</td>\n",
       "    </tr>\n",
       "    <tr>\n",
       "      <th>2192</th>\n",
       "      <td>2192</td>\n",
       "      <td>A3O1X0U1ELQICF</td>\n",
       "      <td>0123456479</td>\n",
       "      <td>Bud1108</td>\n",
       "      <td>[0, 1]</td>\n",
       "      <td>This is a nice jewelry organizer but it's far ...</td>\n",
       "      <td>4.0</td>\n",
       "      <td>I wouldn't call it huge</td>\n",
       "      <td>1370908800</td>\n",
       "      <td>06 11, 2013</td>\n",
       "      <td>?</td>\n",
       "    </tr>\n",
       "    <tr>\n",
       "      <th>18260</th>\n",
       "      <td>18260</td>\n",
       "      <td>A241RJPMBKP8JP</td>\n",
       "      <td>0739075934</td>\n",
       "      <td>Dr. Mark Turiano \"DrBoom\"</td>\n",
       "      <td>[2, 2]</td>\n",
       "      <td>I got this because I really like Billy Martin'...</td>\n",
       "      <td>5.0</td>\n",
       "      <td>Spend and afternoon with a master.</td>\n",
       "      <td>1311033600</td>\n",
       "      <td>07 19, 2011</td>\n",
       "      <td>?</td>\n",
       "    </tr>\n",
       "    <tr>\n",
       "      <th>12015</th>\n",
       "      <td>12015</td>\n",
       "      <td>AQ7U2EPGHKT6J</td>\n",
       "      <td>1934653039</td>\n",
       "      <td>arlene hug</td>\n",
       "      <td>[1, 1]</td>\n",
       "      <td>I bought this newspaper for my son for Christm...</td>\n",
       "      <td>5.0</td>\n",
       "      <td>Boston Red Sox Greatest Moments Newspaper</td>\n",
       "      <td>1360627200</td>\n",
       "      <td>02 12, 2013</td>\n",
       "      <td>?</td>\n",
       "    </tr>\n",
       "  </tbody>\n",
       "</table>\n",
       "</div>"
      ],
      "text/plain": [
       "       Unnamed: 0      reviewerID        asin  \\\n",
       "17883       17883  A3TY5FFEYD06JL  0005119367   \n",
       "17369       17369  A3H0ZQ74ITU83J  1617160377   \n",
       "2192         2192  A3O1X0U1ELQICF  0123456479   \n",
       "18260       18260  A241RJPMBKP8JP  0739075934   \n",
       "12015       12015   AQ7U2EPGHKT6J  1934653039   \n",
       "\n",
       "                          reviewerName helpful  \\\n",
       "17883  Diane F. Adams \"onesweetdeedee\"  [1, 1]   \n",
       "17369                  Mom and Teacher  [0, 1]   \n",
       "2192                           Bud1108  [0, 1]   \n",
       "18260        Dr. Mark Turiano \"DrBoom\"  [2, 2]   \n",
       "12015                       arlene hug  [1, 1]   \n",
       "\n",
       "                                              reviewText  overall  \\\n",
       "17883  In my opinion I think Joseph is a great movie,...      5.0   \n",
       "17369  This item is a great language program, but you...      5.0   \n",
       "2192   This is a nice jewelry organizer but it's far ...      4.0   \n",
       "18260  I got this because I really like Billy Martin'...      5.0   \n",
       "12015  I bought this newspaper for my son for Christm...      5.0   \n",
       "\n",
       "                                         summary  unixReviewTime   reviewTime  \\\n",
       "17883                        My review of Joseph      1141257600   03 2, 2006   \n",
       "17369                        Great learning tool      1299110400   03 3, 2011   \n",
       "2192                     I wouldn't call it huge      1370908800  06 11, 2013   \n",
       "18260         Spend and afternoon with a master.      1311033600  07 19, 2011   \n",
       "12015  Boston Red Sox Greatest Moments Newspaper      1360627200  02 12, 2013   \n",
       "\n",
       "      label  \n",
       "17883     ?  \n",
       "17369     ?  \n",
       "2192      ?  \n",
       "18260     ?  \n",
       "12015     ?  "
      ]
     },
     "execution_count": 95,
     "metadata": {},
     "output_type": "execute_result"
    }
   ],
   "source": [
    "# We will apply the same modification as for the preprocessing step for this new dataset\n",
    "\n",
    "!gunzip -c amazon_step1_unseen.csv.gz > amazon_step1_unseen.csv\n",
    "df1_unseen = pd.read_csv(\"amazon_step1_unseen.csv\")\n",
    "\n",
    "df1_unseen.sample(5)"
   ]
  },
  {
   "cell_type": "code",
   "execution_count": 96,
   "metadata": {
    "ExecuteTime": {
     "end_time": "2017-05-21T19:14:19.171192",
     "start_time": "2017-05-21T19:14:19.143268"
    }
   },
   "outputs": [
    {
     "data": {
      "text/plain": [
       "Unnamed: 0         0\n",
       "reviewerID         0\n",
       "asin               0\n",
       "reviewerName      90\n",
       "helpful            0\n",
       "reviewText         7\n",
       "overall            0\n",
       "summary            1\n",
       "unixReviewTime     0\n",
       "reviewTime         0\n",
       "label              0\n",
       "dtype: int64"
      ]
     },
     "execution_count": 96,
     "metadata": {},
     "output_type": "execute_result"
    }
   ],
   "source": [
    "# Verifiy if this data as null values\n",
    "df1_unseen.isnull().sum()"
   ]
  },
  {
   "cell_type": "markdown",
   "metadata": {},
   "source": [
    "Ah ! Compare to the training dataset, this validation data has some null values within two features of interest: `reviewText` and `summary`. \n",
    "\n",
    "We cannot drop those rows from our dataset: we need to predict the category of the product in a way ! We decide to replace some null entries by an empty string. For example, when the `reviewText` field is missing, we hope that the `summary`feature will be enough to predit the category."
   ]
  },
  {
   "cell_type": "code",
   "execution_count": 97,
   "metadata": {
    "ExecuteTime": {
     "end_time": "2017-05-21T19:14:22.871514",
     "start_time": "2017-05-21T19:14:22.837059"
    }
   },
   "outputs": [
    {
     "data": {
      "text/plain": [
       "Unnamed: 0         0\n",
       "reviewerID         0\n",
       "asin               0\n",
       "reviewerName      90\n",
       "helpful            0\n",
       "reviewText         0\n",
       "overall            0\n",
       "summary            0\n",
       "unixReviewTime     0\n",
       "reviewTime         0\n",
       "label              0\n",
       "dtype: int64"
      ]
     },
     "execution_count": 97,
     "metadata": {},
     "output_type": "execute_result"
    }
   ],
   "source": [
    "df1_unseen.reviewText.fillna(\"\", inplace=True)\n",
    "df1_unseen.summary.fillna(\"\", inplace=True)\n",
    "\n",
    "# Assert that there is no more null values within this two features\n",
    "df1_unseen.isnull().sum()"
   ]
  },
  {
   "cell_type": "code",
   "execution_count": 98,
   "metadata": {
    "ExecuteTime": {
     "end_time": "2017-05-21T19:17:52.379881",
     "start_time": "2017-05-21T19:14:25.376535"
    },
    "collapsed": true
   },
   "outputs": [],
   "source": [
    "# TF-IDF for 'reviewText'\n",
    "pipe_modified.fit(df1.reviewText)\n",
    "x_reviewText = pipe_modified.transform(df1_unseen.reviewText)\n",
    "\n",
    "# TF-IDF for 'summary'\n",
    "pipe_modified.fit(df1.summary)\n",
    "x_summary = pipe_modified.transform(df1_unseen.summary)\n",
    "\n",
    "# Merge all features into a single dataframe\n",
    "X_unseen = hstack((x_reviewText, x_summary))"
   ]
  },
  {
   "cell_type": "code",
   "execution_count": 99,
   "metadata": {
    "ExecuteTime": {
     "end_time": "2017-05-21T19:18:04.149148",
     "start_time": "2017-05-21T19:17:52.381489"
    },
    "collapsed": true
   },
   "outputs": [],
   "source": [
    "# SVC Classifier gives use the best prediction accuracy, we use it \n",
    "svc = LinearSVC(C=best_C)\n",
    "svc.fit(X, y)\n",
    "\n",
    "y_unseen_pred = svc.predict(X_unseen)"
   ]
  },
  {
   "cell_type": "markdown",
   "metadata": {},
   "source": [
    "> Note that for predicting the unseen data, we use the totallity of the training data !"
   ]
  },
  {
   "cell_type": "code",
   "execution_count": 100,
   "metadata": {
    "ExecuteTime": {
     "end_time": "2017-05-21T19:20:16.247594",
     "start_time": "2017-05-21T19:20:16.216304"
    },
    "collapsed": true
   },
   "outputs": [],
   "source": [
    "# export the prediction into a file named \"pred1.txt\"\n",
    "file = open('pred1.txt', 'w')\n",
    "for item in y_unseen_pred:\n",
    "  file.write(\"%s\\n\" % item)"
   ]
  },
  {
   "cell_type": "markdown",
   "metadata": {},
   "source": [
    "# <a name=\"step2\"> </a>Step 2\n",
    "\n",
    "> Predict whether a product review has 5 stars rating or not (yes/no), based on the reviewText field. The dataset for this step is filtered down to the Digital_Music category. Construct the problem as a binary classification (rank 5: 1, others: 0).\n",
    ">\n",
    "> `f(reviewText) -> overall (5 or not)` "
   ]
  },
  {
   "cell_type": "markdown",
   "metadata": {},
   "source": [
    "## <a name=\"preprocessing2\"> </a> Preprocessing"
   ]
  },
  {
   "cell_type": "code",
   "execution_count": 101,
   "metadata": {
    "ExecuteTime": {
     "end_time": "2017-05-21T19:21:46.098430",
     "start_time": "2017-05-21T19:21:43.050960"
    }
   },
   "outputs": [
    {
     "data": {
      "text/html": [
       "<div>\n",
       "<style>\n",
       "    .dataframe thead tr:only-child th {\n",
       "        text-align: right;\n",
       "    }\n",
       "\n",
       "    .dataframe thead th {\n",
       "        text-align: left;\n",
       "    }\n",
       "\n",
       "    .dataframe tbody tr th {\n",
       "        vertical-align: top;\n",
       "    }\n",
       "</style>\n",
       "<table border=\"1\" class=\"dataframe\">\n",
       "  <thead>\n",
       "    <tr style=\"text-align: right;\">\n",
       "      <th></th>\n",
       "      <th>asin</th>\n",
       "      <th>helpful</th>\n",
       "      <th>overall</th>\n",
       "      <th>reviewText</th>\n",
       "      <th>reviewTime</th>\n",
       "      <th>reviewerID</th>\n",
       "      <th>reviewerName</th>\n",
       "      <th>summary</th>\n",
       "      <th>unixReviewTime</th>\n",
       "    </tr>\n",
       "  </thead>\n",
       "  <tbody>\n",
       "    <tr>\n",
       "      <th>12823</th>\n",
       "      <td>B000002H72</td>\n",
       "      <td>[1, 1]</td>\n",
       "      <td>5</td>\n",
       "      <td>Having always seemingly been compared to \"Nirv...</td>\n",
       "      <td>10 29, 2003</td>\n",
       "      <td>A1XNPOQDLLJJU3</td>\n",
       "      <td>fetish_2000</td>\n",
       "      <td>Surprisingly there are those, that aren&amp;#65533...</td>\n",
       "      <td>1067385600</td>\n",
       "    </tr>\n",
       "    <tr>\n",
       "      <th>48618</th>\n",
       "      <td>B0007NFL18</td>\n",
       "      <td>[3, 4]</td>\n",
       "      <td>4</td>\n",
       "      <td>Lets not kid ourselves here; there aren't many...</td>\n",
       "      <td>03 5, 2005</td>\n",
       "      <td>A12OZZLO1QNA9M</td>\n",
       "      <td>josak</td>\n",
       "      <td>On par,  if not better, than \"Get Rich'\"</td>\n",
       "      <td>1109980800</td>\n",
       "    </tr>\n",
       "    <tr>\n",
       "      <th>64629</th>\n",
       "      <td>B00IDXIP1M</td>\n",
       "      <td>[1, 1]</td>\n",
       "      <td>5</td>\n",
       "      <td>&amp;#8220;Best Day Of My Life&amp;#8221; by American ...</td>\n",
       "      <td>04 19, 2014</td>\n",
       "      <td>A2H3JURQZOHVMB</td>\n",
       "      <td>Stella Carrier \"joyfulwoman2078\"</td>\n",
       "      <td>Emotionally Pleasing Melody</td>\n",
       "      <td>1397865600</td>\n",
       "    </tr>\n",
       "    <tr>\n",
       "      <th>15278</th>\n",
       "      <td>B000002KHB</td>\n",
       "      <td>[22, 29]</td>\n",
       "      <td>5</td>\n",
       "      <td>First of all folks. MACHINE HEAD is not the on...</td>\n",
       "      <td>04 24, 2000</td>\n",
       "      <td>A2P0PLCR7JWWNR</td>\n",
       "      <td>James E. Lane \"jaminjim\"</td>\n",
       "      <td>THE FIREBALL WE RODE WAS MOVING,BUT NOW WE GOT...</td>\n",
       "      <td>956534400</td>\n",
       "    </tr>\n",
       "    <tr>\n",
       "      <th>29034</th>\n",
       "      <td>B00000JC6C</td>\n",
       "      <td>[4, 9]</td>\n",
       "      <td>3</td>\n",
       "      <td>Why don't I like this album very much?  The pr...</td>\n",
       "      <td>09 2, 2004</td>\n",
       "      <td>ANBSW3BALFRR2</td>\n",
       "      <td>Chet Fakir</td>\n",
       "      <td>A poor mans Beach Boys via Radiohead</td>\n",
       "      <td>1094083200</td>\n",
       "    </tr>\n",
       "  </tbody>\n",
       "</table>\n",
       "</div>"
      ],
      "text/plain": [
       "             asin   helpful  overall  \\\n",
       "12823  B000002H72    [1, 1]        5   \n",
       "48618  B0007NFL18    [3, 4]        4   \n",
       "64629  B00IDXIP1M    [1, 1]        5   \n",
       "15278  B000002KHB  [22, 29]        5   \n",
       "29034  B00000JC6C    [4, 9]        3   \n",
       "\n",
       "                                              reviewText   reviewTime  \\\n",
       "12823  Having always seemingly been compared to \"Nirv...  10 29, 2003   \n",
       "48618  Lets not kid ourselves here; there aren't many...   03 5, 2005   \n",
       "64629  &#8220;Best Day Of My Life&#8221; by American ...  04 19, 2014   \n",
       "15278  First of all folks. MACHINE HEAD is not the on...  04 24, 2000   \n",
       "29034  Why don't I like this album very much?  The pr...   09 2, 2004   \n",
       "\n",
       "           reviewerID                      reviewerName  \\\n",
       "12823  A1XNPOQDLLJJU3                       fetish_2000   \n",
       "48618  A12OZZLO1QNA9M                             josak   \n",
       "64629  A2H3JURQZOHVMB  Stella Carrier \"joyfulwoman2078\"   \n",
       "15278  A2P0PLCR7JWWNR          James E. Lane \"jaminjim\"   \n",
       "29034   ANBSW3BALFRR2                        Chet Fakir   \n",
       "\n",
       "                                                 summary  unixReviewTime  \n",
       "12823  Surprisingly there are those, that aren&#65533...      1067385600  \n",
       "48618           On par,  if not better, than \"Get Rich'\"      1109980800  \n",
       "64629                        Emotionally Pleasing Melody      1397865600  \n",
       "15278  THE FIREBALL WE RODE WAS MOVING,BUT NOW WE GOT...       956534400  \n",
       "29034               A poor mans Beach Boys via Radiohead      1094083200  "
      ]
     },
     "execution_count": 101,
     "metadata": {},
     "output_type": "execute_result"
    }
   ],
   "source": [
    "!gunzip -c amazon_step23.json.gz > amazon_step23.json\n",
    "with open('amazon_step23.json') as f:\n",
    "   content = f.readlines()\n",
    "\n",
    "df2 = pd.read_json(\"\".join(content), lines=True)\n",
    "df2.sample(5)"
   ]
  },
  {
   "cell_type": "code",
   "execution_count": 102,
   "metadata": {
    "ExecuteTime": {
     "end_time": "2017-05-21T19:21:46.174713",
     "start_time": "2017-05-21T19:21:46.099662"
    }
   },
   "outputs": [
    {
     "data": {
      "text/plain": [
       "asin                0\n",
       "helpful             0\n",
       "overall             0\n",
       "reviewText          0\n",
       "reviewTime          0\n",
       "reviewerID          0\n",
       "reviewerName      177\n",
       "summary             0\n",
       "unixReviewTime      0\n",
       "dtype: int64"
      ]
     },
     "execution_count": 102,
     "metadata": {},
     "output_type": "execute_result"
    }
   ],
   "source": [
    "df2.isnull().sum()"
   ]
  },
  {
   "cell_type": "markdown",
   "metadata": {},
   "source": [
    "As for the preprocessing of step 1, there is only a few samples that have null values, all with the feature `reviewerName`. As discussed earlier, this is not problem for us."
   ]
  },
  {
   "cell_type": "code",
   "execution_count": 103,
   "metadata": {
    "ExecuteTime": {
     "end_time": "2017-05-21T19:28:51.793470",
     "start_time": "2017-05-21T19:21:48.627216"
    },
    "collapsed": true
   },
   "outputs": [],
   "source": [
    "# Create the new features\n",
    "createHelpfulPercentage(df2)\n",
    "createTextLength(df2, \"reviewText\")\n",
    "createTextPunctuationFeatures(df2, \"reviewText\")\n",
    "contains_smiley(df2, \"reviewText\")\n",
    "createALLCAPS(df2, \"reviewText\")\n",
    "\n",
    "\n",
    "\n",
    "# Standardize with MinMaxScaler\n",
    "df2.helpfulPercentage     =    scalerHelpful.fit_transform(     df2.helpfulPercentage.values.reshape(-1,1))\n",
    "df2.reviewTextLength      =    scalerTextLength.fit_transform(  df2.reviewTextLength.values.reshape(-1,1))\n",
    "df2.reviewTextCountPoints         =    scalerCountPoints.fit_transform( df2.reviewTextCountPoints.values.reshape(-1,1))\n",
    "df2.reviewTextCountExcl           =    scalerCountExcl.fit_transform(   df2.reviewTextCountExcl.values.reshape(-1,1))\n",
    "df2.reviewTextCountInterr         =    scalerCountInterr.fit_transform( df2.reviewTextCountInterr.values.reshape(-1,1))\n",
    "df2.reviewTextCountComas          =    scalerCountComas.fit_transform(  df2.reviewTextCountComas.values.reshape(-1,1))\n",
    "\n",
    "\n",
    "# Drop useless features\n",
    "df2 = df2.drop(['asin', 'reviewTime', 'reviewerID', 'reviewerName', 'unixReviewTime', 'helpful'], axis=1)\n",
    "\n",
    "# TF-IDF for 'reviewText'\n",
    "pipe_modified.fit(df2.reviewText)\n",
    "x_reviewText = pipe_modified.transform(df2.reviewText)\n",
    "\n",
    "# TF-IDF for 'summary'\n",
    "pipe_modified.fit(df2.summary)\n",
    "x_summary = pipe_modified.transform(df2.summary)"
   ]
  },
  {
   "cell_type": "code",
   "execution_count": 104,
   "metadata": {
    "ExecuteTime": {
     "end_time": "2017-05-21T19:28:51.950498",
     "start_time": "2017-05-21T19:28:51.794779"
    },
    "scrolled": true
   },
   "outputs": [
    {
     "data": {
      "image/png": "[encoded data removed]",
      "text/plain": [
       "<matplotlib.figure.Figure at 0x7fddd160efd0>"
      ]
     },
     "metadata": {},
     "output_type": "display_data"
    }
   ],
   "source": [
    "# Then we create BIN_OVERALL that is equal to 1 if rank is 5, and 0 otherwise\n",
    "df2[\"BIN_OVERALL\"] = 1 * (df2[\"overall\"] == 5)\n",
    "y = df2.BIN_OVERALL\n",
    "\n",
    "# Plot the number of samples per class\n",
    "df2.groupby(\"BIN_OVERALL\").size().plot(kind='bar')\n",
    "plt.show()"
   ]
  },
  {
   "cell_type": "markdown",
   "metadata": {
    "ExecuteTime": {
     "end_time": "2017-05-21T15:31:45.714867",
     "start_time": "2017-05-21T15:31:45.698097"
    }
   },
   "source": [
    "We can also make us of positive (http://ptrckprry.com/course/ssd/data/positive-words.txt) and\n",
    "negative (http://ptrckprry.com/course/ssd/data/negative-words.txt) word lists.<br />\n",
    "For example, if a review contains only negative words, we guess the rating is not 5, and vice-versa. If a review has no positive nor negative words, we set the new feature to 1.<br />\n",
    "Otherwise, we set it to $\\dfrac{\\#positives}{\\#positives + \\#negatives}$<br />\n",
    "In order to deal with negations (e.g. 'not cool'), we classify 'not cool' as a negative word, while 'not bad' becomes a positive word.<br />\n",
    "Caveats: Sentences like \"I don't think this product is good\" will still be missclassified."
   ]
  },
  {
   "cell_type": "code",
   "execution_count": 105,
   "metadata": {
    "ExecuteTime": {
     "end_time": "2017-05-21T19:28:53.250084",
     "start_time": "2017-05-21T19:28:51.951833"
    }
   },
   "outputs": [
    {
     "name": "stdout",
     "output_type": "stream",
     "text": [
      "--2017-05-21 21:24:57--  http://ptrckprry.com/course/ssd/data/positive-words.txt\n",
      "Resolving ptrckprry.com (ptrckprry.com)... 192.30.252.154, 192.30.252.153\n",
      "Connecting to ptrckprry.com (ptrckprry.com)|192.30.252.154|:80... connected.\n",
      "HTTP request sent, awaiting response... 200 OK\n",
      "Length: 20630 (20K) [text/plain]\n",
      "Saving to: ‘positive-words.txt’\n",
      "\n",
      "positive-words.txt  100%[=====================>]  20.15K  --.-KB/s   in 0.08s  \n",
      "\n",
      "2017-05-21 21:24:57 (245 KB/s) - ‘positive-words.txt’ saved [20630/20630]\n",
      "\n",
      "--2017-05-21 21:24:57--  http://ptrckprry.com/course/ssd/data/negative-words.txt\n",
      "Resolving ptrckprry.com (ptrckprry.com)... 192.30.252.154, 192.30.252.153\n",
      "Connecting to ptrckprry.com (ptrckprry.com)|192.30.252.154|:80... connected.\n",
      "HTTP request sent, awaiting response... 200 OK\n",
      "Length: 46299 (45K) [text/plain]\n",
      "Saving to: ‘negative-words.txt’\n",
      "\n",
      "negative-words.txt  100%[=====================>]  45.21K   275KB/s   in 0.2s   \n",
      "\n",
      "2017-05-21 21:24:57 (275 KB/s) - ‘negative-words.txt’ saved [46299/46299]\n",
      "\n"
     ]
    }
   ],
   "source": [
    "# Download wordlists\n",
    "!wget -O positive-words.txt http://ptrckprry.com/course/ssd/data/positive-words.txt\n",
    "!wget -O negative-words.txt http://ptrckprry.com/course/ssd/data/negative-words.txt"
   ]
  },
  {
   "cell_type": "code",
   "execution_count": 106,
   "metadata": {
    "ExecuteTime": {
     "end_time": "2017-05-21T19:31:36.846190",
     "start_time": "2017-05-21T19:31:36.823935"
    },
    "collapsed": true
   },
   "outputs": [],
   "source": [
    "# Construct lists\n",
    "import codecs\n",
    "def get_list(fname):\n",
    "    res = []\n",
    "    with codecs.open(fname,'r',encoding='utf8') as f:\n",
    "        try:\n",
    "            for l in f.readlines():\n",
    "                if not l.startswith(\";\") and not l == \"\\n\":\n",
    "                    res.append(l.rstrip())\n",
    "        except UnicodeDecodeError as e:\n",
    "            # drop word\n",
    "            pass\n",
    "    return res\n",
    "\n",
    "positive_words = get_list('positive-words.txt')\n",
    "negative_words = get_list('negative-words.txt')\n",
    "\n",
    "def count_word_occurences(row):\n",
    "    pos = 0.\n",
    "    neg = 0.\n",
    "    for w in positive_words:\n",
    "        #w = w.decode('utf-8')\n",
    "        if w in row:\n",
    "            if \"not \" + w in row:\n",
    "                neg += 1\n",
    "            else:\n",
    "                pos += 1\n",
    "    for w in negative_words:\n",
    "        #w = w.decode('utf-8')\n",
    "        if w in row:\n",
    "            if \"not \" + w in row:\n",
    "                pos += 1\n",
    "            else:\n",
    "                neg += 1\n",
    "    if (pos + neg) == 0:\n",
    "        return 1\n",
    "    else:\n",
    "        return pos / (pos + neg)"
   ]
  },
  {
   "cell_type": "code",
   "execution_count": 107,
   "metadata": {
    "ExecuteTime": {
     "end_time": "2017-05-21T19:33:30.375438",
     "start_time": "2017-05-21T19:31:38.664939"
    }
   },
   "outputs": [
    {
     "data": {
      "text/html": [
       "<div>\n",
       "<style>\n",
       "    .dataframe thead tr:only-child th {\n",
       "        text-align: right;\n",
       "    }\n",
       "\n",
       "    .dataframe thead th {\n",
       "        text-align: left;\n",
       "    }\n",
       "\n",
       "    .dataframe tbody tr th {\n",
       "        vertical-align: top;\n",
       "    }\n",
       "</style>\n",
       "<table border=\"1\" class=\"dataframe\">\n",
       "  <thead>\n",
       "    <tr style=\"text-align: right;\">\n",
       "      <th></th>\n",
       "      <th>positiveRatio</th>\n",
       "      <th>positiveRatioSummary</th>\n",
       "    </tr>\n",
       "  </thead>\n",
       "  <tbody>\n",
       "    <tr>\n",
       "      <th>0</th>\n",
       "      <td>1.0</td>\n",
       "      <td>1.0</td>\n",
       "    </tr>\n",
       "    <tr>\n",
       "      <th>1</th>\n",
       "      <td>1.0</td>\n",
       "      <td>1.0</td>\n",
       "    </tr>\n",
       "    <tr>\n",
       "      <th>2</th>\n",
       "      <td>1.0</td>\n",
       "      <td>1.0</td>\n",
       "    </tr>\n",
       "    <tr>\n",
       "      <th>3</th>\n",
       "      <td>1.0</td>\n",
       "      <td>1.0</td>\n",
       "    </tr>\n",
       "    <tr>\n",
       "      <th>4</th>\n",
       "      <td>1.0</td>\n",
       "      <td>1.0</td>\n",
       "    </tr>\n",
       "  </tbody>\n",
       "</table>\n",
       "</div>"
      ],
      "text/plain": [
       "   positiveRatio  positiveRatioSummary\n",
       "0            1.0                   1.0\n",
       "1            1.0                   1.0\n",
       "2            1.0                   1.0\n",
       "3            1.0                   1.0\n",
       "4            1.0                   1.0"
      ]
     },
     "execution_count": 107,
     "metadata": {},
     "output_type": "execute_result"
    }
   ],
   "source": [
    "def wordSentimentRatio(df):\n",
    "    df[\"positiveRatio\"] = df[\"reviewText\"].apply(count_word_occurences)\n",
    "    df[\"positiveRatioSummary\"] = df[\"summary\"].apply(count_word_occurences)\n",
    "\n",
    "wordSentimentRatio(df2)\n",
    "\n",
    "df2[[\"positiveRatio\", \"positiveRatioSummary\"]].head()"
   ]
  },
  {
   "cell_type": "markdown",
   "metadata": {},
   "source": [
    "Let's see which of the features we create seems to be the most useful. To do so, we will compute the mean for each of those features, dividing the dataset into two groups, based on the `BIN_OVERALL` feature."
   ]
  },
  {
   "cell_type": "code",
   "execution_count": 108,
   "metadata": {
    "ExecuteTime": {
     "end_time": "2017-05-21T19:35:15.844135",
     "start_time": "2017-05-21T19:35:15.812490"
    }
   },
   "outputs": [
    {
     "data": {
      "text/html": [
       "<div>\n",
       "<style>\n",
       "    .dataframe thead tr:only-child th {\n",
       "        text-align: right;\n",
       "    }\n",
       "\n",
       "    .dataframe thead th {\n",
       "        text-align: left;\n",
       "    }\n",
       "\n",
       "    .dataframe tbody tr th {\n",
       "        vertical-align: top;\n",
       "    }\n",
       "</style>\n",
       "<table border=\"1\" class=\"dataframe\">\n",
       "  <thead>\n",
       "    <tr style=\"text-align: right;\">\n",
       "      <th></th>\n",
       "      <th>helpfulPercentage</th>\n",
       "      <th>reviewTextLength</th>\n",
       "      <th>reviewTextCountPoints</th>\n",
       "      <th>reviewTextCountExcl</th>\n",
       "      <th>reviewTextCountInterr</th>\n",
       "      <th>reviewTextCountComas</th>\n",
       "    </tr>\n",
       "    <tr>\n",
       "      <th>BIN_OVERALL</th>\n",
       "      <th></th>\n",
       "      <th></th>\n",
       "      <th></th>\n",
       "      <th></th>\n",
       "      <th></th>\n",
       "      <th></th>\n",
       "    </tr>\n",
       "  </thead>\n",
       "  <tbody>\n",
       "    <tr>\n",
       "      <th>0</th>\n",
       "      <td>-0.118421</td>\n",
       "      <td>0.025184</td>\n",
       "      <td>0.023004</td>\n",
       "      <td>-0.083407</td>\n",
       "      <td>0.064561</td>\n",
       "      <td>0.029732</td>\n",
       "    </tr>\n",
       "    <tr>\n",
       "      <th>1</th>\n",
       "      <td>0.096940</td>\n",
       "      <td>-0.020616</td>\n",
       "      <td>-0.018831</td>\n",
       "      <td>0.068278</td>\n",
       "      <td>-0.052850</td>\n",
       "      <td>-0.024339</td>\n",
       "    </tr>\n",
       "  </tbody>\n",
       "</table>\n",
       "</div>"
      ],
      "text/plain": [
       "             helpfulPercentage  reviewTextLength  reviewTextCountPoints  \\\n",
       "BIN_OVERALL                                                               \n",
       "0                    -0.118421          0.025184               0.023004   \n",
       "1                     0.096940         -0.020616              -0.018831   \n",
       "\n",
       "             reviewTextCountExcl  reviewTextCountInterr  reviewTextCountComas  \n",
       "BIN_OVERALL                                                                    \n",
       "0                      -0.083407               0.064561              0.029732  \n",
       "1                       0.068278              -0.052850             -0.024339  "
      ]
     },
     "execution_count": 108,
     "metadata": {},
     "output_type": "execute_result"
    }
   ],
   "source": [
    "df_created_features = df2.groupby('BIN_OVERALL').mean()\n",
    "df_created_features = df_created_features.drop(['overall', 'reviewTextPositiveSmiley', 'reviewTextNegativeSmiley', 'reviewTextAllCAPS', \"positiveRatio\", \"positiveRatioSummary\"], axis=1)\n",
    "df_created_features"
   ]
  },
  {
   "cell_type": "code",
   "execution_count": 109,
   "metadata": {
    "ExecuteTime": {
     "end_time": "2017-05-21T19:35:18.900766",
     "start_time": "2017-05-21T19:35:18.681923"
    }
   },
   "outputs": [
    {
     "data": {
      "image/png": "[encoded data removed]",
      "text/plain": [
       "<matplotlib.figure.Figure at 0x7fddd4795350>"
      ]
     },
     "metadata": {},
     "output_type": "display_data"
    }
   ],
   "source": [
    "width = 0.35       # the width of the bars\n",
    "fig, ax = plt.subplots()\n",
    "\n",
    "ranking14 = df_created_features.as_matrix()[0]\n",
    "ind = np.arange(len(ranking14))  # the x locations for the groups\n",
    "rects1 = ax.bar(ind, ranking14, width, color='r')\n",
    "\n",
    "ranking5 = df_created_features.as_matrix()[1]\n",
    "rects2 = ax.bar(ind + width, ranking5, width, color='y')\n",
    "\n",
    "\n",
    "# add some text for labels, title and axes ticks\n",
    "ax.set_ylabel('Mean of values')\n",
    "ax.set_title('Mean of the values (standardized) for the created features')\n",
    "ax.set_xticks(ind)\n",
    "ax.set_xticklabels(df_created_features.columns.tolist(), rotation=30)\n",
    "ax.legend((rects1[0], rects2[0]), ('1-4 stars', '5 stars'))\n",
    "plt.show()"
   ]
  },
  {
   "cell_type": "markdown",
   "metadata": {},
   "source": [
    "The feature that we create from `helpful` seems do be very intersting. The number of exclamation (!) and interrogatoin (?) marks in the `reviewText` also seem to have a significant impact in the classification. On the other side, the length of the review and the number of point have fewer impact, but we can still see a small difference. We decided to keep all of this features for our classification models."
   ]
  },
  {
   "cell_type": "markdown",
   "metadata": {},
   "source": [
    "For the two smileys features, we can see below that the percentage of samples with a positive smiley is almost the same between the two classes. However, it is really different for negative smiley, where 5 stars ratings don't contain much. Even if the number of samples with negative smileys is low, we decided to keep this feature. For the `ALLCAPS` feature, it is the same deduction as for the `positiveSmiley` feature: we drop it too."
   ]
  },
  {
   "cell_type": "code",
   "execution_count": 110,
   "metadata": {
    "ExecuteTime": {
     "end_time": "2017-05-21T19:35:22.976025",
     "start_time": "2017-05-21T19:35:22.940451"
    }
   },
   "outputs": [
    {
     "name": "stdout",
     "output_type": "stream",
     "text": [
      "-- Positive Smiley\n",
      "Percentage, per class, of samples with a positive smiley\n",
      "('1-4 ==> ', 0.023037835610794481, '%')\n",
      "('5   ==> ', 0.023524451939291736, '%')\n",
      "()\n",
      "-- Negative Smiley\n",
      "Percentage, per class, of samples with a negative smiley\n",
      "('1-4 ==> ', 0.0011330083087275973, '%')\n",
      "('5   ==> ', 0.00053400786958965709, '%')\n",
      "()\n",
      "-- ALL CAPS word\n",
      "Percentage, per class, of samples contains a words written in capital letters in the reviewText feature\n",
      "('1-4 ==> ', 0.32843507519055137, '%')\n",
      "('5   ==> ', 0.33274311410905005, '%')\n"
     ]
    }
   ],
   "source": [
    "total_nbr = df2.groupby(\"BIN_OVERALL\").size()\n",
    "\n",
    "print(\"-- Positive Smiley\")\n",
    "print(\"Percentage, per class, of samples with a positive smiley\")\n",
    "xx = df2[df2.reviewTextPositiveSmiley == 1].groupby(\"BIN_OVERALL\").size()\n",
    "print(\"1-4 ==> \", xx[0] / total_nbr[0], \"%\")\n",
    "print(\"5   ==> \", xx[1] / total_nbr[1], \"%\")\n",
    "\n",
    "print()\n",
    "\n",
    "print(\"-- Negative Smiley\")\n",
    "print(\"Percentage, per class, of samples with a negative smiley\")\n",
    "xx = df2[df2.reviewTextNegativeSmiley == 1].groupby(\"BIN_OVERALL\").size()\n",
    "print(\"1-4 ==> \", xx[0] / total_nbr[0], \"%\")\n",
    "print(\"5   ==> \", xx[1] / total_nbr[1], \"%\")\n",
    "\n",
    "print()\n",
    "\n",
    "print(\"-- ALL CAPS word\")\n",
    "print(\"Percentage, per class, of samples contains a words written in capital letters in the reviewText feature\")\n",
    "xx = df2[df2.reviewTextAllCAPS == 1].groupby(\"BIN_OVERALL\").size()\n",
    "print(\"1-4 ==> \", xx[0] / total_nbr[0], \"%\")\n",
    "print(\"5   ==> \", xx[1] / total_nbr[1], \"%\")"
   ]
  },
  {
   "cell_type": "code",
   "execution_count": 111,
   "metadata": {
    "ExecuteTime": {
     "end_time": "2017-05-21T19:35:34.809998",
     "start_time": "2017-05-21T19:35:34.359444"
    },
    "collapsed": true
   },
   "outputs": [],
   "source": [
    "# Let's compute the same features as we did for 'reviewText', but for the 'summary' feature this time !\n",
    "\n",
    "# Create the new features\n",
    "createTextLength(df2, \"summary\")\n",
    "createTextPunctuationFeatures(df2, \"summary\")\n",
    "contains_smiley(df2, \"summary\")\n",
    "createALLCAPS(df2, \"summary\")\n",
    "\n",
    "\n",
    "# Standardize with MinMaxScaler\n",
    "summaryScalerTextLength   = StandardScaler()\n",
    "summaryScalerCountPoint   = StandardScaler()\n",
    "summaryScalerCountExcl    = StandardScaler()\n",
    "summaryScalerCountInterr  = StandardScaler()\n",
    "summaryScalerCountComas   = StandardScaler()\n",
    "\n",
    "df2.summaryLength              =    summaryScalerTextLength.fit_transform(  df2.summaryLength.values.reshape(-1,1))\n",
    "df2.summaryCountPoints         =    summaryScalerCountPoint.fit_transform( df2.summaryCountPoints.values.reshape(-1,1))\n",
    "df2.summaryCountExcl           =    summaryScalerCountExcl.fit_transform(   df2.summaryCountExcl.values.reshape(-1,1))\n",
    "df2.summaryCountInterr         =    summaryScalerCountInterr.fit_transform( df2.summaryCountInterr.values.reshape(-1,1))\n",
    "df2.summaryCountComas          =    summaryScalerCountComas.fit_transform(  df2.summaryCountComas.values.reshape(-1,1))"
   ]
  },
  {
   "cell_type": "markdown",
   "metadata": {},
   "source": [
    "As for the `reviewText feature`, this features seems interesting. It is not a surprise that the length of the summary isn't usefull, but for the others ones, we decided to keep them."
   ]
  },
  {
   "cell_type": "code",
   "execution_count": 112,
   "metadata": {
    "ExecuteTime": {
     "end_time": "2017-05-21T19:35:39.131992",
     "start_time": "2017-05-21T19:35:38.899672"
    }
   },
   "outputs": [
    {
     "data": {
      "image/png": "[encoded data removed]",
      "text/plain": [
       "<matplotlib.figure.Figure at 0x7fddd4354550>"
      ]
     },
     "metadata": {},
     "output_type": "display_data"
    }
   ],
   "source": [
    "df_created_features = df2[[\"BIN_OVERALL\", \"summaryLength\", \"summaryCountPoints\", \"summaryCountExcl\", \"summaryCountInterr\", \"summaryCountComas\"]]\n",
    "df_created_features = df_created_features.groupby('BIN_OVERALL').mean()\n",
    "\n",
    "\n",
    "width = 0.35       # the width of the bars\n",
    "fig, ax = plt.subplots()\n",
    "\n",
    "ranking14 = df_created_features.as_matrix()[0]\n",
    "ind = np.arange(len(ranking14))  # the x locations for the groups\n",
    "rects1 = ax.bar(ind, ranking14, width, color='r')\n",
    "\n",
    "ranking5 = df_created_features.as_matrix()[1]\n",
    "rects2 = ax.bar(ind + width, ranking5, width, color='y')\n",
    "\n",
    "\n",
    "# add some text for labels, title and axes ticks\n",
    "ax.set_ylabel('Mean of values')\n",
    "ax.set_title('Mean of the values (standardized) for the created features')\n",
    "ax.set_xticks(ind)\n",
    "ax.set_xticklabels(df_created_features.columns.tolist(), rotation=50)\n",
    "ax.legend((rects1[0], rects2[0]), ('1-4 stars', '5 stars'))\n",
    "plt.show()"
   ]
  },
  {
   "cell_type": "markdown",
   "metadata": {},
   "source": [
    "For the two smileys features, `summaryPositiveSmiley` and `summaryNegativeSmiley` aren't present in a lot of samples to considering it useful for something. For the feature `summaryAllCAPS`, we consider that the difference between the two classes isn't that big to keep the feature."
   ]
  },
  {
   "cell_type": "code",
   "execution_count": 113,
   "metadata": {
    "ExecuteTime": {
     "end_time": "2017-05-21T19:35:41.048126",
     "start_time": "2017-05-21T19:35:41.013926"
    }
   },
   "outputs": [
    {
     "name": "stdout",
     "output_type": "stream",
     "text": [
      "-- Positive Smiley\n",
      "Percentage, per class, of samples with a positive smiley\n",
      "('1-4 ==> ', 0.00044633660646844743, '%')\n",
      "('5   ==> ', 0.00084317032040472171, '%')\n",
      "()\n",
      "-- Negative Smiley\n",
      "Percentage, per class, of samples with a negative smiley\n",
      "('1-4 ==> ', 0.00034333585112957497, '%')\n",
      "('5   ==> ', 0, '%')\n",
      "()\n",
      "-- ALL CAPS word\n",
      "Percentage, per class, of samples contains a words written in capital letters in the reviewText feature\n",
      "('1-4 ==> ', 0.078898578589576329, '%')\n",
      "('5   ==> ', 0.10871275997751546, '%')\n"
     ]
    }
   ],
   "source": [
    "total_nbr = df2.groupby(\"BIN_OVERALL\").size()\n",
    "\n",
    "print(\"-- Positive Smiley\")\n",
    "print(\"Percentage, per class, of samples with a positive smiley\")\n",
    "xx = df2[df2.summaryPositiveSmiley == 1].groupby(\"BIN_OVERALL\").size()\n",
    "print(\"1-4 ==> \", xx[0] / total_nbr[0], \"%\")\n",
    "print(\"5   ==> \", xx[1] / total_nbr[1], \"%\")\n",
    "\n",
    "print()\n",
    "\n",
    "print(\"-- Negative Smiley\")\n",
    "print(\"Percentage, per class, of samples with a negative smiley\")\n",
    "xx = df2[df2.summaryNegativeSmiley == 1].groupby(\"BIN_OVERALL\").size()\n",
    "print(\"1-4 ==> \", xx[0] / total_nbr[0], \"%\")\n",
    "print(\"5   ==> \", 0, \"%\")\n",
    "\n",
    "print()\n",
    "\n",
    "print(\"-- ALL CAPS word\")\n",
    "print(\"Percentage, per class, of samples contains a words written in capital letters in the reviewText feature\")\n",
    "xx = df2[df2.summaryAllCAPS == 1].groupby(\"BIN_OVERALL\").size()\n",
    "print(\"1-4 ==> \", xx[0] / total_nbr[0], \"%\")\n",
    "print(\"5   ==> \", xx[1] / total_nbr[1], \"%\")"
   ]
  },
  {
   "cell_type": "code",
   "execution_count": 114,
   "metadata": {
    "ExecuteTime": {
     "end_time": "2017-05-21T19:35:45.014050",
     "start_time": "2017-05-21T19:35:43.431194"
    },
    "collapsed": true
   },
   "outputs": [],
   "source": [
    "# Merge all features into a single dataframe\n",
    "X2 = hstack((x_reviewText, x_summary))\n",
    "featuresToUse = [\"helpfulPercentage\", \"reviewTextLength\", \"reviewTextCountPoints\", \"reviewTextCountExcl\", \"reviewTextCountInterr\", \"reviewTextCountComas\", \"reviewTextNegativeSmiley\", \\\n",
    "                \"summaryCountPoints\", \"summaryCountExcl\", \"summaryCountInterr\", \"summaryCountComas\", \"positiveRatio\", \"positiveRatioSummary\"]\n",
    "for c in featuresToUse:\n",
    "    X2 = hstack((X2,(df2[c])[:,None]))"
   ]
  },
  {
   "cell_type": "code",
   "execution_count": 115,
   "metadata": {
    "ExecuteTime": {
     "end_time": "2017-05-21T19:35:45.843577",
     "start_time": "2017-05-21T19:35:45.835598"
    },
    "collapsed": true
   },
   "outputs": [],
   "source": [
    "y = df2.BIN_OVERALL"
   ]
  },
  {
   "cell_type": "code",
   "execution_count": 116,
   "metadata": {
    "ExecuteTime": {
     "end_time": "2017-05-21T19:35:49.045335",
     "start_time": "2017-05-21T19:35:47.263954"
    }
   },
   "outputs": [
    {
     "name": "stdout",
     "output_type": "stream",
     "text": [
      "('X_train: ', (51764, 26525))\n",
      "('y_train: ', (51764,))\n",
      "('X_test:  ', (12942, 26525))\n",
      "('y_test:  ', (12942,))\n"
     ]
    }
   ],
   "source": [
    "X_train, X_test, y_train, y_test = train_test_split(X2, y, test_size=0.2, random_state=seed)\n",
    "\n",
    "# Train\n",
    "print(\"X_train: \", X_train.shape)\n",
    "print(\"y_train: \", y_train.shape)\n",
    "\n",
    "# Test\n",
    "print(\"X_test:  \", X_test.shape)\n",
    "print(\"y_test:  \", y_test.shape)"
   ]
  },
  {
   "cell_type": "markdown",
   "metadata": {},
   "source": [
    "> **Some notes about the preprocessing for steps 2 & 3**\n",
    ">\n",
    "> * We decide to not merge the features 'reviewText' and 'summary'. They are both two textual features that we transform into numerical values and we use the same piple, so one could argue that they could have been combined and speed up the computational time of the models. Even if this last argument is interesting, we think that the information stored in the 'summary' feature is very important. To sum up, some key words are specific to the feature `summary`, and merging them with the words in the 'reviewText' will result in a loss of information. So we decided to use two separate pipelines for this two different features.\n",
    ">\n",
    ">\n",
    "> * The data is skewed. For step 2, the difference exists but is not significant. But for step 3, where we will build a classifier with 5 classes, skewed data can have a large impact. We think about it and decided to... do nothing. As we have seen from the data in step 1, the probability for a review to be a 5 stars is much higher that to be a 1 start product. Therefore, we hope that the unseen data follows the same path.\n",
    ">\n",
    ">\n",
    "> * Coming back to the 'reviewerID' feature, we could also have created another new feature for the steps 2 & 3 in order to find out if an user is a \"troll\" or not. If that user only rates negatively. Basicly, if he is a good, a bad or a random worker. We did not take into account the reviewer / the user. To take it into account, we could have analyzed the impact of adding the rating mean of the user as a new feature. Then standardize it, so new users will be assigned with a mean of 0. Using the variance would also help flagging random workers."
   ]
  },
  {
   "cell_type": "markdown",
   "metadata": {},
   "source": [
    "## <a name=\"models2\"> </a> Models"
   ]
  },
  {
   "cell_type": "markdown",
   "metadata": {},
   "source": [
    "### Baseline model"
   ]
  },
  {
   "cell_type": "code",
   "execution_count": 130,
   "metadata": {
    "ExecuteTime": {
     "end_time": "2017-05-21T19:35:51.061925",
     "start_time": "2017-05-21T19:35:51.038192"
    }
   },
   "outputs": [
    {
     "name": "stdout",
     "output_type": "stream",
     "text": [
      "('Precision mean: ', 0.50169982832125326)\n"
     ]
    }
   ],
   "source": [
    "baselineModel = DummyClassifier(random_state=seed)\n",
    "baselineModel.fit(X_train,y_train)\n",
    "y_pred = baselineModel.predict(X_test)\n",
    "\n",
    "print_precision(y_test, y_pred)"
   ]
  },
  {
   "cell_type": "code",
   "execution_count": 131,
   "metadata": {
    "ExecuteTime": {
     "end_time": "2017-05-21T19:35:54.332976",
     "start_time": "2017-05-21T19:35:54.327854"
    },
    "collapsed": true
   },
   "outputs": [],
   "source": [
    "baseline_precision = 0.501699828321"
   ]
  },
  {
   "cell_type": "markdown",
   "metadata": {},
   "source": [
    "We have two classes, so we actually expect the precision to be $\\approx\\dfrac{1}{2}$."
   ]
  },
  {
   "cell_type": "code",
   "execution_count": 132,
   "metadata": {},
   "outputs": [
    {
     "data": {
      "image/png": "[encoded data removed]",
      "text/plain": [
       "<matplotlib.figure.Figure at 0x7fddd3b218d0>"
      ]
     },
     "metadata": {},
     "output_type": "display_data"
    }
   ],
   "source": [
    "print_confusion_matrix(y_test, y_pred, 2)"
   ]
  },
  {
   "cell_type": "markdown",
   "metadata": {},
   "source": [
    "### Support Vector Model: Linear Support Vector Classification"
   ]
  },
  {
   "cell_type": "code",
   "execution_count": 133,
   "metadata": {
    "ExecuteTime": {
     "end_time": "2017-05-21T19:38:22.499873",
     "start_time": "2017-05-21T19:36:21.584291"
    }
   },
   "outputs": [
    {
     "data": {
      "text/plain": [
       "{'svm_clf__C': 0.125}"
      ]
     },
     "execution_count": 133,
     "metadata": {},
     "output_type": "execute_result"
    }
   ],
   "source": [
    "# setup pipeline\n",
    "estimators = []\n",
    "estimators.append(('svm_clf', LinearSVC()))\n",
    "pipe = Pipeline(estimators)\n",
    "\n",
    "# tuning requsted parameter\n",
    "tuned_parameters = [{'svm_clf__C': np.logspace(-5,15,11,base=2.0)}]\n",
    "clf = GridSearchCV(pipe, tuned_parameters, cv=5, scoring='accuracy')\n",
    "\n",
    "# Speed up computation: with only a subset of the training data for Grid search\n",
    "subset_size = 5000\n",
    "clf.fit(X_train[:subset_size],y_train[:subset_size])\n",
    "clf.best_params_"
   ]
  },
  {
   "cell_type": "code",
   "execution_count": 134,
   "metadata": {
    "ExecuteTime": {
     "end_time": "2017-05-21T19:38:38.458510",
     "start_time": "2017-05-21T19:38:38.454889"
    },
    "collapsed": true
   },
   "outputs": [],
   "source": [
    "# bect C value resulting from GridSearch\n",
    "best_C = 0.125"
   ]
  },
  {
   "cell_type": "code",
   "execution_count": 135,
   "metadata": {
    "ExecuteTime": {
     "end_time": "2017-05-21T19:39:11.530846",
     "start_time": "2017-05-21T19:38:40.082977"
    }
   },
   "outputs": [
    {
     "name": "stdout",
     "output_type": "stream",
     "text": [
      "('Precision mean: ', 0.77924003996503055)\n"
     ]
    }
   ],
   "source": [
    "svc = LinearSVC(C=best_C)\n",
    "svc.fit(X_train, y_train)\n",
    "\n",
    "y_pred = svc.predict(X_test)\n",
    "print_precision(y_test, y_pred)"
   ]
  },
  {
   "cell_type": "code",
   "execution_count": 136,
   "metadata": {
    "ExecuteTime": {
     "end_time": "2017-05-21T19:39:25.999900",
     "start_time": "2017-05-21T19:39:25.995487"
    },
    "collapsed": true
   },
   "outputs": [],
   "source": [
    "svc_precision = 0.779240039965"
   ]
  },
  {
   "cell_type": "code",
   "execution_count": 137,
   "metadata": {},
   "outputs": [
    {
     "data": {
      "image/png": "[encoded data removed]",
      "text/plain": [
       "<matplotlib.figure.Figure at 0x7fddd37ef8d0>"
      ]
     },
     "metadata": {},
     "output_type": "display_data"
    }
   ],
   "source": [
    "print_confusion_matrix(y_test, y_pred, 2)"
   ]
  },
  {
   "cell_type": "markdown",
   "metadata": {},
   "source": [
    "### Linear Model:  Stochastic Gradient Descent"
   ]
  },
  {
   "cell_type": "code",
   "execution_count": 138,
   "metadata": {
    "ExecuteTime": {
     "end_time": "2017-05-21T19:39:41.304513",
     "start_time": "2017-05-21T19:39:41.283342"
    }
   },
   "outputs": [
    {
     "name": "stdout",
     "output_type": "stream",
     "text": [
      "Best params: {'alpha': 0.0001, 'average': False, 'class_weight': None, 'epsilon': 0.1, 'eta0': 0.0, 'fit_intercept': True,          'l1_ratio': 0.15, 'learning_rate': 'optimal', 'loss': 'hinge', 'n_iter': 5, 'n_jobs': 1, 'penalty': 'elasticnet', 'power_t': 0.5, 'random_state': 2017, 'shuffle': True, 'verbose': 0, 'warm_start': False}\n"
     ]
    }
   ],
   "source": [
    "parameters = {\n",
    "    'penalty': ['l1', 'l2', 'elasticnet'],\n",
    "    'alpha': [0.001, 0.0001, 0.00001, 0.000001]\n",
    "}\n",
    "cv = KFold(n_splits=10, random_state=seed)\n",
    "sgd = GridSearchCV(SGDClassifier(loss=\"hinge\", random_state=seed), parameters,\n",
    "     scoring=\"accuracy\", cv=cv)\n",
    "\n",
    "runGridSearch = False\n",
    "if (runGridSearch):\n",
    "    X_train_s, X_test_s, y_train_s, y_test_s = train_test_split(X_train, y_train, test_size=0.001, random_state=seed)\n",
    "    X_train_s1, X_test_s1, y_train_s1, y_test_s1 = train_test_split(X_train_s, y_train_s, test_size=0.2, random_state=seed)\n",
    "    sgd.fit(X_train_s1, y_train_s1)\n",
    "    print(\"Best params:\", sgd.best_estimator_.get_params())\n",
    "else:\n",
    "    # Copy/Paste from the results of the 'if' block\n",
    "    print(\"Best params: {'alpha': 0.0001, 'average': False, 'class_weight': None, 'epsilon': 0.1, 'eta0': 0.0, 'fit_intercept': True,\\\n",
    "          'l1_ratio': 0.15, 'learning_rate': 'optimal', 'loss': 'hinge', 'n_iter': 5, 'n_jobs': 1, 'penalty': 'elasticnet', 'power_t': 0.5, 'random_state': 2017, 'shuffle': True, 'verbose': 0, 'warm_start': False}\")"
   ]
  },
  {
   "cell_type": "code",
   "execution_count": 139,
   "metadata": {
    "ExecuteTime": {
     "end_time": "2017-05-21T19:39:44.472126",
     "start_time": "2017-05-21T19:39:43.950980"
    }
   },
   "outputs": [
    {
     "name": "stdout",
     "output_type": "stream",
     "text": [
      "('Precision mean: ', 0.77359372856162056)\n"
     ]
    }
   ],
   "source": [
    "# Build the SGDClassifier with the best params return by grid search\n",
    "sgd = SGDClassifier(alpha=0.0001, average=False, class_weight=None, epsilon=0.1, eta0=0.0, fit_intercept=True, l1_ratio=0.15, learning_rate='optimal', loss='hinge', n_iter=5, n_jobs=1, penalty='elasticnet',\n",
    "                    power_t= 0.5, random_state=2017, shuffle=True, verbose=0, warm_start=False)\n",
    "\n",
    "# Predict testing data\n",
    "sgd.fit(X_train, y_train)\n",
    "y_pred = sgd.predict(X_test)\n",
    "print_precision(y_test, y_pred)"
   ]
  },
  {
   "cell_type": "code",
   "execution_count": 140,
   "metadata": {
    "ExecuteTime": {
     "end_time": "2017-05-21T19:39:49.216929",
     "start_time": "2017-05-21T19:39:49.210377"
    },
    "collapsed": true
   },
   "outputs": [],
   "source": [
    "SGD_precision = 0.773593728562"
   ]
  },
  {
   "cell_type": "code",
   "execution_count": 141,
   "metadata": {},
   "outputs": [
    {
     "data": {
      "image/png": "[encoded data removed]",
      "text/plain": [
       "<matplotlib.figure.Figure at 0x7fddd3c7f0d0>"
      ]
     },
     "metadata": {},
     "output_type": "display_data"
    }
   ],
   "source": [
    "print_confusion_matrix(y_test, y_pred, 2)"
   ]
  },
  {
   "cell_type": "markdown",
   "metadata": {},
   "source": [
    "### Similarity-based model: KNN Classifier"
   ]
  },
  {
   "cell_type": "code",
   "execution_count": 142,
   "metadata": {
    "ExecuteTime": {
     "end_time": "2017-05-21T19:39:56.438290",
     "start_time": "2017-05-21T19:39:56.416892"
    }
   },
   "outputs": [
    {
     "name": "stdout",
     "output_type": "stream",
     "text": [
      "Pipeline(steps=[('knn_clf', KNeighborsClassifier(algorithm='brute', leaf_size=30, metric='minkowski',           metric_params=None, n_jobs=1, n_neighbors=71, p=2,           weights='uniform'))])\n"
     ]
    }
   ],
   "source": [
    "estimators = []\n",
    "estimators.append(('knn_clf', KNeighborsClassifier()))\n",
    "knn_clf_pipe = Pipeline(estimators)\n",
    "knn_clf_pipe.set_params(knn_clf__algorithm='brute')\n",
    "knn_clf_pipe.set_params(knn_clf__weights='distance')\n",
    "\n",
    "# create a grid search over n_neighbors values\n",
    "# We decided to test from a large variety of neighbors possible. To speed up the computation time, we didn't test all possibilities, but use a step between each number\n",
    "parameters = {\n",
    "        'knn_clf__n_neighbors' : range(1,151,10)\n",
    "}\n",
    "estimator_knnclf = GridSearchCV(knn_clf_pipe, parameters, cv=5)\n",
    "\n",
    "run = False\n",
    "if run:\n",
    "    # With our machines, we had several memory errors. Therefore we decide to use less data in order to have some results\n",
    "    subset_size = 10000\n",
    "    # evaluate the grid search and print best regressor\n",
    "    estimator_knnclf.fit(X_train[:subset_size], y_train[:subset_size])\n",
    "    print(estimator_knnclf.best_estimator_)\n",
    "else:\n",
    "    # Copy/Paste from the results of the 'if' block\n",
    "    print(\"Pipeline(steps=[('knn_clf', KNeighborsClassifier(algorithm='brute', leaf_size=30, metric='minkowski',\\\n",
    "           metric_params=None, n_jobs=1, n_neighbors=71, p=2,\\\n",
    "           weights='uniform'))])\")"
   ]
  },
  {
   "cell_type": "code",
   "execution_count": 143,
   "metadata": {
    "ExecuteTime": {
     "end_time": "2017-05-21T19:39:59.987341",
     "start_time": "2017-05-21T19:39:59.982719"
    },
    "collapsed": true
   },
   "outputs": [],
   "source": [
    "# best number of neighbors obtained using GridSearchCV\n",
    "best_clf_tree_neighbors = 71"
   ]
  },
  {
   "cell_type": "code",
   "execution_count": 144,
   "metadata": {
    "ExecuteTime": {
     "end_time": "2017-05-21T19:40:14.512736",
     "start_time": "2017-05-21T19:40:02.322991"
    }
   },
   "outputs": [
    {
     "name": "stdout",
     "output_type": "stream",
     "text": [
      "('Precision mean: ', 0.63337657443581974)\n"
     ]
    }
   ],
   "source": [
    "# fix the number of neighbors to the best value\n",
    "knn_clf_pipe.set_params(knn_clf__n_neighbors=best_clf_tree_neighbors)\n",
    "\n",
    "# fit the model to the training set\n",
    "knn_clf_pipe.fit(X_train, y_train)\n",
    "\n",
    "# Need to use a subset to avoid memorry_errors !\n",
    "subset_size = 2000\n",
    "y_pred = knn_clf_pipe.predict(X_test[:subset_size])\n",
    "print_precision(y_test[:subset_size], y_pred)"
   ]
  },
  {
   "cell_type": "code",
   "execution_count": 145,
   "metadata": {
    "ExecuteTime": {
     "end_time": "2017-05-21T19:40:26.388865",
     "start_time": "2017-05-21T19:40:26.382898"
    },
    "collapsed": true
   },
   "outputs": [],
   "source": [
    "knn_precision = 0.633376574436"
   ]
  },
  {
   "cell_type": "code",
   "execution_count": 147,
   "metadata": {},
   "outputs": [
    {
     "data": {
      "image/png": "[encoded data removed]",
      "text/plain": [
       "<matplotlib.figure.Figure at 0x7fddd3346510>"
      ]
     },
     "metadata": {},
     "output_type": "display_data"
    }
   ],
   "source": [
    "print_confusion_matrix(y_test[:subset_size], y_pred, 2)"
   ]
  },
  {
   "cell_type": "markdown",
   "metadata": {},
   "source": [
    "### Information Based model: Random Forest Classifier"
   ]
  },
  {
   "cell_type": "code",
   "execution_count": 148,
   "metadata": {
    "ExecuteTime": {
     "end_time": "2017-05-21T19:40:27.999991",
     "start_time": "2017-05-21T19:40:27.982854"
    }
   },
   "outputs": [
    {
     "name": "stdout",
     "output_type": "stream",
     "text": [
      "{'max_depth': 41, 'n_estimators': 501}\n"
     ]
    }
   ],
   "source": [
    "tuned_parameters = {\n",
    "    'n_estimators': range(1,801,100),\n",
    "    'max_depth': range(1,101,20)\n",
    "    }\n",
    "\n",
    "rf_clf = GridSearchCV(RandomForestClassifier(), tuned_parameters, cv=5, scoring='accuracy')\n",
    "\n",
    "run = False\n",
    "if run:\n",
    "    # As for before, we need to use less data to avoid 'memory_errors'\n",
    "    subset_size = 1000\n",
    "    rf_clf.fit(X_train[:subset_size],y_train[:subset_size])\n",
    "    print(rf_clf.best_params_)\n",
    "else:\n",
    "    print(\"{'max_depth': 41, 'n_estimators': 501}\")"
   ]
  },
  {
   "cell_type": "code",
   "execution_count": 149,
   "metadata": {
    "ExecuteTime": {
     "end_time": "2017-05-21T19:40:29.713906",
     "start_time": "2017-05-21T19:40:29.701964"
    }
   },
   "outputs": [
    {
     "name": "stdout",
     "output_type": "stream",
     "text": [
      "{'max_depth': 32, 'n_estimators': 507}\n"
     ]
    }
   ],
   "source": [
    "tuned_parameters = {\n",
    "    'n_estimators': range(492,511,5),\n",
    "    'max_depth': range(32,51,3)\n",
    "    }\n",
    "\n",
    "rf_clf = GridSearchCV(RandomForestClassifier(), tuned_parameters, cv=5, scoring='accuracy')\n",
    "\n",
    "run = False\n",
    "if run:\n",
    "    # As for before, we need to use less data to avoid 'memory_errors'\n",
    "    subset_size = 1000\n",
    "    rf_clf.fit(X_train[:subset_size],y_train[:subset_size])\n",
    "    print(rf_clf.best_params_)\n",
    "else:\n",
    "    print(\"{'max_depth': 32, 'n_estimators': 507}\")"
   ]
  },
  {
   "cell_type": "code",
   "execution_count": 150,
   "metadata": {
    "ExecuteTime": {
     "end_time": "2017-05-21T19:40:31.806423",
     "start_time": "2017-05-21T19:40:31.800894"
    },
    "collapsed": true
   },
   "outputs": [],
   "source": [
    "best_n_estimators = 507\n",
    "best_clf_tree_depth = 32"
   ]
  },
  {
   "cell_type": "code",
   "execution_count": 151,
   "metadata": {
    "ExecuteTime": {
     "end_time": "2017-05-21T19:41:21.828598",
     "start_time": "2017-05-21T19:40:35.869113"
    }
   },
   "outputs": [
    {
     "name": "stdout",
     "output_type": "stream",
     "text": [
      "('Precision mean: ', 0.75841901352015095)\n"
     ]
    }
   ],
   "source": [
    "rf_clf = RandomForestClassifier(n_estimators=best_n_estimators, max_depth=best_clf_tree_depth)\n",
    "\n",
    "# As previously, we need to use less data to avoid 'memory_errors' and speed up the all computation\n",
    "subset_size = 10000\n",
    "rf_clf.fit(X_train[:subset_size],y_train[:subset_size])\n",
    "\n",
    "y_pred = rf_clf.predict(X_test)\n",
    "print_precision(y_test, y_pred)"
   ]
  },
  {
   "cell_type": "code",
   "execution_count": 152,
   "metadata": {
    "ExecuteTime": {
     "end_time": "2017-05-21T19:41:42.878602",
     "start_time": "2017-05-21T19:41:42.875114"
    },
    "collapsed": true
   },
   "outputs": [],
   "source": [
    "randomForest_precision = 0.761861106092"
   ]
  },
  {
   "cell_type": "code",
   "execution_count": 153,
   "metadata": {},
   "outputs": [
    {
     "data": {
      "image/png": "[encoded data removed]",
      "text/plain": [
       "<matplotlib.figure.Figure at 0x7fddd3587cd0>"
      ]
     },
     "metadata": {},
     "output_type": "display_data"
    }
   ],
   "source": [
    "print_confusion_matrix(y_test, y_pred, 2)"
   ]
  },
  {
   "cell_type": "markdown",
   "metadata": {},
   "source": [
    "## <a name=\"modelscomparison2\"> </a>Models comparison"
   ]
  },
  {
   "cell_type": "code",
   "execution_count": 154,
   "metadata": {
    "ExecuteTime": {
     "end_time": "2017-05-21T19:41:44.968769",
     "start_time": "2017-05-21T19:41:44.768167"
    }
   },
   "outputs": [
    {
     "data": {
      "image/png": "[encoded data removed]",
      "text/plain": [
       "<matplotlib.figure.Figure at 0x7fddd3055ed0>"
      ]
     },
     "metadata": {},
     "output_type": "display_data"
    }
   ],
   "source": [
    "models_precision = [baseline_precision, svc_precision, SGD_precision, knn_precision, randomForest_precision]\n",
    "models = [\"Baseline\", \"SVC\", \"SGD\", \"KNN\", \"Random Forest\"]\n",
    "\n",
    "models_df = pd.DataFrame(models_precision, models)\n",
    "models_df[0].plot(kind='bar')\n",
    "plt.show()"
   ]
  },
  {
   "cell_type": "code",
   "execution_count": 155,
   "metadata": {
    "ExecuteTime": {
     "end_time": "2017-05-21T19:41:47.525461",
     "start_time": "2017-05-21T19:41:47.517540"
    }
   },
   "outputs": [
    {
     "data": {
      "text/plain": [
       "[0.501699828321,\n",
       " 0.779240039965,\n",
       " 0.773593728562,\n",
       " 0.633376574436,\n",
       " 0.761861106092]"
      ]
     },
     "execution_count": 155,
     "metadata": {},
     "output_type": "execute_result"
    }
   ],
   "source": [
    "models_precision"
   ]
  },
  {
   "cell_type": "markdown",
   "metadata": {},
   "source": [
    "As for step 1, we have the two linear models among the tree models that perform best. We can also note that the KNN model has 'reduced' its difference with the others. But as for step 1, the two linear models are performing better and the **SVC model** seems to be the best fit to predict the unseen data (difference of 0.0056 !)"
   ]
  },
  {
   "cell_type": "markdown",
   "metadata": {},
   "source": [
    "## <a name=\"unseen2\"> </a>Prediction of the unseen data"
   ]
  },
  {
   "cell_type": "code",
   "execution_count": 156,
   "metadata": {
    "ExecuteTime": {
     "end_time": "2017-05-21T19:41:55.661599",
     "start_time": "2017-05-21T19:41:55.230664"
    }
   },
   "outputs": [
    {
     "data": {
      "text/html": [
       "<div>\n",
       "<style>\n",
       "    .dataframe thead tr:only-child th {\n",
       "        text-align: right;\n",
       "    }\n",
       "\n",
       "    .dataframe thead th {\n",
       "        text-align: left;\n",
       "    }\n",
       "\n",
       "    .dataframe tbody tr th {\n",
       "        vertical-align: top;\n",
       "    }\n",
       "</style>\n",
       "<table border=\"1\" class=\"dataframe\">\n",
       "  <thead>\n",
       "    <tr style=\"text-align: right;\">\n",
       "      <th></th>\n",
       "      <th>Unnamed: 0</th>\n",
       "      <th>reviewerID</th>\n",
       "      <th>asin</th>\n",
       "      <th>reviewerName</th>\n",
       "      <th>helpful</th>\n",
       "      <th>reviewText</th>\n",
       "      <th>summary</th>\n",
       "      <th>unixReviewTime</th>\n",
       "      <th>reviewTime</th>\n",
       "      <th>label</th>\n",
       "    </tr>\n",
       "  </thead>\n",
       "  <tbody>\n",
       "    <tr>\n",
       "      <th>3116</th>\n",
       "      <td>3116</td>\n",
       "      <td>A1UCO1WWVZBZFB</td>\n",
       "      <td>B00C5CTW9G</td>\n",
       "      <td>Ty</td>\n",
       "      <td>[0, 0]</td>\n",
       "      <td>Look, nothing can capture the feeling of seein...</td>\n",
       "      <td>Happy to be in the Stomp</td>\n",
       "      <td>1372291200</td>\n",
       "      <td>06 27, 2013</td>\n",
       "      <td>?</td>\n",
       "    </tr>\n",
       "    <tr>\n",
       "      <th>1927</th>\n",
       "      <td>1927</td>\n",
       "      <td>A1P4J7OWPC305Z</td>\n",
       "      <td>B00002S5DF</td>\n",
       "      <td>\"big_talka\"</td>\n",
       "      <td>[0, 1]</td>\n",
       "      <td>wat is up wit all of ull hating on biggie caus...</td>\n",
       "      <td>this aint ready to die but this aint no 3 star...</td>\n",
       "      <td>1058313600</td>\n",
       "      <td>07 16, 2003</td>\n",
       "      <td>?</td>\n",
       "    </tr>\n",
       "    <tr>\n",
       "      <th>11096</th>\n",
       "      <td>11096</td>\n",
       "      <td>A3E71IZE9IK9WM</td>\n",
       "      <td>B0090OPBTC</td>\n",
       "      <td>Justin Clash</td>\n",
       "      <td>[0, 0]</td>\n",
       "      <td>I really don't ever purchase many albums let a...</td>\n",
       "      <td>Best album in a long time</td>\n",
       "      <td>1392854400</td>\n",
       "      <td>02 20, 2014</td>\n",
       "      <td>?</td>\n",
       "    </tr>\n",
       "    <tr>\n",
       "      <th>3618</th>\n",
       "      <td>3618</td>\n",
       "      <td>A2708RDLWPPDOM</td>\n",
       "      <td>B0048IOHM2</td>\n",
       "      <td>Proud Mommy</td>\n",
       "      <td>[0, 0]</td>\n",
       "      <td>Taylor Swift might not be the best vocalist ar...</td>\n",
       "      <td>Cute Song</td>\n",
       "      <td>1288483200</td>\n",
       "      <td>10 31, 2010</td>\n",
       "      <td>?</td>\n",
       "    </tr>\n",
       "    <tr>\n",
       "      <th>14538</th>\n",
       "      <td>14538</td>\n",
       "      <td>A1RNGCMRM9Q2MT</td>\n",
       "      <td>B000089CJI</td>\n",
       "      <td>green giggie</td>\n",
       "      <td>[0, 1]</td>\n",
       "      <td>I overheard one of my friends talking about th...</td>\n",
       "      <td>I'm thinking it's a sign...</td>\n",
       "      <td>1134604800</td>\n",
       "      <td>12 15, 2005</td>\n",
       "      <td>?</td>\n",
       "    </tr>\n",
       "  </tbody>\n",
       "</table>\n",
       "</div>"
      ],
      "text/plain": [
       "       Unnamed: 0      reviewerID        asin  reviewerName helpful  \\\n",
       "3116         3116  A1UCO1WWVZBZFB  B00C5CTW9G            Ty  [0, 0]   \n",
       "1927         1927  A1P4J7OWPC305Z  B00002S5DF   \"big_talka\"  [0, 1]   \n",
       "11096       11096  A3E71IZE9IK9WM  B0090OPBTC  Justin Clash  [0, 0]   \n",
       "3618         3618  A2708RDLWPPDOM  B0048IOHM2   Proud Mommy  [0, 0]   \n",
       "14538       14538  A1RNGCMRM9Q2MT  B000089CJI  green giggie  [0, 1]   \n",
       "\n",
       "                                              reviewText  \\\n",
       "3116   Look, nothing can capture the feeling of seein...   \n",
       "1927   wat is up wit all of ull hating on biggie caus...   \n",
       "11096  I really don't ever purchase many albums let a...   \n",
       "3618   Taylor Swift might not be the best vocalist ar...   \n",
       "14538  I overheard one of my friends talking about th...   \n",
       "\n",
       "                                                 summary  unixReviewTime  \\\n",
       "3116                            Happy to be in the Stomp      1372291200   \n",
       "1927   this aint ready to die but this aint no 3 star...      1058313600   \n",
       "11096                          Best album in a long time      1392854400   \n",
       "3618                                           Cute Song      1288483200   \n",
       "14538                        I'm thinking it's a sign...      1134604800   \n",
       "\n",
       "        reviewTime label  \n",
       "3116   06 27, 2013     ?  \n",
       "1927   07 16, 2003     ?  \n",
       "11096  02 20, 2014     ?  \n",
       "3618   10 31, 2010     ?  \n",
       "14538  12 15, 2005     ?  "
      ]
     },
     "execution_count": 156,
     "metadata": {},
     "output_type": "execute_result"
    }
   ],
   "source": [
    "# We will apply the same modification as for the preprocessing step for this new dataset\n",
    "\n",
    "!gunzip -c amazon_step1_unseen.csv.gz > amazon_step1_unseen.csv\n",
    "df2_unseen = pd.read_csv(\"amazon_step2_unseen.csv\")\n",
    "\n",
    "df2_unseen.sample(5)"
   ]
  },
  {
   "cell_type": "code",
   "execution_count": 157,
   "metadata": {
    "ExecuteTime": {
     "end_time": "2017-05-21T19:41:57.962992",
     "start_time": "2017-05-21T19:41:57.941452"
    }
   },
   "outputs": [
    {
     "data": {
      "text/plain": [
       "Unnamed: 0         0\n",
       "reviewerID         0\n",
       "asin               0\n",
       "reviewerName      44\n",
       "helpful            0\n",
       "reviewText         0\n",
       "summary            0\n",
       "unixReviewTime     0\n",
       "reviewTime         0\n",
       "label              0\n",
       "dtype: int64"
      ]
     },
     "execution_count": 157,
     "metadata": {},
     "output_type": "execute_result"
    }
   ],
   "source": [
    "# Verifiy if this data as null values\n",
    "df2_unseen.isnull().sum()"
   ]
  },
  {
   "cell_type": "code",
   "execution_count": 158,
   "metadata": {
    "ExecuteTime": {
     "end_time": "2017-05-21T19:46:02.535364",
     "start_time": "2017-05-21T19:42:01.411665"
    },
    "collapsed": true
   },
   "outputs": [],
   "source": [
    "# Create the new features\n",
    "createHelpfulPercentage(df2_unseen)\n",
    "createTextLength(df2_unseen, \"reviewText\")\n",
    "createTextPunctuationFeatures(df2_unseen, \"reviewText\")\n",
    "contains_smiley(df2_unseen, \"reviewText\")\n",
    "createALLCAPS(df2_unseen, \"reviewText\")\n",
    "createTextLength(df2_unseen, \"summary\")\n",
    "createTextPunctuationFeatures(df2_unseen, \"summary\")\n",
    "contains_smiley(df2_unseen, \"summary\")\n",
    "createALLCAPS(df2_unseen, \"summary\")\n",
    "wordSentimentRatio(df2_unseen)\n",
    "\n",
    "\n",
    "# Standardize with MinMaxScaler\n",
    "df2_unseen.helpfulPercentage          =    scalerHelpful.transform(     df2_unseen.helpfulPercentage.values.reshape(-1,1))\n",
    "df2_unseen.reviewTextLength           =    scalerTextLength.transform(  df2_unseen.reviewTextLength.values.reshape(-1,1))\n",
    "df2_unseen.reviewTextCountPoints      =    scalerCountPoints.transform( df2_unseen.reviewTextCountPoints.values.reshape(-1,1))\n",
    "df2_unseen.reviewTextCountExcl        =    scalerCountExcl.transform(   df2_unseen.reviewTextCountExcl.values.reshape(-1,1))\n",
    "df2_unseen.reviewTextCountInterr      =    scalerCountInterr.transform( df2_unseen.reviewTextCountInterr.values.reshape(-1,1))\n",
    "df2_unseen.reviewTextCountComas       =    scalerCountComas.transform(  df2_unseen.reviewTextCountComas.values.reshape(-1,1))\n",
    "df2_unseen.summaryLength              =    summaryScalerTextLength.transform(  df2_unseen.summaryLength.values.reshape(-1,1))\n",
    "df2_unseen.summaryCountPoints         =    summaryScalerCountPoint.transform( df2_unseen.summaryCountPoints.values.reshape(-1,1))\n",
    "df2_unseen.summaryCountExcl           =    summaryScalerCountExcl.transform(   df2_unseen.summaryCountExcl.values.reshape(-1,1))\n",
    "df2_unseen.summaryCountInterr         =    summaryScalerCountInterr.transform( df2_unseen.summaryCountInterr.values.reshape(-1,1))\n",
    "df2_unseen.summaryCountComas          =    summaryScalerCountComas.transform(  df2_unseen.summaryCountComas.values.reshape(-1,1))\n",
    "\n",
    "# TF-IDF for 'reviewText'\n",
    "pipe_modified.fit(df2.reviewText)\n",
    "x_reviewText = pipe_modified.transform(df2_unseen.reviewText)\n",
    "\n",
    "# TF-IDF for 'summary'\n",
    "pipe_modified.fit(df2.summary)\n",
    "x_summary = pipe_modified.transform(df2_unseen.summary)\n",
    "\n",
    "# Merge all features into a single dataframe\n",
    "X_unseen = hstack((x_reviewText, x_summary))\n",
    "featuresToUse = [\"helpfulPercentage\", \"reviewTextLength\", \"reviewTextCountPoints\", \"reviewTextCountExcl\", \"reviewTextCountInterr\", \"reviewTextCountComas\", \"reviewTextNegativeSmiley\", \\\n",
    "                \"summaryCountPoints\", \"summaryCountExcl\", \"summaryCountInterr\", \"summaryCountComas\", \"positiveRatio\", \"positiveRatioSummary\"]\n",
    "for c in featuresToUse:\n",
    "    X_unseen = hstack((X_unseen,(df2_unseen[c])[:,None]))"
   ]
  },
  {
   "cell_type": "code",
   "execution_count": 159,
   "metadata": {
    "ExecuteTime": {
     "end_time": "2017-05-21T19:49:51.852981",
     "start_time": "2017-05-21T19:49:08.488904"
    },
    "collapsed": true
   },
   "outputs": [],
   "source": [
    "# SVC Classifier gives use the best prediction accuracy, we use it \n",
    "svc = LinearSVC(C=best_C)\n",
    "svc.fit(X2, y)\n",
    "\n",
    "y_unseen_pred = svc.predict(X_unseen)"
   ]
  },
  {
   "cell_type": "code",
   "execution_count": 160,
   "metadata": {
    "ExecuteTime": {
     "end_time": "2017-05-21T19:49:55.003744",
     "start_time": "2017-05-21T19:49:54.939047"
    },
    "collapsed": true
   },
   "outputs": [],
   "source": [
    "# export the prediction into a file named \"pred2.txt\"\n",
    "file = open('pred2.txt', 'w')\n",
    "for item in y_unseen_pred:\n",
    "  file.write(\"%s\\n\" % item)"
   ]
  },
  {
   "cell_type": "markdown",
   "metadata": {
    "collapsed": true
   },
   "source": [
    "# <a name=\"step3\"> </a>Step 3\n",
    "\n",
    "> Predict the actual number of stars, based on the reviewText field. Again, the dataset for this step is filtered down to the Digital_Music category. Construct the problem as a multiclass classification (5 categories labeled from 1 to 5).\n",
    ">\n",
    "> `f(reviewText) -> overall`"
   ]
  },
  {
   "cell_type": "markdown",
   "metadata": {},
   "source": [
    "## <a name=\"preprocessing3\"> </a> Preprocessing"
   ]
  },
  {
   "cell_type": "code",
   "execution_count": 161,
   "metadata": {
    "ExecuteTime": {
     "end_time": "2017-05-21T19:50:00.145419",
     "start_time": "2017-05-21T19:50:00.100664"
    }
   },
   "outputs": [
    {
     "data": {
      "text/html": [
       "<div>\n",
       "<style>\n",
       "    .dataframe thead tr:only-child th {\n",
       "        text-align: right;\n",
       "    }\n",
       "\n",
       "    .dataframe thead th {\n",
       "        text-align: left;\n",
       "    }\n",
       "\n",
       "    .dataframe tbody tr th {\n",
       "        vertical-align: top;\n",
       "    }\n",
       "</style>\n",
       "<table border=\"1\" class=\"dataframe\">\n",
       "  <thead>\n",
       "    <tr style=\"text-align: right;\">\n",
       "      <th></th>\n",
       "      <th>overall</th>\n",
       "      <th>reviewText</th>\n",
       "      <th>summary</th>\n",
       "      <th>helpfulPercentage</th>\n",
       "      <th>reviewTextLength</th>\n",
       "      <th>reviewTextCountPoints</th>\n",
       "      <th>reviewTextCountExcl</th>\n",
       "      <th>reviewTextCountInterr</th>\n",
       "      <th>reviewTextCountComas</th>\n",
       "      <th>reviewTextPositiveSmiley</th>\n",
       "      <th>...</th>\n",
       "      <th>positiveRatio</th>\n",
       "      <th>positiveRatioSummary</th>\n",
       "      <th>summaryLength</th>\n",
       "      <th>summaryCountPoints</th>\n",
       "      <th>summaryCountExcl</th>\n",
       "      <th>summaryCountInterr</th>\n",
       "      <th>summaryCountComas</th>\n",
       "      <th>summaryPositiveSmiley</th>\n",
       "      <th>summaryNegativeSmiley</th>\n",
       "      <th>summaryAllCAPS</th>\n",
       "    </tr>\n",
       "  </thead>\n",
       "  <tbody>\n",
       "    <tr>\n",
       "      <th>34328</th>\n",
       "      <td>4</td>\n",
       "      <td>WHo says the West can't flow? This album prove...</td>\n",
       "      <td>Finna Show You How The West Coast Rocks!!!</td>\n",
       "      <td>-1.224579</td>\n",
       "      <td>-0.532442</td>\n",
       "      <td>-0.334815</td>\n",
       "      <td>0.026761</td>\n",
       "      <td>0.621531</td>\n",
       "      <td>-0.513609</td>\n",
       "      <td>0</td>\n",
       "      <td>...</td>\n",
       "      <td>1.0</td>\n",
       "      <td>1.0</td>\n",
       "      <td>0.842191</td>\n",
       "      <td>-0.343490</td>\n",
       "      <td>2.141653</td>\n",
       "      <td>-0.144688</td>\n",
       "      <td>-0.316271</td>\n",
       "      <td>0</td>\n",
       "      <td>0</td>\n",
       "      <td>False</td>\n",
       "    </tr>\n",
       "    <tr>\n",
       "      <th>32534</th>\n",
       "      <td>5</td>\n",
       "      <td>This CD is like a freakin' brother to me.  It'...</td>\n",
       "      <td>I SWEAR BY THIS CD</td>\n",
       "      <td>-0.634354</td>\n",
       "      <td>-0.761575</td>\n",
       "      <td>-0.488985</td>\n",
       "      <td>-0.320319</td>\n",
       "      <td>-0.327919</td>\n",
       "      <td>-0.773790</td>\n",
       "      <td>0</td>\n",
       "      <td>...</td>\n",
       "      <td>1.0</td>\n",
       "      <td>1.0</td>\n",
       "      <td>-0.633050</td>\n",
       "      <td>-0.343490</td>\n",
       "      <td>-0.242413</td>\n",
       "      <td>-0.144688</td>\n",
       "      <td>-0.316271</td>\n",
       "      <td>0</td>\n",
       "      <td>0</td>\n",
       "      <td>True</td>\n",
       "    </tr>\n",
       "    <tr>\n",
       "      <th>52397</th>\n",
       "      <td>5</td>\n",
       "      <td>Newly newly newly. You are such a free spirit ...</td>\n",
       "      <td>looser!</td>\n",
       "      <td>-1.224579</td>\n",
       "      <td>-0.898506</td>\n",
       "      <td>-0.797326</td>\n",
       "      <td>0.373840</td>\n",
       "      <td>-0.327919</td>\n",
       "      <td>-0.860517</td>\n",
       "      <td>0</td>\n",
       "      <td>...</td>\n",
       "      <td>1.0</td>\n",
       "      <td>1.0</td>\n",
       "      <td>-1.309203</td>\n",
       "      <td>-0.343490</td>\n",
       "      <td>0.552276</td>\n",
       "      <td>-0.144688</td>\n",
       "      <td>-0.316271</td>\n",
       "      <td>0</td>\n",
       "      <td>0</td>\n",
       "      <td>False</td>\n",
       "    </tr>\n",
       "    <tr>\n",
       "      <th>63521</th>\n",
       "      <td>4</td>\n",
       "      <td>The Yeah Yeah Yeahs much like fellow New Yorke...</td>\n",
       "      <td>YEAH YEAH YEAHS DELIVER AGAIN WITH \"MOSQUITO\"</td>\n",
       "      <td>0.428052</td>\n",
       "      <td>1.087916</td>\n",
       "      <td>-0.103560</td>\n",
       "      <td>1.068000</td>\n",
       "      <td>-0.327919</td>\n",
       "      <td>-0.687063</td>\n",
       "      <td>0</td>\n",
       "      <td>...</td>\n",
       "      <td>1.0</td>\n",
       "      <td>1.0</td>\n",
       "      <td>1.026596</td>\n",
       "      <td>-0.343490</td>\n",
       "      <td>-0.242413</td>\n",
       "      <td>-0.144688</td>\n",
       "      <td>-0.316271</td>\n",
       "      <td>0</td>\n",
       "      <td>0</td>\n",
       "      <td>True</td>\n",
       "    </tr>\n",
       "    <tr>\n",
       "      <th>28332</th>\n",
       "      <td>4</td>\n",
       "      <td>I would have to say this doesn't deserve a ful...</td>\n",
       "      <td>They're pretty good...</td>\n",
       "      <td>-0.044128</td>\n",
       "      <td>-0.109780</td>\n",
       "      <td>1.052718</td>\n",
       "      <td>0.026761</td>\n",
       "      <td>-0.327919</td>\n",
       "      <td>0.440389</td>\n",
       "      <td>0</td>\n",
       "      <td>...</td>\n",
       "      <td>1.0</td>\n",
       "      <td>1.0</td>\n",
       "      <td>-0.387177</td>\n",
       "      <td>1.605576</td>\n",
       "      <td>-0.242413</td>\n",
       "      <td>-0.144688</td>\n",
       "      <td>-0.316271</td>\n",
       "      <td>0</td>\n",
       "      <td>0</td>\n",
       "      <td>False</td>\n",
       "    </tr>\n",
       "  </tbody>\n",
       "</table>\n",
       "<p>5 rows × 23 columns</p>\n",
       "</div>"
      ],
      "text/plain": [
       "       overall                                         reviewText  \\\n",
       "34328        4  WHo says the West can't flow? This album prove...   \n",
       "32534        5  This CD is like a freakin' brother to me.  It'...   \n",
       "52397        5  Newly newly newly. You are such a free spirit ...   \n",
       "63521        4  The Yeah Yeah Yeahs much like fellow New Yorke...   \n",
       "28332        4  I would have to say this doesn't deserve a ful...   \n",
       "\n",
       "                                             summary  helpfulPercentage  \\\n",
       "34328     Finna Show You How The West Coast Rocks!!!          -1.224579   \n",
       "32534                             I SWEAR BY THIS CD          -0.634354   \n",
       "52397                                        looser!          -1.224579   \n",
       "63521  YEAH YEAH YEAHS DELIVER AGAIN WITH \"MOSQUITO\"           0.428052   \n",
       "28332                         They're pretty good...          -0.044128   \n",
       "\n",
       "       reviewTextLength  reviewTextCountPoints  reviewTextCountExcl  \\\n",
       "34328         -0.532442              -0.334815             0.026761   \n",
       "32534         -0.761575              -0.488985            -0.320319   \n",
       "52397         -0.898506              -0.797326             0.373840   \n",
       "63521          1.087916              -0.103560             1.068000   \n",
       "28332         -0.109780               1.052718             0.026761   \n",
       "\n",
       "       reviewTextCountInterr  reviewTextCountComas  reviewTextPositiveSmiley  \\\n",
       "34328               0.621531             -0.513609                         0   \n",
       "32534              -0.327919             -0.773790                         0   \n",
       "52397              -0.327919             -0.860517                         0   \n",
       "63521              -0.327919             -0.687063                         0   \n",
       "28332              -0.327919              0.440389                         0   \n",
       "\n",
       "            ...        positiveRatio  positiveRatioSummary  summaryLength  \\\n",
       "34328       ...                  1.0                   1.0       0.842191   \n",
       "32534       ...                  1.0                   1.0      -0.633050   \n",
       "52397       ...                  1.0                   1.0      -1.309203   \n",
       "63521       ...                  1.0                   1.0       1.026596   \n",
       "28332       ...                  1.0                   1.0      -0.387177   \n",
       "\n",
       "       summaryCountPoints  summaryCountExcl  summaryCountInterr  \\\n",
       "34328           -0.343490          2.141653           -0.144688   \n",
       "32534           -0.343490         -0.242413           -0.144688   \n",
       "52397           -0.343490          0.552276           -0.144688   \n",
       "63521           -0.343490         -0.242413           -0.144688   \n",
       "28332            1.605576         -0.242413           -0.144688   \n",
       "\n",
       "       summaryCountComas  summaryPositiveSmiley  summaryNegativeSmiley  \\\n",
       "34328          -0.316271                      0                      0   \n",
       "32534          -0.316271                      0                      0   \n",
       "52397          -0.316271                      0                      0   \n",
       "63521          -0.316271                      0                      0   \n",
       "28332          -0.316271                      0                      0   \n",
       "\n",
       "       summaryAllCAPS  \n",
       "34328           False  \n",
       "32534            True  \n",
       "52397           False  \n",
       "63521            True  \n",
       "28332           False  \n",
       "\n",
       "[5 rows x 23 columns]"
      ]
     },
     "execution_count": 161,
     "metadata": {},
     "output_type": "execute_result"
    }
   ],
   "source": [
    "# We use exactly the same preprocessing as for `step 2`\n",
    "df3 = df2.copy(deep=True)\n",
    "df3.sample(5)"
   ]
  },
  {
   "cell_type": "code",
   "execution_count": 162,
   "metadata": {
    "ExecuteTime": {
     "end_time": "2017-05-21T19:50:01.562900",
     "start_time": "2017-05-21T19:50:01.542782"
    },
    "collapsed": true
   },
   "outputs": [],
   "source": [
    "# The output for part 2 isn't applicable here\n",
    "df3 = df3.drop(['BIN_OVERALL'], axis=1)"
   ]
  },
  {
   "cell_type": "code",
   "execution_count": 163,
   "metadata": {
    "ExecuteTime": {
     "end_time": "2017-05-21T19:50:03.556199",
     "start_time": "2017-05-21T19:50:03.381035"
    }
   },
   "outputs": [
    {
     "data": {
      "image/png": "[encoded data removed]",
      "text/plain": [
       "<matplotlib.figure.Figure at 0x7fddd48a7d50>"
      ]
     },
     "metadata": {},
     "output_type": "display_data"
    }
   ],
   "source": [
    "# Confirmation of what we wrote earlier: data is skewed\n",
    "df3.overall.value_counts().plot(kind='bar')\n",
    "plt.show()"
   ]
  },
  {
   "cell_type": "code",
   "execution_count": 164,
   "metadata": {
    "ExecuteTime": {
     "end_time": "2017-05-21T19:50:04.466131",
     "start_time": "2017-05-21T19:50:04.421981"
    }
   },
   "outputs": [
    {
     "data": {
      "text/html": [
       "<div>\n",
       "<style>\n",
       "    .dataframe thead tr:only-child th {\n",
       "        text-align: right;\n",
       "    }\n",
       "\n",
       "    .dataframe thead th {\n",
       "        text-align: left;\n",
       "    }\n",
       "\n",
       "    .dataframe tbody tr th {\n",
       "        vertical-align: top;\n",
       "    }\n",
       "</style>\n",
       "<table border=\"1\" class=\"dataframe\">\n",
       "  <thead>\n",
       "    <tr style=\"text-align: right;\">\n",
       "      <th></th>\n",
       "      <th>helpfulPercentage</th>\n",
       "      <th>reviewTextLength</th>\n",
       "      <th>reviewTextCountPoints</th>\n",
       "      <th>reviewTextCountExcl</th>\n",
       "      <th>reviewTextCountInterr</th>\n",
       "      <th>reviewTextCountComas</th>\n",
       "      <th>positiveRatio</th>\n",
       "      <th>positiveRatioSummary</th>\n",
       "      <th>summaryLength</th>\n",
       "      <th>summaryCountPoints</th>\n",
       "      <th>summaryCountExcl</th>\n",
       "      <th>summaryCountInterr</th>\n",
       "      <th>summaryCountComas</th>\n",
       "    </tr>\n",
       "    <tr>\n",
       "      <th>overall</th>\n",
       "      <th></th>\n",
       "      <th></th>\n",
       "      <th></th>\n",
       "      <th></th>\n",
       "      <th></th>\n",
       "      <th></th>\n",
       "      <th></th>\n",
       "      <th></th>\n",
       "      <th></th>\n",
       "      <th></th>\n",
       "      <th></th>\n",
       "      <th></th>\n",
       "      <th></th>\n",
       "    </tr>\n",
       "  </thead>\n",
       "  <tbody>\n",
       "    <tr>\n",
       "      <th>1</th>\n",
       "      <td>-0.335824</td>\n",
       "      <td>-0.376946</td>\n",
       "      <td>-0.246240</td>\n",
       "      <td>0.134205</td>\n",
       "      <td>0.394289</td>\n",
       "      <td>-0.329403</td>\n",
       "      <td>0.988695</td>\n",
       "      <td>0.995999</td>\n",
       "      <td>-0.111395</td>\n",
       "      <td>0.091576</td>\n",
       "      <td>0.086169</td>\n",
       "      <td>0.370742</td>\n",
       "      <td>-0.022576</td>\n",
       "    </tr>\n",
       "    <tr>\n",
       "      <th>2</th>\n",
       "      <td>-0.340399</td>\n",
       "      <td>-0.128550</td>\n",
       "      <td>-0.047065</td>\n",
       "      <td>-0.081976</td>\n",
       "      <td>0.228819</td>\n",
       "      <td>-0.125382</td>\n",
       "      <td>0.985658</td>\n",
       "      <td>0.994740</td>\n",
       "      <td>-0.069318</td>\n",
       "      <td>0.101795</td>\n",
       "      <td>-0.128622</td>\n",
       "      <td>0.278558</td>\n",
       "      <td>0.053857</td>\n",
       "    </tr>\n",
       "    <tr>\n",
       "      <th>3</th>\n",
       "      <td>-0.247434</td>\n",
       "      <td>0.051797</td>\n",
       "      <td>0.053358</td>\n",
       "      <td>-0.159637</td>\n",
       "      <td>0.078209</td>\n",
       "      <td>0.057405</td>\n",
       "      <td>0.990815</td>\n",
       "      <td>0.992453</td>\n",
       "      <td>0.027809</td>\n",
       "      <td>0.072123</td>\n",
       "      <td>-0.158016</td>\n",
       "      <td>0.061875</td>\n",
       "      <td>0.137905</td>\n",
       "    </tr>\n",
       "    <tr>\n",
       "      <th>4</th>\n",
       "      <td>0.011647</td>\n",
       "      <td>0.110114</td>\n",
       "      <td>0.068740</td>\n",
       "      <td>-0.089100</td>\n",
       "      <td>-0.026594</td>\n",
       "      <td>0.107222</td>\n",
       "      <td>0.994704</td>\n",
       "      <td>0.996452</td>\n",
       "      <td>0.038150</td>\n",
       "      <td>0.005321</td>\n",
       "      <td>-0.092279</td>\n",
       "      <td>-0.042961</td>\n",
       "      <td>0.049141</td>\n",
       "    </tr>\n",
       "    <tr>\n",
       "      <th>5</th>\n",
       "      <td>0.096940</td>\n",
       "      <td>-0.020616</td>\n",
       "      <td>-0.018831</td>\n",
       "      <td>0.068278</td>\n",
       "      <td>-0.052850</td>\n",
       "      <td>-0.024339</td>\n",
       "      <td>0.996739</td>\n",
       "      <td>0.999250</td>\n",
       "      <td>-0.008435</td>\n",
       "      <td>-0.032030</td>\n",
       "      <td>0.077160</td>\n",
       "      <td>-0.044488</td>\n",
       "      <td>-0.051937</td>\n",
       "    </tr>\n",
       "  </tbody>\n",
       "</table>\n",
       "</div>"
      ],
      "text/plain": [
       "         helpfulPercentage  reviewTextLength  reviewTextCountPoints  \\\n",
       "overall                                                               \n",
       "1                -0.335824         -0.376946              -0.246240   \n",
       "2                -0.340399         -0.128550              -0.047065   \n",
       "3                -0.247434          0.051797               0.053358   \n",
       "4                 0.011647          0.110114               0.068740   \n",
       "5                 0.096940         -0.020616              -0.018831   \n",
       "\n",
       "         reviewTextCountExcl  reviewTextCountInterr  reviewTextCountComas  \\\n",
       "overall                                                                     \n",
       "1                   0.134205               0.394289             -0.329403   \n",
       "2                  -0.081976               0.228819             -0.125382   \n",
       "3                  -0.159637               0.078209              0.057405   \n",
       "4                  -0.089100              -0.026594              0.107222   \n",
       "5                   0.068278              -0.052850             -0.024339   \n",
       "\n",
       "         positiveRatio  positiveRatioSummary  summaryLength  \\\n",
       "overall                                                       \n",
       "1             0.988695              0.995999      -0.111395   \n",
       "2             0.985658              0.994740      -0.069318   \n",
       "3             0.990815              0.992453       0.027809   \n",
       "4             0.994704              0.996452       0.038150   \n",
       "5             0.996739              0.999250      -0.008435   \n",
       "\n",
       "         summaryCountPoints  summaryCountExcl  summaryCountInterr  \\\n",
       "overall                                                             \n",
       "1                  0.091576          0.086169            0.370742   \n",
       "2                  0.101795         -0.128622            0.278558   \n",
       "3                  0.072123         -0.158016            0.061875   \n",
       "4                  0.005321         -0.092279           -0.042961   \n",
       "5                 -0.032030          0.077160           -0.044488   \n",
       "\n",
       "         summaryCountComas  \n",
       "overall                     \n",
       "1                -0.022576  \n",
       "2                 0.053857  \n",
       "3                 0.137905  \n",
       "4                 0.049141  \n",
       "5                -0.051937  "
      ]
     },
     "execution_count": 164,
     "metadata": {},
     "output_type": "execute_result"
    }
   ],
   "source": [
    "df_created_features = df3.groupby('overall').mean()\n",
    "df_created_features = df_created_features.drop(['reviewTextPositiveSmiley', 'reviewTextNegativeSmiley', 'reviewTextAllCAPS', 'summaryPositiveSmiley', 'summaryNegativeSmiley', 'summaryAllCAPS', ], axis=1)\n",
    "df_created_features"
   ]
  },
  {
   "cell_type": "code",
   "execution_count": 165,
   "metadata": {
    "ExecuteTime": {
     "end_time": "2017-05-21T19:50:07.754517",
     "start_time": "2017-05-21T19:50:05.263042"
    },
    "scrolled": false
   },
   "outputs": [
    {
     "data": {
      "image/png": "[encoded data removed]",
      "text/plain": [
       "<matplotlib.figure.Figure at 0x7fddd122ed90>"
      ]
     },
     "metadata": {},
     "output_type": "display_data"
    },
    {
     "data": {
      "image/png": "[encoded data removed]",
      "text/plain": [
       "<matplotlib.figure.Figure at 0x7fddd12b1510>"
      ]
     },
     "metadata": {},
     "output_type": "display_data"
    },
    {
     "data": {
      "image/png": "[encoded data removed]",
      "text/plain": [
       "<matplotlib.figure.Figure at 0x7fddd34f9510>"
      ]
     },
     "metadata": {},
     "output_type": "display_data"
    },
    {
     "data": {
      "image/png": "[encoded data removed]",
      "text/plain": [
       "<matplotlib.figure.Figure at 0x7fddd36a4550>"
      ]
     },
     "metadata": {},
     "output_type": "display_data"
    },
    {
     "data": {
      "image/png": "[encoded data removed]",
      "text/plain": [
       "<matplotlib.figure.Figure at 0x7fddd3196c90>"
      ]
     },
     "metadata": {},
     "output_type": "display_data"
    },
    {
     "data": {
      "image/png": "[encoded data removed]",
      "text/plain": [
       "<matplotlib.figure.Figure at 0x7fddd1d33310>"
      ]
     },
     "metadata": {},
     "output_type": "display_data"
    },
    {
     "data": {
      "image/png": "[encoded data removed]",
      "text/plain": [
       "<matplotlib.figure.Figure at 0x7fddd3546850>"
      ]
     },
     "metadata": {},
     "output_type": "display_data"
    },
    {
     "data": {
      "image/png": "[encoded data removed]",
      "text/plain": [
       "<matplotlib.figure.Figure at 0x7fddd30954d0>"
      ]
     },
     "metadata": {},
     "output_type": "display_data"
    },
    {
     "data": {
      "image/png": "[encoded data removed]",
      "text/plain": [
       "<matplotlib.figure.Figure at 0x7fddd0f99ed0>"
      ]
     },
     "metadata": {},
     "output_type": "display_data"
    },
    {
     "data": {
      "image/png": "[encoded data removed]",
      "text/plain": [
       "<matplotlib.figure.Figure at 0x7fddd0f99290>"
      ]
     },
     "metadata": {},
     "output_type": "display_data"
    },
    {
     "data": {
      "image/png": "[encoded data removed]",
      "text/plain": [
       "<matplotlib.figure.Figure at 0x7fddd0d734d0>"
      ]
     },
     "metadata": {},
     "output_type": "display_data"
    },
    {
     "data": {
      "image/png": "[encoded data removed]",
      "text/plain": [
       "<matplotlib.figure.Figure at 0x7fddd0aa9450>"
      ]
     },
     "metadata": {},
     "output_type": "display_data"
    },
    {
     "data": {
      "image/png": "[encoded data removed]",
      "text/plain": [
       "<matplotlib.figure.Figure at 0x7fddd06bca10>"
      ]
     },
     "metadata": {},
     "output_type": "display_data"
    }
   ],
   "source": [
    "for x in df_created_features:\n",
    "    mean_values = df_created_features[x].values\n",
    "    overall = [\"1\", \"2\", \"3\", \"4\", \"5\"]\n",
    "    \n",
    "    mvalues_df = pd.DataFrame(mean_values, overall)\n",
    "    mvalues_df.plot(kind='bar')\n",
    "    \n",
    "    plt.title(x)\n",
    "    plt.ylim([-0.4, 0.4])\n",
    "    plt.show()"
   ]
  },
  {
   "cell_type": "markdown",
   "metadata": {},
   "source": [
    "We decide to keep all features created !"
   ]
  },
  {
   "cell_type": "code",
   "execution_count": 166,
   "metadata": {
    "ExecuteTime": {
     "end_time": "2017-05-21T19:50:34.999168",
     "start_time": "2017-05-21T19:50:34.938420"
    }
   },
   "outputs": [
    {
     "name": "stdout",
     "output_type": "stream",
     "text": [
      "-- Positive Smiley\n",
      "Percentage, per class, of samples with a positive smiley\n",
      "('1 ==> ', 0.0096739519885345755, '%')\n",
      "('2 ==> ', 0.013621262458471761, '%')\n",
      "('3 ==> ', 0.021947267638827515, '%')\n",
      "('4 ==> ', 0.027455249153362362, '%')\n",
      "('5 ==> ', 0.023524451939291736, '%')\n",
      "()\n",
      "-- Negative Smiley\n",
      "Percentage, per class, of samples with a negative smiley\n",
      "('1 ==> ', 0.0032246506628448583, '%')\n",
      "('2 ==> ', 0.0019933554817275745, '%')\n",
      "('3 ==> ', 0.0010310796877301518, '%')\n",
      "('4 ==> ', 0.00066521528785679724, '%')\n",
      "('5 ==> ', 0.00053400786958965709, '%')\n",
      "()\n",
      "-- ALL CAPS word\n",
      "Percentage, per class, of samples contains a words written in capital letters in the reviewText feature\n",
      "('1 ==> ', 0.36725188104621997, '%')\n",
      "('2 ==> ', 0.33621262458471762, '%')\n",
      "('3 ==> ', 0.31447930475769625, '%')\n",
      "('4 ==> ', 0.32619738751814226, '%')\n",
      "('5 ==> ', 0.33274311410905005, '%')\n"
     ]
    }
   ],
   "source": [
    "total_nbr = df3.groupby(\"overall\").size()\n",
    "\n",
    "print(\"-- Positive Smiley\")\n",
    "print(\"Percentage, per class, of samples with a positive smiley\")\n",
    "xx = df3[df3.reviewTextPositiveSmiley == 1].groupby(\"overall\").size()\n",
    "for i in range(1,6):\n",
    "    if i not in xx:\n",
    "        xx[i] = 0\n",
    "print(\"1 ==> \", xx[1] / total_nbr[1], \"%\")\n",
    "print(\"2 ==> \", xx[2] / total_nbr[2], \"%\")\n",
    "print(\"3 ==> \", xx[3] / total_nbr[3], \"%\")\n",
    "print(\"4 ==> \", xx[4] / total_nbr[4], \"%\")\n",
    "print(\"5 ==> \", xx[5] / total_nbr[5], \"%\")\n",
    "\n",
    "print()\n",
    "\n",
    "print(\"-- Negative Smiley\")\n",
    "print(\"Percentage, per class, of samples with a negative smiley\")\n",
    "xx = df3[df3.reviewTextNegativeSmiley == 1].groupby(\"overall\").size()\n",
    "for i in range(1,6):\n",
    "    if i not in xx:\n",
    "        xx[i] = 0\n",
    "print(\"1 ==> \", xx[1] / total_nbr[1], \"%\")\n",
    "print(\"2 ==> \", xx[2] / total_nbr[2], \"%\")\n",
    "print(\"3 ==> \", xx[3] / total_nbr[3], \"%\")\n",
    "print(\"4 ==> \", xx[4] / total_nbr[4], \"%\")\n",
    "print(\"5 ==> \", xx[5] / total_nbr[5], \"%\")\n",
    "\n",
    "print()\n",
    "\n",
    "print(\"-- ALL CAPS word\")\n",
    "print(\"Percentage, per class, of samples contains a words written in capital letters in the reviewText feature\")\n",
    "xx = df3[df3.reviewTextAllCAPS == 1].groupby(\"overall\").size()\n",
    "for i in range(1,6):\n",
    "    if i not in xx:\n",
    "        xx[i] = 0\n",
    "print(\"1 ==> \", xx[1] / total_nbr[1], \"%\")\n",
    "print(\"2 ==> \", xx[2] / total_nbr[2], \"%\")\n",
    "print(\"3 ==> \", xx[3] / total_nbr[3], \"%\")\n",
    "print(\"4 ==> \", xx[4] / total_nbr[4], \"%\")\n",
    "print(\"5 ==> \", xx[5] / total_nbr[5], \"%\")"
   ]
  },
  {
   "cell_type": "code",
   "execution_count": 167,
   "metadata": {
    "ExecuteTime": {
     "end_time": "2017-05-21T19:50:40.751869",
     "start_time": "2017-05-21T19:50:40.700904"
    }
   },
   "outputs": [
    {
     "name": "stdout",
     "output_type": "stream",
     "text": [
      "-- Positive Smiley\n",
      "Percentage, per class, of samples with a positive smiley\n",
      "('1 ==> ', 0.0, '%')\n",
      "('2 ==> ', 0.00033222591362126248, '%')\n",
      "('3 ==> ', 0.00029459419649432907, '%')\n",
      "('4 ==> ', 0.00060474117077890664, '%')\n",
      "('5 ==> ', 0.00084317032040472171, '%')\n",
      "()\n",
      "-- Negative Smiley\n",
      "Percentage, per class, of samples with a negative smiley\n",
      "('1 ==> ', 0.00035829451809387314, '%')\n",
      "('2 ==> ', 0.00099667774086378727, '%')\n",
      "('3 ==> ', 0.00058918839298865815, '%')\n",
      "('4 ==> ', 0.00012094823415578132, '%')\n",
      "('5 ==> ', 0.0, '%')\n",
      "()\n",
      "-- ALL CAPS word\n",
      "Percentage, per class, of samples contains a words written in capital letters in the reviewText feature\n",
      "('1 ==> ', 0.14582586886420637, '%')\n",
      "('2 ==> ', 0.080066445182724252, '%')\n",
      "('3 ==> ', 0.070555310060391813, '%')\n",
      "('4 ==> ', 0.070815191098209967, '%')\n",
      "('5 ==> ', 0.10871275997751546, '%')\n"
     ]
    }
   ],
   "source": [
    "total_nbr = df3.groupby(\"overall\").size()\n",
    "\n",
    "print(\"-- Positive Smiley\")\n",
    "print(\"Percentage, per class, of samples with a positive smiley\")\n",
    "xx = df3[df3.summaryPositiveSmiley == 1].groupby(\"overall\").size()\n",
    "for i in range(1,6):\n",
    "    if i not in xx:\n",
    "        xx[i] = 0\n",
    "print(\"1 ==> \", xx[1] / total_nbr[1], \"%\")\n",
    "print(\"2 ==> \", xx[2] / total_nbr[2], \"%\")\n",
    "print(\"3 ==> \", xx[3] / total_nbr[3], \"%\")\n",
    "print(\"4 ==> \", xx[4] / total_nbr[4], \"%\")\n",
    "print(\"5 ==> \", xx[5] / total_nbr[5], \"%\")\n",
    "\n",
    "print()\n",
    "\n",
    "print(\"-- Negative Smiley\")\n",
    "print(\"Percentage, per class, of samples with a negative smiley\")\n",
    "xx = df3[df3.summaryNegativeSmiley == 1].groupby(\"overall\").size()\n",
    "for i in range(1,6):\n",
    "    if i not in xx:\n",
    "        xx[i] = 0\n",
    "print(\"1 ==> \", xx[1] / total_nbr[1], \"%\")\n",
    "print(\"2 ==> \", xx[2] / total_nbr[2], \"%\")\n",
    "print(\"3 ==> \", xx[3] / total_nbr[3], \"%\")\n",
    "print(\"4 ==> \", xx[4] / total_nbr[4], \"%\")\n",
    "print(\"5 ==> \", xx[5] / total_nbr[5], \"%\")\n",
    "\n",
    "print()\n",
    "\n",
    "print(\"-- ALL CAPS word\")\n",
    "print(\"Percentage, per class, of samples contains a words written in capital letters in the reviewText feature\")\n",
    "xx = df3[df3.summaryAllCAPS == 1].groupby(\"overall\").size()\n",
    "for i in range(1,6):\n",
    "    if i not in xx:\n",
    "        xx[i] = 0\n",
    "print(\"1 ==> \", xx[1] / total_nbr[1], \"%\")\n",
    "print(\"2 ==> \", xx[2] / total_nbr[2], \"%\")\n",
    "print(\"3 ==> \", xx[3] / total_nbr[3], \"%\")\n",
    "print(\"4 ==> \", xx[4] / total_nbr[4], \"%\")\n",
    "print(\"5 ==> \", xx[5] / total_nbr[5], \"%\")"
   ]
  },
  {
   "cell_type": "code",
   "execution_count": 168,
   "metadata": {
    "ExecuteTime": {
     "end_time": "2017-05-21T19:57:39.198190",
     "start_time": "2017-05-21T19:50:45.291286"
    },
    "collapsed": true
   },
   "outputs": [],
   "source": [
    "# TF-IDF for 'reviewText'\n",
    "pipe_modified.fit(df3.reviewText)\n",
    "x_reviewText = pipe_modified.transform(df3.reviewText)\n",
    "\n",
    "# TF-IDF for 'summary'\n",
    "pipe_modified.fit(df3.summary)\n",
    "x_summary = pipe_modified.transform(df3.summary)"
   ]
  },
  {
   "cell_type": "code",
   "execution_count": 169,
   "metadata": {
    "ExecuteTime": {
     "end_time": "2017-05-21T19:57:39.361469",
     "start_time": "2017-05-21T19:57:39.199591"
    },
    "collapsed": true
   },
   "outputs": [],
   "source": [
    "# Merge all features into a single dataframe\n",
    "X3 = hstack((x_reviewText, x_summary))"
   ]
  },
  {
   "cell_type": "code",
   "execution_count": 170,
   "metadata": {
    "ExecuteTime": {
     "end_time": "2017-05-21T19:57:40.887522",
     "start_time": "2017-05-21T19:57:39.362919"
    },
    "collapsed": true
   },
   "outputs": [],
   "source": [
    "featuresToUse = [\"helpfulPercentage\", \"reviewTextLength\", \"reviewTextCountPoints\", \"reviewTextCountExcl\", \"reviewTextCountInterr\", \"reviewTextCountComas\", \"reviewTextPositiveSmiley\", \"reviewTextNegativeSmiley\", \"reviewTextAllCAPS\", \\\n",
    "                \"summaryCountPoints\", \"summaryCountExcl\", \"summaryCountInterr\", \"summaryCountComas\", \"summaryPositiveSmiley\", \"summaryNegativeSmiley\", \"summaryAllCAPS\"]\n",
    "for c in featuresToUse:\n",
    "    X3 = hstack((X3,(df3[c])[:,None]))"
   ]
  },
  {
   "cell_type": "code",
   "execution_count": 171,
   "metadata": {
    "ExecuteTime": {
     "end_time": "2017-05-21T19:57:40.893013",
     "start_time": "2017-05-21T19:57:40.889319"
    },
    "collapsed": true
   },
   "outputs": [],
   "source": [
    "y = df3.overall"
   ]
  },
  {
   "cell_type": "code",
   "execution_count": 172,
   "metadata": {
    "ExecuteTime": {
     "end_time": "2017-05-21T19:57:42.514234",
     "start_time": "2017-05-21T19:57:40.894773"
    }
   },
   "outputs": [
    {
     "name": "stdout",
     "output_type": "stream",
     "text": [
      "('X_train: ', (51764, 26528))\n",
      "('y_train: ', (51764,))\n",
      "('X_test:  ', (12942, 26528))\n",
      "('y_test:  ', (12942,))\n"
     ]
    }
   ],
   "source": [
    "X_train, X_test, y_train, y_test = train_test_split(X3, y, test_size=0.2, random_state=seed)\n",
    "\n",
    "# Train\n",
    "print(\"X_train: \", X_train.shape)\n",
    "print(\"y_train: \", y_train.shape)\n",
    "\n",
    "# Test\n",
    "print(\"X_test:  \", X_test.shape)\n",
    "print(\"y_test:  \", y_test.shape)"
   ]
  },
  {
   "cell_type": "markdown",
   "metadata": {},
   "source": [
    "## <a name=\"models3\"> </a> Models"
   ]
  },
  {
   "cell_type": "markdown",
   "metadata": {},
   "source": [
    "### Baseline model"
   ]
  },
  {
   "cell_type": "code",
   "execution_count": 173,
   "metadata": {
    "ExecuteTime": {
     "end_time": "2017-05-21T19:58:03.445117",
     "start_time": "2017-05-21T19:58:03.417739"
    }
   },
   "outputs": [
    {
     "name": "stdout",
     "output_type": "stream",
     "text": [
      "('Precision mean: ', 0.20268073213601814)\n"
     ]
    }
   ],
   "source": [
    "baselineModel = DummyClassifier(random_state=seed)\n",
    "baselineModel.fit(X_train,y_train)\n",
    "y_pred = baselineModel.predict(X_test)\n",
    "\n",
    "print_precision(y_test, y_pred)"
   ]
  },
  {
   "cell_type": "code",
   "execution_count": 174,
   "metadata": {
    "ExecuteTime": {
     "end_time": "2017-05-21T19:58:04.498015",
     "start_time": "2017-05-21T19:58:04.492296"
    },
    "collapsed": true
   },
   "outputs": [],
   "source": [
    "baseline_precision = 0.202680732136"
   ]
  },
  {
   "cell_type": "code",
   "execution_count": 175,
   "metadata": {},
   "outputs": [
    {
     "data": {
      "image/png": "[encoded data removed]",
      "text/plain": [
       "<matplotlib.figure.Figure at 0x7fddd0691410>"
      ]
     },
     "metadata": {},
     "output_type": "display_data"
    }
   ],
   "source": [
    "print_confusion_matrix(y_test, y_pred, 5)"
   ]
  },
  {
   "cell_type": "markdown",
   "metadata": {},
   "source": [
    "### Support Vector Model: Linear Support Vector Classification"
   ]
  },
  {
   "cell_type": "code",
   "execution_count": 176,
   "metadata": {
    "ExecuteTime": {
     "end_time": "2017-05-21T19:59:47.443624",
     "start_time": "2017-05-21T19:58:06.730522"
    }
   },
   "outputs": [
    {
     "data": {
      "text/plain": [
       "{'svm_clf__C': 0.125}"
      ]
     },
     "execution_count": 176,
     "metadata": {},
     "output_type": "execute_result"
    }
   ],
   "source": [
    "# setup pipeline\n",
    "estimators = []\n",
    "estimators.append(('svm_clf', LinearSVC()))\n",
    "pipe = Pipeline(estimators)\n",
    "\n",
    "# tuning requsted parameter\n",
    "tuned_parameters = [{'svm_clf__C': np.logspace(-5,15,11,base=2.0)}]\n",
    "clf = GridSearchCV(pipe, tuned_parameters, cv=5, scoring='accuracy')\n",
    "\n",
    "# Speed up computation: with only a subset of the training data for Grid search\n",
    "subset_size = 2000\n",
    "clf.fit(X_train[:subset_size],y_train[:subset_size])\n",
    "clf.best_params_"
   ]
  },
  {
   "cell_type": "code",
   "execution_count": 177,
   "metadata": {
    "ExecuteTime": {
     "end_time": "2017-05-21T20:00:25.056804",
     "start_time": "2017-05-21T20:00:25.051716"
    },
    "collapsed": true
   },
   "outputs": [],
   "source": [
    "# bect C value resulting from GridSearch\n",
    "best_C = 0.125"
   ]
  },
  {
   "cell_type": "code",
   "execution_count": 178,
   "metadata": {
    "ExecuteTime": {
     "end_time": "2017-05-21T20:02:09.434088",
     "start_time": "2017-05-21T20:00:25.990509"
    }
   },
   "outputs": [
    {
     "name": "stdout",
     "output_type": "stream",
     "text": [
      "('Precision mean: ', 0.57010791838035624)\n"
     ]
    }
   ],
   "source": [
    "svc = LinearSVC(C=best_C)\n",
    "svc.fit(X_train, y_train)\n",
    "\n",
    "y_pred = svc.predict(X_test)\n",
    "print_precision(y_test, y_pred)"
   ]
  },
  {
   "cell_type": "code",
   "execution_count": 179,
   "metadata": {
    "ExecuteTime": {
     "end_time": "2017-05-21T20:06:36.976849",
     "start_time": "2017-05-21T20:06:36.973556"
    },
    "collapsed": true
   },
   "outputs": [],
   "source": [
    "svc_precision = 0.569999522747"
   ]
  },
  {
   "cell_type": "code",
   "execution_count": 180,
   "metadata": {},
   "outputs": [
    {
     "data": {
      "image/png": "[encoded data removed]",
      "text/plain": [
       "<matplotlib.figure.Figure at 0x7fddd0b852d0>"
      ]
     },
     "metadata": {},
     "output_type": "display_data"
    }
   ],
   "source": [
    "print_confusion_matrix(y_test, y_pred, 5)"
   ]
  },
  {
   "cell_type": "markdown",
   "metadata": {
    "ExecuteTime": {
     "end_time": "2017-05-21T09:32:26.201721",
     "start_time": "2017-05-21T07:28:05.390Z"
    }
   },
   "source": [
    "### Linear Model:  Stochastic Gradient Descent"
   ]
  },
  {
   "cell_type": "code",
   "execution_count": 181,
   "metadata": {
    "ExecuteTime": {
     "end_time": "2017-05-21T20:02:09.457253",
     "start_time": "2017-05-21T20:02:09.441066"
    }
   },
   "outputs": [
    {
     "name": "stdout",
     "output_type": "stream",
     "text": [
      "Best params: {'alpha': 0.0001,, 'average': False, 'class_weight': None, 'epsilon': 0.1, 'eta0': 0.0, 'fit_intercept': True,           'l1_ratio': 0.15, 'learning_rate': 'optimal', 'loss': 'hinge', 'n_iter': 5, 'n_jobs': 1, 'penalty': 'l1', 'power_t': 0.5, 'random_state': 2017, 'shuffle': True, 'verbose': 0, 'warm_start': False}\n"
     ]
    }
   ],
   "source": [
    "parameters = {\n",
    "    'penalty': ['l1', 'l2', 'elasticnet'],\n",
    "    'alpha': [0.001, 0.0001, 0.00001, 0.000001]\n",
    "}\n",
    "cv = KFold(n_splits=10, random_state=seed)\n",
    "sgd = GridSearchCV(SGDClassifier(loss=\"hinge\", random_state=seed), parameters,\n",
    "     scoring=\"accuracy\", cv=cv)\n",
    "\n",
    "# Takes approximately 15 minutes to run with our machines\n",
    "runGridSearch = False\n",
    "if (runGridSearch):\n",
    "    X_train_s, X_test_s, y_train_s, y_test_s = train_test_split(X_train, y_train, test_size=0.001, random_state=seed)\n",
    "    X_train_s1, X_test_s1, y_train_s1, y_test_s1 = train_test_split(X_train_s, y_train_s, test_size=0.2, random_state=seed)\n",
    "    sgd.fit(X_train_s1, y_train_s1)\n",
    "    print(\"Best params:\", sgd.best_estimator_.get_params())\n",
    "else:\n",
    "    # Copy/Paste from the results of the 'if' block\n",
    "    print(\"Best params: {'alpha': 0.0001,, 'average': False, 'class_weight': None, 'epsilon': 0.1, 'eta0': 0.0, 'fit_intercept': True, \\\n",
    "          'l1_ratio': 0.15, 'learning_rate': 'optimal', 'loss': 'hinge', 'n_iter': 5, 'n_jobs': 1, 'penalty': 'l1', 'power_t': 0.5, 'random_state': 2017, 'shuffle': True, 'verbose': 0, 'warm_start': False}\")"
   ]
  },
  {
   "cell_type": "code",
   "execution_count": 182,
   "metadata": {
    "ExecuteTime": {
     "end_time": "2017-05-21T20:02:11.186206",
     "start_time": "2017-05-21T20:02:09.461988"
    }
   },
   "outputs": [
    {
     "name": "stdout",
     "output_type": "stream",
     "text": [
      "('Precision mean: ', 0.50937493808932133)\n"
     ]
    }
   ],
   "source": [
    "# Build the SGDClassifier with the best params return by grid search\n",
    "sgd = SGDClassifier(alpha=0.0001, average=False, class_weight=None, epsilon=0.1, eta0=0.0, fit_intercept=True, l1_ratio=0.15, learning_rate='optimal', loss='hinge', n_iter=5, n_jobs=1, penalty='l1', power_t=0.5, random_state=2017, shuffle= True, verbose=0, warm_start=False)\n",
    "\n",
    "# Predict testing data\n",
    "sgd.fit(X_train, y_train)\n",
    "y_pred = sgd.predict(X_test)\n",
    "print_precision(y_test, y_pred)"
   ]
  },
  {
   "cell_type": "code",
   "execution_count": 183,
   "metadata": {
    "ExecuteTime": {
     "end_time": "2017-05-21T20:02:11.190846",
     "start_time": "2017-05-21T20:02:11.188138"
    },
    "collapsed": true
   },
   "outputs": [],
   "source": [
    "SGD_precision = 0.509374938089"
   ]
  },
  {
   "cell_type": "code",
   "execution_count": 184,
   "metadata": {},
   "outputs": [
    {
     "data": {
      "image/png": "[encoded data removed]",
      "text/plain": [
       "<matplotlib.figure.Figure at 0x7fddd09e0050>"
      ]
     },
     "metadata": {},
     "output_type": "display_data"
    }
   ],
   "source": [
    "print_confusion_matrix(y_test, y_pred, 5)"
   ]
  },
  {
   "cell_type": "markdown",
   "metadata": {
    "ExecuteTime": {
     "end_time": "2017-05-21T09:32:26.201910",
     "start_time": "2017-05-21T07:28:31.267Z"
    }
   },
   "source": [
    "### Similarity-based model: KNN Classifier"
   ]
  },
  {
   "cell_type": "code",
   "execution_count": 185,
   "metadata": {
    "ExecuteTime": {
     "end_time": "2017-05-21T20:02:11.208633",
     "start_time": "2017-05-21T20:02:11.192814"
    }
   },
   "outputs": [
    {
     "name": "stdout",
     "output_type": "stream",
     "text": [
      "Pipeline(steps=[('knn_clf', KNeighborsClassifier(algorithm='brute', leaf_size=30, metric='minkowski',           metric_params=None, n_jobs=1, n_neighbors=91, p=2,           weights='uniform'))])\n"
     ]
    }
   ],
   "source": [
    "estimators = []\n",
    "estimators.append(('knn_clf', KNeighborsClassifier()))\n",
    "knn_clf_pipe = Pipeline(estimators)\n",
    "knn_clf_pipe.set_params(knn_clf__algorithm='brute')\n",
    "knn_clf_pipe.set_params(knn_clf__weights='distance')\n",
    "\n",
    "# create a grid search over n_neighbors values\n",
    "# We decided to test from a large variety of neighbors possible. To speed up the computation time, we didn't test all possibilities, but use a step between each number\n",
    "parameters = {\n",
    "        'knn_clf__n_neighbors' : range(1,151,10)\n",
    "}\n",
    "estimator_knnclf = GridSearchCV(knn_clf_pipe, parameters, cv=5)\n",
    "\n",
    "run = False\n",
    "if run:\n",
    "    # With our machines, we had several memory errors. Therefore we decide to use less data in order to have some results\n",
    "    subset_size = 10000\n",
    "    # evaluate the grid search and print best regressor\n",
    "    estimator_knnclf.fit(X_train[:subset_size], y_train[:subset_size])\n",
    "    print(estimator_knnclf.best_estimator_)\n",
    "else:\n",
    "    # Copy/Paste from the results of the 'if' block\n",
    "    print(\"Pipeline(steps=[('knn_clf', KNeighborsClassifier(algorithm='brute', leaf_size=30, metric='minkowski',\\\n",
    "           metric_params=None, n_jobs=1, n_neighbors=91, p=2,\\\n",
    "           weights='uniform'))])\")"
   ]
  },
  {
   "cell_type": "code",
   "execution_count": 186,
   "metadata": {
    "ExecuteTime": {
     "end_time": "2017-05-21T20:02:11.213823",
     "start_time": "2017-05-21T20:02:11.210215"
    },
    "collapsed": true
   },
   "outputs": [],
   "source": [
    "# best number of neighbors obtained using GridSearchCV\n",
    "best_clf_neighbors = 91"
   ]
  },
  {
   "cell_type": "code",
   "execution_count": 187,
   "metadata": {
    "ExecuteTime": {
     "end_time": "2017-05-21T20:02:51.281621",
     "start_time": "2017-05-21T20:02:11.215198"
    }
   },
   "outputs": [
    {
     "name": "stdout",
     "output_type": "stream",
     "text": [
      "('Precision mean: ', 0.4409833488367868)\n"
     ]
    }
   ],
   "source": [
    "# fix the number of neighbors to the best value\n",
    "knn_clf_pipe.set_params(knn_clf__n_neighbors=best_clf_neighbors)\n",
    "\n",
    "# fit the model to the training set\n",
    "knn_clf_pipe.fit(X_train, y_train)\n",
    "\n",
    "subset_size = 5000\n",
    "y_pred = knn_clf_pipe.predict(X_test[:subset_size])\n",
    "print_precision(y_test[:subset_size], y_pred)"
   ]
  },
  {
   "cell_type": "code",
   "execution_count": 188,
   "metadata": {
    "ExecuteTime": {
     "end_time": "2017-05-21T20:02:51.370791",
     "start_time": "2017-05-21T20:02:51.313243"
    },
    "collapsed": true
   },
   "outputs": [],
   "source": [
    "knn_precision = 0.440983348837"
   ]
  },
  {
   "cell_type": "code",
   "execution_count": 191,
   "metadata": {},
   "outputs": [
    {
     "data": {
      "image/png": "[encoded data removed]",
      "text/plain": [
       "<matplotlib.figure.Figure at 0x7fddd0c55c90>"
      ]
     },
     "metadata": {},
     "output_type": "display_data"
    }
   ],
   "source": [
    "print_confusion_matrix(y_test[:subset_size], y_pred, 5)"
   ]
  },
  {
   "cell_type": "markdown",
   "metadata": {},
   "source": [
    "### Information Based model: Random Forest Classifier"
   ]
  },
  {
   "cell_type": "code",
   "execution_count": 192,
   "metadata": {
    "ExecuteTime": {
     "end_time": "2017-05-21T20:02:51.749026",
     "start_time": "2017-05-21T20:02:51.393739"
    }
   },
   "outputs": [
    {
     "name": "stdout",
     "output_type": "stream",
     "text": [
      "{'max_depth': 74, 'n_estimators': 101}\n"
     ]
    }
   ],
   "source": [
    "tuned_parameters = {\n",
    "    'n_estimators': range(1,501,100),\n",
    "    'max_depth': range(44,104,10)\n",
    "    }\n",
    "\n",
    "rf_clf = GridSearchCV(RandomForestClassifier(), tuned_parameters, cv=5, scoring='accuracy')\n",
    "\n",
    "run = False\n",
    "if run:\n",
    "    # As for before, we need to use less data to avoid 'memory_errors'\n",
    "    subset_size = 1000\n",
    "    rf_clf.fit(X_train[:subset_size],y_train[:subset_size])\n",
    "    print(rf_clf.best_params_)\n",
    "else:\n",
    "    print(\"{'max_depth': 74, 'n_estimators': 101}\")"
   ]
  },
  {
   "cell_type": "code",
   "execution_count": 193,
   "metadata": {
    "ExecuteTime": {
     "end_time": "2017-05-21T20:02:51.764973",
     "start_time": "2017-05-21T20:02:51.753465"
    }
   },
   "outputs": [
    {
     "name": "stdout",
     "output_type": "stream",
     "text": [
      "{'max_depth': 72, 'n_estimators': 106}\n"
     ]
    }
   ],
   "source": [
    "tuned_parameters = {\n",
    "    'n_estimators': range(90,111,2),\n",
    "    'max_depth': range(60,90,2)\n",
    "    }\n",
    "\n",
    "rf_clf = GridSearchCV(RandomForestClassifier(), tuned_parameters, cv=5, scoring='accuracy')\n",
    "\n",
    "run = False\n",
    "if run:\n",
    "    # As for before, we need to use less data to avoid 'memory_errors'\n",
    "    subset_size = 1000\n",
    "    rf_clf.fit(X_train[:subset_size],y_train[:subset_size])\n",
    "    print(rf_clf.best_params_)\n",
    "else:\n",
    "    print(\"{'max_depth': 72, 'n_estimators': 106}\")"
   ]
  },
  {
   "cell_type": "code",
   "execution_count": 194,
   "metadata": {
    "ExecuteTime": {
     "end_time": "2017-05-21T20:02:51.795904",
     "start_time": "2017-05-21T20:02:51.785187"
    },
    "collapsed": true
   },
   "outputs": [],
   "source": [
    "best_clf_tree_depth = 72\n",
    "best_n_estimators = 106"
   ]
  },
  {
   "cell_type": "code",
   "execution_count": 195,
   "metadata": {
    "ExecuteTime": {
     "end_time": "2017-05-21T20:06:36.230133",
     "start_time": "2017-05-21T20:02:51.812637"
    }
   },
   "outputs": [
    {
     "name": "stdout",
     "output_type": "stream",
     "text": [
      "('Precision mean: ', 0.57103651860461202)\n"
     ]
    },
    {
     "name": "stderr",
     "output_type": "stream",
     "text": [
      "/root/miniconda2/lib/python2.7/site-packages/sklearn/metrics/classification.py:1113: UndefinedMetricWarning: Precision and F-score are ill-defined and being set to 0.0 in labels with no predicted samples.\n",
      "  'precision', 'predicted', average, warn_for)\n"
     ]
    }
   ],
   "source": [
    "rf_clf = RandomForestClassifier(n_estimators=best_n_estimators, max_depth=best_clf_tree_depth)\n",
    "\n",
    "# As for before, we need to use less data to avoid 'memory_errors' and speed up the all computation\n",
    "rf_clf.fit(X_train,y_train)\n",
    "\n",
    "y_pred = rf_clf.predict(X_test)\n",
    "print_precision(y_test, y_pred)"
   ]
  },
  {
   "cell_type": "code",
   "execution_count": 196,
   "metadata": {
    "ExecuteTime": {
     "end_time": "2017-05-21T20:07:09.074982",
     "start_time": "2017-05-21T20:07:09.070538"
    },
    "collapsed": true
   },
   "outputs": [],
   "source": [
    "randomForest_precision = 0.510858219221"
   ]
  },
  {
   "cell_type": "code",
   "execution_count": 197,
   "metadata": {},
   "outputs": [
    {
     "data": {
      "image/png": "[encoded data removed]",
      "text/plain": [
       "<matplotlib.figure.Figure at 0x7fddd49faed0>"
      ]
     },
     "metadata": {},
     "output_type": "display_data"
    }
   ],
   "source": [
    "print_confusion_matrix(y_test, y_pred, 5)"
   ]
  },
  {
   "cell_type": "markdown",
   "metadata": {},
   "source": [
    "## <a name=\"modelscomparison3\"> </a> Model comparison and best model\n",
    "We rank our models by the accuracy it achieved with the test data."
   ]
  },
  {
   "cell_type": "code",
   "execution_count": 198,
   "metadata": {
    "ExecuteTime": {
     "end_time": "2017-05-21T20:07:11.929854",
     "start_time": "2017-05-21T20:07:11.631481"
    }
   },
   "outputs": [
    {
     "data": {
      "image/png": "[encoded data removed]",
      "text/plain": [
       "<matplotlib.figure.Figure at 0x7fddd33e7510>"
      ]
     },
     "metadata": {},
     "output_type": "display_data"
    }
   ],
   "source": [
    "models_precision = [baseline_precision, svc_precision, SGD_precision, knn_precision, randomForest_precision]\n",
    "models = [\"Baseline\", \"SVC\", \"SGD\", \"KNN\", \"Random Forest\"]\n",
    "\n",
    "models_df = pd.DataFrame(models_precision, models)\n",
    "models_df[0].plot(kind='bar')\n",
    "plt.show()"
   ]
  },
  {
   "cell_type": "code",
   "execution_count": 199,
   "metadata": {
    "ExecuteTime": {
     "end_time": "2017-05-21T20:07:13.787691",
     "start_time": "2017-05-21T20:07:13.767375"
    }
   },
   "outputs": [
    {
     "data": {
      "text/plain": [
       "[0.202680732136,\n",
       " 0.569999522747,\n",
       " 0.509374938089,\n",
       " 0.440983348837,\n",
       " 0.510858219221]"
      ]
     },
     "execution_count": 199,
     "metadata": {},
     "output_type": "execute_result"
    }
   ],
   "source": [
    "models_precision"
   ]
  },
  {
   "cell_type": "markdown",
   "metadata": {},
   "source": [
    "We observe the same results as before, the two linear models perform the best, with a slightly better accuracy score for the **SVC model**. Note that for this step 3, the scores are much lower compare to the two others steps."
   ]
  },
  {
   "cell_type": "markdown",
   "metadata": {
    "ExecuteTime": {
     "end_time": "2017-05-21T09:32:26.202092",
     "start_time": "2017-05-21T07:30:02.629Z"
    }
   },
   "source": [
    "## <a name=\"unseen3\"> </a> Prediction of the unseen data"
   ]
  },
  {
   "cell_type": "code",
   "execution_count": null,
   "metadata": {
    "ExecuteTime": {
     "end_time": "2017-05-21T20:07:26.050556",
     "start_time": "2017-05-21T20:07:25.146136"
    }
   },
   "outputs": [
    {
     "data": {
      "text/html": [
       "<div>\n",
       "<style>\n",
       "    .dataframe thead tr:only-child th {\n",
       "        text-align: right;\n",
       "    }\n",
       "\n",
       "    .dataframe thead th {\n",
       "        text-align: left;\n",
       "    }\n",
       "\n",
       "    .dataframe tbody tr th {\n",
       "        vertical-align: top;\n",
       "    }\n",
       "</style>\n",
       "<table border=\"1\" class=\"dataframe\">\n",
       "  <thead>\n",
       "    <tr style=\"text-align: right;\">\n",
       "      <th></th>\n",
       "      <th>Unnamed: 0</th>\n",
       "      <th>reviewerID</th>\n",
       "      <th>asin</th>\n",
       "      <th>reviewerName</th>\n",
       "      <th>helpful</th>\n",
       "      <th>reviewText</th>\n",
       "      <th>summary</th>\n",
       "      <th>unixReviewTime</th>\n",
       "      <th>reviewTime</th>\n",
       "      <th>label</th>\n",
       "    </tr>\n",
       "  </thead>\n",
       "  <tbody>\n",
       "    <tr>\n",
       "      <th>1976</th>\n",
       "      <td>1976</td>\n",
       "      <td>A3IH5L48F016GF</td>\n",
       "      <td>B005D4SN7K</td>\n",
       "      <td>Audra L. Cooley \"Historical Romance Junkie\"</td>\n",
       "      <td>[0, 0]</td>\n",
       "      <td>and because of Celebrity Apprentice, I now kno...</td>\n",
       "      <td>Because of my husband...</td>\n",
       "      <td>1395705600</td>\n",
       "      <td>03 25, 2014</td>\n",
       "      <td>?</td>\n",
       "    </tr>\n",
       "    <tr>\n",
       "      <th>8950</th>\n",
       "      <td>8950</td>\n",
       "      <td>A2INRWTF0U8NPV</td>\n",
       "      <td>B00B115Q3S</td>\n",
       "      <td>peggy sue \"gwennie\"</td>\n",
       "      <td>[0, 0]</td>\n",
       "      <td>This will be a classic.  Everyone I know is si...</td>\n",
       "      <td>This will be a classic. Everyone I know is ...</td>\n",
       "      <td>1386806400</td>\n",
       "      <td>12 12, 2013</td>\n",
       "      <td>?</td>\n",
       "    </tr>\n",
       "    <tr>\n",
       "      <th>5780</th>\n",
       "      <td>5780</td>\n",
       "      <td>AQP2A4W88VND5</td>\n",
       "      <td>B006PAZOP0</td>\n",
       "      <td>jaboa</td>\n",
       "      <td>[0, 0]</td>\n",
       "      <td>It's the jam pumps you up to work out to go jo...</td>\n",
       "      <td>pumped up the jam</td>\n",
       "      <td>1393545600</td>\n",
       "      <td>02 28, 2014</td>\n",
       "      <td>?</td>\n",
       "    </tr>\n",
       "    <tr>\n",
       "      <th>13176</th>\n",
       "      <td>13176</td>\n",
       "      <td>A2HIUNRPJA59IH</td>\n",
       "      <td>B00CJSHKEA</td>\n",
       "      <td>Jennifer Campbell</td>\n",
       "      <td>[0, 0]</td>\n",
       "      <td>I love these guys and when I was looking for m...</td>\n",
       "      <td>Good song</td>\n",
       "      <td>1402272000</td>\n",
       "      <td>06 9, 2014</td>\n",
       "      <td>?</td>\n",
       "    </tr>\n",
       "    <tr>\n",
       "      <th>11659</th>\n",
       "      <td>11659</td>\n",
       "      <td>ATWN404WOURP4</td>\n",
       "      <td>B005P370OG</td>\n",
       "      <td>Bertle10</td>\n",
       "      <td>[0, 0]</td>\n",
       "      <td>i love this song so freaking much! This song w...</td>\n",
       "      <td>awesome song!</td>\n",
       "      <td>1360195200</td>\n",
       "      <td>02 7, 2013</td>\n",
       "      <td>?</td>\n",
       "    </tr>\n",
       "  </tbody>\n",
       "</table>\n",
       "</div>"
      ],
      "text/plain": [
       "       Unnamed: 0      reviewerID        asin  \\\n",
       "1976         1976  A3IH5L48F016GF  B005D4SN7K   \n",
       "8950         8950  A2INRWTF0U8NPV  B00B115Q3S   \n",
       "5780         5780   AQP2A4W88VND5  B006PAZOP0   \n",
       "13176       13176  A2HIUNRPJA59IH  B00CJSHKEA   \n",
       "11659       11659   ATWN404WOURP4  B005P370OG   \n",
       "\n",
       "                                      reviewerName helpful  \\\n",
       "1976   Audra L. Cooley \"Historical Romance Junkie\"  [0, 0]   \n",
       "8950                           peggy sue \"gwennie\"  [0, 0]   \n",
       "5780                                         jaboa  [0, 0]   \n",
       "13176                            Jennifer Campbell  [0, 0]   \n",
       "11659                                     Bertle10  [0, 0]   \n",
       "\n",
       "                                              reviewText  \\\n",
       "1976   and because of Celebrity Apprentice, I now kno...   \n",
       "8950   This will be a classic.  Everyone I know is si...   \n",
       "5780   It's the jam pumps you up to work out to go jo...   \n",
       "13176  I love these guys and when I was looking for m...   \n",
       "11659  i love this song so freaking much! This song w...   \n",
       "\n",
       "                                              summary  unixReviewTime  \\\n",
       "1976                         Because of my husband...      1395705600   \n",
       "8950   This will be a classic. Everyone I know is ...      1386806400   \n",
       "5780                                pumped up the jam      1393545600   \n",
       "13176                                       Good song      1402272000   \n",
       "11659                                   awesome song!      1360195200   \n",
       "\n",
       "        reviewTime label  \n",
       "1976   03 25, 2014     ?  \n",
       "8950   12 12, 2013     ?  \n",
       "5780   02 28, 2014     ?  \n",
       "13176   06 9, 2014     ?  \n",
       "11659   02 7, 2013     ?  "
      ]
     },
     "execution_count": 200,
     "metadata": {},
     "output_type": "execute_result"
    }
   ],
   "source": [
    "# We will apply the same modification as for the preprocessing step for this new dataset\n",
    "\n",
    "!gunzip -c amazon_step1_unseen.csv.gz > amazon_step1_unseen.csv\n",
    "df3_unseen = pd.read_csv(\"amazon_step2_unseen.csv\")\n",
    "\n",
    "df3_unseen.sample(5)"
   ]
  },
  {
   "cell_type": "code",
   "execution_count": null,
   "metadata": {
    "ExecuteTime": {
     "end_time": "2017-05-21T20:11:40.863838",
     "start_time": "2017-05-21T20:07:32.170323"
    },
    "collapsed": true
   },
   "outputs": [],
   "source": [
    "# Create the new features\n",
    "createHelpfulPercentage(df3_unseen)\n",
    "createTextLength(df3_unseen, \"reviewText\")\n",
    "createTextPunctuationFeatures(df3_unseen, \"reviewText\")\n",
    "contains_smiley(df3_unseen, \"reviewText\")\n",
    "createALLCAPS(df3_unseen, \"reviewText\")\n",
    "createTextLength(df3_unseen, \"summary\")\n",
    "createTextPunctuationFeatures(df3_unseen, \"summary\")\n",
    "contains_smiley(df3_unseen, \"summary\")\n",
    "createALLCAPS(df3_unseen, \"summary\")\n",
    "wordSentimentRatio(df3_unseen)\n",
    "\n",
    "# Standardize with MinMaxScaler\n",
    "df3_unseen.helpfulPercentage          =    scalerHelpful.transform(     df3_unseen.helpfulPercentage.values.reshape(-1,1))\n",
    "df3_unseen.reviewTextLength           =    scalerTextLength.transform(  df3_unseen.reviewTextLength.values.reshape(-1,1))\n",
    "df3_unseen.reviewTextCountPoints      =    scalerCountPoints.transform( df3_unseen.reviewTextCountPoints.values.reshape(-1,1))\n",
    "df3_unseen.reviewTextCountExcl        =    scalerCountExcl.transform(   df3_unseen.reviewTextCountExcl.values.reshape(-1,1))\n",
    "df3_unseen.reviewTextCountInterr      =    scalerCountInterr.transform( df3_unseen.reviewTextCountInterr.values.reshape(-1,1))\n",
    "df3_unseen.reviewTextCountComas       =    scalerCountComas.transform(  df3_unseen.reviewTextCountComas.values.reshape(-1,1))\n",
    "df3_unseen.summaryLength              =    summaryScalerTextLength.transform(  df3_unseen.summaryLength.values.reshape(-1,1))\n",
    "df3_unseen.summaryCountPoints         =    summaryScalerCountPoint.transform( df3_unseen.summaryCountPoints.values.reshape(-1,1))\n",
    "df3_unseen.summaryCountExcl           =    summaryScalerCountExcl.transform(   df3_unseen.summaryCountExcl.values.reshape(-1,1))\n",
    "df3_unseen.summaryCountInterr         =    summaryScalerCountInterr.transform( df3_unseen.summaryCountInterr.values.reshape(-1,1))\n",
    "df3_unseen.summaryCountComas          =    summaryScalerCountComas.transform(  df3_unseen.summaryCountComas.values.reshape(-1,1))\n",
    "\n",
    "# TF-IDF for 'reviewText'\n",
    "pipe_modified.fit(df3.reviewText)\n",
    "x_reviewText = pipe_modified.transform(df3_unseen.reviewText)\n",
    "\n",
    "# TF-IDF for 'summary'\n",
    "pipe_modified.fit(df3.summary)\n",
    "x_summary = pipe_modified.transform(df3_unseen.summary)\n",
    "\n",
    "# Merge all features into a single dataframe\n",
    "X_unseen = hstack((x_reviewText, x_summary))\n",
    "featuresToUse = [\"helpfulPercentage\", \"reviewTextLength\", \"reviewTextCountPoints\", \"reviewTextCountExcl\", \"reviewTextCountInterr\", \"reviewTextCountComas\", \"reviewTextPositiveSmiley\", \"reviewTextNegativeSmiley\", \"reviewTextAllCAPS\", \\\n",
    "                \"summaryCountPoints\", \"summaryCountExcl\", \"summaryCountInterr\", \"summaryCountComas\", \"summaryPositiveSmiley\", \"summaryNegativeSmiley\", \"summaryAllCAPS\"]\n",
    "for c in featuresToUse:\n",
    "    X_unseen = hstack((X_unseen,(df3_unseen[c])[:,None]))"
   ]
  },
  {
   "cell_type": "code",
   "execution_count": null,
   "metadata": {
    "ExecuteTime": {
     "end_time": "2017-05-21T20:14:12.585667",
     "start_time": "2017-05-21T20:11:40.866492"
    },
    "collapsed": true
   },
   "outputs": [],
   "source": [
    "# Build the SVC with the best params return by grid search\n",
    "svc = LinearSVC(C=best_C)\n",
    "svc.fit(X3, y)\n",
    "\n",
    "y_unseen_pred = svc.predict(X_unseen)"
   ]
  },
  {
   "cell_type": "code",
   "execution_count": null,
   "metadata": {
    "ExecuteTime": {
     "end_time": "2017-05-21T20:14:12.628744",
     "start_time": "2017-05-21T20:14:12.588322"
    },
    "collapsed": true
   },
   "outputs": [],
   "source": [
    "# export the prediction into a file named \"pred3.txt\"\n",
    "file = open('pred3.txt', 'w')\n",
    "for item in y_unseen_pred:\n",
    "  file.write(\"%s\\n\" % item)"
   ]
  },
  {
   "cell_type": "markdown",
   "metadata": {},
   "source": [
    "## <a name=\"conclusion\"> </a> Conclusion"
   ]
  },
  {
   "cell_type": "markdown",
   "metadata": {},
   "source": [
    "It is interesting to underline the fact that the [Linear Support Vector Classification](http://scikit-learn.org/stable/modules/generated/sklearn.svm.LinearSVC.html) model was the best in each step.<br />\n",
    "In fact, linear SVMs are often recommended for text classification.<br />\n",
    "On top of being simple, we give a few reasons why they were the best model for this application:<br />\n",
    "* Text is often linearly separable.\n",
    "  As we can see in the following picture (source: https://en.wikipedia.org/wiki/Support_vector_machine), this model works well when text is linearly separable. ![example](svm.png \"svm\")\n",
    "* Text has a lot of features<br />\n",
    "  This model is good when there is a many features. In the tasks of this project, both the number of instances (reviews, summaries), and features (words) were high\n",
    "* Less parameters:<br />\n",
    "  Since there is only a need to tune the parameter C, grid searches are quicker than for other models.\n",
    "  \n",
    "Nevertheless, despite SVCs working very well for text-classification in this instance, they are not silver bullets and other solutions must always be investigated.\n",
    "  "
   ]
  },
  {
   "cell_type": "code",
   "execution_count": null,
   "metadata": {
    "collapsed": true
   },
   "outputs": [],
   "source": []
  }
 ],
 "metadata": {
  "kernelspec": {
   "display_name": "Python 2",
   "language": "python",
   "name": "python2"
  },
  "language_info": {
   "codemirror_mode": {
    "name": "ipython",
    "version": 2
   },
   "file_extension": ".py",
   "mimetype": "text/x-python",
   "name": "python",
   "nbconvert_exporter": "python",
   "pygments_lexer": "ipython2",
   "version": "2.7.13"
  },
  "toc": {
   "colors": {
    "hover_highlight": "#DAA520",
    "running_highlight": "#FF0000",
    "selected_highlight": "#FFD700"
   },
   "moveMenuLeft": true,
   "nav_menu": {
    "height": "12px",
    "width": "252px"
   },
   "navigate_menu": true,
   "number_sections": false,
   "sideBar": true,
   "threshold": "0",
   "toc_cell": false,
   "toc_section_display": "block",
   "toc_window_display": false
  }
 },
 "nbformat": 4,
 "nbformat_minor": 2
}
