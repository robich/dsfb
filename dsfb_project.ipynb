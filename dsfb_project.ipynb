{
 "cells": [
  {
   "cell_type": "markdown",
   "metadata": {},
   "source": [
    "# Data Science For Business Project\n",
    "\n",
    "# Step 1\n",
    "\n",
    "## Preprocessing\n"
   ]
  },
  {
   "cell_type": "code",
   "execution_count": 1,
   "metadata": {
    "collapsed": false
   },
   "outputs": [
    {
     "data": {
      "text/html": [
       "<div>\n",
       "<table border=\"1\" class=\"dataframe\">\n",
       "  <thead>\n",
       "    <tr style=\"text-align: right;\">\n",
       "      <th></th>\n",
       "      <th>asin</th>\n",
       "      <th>category</th>\n",
       "      <th>helpful</th>\n",
       "      <th>overall</th>\n",
       "      <th>reviewText</th>\n",
       "      <th>reviewTime</th>\n",
       "      <th>reviewerID</th>\n",
       "      <th>reviewerName</th>\n",
       "      <th>summary</th>\n",
       "      <th>unixReviewTime</th>\n",
       "    </tr>\n",
       "  </thead>\n",
       "  <tbody>\n",
       "    <tr>\n",
       "      <th>0</th>\n",
       "      <td>B000J4HXUC</td>\n",
       "      <td>Sports_and_Outdoors</td>\n",
       "      <td>[1, 1]</td>\n",
       "      <td>5</td>\n",
       "      <td>It's a .50 Caliber Ammo Can. That largely sums...</td>\n",
       "      <td>01 5, 2014</td>\n",
       "      <td>A3QRW0UJPKIAX7</td>\n",
       "      <td>Grant Fritchey</td>\n",
       "      <td>Clean and Exactly as Advertised</td>\n",
       "      <td>1388880000</td>\n",
       "    </tr>\n",
       "    <tr>\n",
       "      <th>1</th>\n",
       "      <td>0983393214</td>\n",
       "      <td>Books</td>\n",
       "      <td>[0, 0]</td>\n",
       "      <td>5</td>\n",
       "      <td>This was a very good book. It kept me excited ...</td>\n",
       "      <td>06 23, 2013</td>\n",
       "      <td>A2SEIOM4H06WTH</td>\n",
       "      <td>TJ</td>\n",
       "      <td>Great read!</td>\n",
       "      <td>1371945600</td>\n",
       "    </tr>\n",
       "    <tr>\n",
       "      <th>2</th>\n",
       "      <td>B003G4FVMY</td>\n",
       "      <td>Grocery_and_Gourmet_Food</td>\n",
       "      <td>[0, 0]</td>\n",
       "      <td>5</td>\n",
       "      <td>If you love coconut the way I do, you can't go...</td>\n",
       "      <td>05 19, 2013</td>\n",
       "      <td>A3GDEXMU9587JX</td>\n",
       "      <td>K. Parsley \"kindlekat\"</td>\n",
       "      <td>If you love coconut, get this coffee</td>\n",
       "      <td>1368921600</td>\n",
       "    </tr>\n",
       "    <tr>\n",
       "      <th>3</th>\n",
       "      <td>B00F9VRNF0</td>\n",
       "      <td>Cell_Phones_and_Accessories</td>\n",
       "      <td>[0, 0]</td>\n",
       "      <td>5</td>\n",
       "      <td>I recently switched from the Galaxy S3 to the ...</td>\n",
       "      <td>04 25, 2014</td>\n",
       "      <td>ASP3J2NEHDN4E</td>\n",
       "      <td>ChriS</td>\n",
       "      <td>Superior Protection!!!</td>\n",
       "      <td>1398384000</td>\n",
       "    </tr>\n",
       "    <tr>\n",
       "      <th>4</th>\n",
       "      <td>B00D5OZQUC</td>\n",
       "      <td>Amazon_Instant_Video</td>\n",
       "      <td>[0, 0]</td>\n",
       "      <td>5</td>\n",
       "      <td>Good show,looks like the gap from season 2 to ...</td>\n",
       "      <td>11 4, 2013</td>\n",
       "      <td>A1EDBI6TBKP9CO</td>\n",
       "      <td>Grants Book Trade</td>\n",
       "      <td>Love the show, thanks for putting Season 3 on ...</td>\n",
       "      <td>1383523200</td>\n",
       "    </tr>\n",
       "  </tbody>\n",
       "</table>\n",
       "</div>"
      ],
      "text/plain": [
       "         asin                     category helpful  overall  \\\n",
       "0  B000J4HXUC          Sports_and_Outdoors  [1, 1]        5   \n",
       "1  0983393214                        Books  [0, 0]        5   \n",
       "2  B003G4FVMY     Grocery_and_Gourmet_Food  [0, 0]        5   \n",
       "3  B00F9VRNF0  Cell_Phones_and_Accessories  [0, 0]        5   \n",
       "4  B00D5OZQUC         Amazon_Instant_Video  [0, 0]        5   \n",
       "\n",
       "                                          reviewText   reviewTime  \\\n",
       "0  It's a .50 Caliber Ammo Can. That largely sums...   01 5, 2014   \n",
       "1  This was a very good book. It kept me excited ...  06 23, 2013   \n",
       "2  If you love coconut the way I do, you can't go...  05 19, 2013   \n",
       "3  I recently switched from the Galaxy S3 to the ...  04 25, 2014   \n",
       "4  Good show,looks like the gap from season 2 to ...   11 4, 2013   \n",
       "\n",
       "       reviewerID            reviewerName  \\\n",
       "0  A3QRW0UJPKIAX7          Grant Fritchey   \n",
       "1  A2SEIOM4H06WTH                      TJ   \n",
       "2  A3GDEXMU9587JX  K. Parsley \"kindlekat\"   \n",
       "3   ASP3J2NEHDN4E                   ChriS   \n",
       "4  A1EDBI6TBKP9CO       Grants Book Trade   \n",
       "\n",
       "                                             summary  unixReviewTime  \n",
       "0                    Clean and Exactly as Advertised      1388880000  \n",
       "1                                        Great read!      1371945600  \n",
       "2               If you love coconut, get this coffee      1368921600  \n",
       "3                             Superior Protection!!!      1398384000  \n",
       "4  Love the show, thanks for putting Season 3 on ...      1383523200  "
      ]
     },
     "execution_count": 1,
     "metadata": {},
     "output_type": "execute_result"
    }
   ],
   "source": [
    "# Load file (we keep the git repo as light as possible by only hosting the .gz's)\n",
    "!rm *.json\n",
    "!gunzip -c amazon_step1.json.gz > amazon_step1.json\n",
    "\n",
    "import pandas as pd\n",
    "import numpy as np\n",
    "\n",
    "# A first look at the data\n",
    "df1 = pd.read_json('amazon_step1.json', lines=True)\n",
    "df1.head()"
   ]
  },
  {
   "cell_type": "code",
   "execution_count": 4,
   "metadata": {
    "collapsed": false
   },
   "outputs": [
    {
     "name": "stdout",
     "output_type": "stream",
     "text": [
      "Number of features: 10\n",
      "Number of samples: 96000\n"
     ]
    }
   ],
   "source": [
    "num_total_samples = len(df1.index)\n",
    "num_total_features = len(df1.columns)\n",
    "print(\"Number of features:\", num_total_features)\n",
    "print(\"Number of samples:\", num_total_samples)"
   ]
  },
  {
   "cell_type": "code",
   "execution_count": 6,
   "metadata": {
    "collapsed": false
   },
   "outputs": [
    {
     "name": "stdout",
     "output_type": "stream",
     "text": [
      "Number of damaged samples: 994\n",
      "Percentage of damaged Samples: 1.0 %\n"
     ]
    }
   ],
   "source": [
    "num_valid_entries_per_sample = df1.count(axis=1)\n",
    "\n",
    "num_complete_samples = num_valid_entries_per_sample.tolist().count(num_total_features)\n",
    "\n",
    "percentage_damaged_samples = 1 - num_complete_samples/num_total_samples\n",
    "print('Number of damaged samples:', num_total_samples - num_complete_samples)\n",
    "print('Percentage of damaged Samples:', np.around(100*percentage_damaged_samples,decimals=1), '%')"
   ]
  },
  {
   "cell_type": "markdown",
   "metadata": {},
   "source": [
    "It appears that we have some missing data. <br />\n",
    "Let's see the number of valid entries for each feature"
   ]
  },
  {
   "cell_type": "code",
   "execution_count": 9,
   "metadata": {
    "collapsed": false
   },
   "outputs": [
    {
     "name": "stdout",
     "output_type": "stream",
     "text": [
      "reviewerName      95006\n",
      "asin              96000\n",
      "category          96000\n",
      "helpful           96000\n",
      "overall           96000\n",
      "reviewText        96000\n",
      "reviewTime        96000\n",
      "reviewerID        96000\n",
      "summary           96000\n",
      "unixReviewTime    96000\n",
      "dtype: int64\n"
     ]
    }
   ],
   "source": [
    "num_valid_entries_per_feature = df1.count(axis=0).sort_values()\n",
    "print(num_valid_entries_per_feature)"
   ]
  },
  {
   "cell_type": "markdown",
   "metadata": {},
   "source": [
    "Only `reviewer"
   ]
  },
  {
   "cell_type": "code",
   "execution_count": null,
   "metadata": {
    "collapsed": true
   },
   "outputs": [],
   "source": []
  }
 ],
 "metadata": {
  "kernelspec": {
   "display_name": "Python 3",
   "language": "python",
   "name": "python3"
  },
  "language_info": {
   "codemirror_mode": {
    "name": "ipython",
    "version": 3
   },
   "file_extension": ".py",
   "mimetype": "text/x-python",
   "name": "python",
   "nbconvert_exporter": "python",
   "pygments_lexer": "ipython3",
   "version": "3.6.0"
  }
 },
 "nbformat": 4,
 "nbformat_minor": 2
}
