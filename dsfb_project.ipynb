{
 "cells": [
  {
   "cell_type": "code",
   "execution_count": 2,
   "metadata": {
    "ExecuteTime": {
     "end_time": "2017-05-21T10:06:15.229138",
     "start_time": "2017-05-21T10:06:14.412469"
    },
    "collapsed": true
   },
   "outputs": [],
   "source": [
    "import pandas as pd\n",
    "import numpy as np\n",
    "\n",
    "from sklearn import preprocessing"
   ]
  },
  {
   "cell_type": "markdown",
   "metadata": {},
   "source": [
    "# Data Science For Business Project"
   ]
  },
  {
   "cell_type": "markdown",
   "metadata": {},
   "source": [
    "# Step 1\n",
    "\n",
    "> Predict the category of each product, based on the reviewText field. View the problem as a multiclass classification (24 product categories).\n",
    ">\n",
    "> f(`reviewText`) -> category\n",
    "\n",
    "## Preprocessing"
   ]
  },
  {
   "cell_type": "code",
   "execution_count": 3,
   "metadata": {
    "ExecuteTime": {
     "end_time": "2017-05-21T10:06:22.117639",
     "start_time": "2017-05-21T10:06:19.001024"
    },
    "collapsed": false
   },
   "outputs": [
    {
     "data": {
      "text/html": [
       "<div>\n",
       "<table border=\"1\" class=\"dataframe\">\n",
       "  <thead>\n",
       "    <tr style=\"text-align: right;\">\n",
       "      <th></th>\n",
       "      <th>asin</th>\n",
       "      <th>category</th>\n",
       "      <th>helpful</th>\n",
       "      <th>overall</th>\n",
       "      <th>reviewText</th>\n",
       "      <th>reviewTime</th>\n",
       "      <th>reviewerID</th>\n",
       "      <th>reviewerName</th>\n",
       "      <th>summary</th>\n",
       "      <th>unixReviewTime</th>\n",
       "    </tr>\n",
       "  </thead>\n",
       "  <tbody>\n",
       "    <tr>\n",
       "      <th>0</th>\n",
       "      <td>B000J4HXUC</td>\n",
       "      <td>Sports_and_Outdoors</td>\n",
       "      <td>[1, 1]</td>\n",
       "      <td>5</td>\n",
       "      <td>It's a .50 Caliber Ammo Can. That largely sums...</td>\n",
       "      <td>01 5, 2014</td>\n",
       "      <td>A3QRW0UJPKIAX7</td>\n",
       "      <td>Grant Fritchey</td>\n",
       "      <td>Clean and Exactly as Advertised</td>\n",
       "      <td>1388880000</td>\n",
       "    </tr>\n",
       "    <tr>\n",
       "      <th>1</th>\n",
       "      <td>0983393214</td>\n",
       "      <td>Books</td>\n",
       "      <td>[0, 0]</td>\n",
       "      <td>5</td>\n",
       "      <td>This was a very good book. It kept me excited ...</td>\n",
       "      <td>06 23, 2013</td>\n",
       "      <td>A2SEIOM4H06WTH</td>\n",
       "      <td>TJ</td>\n",
       "      <td>Great read!</td>\n",
       "      <td>1371945600</td>\n",
       "    </tr>\n",
       "    <tr>\n",
       "      <th>2</th>\n",
       "      <td>B003G4FVMY</td>\n",
       "      <td>Grocery_and_Gourmet_Food</td>\n",
       "      <td>[0, 0]</td>\n",
       "      <td>5</td>\n",
       "      <td>If you love coconut the way I do, you can't go...</td>\n",
       "      <td>05 19, 2013</td>\n",
       "      <td>A3GDEXMU9587JX</td>\n",
       "      <td>K. Parsley \"kindlekat\"</td>\n",
       "      <td>If you love coconut, get this coffee</td>\n",
       "      <td>1368921600</td>\n",
       "    </tr>\n",
       "    <tr>\n",
       "      <th>3</th>\n",
       "      <td>B00F9VRNF0</td>\n",
       "      <td>Cell_Phones_and_Accessories</td>\n",
       "      <td>[0, 0]</td>\n",
       "      <td>5</td>\n",
       "      <td>I recently switched from the Galaxy S3 to the ...</td>\n",
       "      <td>04 25, 2014</td>\n",
       "      <td>ASP3J2NEHDN4E</td>\n",
       "      <td>ChriS</td>\n",
       "      <td>Superior Protection!!!</td>\n",
       "      <td>1398384000</td>\n",
       "    </tr>\n",
       "    <tr>\n",
       "      <th>4</th>\n",
       "      <td>B00D5OZQUC</td>\n",
       "      <td>Amazon_Instant_Video</td>\n",
       "      <td>[0, 0]</td>\n",
       "      <td>5</td>\n",
       "      <td>Good show,looks like the gap from season 2 to ...</td>\n",
       "      <td>11 4, 2013</td>\n",
       "      <td>A1EDBI6TBKP9CO</td>\n",
       "      <td>Grants Book Trade</td>\n",
       "      <td>Love the show, thanks for putting Season 3 on ...</td>\n",
       "      <td>1383523200</td>\n",
       "    </tr>\n",
       "  </tbody>\n",
       "</table>\n",
       "</div>"
      ],
      "text/plain": [
       "         asin                     category helpful  overall  \\\n",
       "0  B000J4HXUC          Sports_and_Outdoors  [1, 1]        5   \n",
       "1  0983393214                        Books  [0, 0]        5   \n",
       "2  B003G4FVMY     Grocery_and_Gourmet_Food  [0, 0]        5   \n",
       "3  B00F9VRNF0  Cell_Phones_and_Accessories  [0, 0]        5   \n",
       "4  B00D5OZQUC         Amazon_Instant_Video  [0, 0]        5   \n",
       "\n",
       "                                          reviewText   reviewTime  \\\n",
       "0  It's a .50 Caliber Ammo Can. That largely sums...   01 5, 2014   \n",
       "1  This was a very good book. It kept me excited ...  06 23, 2013   \n",
       "2  If you love coconut the way I do, you can't go...  05 19, 2013   \n",
       "3  I recently switched from the Galaxy S3 to the ...  04 25, 2014   \n",
       "4  Good show,looks like the gap from season 2 to ...   11 4, 2013   \n",
       "\n",
       "       reviewerID            reviewerName  \\\n",
       "0  A3QRW0UJPKIAX7          Grant Fritchey   \n",
       "1  A2SEIOM4H06WTH                      TJ   \n",
       "2  A3GDEXMU9587JX  K. Parsley \"kindlekat\"   \n",
       "3   ASP3J2NEHDN4E                   ChriS   \n",
       "4  A1EDBI6TBKP9CO       Grants Book Trade   \n",
       "\n",
       "                                             summary  unixReviewTime  \n",
       "0                    Clean and Exactly as Advertised      1388880000  \n",
       "1                                        Great read!      1371945600  \n",
       "2               If you love coconut, get this coffee      1368921600  \n",
       "3                             Superior Protection!!!      1398384000  \n",
       "4  Love the show, thanks for putting Season 3 on ...      1383523200  "
      ]
     },
     "execution_count": 3,
     "metadata": {},
     "output_type": "execute_result"
    }
   ],
   "source": [
    "# Load file (we keep the git repo as light as possible by only hosting the .gz's)\n",
    "!rm -f *.json\n",
    "!gunzip -c amazon_step1.json.gz > amazon_step1.json\n",
    "\n",
    "# A first look at the data\n",
    "df1 = pd.read_json('amazon_step1.json', lines=True)\n",
    "df1.head()"
   ]
  },
  {
   "cell_type": "code",
   "execution_count": 3,
   "metadata": {
    "ExecuteTime": {
     "end_time": "2017-05-21T00:57:10.327764",
     "start_time": "2017-05-21T00:57:10.323045"
    },
    "collapsed": false
   },
   "outputs": [
    {
     "data": {
      "text/plain": [
       "asin              object\n",
       "category          object\n",
       "helpful           object\n",
       "overall            int64\n",
       "reviewText        object\n",
       "reviewTime        object\n",
       "reviewerID        object\n",
       "reviewerName      object\n",
       "summary           object\n",
       "unixReviewTime     int64\n",
       "dtype: object"
      ]
     },
     "execution_count": 3,
     "metadata": {},
     "output_type": "execute_result"
    }
   ],
   "source": [
    "df1.dtypes"
   ]
  },
  {
   "cell_type": "code",
   "execution_count": 4,
   "metadata": {
    "ExecuteTime": {
     "end_time": "2017-05-21T00:57:10.339683",
     "start_time": "2017-05-21T00:57:10.329275"
    },
    "collapsed": false
   },
   "outputs": [
    {
     "name": "stdout",
     "output_type": "stream",
     "text": [
      "Number of features: 10\n",
      "Number of samples: 96000\n"
     ]
    }
   ],
   "source": [
    "# Analyze the data: features and sample\n",
    "num_total_samples = len(df1.index)\n",
    "num_total_features = len(df1.columns)\n",
    "print(\"Number of features:\", num_total_features)\n",
    "print(\"Number of samples:\", num_total_samples)"
   ]
  },
  {
   "cell_type": "code",
   "execution_count": 5,
   "metadata": {
    "ExecuteTime": {
     "end_time": "2017-05-21T00:57:10.458080",
     "start_time": "2017-05-21T00:57:10.342951"
    },
    "collapsed": false
   },
   "outputs": [
    {
     "name": "stdout",
     "output_type": "stream",
     "text": [
      "Number of damaged samples: 994\n",
      "Percentage of damaged Samples: 1.0 %\n"
     ]
    }
   ],
   "source": [
    "# Start by counting the number of valid entrie per sample\n",
    "num_valid_entries_per_sample = df1.count(axis=1)\n",
    "# Then compute the total number of complete samples\n",
    "num_complete_samples = num_valid_entries_per_sample.tolist().count(num_total_features)\n",
    "\n",
    "# We can now compute the percenter of damaged sample\n",
    "percentage_damaged_samples = 1 - num_complete_samples/num_total_samples\n",
    "print('Number of damaged samples:', num_total_samples - num_complete_samples)\n",
    "print('Percentage of damaged Samples:', np.around(100*percentage_damaged_samples,decimals=1), '%')"
   ]
  },
  {
   "cell_type": "markdown",
   "metadata": {},
   "source": [
    "It appears that we have some missing data. <br />\n",
    "Let's see the number of valid entries for each feature"
   ]
  },
  {
   "cell_type": "code",
   "execution_count": 6,
   "metadata": {
    "ExecuteTime": {
     "end_time": "2017-05-21T00:57:10.562176",
     "start_time": "2017-05-21T00:57:10.459488"
    },
    "collapsed": false
   },
   "outputs": [
    {
     "name": "stdout",
     "output_type": "stream",
     "text": [
      "Number of valid entrie perf feature: \n",
      "reviewerName      95006\n",
      "asin              96000\n",
      "category          96000\n",
      "helpful           96000\n",
      "overall           96000\n",
      "reviewText        96000\n",
      "reviewTime        96000\n",
      "reviewerID        96000\n",
      "summary           96000\n",
      "unixReviewTime    96000\n",
      "dtype: int64\n"
     ]
    }
   ],
   "source": [
    "num_valid_entries_per_feature = df1.count(axis=0).sort_values()\n",
    "print(\"Number of valid entrie perf feature: \")\n",
    "print(num_valid_entries_per_feature)"
   ]
  },
  {
   "cell_type": "markdown",
   "metadata": {},
   "source": [
    "Only `reviewerName` is sometimes missing (994 times to be precise). We will see how to deal with it later."
   ]
  },
  {
   "cell_type": "code",
   "execution_count": 7,
   "metadata": {
    "ExecuteTime": {
     "end_time": "2017-05-21T00:57:10.666425",
     "start_time": "2017-05-21T00:57:10.563581"
    },
    "collapsed": false
   },
   "outputs": [
    {
     "data": {
      "text/plain": [
       "asin                0\n",
       "category            0\n",
       "helpful             0\n",
       "overall             0\n",
       "reviewText          0\n",
       "reviewTime          0\n",
       "reviewerID          0\n",
       "reviewerName      994\n",
       "summary             0\n",
       "unixReviewTime      0\n",
       "dtype: int64"
      ]
     },
     "execution_count": 7,
     "metadata": {},
     "output_type": "execute_result"
    }
   ],
   "source": [
    "df1.isnull().sum()"
   ]
  },
  {
   "cell_type": "markdown",
   "metadata": {},
   "source": [
    "## We now present the preprocessing choices for each features\n",
    "\n",
    "As stated in the project description, we will mainly rely on the **reviewText** feature. Nevertheless, we decide to take a look into each other feature and try to see if we can extract some useful information from them in order to help our models."
   ]
  },
  {
   "cell_type": "markdown",
   "metadata": {},
   "source": [
    "### asin\n",
    "> Defintion: `amazon standard identification number which is unique for each product`\n",
    "\n",
    "This feature will obvisously not bring useful information for the task we want to perform. We drop it. Another option would have been to use it as the index for each row, but we decided to go with the regular incremental index from pandas dataframe."
   ]
  },
  {
   "cell_type": "code",
   "execution_count": 8,
   "metadata": {
    "ExecuteTime": {
     "end_time": "2017-05-21T00:57:10.684704",
     "start_time": "2017-05-21T00:57:10.667769"
    },
    "collapsed": false
   },
   "outputs": [],
   "source": [
    "df1 = df1.drop(['asin'], axis=1)"
   ]
  },
  {
   "cell_type": "markdown",
   "metadata": {},
   "source": [
    "### category\n",
    "> Definition: `category of the product`\n",
    "\n",
    "This is the target feature for part I of the project.<br />\n",
    "We see below that the frequency of each category is equal<br />\n",
    "This is a great news since we will be able to use a simple accuracy score to rank our different models.<br />\n",
    "Moreover, it will be easy to sample a subset of the dataset if need be (e.g. to test a model on small data to improve speed)."
   ]
  },
  {
   "cell_type": "code",
   "execution_count": 4,
   "metadata": {
    "ExecuteTime": {
     "end_time": "2017-05-21T10:06:26.095533",
     "start_time": "2017-05-21T10:06:25.495105"
    },
    "collapsed": false
   },
   "outputs": [
    {
     "data": {
      "image/png": "[encoded data removed]",
      "text/plain": [
       "<matplotlib.figure.Figure at 0x7fe507b9ed30>"
      ]
     },
     "metadata": {},
     "output_type": "display_data"
    }
   ],
   "source": [
    "import matplotlib.pyplot as plt\n",
    "df1[\"category\"].value_counts().plot(kind='bar')\n",
    "plt.show()"
   ]
  },
  {
   "cell_type": "markdown",
   "metadata": {},
   "source": [
    "### helpful\n",
    "> Definition: `[x,y]: x is the number of helpful ticks and y is the number of total ticks`\n",
    "\n",
    "This features is not useful in it's actual form, but we think that we can take advantage of the information it contains. Indeed, it's reasonable to think that a five stars product might have a bigger ratio x/y than a one start product. Therefore, we decide to create a new feature from the *helpful* one: **helpfulPercentage**."
   ]
  },
  {
   "cell_type": "code",
   "execution_count": 5,
   "metadata": {
    "ExecuteTime": {
     "end_time": "2017-05-21T10:06:28.486811",
     "start_time": "2017-05-21T10:06:28.396476"
    },
    "collapsed": false
   },
   "outputs": [
    {
     "data": {
      "text/plain": [
       "53942   -0.751631\n",
       "1204    -0.751631\n",
       "64798   -0.751631\n",
       "76628   -0.751631\n",
       "22382    1.263339\n",
       "Name: helpfulPercentage, dtype: float64"
      ]
     },
     "execution_count": 5,
     "metadata": {},
     "output_type": "execute_result"
    }
   ],
   "source": [
    "from ast import literal_eval\n",
    "from sklearn.preprocessing import StandardScaler\n",
    "\n",
    "# Compute the new feature 'helpfulPercentage'\n",
    "def createHelpfulPercentage(df):\n",
    "    # First, check if the column 'helpful' is a list or not. If not, convert it.\n",
    "    if not isinstance(df.helpful[0], list):\n",
    "        df.helpful = df.helpful.apply(literal_eval)\n",
    "    df[\"helpfulPercentage\"] = df.helpful.apply(lambda x: x[0]/x[1] if x[1] != 0 else 0)\n",
    "\n",
    "createHelpfulPercentage(df1)\n",
    "scalerHelpful = StandardScaler()\n",
    "df1.helpfulPercentage = scalerHelpful.fit_transform(df1.helpfulPercentage.values.reshape(-1,1))\n",
    "\n",
    "# Remove the 'old' one\n",
    "df1 = df1.drop([\"helpful\"], axis=1)\n",
    "\n",
    "df1.helpfulPercentage.sample(5)"
   ]
  },
  {
   "cell_type": "markdown",
   "metadata": {},
   "source": [
    "### overall\n",
    "> Definition: `overal rating of the product in the range of [1,2,3,4,5]`\n",
    "\n",
    "This is the target feature for parts II and II of the project\n",
    "\n",
    "We can see that the mean for each category are quite close one to the other and except for the category *Apps_for_Android*, they are all above 4 (apprently, people rate products positevely...)"
   ]
  },
  {
   "cell_type": "code",
   "execution_count": 11,
   "metadata": {
    "ExecuteTime": {
     "end_time": "2017-05-21T00:57:11.688318",
     "start_time": "2017-05-21T00:57:11.347769"
    },
    "collapsed": false
   },
   "outputs": [
    {
     "name": "stdout",
     "output_type": "stream",
     "text": [
      "category\n",
      "Amazon_Instant_Video           4.21125\n",
      "Apps_for_Android               3.96325\n",
      "Automotive                     4.45325\n",
      "Baby                           4.22200\n",
      "Beauty                         4.18700\n",
      "Books                          4.26575\n",
      "CDs_and_Vinyl                  4.27800\n",
      "Cell_Phones_and_Accessories    4.12600\n",
      "Clothing_Shoes_and_Jewelry     4.25000\n",
      "Digital_Music                  4.22650\n",
      "Electronics                    4.23575\n",
      "Grocery_and_Gourmet_Food       4.25825\n",
      "Health_and_Personal_Care       4.24675\n",
      "Home_and_Kitchen               4.32525\n",
      "Kindle_Store                   4.35850\n",
      "Movies_and_TV                  4.12200\n",
      "Musical_Instruments            4.49550\n",
      "Office_Products                4.34450\n",
      "Patio_Lawn_and_Garden          4.21875\n",
      "Pet_Supplies                   4.22325\n",
      "Sports_and_Outdoors            4.40150\n",
      "Tools_and_Home_Improvement     4.35275\n",
      "Toys_and_Games                 4.38350\n",
      "Video_Games                    4.09725\n",
      "Name: overall, dtype: float64\n"
     ]
    },
    {
     "data": {
      "image/png": "[encoded data removed]",
      "text/plain": [
       "<matplotlib.figure.Figure at 0x7f35ff97da90>"
      ]
     },
     "metadata": {},
     "output_type": "display_data"
    }
   ],
   "source": [
    "print(df1.groupby(\"category\")[\"overall\"].mean())\n",
    "\n",
    "df1.groupby(\"category\")[\"overall\"].mean().plot(kind='bar')\n",
    "plt.show()"
   ]
  },
  {
   "cell_type": "markdown",
   "metadata": {},
   "source": [
    "### reviewText\n",
    "> Definition: `text of the review`\n",
    "\n",
    "This is the main feature on which we need to rely on. It's text, so we need to transform it into a numerical form.\n",
    "\n",
    "But before doing so, we decided to extract some information from this feature.\n",
    "\n",
    "Firstly, we create a new feature **reviewTextLenght**. The name describe perfectly the feature."
   ]
  },
  {
   "cell_type": "code",
   "execution_count": 6,
   "metadata": {
    "ExecuteTime": {
     "end_time": "2017-05-21T10:06:31.796505",
     "start_time": "2017-05-21T10:06:31.721385"
    },
    "collapsed": false
   },
   "outputs": [
    {
     "name": "stderr",
     "output_type": "stream",
     "text": [
      "/home/ra-danny/anaconda36/lib/python3.6/site-packages/sklearn/utils/validation.py:429: DataConversionWarning: Data with input dtype int64 was converted to float64 by StandardScaler.\n",
      "  warnings.warn(msg, _DataConversionWarning)\n"
     ]
    },
    {
     "data": {
      "text/plain": [
       "94539   -0.570267\n",
       "46149    0.447081\n",
       "67649    1.594042\n",
       "58401    6.784717\n",
       "24651   -0.522579\n",
       "Name: reviewTextLength, dtype: float64"
      ]
     },
     "execution_count": 6,
     "metadata": {},
     "output_type": "execute_result"
    }
   ],
   "source": [
    "# Compute the feature\n",
    "def createTextLength(df, feature):\n",
    "    name = feature + \"Length\"\n",
    "    df[name] = df[feature].apply(lambda x: len(x))\n",
    "    df[name] = pd.to_numeric(df[name])\n",
    "    \n",
    "createTextLength(df1, \"reviewText\")\n",
    "\n",
    "scalerTextLength = StandardScaler()\n",
    "df1.reviewTextLength = scalerTextLength.fit_transform(df1.reviewTextLength.values.reshape(-1,1))\n",
    "\n",
    "df1.reviewTextLength.sample(5)"
   ]
  },
  {
   "cell_type": "markdown",
   "metadata": {},
   "source": [
    "We also create features that capture the amount of punctuation that is used, namely *points*, *exclamation marks*, *question marks*, and *comas*. "
   ]
  },
  {
   "cell_type": "code",
   "execution_count": 7,
   "metadata": {
    "ExecuteTime": {
     "end_time": "2017-05-21T10:06:34.267637",
     "start_time": "2017-05-21T10:06:33.794570"
    },
    "collapsed": false
   },
   "outputs": [
    {
     "name": "stderr",
     "output_type": "stream",
     "text": [
      "/home/ra-danny/anaconda36/lib/python3.6/site-packages/sklearn/utils/validation.py:429: DataConversionWarning: Data with input dtype int64 was converted to float64 by StandardScaler.\n",
      "  warnings.warn(msg, _DataConversionWarning)\n"
     ]
    },
    {
     "data": {
      "text/html": [
       "<div>\n",
       "<table border=\"1\" class=\"dataframe\">\n",
       "  <thead>\n",
       "    <tr style=\"text-align: right;\">\n",
       "      <th></th>\n",
       "      <th>reviewTextCountPoints</th>\n",
       "      <th>reviewTextCountExcl</th>\n",
       "      <th>reviewTextCountInterr</th>\n",
       "      <th>reviewTextCountComas</th>\n",
       "    </tr>\n",
       "  </thead>\n",
       "  <tbody>\n",
       "    <tr>\n",
       "      <th>1495</th>\n",
       "      <td>23</td>\n",
       "      <td>0</td>\n",
       "      <td>0</td>\n",
       "      <td>2</td>\n",
       "    </tr>\n",
       "    <tr>\n",
       "      <th>50420</th>\n",
       "      <td>0</td>\n",
       "      <td>0</td>\n",
       "      <td>0</td>\n",
       "      <td>0</td>\n",
       "    </tr>\n",
       "    <tr>\n",
       "      <th>20117</th>\n",
       "      <td>3</td>\n",
       "      <td>0</td>\n",
       "      <td>0</td>\n",
       "      <td>2</td>\n",
       "    </tr>\n",
       "    <tr>\n",
       "      <th>88645</th>\n",
       "      <td>1</td>\n",
       "      <td>0</td>\n",
       "      <td>0</td>\n",
       "      <td>0</td>\n",
       "    </tr>\n",
       "    <tr>\n",
       "      <th>41523</th>\n",
       "      <td>3</td>\n",
       "      <td>0</td>\n",
       "      <td>0</td>\n",
       "      <td>2</td>\n",
       "    </tr>\n",
       "  </tbody>\n",
       "</table>\n",
       "</div>"
      ],
      "text/plain": [
       "       reviewTextCountPoints  reviewTextCountExcl  reviewTextCountInterr  \\\n",
       "1495                      23                    0                      0   \n",
       "50420                      0                    0                      0   \n",
       "20117                      3                    0                      0   \n",
       "88645                      1                    0                      0   \n",
       "41523                      3                    0                      0   \n",
       "\n",
       "       reviewTextCountComas  \n",
       "1495                      2  \n",
       "50420                     0  \n",
       "20117                     2  \n",
       "88645                     0  \n",
       "41523                     2  "
      ]
     },
     "execution_count": 7,
     "metadata": {},
     "output_type": "execute_result"
    }
   ],
   "source": [
    "def count_char(row, char):\n",
    "    return row.count(char)\n",
    "\n",
    "\n",
    "def createTextPunctuationFeatures(df, feature):\n",
    "    df[feature+\"CountPoints\"] = df[feature].apply(count_char, args=(\".\"))\n",
    "    df[feature+\"CountExcl\"] = df[feature].apply(count_char, args=(\"!\"))\n",
    "    df[feature+\"CountInterr\"] = df[feature].apply(count_char, args=(\"?\"))\n",
    "    df[feature+\"CountComas\"] = df[feature].apply(count_char, args=(\",\"))\n",
    "\n",
    "createTextPunctuationFeatures(df1, \"reviewText\")\n",
    "\n",
    "\n",
    "# MinMaxScaler for all new features\n",
    "scalerCountPoints = StandardScaler()\n",
    "scalerCountExcl = StandardScaler()\n",
    "scalerCountInterr = StandardScaler()\n",
    "scalerCountComas = StandardScaler()\n",
    "\n",
    "df1.rtCountPoints = scalerCountPoints.fit_transform(df1.reviewTextCountPoints.values.reshape(-1,1))\n",
    "df1.rtCountExcl = scalerCountExcl.fit_transform(df1.reviewTextCountExcl.values.reshape(-1,1))\n",
    "df1.rtCountInterr = scalerCountInterr.fit_transform(df1.reviewTextCountInterr.values.reshape(-1,1))\n",
    "df1.rtCountComas = scalerCountComas.fit_transform(df1.reviewTextCountComas.values.reshape(-1,1))\n",
    "\n",
    "\n",
    "# Output some sample\n",
    "df1[[\"reviewTextCountPoints\", \"reviewTextCountExcl\", \"reviewTextCountInterr\", \"reviewTextCountComas\"]].sample(5)"
   ]
  },
  {
   "cell_type": "markdown",
   "metadata": {},
   "source": [
    "Another created features, that we think is useful to detect a sentiment in a text: presence of smileys in the text"
   ]
  },
  {
   "cell_type": "code",
   "execution_count": 8,
   "metadata": {
    "ExecuteTime": {
     "end_time": "2017-05-21T10:06:37.409314",
     "start_time": "2017-05-21T10:06:37.006352"
    },
    "collapsed": false
   },
   "outputs": [
    {
     "data": {
      "text/html": [
       "<div>\n",
       "<table border=\"1\" class=\"dataframe\">\n",
       "  <thead>\n",
       "    <tr style=\"text-align: right;\">\n",
       "      <th></th>\n",
       "      <th>reviewTextPositiveSmiley</th>\n",
       "      <th>reviewTextNegativeSmiley</th>\n",
       "    </tr>\n",
       "  </thead>\n",
       "  <tbody>\n",
       "    <tr>\n",
       "      <th>56529</th>\n",
       "      <td>0</td>\n",
       "      <td>0</td>\n",
       "    </tr>\n",
       "    <tr>\n",
       "      <th>17156</th>\n",
       "      <td>0</td>\n",
       "      <td>0</td>\n",
       "    </tr>\n",
       "    <tr>\n",
       "      <th>39300</th>\n",
       "      <td>0</td>\n",
       "      <td>0</td>\n",
       "    </tr>\n",
       "    <tr>\n",
       "      <th>62077</th>\n",
       "      <td>0</td>\n",
       "      <td>0</td>\n",
       "    </tr>\n",
       "    <tr>\n",
       "      <th>64737</th>\n",
       "      <td>0</td>\n",
       "      <td>0</td>\n",
       "    </tr>\n",
       "  </tbody>\n",
       "</table>\n",
       "</div>"
      ],
      "text/plain": [
       "       reviewTextPositiveSmiley  reviewTextNegativeSmiley\n",
       "56529                         0                         0\n",
       "17156                         0                         0\n",
       "39300                         0                         0\n",
       "62077                         0                         0\n",
       "64737                         0                         0"
      ]
     },
     "execution_count": 8,
     "metadata": {},
     "output_type": "execute_result"
    }
   ],
   "source": [
    "def contains_smiley(df, feature):\n",
    "    df[feature+\"PositiveSmiley\"] = df[feature].apply(lambda x: 1 * ((\":)\" in x) or (\":D\" in x) or (\";)\" in x) ))\n",
    "    df[feature+\"NegativeSmiley\"] = df[feature].apply(lambda x: 1 * (\":(\" in x) )\n",
    "\n",
    "contains_smiley(df1, \"reviewText\")\n",
    "\n",
    "df1[[\"reviewTextPositiveSmiley\", \"reviewTextNegativeSmiley\"]].sample(5)"
   ]
  },
  {
   "cell_type": "code",
   "execution_count": 9,
   "metadata": {
    "ExecuteTime": {
     "end_time": "2017-05-21T10:06:40.357833",
     "start_time": "2017-05-21T10:06:38.974945"
    },
    "collapsed": false
   },
   "outputs": [
    {
     "data": {
      "text/plain": [
       "63184     True\n",
       "86257     True\n",
       "87476    False\n",
       "38412     True\n",
       "95581    False\n",
       "Name: reviewTextAllCAPS, dtype: bool"
      ]
     },
     "execution_count": 9,
     "metadata": {},
     "output_type": "execute_result"
    }
   ],
   "source": [
    "def createALLCAPS(df, feature):\n",
    "    def containsALLCAPSword(string):\n",
    "        containsUpper = False\n",
    "        for w in string.split(' '):\n",
    "            if (w.isupper() and len(w)>3):\n",
    "                containsUpper = True\n",
    "                break\n",
    "        return containsUpper\n",
    "    df[feature+\"AllCAPS\"] = df[feature].apply(lambda x : containsALLCAPSword(x))\n",
    "\n",
    "createALLCAPS(df1, \"reviewText\")\n",
    "\n",
    "df1.reviewTextAllCAPS.sample(5)"
   ]
  },
  {
   "cell_type": "markdown",
   "metadata": {},
   "source": [
    "We decide to already buil the pipeline we will use to transform textual features into a numerical one."
   ]
  },
  {
   "cell_type": "code",
   "execution_count": 10,
   "metadata": {
    "ExecuteTime": {
     "end_time": "2017-05-21T10:06:42.700800",
     "start_time": "2017-05-21T10:06:42.374916"
    },
    "collapsed": true
   },
   "outputs": [],
   "source": [
    "from sklearn.feature_extraction.text import CountVectorizer\n",
    "from sklearn.feature_extraction.text import TfidfTransformer\n",
    "from sklearn.pipeline import Pipeline\n",
    "from nltk.stem.snowball import EnglishStemmer"
   ]
  },
  {
   "cell_type": "code",
   "execution_count": 11,
   "metadata": {
    "ExecuteTime": {
     "end_time": "2017-05-21T10:06:43.649646",
     "start_time": "2017-05-21T10:06:43.639484"
    },
    "collapsed": false
   },
   "outputs": [],
   "source": [
    "stemmer = EnglishStemmer()\n",
    "analyzer = CountVectorizer().build_analyzer()\n",
    "\n",
    "def stemmed_words(doc):\n",
    "    return (stemmer.stem(w) for w in analyzer(doc))\n",
    "\n",
    "stop_words = 'english'\n",
    "\n",
    "# We tokenize all the words, removing stop words (for english language) and then compute a TF-IDF score for each token\n",
    "pipe_modified = Pipeline([('vectorize_stem', CountVectorizer(stop_words=stop_words,analyzer=stemmed_words, min_df=5, max_df=0.8)),\n",
    "                          ('compute_tfidf', TfidfTransformer())])"
   ]
  },
  {
   "cell_type": "markdown",
   "metadata": {},
   "source": [
    "### reviewTime\n",
    "> Definition: `time of writing the review in normal format`\n",
    "\n",
    "We think that we cannot retrieve useful information from this features. We decide to drop it."
   ]
  },
  {
   "cell_type": "code",
   "execution_count": 18,
   "metadata": {
    "ExecuteTime": {
     "end_time": "2017-05-21T00:57:14.346744",
     "start_time": "2017-05-21T00:57:14.330694"
    },
    "collapsed": false
   },
   "outputs": [],
   "source": [
    "df1 = df1.drop([\"reviewTime\"], axis=1)"
   ]
  },
  {
   "cell_type": "markdown",
   "metadata": {},
   "source": [
    "### reviewerID\n",
    "> Definition: `id of the reviewer`\n",
    "\n",
    "We drop it also, no information that we can use."
   ]
  },
  {
   "cell_type": "code",
   "execution_count": 19,
   "metadata": {
    "ExecuteTime": {
     "end_time": "2017-05-21T00:57:14.372453",
     "start_time": "2017-05-21T00:57:14.348757"
    },
    "collapsed": true
   },
   "outputs": [],
   "source": [
    "df1 = df1.drop(['reviewerID'], axis=1)"
   ]
  },
  {
   "cell_type": "markdown",
   "metadata": {
    "ExecuteTime": {
     "end_time": "2017-05-13T17:05:09.947462",
     "start_time": "2017-05-13T17:05:06.041037"
    }
   },
   "source": [
    "> **A FAIRE SI ON A LE TEMPS**\n",
    ">\n",
    ">On peut imaginer qu'un user note seulement les produits d'une seule catégorie donc je pensais utiliser ça. Le seul moen que j'ai en tête est un peu tiré parles cheveux, donc je préfére le laisser de coté, si on a le temps on essaie, sinon on peut même le garder pour le présentation, si on a une question genre \"What can you do to improve your work bla bla bla\".\n",
    ">\n",
    ">L'idée serait de créer une feature par categorie pour chaque utilisateur qu'on a dans notre training data. La valeur de la features serait par exemple le pourcentage de parmis les produits que l'user a note, combien appartienne à cette catégorie\n",
    "\n",
    "This one is a little more tricky. We can make the assumption that some people only rate negatively all products, so named \"trolls\", or that a persone only rate products for a given categorie. Therefore, we investigate it.\n",
    "a = df1.groupby('reviewerID')['category'].apply(lambda x: list(x))"
   ]
  },
  {
   "cell_type": "markdown",
   "metadata": {},
   "source": [
    "### reviewerName\n",
    "> Definition: `name of the reviewer`\n",
    "\n",
    "We decide to drop this feature, as it is redundant with the reviewerId (even if a reviewerID might be associated with multiples reviewerNames). Since we drop this feature, no need to taking care of the missing values."
   ]
  },
  {
   "cell_type": "code",
   "execution_count": 20,
   "metadata": {
    "ExecuteTime": {
     "end_time": "2017-05-21T00:57:14.394135",
     "start_time": "2017-05-21T00:57:14.374586"
    },
    "collapsed": true
   },
   "outputs": [],
   "source": [
    "df1 = df1.drop([\"reviewerName\"], axis=1)"
   ]
  },
  {
   "cell_type": "markdown",
   "metadata": {
    "ExecuteTime": {
     "end_time": "2017-05-13T17:25:41.039855",
     "start_time": "2017-05-13T17:25:41.031511"
    }
   },
   "source": [
    "### summary\n",
    "> Defintion: `a summary of reviewer's opinion about the product`\n",
    "\n",
    "Let's look at this feature, with the **reviewText** next to it."
   ]
  },
  {
   "cell_type": "code",
   "execution_count": 21,
   "metadata": {
    "ExecuteTime": {
     "end_time": "2017-05-21T00:57:14.427666",
     "start_time": "2017-05-21T00:57:14.396122"
    },
    "collapsed": false
   },
   "outputs": [
    {
     "data": {
      "text/html": [
       "<div>\n",
       "<table border=\"1\" class=\"dataframe\">\n",
       "  <thead>\n",
       "    <tr style=\"text-align: right;\">\n",
       "      <th></th>\n",
       "      <th>reviewText</th>\n",
       "      <th>summary</th>\n",
       "    </tr>\n",
       "  </thead>\n",
       "  <tbody>\n",
       "    <tr>\n",
       "      <th>0</th>\n",
       "      <td>It's a .50 Caliber Ammo Can. That largely sums...</td>\n",
       "      <td>Clean and Exactly as Advertised</td>\n",
       "    </tr>\n",
       "    <tr>\n",
       "      <th>1</th>\n",
       "      <td>This was a very good book. It kept me excited ...</td>\n",
       "      <td>Great read!</td>\n",
       "    </tr>\n",
       "    <tr>\n",
       "      <th>2</th>\n",
       "      <td>If you love coconut the way I do, you can't go...</td>\n",
       "      <td>If you love coconut, get this coffee</td>\n",
       "    </tr>\n",
       "    <tr>\n",
       "      <th>3</th>\n",
       "      <td>I recently switched from the Galaxy S3 to the ...</td>\n",
       "      <td>Superior Protection!!!</td>\n",
       "    </tr>\n",
       "    <tr>\n",
       "      <th>4</th>\n",
       "      <td>Good show,looks like the gap from season 2 to ...</td>\n",
       "      <td>Love the show, thanks for putting Season 3 on ...</td>\n",
       "    </tr>\n",
       "    <tr>\n",
       "      <th>5</th>\n",
       "      <td>I'm ordering more of these spoons, as one just...</td>\n",
       "      <td>Perfect for babies</td>\n",
       "    </tr>\n",
       "    <tr>\n",
       "      <th>6</th>\n",
       "      <td>We installed some sensor lights in the house f...</td>\n",
       "      <td>Nice little sensor light, good for  power fail...</td>\n",
       "    </tr>\n",
       "    <tr>\n",
       "      <th>7</th>\n",
       "      <td>It was 1979 and the B-52s were on Saturday Nig...</td>\n",
       "      <td>Defining An Era</td>\n",
       "    </tr>\n",
       "    <tr>\n",
       "      <th>8</th>\n",
       "      <td>My Manchester terrier eats so fast she chokes ...</td>\n",
       "      <td>Perfect Solution For Dogs That Gobble Food Too...</td>\n",
       "    </tr>\n",
       "    <tr>\n",
       "      <th>9</th>\n",
       "      <td>This movie starts off with some clever and fun...</td>\n",
       "      <td>Reverse Cinderella just doesn't cut it.</td>\n",
       "    </tr>\n",
       "    <tr>\n",
       "      <th>10</th>\n",
       "      <td>I bought one of these for each of my four cont...</td>\n",
       "      <td>Same as the other 1 star reviews...</td>\n",
       "    </tr>\n",
       "    <tr>\n",
       "      <th>11</th>\n",
       "      <td>I have to start by first saying at the end I w...</td>\n",
       "      <td>The Unfinished Song: Sacrifice</td>\n",
       "    </tr>\n",
       "    <tr>\n",
       "      <th>12</th>\n",
       "      <td>I purchased this scope to go along with my UTG...</td>\n",
       "      <td>Excellent Scope</td>\n",
       "    </tr>\n",
       "    <tr>\n",
       "      <th>13</th>\n",
       "      <td>I like this Leash , it is very light , an comp...</td>\n",
       "      <td>Works</td>\n",
       "    </tr>\n",
       "    <tr>\n",
       "      <th>14</th>\n",
       "      <td>These are good covers. They've held up to todd...</td>\n",
       "      <td>So far so good.</td>\n",
       "    </tr>\n",
       "    <tr>\n",
       "      <th>15</th>\n",
       "      <td>This is perfect for my Boston Terrier - she is...</td>\n",
       "      <td>Exactly as pictured</td>\n",
       "    </tr>\n",
       "    <tr>\n",
       "      <th>16</th>\n",
       "      <td>good quality plastic. Easy install template in...</td>\n",
       "      <td>good quality, easy to install</td>\n",
       "    </tr>\n",
       "    <tr>\n",
       "      <th>17</th>\n",
       "      <td>There are a few types of board games but only ...</td>\n",
       "      <td>Not another \"Bored\" on a Board</td>\n",
       "    </tr>\n",
       "    <tr>\n",
       "      <th>18</th>\n",
       "      <td>This is much lighter than my Frieling french p...</td>\n",
       "      <td>I love it</td>\n",
       "    </tr>\n",
       "    <tr>\n",
       "      <th>19</th>\n",
       "      <td>Sexaaay! I loved this book. The detail and des...</td>\n",
       "      <td>Sexy!</td>\n",
       "    </tr>\n",
       "    <tr>\n",
       "      <th>20</th>\n",
       "      <td>This most recent purchase of the Tea Bag Stain...</td>\n",
       "      <td>Very practical</td>\n",
       "    </tr>\n",
       "    <tr>\n",
       "      <th>21</th>\n",
       "      <td>Since my athletic shorts don't have side pocke...</td>\n",
       "      <td>Great lightweight carry-all</td>\n",
       "    </tr>\n",
       "    <tr>\n",
       "      <th>22</th>\n",
       "      <td>I was a bit bored with the mindless style ofAl...</td>\n",
       "      <td>I had almost Bought INFERNO+ a Couple Days Ago</td>\n",
       "    </tr>\n",
       "    <tr>\n",
       "      <th>23</th>\n",
       "      <td>I don't know what happened but one day I notic...</td>\n",
       "      <td>It really works</td>\n",
       "    </tr>\n",
       "    <tr>\n",
       "      <th>24</th>\n",
       "      <td>I think that I have a problem. I have not seen...</td>\n",
       "      <td>I am just not sure how to rate this!</td>\n",
       "    </tr>\n",
       "    <tr>\n",
       "      <th>25</th>\n",
       "      <td>A bit dull! Not so great. But I guess they do ...</td>\n",
       "      <td>Ehhhh</td>\n",
       "    </tr>\n",
       "    <tr>\n",
       "      <th>26</th>\n",
       "      <td>Bought this shadow and when you think of cherr...</td>\n",
       "      <td>Not \"cherry\"</td>\n",
       "    </tr>\n",
       "    <tr>\n",
       "      <th>27</th>\n",
       "      <td>I've ordered two of these kits in the aged whi...</td>\n",
       "      <td>Why No Protective Covering For The Back Plate???</td>\n",
       "    </tr>\n",
       "    <tr>\n",
       "      <th>28</th>\n",
       "      <td>The Morgan Sister series is fastly become one ...</td>\n",
       "      <td>Friend or Foe?</td>\n",
       "    </tr>\n",
       "    <tr>\n",
       "      <th>29</th>\n",
       "      <td>Duran's weeklong homecoming concerts at Wemble...</td>\n",
       "      <td>The original lineup is awesome</td>\n",
       "    </tr>\n",
       "    <tr>\n",
       "      <th>...</th>\n",
       "      <td>...</td>\n",
       "      <td>...</td>\n",
       "    </tr>\n",
       "    <tr>\n",
       "      <th>95970</th>\n",
       "      <td>Porcupine was my favorite Bunnymen album for t...</td>\n",
       "      <td>A fine transitional album</td>\n",
       "    </tr>\n",
       "    <tr>\n",
       "      <th>95971</th>\n",
       "      <td>I could not get this to work. I'm sure it's ju...</td>\n",
       "      <td>No Workie</td>\n",
       "    </tr>\n",
       "    <tr>\n",
       "      <th>95972</th>\n",
       "      <td>This watch felt very cheaply made when I first...</td>\n",
       "      <td>Feels cheap but has held up well.</td>\n",
       "    </tr>\n",
       "    <tr>\n",
       "      <th>95973</th>\n",
       "      <td>...Be aware that many of the tracks bear littl...</td>\n",
       "      <td>If you're considering this as a learning tool ...</td>\n",
       "    </tr>\n",
       "    <tr>\n",
       "      <th>95974</th>\n",
       "      <td>Best driving game I have ever played in a long...</td>\n",
       "      <td>Love the ride</td>\n",
       "    </tr>\n",
       "    <tr>\n",
       "      <th>95975</th>\n",
       "      <td>I remember these from high school.  They requi...</td>\n",
       "      <td>Love these loafers</td>\n",
       "    </tr>\n",
       "    <tr>\n",
       "      <th>95976</th>\n",
       "      <td>Great little camera for the price. Simple &amp; ta...</td>\n",
       "      <td>Great Value!</td>\n",
       "    </tr>\n",
       "    <tr>\n",
       "      <th>95977</th>\n",
       "      <td>These little tabs are very handy.  They're ess...</td>\n",
       "      <td>Very handy!</td>\n",
       "    </tr>\n",
       "    <tr>\n",
       "      <th>95978</th>\n",
       "      <td>For me, they are a bit too soft to actually re...</td>\n",
       "      <td>Bristles are very soft</td>\n",
       "    </tr>\n",
       "    <tr>\n",
       "      <th>95979</th>\n",
       "      <td>this is a wonderful product. It coved the grey...</td>\n",
       "      <td>eyebrow tint</td>\n",
       "    </tr>\n",
       "    <tr>\n",
       "      <th>95980</th>\n",
       "      <td>Our first weekend out with this tent we got ca...</td>\n",
       "      <td>Amazing in high wind.</td>\n",
       "    </tr>\n",
       "    <tr>\n",
       "      <th>95981</th>\n",
       "      <td>It applied as described, I have put wax on it ...</td>\n",
       "      <td>Clear spray</td>\n",
       "    </tr>\n",
       "    <tr>\n",
       "      <th>95982</th>\n",
       "      <td>I cant find minecraft for kindle fire so I saw...</td>\n",
       "      <td>Pretty cool</td>\n",
       "    </tr>\n",
       "    <tr>\n",
       "      <th>95983</th>\n",
       "      <td>good knife for the money but nothing special!</td>\n",
       "      <td>its okay!</td>\n",
       "    </tr>\n",
       "    <tr>\n",
       "      <th>95984</th>\n",
       "      <td>I purchased this as a backup charging cable fo...</td>\n",
       "      <td>A convenient, compact solution</td>\n",
       "    </tr>\n",
       "    <tr>\n",
       "      <th>95985</th>\n",
       "      <td>Good things about this game:1) Absolutely stun...</td>\n",
       "      <td>Fun if one had a time machine to travel two ye...</td>\n",
       "    </tr>\n",
       "    <tr>\n",
       "      <th>95986</th>\n",
       "      <td>This is the oem version of the mercedes one. I...</td>\n",
       "      <td>Fleece filter and comes with the rubbers that ...</td>\n",
       "    </tr>\n",
       "    <tr>\n",
       "      <th>95987</th>\n",
       "      <td>A great and easy install, only hick up --- it ...</td>\n",
       "      <td>A bit large, but works very well.</td>\n",
       "    </tr>\n",
       "    <tr>\n",
       "      <th>95988</th>\n",
       "      <td>This is one of my favourite albums of all time...</td>\n",
       "      <td>one of the best</td>\n",
       "    </tr>\n",
       "    <tr>\n",
       "      <th>95989</th>\n",
       "      <td>My cat loves these cubes and spends much time ...</td>\n",
       "      <td>Feline favorite, but destructible</td>\n",
       "    </tr>\n",
       "    <tr>\n",
       "      <th>95990</th>\n",
       "      <td>I'll try to be succinct:  1.  This isn't as go...</td>\n",
       "      <td>Don't believe the hype -</td>\n",
       "    </tr>\n",
       "    <tr>\n",
       "      <th>95991</th>\n",
       "      <td>One of the bowls arrived broken into pieces.  ...</td>\n",
       "      <td>Poor shipping and hard to use</td>\n",
       "    </tr>\n",
       "    <tr>\n",
       "      <th>95992</th>\n",
       "      <td>I really like this product. At first i was rea...</td>\n",
       "      <td>Good for me</td>\n",
       "    </tr>\n",
       "    <tr>\n",
       "      <th>95993</th>\n",
       "      <td>Aided in my sleep however I had very weird dre...</td>\n",
       "      <td>Helped with Sleep however</td>\n",
       "    </tr>\n",
       "    <tr>\n",
       "      <th>95994</th>\n",
       "      <td>It holds my TV on the wall. Easy to install an...</td>\n",
       "      <td>Exactly what it needs to be.</td>\n",
       "    </tr>\n",
       "    <tr>\n",
       "      <th>95995</th>\n",
       "      <td>I have to agree with the reviewer who said the...</td>\n",
       "      <td>Okay, but not the best</td>\n",
       "    </tr>\n",
       "    <tr>\n",
       "      <th>95996</th>\n",
       "      <td>This flashlight is a little bulky and fits int...</td>\n",
       "      <td>Great little flashlight</td>\n",
       "    </tr>\n",
       "    <tr>\n",
       "      <th>95997</th>\n",
       "      <td>First of all the seller, &amp;#34;ABETRADES&amp;#34; i...</td>\n",
       "      <td>Not the worst, but certainly could have done b...</td>\n",
       "    </tr>\n",
       "    <tr>\n",
       "      <th>95998</th>\n",
       "      <td>I was finally able to install a screen saver o...</td>\n",
       "      <td>Easy to install</td>\n",
       "    </tr>\n",
       "    <tr>\n",
       "      <th>95999</th>\n",
       "      <td>I enjoyed this movie quite a bit. There's alot...</td>\n",
       "      <td>My Review</td>\n",
       "    </tr>\n",
       "  </tbody>\n",
       "</table>\n",
       "<p>96000 rows × 2 columns</p>\n",
       "</div>"
      ],
      "text/plain": [
       "                                              reviewText  \\\n",
       "0      It's a .50 Caliber Ammo Can. That largely sums...   \n",
       "1      This was a very good book. It kept me excited ...   \n",
       "2      If you love coconut the way I do, you can't go...   \n",
       "3      I recently switched from the Galaxy S3 to the ...   \n",
       "4      Good show,looks like the gap from season 2 to ...   \n",
       "5      I'm ordering more of these spoons, as one just...   \n",
       "6      We installed some sensor lights in the house f...   \n",
       "7      It was 1979 and the B-52s were on Saturday Nig...   \n",
       "8      My Manchester terrier eats so fast she chokes ...   \n",
       "9      This movie starts off with some clever and fun...   \n",
       "10     I bought one of these for each of my four cont...   \n",
       "11     I have to start by first saying at the end I w...   \n",
       "12     I purchased this scope to go along with my UTG...   \n",
       "13     I like this Leash , it is very light , an comp...   \n",
       "14     These are good covers. They've held up to todd...   \n",
       "15     This is perfect for my Boston Terrier - she is...   \n",
       "16     good quality plastic. Easy install template in...   \n",
       "17     There are a few types of board games but only ...   \n",
       "18     This is much lighter than my Frieling french p...   \n",
       "19     Sexaaay! I loved this book. The detail and des...   \n",
       "20     This most recent purchase of the Tea Bag Stain...   \n",
       "21     Since my athletic shorts don't have side pocke...   \n",
       "22     I was a bit bored with the mindless style ofAl...   \n",
       "23     I don't know what happened but one day I notic...   \n",
       "24     I think that I have a problem. I have not seen...   \n",
       "25     A bit dull! Not so great. But I guess they do ...   \n",
       "26     Bought this shadow and when you think of cherr...   \n",
       "27     I've ordered two of these kits in the aged whi...   \n",
       "28     The Morgan Sister series is fastly become one ...   \n",
       "29     Duran's weeklong homecoming concerts at Wemble...   \n",
       "...                                                  ...   \n",
       "95970  Porcupine was my favorite Bunnymen album for t...   \n",
       "95971  I could not get this to work. I'm sure it's ju...   \n",
       "95972  This watch felt very cheaply made when I first...   \n",
       "95973  ...Be aware that many of the tracks bear littl...   \n",
       "95974  Best driving game I have ever played in a long...   \n",
       "95975  I remember these from high school.  They requi...   \n",
       "95976  Great little camera for the price. Simple & ta...   \n",
       "95977  These little tabs are very handy.  They're ess...   \n",
       "95978  For me, they are a bit too soft to actually re...   \n",
       "95979  this is a wonderful product. It coved the grey...   \n",
       "95980  Our first weekend out with this tent we got ca...   \n",
       "95981  It applied as described, I have put wax on it ...   \n",
       "95982  I cant find minecraft for kindle fire so I saw...   \n",
       "95983      good knife for the money but nothing special!   \n",
       "95984  I purchased this as a backup charging cable fo...   \n",
       "95985  Good things about this game:1) Absolutely stun...   \n",
       "95986  This is the oem version of the mercedes one. I...   \n",
       "95987  A great and easy install, only hick up --- it ...   \n",
       "95988  This is one of my favourite albums of all time...   \n",
       "95989  My cat loves these cubes and spends much time ...   \n",
       "95990  I'll try to be succinct:  1.  This isn't as go...   \n",
       "95991  One of the bowls arrived broken into pieces.  ...   \n",
       "95992  I really like this product. At first i was rea...   \n",
       "95993  Aided in my sleep however I had very weird dre...   \n",
       "95994  It holds my TV on the wall. Easy to install an...   \n",
       "95995  I have to agree with the reviewer who said the...   \n",
       "95996  This flashlight is a little bulky and fits int...   \n",
       "95997  First of all the seller, &#34;ABETRADES&#34; i...   \n",
       "95998  I was finally able to install a screen saver o...   \n",
       "95999  I enjoyed this movie quite a bit. There's alot...   \n",
       "\n",
       "                                                 summary  \n",
       "0                        Clean and Exactly as Advertised  \n",
       "1                                            Great read!  \n",
       "2                   If you love coconut, get this coffee  \n",
       "3                                 Superior Protection!!!  \n",
       "4      Love the show, thanks for putting Season 3 on ...  \n",
       "5                                     Perfect for babies  \n",
       "6      Nice little sensor light, good for  power fail...  \n",
       "7                                        Defining An Era  \n",
       "8      Perfect Solution For Dogs That Gobble Food Too...  \n",
       "9                Reverse Cinderella just doesn't cut it.  \n",
       "10                   Same as the other 1 star reviews...  \n",
       "11                        The Unfinished Song: Sacrifice  \n",
       "12                                       Excellent Scope  \n",
       "13                                                 Works  \n",
       "14                                       So far so good.  \n",
       "15                                   Exactly as pictured  \n",
       "16                         good quality, easy to install  \n",
       "17                        Not another \"Bored\" on a Board  \n",
       "18                                             I love it  \n",
       "19                                                 Sexy!  \n",
       "20                                        Very practical  \n",
       "21                           Great lightweight carry-all  \n",
       "22        I had almost Bought INFERNO+ a Couple Days Ago  \n",
       "23                                       It really works  \n",
       "24                  I am just not sure how to rate this!  \n",
       "25                                                 Ehhhh  \n",
       "26                                          Not \"cherry\"  \n",
       "27      Why No Protective Covering For The Back Plate???  \n",
       "28                                        Friend or Foe?  \n",
       "29                        The original lineup is awesome  \n",
       "...                                                  ...  \n",
       "95970                          A fine transitional album  \n",
       "95971                                          No Workie  \n",
       "95972                  Feels cheap but has held up well.  \n",
       "95973  If you're considering this as a learning tool ...  \n",
       "95974                                      Love the ride  \n",
       "95975                                 Love these loafers  \n",
       "95976                                       Great Value!  \n",
       "95977                                        Very handy!  \n",
       "95978                             Bristles are very soft  \n",
       "95979                                       eyebrow tint  \n",
       "95980                              Amazing in high wind.  \n",
       "95981                                        Clear spray  \n",
       "95982                                        Pretty cool  \n",
       "95983                                          its okay!  \n",
       "95984                     A convenient, compact solution  \n",
       "95985  Fun if one had a time machine to travel two ye...  \n",
       "95986  Fleece filter and comes with the rubbers that ...  \n",
       "95987                  A bit large, but works very well.  \n",
       "95988                                    one of the best  \n",
       "95989                  Feline favorite, but destructible  \n",
       "95990                           Don't believe the hype -  \n",
       "95991                      Poor shipping and hard to use  \n",
       "95992                                        Good for me  \n",
       "95993                          Helped with Sleep however  \n",
       "95994                       Exactly what it needs to be.  \n",
       "95995                             Okay, but not the best  \n",
       "95996                            Great little flashlight  \n",
       "95997  Not the worst, but certainly could have done b...  \n",
       "95998                                    Easy to install  \n",
       "95999                                          My Review  \n",
       "\n",
       "[96000 rows x 2 columns]"
      ]
     },
     "execution_count": 21,
     "metadata": {},
     "output_type": "execute_result"
    }
   ],
   "source": [
    "df1[[\"reviewText\", \"summary\"]]"
   ]
  },
  {
   "cell_type": "markdown",
   "metadata": {},
   "source": [
    "As for the reviewText, we think that thise feature is really useful. We will be able to use the same pipeline as for `reviewText` to transform this feature to a numerical one."
   ]
  },
  {
   "cell_type": "markdown",
   "metadata": {},
   "source": [
    "### unixReviewTime\n",
    "> Definition: `time of writing the review in UNIX format`\n",
    "\n",
    "This feature is redudant with **reviewTime**. We also drop it."
   ]
  },
  {
   "cell_type": "code",
   "execution_count": 22,
   "metadata": {
    "ExecuteTime": {
     "end_time": "2017-05-21T00:57:14.441212",
     "start_time": "2017-05-21T00:57:14.429518"
    },
    "collapsed": false
   },
   "outputs": [],
   "source": [
    "df1 = df1.drop([\"unixReviewTime\"], axis=1)"
   ]
  },
  {
   "cell_type": "markdown",
   "metadata": {},
   "source": [
    "## Preprocessing results\n",
    "We give below an overview of the final data frame that we will be using."
   ]
  },
  {
   "cell_type": "code",
   "execution_count": 23,
   "metadata": {
    "ExecuteTime": {
     "end_time": "2017-05-21T00:57:14.462787",
     "start_time": "2017-05-21T00:57:14.442932"
    },
    "collapsed": false,
    "scrolled": true
   },
   "outputs": [
    {
     "data": {
      "text/html": [
       "<div>\n",
       "<table border=\"1\" class=\"dataframe\">\n",
       "  <thead>\n",
       "    <tr style=\"text-align: right;\">\n",
       "      <th></th>\n",
       "      <th>category</th>\n",
       "      <th>overall</th>\n",
       "      <th>reviewText</th>\n",
       "      <th>summary</th>\n",
       "      <th>helpfulPercentage</th>\n",
       "      <th>reviewTextLength</th>\n",
       "      <th>reviewTextCountPoints</th>\n",
       "      <th>reviewTextCountExcl</th>\n",
       "      <th>reviewTextCountInterr</th>\n",
       "      <th>reviewTextCountComas</th>\n",
       "      <th>reviewTextPositiveSmiley</th>\n",
       "      <th>reviewTextNegativeSmiley</th>\n",
       "      <th>reviewTextAllCAPS</th>\n",
       "    </tr>\n",
       "  </thead>\n",
       "  <tbody>\n",
       "    <tr>\n",
       "      <th>0</th>\n",
       "      <td>Sports_and_Outdoors</td>\n",
       "      <td>5</td>\n",
       "      <td>It's a .50 Caliber Ammo Can. That largely sums...</td>\n",
       "      <td>Clean and Exactly as Advertised</td>\n",
       "      <td>1.561853</td>\n",
       "      <td>-0.106836</td>\n",
       "      <td>11</td>\n",
       "      <td>0</td>\n",
       "      <td>0</td>\n",
       "      <td>3</td>\n",
       "      <td>0</td>\n",
       "      <td>0</td>\n",
       "      <td>False</td>\n",
       "    </tr>\n",
       "    <tr>\n",
       "      <th>1</th>\n",
       "      <td>Books</td>\n",
       "      <td>5</td>\n",
       "      <td>This was a very good book. It kept me excited ...</td>\n",
       "      <td>Great read!</td>\n",
       "      <td>-0.751631</td>\n",
       "      <td>-0.627738</td>\n",
       "      <td>3</td>\n",
       "      <td>0</td>\n",
       "      <td>0</td>\n",
       "      <td>0</td>\n",
       "      <td>0</td>\n",
       "      <td>0</td>\n",
       "      <td>False</td>\n",
       "    </tr>\n",
       "    <tr>\n",
       "      <th>2</th>\n",
       "      <td>Grocery_and_Gourmet_Food</td>\n",
       "      <td>5</td>\n",
       "      <td>If you love coconut the way I do, you can't go...</td>\n",
       "      <td>If you love coconut, get this coffee</td>\n",
       "      <td>-0.751631</td>\n",
       "      <td>-0.547035</td>\n",
       "      <td>1</td>\n",
       "      <td>1</td>\n",
       "      <td>0</td>\n",
       "      <td>1</td>\n",
       "      <td>0</td>\n",
       "      <td>0</td>\n",
       "      <td>False</td>\n",
       "    </tr>\n",
       "    <tr>\n",
       "      <th>3</th>\n",
       "      <td>Cell_Phones_and_Accessories</td>\n",
       "      <td>5</td>\n",
       "      <td>I recently switched from the Galaxy S3 to the ...</td>\n",
       "      <td>Superior Protection!!!</td>\n",
       "      <td>-0.751631</td>\n",
       "      <td>1.256557</td>\n",
       "      <td>18</td>\n",
       "      <td>4</td>\n",
       "      <td>0</td>\n",
       "      <td>2</td>\n",
       "      <td>0</td>\n",
       "      <td>0</td>\n",
       "      <td>True</td>\n",
       "    </tr>\n",
       "    <tr>\n",
       "      <th>4</th>\n",
       "      <td>Amazon_Instant_Video</td>\n",
       "      <td>5</td>\n",
       "      <td>Good show,looks like the gap from season 2 to ...</td>\n",
       "      <td>Love the show, thanks for putting Season 3 on ...</td>\n",
       "      <td>-0.751631</td>\n",
       "      <td>-0.573936</td>\n",
       "      <td>2</td>\n",
       "      <td>0</td>\n",
       "      <td>2</td>\n",
       "      <td>3</td>\n",
       "      <td>0</td>\n",
       "      <td>0</td>\n",
       "      <td>False</td>\n",
       "    </tr>\n",
       "  </tbody>\n",
       "</table>\n",
       "</div>"
      ],
      "text/plain": [
       "                      category  overall  \\\n",
       "0          Sports_and_Outdoors        5   \n",
       "1                        Books        5   \n",
       "2     Grocery_and_Gourmet_Food        5   \n",
       "3  Cell_Phones_and_Accessories        5   \n",
       "4         Amazon_Instant_Video        5   \n",
       "\n",
       "                                          reviewText  \\\n",
       "0  It's a .50 Caliber Ammo Can. That largely sums...   \n",
       "1  This was a very good book. It kept me excited ...   \n",
       "2  If you love coconut the way I do, you can't go...   \n",
       "3  I recently switched from the Galaxy S3 to the ...   \n",
       "4  Good show,looks like the gap from season 2 to ...   \n",
       "\n",
       "                                             summary  helpfulPercentage  \\\n",
       "0                    Clean and Exactly as Advertised           1.561853   \n",
       "1                                        Great read!          -0.751631   \n",
       "2               If you love coconut, get this coffee          -0.751631   \n",
       "3                             Superior Protection!!!          -0.751631   \n",
       "4  Love the show, thanks for putting Season 3 on ...          -0.751631   \n",
       "\n",
       "   reviewTextLength  reviewTextCountPoints  reviewTextCountExcl  \\\n",
       "0         -0.106836                     11                    0   \n",
       "1         -0.627738                      3                    0   \n",
       "2         -0.547035                      1                    1   \n",
       "3          1.256557                     18                    4   \n",
       "4         -0.573936                      2                    0   \n",
       "\n",
       "   reviewTextCountInterr  reviewTextCountComas  reviewTextPositiveSmiley  \\\n",
       "0                      0                     3                         0   \n",
       "1                      0                     0                         0   \n",
       "2                      0                     1                         0   \n",
       "3                      0                     2                         0   \n",
       "4                      2                     3                         0   \n",
       "\n",
       "   reviewTextNegativeSmiley reviewTextAllCAPS  \n",
       "0                         0             False  \n",
       "1                         0             False  \n",
       "2                         0             False  \n",
       "3                         0              True  \n",
       "4                         0             False  "
      ]
     },
     "execution_count": 23,
     "metadata": {},
     "output_type": "execute_result"
    }
   ],
   "source": [
    "df1.head()"
   ]
  },
  {
   "cell_type": "markdown",
   "metadata": {},
   "source": [
    "## Training, tuning and testing of models"
   ]
  },
  {
   "cell_type": "code",
   "execution_count": 102,
   "metadata": {
    "ExecuteTime": {
     "end_time": "2017-05-21T12:40:28.762012",
     "start_time": "2017-05-21T12:40:28.758679"
    },
    "collapsed": false
   },
   "outputs": [],
   "source": [
    "# The target feature --> CATEGORY\n",
    "y = df1.category"
   ]
  },
  {
   "cell_type": "code",
   "execution_count": 103,
   "metadata": {
    "ExecuteTime": {
     "end_time": "2017-05-21T12:46:33.609245",
     "start_time": "2017-05-21T12:40:37.539329"
    },
    "collapsed": false
   },
   "outputs": [],
   "source": [
    "# The features we will use\n",
    "featuresToUse = [\"helpfulPercentage\", \"reviewTextLength\", \"reviewTextCountPoints\", \"reviewTextCountExcl\", \"reviewTextCountInterr\", \"reviewTextCountComas\"]\n",
    "\n",
    "# Features we will not use : OVERALL\n",
    "\n",
    "# Features to transfrom from textual to numerical representation: REVIEWTEXT and SUMMARY\n",
    "# ---- ReviewText\n",
    "pipe_modified.fit(df1.reviewText)\n",
    "x_reviewText = pipe_modified.transform(df1.reviewText)\n",
    "\n",
    "# ---- Summary\n",
    "pipe_modified.fit(df1.summary)\n",
    "x_summary = pipe_modified.transform(df1.summary)"
   ]
  },
  {
   "cell_type": "code",
   "execution_count": 104,
   "metadata": {
    "ExecuteTime": {
     "end_time": "2017-05-21T12:46:33.729848",
     "start_time": "2017-05-21T12:46:33.610746"
    },
    "collapsed": false
   },
   "outputs": [],
   "source": [
    "# Now we can combine all features into a single dataframe\n",
    "from scipy.sparse import hstack\n",
    "\n",
    "# Combine first the two `sparse matrix` filled with the TF-IDF scores \n",
    "X = hstack((x_reviewText, x_summary))"
   ]
  },
  {
   "cell_type": "code",
   "execution_count": 27,
   "metadata": {
    "ExecuteTime": {
     "end_time": "2017-05-21T01:02:57.833255",
     "start_time": "2017-05-21T01:02:57.830472"
    },
    "collapsed": true
   },
   "outputs": [],
   "source": [
    "### And then add the features we create in the pre-processing part\n",
    "#for c in featuresToUse:\n",
    "#    X = hstack((X,(df1[c])[:,None]))"
   ]
  },
  {
   "cell_type": "code",
   "execution_count": 28,
   "metadata": {
    "ExecuteTime": {
     "end_time": "2017-05-21T01:02:57.840225",
     "start_time": "2017-05-21T01:02:57.835463"
    },
    "collapsed": false
   },
   "outputs": [
    {
     "data": {
      "text/plain": [
       "(96000, 26180)"
      ]
     },
     "execution_count": 28,
     "metadata": {},
     "output_type": "execute_result"
    }
   ],
   "source": [
    "X.shape"
   ]
  },
  {
   "cell_type": "code",
   "execution_count": 105,
   "metadata": {
    "ExecuteTime": {
     "end_time": "2017-05-21T12:46:35.354357",
     "start_time": "2017-05-21T12:46:33.731309"
    },
    "collapsed": false
   },
   "outputs": [],
   "source": [
    "# Now we divided the feature into two sets: a trainin set and another one for testing. \n",
    "# Training set = 80% of the entire data\n",
    "# Testing set  = 20% of the entire data\n",
    "\n",
    "from sklearn.cross_validation import train_test_split\n",
    "seed = 2017\n",
    "X_train, X_test, y_train, y_test = train_test_split(X, y, test_size=0.2, random_state=seed)"
   ]
  },
  {
   "cell_type": "code",
   "execution_count": 106,
   "metadata": {
    "ExecuteTime": {
     "end_time": "2017-05-21T12:46:35.365008",
     "start_time": "2017-05-21T12:46:35.355843"
    },
    "collapsed": false
   },
   "outputs": [
    {
     "name": "stdout",
     "output_type": "stream",
     "text": [
      "X_train:  (76800, 26180)\n",
      "y_train:  (76800,)\n",
      "X_test:   (19200, 26180)\n",
      "y_test:   (19200,)\n"
     ]
    }
   ],
   "source": [
    "# Train\n",
    "print(\"X_train: \", X_train.shape)\n",
    "print(\"y_train: \", y_train.shape)\n",
    "\n",
    "# Test\n",
    "print(\"X_test:  \", X_test.shape)\n",
    "print(\"y_test:  \", y_test.shape)"
   ]
  },
  {
   "cell_type": "code",
   "execution_count": 13,
   "metadata": {
    "ExecuteTime": {
     "end_time": "2017-05-21T10:06:53.999491",
     "start_time": "2017-05-21T10:06:53.994102"
    },
    "collapsed": true
   },
   "outputs": [],
   "source": [
    "# We define an helper function to compute and print the precision of our models\n",
    "# Since we are dealing with a classifier, we decide to print only the 'precision? of the models\n",
    "# Therefore, we don't use recall, f measure and support\n",
    "def print_precision(y_t, y_pred):\n",
    "    p_and_rec=precision_recall_fscore_support(y_t,y_pred)\n",
    "    precision = p_and_rec[0]\n",
    "    recall = p_and_rec[1]\n",
    "    f_measure = p_and_rec[2]\n",
    "    support = p_and_rec[3]\n",
    "    print(\"Precision mean: \", np.mean(precision))"
   ]
  },
  {
   "cell_type": "markdown",
   "metadata": {},
   "source": [
    "### Baseline model (Dummy Classifier)"
   ]
  },
  {
   "cell_type": "code",
   "execution_count": 14,
   "metadata": {
    "ExecuteTime": {
     "end_time": "2017-05-21T08:24:06.923160",
     "start_time": "2017-05-21T08:24:06.902389"
    },
    "collapsed": false
   },
   "outputs": [
    {
     "ename": "NameError",
     "evalue": "name 'X_train' is not defined",
     "output_type": "error",
     "traceback": [
      "\u001b[0;31m---------------------------------------------------------------------------\u001b[0m",
      "\u001b[0;31mNameError\u001b[0m                                 Traceback (most recent call last)",
      "\u001b[0;32m<ipython-input-14-35d82534689e>\u001b[0m in \u001b[0;36m<module>\u001b[0;34m()\u001b[0m\n\u001b[1;32m      2\u001b[0m \u001b[0;32mfrom\u001b[0m \u001b[0msklearn\u001b[0m\u001b[0;34m.\u001b[0m\u001b[0mdummy\u001b[0m \u001b[0;32mimport\u001b[0m \u001b[0mDummyClassifier\u001b[0m\u001b[0;34m\u001b[0m\u001b[0m\n\u001b[1;32m      3\u001b[0m \u001b[0mbaselineModel\u001b[0m \u001b[0;34m=\u001b[0m \u001b[0mDummyClassifier\u001b[0m\u001b[0;34m(\u001b[0m\u001b[0mrandom_state\u001b[0m\u001b[0;34m=\u001b[0m\u001b[0mseed\u001b[0m\u001b[0;34m)\u001b[0m\u001b[0;34m\u001b[0m\u001b[0m\n\u001b[0;32m----> 4\u001b[0;31m \u001b[0mbaselineModel\u001b[0m\u001b[0;34m.\u001b[0m\u001b[0mfit\u001b[0m\u001b[0;34m(\u001b[0m\u001b[0mX_train\u001b[0m\u001b[0;34m,\u001b[0m\u001b[0my_train\u001b[0m\u001b[0;34m)\u001b[0m\u001b[0;34m\u001b[0m\u001b[0m\n\u001b[0m\u001b[1;32m      5\u001b[0m \u001b[0my_pred\u001b[0m \u001b[0;34m=\u001b[0m \u001b[0mbaselineModel\u001b[0m\u001b[0;34m.\u001b[0m\u001b[0mpredict\u001b[0m\u001b[0;34m(\u001b[0m\u001b[0mX_test\u001b[0m\u001b[0;34m)\u001b[0m\u001b[0;34m\u001b[0m\u001b[0m\n\u001b[1;32m      6\u001b[0m \u001b[0;34m\u001b[0m\u001b[0m\n",
      "\u001b[0;31mNameError\u001b[0m: name 'X_train' is not defined"
     ]
    }
   ],
   "source": [
    "from sklearn.metrics import precision_recall_fscore_support\n",
    "from sklearn.dummy import DummyClassifier\n",
    "baselineModel = DummyClassifier(random_state=seed)\n",
    "baselineModel.fit(X_train,y_train)\n",
    "y_pred = baselineModel.predict(X_test)\n",
    "\n",
    "print_precision(y_test, y_pred)\n",
    "print(\"1 / 24 = \", 1/24)"
   ]
  },
  {
   "cell_type": "markdown",
   "metadata": {},
   "source": [
    "The baseline model has a precision that is close to 1/24. This is completly normal, since we have 24 features !"
   ]
  },
  {
   "cell_type": "code",
   "execution_count": 33,
   "metadata": {
    "ExecuteTime": {
     "end_time": "2017-05-21T01:02:59.716794",
     "start_time": "2017-05-21T01:02:59.714173"
    },
    "collapsed": true
   },
   "outputs": [],
   "source": [
    "baseline_precision = 0.0447061846207"
   ]
  },
  {
   "cell_type": "markdown",
   "metadata": {},
   "source": [
    "### Support Vector Model: Linear Support Vector Classification"
   ]
  },
  {
   "cell_type": "code",
   "execution_count": 15,
   "metadata": {
    "ExecuteTime": {
     "end_time": "2017-05-21T08:24:09.777139",
     "start_time": "2017-05-21T08:24:09.759007"
    },
    "collapsed": false
   },
   "outputs": [
    {
     "ename": "NameError",
     "evalue": "name 'X_train' is not defined",
     "output_type": "error",
     "traceback": [
      "\u001b[0;31m---------------------------------------------------------------------------\u001b[0m",
      "\u001b[0;31mNameError\u001b[0m                                 Traceback (most recent call last)",
      "\u001b[0;32m<ipython-input-15-32fba14fcabb>\u001b[0m in \u001b[0;36m<module>\u001b[0;34m()\u001b[0m\n\u001b[1;32m     14\u001b[0m \u001b[0;31m# Speed up computation: with only a subset of the training data for Grid search\u001b[0m\u001b[0;34m\u001b[0m\u001b[0;34m\u001b[0m\u001b[0m\n\u001b[1;32m     15\u001b[0m \u001b[0msubset_size\u001b[0m \u001b[0;34m=\u001b[0m \u001b[0;36m10000\u001b[0m\u001b[0;34m\u001b[0m\u001b[0m\n\u001b[0;32m---> 16\u001b[0;31m \u001b[0mclf\u001b[0m\u001b[0;34m.\u001b[0m\u001b[0mfit\u001b[0m\u001b[0;34m(\u001b[0m\u001b[0mX_train\u001b[0m\u001b[0;34m[\u001b[0m\u001b[0;34m:\u001b[0m\u001b[0msubset_size\u001b[0m\u001b[0;34m]\u001b[0m\u001b[0;34m,\u001b[0m\u001b[0my_train\u001b[0m\u001b[0;34m[\u001b[0m\u001b[0;34m:\u001b[0m\u001b[0msubset_size\u001b[0m\u001b[0;34m]\u001b[0m\u001b[0;34m)\u001b[0m\u001b[0;34m\u001b[0m\u001b[0m\n\u001b[0m\u001b[1;32m     17\u001b[0m \u001b[0mclf\u001b[0m\u001b[0;34m.\u001b[0m\u001b[0mbest_params_\u001b[0m\u001b[0;34m\u001b[0m\u001b[0m\n",
      "\u001b[0;31mNameError\u001b[0m: name 'X_train' is not defined"
     ]
    }
   ],
   "source": [
    "from sklearn.model_selection import GridSearchCV\n",
    "from sklearn.pipeline import Pipeline\n",
    "from sklearn.svm import LinearSVC\n",
    "\n",
    "# setup pipeline\n",
    "estimators = []\n",
    "estimators.append(('svm_clf', LinearSVC()))\n",
    "pipe = Pipeline(estimators)\n",
    "\n",
    "# tuning requsted parameter\n",
    "tuned_parameters = [{'svm_clf__C': np.logspace(-5,15,11,base=2.0)}]\n",
    "clf = GridSearchCV(pipe, tuned_parameters, cv=5, scoring='accuracy')\n",
    "\n",
    "# Speed up computation: with only a subset of the training data for Grid search\n",
    "subset_size = 10000\n",
    "clf.fit(X_train[:subset_size],y_train[:subset_size])\n",
    "clf.best_params_"
   ]
  },
  {
   "cell_type": "code",
   "execution_count": 35,
   "metadata": {
    "ExecuteTime": {
     "end_time": "2017-05-21T01:04:20.848672",
     "start_time": "2017-05-21T01:04:20.845743"
    },
    "collapsed": true
   },
   "outputs": [],
   "source": [
    "# bect C value resulting from GridSearch\n",
    "best_C = 0.5"
   ]
  },
  {
   "cell_type": "code",
   "execution_count": 36,
   "metadata": {
    "ExecuteTime": {
     "end_time": "2017-05-21T01:04:31.245301",
     "start_time": "2017-05-21T01:04:20.850602"
    },
    "collapsed": false
   },
   "outputs": [
    {
     "name": "stdout",
     "output_type": "stream",
     "text": [
      "Precision mean:  0.753501105542\n"
     ]
    }
   ],
   "source": [
    "svc = LinearSVC(C=best_C)\n",
    "svc.fit(X_train, y_train)\n",
    "\n",
    "y_pred = svc.predict(X_test)\n",
    "print_precision(y_test, y_pred)"
   ]
  },
  {
   "cell_type": "code",
   "execution_count": 37,
   "metadata": {
    "ExecuteTime": {
     "end_time": "2017-05-21T01:04:31.248672",
     "start_time": "2017-05-21T01:04:31.246483"
    },
    "collapsed": false
   },
   "outputs": [],
   "source": [
    "svc_precision = 0.762051884345"
   ]
  },
  {
   "cell_type": "markdown",
   "metadata": {},
   "source": [
    "### Linear Model:  Stochastic Gradient Descent"
   ]
  },
  {
   "cell_type": "code",
   "execution_count": 16,
   "metadata": {
    "ExecuteTime": {
     "end_time": "2017-05-21T08:24:12.841390",
     "start_time": "2017-05-21T08:24:12.815411"
    },
    "collapsed": false
   },
   "outputs": [
    {
     "ename": "NameError",
     "evalue": "name 'X_train' is not defined",
     "output_type": "error",
     "traceback": [
      "\u001b[0;31m---------------------------------------------------------------------------\u001b[0m",
      "\u001b[0;31mNameError\u001b[0m                                 Traceback (most recent call last)",
      "\u001b[0;32m<ipython-input-16-77487645f733>\u001b[0m in \u001b[0;36m<module>\u001b[0;34m()\u001b[0m\n\u001b[1;32m     13\u001b[0m \u001b[0mrunGridSearch\u001b[0m \u001b[0;34m=\u001b[0m \u001b[0;32mTrue\u001b[0m\u001b[0;34m\u001b[0m\u001b[0m\n\u001b[1;32m     14\u001b[0m \u001b[0;32mif\u001b[0m \u001b[0;34m(\u001b[0m\u001b[0mrunGridSearch\u001b[0m\u001b[0;34m)\u001b[0m\u001b[0;34m:\u001b[0m\u001b[0;34m\u001b[0m\u001b[0m\n\u001b[0;32m---> 15\u001b[0;31m     \u001b[0mX_train_s\u001b[0m\u001b[0;34m,\u001b[0m \u001b[0mX_test_s\u001b[0m\u001b[0;34m,\u001b[0m \u001b[0my_train_s\u001b[0m\u001b[0;34m,\u001b[0m \u001b[0my_test_s\u001b[0m \u001b[0;34m=\u001b[0m \u001b[0mtrain_test_split\u001b[0m\u001b[0;34m(\u001b[0m\u001b[0mX_train\u001b[0m\u001b[0;34m,\u001b[0m \u001b[0my_train\u001b[0m\u001b[0;34m,\u001b[0m \u001b[0mtest_size\u001b[0m\u001b[0;34m=\u001b[0m\u001b[0;36m0.001\u001b[0m\u001b[0;34m,\u001b[0m \u001b[0mrandom_state\u001b[0m\u001b[0;34m=\u001b[0m\u001b[0mseed\u001b[0m\u001b[0;34m)\u001b[0m\u001b[0;34m\u001b[0m\u001b[0m\n\u001b[0m\u001b[1;32m     16\u001b[0m     \u001b[0mX_train_s1\u001b[0m\u001b[0;34m,\u001b[0m \u001b[0mX_test_s1\u001b[0m\u001b[0;34m,\u001b[0m \u001b[0my_train_s1\u001b[0m\u001b[0;34m,\u001b[0m \u001b[0my_test_s1\u001b[0m \u001b[0;34m=\u001b[0m \u001b[0mtrain_test_split\u001b[0m\u001b[0;34m(\u001b[0m\u001b[0mX_train_s\u001b[0m\u001b[0;34m,\u001b[0m \u001b[0my_train_s\u001b[0m\u001b[0;34m,\u001b[0m \u001b[0mtest_size\u001b[0m\u001b[0;34m=\u001b[0m\u001b[0;36m0.2\u001b[0m\u001b[0;34m,\u001b[0m \u001b[0mrandom_state\u001b[0m\u001b[0;34m=\u001b[0m\u001b[0mseed\u001b[0m\u001b[0;34m)\u001b[0m\u001b[0;34m\u001b[0m\u001b[0m\n\u001b[1;32m     17\u001b[0m     \u001b[0msgd\u001b[0m\u001b[0;34m.\u001b[0m\u001b[0mfit\u001b[0m\u001b[0;34m(\u001b[0m\u001b[0mX_train_s1\u001b[0m\u001b[0;34m,\u001b[0m \u001b[0my_train_s1\u001b[0m\u001b[0;34m)\u001b[0m\u001b[0;34m\u001b[0m\u001b[0m\n",
      "\u001b[0;31mNameError\u001b[0m: name 'X_train' is not defined"
     ]
    }
   ],
   "source": [
    "from sklearn.linear_model import SGDClassifier\n",
    "from sklearn.model_selection import KFold\n",
    "from sklearn.model_selection import GridSearchCV\n",
    "parameters = {\n",
    "    'penalty': ['l1', 'l2', 'elasticnet'],\n",
    "    'alpha': [0.001, 0.0001, 0.00001, 0.000001]\n",
    "}\n",
    "cv = KFold(n_splits=10, random_state=seed)\n",
    "sgd = GridSearchCV(SGDClassifier(loss=\"hinge\", random_state=seed), parameters,\n",
    "     scoring=\"accuracy\", cv=cv)\n",
    "\n",
    "# Takes approximately 15 minutes to run with our machines\n",
    "runGridSearch = True\n",
    "if (runGridSearch):\n",
    "    X_train_s, X_test_s, y_train_s, y_test_s = train_test_split(X_train, y_train, test_size=0.001, random_state=seed)\n",
    "    X_train_s1, X_test_s1, y_train_s1, y_test_s1 = train_test_split(X_train_s, y_train_s, test_size=0.2, random_state=seed)\n",
    "    sgd.fit(X_train_s1, y_train_s1)\n",
    "    print(\"Best params:\", sgd.best_estimator_.get_params())\n",
    "else:\n",
    "    # Copy/Paste from the results of the 'if' block\n",
    "    print(\"Best params: {'alpha': 1e-05, 'average': False, 'class_weight': None, 'epsilon': 0.1, 'eta0': 0.0, 'fit_intercept': True, \\\n",
    "          'l1_ratio': 0.15, 'learning_rate': 'optimal', 'loss': 'hinge', 'n_iter': 5, 'n_jobs': 1, 'penalty': 'l1', 'power_t': 0.5, 'random_state': 2017, 'shuffle': True, 'verbose': 0, 'warm_start': False}\")"
   ]
  },
  {
   "cell_type": "code",
   "execution_count": 39,
   "metadata": {
    "ExecuteTime": {
     "end_time": "2017-05-21T01:14:05.808830",
     "start_time": "2017-05-21T01:13:56.701482"
    },
    "collapsed": false
   },
   "outputs": [
    {
     "name": "stdout",
     "output_type": "stream",
     "text": [
      "Precision mean:  0.734385828477\n"
     ]
    }
   ],
   "source": [
    "# Build the SGDClassifier with the best params return by grid search\n",
    "sgd = SGDClassifier(alpha=1e-05, average=False, class_weight=None, epsilon=0.1, eta0=0.0, fit_intercept=True, l1_ratio=0.15, learning_rate='optimal', loss='hinge', n_iter=5, n_jobs=1, penalty='l1', power_t=0.5, random_state=2017, shuffle= True, verbose=0, warm_start=False)\n",
    "\n",
    "# Predict testing data\n",
    "sgd.fit(X_train, y_train)\n",
    "y_pred = sgd.predict(X_test)\n",
    "print_precision(y_test, y_pred)"
   ]
  },
  {
   "cell_type": "code",
   "execution_count": 40,
   "metadata": {
    "ExecuteTime": {
     "end_time": "2017-05-21T01:14:05.812271",
     "start_time": "2017-05-21T01:14:05.810175"
    },
    "collapsed": true
   },
   "outputs": [],
   "source": [
    "SGD_precision = 0.732781987884"
   ]
  },
  {
   "cell_type": "markdown",
   "metadata": {},
   "source": [
    "### Similarity-based model: KNN Classifier"
   ]
  },
  {
   "cell_type": "code",
   "execution_count": 18,
   "metadata": {
    "ExecuteTime": {
     "end_time": "2017-05-21T08:24:18.111391",
     "start_time": "2017-05-21T08:24:18.107345"
    },
    "collapsed": true
   },
   "outputs": [],
   "source": [
    "from sklearn.model_selection import cross_val_score, cross_val_predict, GridSearchCV"
   ]
  },
  {
   "cell_type": "code",
   "execution_count": 17,
   "metadata": {
    "ExecuteTime": {
     "end_time": "2017-05-21T08:24:16.828948",
     "start_time": "2017-05-21T08:24:16.806570"
    },
    "collapsed": false
   },
   "outputs": [
    {
     "ename": "NameError",
     "evalue": "name 'X_train' is not defined",
     "output_type": "error",
     "traceback": [
      "\u001b[0;31m---------------------------------------------------------------------------\u001b[0m",
      "\u001b[0;31mNameError\u001b[0m                                 Traceback (most recent call last)",
      "\u001b[0;32m<ipython-input-17-75df501eadf1>\u001b[0m in \u001b[0;36m<module>\u001b[0;34m()\u001b[0m\n\u001b[1;32m     18\u001b[0m     \u001b[0msubset_size\u001b[0m \u001b[0;34m=\u001b[0m \u001b[0;36m10000\u001b[0m\u001b[0;34m\u001b[0m\u001b[0m\n\u001b[1;32m     19\u001b[0m     \u001b[0;31m# evaluate the grid search and print best regressor\u001b[0m\u001b[0;34m\u001b[0m\u001b[0;34m\u001b[0m\u001b[0m\n\u001b[0;32m---> 20\u001b[0;31m     \u001b[0mestimator_knnclf\u001b[0m\u001b[0;34m.\u001b[0m\u001b[0mfit\u001b[0m\u001b[0;34m(\u001b[0m\u001b[0mX_train\u001b[0m\u001b[0;34m[\u001b[0m\u001b[0;34m:\u001b[0m\u001b[0msubset_size\u001b[0m\u001b[0;34m]\u001b[0m\u001b[0;34m,\u001b[0m \u001b[0my_train\u001b[0m\u001b[0;34m[\u001b[0m\u001b[0;34m:\u001b[0m\u001b[0msubset_size\u001b[0m\u001b[0;34m]\u001b[0m\u001b[0;34m)\u001b[0m\u001b[0;34m\u001b[0m\u001b[0m\n\u001b[0m\u001b[1;32m     21\u001b[0m     \u001b[0mprint\u001b[0m\u001b[0;34m(\u001b[0m\u001b[0mestimator_knnclf\u001b[0m\u001b[0;34m.\u001b[0m\u001b[0mbest_estimator_\u001b[0m\u001b[0;34m)\u001b[0m\u001b[0;34m\u001b[0m\u001b[0m\n\u001b[1;32m     22\u001b[0m \u001b[0;32melse\u001b[0m\u001b[0;34m:\u001b[0m\u001b[0;34m\u001b[0m\u001b[0m\n",
      "\u001b[0;31mNameError\u001b[0m: name 'X_train' is not defined"
     ]
    }
   ],
   "source": [
    "from sklearn.neighbors import KNeighborsClassifier\n",
    "estimators = []\n",
    "estimators.append(('knn_clf', KNeighborsClassifier()))\n",
    "knn_clf_pipe = Pipeline(estimators)\n",
    "knn_clf_pipe.set_params(knn_clf__algorithm='brute')\n",
    "knn_clf_pipe.set_params(knn_clf__weights='distance')\n",
    "\n",
    "# create a grid search over n_neighbors values\n",
    "# We decided to test from a large variety of neighbors possible. To speed up the computation time, we didn't test all possibilities, but use a step between each number\n",
    "parameters = {\n",
    "        'knn_clf__n_neighbors' : range(1,151,10)\n",
    "}\n",
    "estimator_knnclf = GridSearchCV(knn_clf_pipe, parameters, cv=5)\n",
    "\n",
    "run = True\n",
    "if run:\n",
    "    # With our machines, we had several memory errors. Therefore we decide to use less data in order to have some results\n",
    "    subset_size = 10000\n",
    "    # evaluate the grid search and print best regressor\n",
    "    estimator_knnclf.fit(X_train[:subset_size], y_train[:subset_size])\n",
    "    print(estimator_knnclf.best_estimator_)\n",
    "else:\n",
    "    # Copy/Paste from the results of the 'if' block\n",
    "    print(\"Pipeline(steps=[('knn_clf', KNeighborsClassifier(algorithm='brute', leaf_size=30, metric='minkowski',\\\n",
    "           metric_params=None, n_jobs=1, n_neighbors=61, p=2,\\\n",
    "           weights='uniform'))])\")"
   ]
  },
  {
   "cell_type": "code",
   "execution_count": 43,
   "metadata": {
    "ExecuteTime": {
     "end_time": "2017-05-21T01:20:46.624415",
     "start_time": "2017-05-21T01:20:46.622230"
    },
    "collapsed": true
   },
   "outputs": [],
   "source": [
    "# best number of neighbors obtained using GridSearchCV\n",
    "best_clf_neighbors = 61"
   ]
  },
  {
   "cell_type": "code",
   "execution_count": null,
   "metadata": {
    "ExecuteTime": {
     "start_time": "2017-05-21T06:19:43.313Z"
    },
    "collapsed": false
   },
   "outputs": [],
   "source": [
    "# fix the number of neighbors to the best value\n",
    "knn_clf_pipe.set_params(knn_clf__n_neighbors=best_clf_neighbors)\n",
    "\n",
    "# fit the model to the training set\n",
    "knn_clf_pipe.fit(X_train, y_train)\n",
    "\n",
    "y_pred = knn_clf_pipe.predict(X_test[:1000])\n",
    "print_precision(y_test[:1000], y_pred)"
   ]
  },
  {
   "cell_type": "code",
   "execution_count": 45,
   "metadata": {
    "ExecuteTime": {
     "end_time": "2017-05-21T01:20:52.699277",
     "start_time": "2017-05-21T01:20:52.696798"
    },
    "collapsed": true
   },
   "outputs": [],
   "source": [
    "knn_precision = 0.470078407045"
   ]
  },
  {
   "cell_type": "markdown",
   "metadata": {},
   "source": [
    "### Information Based model: Random Forest Classifier"
   ]
  },
  {
   "cell_type": "code",
   "execution_count": 107,
   "metadata": {
    "ExecuteTime": {
     "end_time": "2017-05-21T12:57:33.233704",
     "start_time": "2017-05-21T12:47:47.986466"
    },
    "collapsed": false
   },
   "outputs": [
    {
     "name": "stdout",
     "output_type": "stream",
     "text": [
      "{'max_depth': 41, 'n_estimators': 701}\n"
     ]
    }
   ],
   "source": [
    "tuned_parameters = {\n",
    "    'n_estimators': range(1,801,100),\n",
    "    'max_depth': range(1,101,20)\n",
    "    }\n",
    "\n",
    "rf_clf = GridSearchCV(RandomForestClassifier(), tuned_parameters, cv=5, scoring='accuracy')\n",
    "\n",
    "run = False\n",
    "if run:\n",
    "    # As for before, we need to use less data to avoid 'memory_errors'\n",
    "    subset_size = 1000\n",
    "    rf_clf.fit(X_train[:subset_size],y_train[:subset_size])\n",
    "    print(rf_clf.best_params_)"
   ]
  },
  {
   "cell_type": "code",
   "execution_count": 109,
   "metadata": {
    "ExecuteTime": {
     "end_time": "2017-05-21T13:41:37.169784",
     "start_time": "2017-05-21T13:28:17.089542"
    },
    "collapsed": false
   },
   "outputs": [
    {
     "name": "stdout",
     "output_type": "stream",
     "text": [
      "{'max_depth': 42, 'n_estimators': 752}\n"
     ]
    }
   ],
   "source": [
    "tuned_parameters = {\n",
    "    'n_estimators': range(602,801,30),\n",
    "    'max_depth': range(32,51,5)\n",
    "    }\n",
    "\n",
    "rf_clf = GridSearchCV(RandomForestClassifier(), tuned_parameters, cv=5, scoring='accuracy')\n",
    "\n",
    "run = False\n",
    "if run:\n",
    "    # As for before, we need to use less data to avoid 'memory_errors'\n",
    "    subset_size = 1000\n",
    "    rf_clf.fit(X_train[:subset_size],y_train[:subset_size])\n",
    "    print(rf_clf.best_params_)"
   ]
  },
  {
   "cell_type": "code",
   "execution_count": 117,
   "metadata": {
    "ExecuteTime": {
     "end_time": "2017-05-21T14:59:39.439906",
     "start_time": "2017-05-21T14:59:39.435009"
    },
    "collapsed": true
   },
   "outputs": [],
   "source": [
    "best_n_estimators = 752\n",
    "best_clf_tree_depth = 42"
   ]
  },
  {
   "cell_type": "code",
   "execution_count": 118,
   "metadata": {
    "ExecuteTime": {
     "end_time": "2017-05-21T15:01:00.703306",
     "start_time": "2017-05-21T14:59:42.574584"
    },
    "collapsed": false
   },
   "outputs": [
    {
     "name": "stdout",
     "output_type": "stream",
     "text": [
      "Precision mean:  0.626824012941\n"
     ]
    }
   ],
   "source": [
    "rf_clf = RandomForestClassifier(n_estimators=best_n_estimators, max_depth=best_clf_tree_depth)\n",
    "\n",
    "# As for before, we need to use less data to avoid 'memory_errors' and speed up the all computation\n",
    "subset_size = 10000\n",
    "rf_clf.fit(X_train[:subset_size],y_train[:subset_size])\n",
    "\n",
    "y_pred = rf_clf.predict(X_test)\n",
    "print_precision(y_test, y_pred)"
   ]
  },
  {
   "cell_type": "code",
   "execution_count": null,
   "metadata": {
    "collapsed": true
   },
   "outputs": [],
   "source": [
    "randomForest_precision = 0.627599048572"
   ]
  },
  {
   "cell_type": "markdown",
   "metadata": {},
   "source": [
    "## Model comparison and best model\n",
    "We rank our models by the accuracy it achieved with the test data."
   ]
  },
  {
   "cell_type": "code",
   "execution_count": 50,
   "metadata": {
    "ExecuteTime": {
     "end_time": "2017-05-21T01:31:06.780592",
     "start_time": "2017-05-21T01:31:06.554434"
    },
    "collapsed": false
   },
   "outputs": [
    {
     "data": {
      "image/png": "[encoded data removed]",
      "text/plain": [
       "<matplotlib.figure.Figure at 0x7f35fea0eb38>"
      ]
     },
     "metadata": {},
     "output_type": "display_data"
    }
   ],
   "source": [
    "models_precision = [baseline_precision, SGD_precision, knn_precision, randomForest_precision]\n",
    "models = [\"Baseline\", \"SGD\", \"KNN\", \"Random Forest\"]\n",
    "\n",
    "models_df = pd.DataFrame(models_precision, models)\n",
    "models_df[0].plot(kind='bar')\n",
    "plt.show()"
   ]
  },
  {
   "cell_type": "markdown",
   "metadata": {},
   "source": [
    "As we can see, the linear model achieved the higher accuracy with the test data."
   ]
  },
  {
   "cell_type": "markdown",
   "metadata": {},
   "source": [
    "## Prediction of the unseen data"
   ]
  },
  {
   "cell_type": "code",
   "execution_count": 51,
   "metadata": {
    "ExecuteTime": {
     "end_time": "2017-05-21T01:31:07.236182",
     "start_time": "2017-05-21T01:31:06.782404"
    },
    "collapsed": false
   },
   "outputs": [
    {
     "data": {
      "text/html": [
       "<div>\n",
       "<table border=\"1\" class=\"dataframe\">\n",
       "  <thead>\n",
       "    <tr style=\"text-align: right;\">\n",
       "      <th></th>\n",
       "      <th>Unnamed: 0</th>\n",
       "      <th>reviewerID</th>\n",
       "      <th>asin</th>\n",
       "      <th>reviewerName</th>\n",
       "      <th>helpful</th>\n",
       "      <th>reviewText</th>\n",
       "      <th>overall</th>\n",
       "      <th>summary</th>\n",
       "      <th>unixReviewTime</th>\n",
       "      <th>reviewTime</th>\n",
       "      <th>label</th>\n",
       "    </tr>\n",
       "  </thead>\n",
       "  <tbody>\n",
       "    <tr>\n",
       "      <th>1788</th>\n",
       "      <td>1788</td>\n",
       "      <td>A12PH6L5QSVTYN</td>\n",
       "      <td>0005119367</td>\n",
       "      <td>Im a product tester</td>\n",
       "      <td>[0, 1]</td>\n",
       "      <td>I love the story of Joseph, it reminds me of m...</td>\n",
       "      <td>5.0</td>\n",
       "      <td>I can relate to Joseph In the Bible</td>\n",
       "      <td>1388016000</td>\n",
       "      <td>12 26, 2013</td>\n",
       "      <td>?</td>\n",
       "    </tr>\n",
       "    <tr>\n",
       "      <th>6682</th>\n",
       "      <td>6682</td>\n",
       "      <td>A2RD94MPKMBLBJ</td>\n",
       "      <td>0912696591</td>\n",
       "      <td>A. Castillo</td>\n",
       "      <td>[2, 2]</td>\n",
       "      <td>Absolutely loved this step by step instruction...</td>\n",
       "      <td>5.0</td>\n",
       "      <td>Wilton - who thought decorating was hard to do?</td>\n",
       "      <td>1374624000</td>\n",
       "      <td>07 24, 2013</td>\n",
       "      <td>?</td>\n",
       "    </tr>\n",
       "    <tr>\n",
       "      <th>16325</th>\n",
       "      <td>16325</td>\n",
       "      <td>A2BN9DIBP9A0XG</td>\n",
       "      <td>1617160377</td>\n",
       "      <td>D. Vance</td>\n",
       "      <td>[0, 0]</td>\n",
       "      <td>I was thrilled to get the Rosetta Stone and be...</td>\n",
       "      <td>5.0</td>\n",
       "      <td>Great tool!</td>\n",
       "      <td>1329696000</td>\n",
       "      <td>02 20, 2012</td>\n",
       "      <td>?</td>\n",
       "    </tr>\n",
       "    <tr>\n",
       "      <th>22505</th>\n",
       "      <td>22505</td>\n",
       "      <td>A3PQ4BEV9GKI1C</td>\n",
       "      <td>0912696591</td>\n",
       "      <td>Binta Tolbert \"DreadDIVA\"</td>\n",
       "      <td>[0, 4]</td>\n",
       "      <td>This book is very helpful and useful for begin...</td>\n",
       "      <td>5.0</td>\n",
       "      <td>Helpful for beginners.</td>\n",
       "      <td>1235260800</td>\n",
       "      <td>02 22, 2009</td>\n",
       "      <td>?</td>\n",
       "    </tr>\n",
       "    <tr>\n",
       "      <th>14224</th>\n",
       "      <td>14224</td>\n",
       "      <td>A380JIN0NF0PJZ</td>\n",
       "      <td>7293000960</td>\n",
       "      <td>nortiz</td>\n",
       "      <td>[0, 0]</td>\n",
       "      <td>Do not buy system will tell you 6hrs remaing 1...</td>\n",
       "      <td>2.0</td>\n",
       "      <td>Wont last more thant 1 hour</td>\n",
       "      <td>1300060800</td>\n",
       "      <td>03 14, 2011</td>\n",
       "      <td>?</td>\n",
       "    </tr>\n",
       "  </tbody>\n",
       "</table>\n",
       "</div>"
      ],
      "text/plain": [
       "       Unnamed: 0      reviewerID        asin               reviewerName  \\\n",
       "1788         1788  A12PH6L5QSVTYN  0005119367        Im a product tester   \n",
       "6682         6682  A2RD94MPKMBLBJ  0912696591                A. Castillo   \n",
       "16325       16325  A2BN9DIBP9A0XG  1617160377                   D. Vance   \n",
       "22505       22505  A3PQ4BEV9GKI1C  0912696591  Binta Tolbert \"DreadDIVA\"   \n",
       "14224       14224  A380JIN0NF0PJZ  7293000960                     nortiz   \n",
       "\n",
       "      helpful                                         reviewText  overall  \\\n",
       "1788   [0, 1]  I love the story of Joseph, it reminds me of m...      5.0   \n",
       "6682   [2, 2]  Absolutely loved this step by step instruction...      5.0   \n",
       "16325  [0, 0]  I was thrilled to get the Rosetta Stone and be...      5.0   \n",
       "22505  [0, 4]  This book is very helpful and useful for begin...      5.0   \n",
       "14224  [0, 0]  Do not buy system will tell you 6hrs remaing 1...      2.0   \n",
       "\n",
       "                                               summary  unixReviewTime  \\\n",
       "1788               I can relate to Joseph In the Bible      1388016000   \n",
       "6682   Wilton - who thought decorating was hard to do?      1374624000   \n",
       "16325                                      Great tool!      1329696000   \n",
       "22505                           Helpful for beginners.      1235260800   \n",
       "14224                      Wont last more thant 1 hour      1300060800   \n",
       "\n",
       "        reviewTime label  \n",
       "1788   12 26, 2013     ?  \n",
       "6682   07 24, 2013     ?  \n",
       "16325  02 20, 2012     ?  \n",
       "22505  02 22, 2009     ?  \n",
       "14224  03 14, 2011     ?  "
      ]
     },
     "execution_count": 51,
     "metadata": {},
     "output_type": "execute_result"
    }
   ],
   "source": [
    "# We will apply the same modification as for the preprocessing step for this new dataset\n",
    "\n",
    "!gunzip -c amazon_step1_unseen.csv.gz > amazon_step1_unseen.csv\n",
    "df1_unseen = pd.read_csv(\"amazon_step1_unseen.csv\")\n",
    "\n",
    "df1_unseen.sample(5)"
   ]
  },
  {
   "cell_type": "code",
   "execution_count": 52,
   "metadata": {
    "ExecuteTime": {
     "end_time": "2017-05-21T01:31:07.260745",
     "start_time": "2017-05-21T01:31:07.237843"
    },
    "collapsed": false
   },
   "outputs": [
    {
     "data": {
      "text/plain": [
       "Unnamed: 0         0\n",
       "reviewerID         0\n",
       "asin               0\n",
       "reviewerName      90\n",
       "helpful            0\n",
       "reviewText         7\n",
       "overall            0\n",
       "summary            1\n",
       "unixReviewTime     0\n",
       "reviewTime         0\n",
       "label              0\n",
       "dtype: int64"
      ]
     },
     "execution_count": 52,
     "metadata": {},
     "output_type": "execute_result"
    }
   ],
   "source": [
    "# Verifiy if this data as null values\n",
    "df1_unseen.isnull().sum()"
   ]
  },
  {
   "cell_type": "markdown",
   "metadata": {},
   "source": [
    "Ah ! Compare to the training dataset, this validation data has some null values within two features of interest: `reviewText` and `summary`. \n",
    "\n",
    "We cannot drop those rows from our dataset: we need to predict the category of the product in a way ! We decide to replace some null entries by an empty string. For example, when the `reviewText` field is missing, we hope that the `summary`feature will be enough to predit the category."
   ]
  },
  {
   "cell_type": "code",
   "execution_count": 53,
   "metadata": {
    "ExecuteTime": {
     "end_time": "2017-05-21T01:31:07.290830",
     "start_time": "2017-05-21T01:31:07.262564"
    },
    "collapsed": false
   },
   "outputs": [
    {
     "data": {
      "text/plain": [
       "Unnamed: 0         0\n",
       "reviewerID         0\n",
       "asin               0\n",
       "reviewerName      90\n",
       "helpful            0\n",
       "reviewText         0\n",
       "overall            0\n",
       "summary            0\n",
       "unixReviewTime     0\n",
       "reviewTime         0\n",
       "label              0\n",
       "dtype: int64"
      ]
     },
     "execution_count": 53,
     "metadata": {},
     "output_type": "execute_result"
    }
   ],
   "source": [
    "df1_unseen.reviewText.fillna(\"\", inplace=True)\n",
    "df1_unseen.summary.fillna(\"\", inplace=True)\n",
    "\n",
    "# Assert that there is no more null values within this two features\n",
    "df1_unseen.isnull().sum()"
   ]
  },
  {
   "cell_type": "code",
   "execution_count": 54,
   "metadata": {
    "ExecuteTime": {
     "end_time": "2017-05-21T01:34:24.380222",
     "start_time": "2017-05-21T01:31:07.292455"
    },
    "collapsed": false
   },
   "outputs": [
    {
     "name": "stderr",
     "output_type": "stream",
     "text": [
      "/home/ra-danny/anaconda36/lib/python3.6/site-packages/sklearn/utils/validation.py:429: DataConversionWarning: Data with input dtype int64 was converted to float64 by StandardScaler.\n",
      "  warnings.warn(msg, _DataConversionWarning)\n"
     ]
    },
    {
     "ename": "KeyError",
     "evalue": "'rtCountPoints'",
     "output_type": "error",
     "traceback": [
      "\u001b[0;31m---------------------------------------------------------------------------\u001b[0m",
      "\u001b[0;31mKeyError\u001b[0m                                  Traceback (most recent call last)",
      "\u001b[0;32m/home/ra-danny/anaconda36/lib/python3.6/site-packages/pandas/indexes/base.py\u001b[0m in \u001b[0;36mget_loc\u001b[0;34m(self, key, method, tolerance)\u001b[0m\n\u001b[1;32m   2133\u001b[0m             \u001b[0;32mtry\u001b[0m\u001b[0;34m:\u001b[0m\u001b[0;34m\u001b[0m\u001b[0m\n\u001b[0;32m-> 2134\u001b[0;31m                 \u001b[0;32mreturn\u001b[0m \u001b[0mself\u001b[0m\u001b[0;34m.\u001b[0m\u001b[0m_engine\u001b[0m\u001b[0;34m.\u001b[0m\u001b[0mget_loc\u001b[0m\u001b[0;34m(\u001b[0m\u001b[0mkey\u001b[0m\u001b[0;34m)\u001b[0m\u001b[0;34m\u001b[0m\u001b[0m\n\u001b[0m\u001b[1;32m   2135\u001b[0m             \u001b[0;32mexcept\u001b[0m \u001b[0mKeyError\u001b[0m\u001b[0;34m:\u001b[0m\u001b[0;34m\u001b[0m\u001b[0m\n",
      "\u001b[0;32mpandas/index.pyx\u001b[0m in \u001b[0;36mpandas.index.IndexEngine.get_loc (pandas/index.c:4433)\u001b[0;34m()\u001b[0m\n",
      "\u001b[0;32mpandas/index.pyx\u001b[0m in \u001b[0;36mpandas.index.IndexEngine.get_loc (pandas/index.c:4279)\u001b[0;34m()\u001b[0m\n",
      "\u001b[0;32mpandas/src/hashtable_class_helper.pxi\u001b[0m in \u001b[0;36mpandas.hashtable.PyObjectHashTable.get_item (pandas/hashtable.c:13742)\u001b[0;34m()\u001b[0m\n",
      "\u001b[0;32mpandas/src/hashtable_class_helper.pxi\u001b[0m in \u001b[0;36mpandas.hashtable.PyObjectHashTable.get_item (pandas/hashtable.c:13696)\u001b[0;34m()\u001b[0m\n",
      "\u001b[0;31mKeyError\u001b[0m: 'rtCountPoints'",
      "\nDuring handling of the above exception, another exception occurred:\n",
      "\u001b[0;31mKeyError\u001b[0m                                  Traceback (most recent call last)",
      "\u001b[0;32m<ipython-input-54-c55f21189b5f>\u001b[0m in \u001b[0;36m<module>\u001b[0;34m()\u001b[0m\n\u001b[1;32m     27\u001b[0m \u001b[0mfeaturesToUse\u001b[0m \u001b[0;34m=\u001b[0m \u001b[0;34m[\u001b[0m\u001b[0;34m\"helpfulPercentage\"\u001b[0m\u001b[0;34m,\u001b[0m \u001b[0;34m\"reviewTextLength\"\u001b[0m\u001b[0;34m,\u001b[0m \u001b[0;34m\"rtCountPoints\"\u001b[0m\u001b[0;34m,\u001b[0m \u001b[0;34m\"rtCountExcl\"\u001b[0m\u001b[0;34m,\u001b[0m \u001b[0;34m\"rtCountInterr\"\u001b[0m\u001b[0;34m,\u001b[0m \u001b[0;34m\"rtCountComas\"\u001b[0m\u001b[0;34m]\u001b[0m\u001b[0;34m\u001b[0m\u001b[0m\n\u001b[1;32m     28\u001b[0m \u001b[0;32mfor\u001b[0m \u001b[0mc\u001b[0m \u001b[0;32min\u001b[0m \u001b[0mfeaturesToUse\u001b[0m\u001b[0;34m:\u001b[0m\u001b[0;34m\u001b[0m\u001b[0m\n\u001b[0;32m---> 29\u001b[0;31m     \u001b[0mX_unseen\u001b[0m \u001b[0;34m=\u001b[0m \u001b[0mhstack\u001b[0m\u001b[0;34m(\u001b[0m\u001b[0;34m(\u001b[0m\u001b[0mX_unseen\u001b[0m\u001b[0;34m,\u001b[0m\u001b[0;34m(\u001b[0m\u001b[0mdf1_unseen\u001b[0m\u001b[0;34m[\u001b[0m\u001b[0mc\u001b[0m\u001b[0;34m]\u001b[0m\u001b[0;34m)\u001b[0m\u001b[0;34m[\u001b[0m\u001b[0;34m:\u001b[0m\u001b[0;34m,\u001b[0m\u001b[0;32mNone\u001b[0m\u001b[0;34m]\u001b[0m\u001b[0;34m)\u001b[0m\u001b[0;34m)\u001b[0m\u001b[0;34m\u001b[0m\u001b[0m\n\u001b[0m",
      "\u001b[0;32m/home/ra-danny/anaconda36/lib/python3.6/site-packages/pandas/core/frame.py\u001b[0m in \u001b[0;36m__getitem__\u001b[0;34m(self, key)\u001b[0m\n\u001b[1;32m   2057\u001b[0m             \u001b[0;32mreturn\u001b[0m \u001b[0mself\u001b[0m\u001b[0;34m.\u001b[0m\u001b[0m_getitem_multilevel\u001b[0m\u001b[0;34m(\u001b[0m\u001b[0mkey\u001b[0m\u001b[0;34m)\u001b[0m\u001b[0;34m\u001b[0m\u001b[0m\n\u001b[1;32m   2058\u001b[0m         \u001b[0;32melse\u001b[0m\u001b[0;34m:\u001b[0m\u001b[0;34m\u001b[0m\u001b[0m\n\u001b[0;32m-> 2059\u001b[0;31m             \u001b[0;32mreturn\u001b[0m \u001b[0mself\u001b[0m\u001b[0;34m.\u001b[0m\u001b[0m_getitem_column\u001b[0m\u001b[0;34m(\u001b[0m\u001b[0mkey\u001b[0m\u001b[0;34m)\u001b[0m\u001b[0;34m\u001b[0m\u001b[0m\n\u001b[0m\u001b[1;32m   2060\u001b[0m \u001b[0;34m\u001b[0m\u001b[0m\n\u001b[1;32m   2061\u001b[0m     \u001b[0;32mdef\u001b[0m \u001b[0m_getitem_column\u001b[0m\u001b[0;34m(\u001b[0m\u001b[0mself\u001b[0m\u001b[0;34m,\u001b[0m \u001b[0mkey\u001b[0m\u001b[0;34m)\u001b[0m\u001b[0;34m:\u001b[0m\u001b[0;34m\u001b[0m\u001b[0m\n",
      "\u001b[0;32m/home/ra-danny/anaconda36/lib/python3.6/site-packages/pandas/core/frame.py\u001b[0m in \u001b[0;36m_getitem_column\u001b[0;34m(self, key)\u001b[0m\n\u001b[1;32m   2064\u001b[0m         \u001b[0;31m# get column\u001b[0m\u001b[0;34m\u001b[0m\u001b[0;34m\u001b[0m\u001b[0m\n\u001b[1;32m   2065\u001b[0m         \u001b[0;32mif\u001b[0m \u001b[0mself\u001b[0m\u001b[0;34m.\u001b[0m\u001b[0mcolumns\u001b[0m\u001b[0;34m.\u001b[0m\u001b[0mis_unique\u001b[0m\u001b[0;34m:\u001b[0m\u001b[0;34m\u001b[0m\u001b[0m\n\u001b[0;32m-> 2066\u001b[0;31m             \u001b[0;32mreturn\u001b[0m \u001b[0mself\u001b[0m\u001b[0;34m.\u001b[0m\u001b[0m_get_item_cache\u001b[0m\u001b[0;34m(\u001b[0m\u001b[0mkey\u001b[0m\u001b[0;34m)\u001b[0m\u001b[0;34m\u001b[0m\u001b[0m\n\u001b[0m\u001b[1;32m   2067\u001b[0m \u001b[0;34m\u001b[0m\u001b[0m\n\u001b[1;32m   2068\u001b[0m         \u001b[0;31m# duplicate columns & possible reduce dimensionality\u001b[0m\u001b[0;34m\u001b[0m\u001b[0;34m\u001b[0m\u001b[0m\n",
      "\u001b[0;32m/home/ra-danny/anaconda36/lib/python3.6/site-packages/pandas/core/generic.py\u001b[0m in \u001b[0;36m_get_item_cache\u001b[0;34m(self, item)\u001b[0m\n\u001b[1;32m   1384\u001b[0m         \u001b[0mres\u001b[0m \u001b[0;34m=\u001b[0m \u001b[0mcache\u001b[0m\u001b[0;34m.\u001b[0m\u001b[0mget\u001b[0m\u001b[0;34m(\u001b[0m\u001b[0mitem\u001b[0m\u001b[0;34m)\u001b[0m\u001b[0;34m\u001b[0m\u001b[0m\n\u001b[1;32m   1385\u001b[0m         \u001b[0;32mif\u001b[0m \u001b[0mres\u001b[0m \u001b[0;32mis\u001b[0m \u001b[0;32mNone\u001b[0m\u001b[0;34m:\u001b[0m\u001b[0;34m\u001b[0m\u001b[0m\n\u001b[0;32m-> 1386\u001b[0;31m             \u001b[0mvalues\u001b[0m \u001b[0;34m=\u001b[0m \u001b[0mself\u001b[0m\u001b[0;34m.\u001b[0m\u001b[0m_data\u001b[0m\u001b[0;34m.\u001b[0m\u001b[0mget\u001b[0m\u001b[0;34m(\u001b[0m\u001b[0mitem\u001b[0m\u001b[0;34m)\u001b[0m\u001b[0;34m\u001b[0m\u001b[0m\n\u001b[0m\u001b[1;32m   1387\u001b[0m             \u001b[0mres\u001b[0m \u001b[0;34m=\u001b[0m \u001b[0mself\u001b[0m\u001b[0;34m.\u001b[0m\u001b[0m_box_item_values\u001b[0m\u001b[0;34m(\u001b[0m\u001b[0mitem\u001b[0m\u001b[0;34m,\u001b[0m \u001b[0mvalues\u001b[0m\u001b[0;34m)\u001b[0m\u001b[0;34m\u001b[0m\u001b[0m\n\u001b[1;32m   1388\u001b[0m             \u001b[0mcache\u001b[0m\u001b[0;34m[\u001b[0m\u001b[0mitem\u001b[0m\u001b[0;34m]\u001b[0m \u001b[0;34m=\u001b[0m \u001b[0mres\u001b[0m\u001b[0;34m\u001b[0m\u001b[0m\n",
      "\u001b[0;32m/home/ra-danny/anaconda36/lib/python3.6/site-packages/pandas/core/internals.py\u001b[0m in \u001b[0;36mget\u001b[0;34m(self, item, fastpath)\u001b[0m\n\u001b[1;32m   3541\u001b[0m \u001b[0;34m\u001b[0m\u001b[0m\n\u001b[1;32m   3542\u001b[0m             \u001b[0;32mif\u001b[0m \u001b[0;32mnot\u001b[0m \u001b[0misnull\u001b[0m\u001b[0;34m(\u001b[0m\u001b[0mitem\u001b[0m\u001b[0;34m)\u001b[0m\u001b[0;34m:\u001b[0m\u001b[0;34m\u001b[0m\u001b[0m\n\u001b[0;32m-> 3543\u001b[0;31m                 \u001b[0mloc\u001b[0m \u001b[0;34m=\u001b[0m \u001b[0mself\u001b[0m\u001b[0;34m.\u001b[0m\u001b[0mitems\u001b[0m\u001b[0;34m.\u001b[0m\u001b[0mget_loc\u001b[0m\u001b[0;34m(\u001b[0m\u001b[0mitem\u001b[0m\u001b[0;34m)\u001b[0m\u001b[0;34m\u001b[0m\u001b[0m\n\u001b[0m\u001b[1;32m   3544\u001b[0m             \u001b[0;32melse\u001b[0m\u001b[0;34m:\u001b[0m\u001b[0;34m\u001b[0m\u001b[0m\n\u001b[1;32m   3545\u001b[0m                 \u001b[0mindexer\u001b[0m \u001b[0;34m=\u001b[0m \u001b[0mnp\u001b[0m\u001b[0;34m.\u001b[0m\u001b[0marange\u001b[0m\u001b[0;34m(\u001b[0m\u001b[0mlen\u001b[0m\u001b[0;34m(\u001b[0m\u001b[0mself\u001b[0m\u001b[0;34m.\u001b[0m\u001b[0mitems\u001b[0m\u001b[0;34m)\u001b[0m\u001b[0;34m)\u001b[0m\u001b[0;34m[\u001b[0m\u001b[0misnull\u001b[0m\u001b[0;34m(\u001b[0m\u001b[0mself\u001b[0m\u001b[0;34m.\u001b[0m\u001b[0mitems\u001b[0m\u001b[0;34m)\u001b[0m\u001b[0;34m]\u001b[0m\u001b[0;34m\u001b[0m\u001b[0m\n",
      "\u001b[0;32m/home/ra-danny/anaconda36/lib/python3.6/site-packages/pandas/indexes/base.py\u001b[0m in \u001b[0;36mget_loc\u001b[0;34m(self, key, method, tolerance)\u001b[0m\n\u001b[1;32m   2134\u001b[0m                 \u001b[0;32mreturn\u001b[0m \u001b[0mself\u001b[0m\u001b[0;34m.\u001b[0m\u001b[0m_engine\u001b[0m\u001b[0;34m.\u001b[0m\u001b[0mget_loc\u001b[0m\u001b[0;34m(\u001b[0m\u001b[0mkey\u001b[0m\u001b[0;34m)\u001b[0m\u001b[0;34m\u001b[0m\u001b[0m\n\u001b[1;32m   2135\u001b[0m             \u001b[0;32mexcept\u001b[0m \u001b[0mKeyError\u001b[0m\u001b[0;34m:\u001b[0m\u001b[0;34m\u001b[0m\u001b[0m\n\u001b[0;32m-> 2136\u001b[0;31m                 \u001b[0;32mreturn\u001b[0m \u001b[0mself\u001b[0m\u001b[0;34m.\u001b[0m\u001b[0m_engine\u001b[0m\u001b[0;34m.\u001b[0m\u001b[0mget_loc\u001b[0m\u001b[0;34m(\u001b[0m\u001b[0mself\u001b[0m\u001b[0;34m.\u001b[0m\u001b[0m_maybe_cast_indexer\u001b[0m\u001b[0;34m(\u001b[0m\u001b[0mkey\u001b[0m\u001b[0;34m)\u001b[0m\u001b[0;34m)\u001b[0m\u001b[0;34m\u001b[0m\u001b[0m\n\u001b[0m\u001b[1;32m   2137\u001b[0m \u001b[0;34m\u001b[0m\u001b[0m\n\u001b[1;32m   2138\u001b[0m         \u001b[0mindexer\u001b[0m \u001b[0;34m=\u001b[0m \u001b[0mself\u001b[0m\u001b[0;34m.\u001b[0m\u001b[0mget_indexer\u001b[0m\u001b[0;34m(\u001b[0m\u001b[0;34m[\u001b[0m\u001b[0mkey\u001b[0m\u001b[0;34m]\u001b[0m\u001b[0;34m,\u001b[0m \u001b[0mmethod\u001b[0m\u001b[0;34m=\u001b[0m\u001b[0mmethod\u001b[0m\u001b[0;34m,\u001b[0m \u001b[0mtolerance\u001b[0m\u001b[0;34m=\u001b[0m\u001b[0mtolerance\u001b[0m\u001b[0;34m)\u001b[0m\u001b[0;34m\u001b[0m\u001b[0m\n",
      "\u001b[0;32mpandas/index.pyx\u001b[0m in \u001b[0;36mpandas.index.IndexEngine.get_loc (pandas/index.c:4433)\u001b[0;34m()\u001b[0m\n",
      "\u001b[0;32mpandas/index.pyx\u001b[0m in \u001b[0;36mpandas.index.IndexEngine.get_loc (pandas/index.c:4279)\u001b[0;34m()\u001b[0m\n",
      "\u001b[0;32mpandas/src/hashtable_class_helper.pxi\u001b[0m in \u001b[0;36mpandas.hashtable.PyObjectHashTable.get_item (pandas/hashtable.c:13742)\u001b[0;34m()\u001b[0m\n",
      "\u001b[0;32mpandas/src/hashtable_class_helper.pxi\u001b[0m in \u001b[0;36mpandas.hashtable.PyObjectHashTable.get_item (pandas/hashtable.c:13696)\u001b[0;34m()\u001b[0m\n",
      "\u001b[0;31mKeyError\u001b[0m: 'rtCountPoints'"
     ]
    }
   ],
   "source": [
    "# Create the new features\n",
    "#createHelpfulPercentage(df1_unseen)\n",
    "#createTextLength(df1_unseen, \"reviewText\")\n",
    "#createTextPunctuationFeatures(df1_unseen, \"reviewText\")\n",
    "\n",
    "# Standardize with MinMaxScaler\n",
    "#df1_unseen.helpfulPercentage             =    scalerHelpful.transform(     df1_unseen.helpfulPercentage.values.reshape(-1,1))\n",
    "#df1_unseen.reviewTextLength              =    scalerTextLength.transform(  df1_unseen.reviewTextLength.values.reshape(-1,1))\n",
    "#df1_unseen.reviewTextCountPoints         =    scalerCountPoints.transform( df1_unseen.reviewTextCountPoints.values.reshape(-1,1))\n",
    "#df1_unseen.reviewTextCountExcl           =    scalerCountExcl.transform(   df1_unseen.reviewTextCountExcl.values.reshape(-1,1))\n",
    "#df1_unseen.reviewTextCountInterr         =    scalerCountInterr.transform( df1_unseen.reviewTextCountInterr.values.reshape(-1,1))\n",
    "#df1_unseen.reviewTextCountComas          =    scalerCountComas.transform(  df1_unseen.reviewTextCountComas.values.reshape(-1,1))\n",
    "\n",
    "# Drop useless features\n",
    "#df1_unseen = df1_unseen.drop(['asin', 'reviewTime', 'reviewerID', 'reviewerName', 'unixReviewTime', 'helpful'], axis=1)\n",
    "\n",
    "# TF-IDF for 'reviewText'\n",
    "pipe_modified.fit(df1.reviewText)\n",
    "x_reviewText = pipe_modified.transform(df1_unseen.reviewText)\n",
    "\n",
    "# TF-IDF for 'summary'\n",
    "pipe_modified.fit(df1.summary)\n",
    "x_summary = pipe_modified.transform(df1_unseen.summary)\n",
    "\n",
    "# Merge all features into a single dataframe\n",
    "X_unseen = hstack((x_reviewText, x_summary))\n",
    "#featuresToUse = [\"helpfulPercentage\", \"reviewTextLength\", \"rtCountPoints\", \"rtCountExcl\", \"rtCountInterr\", \"rtCountComas\"]\n",
    "#for c in featuresToUse:\n",
    "#    X_unseen = hstack((X_unseen,(df1_unseen[c])[:,None]))"
   ]
  },
  {
   "cell_type": "code",
   "execution_count": null,
   "metadata": {
    "ExecuteTime": {
     "end_time": "2017-05-21T01:34:24.380802",
     "start_time": "2017-05-20T22:57:16.620Z"
    },
    "collapsed": false
   },
   "outputs": [],
   "source": [
    "# SGD Classifier gives use the best prediction accuracy, we use it \n",
    "sgd = SGDClassifier(alpha=1e-05, average=False, class_weight=None, epsilon=0.1, eta0=0.0, fit_intercept=True, l1_ratio=0.15, learning_rate='optimal', loss='hinge', n_iter=5, n_jobs=1, penalty='l1', power_t=0.5, random_state=2017, shuffle= True, verbose=0, warm_start=False)\n",
    "\n",
    "# Now we can train it with the entire dataset !\n",
    "sgd.fit(X, y)\n",
    "y_unseen_pred = sgd.predict(X_unseen)"
   ]
  },
  {
   "cell_type": "code",
   "execution_count": null,
   "metadata": {
    "ExecuteTime": {
     "end_time": "2017-05-21T01:34:24.381153",
     "start_time": "2017-05-20T22:57:16.632Z"
    },
    "collapsed": false
   },
   "outputs": [],
   "source": [
    "# export the prediction into a file named \"pred1.txt\"\n",
    "file = open('pred1.txt', 'w')\n",
    "for item in y_unseen_pred:\n",
    "  file.write(\"%s\\n\" % item)"
   ]
  },
  {
   "cell_type": "markdown",
   "metadata": {},
   "source": [
    "# Step 2\n",
    "\n",
    "> Predict whether a product review has 5 stars rating or not (yes/no), based on the reviewText field. The dataset for this step is filtered down to the Digital_Music category. Construct the problem as a binary classification (rank 5: 1, others: 0).\n",
    ">\n",
    "> `f(reviewText) -> overall (5 or not)` "
   ]
  },
  {
   "cell_type": "markdown",
   "metadata": {},
   "source": [
    "## Preprocessing"
   ]
  },
  {
   "cell_type": "code",
   "execution_count": 14,
   "metadata": {
    "ExecuteTime": {
     "end_time": "2017-05-21T10:07:17.437703",
     "start_time": "2017-05-21T10:07:14.439117"
    },
    "collapsed": false
   },
   "outputs": [
    {
     "data": {
      "text/html": [
       "<div>\n",
       "<table border=\"1\" class=\"dataframe\">\n",
       "  <thead>\n",
       "    <tr style=\"text-align: right;\">\n",
       "      <th></th>\n",
       "      <th>asin</th>\n",
       "      <th>helpful</th>\n",
       "      <th>overall</th>\n",
       "      <th>reviewText</th>\n",
       "      <th>reviewTime</th>\n",
       "      <th>reviewerID</th>\n",
       "      <th>reviewerName</th>\n",
       "      <th>summary</th>\n",
       "      <th>unixReviewTime</th>\n",
       "    </tr>\n",
       "  </thead>\n",
       "  <tbody>\n",
       "    <tr>\n",
       "      <th>17773</th>\n",
       "      <td>B000002MUW</td>\n",
       "      <td>[5, 5]</td>\n",
       "      <td>4</td>\n",
       "      <td>After the immense public backlash following th...</td>\n",
       "      <td>08 15, 2005</td>\n",
       "      <td>A2DS532SLTFWFK</td>\n",
       "      <td>Det. Abilene</td>\n",
       "      <td>Another terrific disc</td>\n",
       "      <td>1124064000</td>\n",
       "    </tr>\n",
       "    <tr>\n",
       "      <th>27507</th>\n",
       "      <td>B00000FC5H</td>\n",
       "      <td>[0, 0]</td>\n",
       "      <td>5</td>\n",
       "      <td>if you are looking for a nostalgic collection ...</td>\n",
       "      <td>12 19, 2013</td>\n",
       "      <td>AJU9STZCDSWD</td>\n",
       "      <td>Slow, Warm, Fuzzy Feeling</td>\n",
       "      <td>songs of my youth</td>\n",
       "      <td>1387411200</td>\n",
       "    </tr>\n",
       "    <tr>\n",
       "      <th>3386</th>\n",
       "      <td>B000001AJO</td>\n",
       "      <td>[4, 4]</td>\n",
       "      <td>5</td>\n",
       "      <td>There's been a lot of debate over the years as...</td>\n",
       "      <td>10 11, 2006</td>\n",
       "      <td>A70YTUFJY5HXN</td>\n",
       "      <td>Olukayode Balogun</td>\n",
       "      <td>Iconic Stevie</td>\n",
       "      <td>1160524800</td>\n",
       "    </tr>\n",
       "    <tr>\n",
       "      <th>61110</th>\n",
       "      <td>B005F6NA56</td>\n",
       "      <td>[8, 106]</td>\n",
       "      <td>1</td>\n",
       "      <td>Thank you, amazon, for providing samples of th...</td>\n",
       "      <td>10 4, 2011</td>\n",
       "      <td>A33RN6T49VEFUO</td>\n",
       "      <td>Dee J.</td>\n",
       "      <td>How did this drivel end up on a major label!</td>\n",
       "      <td>1317686400</td>\n",
       "    </tr>\n",
       "    <tr>\n",
       "      <th>44611</th>\n",
       "      <td>B0000TAZS8</td>\n",
       "      <td>[0, 0]</td>\n",
       "      <td>1</td>\n",
       "      <td>50Cent has had quite a year&amp;is still trying to...</td>\n",
       "      <td>11 22, 2003</td>\n",
       "      <td>A9Q28YTLYREO7</td>\n",
       "      <td>mistermaxxx08 \"mistermaxxx08\"</td>\n",
       "      <td>Wack</td>\n",
       "      <td>1069459200</td>\n",
       "    </tr>\n",
       "  </tbody>\n",
       "</table>\n",
       "</div>"
      ],
      "text/plain": [
       "             asin   helpful  overall  \\\n",
       "17773  B000002MUW    [5, 5]        4   \n",
       "27507  B00000FC5H    [0, 0]        5   \n",
       "3386   B000001AJO    [4, 4]        5   \n",
       "61110  B005F6NA56  [8, 106]        1   \n",
       "44611  B0000TAZS8    [0, 0]        1   \n",
       "\n",
       "                                              reviewText   reviewTime  \\\n",
       "17773  After the immense public backlash following th...  08 15, 2005   \n",
       "27507  if you are looking for a nostalgic collection ...  12 19, 2013   \n",
       "3386   There's been a lot of debate over the years as...  10 11, 2006   \n",
       "61110  Thank you, amazon, for providing samples of th...   10 4, 2011   \n",
       "44611  50Cent has had quite a year&is still trying to...  11 22, 2003   \n",
       "\n",
       "           reviewerID                   reviewerName  \\\n",
       "17773  A2DS532SLTFWFK                   Det. Abilene   \n",
       "27507    AJU9STZCDSWD      Slow, Warm, Fuzzy Feeling   \n",
       "3386    A70YTUFJY5HXN              Olukayode Balogun   \n",
       "61110  A33RN6T49VEFUO                         Dee J.   \n",
       "44611   A9Q28YTLYREO7  mistermaxxx08 \"mistermaxxx08\"   \n",
       "\n",
       "                                            summary  unixReviewTime  \n",
       "17773                         Another terrific disc      1124064000  \n",
       "27507                             songs of my youth      1387411200  \n",
       "3386                                  Iconic Stevie      1160524800  \n",
       "61110  How did this drivel end up on a major label!      1317686400  \n",
       "44611                                          Wack      1069459200  "
      ]
     },
     "execution_count": 14,
     "metadata": {},
     "output_type": "execute_result"
    }
   ],
   "source": [
    "!gunzip -c amazon_step23.json.gz > amazon_step23.json\n",
    "with open('amazon_step23.json') as f:\n",
    "   content = f.readlines()\n",
    "\n",
    "df2 = pd.read_json(\"\".join(content), lines=True)\n",
    "df2.sample(5)"
   ]
  },
  {
   "cell_type": "code",
   "execution_count": null,
   "metadata": {
    "ExecuteTime": {
     "end_time": "2017-05-21T01:34:24.381821",
     "start_time": "2017-05-20T22:57:18.031Z"
    },
    "collapsed": false
   },
   "outputs": [],
   "source": [
    "df2.isnull().sum()"
   ]
  },
  {
   "cell_type": "markdown",
   "metadata": {},
   "source": [
    "As for the preprocessing of step 1, there is only a few samples that have null values, all with the feature `reviewerName`. As discussed earlier, this is not problem for us."
   ]
  },
  {
   "cell_type": "code",
   "execution_count": 15,
   "metadata": {
    "ExecuteTime": {
     "end_time": "2017-05-21T10:14:35.321575",
     "start_time": "2017-05-21T10:07:43.449514"
    },
    "collapsed": false
   },
   "outputs": [
    {
     "name": "stderr",
     "output_type": "stream",
     "text": [
      "/home/ra-danny/anaconda36/lib/python3.6/site-packages/sklearn/utils/validation.py:429: DataConversionWarning: Data with input dtype int64 was converted to float64 by StandardScaler.\n",
      "  warnings.warn(msg, _DataConversionWarning)\n"
     ]
    }
   ],
   "source": [
    "# Create the new features\n",
    "createHelpfulPercentage(df2)\n",
    "createTextLength(df2, \"reviewText\")\n",
    "createTextPunctuationFeatures(df2, \"reviewText\")\n",
    "contains_smiley(df2, \"reviewText\")\n",
    "createALLCAPS(df2, \"reviewText\")\n",
    "\n",
    "\n",
    "\n",
    "# Standardize with MinMaxScaler\n",
    "df2.helpfulPercentage     =    scalerHelpful.fit_transform(     df2.helpfulPercentage.values.reshape(-1,1))\n",
    "df2.reviewTextLength      =    scalerTextLength.fit_transform(  df2.reviewTextLength.values.reshape(-1,1))\n",
    "df2.reviewTextCountPoints         =    scalerCountPoints.fit_transform( df2.reviewTextCountPoints.values.reshape(-1,1))\n",
    "df2.reviewTextCountExcl           =    scalerCountExcl.fit_transform(   df2.reviewTextCountExcl.values.reshape(-1,1))\n",
    "df2.reviewTextCountInterr         =    scalerCountInterr.fit_transform( df2.reviewTextCountInterr.values.reshape(-1,1))\n",
    "df2.reviewTextCountComas          =    scalerCountComas.fit_transform(  df2.reviewTextCountComas.values.reshape(-1,1))\n",
    "\n",
    "\n",
    "# Drop useless features\n",
    "df2 = df2.drop(['asin', 'reviewTime', 'reviewerID', 'reviewerName', 'unixReviewTime', 'helpful'], axis=1)\n",
    "\n",
    "# TF-IDF for 'reviewText'\n",
    "pipe_modified.fit(df2.reviewText)\n",
    "x_reviewText = pipe_modified.transform(df2.reviewText)\n",
    "\n",
    "# TF-IDF for 'summary'\n",
    "pipe_modified.fit(df2.summary)\n",
    "x_summary = pipe_modified.transform(df2.summary)"
   ]
  },
  {
   "cell_type": "code",
   "execution_count": 16,
   "metadata": {
    "ExecuteTime": {
     "end_time": "2017-05-21T10:14:35.483932",
     "start_time": "2017-05-21T10:14:35.323189"
    },
    "collapsed": false
   },
   "outputs": [
    {
     "data": {
      "image/png": "[encoded data removed]",
      "text/plain": [
       "<matplotlib.figure.Figure at 0x7fe506c298d0>"
      ]
     },
     "metadata": {},
     "output_type": "display_data"
    }
   ],
   "source": [
    "# Then we create BIN_OVERALL that is equal to 1 if rank is 5, and 0 otherwise\n",
    "df2[\"BIN_OVERALL\"] = 1 * (df2[\"overall\"] == 5)\n",
    "y = df2.BIN_OVERALL\n",
    "\n",
    "# Plot the number of samples per class\n",
    "df2.groupby(\"BIN_OVERALL\").size().plot(kind='bar')\n",
    "plt.show()"
   ]
  },
  {
   "cell_type": "code",
   "execution_count": null,
   "metadata": {
    "ExecuteTime": {
     "end_time": "2017-05-21T01:34:24.382823",
     "start_time": "2017-05-20T22:57:18.714Z"
    },
    "collapsed": false
   },
   "outputs": [],
   "source": [
    "# We can also make us of positive (http://ptrckprry.com/course/ssd/data/positive-words.txt) and\n",
    "# negative (http://ptrckprry.com/course/ssd/data/negative-words.txt) word lists.\n",
    "# For example, if a review contains only negative words, we guess the rating is not 5, and vice-versa\n",
    "# We could also use the ratio good/(good + bad)\n",
    "# TODO: what if the review contains negations (e.g. [...] not cool [...]) ?\n",
    "\n",
    "df2.head()"
   ]
  },
  {
   "cell_type": "markdown",
   "metadata": {},
   "source": [
    "Let's see which of the features we create seems to be the most useful. To do so, we will compute the mean for each of those features, dividing the dataset into two groups, based on the `BIN_OVERALL` feature."
   ]
  },
  {
   "cell_type": "code",
   "execution_count": null,
   "metadata": {
    "ExecuteTime": {
     "end_time": "2017-05-21T01:34:24.383158",
     "start_time": "2017-05-20T22:57:19.429Z"
    },
    "collapsed": false
   },
   "outputs": [],
   "source": [
    "df_created_features = df2.groupby('BIN_OVERALL').mean()\n",
    "df_created_features = df_created_features.drop(['overall', 'reviewTextPositiveSmiley', 'reviewTextNegativeSmiley', 'reviewTextAllCAPS'], axis=1)\n",
    "df_created_features"
   ]
  },
  {
   "cell_type": "code",
   "execution_count": null,
   "metadata": {
    "ExecuteTime": {
     "end_time": "2017-05-21T01:34:24.383503",
     "start_time": "2017-05-20T22:57:19.440Z"
    },
    "collapsed": false
   },
   "outputs": [],
   "source": [
    "width = 0.35       # the width of the bars\n",
    "fig, ax = plt.subplots()\n",
    "\n",
    "ranking14 = df_created_features.as_matrix()[0]\n",
    "ind = np.arange(len(ranking14))  # the x locations for the groups\n",
    "rects1 = ax.bar(ind, ranking14, width, color='r')\n",
    "\n",
    "ranking5 = df_created_features.as_matrix()[1]\n",
    "rects2 = ax.bar(ind + width, ranking5, width, color='y')\n",
    "\n",
    "\n",
    "# add some text for labels, title and axes ticks\n",
    "ax.set_ylabel('Mean of values')\n",
    "ax.set_title('Mean of the values (standardized) for the created features')\n",
    "ax.set_xticks(ind)\n",
    "ax.set_xticklabels(df_created_features.columns.tolist(), rotation=30)\n",
    "ax.legend((rects1[0], rects2[0]), ('1-4 stars', '5 stars'))\n",
    "plt.show()"
   ]
  },
  {
   "cell_type": "markdown",
   "metadata": {},
   "source": [
    "The feature that we create from `helpful` seems do be very intersting. The number of exclamation (!) and interrogatoin (?) marks in the `reviewText` also seem to have a significant impact in the classification. On the other side, the length of the review and the number of point have fewer impact, but we can still see a small difference. We decided to keep all of this features for our classification models."
   ]
  },
  {
   "cell_type": "markdown",
   "metadata": {},
   "source": [
    "For the two smileys features, we can see below that the percentage of samples with a positive smiley is almost the same between the two classes. However, it is really different for negative smiley, where 5 stars ratings don't contain much. Even if the number of samples with negative smileys is low, we decided to keep this feature. For the `ALLCAPS` feature, it is the same deduction as for the `positiveSmiley` feature: we drop it too."
   ]
  },
  {
   "cell_type": "code",
   "execution_count": null,
   "metadata": {
    "ExecuteTime": {
     "end_time": "2017-05-21T01:34:24.383874",
     "start_time": "2017-05-20T22:57:21.004Z"
    },
    "collapsed": false
   },
   "outputs": [],
   "source": [
    "total_nbr = df2.groupby(\"BIN_OVERALL\").size()\n",
    "\n",
    "print(\"-- Positive Smiley\")\n",
    "print(\"Percentage, per class, of samples with a positive smiley\")\n",
    "xx = df2[df2.reviewTextPositiveSmiley == 1].groupby(\"BIN_OVERALL\").size()\n",
    "print(\"1-4 ==> \", xx[0] / total_nbr[0], \"%\")\n",
    "print(\"5   ==> \", xx[1] / total_nbr[1], \"%\")\n",
    "\n",
    "print()\n",
    "\n",
    "print(\"-- Negative Smiley\")\n",
    "print(\"Percentage, per class, of samples with a negative smiley\")\n",
    "xx = df2[df2.reviewTextNegativeSmiley == 1].groupby(\"BIN_OVERALL\").size()\n",
    "print(\"1-4 ==> \", xx[0] / total_nbr[0], \"%\")\n",
    "print(\"5   ==> \", xx[1] / total_nbr[1], \"%\")\n",
    "\n",
    "print()\n",
    "\n",
    "print(\"-- ALL CAPS word\")\n",
    "print(\"Percentage, per class, of samples contains a words written in capital letters in the reviewText feature\")\n",
    "xx = df2[df2.reviewTextAllCAPS == 1].groupby(\"BIN_OVERALL\").size()\n",
    "print(\"1-4 ==> \", xx[0] / total_nbr[0], \"%\")\n",
    "print(\"5   ==> \", xx[1] / total_nbr[1], \"%\")"
   ]
  },
  {
   "cell_type": "code",
   "execution_count": 17,
   "metadata": {
    "ExecuteTime": {
     "end_time": "2017-05-21T10:14:35.936818",
     "start_time": "2017-05-21T10:14:35.485610"
    },
    "collapsed": false
   },
   "outputs": [
    {
     "name": "stderr",
     "output_type": "stream",
     "text": [
      "/home/ra-danny/anaconda36/lib/python3.6/site-packages/sklearn/utils/validation.py:429: DataConversionWarning: Data with input dtype int64 was converted to float64 by StandardScaler.\n",
      "  warnings.warn(msg, _DataConversionWarning)\n"
     ]
    }
   ],
   "source": [
    "# Let's compute the same features as we did for 'reviewText', but for the 'summary' feature this time !\n",
    "\n",
    "# Create the new features\n",
    "createTextLength(df2, \"summary\")\n",
    "createTextPunctuationFeatures(df2, \"summary\")\n",
    "contains_smiley(df2, \"summary\")\n",
    "createALLCAPS(df2, \"summary\")\n",
    "\n",
    "\n",
    "# Standardize with MinMaxScaler\n",
    "summaryScalerTextLength   = StandardScaler()\n",
    "summaryScalerCountPoint   = StandardScaler()\n",
    "summaryScalerCountExcl    = StandardScaler()\n",
    "summaryScalerCountInterr  = StandardScaler()\n",
    "summaryScalerCountComas   = StandardScaler()\n",
    "\n",
    "df2.summaryLength              =    summaryScalerTextLength.fit_transform(  df2.summaryLength.values.reshape(-1,1))\n",
    "df2.summaryCountPoints         =    summaryScalerCountPoint.fit_transform( df2.summaryCountPoints.values.reshape(-1,1))\n",
    "df2.summaryCountExcl           =    summaryScalerCountExcl.fit_transform(   df2.summaryCountExcl.values.reshape(-1,1))\n",
    "df2.summaryCountInterr         =    summaryScalerCountInterr.fit_transform( df2.summaryCountInterr.values.reshape(-1,1))\n",
    "df2.summaryCountComas          =    summaryScalerCountComas.fit_transform(  df2.summaryCountComas.values.reshape(-1,1))"
   ]
  },
  {
   "cell_type": "markdown",
   "metadata": {},
   "source": [
    "As for the `reviewText feature`, this features seems interesting. It is not a surprise that the length of the summary isn't usefull, but for the others ones, we decided to keep them."
   ]
  },
  {
   "cell_type": "code",
   "execution_count": null,
   "metadata": {
    "ExecuteTime": {
     "end_time": "2017-05-21T01:34:24.384599",
     "start_time": "2017-05-20T22:57:21.833Z"
    },
    "collapsed": false
   },
   "outputs": [],
   "source": [
    "df_created_features = df2[[\"BIN_OVERALL\", \"summaryLength\", \"summaryCountPoints\", \"summaryCountExcl\", \"summaryCountInterr\", \"summaryCountComas\"]]\n",
    "df_created_features = df_created_features.groupby('BIN_OVERALL').mean()\n",
    "\n",
    "\n",
    "width = 0.35       # the width of the bars\n",
    "fig, ax = plt.subplots()\n",
    "\n",
    "ranking14 = df_created_features.as_matrix()[0]\n",
    "ind = np.arange(len(ranking14))  # the x locations for the groups\n",
    "rects1 = ax.bar(ind, ranking14, width, color='r')\n",
    "\n",
    "ranking5 = df_created_features.as_matrix()[1]\n",
    "rects2 = ax.bar(ind + width, ranking5, width, color='y')\n",
    "\n",
    "\n",
    "# add some text for labels, title and axes ticks\n",
    "ax.set_ylabel('Mean of values')\n",
    "ax.set_title('Mean of the values (standardized) for the created features')\n",
    "ax.set_xticks(ind)\n",
    "ax.set_xticklabels(df_created_features.columns.tolist(), rotation=50)\n",
    "ax.legend((rects1[0], rects2[0]), ('1-4 stars', '5 stars'))\n",
    "plt.show()"
   ]
  },
  {
   "cell_type": "markdown",
   "metadata": {},
   "source": [
    "For the two smileys features, `summaryPositiveSmiley` and `summaryNegativeSmiley` aren't present in a lot of samples to considering it useful for something. For the feature `summaryAllCAPS`, we consider that the difference between the two classes isn't that big to keep the feature."
   ]
  },
  {
   "cell_type": "code",
   "execution_count": null,
   "metadata": {
    "ExecuteTime": {
     "end_time": "2017-05-21T01:34:24.384964",
     "start_time": "2017-05-20T22:57:22.617Z"
    },
    "collapsed": false
   },
   "outputs": [],
   "source": [
    "total_nbr = df2.groupby(\"BIN_OVERALL\").size()\n",
    "\n",
    "print(\"-- Positive Smiley\")\n",
    "print(\"Percentage, per class, of samples with a positive smiley\")\n",
    "xx = df2[df2.summaryPositiveSmiley == 1].groupby(\"BIN_OVERALL\").size()\n",
    "print(\"1-4 ==> \", xx[0] / total_nbr[0], \"%\")\n",
    "print(\"5   ==> \", xx[1] / total_nbr[1], \"%\")\n",
    "\n",
    "print()\n",
    "\n",
    "print(\"-- Negative Smiley\")\n",
    "print(\"Percentage, per class, of samples with a negative smiley\")\n",
    "xx = df2[df2.summaryNegativeSmiley == 1].groupby(\"BIN_OVERALL\").size()\n",
    "print(\"1-4 ==> \", xx[0] / total_nbr[0], \"%\")\n",
    "print(\"5   ==> \", 0, \"%\")\n",
    "\n",
    "print()\n",
    "\n",
    "print(\"-- ALL CAPS word\")\n",
    "print(\"Percentage, per class, of samples contains a words written in capital letters in the reviewText feature\")\n",
    "xx = df2[df2.summaryAllCAPS == 1].groupby(\"BIN_OVERALL\").size()\n",
    "print(\"1-4 ==> \", xx[0] / total_nbr[0], \"%\")\n",
    "print(\"5   ==> \", xx[1] / total_nbr[1], \"%\")"
   ]
  },
  {
   "cell_type": "code",
   "execution_count": 87,
   "metadata": {
    "ExecuteTime": {
     "end_time": "2017-05-21T11:53:34.489690",
     "start_time": "2017-05-21T11:53:31.291872"
    },
    "collapsed": false
   },
   "outputs": [],
   "source": [
    "# Merge all features into a single dataframe\n",
    "X2 = hstack((x_reviewText, x_summary))\n",
    "featuresToUse = [\"helpfulPercentage\", \"reviewTextLength\", \"reviewTextCountPoints\", \"reviewTextCountExcl\", \"reviewTextCountInterr\", \"reviewTextCountComas\", \"reviewTextNegativeSmiley\", \\\n",
    "                \"summaryCountPoints\", \"summaryCountExcl\", \"summaryCountInterr\", \"summaryCountComas\"]\n",
    "for c in featuresToUse:\n",
    "    X2 = hstack((X2,(df2[c])[:,None]))"
   ]
  },
  {
   "cell_type": "code",
   "execution_count": 88,
   "metadata": {
    "ExecuteTime": {
     "end_time": "2017-05-21T11:53:35.158088",
     "start_time": "2017-05-21T11:53:35.152497"
    },
    "collapsed": false
   },
   "outputs": [],
   "source": [
    "y = df2.BIN_OVERALL"
   ]
  },
  {
   "cell_type": "code",
   "execution_count": 89,
   "metadata": {
    "ExecuteTime": {
     "end_time": "2017-05-21T11:53:38.853955",
     "start_time": "2017-05-21T11:53:37.248725"
    },
    "collapsed": false
   },
   "outputs": [
    {
     "name": "stdout",
     "output_type": "stream",
     "text": [
      "X_train:  (51764, 26523)\n",
      "y_train:  (51764,)\n",
      "X_test:   (12942, 26523)\n",
      "y_test:   (12942,)\n"
     ]
    }
   ],
   "source": [
    "X_train, X_test, y_train, y_test = train_test_split(X2, y, test_size=0.2, random_state=seed)\n",
    "\n",
    "# Train\n",
    "print(\"X_train: \", X_train.shape)\n",
    "print(\"y_train: \", y_train.shape)\n",
    "\n",
    "# Test\n",
    "print(\"X_test:  \", X_test.shape)\n",
    "print(\"y_test:  \", y_test.shape)"
   ]
  },
  {
   "cell_type": "markdown",
   "metadata": {},
   "source": [
    "### Baseline model"
   ]
  },
  {
   "cell_type": "code",
   "execution_count": null,
   "metadata": {
    "ExecuteTime": {
     "end_time": "2017-05-21T01:34:24.386329",
     "start_time": "2017-05-20T22:57:23.493Z"
    },
    "collapsed": false
   },
   "outputs": [],
   "source": [
    "from sklearn.metrics import precision_recall_fscore_support\n",
    "from sklearn.dummy import DummyClassifier\n",
    "baselineModel = DummyClassifier(random_state=seed)\n",
    "baselineModel.fit(X_train,y_train)\n",
    "y_pred = baselineModel.predict(X_test)\n",
    "\n",
    "print_precision(y_test, y_pred)"
   ]
  },
  {
   "cell_type": "code",
   "execution_count": null,
   "metadata": {
    "ExecuteTime": {
     "end_time": "2017-05-21T01:34:24.386694",
     "start_time": "2017-05-20T22:57:23.504Z"
    },
    "collapsed": true
   },
   "outputs": [],
   "source": [
    "baseline_precision = 0.501699828321"
   ]
  },
  {
   "cell_type": "markdown",
   "metadata": {},
   "source": [
    "### Support Vector Model: Linear Support Vector Classification"
   ]
  },
  {
   "cell_type": "code",
   "execution_count": null,
   "metadata": {
    "ExecuteTime": {
     "end_time": "2017-05-21T01:34:24.387076",
     "start_time": "2017-05-20T22:57:24.456Z"
    },
    "collapsed": false
   },
   "outputs": [],
   "source": [
    "from sklearn.svm import LinearSVC\n",
    "classifier_rbf = LinearSVC()\n",
    "classifier_rbf.fit(X_train, y_train)\n",
    "\n",
    "\n",
    "from sklearn.model_selection import GridSearchCV\n",
    "from sklearn.pipeline import Pipeline\n",
    "from sklearn.svm import LinearSVC\n",
    "\n",
    "# setup pipeline\n",
    "estimators = []\n",
    "estimators.append(('svm_clf', LinearSVC()))\n",
    "pipe = Pipeline(estimators)\n",
    "\n",
    "# tuning requsted parameter\n",
    "tuned_parameters = [{'svm_clf__C': np.logspace(-5,15,11,base=2.0)}]\n",
    "clf = GridSearchCV(pipe, tuned_parameters, cv=5, scoring='accuracy')\n",
    "\n",
    "# Speed up computation: with only a subset of the training data for Grid search\n",
    "subset_size = 5000\n",
    "clf.fit(X_train[:subset_size],y_train[:subset_size])\n",
    "clf.best_params_"
   ]
  },
  {
   "cell_type": "code",
   "execution_count": null,
   "metadata": {
    "ExecuteTime": {
     "end_time": "2017-05-21T01:34:24.387443",
     "start_time": "2017-05-20T22:57:24.486Z"
    },
    "collapsed": true
   },
   "outputs": [],
   "source": [
    "# bect C value resulting from GridSearch\n",
    "best_C = 0.5"
   ]
  },
  {
   "cell_type": "code",
   "execution_count": null,
   "metadata": {
    "ExecuteTime": {
     "end_time": "2017-05-21T01:34:24.387812",
     "start_time": "2017-05-20T22:57:24.499Z"
    },
    "collapsed": false
   },
   "outputs": [],
   "source": [
    "svc = LinearSVC(C=best_C)\n",
    "svc.fit(X_train, y_train)\n",
    "\n",
    "y_pred = svc.predict(X_test)\n",
    "print_precision(y_test, y_pred)"
   ]
  },
  {
   "cell_type": "code",
   "execution_count": null,
   "metadata": {
    "ExecuteTime": {
     "end_time": "2017-05-21T01:34:24.388164",
     "start_time": "2017-05-20T22:57:24.515Z"
    },
    "collapsed": true
   },
   "outputs": [],
   "source": [
    "svc_precision = 0.766898937707"
   ]
  },
  {
   "cell_type": "markdown",
   "metadata": {},
   "source": [
    "### Linear Model:  Stochastic Gradient Descent"
   ]
  },
  {
   "cell_type": "code",
   "execution_count": null,
   "metadata": {
    "ExecuteTime": {
     "end_time": "2017-05-21T01:34:24.388528",
     "start_time": "2017-05-20T22:57:25.521Z"
    },
    "collapsed": false
   },
   "outputs": [],
   "source": [
    "from sklearn.linear_model import SGDClassifier\n",
    "from sklearn.model_selection import KFold\n",
    "from sklearn.model_selection import GridSearchCV\n",
    "parameters = {\n",
    "    'penalty': ['l1', 'l2', 'elasticnet'],\n",
    "    'alpha': [0.001, 0.0001, 0.00001, 0.000001]\n",
    "}\n",
    "cv = KFold(n_splits=10, random_state=seed)\n",
    "sgd = GridSearchCV(SGDClassifier(loss=\"hinge\", random_state=seed), parameters,\n",
    "     scoring=\"accuracy\", cv=cv)\n",
    "\n",
    "runGridSearch = True\n",
    "if (runGridSearch):\n",
    "    X_train_s, X_test_s, y_train_s, y_test_s = train_test_split(X_train, y_train, test_size=0.001, random_state=seed)\n",
    "    X_train_s1, X_test_s1, y_train_s1, y_test_s1 = train_test_split(X_train_s, y_train_s, test_size=0.2, random_state=seed)\n",
    "    sgd.fit(X_train_s1, y_train_s1)\n",
    "    print(\"Best params:\", sgd.best_estimator_.get_params())\n",
    "else:\n",
    "    # Copy/Paste from the results of the 'if' block\n",
    "    print(\"Best params: {'alpha': 0.0001, 'average': False, 'class_weight': None, 'epsilon': 0.1, 'eta0': 0.0, 'fit_intercept': True,\\\n",
    "          'l1_ratio': 0.15, 'learning_rate': 'optimal', 'loss': 'hinge', 'n_iter': 5, 'n_jobs': 1, 'penalty': 'elasticnet', 'power_t': 0.5, 'random_state': 2017, 'shuffle': True, 'verbose': 0, 'warm_start': False}\")"
   ]
  },
  {
   "cell_type": "code",
   "execution_count": null,
   "metadata": {
    "ExecuteTime": {
     "end_time": "2017-05-21T01:34:24.388891",
     "start_time": "2017-05-20T22:57:25.535Z"
    },
    "collapsed": false
   },
   "outputs": [],
   "source": [
    "# Build the SGDClassifier with the best params return by grid search\n",
    "sgd = SGDClassifier(alpha=0.0001, average=False, class_weight=None, epsilon=0.1, eta0=0.0, fit_intercept=True, l1_ratio=0.15, learning_rate='optimal', loss='hinge', n_iter=5, n_jobs=1, penalty='elasticnet',\n",
    "                    power_t= 0.5, random_state=2017, shuffle=True, verbose=0, warm_start=False)\n",
    "\n",
    "# Predict testing data\n",
    "sgd.fit(X_train, y_train)\n",
    "y_pred = sgd.predict(X_test)\n",
    "print_precision(y_test, y_pred)"
   ]
  },
  {
   "cell_type": "code",
   "execution_count": null,
   "metadata": {
    "ExecuteTime": {
     "end_time": "2017-05-21T01:34:24.389243",
     "start_time": "2017-05-20T22:57:25.547Z"
    },
    "collapsed": true
   },
   "outputs": [],
   "source": [
    "SGD_precision = 0.76804551793"
   ]
  },
  {
   "cell_type": "markdown",
   "metadata": {},
   "source": [
    "### Similarity-based model: KNN Classifier"
   ]
  },
  {
   "cell_type": "code",
   "execution_count": null,
   "metadata": {
    "ExecuteTime": {
     "end_time": "2017-05-21T01:34:24.389627",
     "start_time": "2017-05-20T22:57:26.498Z"
    },
    "collapsed": false
   },
   "outputs": [],
   "source": [
    "from sklearn.neighbors import KNeighborsClassifier\n",
    "estimators = []\n",
    "estimators.append(('knn_clf', KNeighborsClassifier()))\n",
    "knn_clf_pipe = Pipeline(estimators)\n",
    "knn_clf_pipe.set_params(knn_clf__algorithm='brute')\n",
    "knn_clf_pipe.set_params(knn_clf__weights='distance')\n",
    "\n",
    "# create a grid search over n_neighbors values\n",
    "# We decided to test from a large variety of neighbors possible. To speed up the computation time, we didn't test all possibilities, but use a step between each number\n",
    "parameters = {\n",
    "        'knn_clf__n_neighbors' : range(1,151,10)\n",
    "}\n",
    "estimator_knnclf = GridSearchCV(knn_clf_pipe, parameters, cv=5)\n",
    "\n",
    "run = True\n",
    "if run:\n",
    "    # With our machines, we had several memory errors. Therefore we decide to use less data in order to have some results\n",
    "    subset_size = 10000\n",
    "    # evaluate the grid search and print best regressor\n",
    "    estimator_knnclf.fit(X_train[:subset_size], y_train[:subset_size])\n",
    "    print(estimator_knnclf.best_estimator_)\n",
    "else:\n",
    "    # Copy/Paste from the results of the 'if' block\n",
    "    print(\"Pipeline(steps=[('knn_clf', KNeighborsClassifier(algorithm='brute', leaf_size=30, metric='minkowski',\\\n",
    "           metric_params=None, n_jobs=1, n_neighbors=71, p=2,\\\n",
    "           weights='uniform'))])\")"
   ]
  },
  {
   "cell_type": "code",
   "execution_count": null,
   "metadata": {
    "ExecuteTime": {
     "end_time": "2017-05-21T01:34:24.390009",
     "start_time": "2017-05-20T22:57:26.512Z"
    },
    "collapsed": true
   },
   "outputs": [],
   "source": [
    "# best number of neighbors obtained using GridSearchCV\n",
    "best_clf_tree_neighbors = 71"
   ]
  },
  {
   "cell_type": "code",
   "execution_count": null,
   "metadata": {
    "ExecuteTime": {
     "end_time": "2017-05-21T01:34:24.390399",
     "start_time": "2017-05-20T22:57:26.524Z"
    },
    "collapsed": false
   },
   "outputs": [],
   "source": [
    "# fix the number of neighbors to the best value\n",
    "knn_clf_pipe.set_params(knn_clf__n_neighbors=best_clf_tree_neighbors)\n",
    "\n",
    "# fit the model to the training set\n",
    "knn_clf_pipe.fit(X_train, y_train)\n",
    "\n",
    "subset_size = 2000\n",
    "y_pred = knn_clf_pipe.predict(X_test[:subset_size])\n",
    "print_precision(y_test[:subset_size], y_pred)"
   ]
  },
  {
   "cell_type": "code",
   "execution_count": null,
   "metadata": {
    "ExecuteTime": {
     "end_time": "2017-05-21T01:34:24.390792",
     "start_time": "2017-05-20T22:57:26.537Z"
    },
    "collapsed": true
   },
   "outputs": [],
   "source": [
    "knn_precision = 0.633343629488859764895741"
   ]
  },
  {
   "cell_type": "markdown",
   "metadata": {},
   "source": [
    "### Information Based model: Random Forest Classifier"
   ]
  },
  {
   "cell_type": "code",
   "execution_count": 98,
   "metadata": {
    "ExecuteTime": {
     "end_time": "2017-05-21T12:26:50.710407",
     "start_time": "2017-05-21T12:19:46.268236"
    },
    "collapsed": false
   },
   "outputs": [
    {
     "name": "stdout",
     "output_type": "stream",
     "text": [
      "{'max_depth': 41, 'n_estimators': 501}\n"
     ]
    }
   ],
   "source": [
    "tuned_parameters = {\n",
    "    'n_estimators': range(1,801,100),\n",
    "    'max_depth': range(1,101,20)\n",
    "    }\n",
    "\n",
    "rf_clf = GridSearchCV(RandomForestClassifier(), tuned_parameters, cv=5, scoring='accuracy')\n",
    "\n",
    "run = True\n",
    "if run:\n",
    "    # As for before, we need to use less data to avoid 'memory_errors'\n",
    "    subset_size = 1000\n",
    "    rf_clf.fit(X_train[:subset_size],y_train[:subset_size])\n",
    "    print(rf_clf.best_params_)"
   ]
  },
  {
   "cell_type": "code",
   "execution_count": 99,
   "metadata": {
    "ExecuteTime": {
     "end_time": "2017-05-21T12:36:14.905052",
     "start_time": "2017-05-21T12:27:54.445424"
    },
    "collapsed": false
   },
   "outputs": [
    {
     "name": "stdout",
     "output_type": "stream",
     "text": [
      "{'max_depth': 32, 'n_estimators': 507}\n"
     ]
    }
   ],
   "source": [
    "tuned_parameters = {\n",
    "    'n_estimators': range(492,511,5),\n",
    "    'max_depth': range(32,51,3)\n",
    "    }\n",
    "\n",
    "rf_clf = GridSearchCV(RandomForestClassifier(), tuned_parameters, cv=5, scoring='accuracy')\n",
    "\n",
    "run = True\n",
    "if run:\n",
    "    # As for before, we need to use less data to avoid 'memory_errors'\n",
    "    subset_size = 1000\n",
    "    rf_clf.fit(X_train[:subset_size],y_train[:subset_size])\n",
    "    print(rf_clf.best_params_)"
   ]
  },
  {
   "cell_type": "code",
   "execution_count": 100,
   "metadata": {
    "ExecuteTime": {
     "end_time": "2017-05-21T12:37:47.247782",
     "start_time": "2017-05-21T12:37:47.243594"
    },
    "collapsed": true
   },
   "outputs": [],
   "source": [
    "best_n_estimators = 507\n",
    "best_clf_tree_depth = 32"
   ]
  },
  {
   "cell_type": "code",
   "execution_count": 101,
   "metadata": {
    "ExecuteTime": {
     "end_time": "2017-05-21T12:38:39.006522",
     "start_time": "2017-05-21T12:37:49.077231"
    },
    "collapsed": false
   },
   "outputs": [
    {
     "name": "stdout",
     "output_type": "stream",
     "text": [
      "Precision mean:  0.759069142108\n"
     ]
    }
   ],
   "source": [
    "rf_clf = RandomForestClassifier(n_estimators=best_n_estimators, max_depth=best_clf_tree_depth)\n",
    "\n",
    "# As for before, we need to use less data to avoid 'memory_errors' and speed up the all computation\n",
    "subset_size = 10000\n",
    "rf_clf.fit(X_train[:subset_size],y_train[:subset_size])\n",
    "\n",
    "y_pred = rf_clf.predict(X_test)\n",
    "print_precision(y_test, y_pred)"
   ]
  },
  {
   "cell_type": "code",
   "execution_count": null,
   "metadata": {
    "ExecuteTime": {
     "end_time": "2017-05-21T01:34:24.392196",
     "start_time": "2017-05-20T22:57:27.599Z"
    },
    "collapsed": true
   },
   "outputs": [],
   "source": [
    "randomForest_precision = 0.759069142108"
   ]
  },
  {
   "cell_type": "markdown",
   "metadata": {},
   "source": [
    "## Model comparison"
   ]
  },
  {
   "cell_type": "code",
   "execution_count": null,
   "metadata": {
    "ExecuteTime": {
     "end_time": "2017-05-21T01:34:24.392547",
     "start_time": "2017-05-20T22:57:28.822Z"
    },
    "collapsed": false
   },
   "outputs": [],
   "source": [
    "models_precision"
   ]
  },
  {
   "cell_type": "code",
   "execution_count": null,
   "metadata": {
    "ExecuteTime": {
     "end_time": "2017-05-21T01:34:24.392824",
     "start_time": "2017-05-20T22:57:28.878Z"
    },
    "collapsed": false
   },
   "outputs": [],
   "source": [
    "models_precision = [baseline_precision, svc_precision, SGD_precision, knn_precision, randomForest_precision]\n",
    "models = [\"Baseline\", \"SVC\", \"SGD\", \"KNN\", \"Random Forest\"]\n",
    "\n",
    "models_df = pd.DataFrame(models_precision, models)\n",
    "models_df[0].plot(kind='bar')\n",
    "plt.show()"
   ]
  },
  {
   "cell_type": "markdown",
   "metadata": {},
   "source": [
    "## Prediction of the unseen data"
   ]
  },
  {
   "cell_type": "code",
   "execution_count": null,
   "metadata": {
    "ExecuteTime": {
     "end_time": "2017-05-21T01:34:24.393008",
     "start_time": "2017-05-20T22:57:29.995Z"
    },
    "collapsed": false
   },
   "outputs": [],
   "source": [
    "# We will apply the same modification as for the preprocessing step for this new dataset\n",
    "\n",
    "!gunzip -c amazon_step1_unseen.csv.gz > amazon_step1_unseen.csv\n",
    "df2_unseen = pd.read_csv(\"amazon_step2_unseen.csv\")\n",
    "\n",
    "df2_unseen.sample(5)"
   ]
  },
  {
   "cell_type": "code",
   "execution_count": null,
   "metadata": {
    "ExecuteTime": {
     "end_time": "2017-05-21T01:34:24.393190",
     "start_time": "2017-05-20T22:57:30.009Z"
    },
    "collapsed": false
   },
   "outputs": [],
   "source": [
    "# Verifiy if this data as null values\n",
    "df2_unseen.isnull().sum()"
   ]
  },
  {
   "cell_type": "code",
   "execution_count": null,
   "metadata": {
    "ExecuteTime": {
     "end_time": "2017-05-21T01:34:24.393402",
     "start_time": "2017-05-20T22:57:30.024Z"
    },
    "collapsed": false
   },
   "outputs": [],
   "source": [
    "# Create the new features\n",
    "createHelpfulPercentage(df2_unseen)\n",
    "createTextLength(df2_unseen, \"reviewText\")\n",
    "createTextPunctuationFeatures(df2_unseen, \"reviewText\")\n",
    "contains_smiley(df2_unseen, \"reviewText\")\n",
    "createALLCAPS(df2_unseen, \"reviewText\")\n",
    "createTextLength(df2_unseen, \"summary\")\n",
    "createTextPunctuationFeatures(df2_unseen, \"summary\")\n",
    "contains_smiley(df2_unseen, \"summary\")\n",
    "createALLCAPS(df2_unseen, \"summary\")\n",
    "\n",
    "\n",
    "# Standardize with MinMaxScaler\n",
    "df2_unseen.helpfulPercentage          =    scalerHelpful.transform(     df2_unseen.helpfulPercentage.values.reshape(-1,1))\n",
    "df2_unseen.reviewTextLength           =    scalerTextLength.transform(  df2_unseen.reviewTextLength.values.reshape(-1,1))\n",
    "df2_unseen.reviewTextCountPoints      =    scalerCountPoints.transform( df2_unseen.reviewTextCountPoints.values.reshape(-1,1))\n",
    "df2_unseen.reviewTextCountExcl        =    scalerCountExcl.transform(   df2_unseen.reviewTextCountExcl.values.reshape(-1,1))\n",
    "df2_unseen.reviewTextCountInterr      =    scalerCountInterr.transform( df2_unseen.reviewTextCountInterr.values.reshape(-1,1))\n",
    "df2_unseen.reviewTextCountComas       =    scalerCountComas.transform(  df2_unseen.reviewTextCountComas.values.reshape(-1,1))\n",
    "df2_unseen.summaryLength              =    summaryScalerTextLength.transform(  df2_unseen.summaryLength.values.reshape(-1,1))\n",
    "df2_unseen.summaryCountPoints         =    summaryScalerCountPoint.transform( df2_unseen.summaryCountPoints.values.reshape(-1,1))\n",
    "df2_unseen.summaryCountExcl           =    summaryScalerCountExcl.transform(   df2_unseen.summaryCountExcl.values.reshape(-1,1))\n",
    "df2_unseen.summaryCountInterr         =    summaryScalerCountInterr.transform( df2_unseen.summaryCountInterr.values.reshape(-1,1))\n",
    "df2_unseen.summaryCountComas          =    summaryScalerCountComas.transform(  df2_unseen.summaryCountComas.values.reshape(-1,1))\n",
    "\n",
    "# TF-IDF for 'reviewText'\n",
    "pipe_modified.fit(df2.reviewText)\n",
    "x_reviewText = pipe_modified.transform(df2_unseen.reviewText)\n",
    "\n",
    "# TF-IDF for 'summary'\n",
    "pipe_modified.fit(df2.summary)\n",
    "x_summary = pipe_modified.transform(df2_unseen.summary)\n",
    "\n",
    "# Merge all features into a single dataframe\n",
    "X_unseen = hstack((x_reviewText, x_summary))\n",
    "featuresToUse = [\"helpfulPercentage\", \"reviewTextLength\", \"reviewTextCountPoints\", \"reviewTextCountExcl\", \"reviewTextCountInterr\", \"reviewTextCountComas\", \"reviewTextNegativeSmiley\", \\\n",
    "                \"summaryCountPoints\", \"summaryCountExcl\", \"summaryCountInterr\", \"summaryCountComas\"]\n",
    "for c in featuresToUse:\n",
    "    X_unseen = hstack((X_unseen,(df2_unseen[c])[:,None]))"
   ]
  },
  {
   "cell_type": "code",
   "execution_count": null,
   "metadata": {
    "ExecuteTime": {
     "end_time": "2017-05-21T01:34:24.393589",
     "start_time": "2017-05-20T22:57:30.038Z"
    },
    "collapsed": false
   },
   "outputs": [],
   "source": [
    "# Build the SGDClassifier with the best params return by grid search\n",
    "sgd = SGDClassifier(alpha=0.0001, average=False, class_weight=None, epsilon=0.1, eta0=0.0, fit_intercept=True, l1_ratio=0.15, learning_rate='optimal', loss='hinge', n_iter=5, n_jobs=1, penalty='elasticnet',\n",
    "                    power_t= 0.5, random_state=2017, shuffle=True, verbose=0, warm_start=False)\n",
    "\n",
    "# Predict testing data\n",
    "sgd.fit(X2, y)\n",
    "y_unseen_pred = sgd.predict(X_unseen)"
   ]
  },
  {
   "cell_type": "code",
   "execution_count": null,
   "metadata": {
    "ExecuteTime": {
     "end_time": "2017-05-21T01:34:24.393771",
     "start_time": "2017-05-20T22:57:30.052Z"
    },
    "collapsed": true
   },
   "outputs": [],
   "source": [
    "# export the prediction into a file named \"pred2.txt\"\n",
    "file = open('pred2.txt', 'w')\n",
    "for item in y_unseen_pred:\n",
    "  file.write(\"%s\\n\" % item)"
   ]
  },
  {
   "cell_type": "markdown",
   "metadata": {
    "collapsed": true
   },
   "source": [
    "# Step 3\n",
    "\n",
    "> Predict the actual number of stars, based on the reviewText field. Again, the dataset for this step is filtered down to the Digital_Music category. Construct the problem as a multiclass classification (5 categories labeled from 1 to 5).\n",
    ">\n",
    "> `f(reviewText) -> overall`"
   ]
  },
  {
   "cell_type": "markdown",
   "metadata": {},
   "source": [
    "## Preprocessing"
   ]
  },
  {
   "cell_type": "code",
   "execution_count": 18,
   "metadata": {
    "ExecuteTime": {
     "end_time": "2017-05-21T10:15:23.621725",
     "start_time": "2017-05-21T10:15:23.585609"
    },
    "collapsed": false
   },
   "outputs": [
    {
     "data": {
      "text/html": [
       "<div>\n",
       "<table border=\"1\" class=\"dataframe\">\n",
       "  <thead>\n",
       "    <tr style=\"text-align: right;\">\n",
       "      <th></th>\n",
       "      <th>overall</th>\n",
       "      <th>reviewText</th>\n",
       "      <th>summary</th>\n",
       "      <th>helpfulPercentage</th>\n",
       "      <th>reviewTextLength</th>\n",
       "      <th>reviewTextCountPoints</th>\n",
       "      <th>reviewTextCountExcl</th>\n",
       "      <th>reviewTextCountInterr</th>\n",
       "      <th>reviewTextCountComas</th>\n",
       "      <th>reviewTextPositiveSmiley</th>\n",
       "      <th>...</th>\n",
       "      <th>reviewTextAllCAPS</th>\n",
       "      <th>BIN_OVERALL</th>\n",
       "      <th>summaryLength</th>\n",
       "      <th>summaryCountPoints</th>\n",
       "      <th>summaryCountExcl</th>\n",
       "      <th>summaryCountInterr</th>\n",
       "      <th>summaryCountComas</th>\n",
       "      <th>summaryPositiveSmiley</th>\n",
       "      <th>summaryNegativeSmiley</th>\n",
       "      <th>summaryAllCAPS</th>\n",
       "    </tr>\n",
       "  </thead>\n",
       "  <tbody>\n",
       "    <tr>\n",
       "      <th>57908</th>\n",
       "      <td>5</td>\n",
       "      <td>This is simply an incredible, amazing piece of...</td>\n",
       "      <td>Beauty beyond tears</td>\n",
       "      <td>-1.224579</td>\n",
       "      <td>3.018652</td>\n",
       "      <td>3.134017</td>\n",
       "      <td>0.026761</td>\n",
       "      <td>5.368781</td>\n",
       "      <td>7.205101</td>\n",
       "      <td>0</td>\n",
       "      <td>...</td>\n",
       "      <td>True</td>\n",
       "      <td>1</td>\n",
       "      <td>-0.571582</td>\n",
       "      <td>-0.343490</td>\n",
       "      <td>-0.242413</td>\n",
       "      <td>-0.144688</td>\n",
       "      <td>-0.316271</td>\n",
       "      <td>0</td>\n",
       "      <td>0</td>\n",
       "      <td>False</td>\n",
       "    </tr>\n",
       "    <tr>\n",
       "      <th>23009</th>\n",
       "      <td>5</td>\n",
       "      <td>With solid production,World wide anthems,and t...</td>\n",
       "      <td>2 albums 2 classics 100% is hard to top</td>\n",
       "      <td>1.136323</td>\n",
       "      <td>-0.698586</td>\n",
       "      <td>-0.334815</td>\n",
       "      <td>0.026761</td>\n",
       "      <td>1.570981</td>\n",
       "      <td>0.093481</td>\n",
       "      <td>0</td>\n",
       "      <td>...</td>\n",
       "      <td>False</td>\n",
       "      <td>1</td>\n",
       "      <td>0.657786</td>\n",
       "      <td>-0.343490</td>\n",
       "      <td>-0.242413</td>\n",
       "      <td>-0.144688</td>\n",
       "      <td>-0.316271</td>\n",
       "      <td>0</td>\n",
       "      <td>0</td>\n",
       "      <td>False</td>\n",
       "    </tr>\n",
       "    <tr>\n",
       "      <th>25517</th>\n",
       "      <td>4</td>\n",
       "      <td>A great band who knows how to rock hard.  With...</td>\n",
       "      <td>I can hear dead people singing.</td>\n",
       "      <td>-1.224579</td>\n",
       "      <td>-0.892116</td>\n",
       "      <td>-0.797326</td>\n",
       "      <td>-0.320319</td>\n",
       "      <td>-0.327919</td>\n",
       "      <td>-0.860517</td>\n",
       "      <td>0</td>\n",
       "      <td>...</td>\n",
       "      <td>False</td>\n",
       "      <td>0</td>\n",
       "      <td>0.166039</td>\n",
       "      <td>0.306199</td>\n",
       "      <td>-0.242413</td>\n",
       "      <td>-0.144688</td>\n",
       "      <td>-0.316271</td>\n",
       "      <td>0</td>\n",
       "      <td>0</td>\n",
       "      <td>False</td>\n",
       "    </tr>\n",
       "    <tr>\n",
       "      <th>8977</th>\n",
       "      <td>4</td>\n",
       "      <td>Cyndi Lauper followed up the blockbuster \"She'...</td>\n",
       "      <td>The Before and After review</td>\n",
       "      <td>-0.044128</td>\n",
       "      <td>0.040845</td>\n",
       "      <td>-0.103560</td>\n",
       "      <td>-0.320319</td>\n",
       "      <td>-0.327919</td>\n",
       "      <td>0.093481</td>\n",
       "      <td>0</td>\n",
       "      <td>...</td>\n",
       "      <td>False</td>\n",
       "      <td>0</td>\n",
       "      <td>-0.079835</td>\n",
       "      <td>-0.343490</td>\n",
       "      <td>-0.242413</td>\n",
       "      <td>-0.144688</td>\n",
       "      <td>-0.316271</td>\n",
       "      <td>0</td>\n",
       "      <td>0</td>\n",
       "      <td>False</td>\n",
       "    </tr>\n",
       "    <tr>\n",
       "      <th>25615</th>\n",
       "      <td>5</td>\n",
       "      <td>This is one of Dan's best albums.Yes it's heav...</td>\n",
       "      <td>Hey,There's Steely Dan!</td>\n",
       "      <td>1.136323</td>\n",
       "      <td>-0.349867</td>\n",
       "      <td>-0.720241</td>\n",
       "      <td>0.026761</td>\n",
       "      <td>-0.327919</td>\n",
       "      <td>-0.340154</td>\n",
       "      <td>1</td>\n",
       "      <td>...</td>\n",
       "      <td>False</td>\n",
       "      <td>1</td>\n",
       "      <td>-0.325709</td>\n",
       "      <td>-0.343490</td>\n",
       "      <td>0.552276</td>\n",
       "      <td>-0.144688</td>\n",
       "      <td>2.221507</td>\n",
       "      <td>0</td>\n",
       "      <td>0</td>\n",
       "      <td>False</td>\n",
       "    </tr>\n",
       "  </tbody>\n",
       "</table>\n",
       "<p>5 rows × 21 columns</p>\n",
       "</div>"
      ],
      "text/plain": [
       "       overall                                         reviewText  \\\n",
       "57908        5  This is simply an incredible, amazing piece of...   \n",
       "23009        5  With solid production,World wide anthems,and t...   \n",
       "25517        4  A great band who knows how to rock hard.  With...   \n",
       "8977         4  Cyndi Lauper followed up the blockbuster \"She'...   \n",
       "25615        5  This is one of Dan's best albums.Yes it's heav...   \n",
       "\n",
       "                                       summary  helpfulPercentage  \\\n",
       "57908                      Beauty beyond tears          -1.224579   \n",
       "23009  2 albums 2 classics 100% is hard to top           1.136323   \n",
       "25517          I can hear dead people singing.          -1.224579   \n",
       "8977               The Before and After review          -0.044128   \n",
       "25615                  Hey,There's Steely Dan!           1.136323   \n",
       "\n",
       "       reviewTextLength  reviewTextCountPoints  reviewTextCountExcl  \\\n",
       "57908          3.018652               3.134017             0.026761   \n",
       "23009         -0.698586              -0.334815             0.026761   \n",
       "25517         -0.892116              -0.797326            -0.320319   \n",
       "8977           0.040845              -0.103560            -0.320319   \n",
       "25615         -0.349867              -0.720241             0.026761   \n",
       "\n",
       "       reviewTextCountInterr  reviewTextCountComas  reviewTextPositiveSmiley  \\\n",
       "57908               5.368781              7.205101                         0   \n",
       "23009               1.570981              0.093481                         0   \n",
       "25517              -0.327919             -0.860517                         0   \n",
       "8977               -0.327919              0.093481                         0   \n",
       "25615              -0.327919             -0.340154                         1   \n",
       "\n",
       "            ...        reviewTextAllCAPS BIN_OVERALL  summaryLength  \\\n",
       "57908       ...                     True           1      -0.571582   \n",
       "23009       ...                    False           1       0.657786   \n",
       "25517       ...                    False           0       0.166039   \n",
       "8977        ...                    False           0      -0.079835   \n",
       "25615       ...                    False           1      -0.325709   \n",
       "\n",
       "       summaryCountPoints  summaryCountExcl  summaryCountInterr  \\\n",
       "57908           -0.343490         -0.242413           -0.144688   \n",
       "23009           -0.343490         -0.242413           -0.144688   \n",
       "25517            0.306199         -0.242413           -0.144688   \n",
       "8977            -0.343490         -0.242413           -0.144688   \n",
       "25615           -0.343490          0.552276           -0.144688   \n",
       "\n",
       "       summaryCountComas  summaryPositiveSmiley  summaryNegativeSmiley  \\\n",
       "57908          -0.316271                      0                      0   \n",
       "23009          -0.316271                      0                      0   \n",
       "25517          -0.316271                      0                      0   \n",
       "8977           -0.316271                      0                      0   \n",
       "25615           2.221507                      0                      0   \n",
       "\n",
       "       summaryAllCAPS  \n",
       "57908           False  \n",
       "23009           False  \n",
       "25517           False  \n",
       "8977            False  \n",
       "25615           False  \n",
       "\n",
       "[5 rows x 21 columns]"
      ]
     },
     "execution_count": 18,
     "metadata": {},
     "output_type": "execute_result"
    }
   ],
   "source": [
    "# We use exactly the same preprocessing as for `step 2`\n",
    "df3 = df2.copy(deep=True)\n",
    "df3.sample(5)"
   ]
  },
  {
   "cell_type": "code",
   "execution_count": 19,
   "metadata": {
    "ExecuteTime": {
     "end_time": "2017-05-21T10:15:26.303870",
     "start_time": "2017-05-21T10:15:26.286700"
    },
    "collapsed": true
   },
   "outputs": [],
   "source": [
    "# The output for part 2 isn't applicable here\n",
    "df3 = df3.drop(['BIN_OVERALL'], axis=1)"
   ]
  },
  {
   "cell_type": "code",
   "execution_count": 20,
   "metadata": {
    "ExecuteTime": {
     "end_time": "2017-05-21T10:15:27.559014",
     "start_time": "2017-05-21T10:15:27.382209"
    },
    "collapsed": false
   },
   "outputs": [
    {
     "data": {
      "image/png": "[encoded data removed]",
      "text/plain": [
       "<matplotlib.figure.Figure at 0x7fe506bec748>"
      ]
     },
     "metadata": {},
     "output_type": "display_data"
    }
   ],
   "source": [
    "df3.overall.value_counts().plot(kind='bar')\n",
    "plt.show()"
   ]
  },
  {
   "cell_type": "code",
   "execution_count": 21,
   "metadata": {
    "ExecuteTime": {
     "end_time": "2017-05-21T10:15:29.699316",
     "start_time": "2017-05-21T10:15:29.666428"
    },
    "collapsed": false
   },
   "outputs": [
    {
     "data": {
      "text/html": [
       "<div>\n",
       "<table border=\"1\" class=\"dataframe\">\n",
       "  <thead>\n",
       "    <tr style=\"text-align: right;\">\n",
       "      <th></th>\n",
       "      <th>helpfulPercentage</th>\n",
       "      <th>reviewTextLength</th>\n",
       "      <th>reviewTextCountPoints</th>\n",
       "      <th>reviewTextCountExcl</th>\n",
       "      <th>reviewTextCountInterr</th>\n",
       "      <th>reviewTextCountComas</th>\n",
       "      <th>summaryLength</th>\n",
       "      <th>summaryCountPoints</th>\n",
       "      <th>summaryCountExcl</th>\n",
       "      <th>summaryCountInterr</th>\n",
       "      <th>summaryCountComas</th>\n",
       "    </tr>\n",
       "    <tr>\n",
       "      <th>overall</th>\n",
       "      <th></th>\n",
       "      <th></th>\n",
       "      <th></th>\n",
       "      <th></th>\n",
       "      <th></th>\n",
       "      <th></th>\n",
       "      <th></th>\n",
       "      <th></th>\n",
       "      <th></th>\n",
       "      <th></th>\n",
       "      <th></th>\n",
       "    </tr>\n",
       "  </thead>\n",
       "  <tbody>\n",
       "    <tr>\n",
       "      <th>1</th>\n",
       "      <td>-0.335824</td>\n",
       "      <td>-0.376946</td>\n",
       "      <td>-0.246240</td>\n",
       "      <td>0.134205</td>\n",
       "      <td>0.394289</td>\n",
       "      <td>-0.329403</td>\n",
       "      <td>-0.111395</td>\n",
       "      <td>0.091576</td>\n",
       "      <td>0.086169</td>\n",
       "      <td>0.370742</td>\n",
       "      <td>-0.022576</td>\n",
       "    </tr>\n",
       "    <tr>\n",
       "      <th>2</th>\n",
       "      <td>-0.340399</td>\n",
       "      <td>-0.128550</td>\n",
       "      <td>-0.047065</td>\n",
       "      <td>-0.081976</td>\n",
       "      <td>0.228819</td>\n",
       "      <td>-0.125382</td>\n",
       "      <td>-0.069318</td>\n",
       "      <td>0.101795</td>\n",
       "      <td>-0.128622</td>\n",
       "      <td>0.278558</td>\n",
       "      <td>0.053857</td>\n",
       "    </tr>\n",
       "    <tr>\n",
       "      <th>3</th>\n",
       "      <td>-0.247434</td>\n",
       "      <td>0.051797</td>\n",
       "      <td>0.053358</td>\n",
       "      <td>-0.159637</td>\n",
       "      <td>0.078209</td>\n",
       "      <td>0.057405</td>\n",
       "      <td>0.027809</td>\n",
       "      <td>0.072123</td>\n",
       "      <td>-0.158016</td>\n",
       "      <td>0.061875</td>\n",
       "      <td>0.137905</td>\n",
       "    </tr>\n",
       "    <tr>\n",
       "      <th>4</th>\n",
       "      <td>0.011647</td>\n",
       "      <td>0.110114</td>\n",
       "      <td>0.068740</td>\n",
       "      <td>-0.089100</td>\n",
       "      <td>-0.026594</td>\n",
       "      <td>0.107222</td>\n",
       "      <td>0.038150</td>\n",
       "      <td>0.005321</td>\n",
       "      <td>-0.092279</td>\n",
       "      <td>-0.042961</td>\n",
       "      <td>0.049141</td>\n",
       "    </tr>\n",
       "    <tr>\n",
       "      <th>5</th>\n",
       "      <td>0.096940</td>\n",
       "      <td>-0.020616</td>\n",
       "      <td>-0.018831</td>\n",
       "      <td>0.068278</td>\n",
       "      <td>-0.052850</td>\n",
       "      <td>-0.024339</td>\n",
       "      <td>-0.008435</td>\n",
       "      <td>-0.032030</td>\n",
       "      <td>0.077160</td>\n",
       "      <td>-0.044488</td>\n",
       "      <td>-0.051937</td>\n",
       "    </tr>\n",
       "  </tbody>\n",
       "</table>\n",
       "</div>"
      ],
      "text/plain": [
       "         helpfulPercentage  reviewTextLength  reviewTextCountPoints  \\\n",
       "overall                                                               \n",
       "1                -0.335824         -0.376946              -0.246240   \n",
       "2                -0.340399         -0.128550              -0.047065   \n",
       "3                -0.247434          0.051797               0.053358   \n",
       "4                 0.011647          0.110114               0.068740   \n",
       "5                 0.096940         -0.020616              -0.018831   \n",
       "\n",
       "         reviewTextCountExcl  reviewTextCountInterr  reviewTextCountComas  \\\n",
       "overall                                                                     \n",
       "1                   0.134205               0.394289             -0.329403   \n",
       "2                  -0.081976               0.228819             -0.125382   \n",
       "3                  -0.159637               0.078209              0.057405   \n",
       "4                  -0.089100              -0.026594              0.107222   \n",
       "5                   0.068278              -0.052850             -0.024339   \n",
       "\n",
       "         summaryLength  summaryCountPoints  summaryCountExcl  \\\n",
       "overall                                                        \n",
       "1            -0.111395            0.091576          0.086169   \n",
       "2            -0.069318            0.101795         -0.128622   \n",
       "3             0.027809            0.072123         -0.158016   \n",
       "4             0.038150            0.005321         -0.092279   \n",
       "5            -0.008435           -0.032030          0.077160   \n",
       "\n",
       "         summaryCountInterr  summaryCountComas  \n",
       "overall                                         \n",
       "1                  0.370742          -0.022576  \n",
       "2                  0.278558           0.053857  \n",
       "3                  0.061875           0.137905  \n",
       "4                 -0.042961           0.049141  \n",
       "5                 -0.044488          -0.051937  "
      ]
     },
     "execution_count": 21,
     "metadata": {},
     "output_type": "execute_result"
    }
   ],
   "source": [
    "df_created_features = df3.groupby('overall').mean()\n",
    "df_created_features = df_created_features.drop(['reviewTextPositiveSmiley', 'reviewTextNegativeSmiley', 'reviewTextAllCAPS', 'summaryPositiveSmiley', 'summaryNegativeSmiley', 'summaryAllCAPS', ], axis=1)\n",
    "df_created_features"
   ]
  },
  {
   "cell_type": "code",
   "execution_count": 22,
   "metadata": {
    "ExecuteTime": {
     "end_time": "2017-05-21T10:15:34.670826",
     "start_time": "2017-05-21T10:15:32.761850"
    },
    "collapsed": false,
    "scrolled": true
   },
   "outputs": [
    {
     "data": {
      "image/png": "[encoded data removed]",
      "text/plain": [
       "<matplotlib.figure.Figure at 0x7fe506be4198>"
      ]
     },
     "metadata": {},
     "output_type": "display_data"
    },
    {
     "data": {
      "image/png": "[encoded data removed]",
      "text/plain": [
       "<matplotlib.figure.Figure at 0x7fe5068164e0>"
      ]
     },
     "metadata": {},
     "output_type": "display_data"
    },
    {
     "data": {
      "image/png": "[encoded data removed]",
      "text/plain": [
       "<matplotlib.figure.Figure at 0x7fe506a90400>"
      ]
     },
     "metadata": {},
     "output_type": "display_data"
    },
    {
     "data": {
      "image/png": "[encoded data removed]",
      "text/plain": [
       "<matplotlib.figure.Figure at 0x7fe505c58780>"
      ]
     },
     "metadata": {},
     "output_type": "display_data"
    },
    {
     "data": {
      "image/png": "[encoded data removed]",
      "text/plain": [
       "<matplotlib.figure.Figure at 0x7fe50674dbe0>"
      ]
     },
     "metadata": {},
     "output_type": "display_data"
    },
    {
     "data": {
      "image/png": "[encoded data removed]",
      "text/plain": [
       "<matplotlib.figure.Figure at 0x7fe505f1a9b0>"
      ]
     },
     "metadata": {},
     "output_type": "display_data"
    },
    {
     "data": {
      "image/png": "[encoded data removed]",
      "text/plain": [
       "<matplotlib.figure.Figure at 0x7fe506b60908>"
      ]
     },
     "metadata": {},
     "output_type": "display_data"
    },
    {
     "data": {
      "image/png": "[encoded data removed]",
      "text/plain": [
       "<matplotlib.figure.Figure at 0x7fe505e97f28>"
      ]
     },
     "metadata": {},
     "output_type": "display_data"
    },
    {
     "data": {
      "image/png": "[encoded data removed]",
      "text/plain": [
       "<matplotlib.figure.Figure at 0x7fe505f33ef0>"
      ]
     },
     "metadata": {},
     "output_type": "display_data"
    },
    {
     "data": {
      "image/png": "[encoded data removed]",
      "text/plain": [
       "<matplotlib.figure.Figure at 0x7fe5060230b8>"
      ]
     },
     "metadata": {},
     "output_type": "display_data"
    },
    {
     "data": {
      "image/png": "[encoded data removed]",
      "text/plain": [
       "<matplotlib.figure.Figure at 0x7fe5063c0ac8>"
      ]
     },
     "metadata": {},
     "output_type": "display_data"
    }
   ],
   "source": [
    "for x in df_created_features:\n",
    "    mean_values = df_created_features[x].values\n",
    "    overall = [\"1\", \"2\", \"3\", \"4\", \"5\"]\n",
    "    \n",
    "    mvalues_df = pd.DataFrame(mean_values, overall)\n",
    "    mvalues_df.plot(kind='bar')\n",
    "    \n",
    "    plt.title(x)\n",
    "    plt.ylim([-0.4, 0.4])\n",
    "    plt.show()"
   ]
  },
  {
   "cell_type": "code",
   "execution_count": 69,
   "metadata": {
    "ExecuteTime": {
     "end_time": "2017-05-21T09:04:39.492764",
     "start_time": "2017-05-21T09:04:39.450552"
    },
    "collapsed": false
   },
   "outputs": [
    {
     "data": {
      "text/plain": [
       "overall\n",
       "2     1\n",
       "3     2\n",
       "4    10\n",
       "5    30\n",
       "dtype: int64"
      ]
     },
     "execution_count": 69,
     "metadata": {},
     "output_type": "execute_result"
    }
   ],
   "source": [
    "xx = df3[df3.summaryPositiveSmiley == 1].groupby(\"overall\").size()\n",
    "xx"
   ]
  },
  {
   "cell_type": "code",
   "execution_count": 92,
   "metadata": {
    "ExecuteTime": {
     "end_time": "2017-05-21T09:20:40.565920",
     "start_time": "2017-05-21T09:20:40.510370"
    },
    "collapsed": false
   },
   "outputs": [
    {
     "name": "stdout",
     "output_type": "stream",
     "text": [
      "-- Positive Smiley\n",
      "Percentage, per class, of samples with a positive smiley\n",
      "1 ==>  0.00967395198853 %\n",
      "2 ==>  0.0136212624585 %\n",
      "3 ==>  0.0219472676388 %\n",
      "4 ==>  0.0274552491534 %\n",
      "5 ==>  0.0235244519393 %\n",
      "\n",
      "-- Negative Smiley\n",
      "Percentage, per class, of samples with a negative smiley\n",
      "1 ==>  0.00322465066284 %\n",
      "2 ==>  0.00199335548173 %\n",
      "3 ==>  0.00103107968773 %\n",
      "4 ==>  0.000665215287857 %\n",
      "5 ==>  0.00053400786959 %\n",
      "\n",
      "-- ALL CAPS word\n",
      "Percentage, per class, of samples contains a words written in capital letters in the reviewText feature\n",
      "1 ==>  0.367251881046 %\n",
      "2 ==>  0.336212624585 %\n",
      "3 ==>  0.314479304758 %\n",
      "4 ==>  0.326197387518 %\n",
      "5 ==>  0.332743114109 %\n"
     ]
    }
   ],
   "source": [
    "total_nbr = df3.groupby(\"overall\").size()\n",
    "\n",
    "print(\"-- Positive Smiley\")\n",
    "print(\"Percentage, per class, of samples with a positive smiley\")\n",
    "xx = df3[df3.reviewTextPositiveSmiley == 1].groupby(\"overall\").size()\n",
    "for i in range(1,6):\n",
    "    if i not in xx:\n",
    "        xx[i] = 0\n",
    "print(\"1 ==> \", xx[1] / total_nbr[1], \"%\")\n",
    "print(\"2 ==> \", xx[2] / total_nbr[2], \"%\")\n",
    "print(\"3 ==> \", xx[3] / total_nbr[3], \"%\")\n",
    "print(\"4 ==> \", xx[4] / total_nbr[4], \"%\")\n",
    "print(\"5 ==> \", xx[5] / total_nbr[5], \"%\")\n",
    "\n",
    "print()\n",
    "\n",
    "print(\"-- Negative Smiley\")\n",
    "print(\"Percentage, per class, of samples with a negative smiley\")\n",
    "xx = df3[df3.reviewTextNegativeSmiley == 1].groupby(\"overall\").size()\n",
    "for i in range(1,6):\n",
    "    if i not in xx:\n",
    "        xx[i] = 0\n",
    "print(\"1 ==> \", xx[1] / total_nbr[1], \"%\")\n",
    "print(\"2 ==> \", xx[2] / total_nbr[2], \"%\")\n",
    "print(\"3 ==> \", xx[3] / total_nbr[3], \"%\")\n",
    "print(\"4 ==> \", xx[4] / total_nbr[4], \"%\")\n",
    "print(\"5 ==> \", xx[5] / total_nbr[5], \"%\")\n",
    "\n",
    "print()\n",
    "\n",
    "print(\"-- ALL CAPS word\")\n",
    "print(\"Percentage, per class, of samples contains a words written in capital letters in the reviewText feature\")\n",
    "xx = df3[df3.reviewTextAllCAPS == 1].groupby(\"overall\").size()\n",
    "for i in range(1,6):\n",
    "    if i not in xx:\n",
    "        xx[i] = 0\n",
    "print(\"1 ==> \", xx[1] / total_nbr[1], \"%\")\n",
    "print(\"2 ==> \", xx[2] / total_nbr[2], \"%\")\n",
    "print(\"3 ==> \", xx[3] / total_nbr[3], \"%\")\n",
    "print(\"4 ==> \", xx[4] / total_nbr[4], \"%\")\n",
    "print(\"5 ==> \", xx[5] / total_nbr[5], \"%\")"
   ]
  },
  {
   "cell_type": "code",
   "execution_count": 89,
   "metadata": {
    "ExecuteTime": {
     "end_time": "2017-05-21T09:09:37.682145",
     "start_time": "2017-05-21T09:09:37.626368"
    },
    "collapsed": false
   },
   "outputs": [
    {
     "name": "stdout",
     "output_type": "stream",
     "text": [
      "-- Positive Smiley\n",
      "Percentage, per class, of samples with a positive smiley\n",
      "1 ==>  0.0 %\n",
      "2 ==>  0.000332225913621 %\n",
      "3 ==>  0.000294594196494 %\n",
      "4 ==>  0.000604741170779 %\n",
      "5 ==>  0.000843170320405 %\n",
      "\n",
      "-- Negative Smiley\n",
      "Percentage, per class, of samples with a negative smiley\n",
      "1 ==>  0.000358294518094 %\n",
      "2 ==>  0.000996677740864 %\n",
      "3 ==>  0.000589188392989 %\n",
      "4 ==>  0.000120948234156 %\n",
      "5 ==>  0.0 %\n",
      "\n",
      "-- ALL CAPS word\n",
      "Percentage, per class, of samples contains a words written in capital letters in the reviewText feature\n",
      "1 ==>  0.145825868864 %\n",
      "2 ==>  0.0800664451827 %\n",
      "3 ==>  0.0705553100604 %\n",
      "4 ==>  0.0708151910982 %\n",
      "5 ==>  0.108712759978 %\n"
     ]
    }
   ],
   "source": [
    "total_nbr = df3.groupby(\"overall\").size()\n",
    "\n",
    "print(\"-- Positive Smiley\")\n",
    "print(\"Percentage, per class, of samples with a positive smiley\")\n",
    "xx = df3[df3.summaryPositiveSmiley == 1].groupby(\"overall\").size()\n",
    "for i in range(1,6):\n",
    "    if i not in xx:\n",
    "        xx[i] = 0\n",
    "print(\"1 ==> \", xx[1] / total_nbr[1], \"%\")\n",
    "print(\"2 ==> \", xx[2] / total_nbr[2], \"%\")\n",
    "print(\"3 ==> \", xx[3] / total_nbr[3], \"%\")\n",
    "print(\"4 ==> \", xx[4] / total_nbr[4], \"%\")\n",
    "print(\"5 ==> \", xx[5] / total_nbr[5], \"%\")\n",
    "\n",
    "print()\n",
    "\n",
    "print(\"-- Negative Smiley\")\n",
    "print(\"Percentage, per class, of samples with a negative smiley\")\n",
    "xx = df3[df3.summaryNegativeSmiley == 1].groupby(\"overall\").size()\n",
    "for i in range(1,6):\n",
    "    if i not in xx:\n",
    "        xx[i] = 0\n",
    "print(\"1 ==> \", xx[1] / total_nbr[1], \"%\")\n",
    "print(\"2 ==> \", xx[2] / total_nbr[2], \"%\")\n",
    "print(\"3 ==> \", xx[3] / total_nbr[3], \"%\")\n",
    "print(\"4 ==> \", xx[4] / total_nbr[4], \"%\")\n",
    "print(\"5 ==> \", xx[5] / total_nbr[5], \"%\")\n",
    "\n",
    "print()\n",
    "\n",
    "print(\"-- ALL CAPS word\")\n",
    "print(\"Percentage, per class, of samples contains a words written in capital letters in the reviewText feature\")\n",
    "xx = df3[df3.summaryAllCAPS == 1].groupby(\"overall\").size()\n",
    "for i in range(1,6):\n",
    "    if i not in xx:\n",
    "        xx[i] = 0\n",
    "print(\"1 ==> \", xx[1] / total_nbr[1], \"%\")\n",
    "print(\"2 ==> \", xx[2] / total_nbr[2], \"%\")\n",
    "print(\"3 ==> \", xx[3] / total_nbr[3], \"%\")\n",
    "print(\"4 ==> \", xx[4] / total_nbr[4], \"%\")\n",
    "print(\"5 ==> \", xx[5] / total_nbr[5], \"%\")"
   ]
  },
  {
   "cell_type": "code",
   "execution_count": 23,
   "metadata": {
    "ExecuteTime": {
     "end_time": "2017-05-21T10:22:53.490407",
     "start_time": "2017-05-21T10:15:39.831056"
    },
    "collapsed": true
   },
   "outputs": [],
   "source": [
    "# TF-IDF for 'reviewText'\n",
    "pipe_modified.fit(df3.reviewText)\n",
    "x_reviewText = pipe_modified.transform(df3.reviewText)\n",
    "\n",
    "# TF-IDF for 'summary'\n",
    "pipe_modified.fit(df3.summary)\n",
    "x_summary = pipe_modified.transform(df3.summary)"
   ]
  },
  {
   "cell_type": "code",
   "execution_count": 24,
   "metadata": {
    "ExecuteTime": {
     "end_time": "2017-05-21T10:22:53.621214",
     "start_time": "2017-05-21T10:22:53.491883"
    },
    "collapsed": false
   },
   "outputs": [],
   "source": [
    "# Merge all features into a single dataframe\n",
    "X3 = hstack((x_reviewText, x_summary))"
   ]
  },
  {
   "cell_type": "code",
   "execution_count": 25,
   "metadata": {
    "ExecuteTime": {
     "end_time": "2017-05-21T10:22:55.032097",
     "start_time": "2017-05-21T10:22:53.622769"
    },
    "collapsed": true
   },
   "outputs": [],
   "source": [
    "featuresToUse = [\"helpfulPercentage\", \"reviewTextLength\", \"reviewTextCountPoints\", \"reviewTextCountExcl\", \"reviewTextCountInterr\", \"reviewTextCountComas\", \"reviewTextPositiveSmiley\", \"reviewTextNegativeSmiley\", \"reviewTextAllCAPS\", \\\n",
    "                \"summaryCountPoints\", \"summaryCountExcl\", \"summaryCountInterr\", \"summaryCountComas\", \"summaryPositiveSmiley\", \"summaryNegativeSmiley\", \"summaryAllCAPS\"]\n",
    "for c in featuresToUse:\n",
    "    X3 = hstack((X3,(df3[c])[:,None]))"
   ]
  },
  {
   "cell_type": "code",
   "execution_count": 26,
   "metadata": {
    "ExecuteTime": {
     "end_time": "2017-05-21T10:22:55.035646",
     "start_time": "2017-05-21T10:22:55.033539"
    },
    "collapsed": true
   },
   "outputs": [],
   "source": [
    "y = df2.overall"
   ]
  },
  {
   "cell_type": "code",
   "execution_count": 29,
   "metadata": {
    "ExecuteTime": {
     "end_time": "2017-05-21T10:23:52.803482",
     "start_time": "2017-05-21T10:23:51.228097"
    },
    "collapsed": false
   },
   "outputs": [
    {
     "name": "stdout",
     "output_type": "stream",
     "text": [
      "X_train:  (51764, 26528)\n",
      "y_train:  (51764,)\n",
      "X_test:   (12942, 26528)\n",
      "y_test:   (12942,)\n"
     ]
    }
   ],
   "source": [
    "X_train, X_test, y_train, y_test = train_test_split(X3, y, test_size=0.2, random_state=seed)\n",
    "\n",
    "# Train\n",
    "print(\"X_train: \", X_train.shape)\n",
    "print(\"y_train: \", y_train.shape)\n",
    "\n",
    "# Test\n",
    "print(\"X_test:  \", X_test.shape)\n",
    "print(\"y_test:  \", y_test.shape)"
   ]
  },
  {
   "cell_type": "markdown",
   "metadata": {},
   "source": [
    "### Baseline model"
   ]
  },
  {
   "cell_type": "code",
   "execution_count": 30,
   "metadata": {
    "ExecuteTime": {
     "end_time": "2017-05-21T10:23:55.432082",
     "start_time": "2017-05-21T10:23:55.408983"
    },
    "collapsed": false
   },
   "outputs": [
    {
     "name": "stdout",
     "output_type": "stream",
     "text": [
      "Precision mean:  0.202680732136\n"
     ]
    }
   ],
   "source": [
    "from sklearn.metrics import precision_recall_fscore_support\n",
    "from sklearn.dummy import DummyClassifier\n",
    "baselineModel = DummyClassifier(random_state=seed)\n",
    "baselineModel.fit(X_train,y_train)\n",
    "y_pred = baselineModel.predict(X_test)\n",
    "\n",
    "print_precision(y_test, y_pred)"
   ]
  },
  {
   "cell_type": "code",
   "execution_count": 31,
   "metadata": {
    "ExecuteTime": {
     "end_time": "2017-05-21T10:23:57.854604",
     "start_time": "2017-05-21T10:23:57.851947"
    },
    "collapsed": true
   },
   "outputs": [],
   "source": [
    "baseline_precision = 0.202680732136"
   ]
  },
  {
   "cell_type": "markdown",
   "metadata": {},
   "source": [
    "### Support Vector Model: Linear Support Vector Classification"
   ]
  },
  {
   "cell_type": "code",
   "execution_count": 32,
   "metadata": {
    "ExecuteTime": {
     "end_time": "2017-05-21T10:25:50.910595",
     "start_time": "2017-05-21T10:24:04.500843"
    },
    "collapsed": false
   },
   "outputs": [
    {
     "data": {
      "text/plain": [
       "{'svm_clf__C': 0.125}"
      ]
     },
     "execution_count": 32,
     "metadata": {},
     "output_type": "execute_result"
    }
   ],
   "source": [
    "from sklearn.model_selection import GridSearchCV\n",
    "from sklearn.pipeline import Pipeline\n",
    "from sklearn.svm import LinearSVC\n",
    "\n",
    "# setup pipeline\n",
    "estimators = []\n",
    "estimators.append(('svm_clf', LinearSVC()))\n",
    "pipe = Pipeline(estimators)\n",
    "\n",
    "# tuning requsted parameter\n",
    "tuned_parameters = [{'svm_clf__C': np.logspace(-5,15,11,base=2.0)}]\n",
    "clf = GridSearchCV(pipe, tuned_parameters, cv=5, scoring='accuracy')\n",
    "\n",
    "# Speed up computation: with only a subset of the training data for Grid search\n",
    "subset_size = 2000\n",
    "clf.fit(X_train[:subset_size],y_train[:subset_size])\n",
    "clf.best_params_"
   ]
  },
  {
   "cell_type": "code",
   "execution_count": 33,
   "metadata": {
    "ExecuteTime": {
     "end_time": "2017-05-21T10:25:50.914776",
     "start_time": "2017-05-21T10:25:50.912187"
    },
    "collapsed": true
   },
   "outputs": [],
   "source": [
    "# bect C value resulting from GridSearch\n",
    "best_C = 0.125"
   ]
  },
  {
   "cell_type": "code",
   "execution_count": 34,
   "metadata": {
    "ExecuteTime": {
     "end_time": "2017-05-21T10:27:46.270335",
     "start_time": "2017-05-21T10:25:50.916918"
    },
    "collapsed": false
   },
   "outputs": [
    {
     "name": "stdout",
     "output_type": "stream",
     "text": [
      "Precision mean:  0.57040129941\n"
     ]
    }
   ],
   "source": [
    "svc = LinearSVC(C=best_C)\n",
    "svc.fit(X_train, y_train)\n",
    "\n",
    "y_pred = svc.predict(X_test)\n",
    "print_precision(y_test, y_pred)"
   ]
  },
  {
   "cell_type": "code",
   "execution_count": 35,
   "metadata": {
    "ExecuteTime": {
     "end_time": "2017-05-21T10:27:46.273987",
     "start_time": "2017-05-21T10:27:46.271675"
    },
    "collapsed": true
   },
   "outputs": [],
   "source": [
    "svc_precision = 0.57040129941"
   ]
  },
  {
   "cell_type": "markdown",
   "metadata": {
    "ExecuteTime": {
     "end_time": "2017-05-21T09:32:26.201721",
     "start_time": "2017-05-21T07:28:05.390Z"
    }
   },
   "source": [
    "### Linear Model:  Stochastic Gradient Descent"
   ]
  },
  {
   "cell_type": "code",
   "execution_count": 36,
   "metadata": {
    "ExecuteTime": {
     "end_time": "2017-05-21T10:27:46.286988",
     "start_time": "2017-05-21T10:27:46.275397"
    },
    "collapsed": false
   },
   "outputs": [
    {
     "name": "stdout",
     "output_type": "stream",
     "text": [
      "Best params: {'alpha': 0.0001,, 'average': False, 'class_weight': None, 'epsilon': 0.1, 'eta0': 0.0, 'fit_intercept': True,           'l1_ratio': 0.15, 'learning_rate': 'optimal', 'loss': 'hinge', 'n_iter': 5, 'n_jobs': 1, 'penalty': 'l1', 'power_t': 0.5, 'random_state': 2017, 'shuffle': True, 'verbose': 0, 'warm_start': False}\n"
     ]
    }
   ],
   "source": [
    "from sklearn.linear_model import SGDClassifier\n",
    "from sklearn.model_selection import KFold\n",
    "from sklearn.model_selection import GridSearchCV\n",
    "parameters = {\n",
    "    'penalty': ['l1', 'l2', 'elasticnet'],\n",
    "    'alpha': [0.001, 0.0001, 0.00001, 0.000001]\n",
    "}\n",
    "cv = KFold(n_splits=10, random_state=seed)\n",
    "sgd = GridSearchCV(SGDClassifier(loss=\"hinge\", random_state=seed), parameters,\n",
    "     scoring=\"accuracy\", cv=cv)\n",
    "\n",
    "# Takes approximately 15 minutes to run with our machines\n",
    "runGridSearch = False\n",
    "if (runGridSearch):\n",
    "    X_train_s, X_test_s, y_train_s, y_test_s = train_test_split(X_train, y_train, test_size=0.001, random_state=seed)\n",
    "    X_train_s1, X_test_s1, y_train_s1, y_test_s1 = train_test_split(X_train_s, y_train_s, test_size=0.2, random_state=seed)\n",
    "    sgd.fit(X_train_s1, y_train_s1)\n",
    "    print(\"Best params:\", sgd.best_estimator_.get_params())\n",
    "else:\n",
    "    # Copy/Paste from the results of the 'if' block\n",
    "    print(\"Best params: {'alpha': 0.0001,, 'average': False, 'class_weight': None, 'epsilon': 0.1, 'eta0': 0.0, 'fit_intercept': True, \\\n",
    "          'l1_ratio': 0.15, 'learning_rate': 'optimal', 'loss': 'hinge', 'n_iter': 5, 'n_jobs': 1, 'penalty': 'l1', 'power_t': 0.5, 'random_state': 2017, 'shuffle': True, 'verbose': 0, 'warm_start': False}\")"
   ]
  },
  {
   "cell_type": "code",
   "execution_count": 37,
   "metadata": {
    "ExecuteTime": {
     "end_time": "2017-05-21T10:27:48.034451",
     "start_time": "2017-05-21T10:27:46.288279"
    },
    "collapsed": false
   },
   "outputs": [
    {
     "name": "stdout",
     "output_type": "stream",
     "text": [
      "Precision mean:  0.509374938089\n"
     ]
    }
   ],
   "source": [
    "# Build the SGDClassifier with the best params return by grid search\n",
    "sgd = SGDClassifier(alpha=0.0001, average=False, class_weight=None, epsilon=0.1, eta0=0.0, fit_intercept=True, l1_ratio=0.15, learning_rate='optimal', loss='hinge', n_iter=5, n_jobs=1, penalty='l1', power_t=0.5, random_state=2017, shuffle= True, verbose=0, warm_start=False)\n",
    "\n",
    "# Predict testing data\n",
    "sgd.fit(X_train, y_train)\n",
    "y_pred = sgd.predict(X_test)\n",
    "print_precision(y_test, y_pred)"
   ]
  },
  {
   "cell_type": "code",
   "execution_count": 38,
   "metadata": {
    "ExecuteTime": {
     "end_time": "2017-05-21T10:27:48.038894",
     "start_time": "2017-05-21T10:27:48.035922"
    },
    "collapsed": true
   },
   "outputs": [],
   "source": [
    "SGD_precision = 0.509374938089"
   ]
  },
  {
   "cell_type": "markdown",
   "metadata": {
    "ExecuteTime": {
     "end_time": "2017-05-21T09:32:26.201910",
     "start_time": "2017-05-21T07:28:31.267Z"
    }
   },
   "source": [
    "### Similarity-based model: KNN Classifier"
   ]
  },
  {
   "cell_type": "code",
   "execution_count": 39,
   "metadata": {
    "ExecuteTime": {
     "end_time": "2017-05-21T10:27:48.053575",
     "start_time": "2017-05-21T10:27:48.040986"
    },
    "collapsed": false
   },
   "outputs": [
    {
     "name": "stdout",
     "output_type": "stream",
     "text": [
      "Pipeline(steps=[('knn_clf', KNeighborsClassifier(algorithm='brute', leaf_size=30, metric='minkowski',           metric_params=None, n_jobs=1, n_neighbors=91, p=2,           weights='uniform'))])\n"
     ]
    }
   ],
   "source": [
    "from sklearn.neighbors import KNeighborsClassifier\n",
    "estimators = []\n",
    "estimators.append(('knn_clf', KNeighborsClassifier()))\n",
    "knn_clf_pipe = Pipeline(estimators)\n",
    "knn_clf_pipe.set_params(knn_clf__algorithm='brute')\n",
    "knn_clf_pipe.set_params(knn_clf__weights='distance')\n",
    "\n",
    "# create a grid search over n_neighbors values\n",
    "# We decided to test from a large variety of neighbors possible. To speed up the computation time, we didn't test all possibilities, but use a step between each number\n",
    "parameters = {\n",
    "        'knn_clf__n_neighbors' : range(1,151,10)\n",
    "}\n",
    "estimator_knnclf = GridSearchCV(knn_clf_pipe, parameters, cv=5)\n",
    "\n",
    "run = False\n",
    "if run:\n",
    "    # With our machines, we had several memory errors. Therefore we decide to use less data in order to have some results\n",
    "    subset_size = 10000\n",
    "    # evaluate the grid search and print best regressor\n",
    "    estimator_knnclf.fit(X_train[:subset_size], y_train[:subset_size])\n",
    "    print(estimator_knnclf.best_estimator_)\n",
    "else:\n",
    "    # Copy/Paste from the results of the 'if' block\n",
    "    print(\"Pipeline(steps=[('knn_clf', KNeighborsClassifier(algorithm='brute', leaf_size=30, metric='minkowski',\\\n",
    "           metric_params=None, n_jobs=1, n_neighbors=91, p=2,\\\n",
    "           weights='uniform'))])\")"
   ]
  },
  {
   "cell_type": "code",
   "execution_count": 40,
   "metadata": {
    "ExecuteTime": {
     "end_time": "2017-05-21T10:27:48.058622",
     "start_time": "2017-05-21T10:27:48.055772"
    },
    "collapsed": true
   },
   "outputs": [],
   "source": [
    "# best number of neighbors obtained using GridSearchCV\n",
    "best_clf_neighbors = 91"
   ]
  },
  {
   "cell_type": "code",
   "execution_count": 43,
   "metadata": {
    "ExecuteTime": {
     "end_time": "2017-05-21T10:31:00.964174",
     "start_time": "2017-05-21T10:30:23.172426"
    },
    "collapsed": false
   },
   "outputs": [
    {
     "name": "stdout",
     "output_type": "stream",
     "text": [
      "Precision mean:  0.440983348837\n"
     ]
    }
   ],
   "source": [
    "# fix the number of neighbors to the best value\n",
    "knn_clf_pipe.set_params(knn_clf__n_neighbors=best_clf_neighbors)\n",
    "\n",
    "# fit the model to the training set\n",
    "knn_clf_pipe.fit(X_train, y_train)\n",
    "\n",
    "subset_size = 5000\n",
    "y_pred = knn_clf_pipe.predict(X_test[:subset_size])\n",
    "print_precision(y_test[:subset_size], y_pred)"
   ]
  },
  {
   "cell_type": "code",
   "execution_count": 45,
   "metadata": {
    "ExecuteTime": {
     "end_time": "2017-05-21T10:31:45.509325",
     "start_time": "2017-05-21T10:31:45.504328"
    },
    "collapsed": true
   },
   "outputs": [],
   "source": [
    "knn_precision = 0.440983348837"
   ]
  },
  {
   "cell_type": "markdown",
   "metadata": {},
   "source": [
    "### Information Based model: Random Forest Classifier"
   ]
  },
  {
   "cell_type": "code",
   "execution_count": 81,
   "metadata": {
    "ExecuteTime": {
     "end_time": "2017-05-21T11:24:55.383241",
     "start_time": "2017-05-21T11:20:21.095331"
    },
    "collapsed": false
   },
   "outputs": [
    {
     "name": "stdout",
     "output_type": "stream",
     "text": [
      "{'max_depth': 74, 'n_estimators': 101}\n"
     ]
    }
   ],
   "source": [
    "from sklearn.ensemble import RandomForestClassifier\n",
    "\n",
    "tuned_parameters = {\n",
    "    'n_estimators': range(1,501,100),\n",
    "    'max_depth': range(44,104,10)\n",
    "    }\n",
    "\n",
    "rf_clf = GridSearchCV(RandomForestClassifier(), tuned_parameters, cv=5, scoring='accuracy')\n",
    "\n",
    "run = True\n",
    "if run:\n",
    "    # As for before, we need to use less data to avoid 'memory_errors'\n",
    "    subset_size = 1000\n",
    "    rf_clf.fit(X_train[:subset_size],y_train[:subset_size])\n",
    "    print(rf_clf.best_params_)"
   ]
  },
  {
   "cell_type": "code",
   "execution_count": 83,
   "metadata": {
    "ExecuteTime": {
     "end_time": "2017-05-21T11:40:02.518713",
     "start_time": "2017-05-21T11:27:12.643455"
    },
    "collapsed": false
   },
   "outputs": [
    {
     "name": "stdout",
     "output_type": "stream",
     "text": [
      "{'max_depth': 72, 'n_estimators': 106}\n"
     ]
    }
   ],
   "source": [
    "from sklearn.ensemble import RandomForestClassifier\n",
    "\n",
    "tuned_parameters = {\n",
    "    'n_estimators': range(90,111,2),\n",
    "    'max_depth': range(60,90,2)\n",
    "    }\n",
    "\n",
    "rf_clf = GridSearchCV(RandomForestClassifier(), tuned_parameters, cv=5, scoring='accuracy')\n",
    "\n",
    "run = True\n",
    "if run:\n",
    "    # As for before, we need to use less data to avoid 'memory_errors'\n",
    "    subset_size = 1000\n",
    "    rf_clf.fit(X_train[:subset_size],y_train[:subset_size])\n",
    "    print(rf_clf.best_params_)"
   ]
  },
  {
   "cell_type": "code",
   "execution_count": 84,
   "metadata": {
    "ExecuteTime": {
     "end_time": "2017-05-21T11:40:37.028451",
     "start_time": "2017-05-21T11:40:37.021976"
    },
    "collapsed": true
   },
   "outputs": [],
   "source": [
    "best_clf_tree_depth = 72\n",
    "best_n_estimators = 106"
   ]
  },
  {
   "cell_type": "code",
   "execution_count": 86,
   "metadata": {
    "ExecuteTime": {
     "end_time": "2017-05-21T11:47:51.990113",
     "start_time": "2017-05-21T11:44:37.370792"
    },
    "collapsed": false
   },
   "outputs": [
    {
     "name": "stdout",
     "output_type": "stream",
     "text": [
      "Precision mean:  0.49335183515\n"
     ]
    },
    {
     "name": "stderr",
     "output_type": "stream",
     "text": [
      "/home/ra-danny/anaconda36/lib/python3.6/site-packages/sklearn/metrics/classification.py:1113: UndefinedMetricWarning: Precision and F-score are ill-defined and being set to 0.0 in labels with no predicted samples.\n",
      "  'precision', 'predicted', average, warn_for)\n"
     ]
    }
   ],
   "source": [
    "rf_clf = RandomForestClassifier(n_estimators=best_n_estimators, max_depth=best_clf_tree_depth)\n",
    "\n",
    "# As for before, we need to use less data to avoid 'memory_errors' and speed up the all computation\n",
    "rf_clf.fit(X_train,y_train)\n",
    "\n",
    "y_pred = rf_clf.predict(X_test)\n",
    "print_precision(y_test, y_pred)"
   ]
  },
  {
   "cell_type": "code",
   "execution_count": null,
   "metadata": {
    "collapsed": true
   },
   "outputs": [],
   "source": [
    "randomForest_precision = 0.170222703371"
   ]
  },
  {
   "cell_type": "markdown",
   "metadata": {},
   "source": [
    "## Model comparison and best model\n",
    "We rank our models by the accuracy it achieved with the test data."
   ]
  },
  {
   "cell_type": "code",
   "execution_count": null,
   "metadata": {
    "collapsed": true
   },
   "outputs": [],
   "source": [
    "models_precision = [baseline_precision, SGD_precision, knn_precision, randomForest_precision]\n",
    "models = [\"Baseline\", \"SGD\", \"KNN\", \"Random Forest\"]\n",
    "\n",
    "models_df = pd.DataFrame(models_precision, models)\n",
    "models_df[0].plot(kind='bar')\n",
    "plt.show()"
   ]
  },
  {
   "cell_type": "markdown",
   "metadata": {
    "ExecuteTime": {
     "end_time": "2017-05-21T09:32:26.202092",
     "start_time": "2017-05-21T07:30:02.629Z"
    }
   },
   "source": [
    "## Prediction of the unseen data"
   ]
  },
  {
   "cell_type": "code",
   "execution_count": null,
   "metadata": {
    "collapsed": true
   },
   "outputs": [],
   "source": [
    "# We will apply the same modification as for the preprocessing step for this new dataset\n",
    "\n",
    "!gunzip -c amazon_step1_unseen.csv.gz > amazon_step1_unseen.csv\n",
    "df3_unseen = pd.read_csv(\"amazon_step2_unseen.csv\")\n",
    "\n",
    "df3_unseen.sample(5)"
   ]
  },
  {
   "cell_type": "code",
   "execution_count": null,
   "metadata": {
    "collapsed": true
   },
   "outputs": [],
   "source": [
    "# Create the new features\n",
    "createHelpfulPercentage(df3_unseen)\n",
    "createTextLength(df3_unseen, \"reviewText\")\n",
    "createTextPunctuationFeatures(df3_unseen, \"reviewText\")\n",
    "contains_smiley(df3_unseen, \"reviewText\")\n",
    "createALLCAPS(df3_unseen, \"reviewText\")\n",
    "createTextLength(df3_unseen, \"summary\")\n",
    "createTextPunctuationFeatures(df3_unseen, \"summary\")\n",
    "contains_smiley(df3_unseen, \"summary\")\n",
    "createALLCAPS(df3_unseen, \"summary\")\n",
    "\n",
    "\n",
    "# Standardize with MinMaxScaler\n",
    "df3_unseen.helpfulPercentage          =    scalerHelpful.transform(     df3_unseen.helpfulPercentage.values.reshape(-1,1))\n",
    "df3_unseen.reviewTextLength           =    scalerTextLength.transform(  df3_unseen.reviewTextLength.values.reshape(-1,1))\n",
    "df3_unseen.reviewTextCountPoints      =    scalerCountPoints.transform( df3_unseen.reviewTextCountPoints.values.reshape(-1,1))\n",
    "df3_unseen.reviewTextCountExcl        =    scalerCountExcl.transform(   df3_unseen.reviewTextCountExcl.values.reshape(-1,1))\n",
    "df3_unseen.reviewTextCountInterr      =    scalerCountInterr.transform( df3_unseen.reviewTextCountInterr.values.reshape(-1,1))\n",
    "df3_unseen.reviewTextCountComas       =    scalerCountComas.transform(  df3_unseen.reviewTextCountComas.values.reshape(-1,1))\n",
    "df3_unseen.summaryLength              =    summaryScalerTextLength.transform(  df3_unseen.summaryLength.values.reshape(-1,1))\n",
    "df3_unseen.summaryCountPoints         =    summaryScalerCountPoint.transform( df3_unseen.summaryCountPoints.values.reshape(-1,1))\n",
    "df3_unseen.summaryCountExcl           =    summaryScalerCountExcl.transform(   df3_unseen.summaryCountExcl.values.reshape(-1,1))\n",
    "df3_unseen.summaryCountInterr         =    summaryScalerCountInterr.transform( df3_unseen.summaryCountInterr.values.reshape(-1,1))\n",
    "df3_unseen.summaryCountComas          =    summaryScalerCountComas.transform(  df3_unseen.summaryCountComas.values.reshape(-1,1))\n",
    "\n",
    "# TF-IDF for 'reviewText'\n",
    "pipe_modified.fit(df3.reviewText)\n",
    "x_reviewText = pipe_modified.transform(df3_unseen.reviewText)\n",
    "\n",
    "# TF-IDF for 'summary'\n",
    "pipe_modified.fit(df3.summary)\n",
    "x_summary = pipe_modified.transform(df3_unseen.summary)\n",
    "\n",
    "# Merge all features into a single dataframe\n",
    "X_unseen = hstack((x_reviewText, x_summary))\n",
    "featuresToUse = [\"helpfulPercentage\", \"reviewTextLength\", \"reviewTextCountPoints\", \"reviewTextCountExcl\", \"reviewTextCountInterr\", \"reviewTextCountComas\", \"reviewTextPositiveSmiley\", \"reviewTextNegativeSmiley\", \"reviewTextAllCAPS\", \\\n",
    "                \"summaryCountPoints\", \"summaryCountExcl\", \"summaryCountInterr\", \"summaryCountComas\", \"summaryPositiveSmiley\", \"summaryNegativeSmiley\", \"summaryAllCAPS\"]\n",
    "for c in featuresToUse:\n",
    "    X_unseen = hstack((X_unseen,(df3_unseen[c])[:,None]))"
   ]
  },
  {
   "cell_type": "code",
   "execution_count": null,
   "metadata": {
    "collapsed": true
   },
   "outputs": [],
   "source": [
    "# Build the SGDClassifier with the best params return by grid search\n",
    "sgd = SGDClassifier(alpha=0.0001, average=False, class_weight=None, epsilon=0.1, eta0=0.0, fit_intercept=True, l1_ratio=0.15, learning_rate='optimal', loss='hinge', n_iter=5, n_jobs=1, penalty='elasticnet',\n",
    "                    power_t= 0.5, random_state=2017, shuffle=True, verbose=0, warm_start=False)\n",
    "\n",
    "# Predict testing data\n",
    "sgd.fit(X2, y)\n",
    "y_unseen_pred = sgd.predict(X_unseen)"
   ]
  },
  {
   "cell_type": "code",
   "execution_count": null,
   "metadata": {
    "collapsed": true
   },
   "outputs": [],
   "source": [
    "# export the prediction into a file named \"pred2.txt\"\n",
    "file = open('pred2.txt', 'w')\n",
    "for item in y_unseen_pred:\n",
    "  file.write(\"%s\\n\" % item)"
   ]
  }
 ],
 "metadata": {
  "kernelspec": {
   "display_name": "Python 3",
   "language": "python",
   "name": "python3"
  },
  "language_info": {
   "codemirror_mode": {
    "name": "ipython",
    "version": 3
   },
   "file_extension": ".py",
   "mimetype": "text/x-python",
   "name": "python",
   "nbconvert_exporter": "python",
   "pygments_lexer": "ipython3",
   "version": "3.6.0"
  },
  "toc": {
   "colors": {
    "hover_highlight": "#DAA520",
    "running_highlight": "#FF0000",
    "selected_highlight": "#FFD700"
   },
   "moveMenuLeft": true,
   "nav_menu": {
    "height": "12px",
    "width": "252px"
   },
   "navigate_menu": true,
   "number_sections": false,
   "sideBar": true,
   "threshold": "0",
   "toc_cell": false,
   "toc_section_display": "block",
   "toc_window_display": false
  }
 },
 "nbformat": 4,
 "nbformat_minor": 2
}
