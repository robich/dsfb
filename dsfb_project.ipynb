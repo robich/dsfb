{
 "cells": [
  {
   "cell_type": "code",
   "execution_count": 1,
   "metadata": {
    "ExecuteTime": {
     "end_time": "2017-05-14T13:51:29.109289",
     "start_time": "2017-05-14T13:51:28.404588"
    },
    "collapsed": true
   },
   "outputs": [],
   "source": [
    "import pandas as pd\n",
    "import numpy as np\n",
    "\n",
    "from sklearn import preprocessing"
   ]
  },
  {
   "cell_type": "markdown",
   "metadata": {},
   "source": [
    "# Data Science For Business Project"
   ]
  },
  {
   "cell_type": "markdown",
   "metadata": {},
   "source": [
    "# Step 1\n",
    "\n",
    "## Preprocessing"
   ]
  },
  {
   "cell_type": "code",
   "execution_count": 2,
   "metadata": {
    "ExecuteTime": {
     "end_time": "2017-05-14T13:51:34.130308",
     "start_time": "2017-05-14T13:51:31.127642"
    },
    "collapsed": false
   },
   "outputs": [
    {
     "data": {
      "text/html": [
       "<div>\n",
       "<table border=\"1\" class=\"dataframe\">\n",
       "  <thead>\n",
       "    <tr style=\"text-align: right;\">\n",
       "      <th></th>\n",
       "      <th>asin</th>\n",
       "      <th>category</th>\n",
       "      <th>helpful</th>\n",
       "      <th>overall</th>\n",
       "      <th>reviewText</th>\n",
       "      <th>reviewTime</th>\n",
       "      <th>reviewerID</th>\n",
       "      <th>reviewerName</th>\n",
       "      <th>summary</th>\n",
       "      <th>unixReviewTime</th>\n",
       "    </tr>\n",
       "  </thead>\n",
       "  <tbody>\n",
       "    <tr>\n",
       "      <th>0</th>\n",
       "      <td>B000J4HXUC</td>\n",
       "      <td>Sports_and_Outdoors</td>\n",
       "      <td>[1, 1]</td>\n",
       "      <td>5</td>\n",
       "      <td>It's a .50 Caliber Ammo Can. That largely sums...</td>\n",
       "      <td>01 5, 2014</td>\n",
       "      <td>A3QRW0UJPKIAX7</td>\n",
       "      <td>Grant Fritchey</td>\n",
       "      <td>Clean and Exactly as Advertised</td>\n",
       "      <td>1388880000</td>\n",
       "    </tr>\n",
       "    <tr>\n",
       "      <th>1</th>\n",
       "      <td>0983393214</td>\n",
       "      <td>Books</td>\n",
       "      <td>[0, 0]</td>\n",
       "      <td>5</td>\n",
       "      <td>This was a very good book. It kept me excited ...</td>\n",
       "      <td>06 23, 2013</td>\n",
       "      <td>A2SEIOM4H06WTH</td>\n",
       "      <td>TJ</td>\n",
       "      <td>Great read!</td>\n",
       "      <td>1371945600</td>\n",
       "    </tr>\n",
       "    <tr>\n",
       "      <th>2</th>\n",
       "      <td>B003G4FVMY</td>\n",
       "      <td>Grocery_and_Gourmet_Food</td>\n",
       "      <td>[0, 0]</td>\n",
       "      <td>5</td>\n",
       "      <td>If you love coconut the way I do, you can't go...</td>\n",
       "      <td>05 19, 2013</td>\n",
       "      <td>A3GDEXMU9587JX</td>\n",
       "      <td>K. Parsley \"kindlekat\"</td>\n",
       "      <td>If you love coconut, get this coffee</td>\n",
       "      <td>1368921600</td>\n",
       "    </tr>\n",
       "    <tr>\n",
       "      <th>3</th>\n",
       "      <td>B00F9VRNF0</td>\n",
       "      <td>Cell_Phones_and_Accessories</td>\n",
       "      <td>[0, 0]</td>\n",
       "      <td>5</td>\n",
       "      <td>I recently switched from the Galaxy S3 to the ...</td>\n",
       "      <td>04 25, 2014</td>\n",
       "      <td>ASP3J2NEHDN4E</td>\n",
       "      <td>ChriS</td>\n",
       "      <td>Superior Protection!!!</td>\n",
       "      <td>1398384000</td>\n",
       "    </tr>\n",
       "    <tr>\n",
       "      <th>4</th>\n",
       "      <td>B00D5OZQUC</td>\n",
       "      <td>Amazon_Instant_Video</td>\n",
       "      <td>[0, 0]</td>\n",
       "      <td>5</td>\n",
       "      <td>Good show,looks like the gap from season 2 to ...</td>\n",
       "      <td>11 4, 2013</td>\n",
       "      <td>A1EDBI6TBKP9CO</td>\n",
       "      <td>Grants Book Trade</td>\n",
       "      <td>Love the show, thanks for putting Season 3 on ...</td>\n",
       "      <td>1383523200</td>\n",
       "    </tr>\n",
       "  </tbody>\n",
       "</table>\n",
       "</div>"
      ],
      "text/plain": [
       "         asin                     category helpful  overall  \\\n",
       "0  B000J4HXUC          Sports_and_Outdoors  [1, 1]        5   \n",
       "1  0983393214                        Books  [0, 0]        5   \n",
       "2  B003G4FVMY     Grocery_and_Gourmet_Food  [0, 0]        5   \n",
       "3  B00F9VRNF0  Cell_Phones_and_Accessories  [0, 0]        5   \n",
       "4  B00D5OZQUC         Amazon_Instant_Video  [0, 0]        5   \n",
       "\n",
       "                                          reviewText   reviewTime  \\\n",
       "0  It's a .50 Caliber Ammo Can. That largely sums...   01 5, 2014   \n",
       "1  This was a very good book. It kept me excited ...  06 23, 2013   \n",
       "2  If you love coconut the way I do, you can't go...  05 19, 2013   \n",
       "3  I recently switched from the Galaxy S3 to the ...  04 25, 2014   \n",
       "4  Good show,looks like the gap from season 2 to ...   11 4, 2013   \n",
       "\n",
       "       reviewerID            reviewerName  \\\n",
       "0  A3QRW0UJPKIAX7          Grant Fritchey   \n",
       "1  A2SEIOM4H06WTH                      TJ   \n",
       "2  A3GDEXMU9587JX  K. Parsley \"kindlekat\"   \n",
       "3   ASP3J2NEHDN4E                   ChriS   \n",
       "4  A1EDBI6TBKP9CO       Grants Book Trade   \n",
       "\n",
       "                                             summary  unixReviewTime  \n",
       "0                    Clean and Exactly as Advertised      1388880000  \n",
       "1                                        Great read!      1371945600  \n",
       "2               If you love coconut, get this coffee      1368921600  \n",
       "3                             Superior Protection!!!      1398384000  \n",
       "4  Love the show, thanks for putting Season 3 on ...      1383523200  "
      ]
     },
     "execution_count": 2,
     "metadata": {},
     "output_type": "execute_result"
    }
   ],
   "source": [
    "# Load file (we keep the git repo as light as possible by only hosting the .gz's)\n",
    "!rm -f *.json\n",
    "!gunzip -c amazon_step1.json.gz > amazon_step1.json\n",
    "\n",
    "# A first look at the data\n",
    "df1 = pd.read_json('amazon_step1.json', lines=True)\n",
    "df1.head()"
   ]
  },
  {
   "cell_type": "code",
   "execution_count": 3,
   "metadata": {
    "ExecuteTime": {
     "end_time": "2017-05-13T15:58:38.317980",
     "start_time": "2017-05-13T15:58:38.310984"
    },
    "collapsed": false
   },
   "outputs": [
    {
     "data": {
      "text/plain": [
       "asin              object\n",
       "category          object\n",
       "helpful           object\n",
       "overall            int64\n",
       "reviewText        object\n",
       "reviewTime        object\n",
       "reviewerID        object\n",
       "reviewerName      object\n",
       "summary           object\n",
       "unixReviewTime     int64\n",
       "dtype: object"
      ]
     },
     "execution_count": 3,
     "metadata": {},
     "output_type": "execute_result"
    }
   ],
   "source": [
    "df1.dtypes"
   ]
  },
  {
   "cell_type": "code",
   "execution_count": 4,
   "metadata": {
    "ExecuteTime": {
     "end_time": "2017-05-13T16:02:19.993719",
     "start_time": "2017-05-13T16:02:19.984886"
    },
    "collapsed": false
   },
   "outputs": [
    {
     "name": "stdout",
     "output_type": "stream",
     "text": [
      "Number of features: 10\n",
      "Number of samples: 96000\n"
     ]
    }
   ],
   "source": [
    "# Analyze the data: features and sample\n",
    "num_total_samples = len(df1.index)\n",
    "num_total_features = len(df1.columns)\n",
    "print(\"Number of features:\", num_total_features)\n",
    "print(\"Number of samples:\", num_total_samples)"
   ]
  },
  {
   "cell_type": "code",
   "execution_count": 5,
   "metadata": {
    "ExecuteTime": {
     "end_time": "2017-05-13T16:01:41.956114",
     "start_time": "2017-05-13T16:01:41.830751"
    },
    "collapsed": false
   },
   "outputs": [
    {
     "name": "stdout",
     "output_type": "stream",
     "text": [
      "Number of damaged samples: 994\n",
      "Percentage of damaged Samples: 1.0 %\n"
     ]
    }
   ],
   "source": [
    "# Start by counting the number of valid entrie per sample\n",
    "num_valid_entries_per_sample = df1.count(axis=1)\n",
    "# Then compute the total number of complete samples\n",
    "num_complete_samples = num_valid_entries_per_sample.tolist().count(num_total_features)\n",
    "\n",
    "# We can now compute the percenter of damaged sample\n",
    "percentage_damaged_samples = 1 - num_complete_samples/num_total_samples\n",
    "print('Number of damaged samples:', num_total_samples - num_complete_samples)\n",
    "print('Percentage of damaged Samples:', np.around(100*percentage_damaged_samples,decimals=1), '%')"
   ]
  },
  {
   "cell_type": "markdown",
   "metadata": {},
   "source": [
    "It appears that we have some missing data. <br />\n",
    "Let's see the number of valid entries for each feature"
   ]
  },
  {
   "cell_type": "code",
   "execution_count": 6,
   "metadata": {
    "ExecuteTime": {
     "end_time": "2017-05-13T16:06:27.168052",
     "start_time": "2017-05-13T16:06:27.043096"
    },
    "collapsed": false
   },
   "outputs": [
    {
     "name": "stdout",
     "output_type": "stream",
     "text": [
      "Number of valid entrie perf feature: \n",
      "reviewerName      95006\n",
      "asin              96000\n",
      "category          96000\n",
      "helpful           96000\n",
      "overall           96000\n",
      "reviewText        96000\n",
      "reviewTime        96000\n",
      "reviewerID        96000\n",
      "summary           96000\n",
      "unixReviewTime    96000\n",
      "dtype: int64\n"
     ]
    }
   ],
   "source": [
    "num_valid_entries_per_feature = df1.count(axis=0).sort_values()\n",
    "print(\"Number of valid entrie perf feature: \")\n",
    "print(num_valid_entries_per_feature)"
   ]
  },
  {
   "cell_type": "markdown",
   "metadata": {},
   "source": [
    "Only `reviewerName` is sometimes missing (994 times to be precise)."
   ]
  },
  {
   "cell_type": "code",
   "execution_count": 7,
   "metadata": {
    "ExecuteTime": {
     "end_time": "2017-05-13T16:07:22.666823",
     "start_time": "2017-05-13T16:07:22.556582"
    },
    "collapsed": false
   },
   "outputs": [
    {
     "data": {
      "text/plain": [
       "asin                0\n",
       "category            0\n",
       "helpful             0\n",
       "overall             0\n",
       "reviewText          0\n",
       "reviewTime          0\n",
       "reviewerID          0\n",
       "reviewerName      994\n",
       "summary             0\n",
       "unixReviewTime      0\n",
       "dtype: int64"
      ]
     },
     "execution_count": 7,
     "metadata": {},
     "output_type": "execute_result"
    }
   ],
   "source": [
    "df1.isnull().sum()"
   ]
  },
  {
   "cell_type": "markdown",
   "metadata": {},
   "source": [
    "## We now present the preprocessing choices for each features\n",
    "\n",
    "As stated in the project description, we will mainly rely on the **reviewText** feature. Nevertheless, we decide to take a look into each other feature and try to see if we can extract some useful information from them in order to help our models."
   ]
  },
  {
   "cell_type": "markdown",
   "metadata": {},
   "source": [
    "### asin\n",
    "> Defintion: `amazon standard identification number which is unique for each product`\n",
    "\n",
    "This feature will obvisously not bring useful information for the task we want to perform. We drop it."
   ]
  },
  {
   "cell_type": "code",
   "execution_count": 8,
   "metadata": {
    "ExecuteTime": {
     "end_time": "2017-05-14T13:51:38.444921",
     "start_time": "2017-05-14T13:51:38.423365"
    },
    "collapsed": false
   },
   "outputs": [],
   "source": [
    "df1 = df1.drop(['asin'], axis=1)"
   ]
  },
  {
   "cell_type": "markdown",
   "metadata": {},
   "source": [
    "### category\n",
    "> Definition: `category of the product`\n",
    "\n",
    "This is the target feature for part I of the project.<br />\n",
    "We see below that the frequency of each category is equal<br />\n",
    "This is a great news since we will be able to use a simple accuracy score to rank our different models.<br />\n",
    "Moreover, it will be easy to sample a subset of the dataset if need be (e.g. to test a model on small data to improve speed)."
   ]
  },
  {
   "cell_type": "code",
   "execution_count": 9,
   "metadata": {
    "collapsed": false
   },
   "outputs": [
    {
     "data": {
      "image/png": "[encoded data removed]",
      "text/plain": [
       "<matplotlib.figure.Figure at 0x7f13a5596c88>"
      ]
     },
     "metadata": {},
     "output_type": "display_data"
    }
   ],
   "source": [
    "import matplotlib.pyplot as plt\n",
    "df1[\"category\"].value_counts().plot(kind='bar')\n",
    "plt.show()"
   ]
  },
  {
   "cell_type": "markdown",
   "metadata": {},
   "source": [
    "### helpful\n",
    "> Definition: `[x,y]: x is the number of helpful ticks and y is the number of total ticks`\n",
    "\n",
    "This features is not useful in it's actual form, but we think that we can take advantage of the information it contains. Indeed, it's reasonable to think that a five stars product might have a bigger ratio x/y than a one start product. Therefore, we decide to create a new feature from the *helpful* one: **helpfulPercentage**."
   ]
  },
  {
   "cell_type": "code",
   "execution_count": 10,
   "metadata": {
    "ExecuteTime": {
     "end_time": "2017-05-14T13:51:40.355287",
     "start_time": "2017-05-14T13:51:40.265148"
    },
    "collapsed": false
   },
   "outputs": [
    {
     "data": {
      "text/plain": [
       "10725    0.0\n",
       "62701    0.0\n",
       "15672    0.0\n",
       "886      0.5\n",
       "54589    1.0\n",
       "Name: helpfulPercentage, dtype: float64"
      ]
     },
     "execution_count": 10,
     "metadata": {},
     "output_type": "execute_result"
    }
   ],
   "source": [
    "# Compute the new feature 'helpfulPercentage'\n",
    "df1[\"helpfulPercentage\"] = df1.helpful.apply(lambda x: x[0]/x[1] if x[1] != 0 else 0)\n",
    "\n",
    "# Remove the 'old' one\n",
    "df1 = df1.drop([\"helpful\"], axis=1)\n",
    "\n",
    "df1.helpfulPercentage.sample(5)"
   ]
  },
  {
   "cell_type": "markdown",
   "metadata": {},
   "source": [
    "### overall\n",
    "> Definition: `overal rating of the product in the range of [1,2,3,4,5]`\n",
    "\n",
    "This is the target feature for parts II and II of the project"
   ]
  },
  {
   "cell_type": "code",
   "execution_count": 11,
   "metadata": {
    "ExecuteTime": {
     "end_time": "2017-05-14T13:51:42.365449",
     "start_time": "2017-05-14T13:51:42.327075"
    },
    "collapsed": false
   },
   "outputs": [
    {
     "data": {
      "text/plain": [
       "category\n",
       "Amazon_Instant_Video           4.21125\n",
       "Apps_for_Android               3.96325\n",
       "Automotive                     4.45325\n",
       "Baby                           4.22200\n",
       "Beauty                         4.18700\n",
       "Books                          4.26575\n",
       "CDs_and_Vinyl                  4.27800\n",
       "Cell_Phones_and_Accessories    4.12600\n",
       "Clothing_Shoes_and_Jewelry     4.25000\n",
       "Digital_Music                  4.22650\n",
       "Electronics                    4.23575\n",
       "Grocery_and_Gourmet_Food       4.25825\n",
       "Health_and_Personal_Care       4.24675\n",
       "Home_and_Kitchen               4.32525\n",
       "Kindle_Store                   4.35850\n",
       "Movies_and_TV                  4.12200\n",
       "Musical_Instruments            4.49550\n",
       "Office_Products                4.34450\n",
       "Patio_Lawn_and_Garden          4.21875\n",
       "Pet_Supplies                   4.22325\n",
       "Sports_and_Outdoors            4.40150\n",
       "Tools_and_Home_Improvement     4.35275\n",
       "Toys_and_Games                 4.38350\n",
       "Video_Games                    4.09725\n",
       "Name: overall, dtype: float64"
      ]
     },
     "execution_count": 11,
     "metadata": {},
     "output_type": "execute_result"
    }
   ],
   "source": [
    "df1.groupby(\"category\")[\"overall\"].mean()"
   ]
  },
  {
   "cell_type": "markdown",
   "metadata": {},
   "source": [
    "### reviewText\n",
    "> Definition: `text of the review`\n",
    "\n",
    "This is the main feature on which we need to rely on. It's text, so we need to transform it into a numerical form.\n",
    "\n",
    "But before doing so, we decided to extract some information from this feature.\n",
    "\n",
    "Firstly, we create a new feature **reviewTextLenght**. The name describe perfectly the feature."
   ]
  },
  {
   "cell_type": "code",
   "execution_count": 12,
   "metadata": {
    "ExecuteTime": {
     "end_time": "2017-05-14T13:52:01.027614",
     "start_time": "2017-05-14T13:52:00.950929"
    },
    "collapsed": false
   },
   "outputs": [
    {
     "name": "stderr",
     "output_type": "stream",
     "text": [
      "/home/com402/anaconda3/lib/python3.6/site-packages/sklearn/utils/validation.py:429: DataConversionWarning: Data with input dtype int64 was converted to float64 by the scale function.\n",
      "  warnings.warn(msg, _DataConversionWarning)\n"
     ]
    },
    {
     "data": {
      "text/plain": [
       "80521   -0.565376\n",
       "17077   -0.373401\n",
       "72832   -0.626515\n",
       "43331    0.046011\n",
       "64536    0.980210\n",
       "Name: reviewTextLength, dtype: float64"
      ]
     },
     "execution_count": 12,
     "metadata": {},
     "output_type": "execute_result"
    }
   ],
   "source": [
    "# Compute the feature\n",
    "df1[\"reviewTextLength\"] = df1[\"reviewText\"].apply(lambda x: len(x))\n",
    "\n",
    "# We standardize it: that way, outliers (e.g. very long comments) won't affect too much our model\n",
    "df1[\"reviewTextLength\"] = preprocessing.scale(pd.to_numeric(df1[\"reviewTextLength\"]))\n",
    "\n",
    "df1.reviewTextLength.sample(5)"
   ]
  },
  {
   "cell_type": "markdown",
   "metadata": {},
   "source": [
    "We also create features that capture the amount of punctuation that is used, namely *points*, *exclamation marks*, *question marks*, and *comas*. "
   ]
  },
  {
   "cell_type": "code",
   "execution_count": 13,
   "metadata": {
    "ExecuteTime": {
     "end_time": "2017-05-14T13:52:10.008794",
     "start_time": "2017-05-14T13:52:09.532947"
    },
    "collapsed": false
   },
   "outputs": [
    {
     "name": "stderr",
     "output_type": "stream",
     "text": [
      "/home/com402/anaconda3/lib/python3.6/site-packages/sklearn/utils/validation.py:429: DataConversionWarning: Data with input dtype int64 was converted to float64 by the scale function.\n",
      "  warnings.warn(msg, _DataConversionWarning)\n"
     ]
    },
    {
     "data": {
      "text/html": [
       "<div>\n",
       "<table border=\"1\" class=\"dataframe\">\n",
       "  <thead>\n",
       "    <tr style=\"text-align: right;\">\n",
       "      <th></th>\n",
       "      <th>rtCountPoints</th>\n",
       "      <th>rtCountExcl</th>\n",
       "      <th>rtCountInterr</th>\n",
       "      <th>rtCountComas</th>\n",
       "    </tr>\n",
       "  </thead>\n",
       "  <tbody>\n",
       "    <tr>\n",
       "      <th>31789</th>\n",
       "      <td>-0.253817</td>\n",
       "      <td>-0.341411</td>\n",
       "      <td>-0.218245</td>\n",
       "      <td>-0.441073</td>\n",
       "    </tr>\n",
       "    <tr>\n",
       "      <th>49696</th>\n",
       "      <td>-0.037060</td>\n",
       "      <td>-0.341411</td>\n",
       "      <td>-0.218245</td>\n",
       "      <td>0.065674</td>\n",
       "    </tr>\n",
       "    <tr>\n",
       "      <th>22177</th>\n",
       "      <td>-0.470575</td>\n",
       "      <td>-0.341411</td>\n",
       "      <td>-0.218245</td>\n",
       "      <td>-0.567760</td>\n",
       "    </tr>\n",
       "    <tr>\n",
       "      <th>57739</th>\n",
       "      <td>-0.578953</td>\n",
       "      <td>0.215455</td>\n",
       "      <td>-0.218245</td>\n",
       "      <td>-0.441073</td>\n",
       "    </tr>\n",
       "    <tr>\n",
       "      <th>88761</th>\n",
       "      <td>1.371863</td>\n",
       "      <td>0.215455</td>\n",
       "      <td>-0.218245</td>\n",
       "      <td>1.079169</td>\n",
       "    </tr>\n",
       "  </tbody>\n",
       "</table>\n",
       "</div>"
      ],
      "text/plain": [
       "       rtCountPoints  rtCountExcl  rtCountInterr  rtCountComas\n",
       "31789      -0.253817    -0.341411      -0.218245     -0.441073\n",
       "49696      -0.037060    -0.341411      -0.218245      0.065674\n",
       "22177      -0.470575    -0.341411      -0.218245     -0.567760\n",
       "57739      -0.578953     0.215455      -0.218245     -0.441073\n",
       "88761       1.371863     0.215455      -0.218245      1.079169"
      ]
     },
     "execution_count": 13,
     "metadata": {},
     "output_type": "execute_result"
    }
   ],
   "source": [
    "def count_char(row, char):\n",
    "    return row.count(char)\n",
    "\n",
    "df1[\"rtCountPoints\"] = df1[\"reviewText\"].apply(count_char, args=(\".\"))\n",
    "df1[\"rtCountPoints\"] = preprocessing.scale(df1[\"rtCountPoints\"])\n",
    "\n",
    "df1[\"rtCountExcl\"] = df1[\"reviewText\"].apply(count_char, args=(\"!\"))\n",
    "df1[\"rtCountExcl\"] = preprocessing.scale(df1[\"rtCountExcl\"])\n",
    "\n",
    "df1[\"rtCountInterr\"] = df1[\"reviewText\"].apply(count_char, args=(\"?\"))\n",
    "df1[\"rtCountInterr\"] = preprocessing.scale(df1[\"rtCountInterr\"])\n",
    "\n",
    "df1[\"rtCountComas\"] = df1[\"reviewText\"].apply(count_char, args=(\",\"))\n",
    "df1[\"rtCountComas\"] = preprocessing.scale(df1[\"rtCountComas\"])\n",
    "\n",
    "# Output some sample\n",
    "df1[[\"rtCountPoints\", \"rtCountExcl\", \"rtCountInterr\", \"rtCountComas\"]].sample(5)"
   ]
  },
  {
   "cell_type": "code",
   "execution_count": 14,
   "metadata": {
    "ExecuteTime": {
     "end_time": "2017-05-14T09:55:56.752579",
     "start_time": "2017-05-14T09:55:56.634978"
    },
    "collapsed": false
   },
   "outputs": [
    {
     "data": {
      "text/plain": [
       "1121"
      ]
     },
     "execution_count": 14,
     "metadata": {},
     "output_type": "execute_result"
    }
   ],
   "source": [
    "(df1.reviewText.apply(lambda x : (\":)\" in x))).sum()"
   ]
  },
  {
   "cell_type": "markdown",
   "metadata": {},
   "source": [
    "We decide to already buil the pipeline we will use for this feature. We need to transform this textual feature into a numerical one."
   ]
  },
  {
   "cell_type": "code",
   "execution_count": 15,
   "metadata": {
    "ExecuteTime": {
     "end_time": "2017-05-14T13:52:30.540086",
     "start_time": "2017-05-14T13:52:30.145780"
    },
    "collapsed": true
   },
   "outputs": [],
   "source": [
    "from sklearn.feature_extraction.text import CountVectorizer\n",
    "from sklearn.feature_extraction.text import TfidfTransformer\n",
    "from sklearn.pipeline import Pipeline\n",
    "from nltk.stem.snowball import EnglishStemmer"
   ]
  },
  {
   "cell_type": "code",
   "execution_count": 16,
   "metadata": {
    "ExecuteTime": {
     "end_time": "2017-05-14T13:52:32.973208",
     "start_time": "2017-05-14T13:52:32.960087"
    },
    "collapsed": false
   },
   "outputs": [],
   "source": [
    "stemmer = EnglishStemmer()\n",
    "analyzer = CountVectorizer().build_analyzer()\n",
    "\n",
    "def stemmed_words(doc):\n",
    "    return (stemmer.stem(w) for w in analyzer(doc))\n",
    "\n",
    "stop_words = 'english'\n",
    "\n",
    "pipe_modified = Pipeline([('vectorize_stem', CountVectorizer(stop_words=stop_words,analyzer=stemmed_words)),\\\n",
    "                          ('compute_tfidf', TfidfTransformer())])"
   ]
  },
  {
   "cell_type": "markdown",
   "metadata": {},
   "source": [
    "### reviewTime\n",
    "> Definition: `time of writing the review in normal format`\n",
    "\n",
    "We think that we cannot retrieve useful information from this features. We decide to drop it."
   ]
  },
  {
   "cell_type": "code",
   "execution_count": 17,
   "metadata": {
    "ExecuteTime": {
     "end_time": "2017-05-14T13:52:36.782177",
     "start_time": "2017-05-14T13:52:36.755445"
    },
    "collapsed": true
   },
   "outputs": [],
   "source": [
    "df1 = df1.drop([\"reviewTime\"], axis=1)"
   ]
  },
  {
   "cell_type": "markdown",
   "metadata": {},
   "source": [
    "### reviewerID\n",
    "> Definition: `id of the reviewer`\n",
    "\n",
    "We drop it also, no information that we can use."
   ]
  },
  {
   "cell_type": "code",
   "execution_count": 18,
   "metadata": {
    "ExecuteTime": {
     "end_time": "2017-05-14T13:52:38.362726",
     "start_time": "2017-05-14T13:52:38.336720"
    },
    "collapsed": true
   },
   "outputs": [],
   "source": [
    "df1 = df1.drop(['reviewerID'], axis=1)"
   ]
  },
  {
   "cell_type": "markdown",
   "metadata": {
    "ExecuteTime": {
     "end_time": "2017-05-13T17:05:09.947462",
     "start_time": "2017-05-13T17:05:06.041037"
    }
   },
   "source": [
    "> **A FAIRE SI ON A LE TEMPS**\n",
    ">\n",
    ">On peut imaginer qu'un user note seulement les produits d'une seule catégorie donc je pensais utiliser ça. Le seul moen que j'ai en tête est un peu tiré parles cheveux, donc je préfére le laisser de coté, si on a le temps on essaie, sinon on peut même le garder pour le présentation, si on a une question genre \"What can you do to improve your work bla bla bla\".\n",
    ">\n",
    ">L'idée serait de créer une feature par categorie pour chaque utilisateur qu'on a dans notre training data. La valeur de la features serait par exemple le pourcentage de parmis les produits que l'user a note, combien appartienne à cette catégorie\n",
    "\n",
    "This one is a little more tricky. We can make the assumption that some people only rate negatively all products, so named \"trolls\", or that a persone only rate products for a given categorie. Therefore, we investigate it.\n",
    "a = df1.groupby('reviewerID')['category'].apply(lambda x: list(x))"
   ]
  },
  {
   "cell_type": "markdown",
   "metadata": {},
   "source": [
    "### reviewerName\n",
    "> Definition: `name of the reviewer`\n",
    "\n",
    "We decide to drop this feature, as it is redundant with the reviewerId (even if a reviewerID might be associated with multiples reviewerNames). Since we drop this feature, no need to taking care of the missing values."
   ]
  },
  {
   "cell_type": "code",
   "execution_count": 19,
   "metadata": {
    "ExecuteTime": {
     "end_time": "2017-05-14T13:52:40.850558",
     "start_time": "2017-05-14T13:52:40.827844"
    },
    "collapsed": true
   },
   "outputs": [],
   "source": [
    "df1 = df1.drop([\"reviewerName\"], axis=1)"
   ]
  },
  {
   "cell_type": "markdown",
   "metadata": {
    "ExecuteTime": {
     "end_time": "2017-05-13T17:25:41.039855",
     "start_time": "2017-05-13T17:25:41.031511"
    }
   },
   "source": [
    "### summary\n",
    "> Defintion: `a summary of reviewer's opinion about the product`\n",
    "\n",
    "Let's look at this feature, with the **reviewText** next to it."
   ]
  },
  {
   "cell_type": "code",
   "execution_count": 20,
   "metadata": {
    "ExecuteTime": {
     "end_time": "2017-05-14T13:52:42.914829",
     "start_time": "2017-05-14T13:52:42.867653"
    },
    "collapsed": false
   },
   "outputs": [
    {
     "data": {
      "text/html": [
       "<div>\n",
       "<table border=\"1\" class=\"dataframe\">\n",
       "  <thead>\n",
       "    <tr style=\"text-align: right;\">\n",
       "      <th></th>\n",
       "      <th>reviewText</th>\n",
       "      <th>summary</th>\n",
       "    </tr>\n",
       "  </thead>\n",
       "  <tbody>\n",
       "    <tr>\n",
       "      <th>0</th>\n",
       "      <td>It's a .50 Caliber Ammo Can. That largely sums...</td>\n",
       "      <td>Clean and Exactly as Advertised</td>\n",
       "    </tr>\n",
       "    <tr>\n",
       "      <th>1</th>\n",
       "      <td>This was a very good book. It kept me excited ...</td>\n",
       "      <td>Great read!</td>\n",
       "    </tr>\n",
       "    <tr>\n",
       "      <th>2</th>\n",
       "      <td>If you love coconut the way I do, you can't go...</td>\n",
       "      <td>If you love coconut, get this coffee</td>\n",
       "    </tr>\n",
       "    <tr>\n",
       "      <th>3</th>\n",
       "      <td>I recently switched from the Galaxy S3 to the ...</td>\n",
       "      <td>Superior Protection!!!</td>\n",
       "    </tr>\n",
       "    <tr>\n",
       "      <th>4</th>\n",
       "      <td>Good show,looks like the gap from season 2 to ...</td>\n",
       "      <td>Love the show, thanks for putting Season 3 on ...</td>\n",
       "    </tr>\n",
       "    <tr>\n",
       "      <th>5</th>\n",
       "      <td>I'm ordering more of these spoons, as one just...</td>\n",
       "      <td>Perfect for babies</td>\n",
       "    </tr>\n",
       "    <tr>\n",
       "      <th>6</th>\n",
       "      <td>We installed some sensor lights in the house f...</td>\n",
       "      <td>Nice little sensor light, good for  power fail...</td>\n",
       "    </tr>\n",
       "    <tr>\n",
       "      <th>7</th>\n",
       "      <td>It was 1979 and the B-52s were on Saturday Nig...</td>\n",
       "      <td>Defining An Era</td>\n",
       "    </tr>\n",
       "    <tr>\n",
       "      <th>8</th>\n",
       "      <td>My Manchester terrier eats so fast she chokes ...</td>\n",
       "      <td>Perfect Solution For Dogs That Gobble Food Too...</td>\n",
       "    </tr>\n",
       "    <tr>\n",
       "      <th>9</th>\n",
       "      <td>This movie starts off with some clever and fun...</td>\n",
       "      <td>Reverse Cinderella just doesn't cut it.</td>\n",
       "    </tr>\n",
       "    <tr>\n",
       "      <th>10</th>\n",
       "      <td>I bought one of these for each of my four cont...</td>\n",
       "      <td>Same as the other 1 star reviews...</td>\n",
       "    </tr>\n",
       "    <tr>\n",
       "      <th>11</th>\n",
       "      <td>I have to start by first saying at the end I w...</td>\n",
       "      <td>The Unfinished Song: Sacrifice</td>\n",
       "    </tr>\n",
       "    <tr>\n",
       "      <th>12</th>\n",
       "      <td>I purchased this scope to go along with my UTG...</td>\n",
       "      <td>Excellent Scope</td>\n",
       "    </tr>\n",
       "    <tr>\n",
       "      <th>13</th>\n",
       "      <td>I like this Leash , it is very light , an comp...</td>\n",
       "      <td>Works</td>\n",
       "    </tr>\n",
       "    <tr>\n",
       "      <th>14</th>\n",
       "      <td>These are good covers. They've held up to todd...</td>\n",
       "      <td>So far so good.</td>\n",
       "    </tr>\n",
       "    <tr>\n",
       "      <th>15</th>\n",
       "      <td>This is perfect for my Boston Terrier - she is...</td>\n",
       "      <td>Exactly as pictured</td>\n",
       "    </tr>\n",
       "    <tr>\n",
       "      <th>16</th>\n",
       "      <td>good quality plastic. Easy install template in...</td>\n",
       "      <td>good quality, easy to install</td>\n",
       "    </tr>\n",
       "    <tr>\n",
       "      <th>17</th>\n",
       "      <td>There are a few types of board games but only ...</td>\n",
       "      <td>Not another \"Bored\" on a Board</td>\n",
       "    </tr>\n",
       "    <tr>\n",
       "      <th>18</th>\n",
       "      <td>This is much lighter than my Frieling french p...</td>\n",
       "      <td>I love it</td>\n",
       "    </tr>\n",
       "    <tr>\n",
       "      <th>19</th>\n",
       "      <td>Sexaaay! I loved this book. The detail and des...</td>\n",
       "      <td>Sexy!</td>\n",
       "    </tr>\n",
       "    <tr>\n",
       "      <th>20</th>\n",
       "      <td>This most recent purchase of the Tea Bag Stain...</td>\n",
       "      <td>Very practical</td>\n",
       "    </tr>\n",
       "    <tr>\n",
       "      <th>21</th>\n",
       "      <td>Since my athletic shorts don't have side pocke...</td>\n",
       "      <td>Great lightweight carry-all</td>\n",
       "    </tr>\n",
       "    <tr>\n",
       "      <th>22</th>\n",
       "      <td>I was a bit bored with the mindless style ofAl...</td>\n",
       "      <td>I had almost Bought INFERNO+ a Couple Days Ago</td>\n",
       "    </tr>\n",
       "    <tr>\n",
       "      <th>23</th>\n",
       "      <td>I don't know what happened but one day I notic...</td>\n",
       "      <td>It really works</td>\n",
       "    </tr>\n",
       "    <tr>\n",
       "      <th>24</th>\n",
       "      <td>I think that I have a problem. I have not seen...</td>\n",
       "      <td>I am just not sure how to rate this!</td>\n",
       "    </tr>\n",
       "    <tr>\n",
       "      <th>25</th>\n",
       "      <td>A bit dull! Not so great. But I guess they do ...</td>\n",
       "      <td>Ehhhh</td>\n",
       "    </tr>\n",
       "    <tr>\n",
       "      <th>26</th>\n",
       "      <td>Bought this shadow and when you think of cherr...</td>\n",
       "      <td>Not \"cherry\"</td>\n",
       "    </tr>\n",
       "    <tr>\n",
       "      <th>27</th>\n",
       "      <td>I've ordered two of these kits in the aged whi...</td>\n",
       "      <td>Why No Protective Covering For The Back Plate???</td>\n",
       "    </tr>\n",
       "    <tr>\n",
       "      <th>28</th>\n",
       "      <td>The Morgan Sister series is fastly become one ...</td>\n",
       "      <td>Friend or Foe?</td>\n",
       "    </tr>\n",
       "    <tr>\n",
       "      <th>29</th>\n",
       "      <td>Duran's weeklong homecoming concerts at Wemble...</td>\n",
       "      <td>The original lineup is awesome</td>\n",
       "    </tr>\n",
       "    <tr>\n",
       "      <th>...</th>\n",
       "      <td>...</td>\n",
       "      <td>...</td>\n",
       "    </tr>\n",
       "    <tr>\n",
       "      <th>95970</th>\n",
       "      <td>Porcupine was my favorite Bunnymen album for t...</td>\n",
       "      <td>A fine transitional album</td>\n",
       "    </tr>\n",
       "    <tr>\n",
       "      <th>95971</th>\n",
       "      <td>I could not get this to work. I'm sure it's ju...</td>\n",
       "      <td>No Workie</td>\n",
       "    </tr>\n",
       "    <tr>\n",
       "      <th>95972</th>\n",
       "      <td>This watch felt very cheaply made when I first...</td>\n",
       "      <td>Feels cheap but has held up well.</td>\n",
       "    </tr>\n",
       "    <tr>\n",
       "      <th>95973</th>\n",
       "      <td>...Be aware that many of the tracks bear littl...</td>\n",
       "      <td>If you're considering this as a learning tool ...</td>\n",
       "    </tr>\n",
       "    <tr>\n",
       "      <th>95974</th>\n",
       "      <td>Best driving game I have ever played in a long...</td>\n",
       "      <td>Love the ride</td>\n",
       "    </tr>\n",
       "    <tr>\n",
       "      <th>95975</th>\n",
       "      <td>I remember these from high school.  They requi...</td>\n",
       "      <td>Love these loafers</td>\n",
       "    </tr>\n",
       "    <tr>\n",
       "      <th>95976</th>\n",
       "      <td>Great little camera for the price. Simple &amp; ta...</td>\n",
       "      <td>Great Value!</td>\n",
       "    </tr>\n",
       "    <tr>\n",
       "      <th>95977</th>\n",
       "      <td>These little tabs are very handy.  They're ess...</td>\n",
       "      <td>Very handy!</td>\n",
       "    </tr>\n",
       "    <tr>\n",
       "      <th>95978</th>\n",
       "      <td>For me, they are a bit too soft to actually re...</td>\n",
       "      <td>Bristles are very soft</td>\n",
       "    </tr>\n",
       "    <tr>\n",
       "      <th>95979</th>\n",
       "      <td>this is a wonderful product. It coved the grey...</td>\n",
       "      <td>eyebrow tint</td>\n",
       "    </tr>\n",
       "    <tr>\n",
       "      <th>95980</th>\n",
       "      <td>Our first weekend out with this tent we got ca...</td>\n",
       "      <td>Amazing in high wind.</td>\n",
       "    </tr>\n",
       "    <tr>\n",
       "      <th>95981</th>\n",
       "      <td>It applied as described, I have put wax on it ...</td>\n",
       "      <td>Clear spray</td>\n",
       "    </tr>\n",
       "    <tr>\n",
       "      <th>95982</th>\n",
       "      <td>I cant find minecraft for kindle fire so I saw...</td>\n",
       "      <td>Pretty cool</td>\n",
       "    </tr>\n",
       "    <tr>\n",
       "      <th>95983</th>\n",
       "      <td>good knife for the money but nothing special!</td>\n",
       "      <td>its okay!</td>\n",
       "    </tr>\n",
       "    <tr>\n",
       "      <th>95984</th>\n",
       "      <td>I purchased this as a backup charging cable fo...</td>\n",
       "      <td>A convenient, compact solution</td>\n",
       "    </tr>\n",
       "    <tr>\n",
       "      <th>95985</th>\n",
       "      <td>Good things about this game:1) Absolutely stun...</td>\n",
       "      <td>Fun if one had a time machine to travel two ye...</td>\n",
       "    </tr>\n",
       "    <tr>\n",
       "      <th>95986</th>\n",
       "      <td>This is the oem version of the mercedes one. I...</td>\n",
       "      <td>Fleece filter and comes with the rubbers that ...</td>\n",
       "    </tr>\n",
       "    <tr>\n",
       "      <th>95987</th>\n",
       "      <td>A great and easy install, only hick up --- it ...</td>\n",
       "      <td>A bit large, but works very well.</td>\n",
       "    </tr>\n",
       "    <tr>\n",
       "      <th>95988</th>\n",
       "      <td>This is one of my favourite albums of all time...</td>\n",
       "      <td>one of the best</td>\n",
       "    </tr>\n",
       "    <tr>\n",
       "      <th>95989</th>\n",
       "      <td>My cat loves these cubes and spends much time ...</td>\n",
       "      <td>Feline favorite, but destructible</td>\n",
       "    </tr>\n",
       "    <tr>\n",
       "      <th>95990</th>\n",
       "      <td>I'll try to be succinct:  1.  This isn't as go...</td>\n",
       "      <td>Don't believe the hype -</td>\n",
       "    </tr>\n",
       "    <tr>\n",
       "      <th>95991</th>\n",
       "      <td>One of the bowls arrived broken into pieces.  ...</td>\n",
       "      <td>Poor shipping and hard to use</td>\n",
       "    </tr>\n",
       "    <tr>\n",
       "      <th>95992</th>\n",
       "      <td>I really like this product. At first i was rea...</td>\n",
       "      <td>Good for me</td>\n",
       "    </tr>\n",
       "    <tr>\n",
       "      <th>95993</th>\n",
       "      <td>Aided in my sleep however I had very weird dre...</td>\n",
       "      <td>Helped with Sleep however</td>\n",
       "    </tr>\n",
       "    <tr>\n",
       "      <th>95994</th>\n",
       "      <td>It holds my TV on the wall. Easy to install an...</td>\n",
       "      <td>Exactly what it needs to be.</td>\n",
       "    </tr>\n",
       "    <tr>\n",
       "      <th>95995</th>\n",
       "      <td>I have to agree with the reviewer who said the...</td>\n",
       "      <td>Okay, but not the best</td>\n",
       "    </tr>\n",
       "    <tr>\n",
       "      <th>95996</th>\n",
       "      <td>This flashlight is a little bulky and fits int...</td>\n",
       "      <td>Great little flashlight</td>\n",
       "    </tr>\n",
       "    <tr>\n",
       "      <th>95997</th>\n",
       "      <td>First of all the seller, &amp;#34;ABETRADES&amp;#34; i...</td>\n",
       "      <td>Not the worst, but certainly could have done b...</td>\n",
       "    </tr>\n",
       "    <tr>\n",
       "      <th>95998</th>\n",
       "      <td>I was finally able to install a screen saver o...</td>\n",
       "      <td>Easy to install</td>\n",
       "    </tr>\n",
       "    <tr>\n",
       "      <th>95999</th>\n",
       "      <td>I enjoyed this movie quite a bit. There's alot...</td>\n",
       "      <td>My Review</td>\n",
       "    </tr>\n",
       "  </tbody>\n",
       "</table>\n",
       "<p>96000 rows × 2 columns</p>\n",
       "</div>"
      ],
      "text/plain": [
       "                                              reviewText  \\\n",
       "0      It's a .50 Caliber Ammo Can. That largely sums...   \n",
       "1      This was a very good book. It kept me excited ...   \n",
       "2      If you love coconut the way I do, you can't go...   \n",
       "3      I recently switched from the Galaxy S3 to the ...   \n",
       "4      Good show,looks like the gap from season 2 to ...   \n",
       "5      I'm ordering more of these spoons, as one just...   \n",
       "6      We installed some sensor lights in the house f...   \n",
       "7      It was 1979 and the B-52s were on Saturday Nig...   \n",
       "8      My Manchester terrier eats so fast she chokes ...   \n",
       "9      This movie starts off with some clever and fun...   \n",
       "10     I bought one of these for each of my four cont...   \n",
       "11     I have to start by first saying at the end I w...   \n",
       "12     I purchased this scope to go along with my UTG...   \n",
       "13     I like this Leash , it is very light , an comp...   \n",
       "14     These are good covers. They've held up to todd...   \n",
       "15     This is perfect for my Boston Terrier - she is...   \n",
       "16     good quality plastic. Easy install template in...   \n",
       "17     There are a few types of board games but only ...   \n",
       "18     This is much lighter than my Frieling french p...   \n",
       "19     Sexaaay! I loved this book. The detail and des...   \n",
       "20     This most recent purchase of the Tea Bag Stain...   \n",
       "21     Since my athletic shorts don't have side pocke...   \n",
       "22     I was a bit bored with the mindless style ofAl...   \n",
       "23     I don't know what happened but one day I notic...   \n",
       "24     I think that I have a problem. I have not seen...   \n",
       "25     A bit dull! Not so great. But I guess they do ...   \n",
       "26     Bought this shadow and when you think of cherr...   \n",
       "27     I've ordered two of these kits in the aged whi...   \n",
       "28     The Morgan Sister series is fastly become one ...   \n",
       "29     Duran's weeklong homecoming concerts at Wemble...   \n",
       "...                                                  ...   \n",
       "95970  Porcupine was my favorite Bunnymen album for t...   \n",
       "95971  I could not get this to work. I'm sure it's ju...   \n",
       "95972  This watch felt very cheaply made when I first...   \n",
       "95973  ...Be aware that many of the tracks bear littl...   \n",
       "95974  Best driving game I have ever played in a long...   \n",
       "95975  I remember these from high school.  They requi...   \n",
       "95976  Great little camera for the price. Simple & ta...   \n",
       "95977  These little tabs are very handy.  They're ess...   \n",
       "95978  For me, they are a bit too soft to actually re...   \n",
       "95979  this is a wonderful product. It coved the grey...   \n",
       "95980  Our first weekend out with this tent we got ca...   \n",
       "95981  It applied as described, I have put wax on it ...   \n",
       "95982  I cant find minecraft for kindle fire so I saw...   \n",
       "95983      good knife for the money but nothing special!   \n",
       "95984  I purchased this as a backup charging cable fo...   \n",
       "95985  Good things about this game:1) Absolutely stun...   \n",
       "95986  This is the oem version of the mercedes one. I...   \n",
       "95987  A great and easy install, only hick up --- it ...   \n",
       "95988  This is one of my favourite albums of all time...   \n",
       "95989  My cat loves these cubes and spends much time ...   \n",
       "95990  I'll try to be succinct:  1.  This isn't as go...   \n",
       "95991  One of the bowls arrived broken into pieces.  ...   \n",
       "95992  I really like this product. At first i was rea...   \n",
       "95993  Aided in my sleep however I had very weird dre...   \n",
       "95994  It holds my TV on the wall. Easy to install an...   \n",
       "95995  I have to agree with the reviewer who said the...   \n",
       "95996  This flashlight is a little bulky and fits int...   \n",
       "95997  First of all the seller, &#34;ABETRADES&#34; i...   \n",
       "95998  I was finally able to install a screen saver o...   \n",
       "95999  I enjoyed this movie quite a bit. There's alot...   \n",
       "\n",
       "                                                 summary  \n",
       "0                        Clean and Exactly as Advertised  \n",
       "1                                            Great read!  \n",
       "2                   If you love coconut, get this coffee  \n",
       "3                                 Superior Protection!!!  \n",
       "4      Love the show, thanks for putting Season 3 on ...  \n",
       "5                                     Perfect for babies  \n",
       "6      Nice little sensor light, good for  power fail...  \n",
       "7                                        Defining An Era  \n",
       "8      Perfect Solution For Dogs That Gobble Food Too...  \n",
       "9                Reverse Cinderella just doesn't cut it.  \n",
       "10                   Same as the other 1 star reviews...  \n",
       "11                        The Unfinished Song: Sacrifice  \n",
       "12                                       Excellent Scope  \n",
       "13                                                 Works  \n",
       "14                                       So far so good.  \n",
       "15                                   Exactly as pictured  \n",
       "16                         good quality, easy to install  \n",
       "17                        Not another \"Bored\" on a Board  \n",
       "18                                             I love it  \n",
       "19                                                 Sexy!  \n",
       "20                                        Very practical  \n",
       "21                           Great lightweight carry-all  \n",
       "22        I had almost Bought INFERNO+ a Couple Days Ago  \n",
       "23                                       It really works  \n",
       "24                  I am just not sure how to rate this!  \n",
       "25                                                 Ehhhh  \n",
       "26                                          Not \"cherry\"  \n",
       "27      Why No Protective Covering For The Back Plate???  \n",
       "28                                        Friend or Foe?  \n",
       "29                        The original lineup is awesome  \n",
       "...                                                  ...  \n",
       "95970                          A fine transitional album  \n",
       "95971                                          No Workie  \n",
       "95972                  Feels cheap but has held up well.  \n",
       "95973  If you're considering this as a learning tool ...  \n",
       "95974                                      Love the ride  \n",
       "95975                                 Love these loafers  \n",
       "95976                                       Great Value!  \n",
       "95977                                        Very handy!  \n",
       "95978                             Bristles are very soft  \n",
       "95979                                       eyebrow tint  \n",
       "95980                              Amazing in high wind.  \n",
       "95981                                        Clear spray  \n",
       "95982                                        Pretty cool  \n",
       "95983                                          its okay!  \n",
       "95984                     A convenient, compact solution  \n",
       "95985  Fun if one had a time machine to travel two ye...  \n",
       "95986  Fleece filter and comes with the rubbers that ...  \n",
       "95987                  A bit large, but works very well.  \n",
       "95988                                    one of the best  \n",
       "95989                  Feline favorite, but destructible  \n",
       "95990                           Don't believe the hype -  \n",
       "95991                      Poor shipping and hard to use  \n",
       "95992                                        Good for me  \n",
       "95993                          Helped with Sleep however  \n",
       "95994                       Exactly what it needs to be.  \n",
       "95995                             Okay, but not the best  \n",
       "95996                            Great little flashlight  \n",
       "95997  Not the worst, but certainly could have done b...  \n",
       "95998                                    Easy to install  \n",
       "95999                                          My Review  \n",
       "\n",
       "[96000 rows x 2 columns]"
      ]
     },
     "execution_count": 20,
     "metadata": {},
     "output_type": "execute_result"
    }
   ],
   "source": [
    "df1[[\"reviewText\", \"summary\"]]"
   ]
  },
  {
   "cell_type": "markdown",
   "metadata": {},
   "source": [
    "As for the reviewText, we think that thise feature is really useful."
   ]
  },
  {
   "cell_type": "markdown",
   "metadata": {},
   "source": [
    "### unixReviewTime\n",
    "> Definition: `time of writing the review in UNIX format`\n",
    "\n",
    "This feature is redudant with **reviewTime**. We also drop it."
   ]
  },
  {
   "cell_type": "code",
   "execution_count": 21,
   "metadata": {
    "ExecuteTime": {
     "end_time": "2017-05-14T13:53:12.407577",
     "start_time": "2017-05-14T13:53:12.388111"
    },
    "collapsed": true
   },
   "outputs": [],
   "source": [
    "df1 = df1.drop([\"unixReviewTime\"], axis=1)"
   ]
  },
  {
   "cell_type": "markdown",
   "metadata": {},
   "source": [
    "## Preprocessing results\n",
    "We give below an overview of the final data frame that we will be using."
   ]
  },
  {
   "cell_type": "code",
   "execution_count": 22,
   "metadata": {
    "ExecuteTime": {
     "end_time": "2017-05-14T13:53:14.403694",
     "start_time": "2017-05-14T13:53:14.373315"
    },
    "collapsed": false,
    "scrolled": true
   },
   "outputs": [
    {
     "data": {
      "text/html": [
       "<div>\n",
       "<table border=\"1\" class=\"dataframe\">\n",
       "  <thead>\n",
       "    <tr style=\"text-align: right;\">\n",
       "      <th></th>\n",
       "      <th>category</th>\n",
       "      <th>overall</th>\n",
       "      <th>reviewText</th>\n",
       "      <th>summary</th>\n",
       "      <th>helpfulPercentage</th>\n",
       "      <th>reviewTextLength</th>\n",
       "      <th>rtCountPoints</th>\n",
       "      <th>rtCountExcl</th>\n",
       "      <th>rtCountInterr</th>\n",
       "      <th>rtCountComas</th>\n",
       "    </tr>\n",
       "  </thead>\n",
       "  <tbody>\n",
       "    <tr>\n",
       "      <th>0</th>\n",
       "      <td>Sports_and_Outdoors</td>\n",
       "      <td>5</td>\n",
       "      <td>It's a .50 Caliber Ammo Can. That largely sums...</td>\n",
       "      <td>Clean and Exactly as Advertised</td>\n",
       "      <td>1.0</td>\n",
       "      <td>-0.106836</td>\n",
       "      <td>0.396455</td>\n",
       "      <td>-0.341411</td>\n",
       "      <td>-0.218245</td>\n",
       "      <td>-0.187700</td>\n",
       "    </tr>\n",
       "    <tr>\n",
       "      <th>1</th>\n",
       "      <td>Books</td>\n",
       "      <td>5</td>\n",
       "      <td>This was a very good book. It kept me excited ...</td>\n",
       "      <td>Great read!</td>\n",
       "      <td>0.0</td>\n",
       "      <td>-0.627738</td>\n",
       "      <td>-0.470575</td>\n",
       "      <td>-0.341411</td>\n",
       "      <td>-0.218245</td>\n",
       "      <td>-0.567760</td>\n",
       "    </tr>\n",
       "    <tr>\n",
       "      <th>2</th>\n",
       "      <td>Grocery_and_Gourmet_Food</td>\n",
       "      <td>5</td>\n",
       "      <td>If you love coconut the way I do, you can't go...</td>\n",
       "      <td>If you love coconut, get this coffee</td>\n",
       "      <td>0.0</td>\n",
       "      <td>-0.547035</td>\n",
       "      <td>-0.687332</td>\n",
       "      <td>0.215455</td>\n",
       "      <td>-0.218245</td>\n",
       "      <td>-0.441073</td>\n",
       "    </tr>\n",
       "    <tr>\n",
       "      <th>3</th>\n",
       "      <td>Cell_Phones_and_Accessories</td>\n",
       "      <td>5</td>\n",
       "      <td>I recently switched from the Galaxy S3 to the ...</td>\n",
       "      <td>Superior Protection!!!</td>\n",
       "      <td>0.0</td>\n",
       "      <td>1.256557</td>\n",
       "      <td>1.155105</td>\n",
       "      <td>1.886052</td>\n",
       "      <td>-0.218245</td>\n",
       "      <td>-0.314387</td>\n",
       "    </tr>\n",
       "    <tr>\n",
       "      <th>4</th>\n",
       "      <td>Amazon_Instant_Video</td>\n",
       "      <td>5</td>\n",
       "      <td>Good show,looks like the gap from season 2 to ...</td>\n",
       "      <td>Love the show, thanks for putting Season 3 on ...</td>\n",
       "      <td>0.0</td>\n",
       "      <td>-0.573936</td>\n",
       "      <td>-0.578953</td>\n",
       "      <td>-0.341411</td>\n",
       "      <td>2.760569</td>\n",
       "      <td>-0.187700</td>\n",
       "    </tr>\n",
       "  </tbody>\n",
       "</table>\n",
       "</div>"
      ],
      "text/plain": [
       "                      category  overall  \\\n",
       "0          Sports_and_Outdoors        5   \n",
       "1                        Books        5   \n",
       "2     Grocery_and_Gourmet_Food        5   \n",
       "3  Cell_Phones_and_Accessories        5   \n",
       "4         Amazon_Instant_Video        5   \n",
       "\n",
       "                                          reviewText  \\\n",
       "0  It's a .50 Caliber Ammo Can. That largely sums...   \n",
       "1  This was a very good book. It kept me excited ...   \n",
       "2  If you love coconut the way I do, you can't go...   \n",
       "3  I recently switched from the Galaxy S3 to the ...   \n",
       "4  Good show,looks like the gap from season 2 to ...   \n",
       "\n",
       "                                             summary  helpfulPercentage  \\\n",
       "0                    Clean and Exactly as Advertised                1.0   \n",
       "1                                        Great read!                0.0   \n",
       "2               If you love coconut, get this coffee                0.0   \n",
       "3                             Superior Protection!!!                0.0   \n",
       "4  Love the show, thanks for putting Season 3 on ...                0.0   \n",
       "\n",
       "   reviewTextLength  rtCountPoints  rtCountExcl  rtCountInterr  rtCountComas  \n",
       "0         -0.106836       0.396455    -0.341411      -0.218245     -0.187700  \n",
       "1         -0.627738      -0.470575    -0.341411      -0.218245     -0.567760  \n",
       "2         -0.547035      -0.687332     0.215455      -0.218245     -0.441073  \n",
       "3          1.256557       1.155105     1.886052      -0.218245     -0.314387  \n",
       "4         -0.573936      -0.578953    -0.341411       2.760569     -0.187700  "
      ]
     },
     "execution_count": 22,
     "metadata": {},
     "output_type": "execute_result"
    }
   ],
   "source": [
    "df1.head()"
   ]
  },
  {
   "cell_type": "markdown",
   "metadata": {},
   "source": [
    "## Training, tuning and testing of models"
   ]
  },
  {
   "cell_type": "code",
   "execution_count": 23,
   "metadata": {
    "ExecuteTime": {
     "end_time": "2017-05-14T14:41:55.718852",
     "start_time": "2017-05-14T14:41:55.715529"
    },
    "collapsed": false
   },
   "outputs": [],
   "source": [
    "# The target feature --> CATEGORY\n",
    "y = df1.category"
   ]
  },
  {
   "cell_type": "code",
   "execution_count": 24,
   "metadata": {
    "ExecuteTime": {
     "end_time": "2017-05-15T00:05:00.933846",
     "start_time": "2017-05-14T23:59:18.529890"
    },
    "collapsed": true
   },
   "outputs": [],
   "source": [
    "# The features we will use\n",
    "featuresToUse = [\"helpfulPercentage\", \"reviewTextLength\", \"rtCountPoints\", \"rtCountExcl\", \"rtCountInterr\", \"rtCountComas\"]\n",
    "\n",
    "# Features we will not use : OVERALL\n",
    "\n",
    "# Features to transfrom from textual to numerical representation: REVIEWTEXT and SUMMARY\n",
    "# ---- ReviewText\n",
    "pipe_modified.fit(df1.reviewText)\n",
    "x_reviewText = pipe_modified.transform(df1.reviewText)\n",
    "\n",
    "# ---- Summary\n",
    "pipe_modified.fit(df1.summary)\n",
    "x_summary = pipe_modified.transform(df1.summary)"
   ]
  },
  {
   "cell_type": "code",
   "execution_count": 25,
   "metadata": {
    "ExecuteTime": {
     "end_time": "2017-05-15T00:28:18.917512",
     "start_time": "2017-05-15T00:28:18.795215"
    },
    "collapsed": false
   },
   "outputs": [],
   "source": [
    "# Now we can combine all features into a single dataframe\n",
    "from scipy.sparse import hstack\n",
    "X = hstack((x_reviewText, x_summary))"
   ]
  },
  {
   "cell_type": "code",
   "execution_count": 26,
   "metadata": {
    "ExecuteTime": {
     "end_time": "2017-05-15T00:28:34.568047",
     "start_time": "2017-05-15T00:28:34.098398"
    },
    "collapsed": false
   },
   "outputs": [],
   "source": [
    "for c in featuresToUse:\n",
    "    X = hstack((X,(df1[c])[:,None]))"
   ]
  },
  {
   "cell_type": "code",
   "execution_count": 27,
   "metadata": {
    "ExecuteTime": {
     "end_time": "2017-05-15T00:28:36.287219",
     "start_time": "2017-05-15T00:28:36.280741"
    },
    "collapsed": false
   },
   "outputs": [
    {
     "data": {
      "text/plain": [
       "(96000, 108303)"
      ]
     },
     "execution_count": 27,
     "metadata": {},
     "output_type": "execute_result"
    }
   ],
   "source": [
    "X.shape"
   ]
  },
  {
   "cell_type": "code",
   "execution_count": 28,
   "metadata": {
    "ExecuteTime": {
     "end_time": "2017-05-15T00:28:39.674209",
     "start_time": "2017-05-15T00:28:37.878876"
    },
    "collapsed": false
   },
   "outputs": [
    {
     "name": "stderr",
     "output_type": "stream",
     "text": [
      "/home/com402/anaconda3/lib/python3.6/site-packages/sklearn/cross_validation.py:44: DeprecationWarning: This module was deprecated in version 0.18 in favor of the model_selection module into which all the refactored classes and functions are moved. Also note that the interface of the new CV iterators are different from that of this module. This module will be removed in 0.20.\n",
      "  \"This module will be removed in 0.20.\", DeprecationWarning)\n"
     ]
    }
   ],
   "source": [
    "from sklearn.cross_validation import train_test_split\n",
    "seed = 2017\n",
    "X_train, X_test, y_train, y_test = train_test_split(X, y, test_size=0.2, random_state=seed)"
   ]
  },
  {
   "cell_type": "code",
   "execution_count": 29,
   "metadata": {
    "ExecuteTime": {
     "end_time": "2017-05-15T00:28:40.091888",
     "start_time": "2017-05-15T00:28:40.085886"
    },
    "collapsed": false
   },
   "outputs": [
    {
     "name": "stdout",
     "output_type": "stream",
     "text": [
      "X_train:  (76800, 108303)\n",
      "y_train:  (76800,)\n",
      "X_test:   (19200, 108303)\n",
      "y_test:   (19200,)\n"
     ]
    }
   ],
   "source": [
    "print(\"X_train: \", X_train.shape)\n",
    "print(\"y_train: \", y_train.shape)\n",
    "\n",
    "print(\"X_test:  \", X_test.shape)\n",
    "print(\"y_test:  \", y_test.shape)"
   ]
  },
  {
   "cell_type": "code",
   "execution_count": 30,
   "metadata": {
    "collapsed": true
   },
   "outputs": [],
   "source": [
    "def print_precision(y_t, y_pred):\n",
    "    p_and_rec=precision_recall_fscore_support(y_t,y_pred)\n",
    "    precision = p_and_rec[0]\n",
    "    recall = p_and_rec[1]\n",
    "    f_measure = p_and_rec[2]\n",
    "    support = p_and_rec[3]\n",
    "    print(\"Precision mean: \", np.mean(precision))"
   ]
  },
  {
   "cell_type": "markdown",
   "metadata": {},
   "source": [
    "### Baseline model (Dummy Classifier)"
   ]
  },
  {
   "cell_type": "code",
   "execution_count": 31,
   "metadata": {
    "ExecuteTime": {
     "end_time": "2017-05-15T00:31:29.663355",
     "start_time": "2017-05-15T00:31:29.220386"
    },
    "collapsed": false
   },
   "outputs": [
    {
     "name": "stdout",
     "output_type": "stream",
     "text": [
      "Precision mean:  0.0447061846207\n",
      "1 / 24 =  0.041666666666666664\n"
     ]
    }
   ],
   "source": [
    "from sklearn.metrics import precision_recall_fscore_support\n",
    "from sklearn.dummy import DummyClassifier\n",
    "baselineModel = DummyClassifier(random_state=seed)\n",
    "baselineModel.fit(X_train,y_train)\n",
    "y_pred = baselineModel.predict(X_test)\n",
    "\n",
    "print_precision(y_test, y_pred)\n",
    "print(\"1 / 24 = \", 1/24)"
   ]
  },
  {
   "cell_type": "markdown",
   "metadata": {},
   "source": [
    "### Linear SVM with Stochastic Gradient Descent"
   ]
  },
  {
   "cell_type": "code",
   "execution_count": 38,
   "metadata": {
    "ExecuteTime": {
     "end_time": "2017-05-15T00:28:45.611904",
     "start_time": "2017-05-15T00:28:41.878767"
    },
    "collapsed": false
   },
   "outputs": [
    {
     "name": "stdout",
     "output_type": "stream",
     "text": [
      "Precision mean:  0.715339752809,\n",
      "Best params: {'alpha': 1e-05, 'average': False, 'class_weight': None, 'epsilon': 0.1, 'eta0': 0.0, 'fit_intercept': True, 'l1_ratio': 0.15, 'learning_rate': 'optimal', 'loss': 'hinge', 'n_iter': 5, 'n_jobs': 1, 'penalty': 'l1', 'power_t': 0.5, 'random_state': 2017, 'shuffle': True, 'verbose': 0, 'warm_start': False}\n"
     ]
    }
   ],
   "source": [
    "from sklearn.linear_model import SGDClassifier\n",
    "from sklearn.model_selection import KFold\n",
    "from sklearn.model_selection import GridSearchCV\n",
    "parameters = {\n",
    "    'penalty': ['l1', 'l2', 'elasticnet'],\n",
    "    'alpha': [0.001, 0.0001, 0.00001, 0.000001]\n",
    "}\n",
    "cv = KFold(n_splits=10, random_state=seed)\n",
    "sgd = GridSearchCV(SGDClassifier(loss=\"hinge\", random_state=seed), parameters,\n",
    "     scoring=\"accuracy\", cv=cv)\n",
    "\n",
    "runGridSearch = False\n",
    "if (runGridSearch):\n",
    "    X_train_s, X_test_s, y_train_s, y_test_s = train_test_split(X_train, y_train, test_size=0.001, random_state=seed)\n",
    "    X_train_s1, X_test_s1, y_train_s1, y_test_s1 = train_test_split(X_train_s, y_train_s, test_size=0.2, random_state=seed)\n",
    "    sgd.fit(X_train_s1, y_train_s1)\n",
    "    y_pred = sgd.predict(X_test_s1)\n",
    "\n",
    "    print_precision(y_test_s1, y_pred)\n",
    "    print(\"Best params:\", sgd.best_estimator_.get_params())\n",
    "else:\n",
    "    print(\"Precision mean:  0.715339752809,\\nBest params: {'alpha': 1e-05, 'average': False, 'class_weight': None, 'epsilon': 0.1, 'eta0': 0.0, 'fit_intercept': True, 'l1_ratio': 0.15, 'learning_rate': 'optimal', 'loss': 'hinge', 'n_iter': 5, 'n_jobs': 1, 'penalty': 'l1', 'power_t': 0.5, 'random_state': 2017, 'shuffle': True, 'verbose': 0, 'warm_start': False}\")"
   ]
  },
  {
   "cell_type": "markdown",
   "metadata": {},
   "source": [
    "### Logistic Regressor with SGD"
   ]
  },
  {
   "cell_type": "code",
   "execution_count": 34,
   "metadata": {
    "ExecuteTime": {
     "end_time": "2017-05-15T00:28:46.306671",
     "start_time": "2017-05-15T00:28:46.112218"
    },
    "collapsed": false
   },
   "outputs": [
    {
     "name": "stdout",
     "output_type": "stream",
     "text": [
      "Precision mean:  0.626854517112\n"
     ]
    }
   ],
   "source": [
    "from sklearn.linear_model import SGDClassifier\n",
    "sgd_log = SGDClassifier(loss='log', penalty='l2', alpha=1e-3, n_iter=5, random_state=seed)\n",
    "sgd_log.fit(X_train, y_train)\n",
    "y_pred = sgd_log.predict(X_test)\n",
    "\n",
    "print_precision(y_test, y_pred)"
   ]
  },
  {
   "cell_type": "markdown",
   "metadata": {},
   "source": [
    "### KNN Classifier"
   ]
  },
  {
   "cell_type": "code",
   "execution_count": null,
   "metadata": {
    "collapsed": false
   },
   "outputs": [],
   "source": [
    "from sklearn.neighbors import KNeighborsClassifier\n",
    "knn = KNeighborsClassifier(n_neighbors=24)\n",
    "knn.fit(X_train, y_train)\n",
    "#y_pred = knn.predict(X_test)\n",
    "\n",
    "#print_precision(y_test, y_pred)\n",
    "# J'ai une memory error, sûrement du à la setup de ma vm"
   ]
  },
  {
   "cell_type": "markdown",
   "metadata": {},
   "source": [
    "### Random Forest Regressor"
   ]
  },
  {
   "cell_type": "code",
   "execution_count": null,
   "metadata": {
    "collapsed": false
   },
   "outputs": [],
   "source": [
    "from sklearn.ensemble import RandomForestRegressor\n",
    "rfg = RandomForestRegressor()\n",
    "# todo\n",
    "#rfg.fit(X_train, pipe_modified.transform(y_train))\n",
    "#y_pred = rfg.predict(X_test)\n",
    "#print_precision(y_test, y_pred)"
   ]
  },
  {
   "cell_type": "markdown",
   "metadata": {},
   "source": [
    "## Model comparison and best model\n",
    "We simply rank a model based on the accuracy it is capable to achieve.<br />\n",
    "We thus select the [TODO] Linear SVM model."
   ]
  },
  {
   "cell_type": "markdown",
   "metadata": {},
   "source": [
    "## Prediction of the unseen data"
   ]
  },
  {
   "cell_type": "code",
   "execution_count": null,
   "metadata": {
    "collapsed": false
   },
   "outputs": [],
   "source": [
    "!gunzip -c amazon_step1_unseen.csv.gz > amazon_step1_unseen.csv\n",
    "df1_unseen = pd.read_csv(\"amazon_step1_unseen.csv\")\n",
    "\n",
    "# We apply all the modifications on this dataframe. A pipeline may have been cleaner...\n",
    "df1_c = df1_unseen.copy(deep=True)\n",
    "df1_c = df1_c.drop(['asin', 'reviewTime', 'reviewerID', 'reviewerName', 'unixReviewTime'], axis=1)\n",
    "df1_c[\"helpfulPercentage\"] = df1_c.helpful.apply(lambda x: x[0]/x[1] if x[1] != 0 else 0)\n",
    "df1_c = df1_c.drop([\"helpful\"], axis=1)\n",
    "df1_c[\"reviewTextLength\"] = df1_c[\"reviewText\"].apply(lambda x: len(x))\n",
    "df1_c[\"reviewTextLength\"] = preprocessing.scale(pd.to_numeric(df1_c[\"reviewTextLength\"]))\n",
    "\n",
    "df1_c[\"rtCountPoints\"] = df1_c[\"reviewText\"].apply(count_char, args=(\".\"))\n",
    "df1_c[\"rtCountPoints\"] = preprocessing.scale(df1_c[\"rtCountPoints\"])\n",
    "\n",
    "df1_c[\"rtCountExcl\"] = df1_c[\"reviewText\"].apply(count_char, args=(\"!\"))\n",
    "df1_c[\"rtCountExcl\"] = preprocessing.scale(df1_c[\"rtCountExcl\"])\n",
    "\n",
    "df1_c[\"rtCountInterr\"] = df1_c[\"reviewText\"].apply(count_char, args=(\"?\"))\n",
    "df1_c[\"rtCountInterr\"] = preprocessing.scale(df1_c[\"rtCountInterr\"])\n",
    "\n",
    "df1_c[\"rtCountComas\"] = df1_c[\"reviewText\"].apply(count_char, args=(\",\"))\n",
    "df1_c[\"rtCountComas\"] = preprocessing.scale(df1_c[\"rtCountComas\"])\n",
    "\n",
    "featuresToUse = [\"helpfulPercentage\", \"reviewTextLength\", \"rtCountPoints\", \"rtCountExcl\", \"rtCountInterr\", \"rtCountComas\"]\n",
    "pipe_modified.fit(df1_c.reviewText)\n",
    "x_reviewText = pipe_modified.transform(df1_c.reviewText)\n",
    "pipe_modified.fit(df1_c.summary)\n",
    "x_summary = pipe_modified.transform(df1_c.summary)\n",
    "\n",
    "X = hstack((x_reviewText, x_summary))\n",
    "for c in featuresToUse:\n",
    "    X = hstack((X,(df1[c])[:,None]))\n",
    "    \n",
    "print(X)"
   ]
  },
  {
   "cell_type": "markdown",
   "metadata": {},
   "source": [
    "# Step 2\n",
    "\n",
    "In this step we want to predict wheter a product review has a ranking of 5 or not (1 or 0).\n",
    "\n",
    "## Preprocessing"
   ]
  },
  {
   "cell_type": "code",
   "execution_count": null,
   "metadata": {
    "collapsed": false
   },
   "outputs": [
    {
     "name": "stderr",
     "output_type": "stream",
     "text": [
      "/home/com402/anaconda3/lib/python3.6/site-packages/sklearn/utils/validation.py:429: DataConversionWarning: Data with input dtype int64 was converted to float64 by the scale function.\n",
      "  warnings.warn(msg, _DataConversionWarning)\n"
     ]
    }
   ],
   "source": [
    "!gunzip -c amazon_step23.json.gz > amazon_step23.json\n",
    "with open('amazon_step23.json') as f:\n",
    "   content = f.readlines()\n",
    "\n",
    "df2 = pd.read_json(\"\".join(content), lines=True)\n",
    "\n",
    "# We apply first the same modifications as in step 1:\n",
    "df2 = df2.drop(['asin', 'reviewTime', 'reviewerID', 'reviewerName', 'unixReviewTime'], axis=1)\n",
    "df2[\"helpfulPercentage\"] = df2.helpful.apply(lambda x: x[0]/x[1] if x[1] != 0 else 0)\n",
    "df2 = df2.drop([\"helpful\"], axis=1)\n",
    "df2[\"reviewTextLength\"] = df2[\"reviewText\"].apply(lambda x: len(x))\n",
    "df2[\"reviewTextLength\"] = preprocessing.scale(pd.to_numeric(df2[\"reviewTextLength\"]))\n",
    "\n",
    "df2[\"rtCountPoints\"] = df2[\"reviewText\"].apply(count_char, args=(\".\"))\n",
    "df2[\"rtCountPoints\"] = preprocessing.scale(df2[\"rtCountPoints\"])\n",
    "\n",
    "df2[\"rtCountExcl\"] = df2[\"reviewText\"].apply(count_char, args=(\"!\"))\n",
    "df2[\"rtCountExcl\"] = preprocessing.scale(df2[\"rtCountExcl\"])\n",
    "\n",
    "df2[\"rtCountInterr\"] = df2[\"reviewText\"].apply(count_char, args=(\"?\"))\n",
    "df2[\"rtCountInterr\"] = preprocessing.scale(df2[\"rtCountInterr\"])\n",
    "\n",
    "df2[\"rtCountComas\"] = df2[\"reviewText\"].apply(count_char, args=(\",\"))\n",
    "df2[\"rtCountComas\"] = preprocessing.scale(df2[\"rtCountComas\"])\n",
    "\n",
    "featuresToUse = [\"helpfulPercentage\", \"reviewTextLength\", \"rtCountPoints\", \"rtCountExcl\", \"rtCountInterr\", \"rtCountComas\"]\n",
    "pipe_modified.fit(df2.reviewText)\n",
    "x_reviewText = pipe_modified.transform(df2.reviewText)\n",
    "pipe_modified.fit(df2.summary)\n",
    "x_summary = pipe_modified.transform(df2.summary)\n",
    "\n",
    "X = hstack((x_reviewText, x_summary))\n",
    "for c in featuresToUse:\n",
    "    X = hstack((X,(df2[c])[:,None]))\n",
    "    \n",
    "# Then we create BIN_OVERALL that is equal to 1 if rank is 5, and 0 otherwise\n",
    "df2[\"BIN_OVERALL\"] = 1 * df2[\"overall\"] == 5\n",
    "\n",
    "# We can also make us of positive (http://ptrckprry.com/course/ssd/data/positive-words.txt) and\n",
    "# negative (http://ptrckprry.com/course/ssd/data/negative-words.txt) word lists.\n",
    "# For example, if a review contains only negative words, we guess the rating is not 5, and vice-versa\n",
    "# We could also use the ratio good/(good + bad)\n",
    "# TODO: what if the review contains negations (e.g. [...] not cool [...]) ?\n",
    "\n",
    "df2.head()"
   ]
  },
  {
   "cell_type": "markdown",
   "metadata": {
    "collapsed": true
   },
   "source": [
    "# Step 3\n",
    "## Preprocessing"
   ]
  },
  {
   "cell_type": "code",
   "execution_count": null,
   "metadata": {
    "collapsed": false
   },
   "outputs": [],
   "source": []
  },
  {
   "cell_type": "code",
   "execution_count": null,
   "metadata": {
    "collapsed": true
   },
   "outputs": [],
   "source": []
  }
 ],
 "metadata": {
  "kernelspec": {
   "display_name": "Python 3",
   "language": "python",
   "name": "python3"
  },
  "language_info": {
   "codemirror_mode": {
    "name": "ipython",
    "version": 3
   },
   "file_extension": ".py",
   "mimetype": "text/x-python",
   "name": "python",
   "nbconvert_exporter": "python",
   "pygments_lexer": "ipython3",
   "version": "3.6.0"
  },
  "toc": {
   "colors": {
    "hover_highlight": "#DAA520",
    "running_highlight": "#FF0000",
    "selected_highlight": "#FFD700"
   },
   "moveMenuLeft": true,
   "nav_menu": {
    "height": "12px",
    "width": "252px"
   },
   "navigate_menu": true,
   "number_sections": false,
   "sideBar": true,
   "threshold": "0",
   "toc_cell": false,
   "toc_section_display": "block",
   "toc_window_display": false
  }
 },
 "nbformat": 4,
 "nbformat_minor": 2
}
