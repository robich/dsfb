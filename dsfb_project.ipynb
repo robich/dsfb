{
 "cells": [
  {
   "cell_type": "code",
   "execution_count": 1,
   "metadata": {
    "ExecuteTime": {
     "end_time": "2017-05-21T19:05:48.418344",
     "start_time": "2017-05-21T19:05:47.851654"
    },
    "collapsed": true
   },
   "outputs": [],
   "source": [
    "import pandas as pd\n",
    "import numpy as np\n",
    "\n",
    "from sklearn import preprocessing"
   ]
  },
  {
   "cell_type": "markdown",
   "metadata": {},
   "source": [
    "# Data Science For Business Project\n",
    "\n",
    "> Contributors: `Genolet Robin` and `Rodrigues Alves Danny`"
   ]
  },
  {
   "cell_type": "markdown",
   "metadata": {},
   "source": [
    "Notebook's organisation:\n",
    "\n",
    "*  [Step 1](#step1)\n",
    "  * [Preprocessing](#preprocessing1)\n",
    "  * [Models](#models1)\n",
    "  * [Models comparison](#modelscomparison1)\n",
    "  * [Unseen datasets](#unseen1)\n",
    "\n",
    "*  [Step 2](#step2)\n",
    "  * [Preprocessing](#preprocessing2)\n",
    "  * [Models](#models2)\n",
    "  * [Models comparison](#modelscomparison2)\n",
    "  * [Unseen datasets](#unseen2)\n",
    "  \n",
    "*  [Step 3](#step3)\n",
    "  * [Preprocessing](#preprocessing3)\n",
    "  * [Models](#models3)\n",
    "  * [Models comparison](#modelscomparison3)\n",
    "  * [Unseen datasets](#unseen3)"
   ]
  },
  {
   "cell_type": "markdown",
   "metadata": {},
   "source": [
    "# <a name=\"step1\"></a> Step 1\n",
    "\n",
    "> Predict the category of each product, based on the reviewText field. View the problem as a multiclass classification (24 product categories).\n",
    ">\n",
    "> f(`reviewText`) -> category\n",
    "\n",
    "## <a name=\"preprocessing1\"></a> Preprocessing"
   ]
  },
  {
   "cell_type": "code",
   "execution_count": 2,
   "metadata": {
    "ExecuteTime": {
     "end_time": "2017-05-21T19:05:51.524861",
     "start_time": "2017-05-21T19:05:48.419869"
    },
    "collapsed": false
   },
   "outputs": [
    {
     "data": {
      "text/html": [
       "<div>\n",
       "<table border=\"1\" class=\"dataframe\">\n",
       "  <thead>\n",
       "    <tr style=\"text-align: right;\">\n",
       "      <th></th>\n",
       "      <th>asin</th>\n",
       "      <th>category</th>\n",
       "      <th>helpful</th>\n",
       "      <th>overall</th>\n",
       "      <th>reviewText</th>\n",
       "      <th>reviewTime</th>\n",
       "      <th>reviewerID</th>\n",
       "      <th>reviewerName</th>\n",
       "      <th>summary</th>\n",
       "      <th>unixReviewTime</th>\n",
       "    </tr>\n",
       "  </thead>\n",
       "  <tbody>\n",
       "    <tr>\n",
       "      <th>0</th>\n",
       "      <td>B000J4HXUC</td>\n",
       "      <td>Sports_and_Outdoors</td>\n",
       "      <td>[1, 1]</td>\n",
       "      <td>5</td>\n",
       "      <td>It's a .50 Caliber Ammo Can. That largely sums...</td>\n",
       "      <td>01 5, 2014</td>\n",
       "      <td>A3QRW0UJPKIAX7</td>\n",
       "      <td>Grant Fritchey</td>\n",
       "      <td>Clean and Exactly as Advertised</td>\n",
       "      <td>1388880000</td>\n",
       "    </tr>\n",
       "    <tr>\n",
       "      <th>1</th>\n",
       "      <td>0983393214</td>\n",
       "      <td>Books</td>\n",
       "      <td>[0, 0]</td>\n",
       "      <td>5</td>\n",
       "      <td>This was a very good book. It kept me excited ...</td>\n",
       "      <td>06 23, 2013</td>\n",
       "      <td>A2SEIOM4H06WTH</td>\n",
       "      <td>TJ</td>\n",
       "      <td>Great read!</td>\n",
       "      <td>1371945600</td>\n",
       "    </tr>\n",
       "    <tr>\n",
       "      <th>2</th>\n",
       "      <td>B003G4FVMY</td>\n",
       "      <td>Grocery_and_Gourmet_Food</td>\n",
       "      <td>[0, 0]</td>\n",
       "      <td>5</td>\n",
       "      <td>If you love coconut the way I do, you can't go...</td>\n",
       "      <td>05 19, 2013</td>\n",
       "      <td>A3GDEXMU9587JX</td>\n",
       "      <td>K. Parsley \"kindlekat\"</td>\n",
       "      <td>If you love coconut, get this coffee</td>\n",
       "      <td>1368921600</td>\n",
       "    </tr>\n",
       "    <tr>\n",
       "      <th>3</th>\n",
       "      <td>B00F9VRNF0</td>\n",
       "      <td>Cell_Phones_and_Accessories</td>\n",
       "      <td>[0, 0]</td>\n",
       "      <td>5</td>\n",
       "      <td>I recently switched from the Galaxy S3 to the ...</td>\n",
       "      <td>04 25, 2014</td>\n",
       "      <td>ASP3J2NEHDN4E</td>\n",
       "      <td>ChriS</td>\n",
       "      <td>Superior Protection!!!</td>\n",
       "      <td>1398384000</td>\n",
       "    </tr>\n",
       "    <tr>\n",
       "      <th>4</th>\n",
       "      <td>B00D5OZQUC</td>\n",
       "      <td>Amazon_Instant_Video</td>\n",
       "      <td>[0, 0]</td>\n",
       "      <td>5</td>\n",
       "      <td>Good show,looks like the gap from season 2 to ...</td>\n",
       "      <td>11 4, 2013</td>\n",
       "      <td>A1EDBI6TBKP9CO</td>\n",
       "      <td>Grants Book Trade</td>\n",
       "      <td>Love the show, thanks for putting Season 3 on ...</td>\n",
       "      <td>1383523200</td>\n",
       "    </tr>\n",
       "  </tbody>\n",
       "</table>\n",
       "</div>"
      ],
      "text/plain": [
       "         asin                     category helpful  overall  \\\n",
       "0  B000J4HXUC          Sports_and_Outdoors  [1, 1]        5   \n",
       "1  0983393214                        Books  [0, 0]        5   \n",
       "2  B003G4FVMY     Grocery_and_Gourmet_Food  [0, 0]        5   \n",
       "3  B00F9VRNF0  Cell_Phones_and_Accessories  [0, 0]        5   \n",
       "4  B00D5OZQUC         Amazon_Instant_Video  [0, 0]        5   \n",
       "\n",
       "                                          reviewText   reviewTime  \\\n",
       "0  It's a .50 Caliber Ammo Can. That largely sums...   01 5, 2014   \n",
       "1  This was a very good book. It kept me excited ...  06 23, 2013   \n",
       "2  If you love coconut the way I do, you can't go...  05 19, 2013   \n",
       "3  I recently switched from the Galaxy S3 to the ...  04 25, 2014   \n",
       "4  Good show,looks like the gap from season 2 to ...   11 4, 2013   \n",
       "\n",
       "       reviewerID            reviewerName  \\\n",
       "0  A3QRW0UJPKIAX7          Grant Fritchey   \n",
       "1  A2SEIOM4H06WTH                      TJ   \n",
       "2  A3GDEXMU9587JX  K. Parsley \"kindlekat\"   \n",
       "3   ASP3J2NEHDN4E                   ChriS   \n",
       "4  A1EDBI6TBKP9CO       Grants Book Trade   \n",
       "\n",
       "                                             summary  unixReviewTime  \n",
       "0                    Clean and Exactly as Advertised      1388880000  \n",
       "1                                        Great read!      1371945600  \n",
       "2               If you love coconut, get this coffee      1368921600  \n",
       "3                             Superior Protection!!!      1398384000  \n",
       "4  Love the show, thanks for putting Season 3 on ...      1383523200  "
      ]
     },
     "execution_count": 2,
     "metadata": {},
     "output_type": "execute_result"
    }
   ],
   "source": [
    "# Load file (we keep the git repo as light as possible by only hosting the .gz's)\n",
    "!rm -f *.json\n",
    "!gunzip -c amazon_step1.json.gz > amazon_step1.json\n",
    "\n",
    "# A first look at the data\n",
    "df1 = pd.read_json('amazon_step1.json', lines=True)\n",
    "df1.head()"
   ]
  },
  {
   "cell_type": "code",
   "execution_count": 3,
   "metadata": {
    "ExecuteTime": {
     "end_time": "2017-05-21T19:05:51.531762",
     "start_time": "2017-05-21T19:05:51.526579"
    },
    "collapsed": false
   },
   "outputs": [
    {
     "data": {
      "text/plain": [
       "asin              object\n",
       "category          object\n",
       "helpful           object\n",
       "overall            int64\n",
       "reviewText        object\n",
       "reviewTime        object\n",
       "reviewerID        object\n",
       "reviewerName      object\n",
       "summary           object\n",
       "unixReviewTime     int64\n",
       "dtype: object"
      ]
     },
     "execution_count": 3,
     "metadata": {},
     "output_type": "execute_result"
    }
   ],
   "source": [
    "# Features name and type\n",
    "df1.dtypes"
   ]
  },
  {
   "cell_type": "code",
   "execution_count": 4,
   "metadata": {
    "ExecuteTime": {
     "end_time": "2017-05-21T19:05:51.538599",
     "start_time": "2017-05-21T19:05:51.533559"
    },
    "collapsed": false
   },
   "outputs": [
    {
     "name": "stdout",
     "output_type": "stream",
     "text": [
      "Number of features: 10\n",
      "Number of samples: 96000\n"
     ]
    }
   ],
   "source": [
    "# Analyze the data: features and sample\n",
    "num_total_samples = len(df1.index)\n",
    "num_total_features = len(df1.columns)\n",
    "print(\"Number of features:\", num_total_features)\n",
    "print(\"Number of samples:\", num_total_samples)"
   ]
  },
  {
   "cell_type": "code",
   "execution_count": 5,
   "metadata": {
    "ExecuteTime": {
     "end_time": "2017-05-21T19:05:51.646680",
     "start_time": "2017-05-21T19:05:51.540645"
    },
    "collapsed": false
   },
   "outputs": [
    {
     "name": "stdout",
     "output_type": "stream",
     "text": [
      "Number of damaged samples: 994\n",
      "Percentage of damaged Samples: 1.0 %\n"
     ]
    }
   ],
   "source": [
    "# Start by counting the number of valid entrie per sample\n",
    "num_valid_entries_per_sample = df1.count(axis=1)\n",
    "# Then compute the total number of complete samples\n",
    "num_complete_samples = num_valid_entries_per_sample.tolist().count(num_total_features)\n",
    "\n",
    "# We can now compute the percenter of damaged sample\n",
    "percentage_damaged_samples = 1 - num_complete_samples/num_total_samples\n",
    "print('Number of damaged samples:', num_total_samples - num_complete_samples)\n",
    "print('Percentage of damaged Samples:', np.around(100*percentage_damaged_samples,decimals=1), '%')"
   ]
  },
  {
   "cell_type": "markdown",
   "metadata": {},
   "source": [
    "It appears that we have some missing data. <br />\n",
    "Let's see the number of valid entries for each feature"
   ]
  },
  {
   "cell_type": "code",
   "execution_count": 6,
   "metadata": {
    "ExecuteTime": {
     "end_time": "2017-05-21T19:05:51.753098",
     "start_time": "2017-05-21T19:05:51.648349"
    },
    "collapsed": false
   },
   "outputs": [
    {
     "name": "stdout",
     "output_type": "stream",
     "text": [
      "Number of valid entrie perf feature: \n",
      "reviewerName      95006\n",
      "asin              96000\n",
      "category          96000\n",
      "helpful           96000\n",
      "overall           96000\n",
      "reviewText        96000\n",
      "reviewTime        96000\n",
      "reviewerID        96000\n",
      "summary           96000\n",
      "unixReviewTime    96000\n",
      "dtype: int64\n"
     ]
    }
   ],
   "source": [
    "num_valid_entries_per_feature = df1.count(axis=0).sort_values()\n",
    "print(\"Number of valid entrie perf feature: \")\n",
    "print(num_valid_entries_per_feature)"
   ]
  },
  {
   "cell_type": "markdown",
   "metadata": {},
   "source": [
    "Only `reviewerName` is sometimes missing (994 times to be precise). We will see how to deal with it later."
   ]
  },
  {
   "cell_type": "code",
   "execution_count": 7,
   "metadata": {
    "ExecuteTime": {
     "end_time": "2017-05-21T19:05:51.857284",
     "start_time": "2017-05-21T19:05:51.754492"
    },
    "collapsed": false
   },
   "outputs": [
    {
     "data": {
      "text/plain": [
       "asin                0\n",
       "category            0\n",
       "helpful             0\n",
       "overall             0\n",
       "reviewText          0\n",
       "reviewTime          0\n",
       "reviewerID          0\n",
       "reviewerName      994\n",
       "summary             0\n",
       "unixReviewTime      0\n",
       "dtype: int64"
      ]
     },
     "execution_count": 7,
     "metadata": {},
     "output_type": "execute_result"
    }
   ],
   "source": [
    "df1.isnull().sum()"
   ]
  },
  {
   "cell_type": "markdown",
   "metadata": {},
   "source": [
    "### We now present the preprocessing choices for each features\n",
    "\n",
    "As stated in the project description, we will mainly rely on the **reviewText** feature. Nevertheless, we decide to take a look into each other feature and try to see if we can extract some useful information from them in order to improve our models."
   ]
  },
  {
   "cell_type": "markdown",
   "metadata": {},
   "source": [
    "### asin\n",
    "> Defintion: `amazon standard identification number which is unique for each product`\n",
    "\n",
    "This feature will obvisously not bring useful information for the task we want to perform. We drop it. Another option would have been to use it as the index for each row, but we decided to go with the regular incremental index from pandas dataframe."
   ]
  },
  {
   "cell_type": "code",
   "execution_count": 8,
   "metadata": {
    "ExecuteTime": {
     "end_time": "2017-05-21T19:05:51.876106",
     "start_time": "2017-05-21T19:05:51.858531"
    },
    "collapsed": true
   },
   "outputs": [],
   "source": [
    "df1 = df1.drop(['asin'], axis=1)"
   ]
  },
  {
   "cell_type": "markdown",
   "metadata": {},
   "source": [
    "### category\n",
    "> Definition: `category of the product`\n",
    "\n",
    "This is the target feature for part I of the project.<br />\n",
    "We see below that the frequency of each category is equal<br />\n",
    "This is a great news since we will be able to use a simple accuracy score to rank our different models.<br />\n",
    "Moreover, it will be easy to sample a subset of the dataset if need be (e.g. to test a model on small data to improve speed)."
   ]
  },
  {
   "cell_type": "code",
   "execution_count": 9,
   "metadata": {
    "ExecuteTime": {
     "end_time": "2017-05-21T19:05:52.412290",
     "start_time": "2017-05-21T19:05:51.877585"
    },
    "collapsed": false
   },
   "outputs": [
    {
     "data": {
      "image/png": "[encoded data removed]",
      "text/plain": [
       "<matplotlib.figure.Figure at 0x7fe55beeb2b0>"
      ]
     },
     "metadata": {},
     "output_type": "display_data"
    }
   ],
   "source": [
    "import matplotlib.pyplot as plt\n",
    "df1[\"category\"].value_counts().plot(kind='bar')\n",
    "plt.show()"
   ]
  },
  {
   "cell_type": "markdown",
   "metadata": {},
   "source": [
    "### helpful\n",
    "> Definition: `[x,y]: x is the number of helpful ticks and y is the number of total ticks`\n",
    "\n",
    "This features is not useful in it's actual form, but we think that we can take advantage of the information it contains. Indeed, it's reasonable to think that a five stars product might have a bigger ratio x/y than a one start product. Therefore, we decide to create a new feature from the *helpful* one: **helpfulPercentage**."
   ]
  },
  {
   "cell_type": "code",
   "execution_count": 10,
   "metadata": {
    "ExecuteTime": {
     "end_time": "2017-05-21T19:05:52.499749",
     "start_time": "2017-05-21T19:05:52.414192"
    },
    "collapsed": false
   },
   "outputs": [
    {
     "data": {
      "text/plain": [
       "20417    1.561853\n",
       "4364    -0.751631\n",
       "37170   -0.751631\n",
       "79613   -0.751631\n",
       "65244   -0.751631\n",
       "Name: helpfulPercentage, dtype: float64"
      ]
     },
     "execution_count": 10,
     "metadata": {},
     "output_type": "execute_result"
    }
   ],
   "source": [
    "from ast import literal_eval\n",
    "from sklearn.preprocessing import StandardScaler\n",
    "\n",
    "# Compute the new feature 'helpfulPercentage'\n",
    "def createHelpfulPercentage(df):\n",
    "    # First, check if the column 'helpful' is a list or not. If not, convert it.\n",
    "    if not isinstance(df.helpful[0], list):\n",
    "        df.helpful = df.helpful.apply(literal_eval)\n",
    "    df[\"helpfulPercentage\"] = df.helpful.apply(lambda x: x[0]/x[1] if x[1] != 0 else 0)\n",
    "\n",
    "createHelpfulPercentage(df1)\n",
    "\n",
    "# Standardize the feature\n",
    "scalerHelpful = StandardScaler()\n",
    "df1.helpfulPercentage = scalerHelpful.fit_transform(df1.helpfulPercentage.values.reshape(-1,1))\n",
    "\n",
    "# Remove the 'old' one\n",
    "df1 = df1.drop([\"helpful\"], axis=1)\n",
    "\n",
    "df1.helpfulPercentage.sample(5)"
   ]
  },
  {
   "cell_type": "markdown",
   "metadata": {},
   "source": [
    "> Notice that to standardize the newly created feature, we use a **StandardScaler** object and not the *scale()* method from sklearn. Both ways result in the same result, but with the StandardScaler object, we will be able to reuse it, already trained or *fit*, with the unseen data"
   ]
  },
  {
   "cell_type": "markdown",
   "metadata": {},
   "source": [
    "### overall\n",
    "> Definition: `overal rating of the product in the range of [1,2,3,4,5]`\n",
    "\n",
    "This is the target feature for parts II and II of the project\n",
    "\n",
    "We can see that the mean for each category are quite close one to the other and except for the category *Apps_for_Android*, they are all above 4 (apparently, people rate products positevely). It also means that the data will be skewed for step 3."
   ]
  },
  {
   "cell_type": "code",
   "execution_count": 11,
   "metadata": {
    "ExecuteTime": {
     "end_time": "2017-05-21T19:05:52.813498",
     "start_time": "2017-05-21T19:05:52.501186"
    },
    "collapsed": false
   },
   "outputs": [
    {
     "name": "stdout",
     "output_type": "stream",
     "text": [
      "category\n",
      "Amazon_Instant_Video           4.21125\n",
      "Apps_for_Android               3.96325\n",
      "Automotive                     4.45325\n",
      "Baby                           4.22200\n",
      "Beauty                         4.18700\n",
      "Books                          4.26575\n",
      "CDs_and_Vinyl                  4.27800\n",
      "Cell_Phones_and_Accessories    4.12600\n",
      "Clothing_Shoes_and_Jewelry     4.25000\n",
      "Digital_Music                  4.22650\n",
      "Electronics                    4.23575\n",
      "Grocery_and_Gourmet_Food       4.25825\n",
      "Health_and_Personal_Care       4.24675\n",
      "Home_and_Kitchen               4.32525\n",
      "Kindle_Store                   4.35850\n",
      "Movies_and_TV                  4.12200\n",
      "Musical_Instruments            4.49550\n",
      "Office_Products                4.34450\n",
      "Patio_Lawn_and_Garden          4.21875\n",
      "Pet_Supplies                   4.22325\n",
      "Sports_and_Outdoors            4.40150\n",
      "Tools_and_Home_Improvement     4.35275\n",
      "Toys_and_Games                 4.38350\n",
      "Video_Games                    4.09725\n",
      "Name: overall, dtype: float64\n"
     ]
    },
    {
     "data": {
      "image/png": "[encoded data removed]",
      "text/plain": [
       "<matplotlib.figure.Figure at 0x7fe55ba08eb8>"
      ]
     },
     "metadata": {},
     "output_type": "display_data"
    }
   ],
   "source": [
    "print(df1.groupby(\"category\")[\"overall\"].mean())\n",
    "\n",
    "df1.groupby(\"category\")[\"overall\"].mean().plot(kind='bar')\n",
    "plt.show()"
   ]
  },
  {
   "cell_type": "markdown",
   "metadata": {},
   "source": [
    "### reviewText\n",
    "> Definition: `text of the review`\n",
    "\n",
    "This is the main feature on which we need to rely on. It's text, so we need to transform it into a numerical form.\n",
    "\n",
    "But before doing so, we decided to extract some information from this feature.\n",
    "\n",
    "Firstly, we create a new feature **reviewTextLenght**. The name describe perfectly the feature."
   ]
  },
  {
   "cell_type": "code",
   "execution_count": 12,
   "metadata": {
    "ExecuteTime": {
     "end_time": "2017-05-21T19:05:52.879035",
     "start_time": "2017-05-21T19:05:52.814942"
    },
    "collapsed": false
   },
   "outputs": [
    {
     "name": "stderr",
     "output_type": "stream",
     "text": [
      "/home/ra-danny/anaconda36/lib/python3.6/site-packages/sklearn/utils/validation.py:429: DataConversionWarning: Data with input dtype int64 was converted to float64 by StandardScaler.\n",
      "  warnings.warn(msg, _DataConversionWarning)\n"
     ]
    },
    {
     "data": {
      "text/plain": [
       "2061     0.211085\n",
       "66286   -0.631406\n",
       "47732   -0.484673\n",
       "57782   -0.616733\n",
       "63727   -0.658307\n",
       "Name: reviewTextLength, dtype: float64"
      ]
     },
     "execution_count": 12,
     "metadata": {},
     "output_type": "execute_result"
    }
   ],
   "source": [
    "# Compute the feature\n",
    "def createTextLength(df, feature):\n",
    "    name = feature + \"Length\"\n",
    "    df[name] = df[feature].apply(lambda x: len(x))\n",
    "    df[name] = pd.to_numeric(df[name])\n",
    "    \n",
    "createTextLength(df1, \"reviewText\")\n",
    "\n",
    "# Standardize the new feature\n",
    "scalerTextLength = StandardScaler()\n",
    "df1.reviewTextLength = scalerTextLength.fit_transform(df1.reviewTextLength.values.reshape(-1,1))\n",
    "\n",
    "df1.reviewTextLength.sample(5)"
   ]
  },
  {
   "cell_type": "markdown",
   "metadata": {},
   "source": [
    "We also create features that capture the amount of punctuation that is used, namely **points**, **exclamation marks**, **question marks**, and **comas**. "
   ]
  },
  {
   "cell_type": "code",
   "execution_count": 13,
   "metadata": {
    "ExecuteTime": {
     "end_time": "2017-05-21T19:05:53.374451",
     "start_time": "2017-05-21T19:05:52.881075"
    },
    "collapsed": false
   },
   "outputs": [
    {
     "name": "stderr",
     "output_type": "stream",
     "text": [
      "/home/ra-danny/anaconda36/lib/python3.6/site-packages/sklearn/utils/validation.py:429: DataConversionWarning: Data with input dtype int64 was converted to float64 by StandardScaler.\n",
      "  warnings.warn(msg, _DataConversionWarning)\n"
     ]
    },
    {
     "data": {
      "text/html": [
       "<div>\n",
       "<table border=\"1\" class=\"dataframe\">\n",
       "  <thead>\n",
       "    <tr style=\"text-align: right;\">\n",
       "      <th></th>\n",
       "      <th>reviewTextCountPoints</th>\n",
       "      <th>reviewTextCountExcl</th>\n",
       "      <th>reviewTextCountInterr</th>\n",
       "      <th>reviewTextCountComas</th>\n",
       "    </tr>\n",
       "  </thead>\n",
       "  <tbody>\n",
       "    <tr>\n",
       "      <th>23447</th>\n",
       "      <td>2.564028</td>\n",
       "      <td>1.329186</td>\n",
       "      <td>5.739383</td>\n",
       "      <td>2.346037</td>\n",
       "    </tr>\n",
       "    <tr>\n",
       "      <th>29467</th>\n",
       "      <td>-0.470575</td>\n",
       "      <td>-0.341411</td>\n",
       "      <td>-0.218245</td>\n",
       "      <td>-0.314387</td>\n",
       "    </tr>\n",
       "    <tr>\n",
       "      <th>2009</th>\n",
       "      <td>-0.253817</td>\n",
       "      <td>-0.341411</td>\n",
       "      <td>-0.218245</td>\n",
       "      <td>-0.567760</td>\n",
       "    </tr>\n",
       "    <tr>\n",
       "      <th>89056</th>\n",
       "      <td>-0.362196</td>\n",
       "      <td>-0.341411</td>\n",
       "      <td>-0.218245</td>\n",
       "      <td>0.192361</td>\n",
       "    </tr>\n",
       "    <tr>\n",
       "      <th>55453</th>\n",
       "      <td>-0.037060</td>\n",
       "      <td>0.772321</td>\n",
       "      <td>-0.218245</td>\n",
       "      <td>-0.314387</td>\n",
       "    </tr>\n",
       "  </tbody>\n",
       "</table>\n",
       "</div>"
      ],
      "text/plain": [
       "       reviewTextCountPoints  reviewTextCountExcl  reviewTextCountInterr  \\\n",
       "23447               2.564028             1.329186               5.739383   \n",
       "29467              -0.470575            -0.341411              -0.218245   \n",
       "2009               -0.253817            -0.341411              -0.218245   \n",
       "89056              -0.362196            -0.341411              -0.218245   \n",
       "55453              -0.037060             0.772321              -0.218245   \n",
       "\n",
       "       reviewTextCountComas  \n",
       "23447              2.346037  \n",
       "29467             -0.314387  \n",
       "2009              -0.567760  \n",
       "89056              0.192361  \n",
       "55453             -0.314387  "
      ]
     },
     "execution_count": 13,
     "metadata": {},
     "output_type": "execute_result"
    }
   ],
   "source": [
    "def count_char(row, char):\n",
    "    return row.count(char)\n",
    "\n",
    "def createTextPunctuationFeatures(df, feature):\n",
    "    df[feature+\"CountPoints\"] = df[feature].apply(count_char, args=(\".\"))\n",
    "    df[feature+\"CountExcl\"] = df[feature].apply(count_char, args=(\"!\"))\n",
    "    df[feature+\"CountInterr\"] = df[feature].apply(count_char, args=(\"?\"))\n",
    "    df[feature+\"CountComas\"] = df[feature].apply(count_char, args=(\",\"))\n",
    "\n",
    "createTextPunctuationFeatures(df1, \"reviewText\")\n",
    "\n",
    "\n",
    "# Standardize all new features\n",
    "scalerCountPoints = StandardScaler()\n",
    "scalerCountExcl = StandardScaler()\n",
    "scalerCountInterr = StandardScaler()\n",
    "scalerCountComas = StandardScaler()\n",
    "\n",
    "df1.reviewTextCountPoints = scalerCountPoints.fit_transform(df1.reviewTextCountPoints.values.reshape(-1,1))\n",
    "df1.reviewTextCountExcl = scalerCountExcl.fit_transform(df1.reviewTextCountExcl.values.reshape(-1,1))\n",
    "df1.reviewTextCountInterr = scalerCountInterr.fit_transform(df1.reviewTextCountInterr.values.reshape(-1,1))\n",
    "df1.reviewTextCountComas = scalerCountComas.fit_transform(df1.reviewTextCountComas.values.reshape(-1,1))\n",
    "\n",
    "\n",
    "# Output some sample\n",
    "df1[[\"reviewTextCountPoints\", \"reviewTextCountExcl\", \"reviewTextCountInterr\", \"reviewTextCountComas\"]].sample(5)"
   ]
  },
  {
   "cell_type": "markdown",
   "metadata": {},
   "source": [
    "Another created features, that we think is useful to detect a sentiment in a text: presence of smileys in the text"
   ]
  },
  {
   "cell_type": "code",
   "execution_count": 14,
   "metadata": {
    "ExecuteTime": {
     "end_time": "2017-05-21T19:05:53.755034",
     "start_time": "2017-05-21T19:05:53.375985"
    },
    "collapsed": false
   },
   "outputs": [
    {
     "data": {
      "text/html": [
       "<div>\n",
       "<table border=\"1\" class=\"dataframe\">\n",
       "  <thead>\n",
       "    <tr style=\"text-align: right;\">\n",
       "      <th></th>\n",
       "      <th>reviewTextPositiveSmiley</th>\n",
       "      <th>reviewTextNegativeSmiley</th>\n",
       "    </tr>\n",
       "  </thead>\n",
       "  <tbody>\n",
       "    <tr>\n",
       "      <th>84189</th>\n",
       "      <td>0</td>\n",
       "      <td>0</td>\n",
       "    </tr>\n",
       "    <tr>\n",
       "      <th>41510</th>\n",
       "      <td>0</td>\n",
       "      <td>0</td>\n",
       "    </tr>\n",
       "    <tr>\n",
       "      <th>545</th>\n",
       "      <td>0</td>\n",
       "      <td>0</td>\n",
       "    </tr>\n",
       "    <tr>\n",
       "      <th>36776</th>\n",
       "      <td>0</td>\n",
       "      <td>0</td>\n",
       "    </tr>\n",
       "    <tr>\n",
       "      <th>59587</th>\n",
       "      <td>0</td>\n",
       "      <td>0</td>\n",
       "    </tr>\n",
       "  </tbody>\n",
       "</table>\n",
       "</div>"
      ],
      "text/plain": [
       "       reviewTextPositiveSmiley  reviewTextNegativeSmiley\n",
       "84189                         0                         0\n",
       "41510                         0                         0\n",
       "545                           0                         0\n",
       "36776                         0                         0\n",
       "59587                         0                         0"
      ]
     },
     "execution_count": 14,
     "metadata": {},
     "output_type": "execute_result"
    }
   ],
   "source": [
    "# Build two new features in relation with the presence of smileys in a textual feature\n",
    "# Return 'True' if a smiley is in the text, 'False' otherway\n",
    "def contains_smiley(df, feature):\n",
    "    df[feature+\"PositiveSmiley\"] = df[feature].apply(lambda x: 1 * ((\":)\" in x) or (\":D\" in x) or (\";)\" in x) ))\n",
    "    df[feature+\"NegativeSmiley\"] = df[feature].apply(lambda x: 1 * (\":(\" in x) )\n",
    "\n",
    "contains_smiley(df1, \"reviewText\")\n",
    "\n",
    "# Since this is a boolean feature (0 or 1), no need to standardize\n",
    "\n",
    "df1[[\"reviewTextPositiveSmiley\", \"reviewTextNegativeSmiley\"]].sample(5)"
   ]
  },
  {
   "cell_type": "markdown",
   "metadata": {},
   "source": [
    "Another feature that we think may have an impact on the sentiment of the review: presence of words written in capital letters."
   ]
  },
  {
   "cell_type": "code",
   "execution_count": 15,
   "metadata": {
    "ExecuteTime": {
     "end_time": "2017-05-21T19:05:55.096920",
     "start_time": "2017-05-21T19:05:53.756454"
    },
    "collapsed": false
   },
   "outputs": [
    {
     "data": {
      "text/plain": [
       "21259     True\n",
       "2988     False\n",
       "4645      True\n",
       "30359    False\n",
       "62552    False\n",
       "Name: reviewTextAllCAPS, dtype: bool"
      ]
     },
     "execution_count": 15,
     "metadata": {},
     "output_type": "execute_result"
    }
   ],
   "source": [
    "# Build a new feature into a dataframe: 'AllCAPS'. \n",
    "#This feature will be created from a textual feature (the argument 'feature')\n",
    "def createALLCAPS(df, feature):\n",
    "    \n",
    "    # Return True is the given string contains a words with only capital letters\n",
    "    # and if that word is composed of more than 3 characters (avoid acronymns, or sentence start like 'A')\n",
    "    def containsALLCAPSword(string):\n",
    "        containsUpper = False\n",
    "        for w in string.split(' '):\n",
    "            if (w.isupper() and len(w)>3):\n",
    "                containsUpper = True\n",
    "                break\n",
    "        return containsUpper\n",
    "    \n",
    "    df[feature+\"AllCAPS\"] = df[feature].apply(lambda x : containsALLCAPSword(x))\n",
    "\n",
    "# Create the new feature. Again boolean feature, no need to standardize\n",
    "createALLCAPS(df1, \"reviewText\")\n",
    "\n",
    "df1.reviewTextAllCAPS.sample(5)"
   ]
  },
  {
   "cell_type": "markdown",
   "metadata": {},
   "source": [
    "Now that we have built all desired new features from the textual feature `reviewText`, we will need to transform this feature into a numercial one. For this, we will tokenize the features, apply english stop-words removing, use stemming and compute the TF-IDF score for each token. \n",
    "\n",
    "Since this type of operation will be use often through this notebook, we decide to build a pipeline transforming textual features into a numerical one."
   ]
  },
  {
   "cell_type": "code",
   "execution_count": 16,
   "metadata": {
    "ExecuteTime": {
     "end_time": "2017-05-21T19:05:55.313537",
     "start_time": "2017-05-21T19:05:55.098840"
    },
    "collapsed": true
   },
   "outputs": [],
   "source": [
    "from sklearn.feature_extraction.text import CountVectorizer\n",
    "from sklearn.feature_extraction.text import TfidfTransformer\n",
    "from sklearn.pipeline import Pipeline\n",
    "from nltk.stem.snowball import EnglishStemmer"
   ]
  },
  {
   "cell_type": "code",
   "execution_count": 17,
   "metadata": {
    "ExecuteTime": {
     "end_time": "2017-05-21T19:05:55.321247",
     "start_time": "2017-05-21T19:05:55.314770"
    },
    "collapsed": true
   },
   "outputs": [],
   "source": [
    "stemmer = EnglishStemmer()\n",
    "analyzer = CountVectorizer().build_analyzer()\n",
    "\n",
    "# Function applying stemming\n",
    "def stemmed_words(doc):\n",
    "    return (stemmer.stem(w) for w in analyzer(doc))\n",
    "\n",
    "# Reviews are written in english\n",
    "stop_words = 'english'\n",
    "\n",
    "# We tokenize all the words, removing stop words (for english language) and then compute a TF-IDF score for each token\n",
    "pipe_modified = Pipeline([('vectorize_stem', CountVectorizer(stop_words=stop_words,analyzer=stemmed_words, min_df=5, max_df=0.8)),\n",
    "                          ('compute_tfidf', TfidfTransformer())])"
   ]
  },
  {
   "cell_type": "markdown",
   "metadata": {},
   "source": [
    "### reviewTime\n",
    "> Definition: `time of writing the review in normal format`\n",
    "\n",
    "We think that we cannot retrieve useful information from this features. We decide to drop it."
   ]
  },
  {
   "cell_type": "code",
   "execution_count": 18,
   "metadata": {
    "ExecuteTime": {
     "end_time": "2017-05-21T19:05:55.339440",
     "start_time": "2017-05-21T19:05:55.322466"
    },
    "collapsed": true
   },
   "outputs": [],
   "source": [
    "df1 = df1.drop([\"reviewTime\"], axis=1)"
   ]
  },
  {
   "cell_type": "markdown",
   "metadata": {},
   "source": [
    "### reviewerID\n",
    "> Definition: `id of the reviewer`"
   ]
  },
  {
   "cell_type": "markdown",
   "metadata": {
    "ExecuteTime": {
     "end_time": "2017-05-13T17:05:09.947462",
     "start_time": "2017-05-13T17:05:06.041037"
    }
   },
   "source": [
    "We decide to drop this feature. Nevertheless, we think that some possible intersting information may be hide with `reviewerID`. \n",
    "\n",
    "We didn't do it for this project, but we think that creating a feature from the `reviewerID` may be a good idea. Some people only rate products for a certain category. For example, a librarian will probably rate more often Books than Pet Supplies. Following that idea, we can create 24 new features, one per category. Each of these feature will correspond to the percentage of reviews that this user did, compare to all others classes."
   ]
  },
  {
   "cell_type": "markdown",
   "metadata": {},
   "source": [
    "### reviewerName\n",
    "> Definition: `name of the reviewer`\n",
    "\n",
    "We decide to drop this feature, as it is redundant with the reviewerId. *(Note that some revierID are asociated with several reviewerNames, but we don't need to deal with it.)*\n",
    "\n",
    "> Since we drop this feature, no need to taking care of the missing values."
   ]
  },
  {
   "cell_type": "code",
   "execution_count": 19,
   "metadata": {
    "ExecuteTime": {
     "end_time": "2017-05-21T19:06:00.170837",
     "start_time": "2017-05-21T19:05:55.340745"
    },
    "collapsed": false
   },
   "outputs": [
    {
     "data": {
      "text/plain": [
       "reviewerID\n",
       "A2DG63DN704LOI           3\n",
       "A3R5GTYQ50QVMD           3\n",
       "AAV45IBIJCSWN            3\n",
       "AWJBO5XGIW8ZS            2\n",
       "A3SJNPFFJIPT4U           2\n",
       "A1S0D037M0D71X           2\n",
       "A70NFM6KHU24F            2\n",
       "AX47EVO5R71HI            2\n",
       "A2FTHCGH06O4Y5           2\n",
       "AJC1CRUPPTWNW            2\n",
       "A2NCWLAWOVCKF7           2\n",
       "AFICF7DKHTQ87            2\n",
       "A3D4YTF8EL8YKH           2\n",
       "A1AHJMZVJUR1GC           2\n",
       "A13GFMDEPD0776           2\n",
       "ADDT2MU773IYL            2\n",
       "A2SZ4Q10WWZZO7           2\n",
       "A2I98OOPNIJNYY           2\n",
       "A1M7VLUUTO1NRL           2\n",
       "A3IEAYDS24L2IK           2\n",
       "AYUJYN6K5UBKM            2\n",
       "AZFODJ6KW6KQH            2\n",
       "A3PBPEFMYAX0CT           2\n",
       "A1JRD2Z3ESN8E9           2\n",
       "A3NGABXDIB0POU           2\n",
       "A3SI53R6YBH1XW           2\n",
       "A15PUBCS4N4G60           2\n",
       "A2EN82VBJT44QP           2\n",
       "A11FWFZNI2VQT            2\n",
       "ACDJL2NYQL0GT            2\n",
       "                        ..\n",
       "A3JA893PH2V0F7           1\n",
       "A3JB45FLJWJ563           1\n",
       "A3JAVLC91VL5KE           1\n",
       "A3JASVF01JUMV8           1\n",
       "A3JAROGQ2RN6L2           1\n",
       "A3JAR8K4EF94ZO           1\n",
       "A3JAQCCJAF9AH8           1\n",
       "A3JAITM5A93M0U           1\n",
       "A3JAG2Z79Y6VNA           1\n",
       "A3JADS9AZXTBAG           1\n",
       "A3JAC90CICBB5T           1\n",
       "A3JAAB4G1R7YIC           1\n",
       "A3JA9Y564YMWLF           1\n",
       "A3JA8EXHWOUV6M           1\n",
       "A3JA80DEUKKILA           1\n",
       "A3J9B8X7OJFJKR           1\n",
       "A3JA4JDIWIOO06           1\n",
       "A3JA2ORXXFB8FF           1\n",
       "A3JA2OB28804OD           1\n",
       "A3JA28M256ODD7           1\n",
       "A3JA0TUHTU0XUJ           1\n",
       "A3JA0F5LC6SYV7           1\n",
       "A3J9Z79JM8UB8J           1\n",
       "A3J9Y6KCZ1IMGE           1\n",
       "A3J9T84USTXM9Y           1\n",
       "A3J9SCGJG4E2X6           1\n",
       "A3J9LMY11O2BDX           1\n",
       "A3J9LLWHZH15HG           1\n",
       "A3J9CH217FP2TG           1\n",
       "A00625243BI8W1SSZNLMD    1\n",
       "Name: reviewerName, dtype: int64"
      ]
     },
     "execution_count": 19,
     "metadata": {},
     "output_type": "execute_result"
    }
   ],
   "source": [
    "# Compute the number of different names used per 'reviewerIDs'\n",
    "names_per_id = df1.groupby('reviewerID')[\"reviewerName\"].unique()\n",
    "names_count = names_per_id.apply(lambda x : len(x))\n",
    "names_count.sort_values(ascending=False)"
   ]
  },
  {
   "cell_type": "code",
   "execution_count": 20,
   "metadata": {
    "ExecuteTime": {
     "end_time": "2017-05-21T19:06:00.190686",
     "start_time": "2017-05-21T19:06:00.172926"
    },
    "collapsed": true
   },
   "outputs": [],
   "source": [
    "df1 = df1.drop([\"reviewerID\", \"reviewerName\"], axis=1)"
   ]
  },
  {
   "cell_type": "markdown",
   "metadata": {
    "ExecuteTime": {
     "end_time": "2017-05-13T17:25:41.039855",
     "start_time": "2017-05-13T17:25:41.031511"
    }
   },
   "source": [
    "### summary\n",
    "> Defintion: `a summary of reviewer's opinion about the product`\n",
    "\n",
    "Let's look at this feature, with the **reviewText** next to it.\n",
    "\n",
    "As for the reviewText, we think that thise feature is really useful. We will be able to use the same pipeline as for `reviewText` to transform this feature to a numerical one. Also, we can create the same type of features from `summary` that we did for `reviewerText` ! We will do so for the step 2 & 3"
   ]
  },
  {
   "cell_type": "code",
   "execution_count": 21,
   "metadata": {
    "ExecuteTime": {
     "end_time": "2017-05-21T19:06:00.217604",
     "start_time": "2017-05-21T19:06:00.192339"
    },
    "collapsed": false
   },
   "outputs": [
    {
     "data": {
      "text/html": [
       "<div>\n",
       "<table border=\"1\" class=\"dataframe\">\n",
       "  <thead>\n",
       "    <tr style=\"text-align: right;\">\n",
       "      <th></th>\n",
       "      <th>reviewText</th>\n",
       "      <th>summary</th>\n",
       "    </tr>\n",
       "  </thead>\n",
       "  <tbody>\n",
       "    <tr>\n",
       "      <th>0</th>\n",
       "      <td>It's a .50 Caliber Ammo Can. That largely sums...</td>\n",
       "      <td>Clean and Exactly as Advertised</td>\n",
       "    </tr>\n",
       "    <tr>\n",
       "      <th>1</th>\n",
       "      <td>This was a very good book. It kept me excited ...</td>\n",
       "      <td>Great read!</td>\n",
       "    </tr>\n",
       "    <tr>\n",
       "      <th>2</th>\n",
       "      <td>If you love coconut the way I do, you can't go...</td>\n",
       "      <td>If you love coconut, get this coffee</td>\n",
       "    </tr>\n",
       "    <tr>\n",
       "      <th>3</th>\n",
       "      <td>I recently switched from the Galaxy S3 to the ...</td>\n",
       "      <td>Superior Protection!!!</td>\n",
       "    </tr>\n",
       "    <tr>\n",
       "      <th>4</th>\n",
       "      <td>Good show,looks like the gap from season 2 to ...</td>\n",
       "      <td>Love the show, thanks for putting Season 3 on ...</td>\n",
       "    </tr>\n",
       "    <tr>\n",
       "      <th>5</th>\n",
       "      <td>I'm ordering more of these spoons, as one just...</td>\n",
       "      <td>Perfect for babies</td>\n",
       "    </tr>\n",
       "    <tr>\n",
       "      <th>6</th>\n",
       "      <td>We installed some sensor lights in the house f...</td>\n",
       "      <td>Nice little sensor light, good for  power fail...</td>\n",
       "    </tr>\n",
       "    <tr>\n",
       "      <th>7</th>\n",
       "      <td>It was 1979 and the B-52s were on Saturday Nig...</td>\n",
       "      <td>Defining An Era</td>\n",
       "    </tr>\n",
       "    <tr>\n",
       "      <th>8</th>\n",
       "      <td>My Manchester terrier eats so fast she chokes ...</td>\n",
       "      <td>Perfect Solution For Dogs That Gobble Food Too...</td>\n",
       "    </tr>\n",
       "    <tr>\n",
       "      <th>9</th>\n",
       "      <td>This movie starts off with some clever and fun...</td>\n",
       "      <td>Reverse Cinderella just doesn't cut it.</td>\n",
       "    </tr>\n",
       "    <tr>\n",
       "      <th>10</th>\n",
       "      <td>I bought one of these for each of my four cont...</td>\n",
       "      <td>Same as the other 1 star reviews...</td>\n",
       "    </tr>\n",
       "    <tr>\n",
       "      <th>11</th>\n",
       "      <td>I have to start by first saying at the end I w...</td>\n",
       "      <td>The Unfinished Song: Sacrifice</td>\n",
       "    </tr>\n",
       "    <tr>\n",
       "      <th>12</th>\n",
       "      <td>I purchased this scope to go along with my UTG...</td>\n",
       "      <td>Excellent Scope</td>\n",
       "    </tr>\n",
       "    <tr>\n",
       "      <th>13</th>\n",
       "      <td>I like this Leash , it is very light , an comp...</td>\n",
       "      <td>Works</td>\n",
       "    </tr>\n",
       "    <tr>\n",
       "      <th>14</th>\n",
       "      <td>These are good covers. They've held up to todd...</td>\n",
       "      <td>So far so good.</td>\n",
       "    </tr>\n",
       "    <tr>\n",
       "      <th>15</th>\n",
       "      <td>This is perfect for my Boston Terrier - she is...</td>\n",
       "      <td>Exactly as pictured</td>\n",
       "    </tr>\n",
       "    <tr>\n",
       "      <th>16</th>\n",
       "      <td>good quality plastic. Easy install template in...</td>\n",
       "      <td>good quality, easy to install</td>\n",
       "    </tr>\n",
       "    <tr>\n",
       "      <th>17</th>\n",
       "      <td>There are a few types of board games but only ...</td>\n",
       "      <td>Not another \"Bored\" on a Board</td>\n",
       "    </tr>\n",
       "    <tr>\n",
       "      <th>18</th>\n",
       "      <td>This is much lighter than my Frieling french p...</td>\n",
       "      <td>I love it</td>\n",
       "    </tr>\n",
       "    <tr>\n",
       "      <th>19</th>\n",
       "      <td>Sexaaay! I loved this book. The detail and des...</td>\n",
       "      <td>Sexy!</td>\n",
       "    </tr>\n",
       "    <tr>\n",
       "      <th>20</th>\n",
       "      <td>This most recent purchase of the Tea Bag Stain...</td>\n",
       "      <td>Very practical</td>\n",
       "    </tr>\n",
       "    <tr>\n",
       "      <th>21</th>\n",
       "      <td>Since my athletic shorts don't have side pocke...</td>\n",
       "      <td>Great lightweight carry-all</td>\n",
       "    </tr>\n",
       "    <tr>\n",
       "      <th>22</th>\n",
       "      <td>I was a bit bored with the mindless style ofAl...</td>\n",
       "      <td>I had almost Bought INFERNO+ a Couple Days Ago</td>\n",
       "    </tr>\n",
       "    <tr>\n",
       "      <th>23</th>\n",
       "      <td>I don't know what happened but one day I notic...</td>\n",
       "      <td>It really works</td>\n",
       "    </tr>\n",
       "    <tr>\n",
       "      <th>24</th>\n",
       "      <td>I think that I have a problem. I have not seen...</td>\n",
       "      <td>I am just not sure how to rate this!</td>\n",
       "    </tr>\n",
       "    <tr>\n",
       "      <th>25</th>\n",
       "      <td>A bit dull! Not so great. But I guess they do ...</td>\n",
       "      <td>Ehhhh</td>\n",
       "    </tr>\n",
       "    <tr>\n",
       "      <th>26</th>\n",
       "      <td>Bought this shadow and when you think of cherr...</td>\n",
       "      <td>Not \"cherry\"</td>\n",
       "    </tr>\n",
       "    <tr>\n",
       "      <th>27</th>\n",
       "      <td>I've ordered two of these kits in the aged whi...</td>\n",
       "      <td>Why No Protective Covering For The Back Plate???</td>\n",
       "    </tr>\n",
       "    <tr>\n",
       "      <th>28</th>\n",
       "      <td>The Morgan Sister series is fastly become one ...</td>\n",
       "      <td>Friend or Foe?</td>\n",
       "    </tr>\n",
       "    <tr>\n",
       "      <th>29</th>\n",
       "      <td>Duran's weeklong homecoming concerts at Wemble...</td>\n",
       "      <td>The original lineup is awesome</td>\n",
       "    </tr>\n",
       "    <tr>\n",
       "      <th>...</th>\n",
       "      <td>...</td>\n",
       "      <td>...</td>\n",
       "    </tr>\n",
       "    <tr>\n",
       "      <th>95970</th>\n",
       "      <td>Porcupine was my favorite Bunnymen album for t...</td>\n",
       "      <td>A fine transitional album</td>\n",
       "    </tr>\n",
       "    <tr>\n",
       "      <th>95971</th>\n",
       "      <td>I could not get this to work. I'm sure it's ju...</td>\n",
       "      <td>No Workie</td>\n",
       "    </tr>\n",
       "    <tr>\n",
       "      <th>95972</th>\n",
       "      <td>This watch felt very cheaply made when I first...</td>\n",
       "      <td>Feels cheap but has held up well.</td>\n",
       "    </tr>\n",
       "    <tr>\n",
       "      <th>95973</th>\n",
       "      <td>...Be aware that many of the tracks bear littl...</td>\n",
       "      <td>If you're considering this as a learning tool ...</td>\n",
       "    </tr>\n",
       "    <tr>\n",
       "      <th>95974</th>\n",
       "      <td>Best driving game I have ever played in a long...</td>\n",
       "      <td>Love the ride</td>\n",
       "    </tr>\n",
       "    <tr>\n",
       "      <th>95975</th>\n",
       "      <td>I remember these from high school.  They requi...</td>\n",
       "      <td>Love these loafers</td>\n",
       "    </tr>\n",
       "    <tr>\n",
       "      <th>95976</th>\n",
       "      <td>Great little camera for the price. Simple &amp; ta...</td>\n",
       "      <td>Great Value!</td>\n",
       "    </tr>\n",
       "    <tr>\n",
       "      <th>95977</th>\n",
       "      <td>These little tabs are very handy.  They're ess...</td>\n",
       "      <td>Very handy!</td>\n",
       "    </tr>\n",
       "    <tr>\n",
       "      <th>95978</th>\n",
       "      <td>For me, they are a bit too soft to actually re...</td>\n",
       "      <td>Bristles are very soft</td>\n",
       "    </tr>\n",
       "    <tr>\n",
       "      <th>95979</th>\n",
       "      <td>this is a wonderful product. It coved the grey...</td>\n",
       "      <td>eyebrow tint</td>\n",
       "    </tr>\n",
       "    <tr>\n",
       "      <th>95980</th>\n",
       "      <td>Our first weekend out with this tent we got ca...</td>\n",
       "      <td>Amazing in high wind.</td>\n",
       "    </tr>\n",
       "    <tr>\n",
       "      <th>95981</th>\n",
       "      <td>It applied as described, I have put wax on it ...</td>\n",
       "      <td>Clear spray</td>\n",
       "    </tr>\n",
       "    <tr>\n",
       "      <th>95982</th>\n",
       "      <td>I cant find minecraft for kindle fire so I saw...</td>\n",
       "      <td>Pretty cool</td>\n",
       "    </tr>\n",
       "    <tr>\n",
       "      <th>95983</th>\n",
       "      <td>good knife for the money but nothing special!</td>\n",
       "      <td>its okay!</td>\n",
       "    </tr>\n",
       "    <tr>\n",
       "      <th>95984</th>\n",
       "      <td>I purchased this as a backup charging cable fo...</td>\n",
       "      <td>A convenient, compact solution</td>\n",
       "    </tr>\n",
       "    <tr>\n",
       "      <th>95985</th>\n",
       "      <td>Good things about this game:1) Absolutely stun...</td>\n",
       "      <td>Fun if one had a time machine to travel two ye...</td>\n",
       "    </tr>\n",
       "    <tr>\n",
       "      <th>95986</th>\n",
       "      <td>This is the oem version of the mercedes one. I...</td>\n",
       "      <td>Fleece filter and comes with the rubbers that ...</td>\n",
       "    </tr>\n",
       "    <tr>\n",
       "      <th>95987</th>\n",
       "      <td>A great and easy install, only hick up --- it ...</td>\n",
       "      <td>A bit large, but works very well.</td>\n",
       "    </tr>\n",
       "    <tr>\n",
       "      <th>95988</th>\n",
       "      <td>This is one of my favourite albums of all time...</td>\n",
       "      <td>one of the best</td>\n",
       "    </tr>\n",
       "    <tr>\n",
       "      <th>95989</th>\n",
       "      <td>My cat loves these cubes and spends much time ...</td>\n",
       "      <td>Feline favorite, but destructible</td>\n",
       "    </tr>\n",
       "    <tr>\n",
       "      <th>95990</th>\n",
       "      <td>I'll try to be succinct:  1.  This isn't as go...</td>\n",
       "      <td>Don't believe the hype -</td>\n",
       "    </tr>\n",
       "    <tr>\n",
       "      <th>95991</th>\n",
       "      <td>One of the bowls arrived broken into pieces.  ...</td>\n",
       "      <td>Poor shipping and hard to use</td>\n",
       "    </tr>\n",
       "    <tr>\n",
       "      <th>95992</th>\n",
       "      <td>I really like this product. At first i was rea...</td>\n",
       "      <td>Good for me</td>\n",
       "    </tr>\n",
       "    <tr>\n",
       "      <th>95993</th>\n",
       "      <td>Aided in my sleep however I had very weird dre...</td>\n",
       "      <td>Helped with Sleep however</td>\n",
       "    </tr>\n",
       "    <tr>\n",
       "      <th>95994</th>\n",
       "      <td>It holds my TV on the wall. Easy to install an...</td>\n",
       "      <td>Exactly what it needs to be.</td>\n",
       "    </tr>\n",
       "    <tr>\n",
       "      <th>95995</th>\n",
       "      <td>I have to agree with the reviewer who said the...</td>\n",
       "      <td>Okay, but not the best</td>\n",
       "    </tr>\n",
       "    <tr>\n",
       "      <th>95996</th>\n",
       "      <td>This flashlight is a little bulky and fits int...</td>\n",
       "      <td>Great little flashlight</td>\n",
       "    </tr>\n",
       "    <tr>\n",
       "      <th>95997</th>\n",
       "      <td>First of all the seller, &amp;#34;ABETRADES&amp;#34; i...</td>\n",
       "      <td>Not the worst, but certainly could have done b...</td>\n",
       "    </tr>\n",
       "    <tr>\n",
       "      <th>95998</th>\n",
       "      <td>I was finally able to install a screen saver o...</td>\n",
       "      <td>Easy to install</td>\n",
       "    </tr>\n",
       "    <tr>\n",
       "      <th>95999</th>\n",
       "      <td>I enjoyed this movie quite a bit. There's alot...</td>\n",
       "      <td>My Review</td>\n",
       "    </tr>\n",
       "  </tbody>\n",
       "</table>\n",
       "<p>96000 rows × 2 columns</p>\n",
       "</div>"
      ],
      "text/plain": [
       "                                              reviewText  \\\n",
       "0      It's a .50 Caliber Ammo Can. That largely sums...   \n",
       "1      This was a very good book. It kept me excited ...   \n",
       "2      If you love coconut the way I do, you can't go...   \n",
       "3      I recently switched from the Galaxy S3 to the ...   \n",
       "4      Good show,looks like the gap from season 2 to ...   \n",
       "5      I'm ordering more of these spoons, as one just...   \n",
       "6      We installed some sensor lights in the house f...   \n",
       "7      It was 1979 and the B-52s were on Saturday Nig...   \n",
       "8      My Manchester terrier eats so fast she chokes ...   \n",
       "9      This movie starts off with some clever and fun...   \n",
       "10     I bought one of these for each of my four cont...   \n",
       "11     I have to start by first saying at the end I w...   \n",
       "12     I purchased this scope to go along with my UTG...   \n",
       "13     I like this Leash , it is very light , an comp...   \n",
       "14     These are good covers. They've held up to todd...   \n",
       "15     This is perfect for my Boston Terrier - she is...   \n",
       "16     good quality plastic. Easy install template in...   \n",
       "17     There are a few types of board games but only ...   \n",
       "18     This is much lighter than my Frieling french p...   \n",
       "19     Sexaaay! I loved this book. The detail and des...   \n",
       "20     This most recent purchase of the Tea Bag Stain...   \n",
       "21     Since my athletic shorts don't have side pocke...   \n",
       "22     I was a bit bored with the mindless style ofAl...   \n",
       "23     I don't know what happened but one day I notic...   \n",
       "24     I think that I have a problem. I have not seen...   \n",
       "25     A bit dull! Not so great. But I guess they do ...   \n",
       "26     Bought this shadow and when you think of cherr...   \n",
       "27     I've ordered two of these kits in the aged whi...   \n",
       "28     The Morgan Sister series is fastly become one ...   \n",
       "29     Duran's weeklong homecoming concerts at Wemble...   \n",
       "...                                                  ...   \n",
       "95970  Porcupine was my favorite Bunnymen album for t...   \n",
       "95971  I could not get this to work. I'm sure it's ju...   \n",
       "95972  This watch felt very cheaply made when I first...   \n",
       "95973  ...Be aware that many of the tracks bear littl...   \n",
       "95974  Best driving game I have ever played in a long...   \n",
       "95975  I remember these from high school.  They requi...   \n",
       "95976  Great little camera for the price. Simple & ta...   \n",
       "95977  These little tabs are very handy.  They're ess...   \n",
       "95978  For me, they are a bit too soft to actually re...   \n",
       "95979  this is a wonderful product. It coved the grey...   \n",
       "95980  Our first weekend out with this tent we got ca...   \n",
       "95981  It applied as described, I have put wax on it ...   \n",
       "95982  I cant find minecraft for kindle fire so I saw...   \n",
       "95983      good knife for the money but nothing special!   \n",
       "95984  I purchased this as a backup charging cable fo...   \n",
       "95985  Good things about this game:1) Absolutely stun...   \n",
       "95986  This is the oem version of the mercedes one. I...   \n",
       "95987  A great and easy install, only hick up --- it ...   \n",
       "95988  This is one of my favourite albums of all time...   \n",
       "95989  My cat loves these cubes and spends much time ...   \n",
       "95990  I'll try to be succinct:  1.  This isn't as go...   \n",
       "95991  One of the bowls arrived broken into pieces.  ...   \n",
       "95992  I really like this product. At first i was rea...   \n",
       "95993  Aided in my sleep however I had very weird dre...   \n",
       "95994  It holds my TV on the wall. Easy to install an...   \n",
       "95995  I have to agree with the reviewer who said the...   \n",
       "95996  This flashlight is a little bulky and fits int...   \n",
       "95997  First of all the seller, &#34;ABETRADES&#34; i...   \n",
       "95998  I was finally able to install a screen saver o...   \n",
       "95999  I enjoyed this movie quite a bit. There's alot...   \n",
       "\n",
       "                                                 summary  \n",
       "0                        Clean and Exactly as Advertised  \n",
       "1                                            Great read!  \n",
       "2                   If you love coconut, get this coffee  \n",
       "3                                 Superior Protection!!!  \n",
       "4      Love the show, thanks for putting Season 3 on ...  \n",
       "5                                     Perfect for babies  \n",
       "6      Nice little sensor light, good for  power fail...  \n",
       "7                                        Defining An Era  \n",
       "8      Perfect Solution For Dogs That Gobble Food Too...  \n",
       "9                Reverse Cinderella just doesn't cut it.  \n",
       "10                   Same as the other 1 star reviews...  \n",
       "11                        The Unfinished Song: Sacrifice  \n",
       "12                                       Excellent Scope  \n",
       "13                                                 Works  \n",
       "14                                       So far so good.  \n",
       "15                                   Exactly as pictured  \n",
       "16                         good quality, easy to install  \n",
       "17                        Not another \"Bored\" on a Board  \n",
       "18                                             I love it  \n",
       "19                                                 Sexy!  \n",
       "20                                        Very practical  \n",
       "21                           Great lightweight carry-all  \n",
       "22        I had almost Bought INFERNO+ a Couple Days Ago  \n",
       "23                                       It really works  \n",
       "24                  I am just not sure how to rate this!  \n",
       "25                                                 Ehhhh  \n",
       "26                                          Not \"cherry\"  \n",
       "27      Why No Protective Covering For The Back Plate???  \n",
       "28                                        Friend or Foe?  \n",
       "29                        The original lineup is awesome  \n",
       "...                                                  ...  \n",
       "95970                          A fine transitional album  \n",
       "95971                                          No Workie  \n",
       "95972                  Feels cheap but has held up well.  \n",
       "95973  If you're considering this as a learning tool ...  \n",
       "95974                                      Love the ride  \n",
       "95975                                 Love these loafers  \n",
       "95976                                       Great Value!  \n",
       "95977                                        Very handy!  \n",
       "95978                             Bristles are very soft  \n",
       "95979                                       eyebrow tint  \n",
       "95980                              Amazing in high wind.  \n",
       "95981                                        Clear spray  \n",
       "95982                                        Pretty cool  \n",
       "95983                                          its okay!  \n",
       "95984                     A convenient, compact solution  \n",
       "95985  Fun if one had a time machine to travel two ye...  \n",
       "95986  Fleece filter and comes with the rubbers that ...  \n",
       "95987                  A bit large, but works very well.  \n",
       "95988                                    one of the best  \n",
       "95989                  Feline favorite, but destructible  \n",
       "95990                           Don't believe the hype -  \n",
       "95991                      Poor shipping and hard to use  \n",
       "95992                                        Good for me  \n",
       "95993                          Helped with Sleep however  \n",
       "95994                       Exactly what it needs to be.  \n",
       "95995                             Okay, but not the best  \n",
       "95996                            Great little flashlight  \n",
       "95997  Not the worst, but certainly could have done b...  \n",
       "95998                                    Easy to install  \n",
       "95999                                          My Review  \n",
       "\n",
       "[96000 rows x 2 columns]"
      ]
     },
     "execution_count": 21,
     "metadata": {},
     "output_type": "execute_result"
    }
   ],
   "source": [
    "df1[[\"reviewText\", \"summary\"]]"
   ]
  },
  {
   "cell_type": "markdown",
   "metadata": {},
   "source": [
    "### unixReviewTime\n",
    "> Definition: `time of writing the review in UNIX format`\n",
    "\n",
    "This feature is redudant with **reviewTime**. We also drop it."
   ]
  },
  {
   "cell_type": "code",
   "execution_count": 22,
   "metadata": {
    "ExecuteTime": {
     "end_time": "2017-05-21T19:06:00.230519",
     "start_time": "2017-05-21T19:06:00.219711"
    },
    "collapsed": true
   },
   "outputs": [],
   "source": [
    "df1 = df1.drop([\"unixReviewTime\"], axis=1)"
   ]
  },
  {
   "cell_type": "markdown",
   "metadata": {},
   "source": [
    "### Preprocessing results\n",
    "We give below an overview of the final data frame that we will be using."
   ]
  },
  {
   "cell_type": "code",
   "execution_count": 23,
   "metadata": {
    "ExecuteTime": {
     "end_time": "2017-05-21T19:06:00.249795",
     "start_time": "2017-05-21T19:06:00.232150"
    },
    "collapsed": false,
    "scrolled": true
   },
   "outputs": [
    {
     "data": {
      "text/html": [
       "<div>\n",
       "<table border=\"1\" class=\"dataframe\">\n",
       "  <thead>\n",
       "    <tr style=\"text-align: right;\">\n",
       "      <th></th>\n",
       "      <th>category</th>\n",
       "      <th>overall</th>\n",
       "      <th>reviewText</th>\n",
       "      <th>summary</th>\n",
       "      <th>helpfulPercentage</th>\n",
       "      <th>reviewTextLength</th>\n",
       "      <th>reviewTextCountPoints</th>\n",
       "      <th>reviewTextCountExcl</th>\n",
       "      <th>reviewTextCountInterr</th>\n",
       "      <th>reviewTextCountComas</th>\n",
       "      <th>reviewTextPositiveSmiley</th>\n",
       "      <th>reviewTextNegativeSmiley</th>\n",
       "      <th>reviewTextAllCAPS</th>\n",
       "    </tr>\n",
       "  </thead>\n",
       "  <tbody>\n",
       "    <tr>\n",
       "      <th>0</th>\n",
       "      <td>Sports_and_Outdoors</td>\n",
       "      <td>5</td>\n",
       "      <td>It's a .50 Caliber Ammo Can. That largely sums...</td>\n",
       "      <td>Clean and Exactly as Advertised</td>\n",
       "      <td>1.561853</td>\n",
       "      <td>-0.106836</td>\n",
       "      <td>0.396455</td>\n",
       "      <td>-0.341411</td>\n",
       "      <td>-0.218245</td>\n",
       "      <td>-0.187700</td>\n",
       "      <td>0</td>\n",
       "      <td>0</td>\n",
       "      <td>False</td>\n",
       "    </tr>\n",
       "    <tr>\n",
       "      <th>1</th>\n",
       "      <td>Books</td>\n",
       "      <td>5</td>\n",
       "      <td>This was a very good book. It kept me excited ...</td>\n",
       "      <td>Great read!</td>\n",
       "      <td>-0.751631</td>\n",
       "      <td>-0.627738</td>\n",
       "      <td>-0.470575</td>\n",
       "      <td>-0.341411</td>\n",
       "      <td>-0.218245</td>\n",
       "      <td>-0.567760</td>\n",
       "      <td>0</td>\n",
       "      <td>0</td>\n",
       "      <td>False</td>\n",
       "    </tr>\n",
       "    <tr>\n",
       "      <th>2</th>\n",
       "      <td>Grocery_and_Gourmet_Food</td>\n",
       "      <td>5</td>\n",
       "      <td>If you love coconut the way I do, you can't go...</td>\n",
       "      <td>If you love coconut, get this coffee</td>\n",
       "      <td>-0.751631</td>\n",
       "      <td>-0.547035</td>\n",
       "      <td>-0.687332</td>\n",
       "      <td>0.215455</td>\n",
       "      <td>-0.218245</td>\n",
       "      <td>-0.441073</td>\n",
       "      <td>0</td>\n",
       "      <td>0</td>\n",
       "      <td>False</td>\n",
       "    </tr>\n",
       "    <tr>\n",
       "      <th>3</th>\n",
       "      <td>Cell_Phones_and_Accessories</td>\n",
       "      <td>5</td>\n",
       "      <td>I recently switched from the Galaxy S3 to the ...</td>\n",
       "      <td>Superior Protection!!!</td>\n",
       "      <td>-0.751631</td>\n",
       "      <td>1.256557</td>\n",
       "      <td>1.155105</td>\n",
       "      <td>1.886052</td>\n",
       "      <td>-0.218245</td>\n",
       "      <td>-0.314387</td>\n",
       "      <td>0</td>\n",
       "      <td>0</td>\n",
       "      <td>True</td>\n",
       "    </tr>\n",
       "    <tr>\n",
       "      <th>4</th>\n",
       "      <td>Amazon_Instant_Video</td>\n",
       "      <td>5</td>\n",
       "      <td>Good show,looks like the gap from season 2 to ...</td>\n",
       "      <td>Love the show, thanks for putting Season 3 on ...</td>\n",
       "      <td>-0.751631</td>\n",
       "      <td>-0.573936</td>\n",
       "      <td>-0.578953</td>\n",
       "      <td>-0.341411</td>\n",
       "      <td>2.760569</td>\n",
       "      <td>-0.187700</td>\n",
       "      <td>0</td>\n",
       "      <td>0</td>\n",
       "      <td>False</td>\n",
       "    </tr>\n",
       "  </tbody>\n",
       "</table>\n",
       "</div>"
      ],
      "text/plain": [
       "                      category  overall  \\\n",
       "0          Sports_and_Outdoors        5   \n",
       "1                        Books        5   \n",
       "2     Grocery_and_Gourmet_Food        5   \n",
       "3  Cell_Phones_and_Accessories        5   \n",
       "4         Amazon_Instant_Video        5   \n",
       "\n",
       "                                          reviewText  \\\n",
       "0  It's a .50 Caliber Ammo Can. That largely sums...   \n",
       "1  This was a very good book. It kept me excited ...   \n",
       "2  If you love coconut the way I do, you can't go...   \n",
       "3  I recently switched from the Galaxy S3 to the ...   \n",
       "4  Good show,looks like the gap from season 2 to ...   \n",
       "\n",
       "                                             summary  helpfulPercentage  \\\n",
       "0                    Clean and Exactly as Advertised           1.561853   \n",
       "1                                        Great read!          -0.751631   \n",
       "2               If you love coconut, get this coffee          -0.751631   \n",
       "3                             Superior Protection!!!          -0.751631   \n",
       "4  Love the show, thanks for putting Season 3 on ...          -0.751631   \n",
       "\n",
       "   reviewTextLength  reviewTextCountPoints  reviewTextCountExcl  \\\n",
       "0         -0.106836               0.396455            -0.341411   \n",
       "1         -0.627738              -0.470575            -0.341411   \n",
       "2         -0.547035              -0.687332             0.215455   \n",
       "3          1.256557               1.155105             1.886052   \n",
       "4         -0.573936              -0.578953            -0.341411   \n",
       "\n",
       "   reviewTextCountInterr  reviewTextCountComas  reviewTextPositiveSmiley  \\\n",
       "0              -0.218245             -0.187700                         0   \n",
       "1              -0.218245             -0.567760                         0   \n",
       "2              -0.218245             -0.441073                         0   \n",
       "3              -0.218245             -0.314387                         0   \n",
       "4               2.760569             -0.187700                         0   \n",
       "\n",
       "   reviewTextNegativeSmiley reviewTextAllCAPS  \n",
       "0                         0             False  \n",
       "1                         0             False  \n",
       "2                         0             False  \n",
       "3                         0              True  \n",
       "4                         0             False  "
      ]
     },
     "execution_count": 23,
     "metadata": {},
     "output_type": "execute_result"
    }
   ],
   "source": [
    "df1.head()"
   ]
  },
  {
   "cell_type": "markdown",
   "metadata": {},
   "source": [
    "### Training, tuning and testing of models"
   ]
  },
  {
   "cell_type": "code",
   "execution_count": 24,
   "metadata": {
    "ExecuteTime": {
     "end_time": "2017-05-21T19:06:00.255330",
     "start_time": "2017-05-21T19:06:00.252201"
    },
    "collapsed": true
   },
   "outputs": [],
   "source": [
    "# The target feature --> CATEGORY\n",
    "y = df1.category"
   ]
  },
  {
   "cell_type": "code",
   "execution_count": 25,
   "metadata": {
    "ExecuteTime": {
     "end_time": "2017-05-21T19:11:45.387901",
     "start_time": "2017-05-21T19:06:00.257028"
    },
    "collapsed": true
   },
   "outputs": [],
   "source": [
    "# Features to transfrom from textual to numerical representation: REVIEWTEXT and SUMMARY\n",
    "# ---- ReviewText\n",
    "pipe_modified.fit(df1.reviewText)\n",
    "x_reviewText = pipe_modified.transform(df1.reviewText)\n",
    "\n",
    "# ---- Summary\n",
    "pipe_modified.fit(df1.summary)\n",
    "x_summary = pipe_modified.transform(df1.summary)"
   ]
  },
  {
   "cell_type": "markdown",
   "metadata": {},
   "source": [
    "> Note that for this first step, we decide to not use the features we create. Firstly, those features are more related to the sentiment of the text. We think that to find out the category of the product, the sentiment will not be part of. But since we are in the Data science world, we cannot only rely on our simple assumption. So we try with and without the new features. We test with the SVC model and without the features the model was better."
   ]
  },
  {
   "cell_type": "code",
   "execution_count": 26,
   "metadata": {
    "ExecuteTime": {
     "end_time": "2017-05-21T19:11:45.500677",
     "start_time": "2017-05-21T19:11:45.389054"
    },
    "collapsed": true
   },
   "outputs": [],
   "source": [
    "# Now we can combine all features into a single dataframe\n",
    "from scipy.sparse import hstack\n",
    "\n",
    "# Combine first the two `sparse matrix` filled with the TF-IDF scores \n",
    "X = hstack((x_reviewText, x_summary))"
   ]
  },
  {
   "cell_type": "code",
   "execution_count": 27,
   "metadata": {
    "ExecuteTime": {
     "end_time": "2017-05-21T19:11:45.505949",
     "start_time": "2017-05-21T19:11:45.502154"
    },
    "collapsed": false
   },
   "outputs": [
    {
     "data": {
      "text/plain": [
       "(96000, 26180)"
      ]
     },
     "execution_count": 27,
     "metadata": {},
     "output_type": "execute_result"
    }
   ],
   "source": [
    "X.shape"
   ]
  },
  {
   "cell_type": "code",
   "execution_count": 28,
   "metadata": {
    "ExecuteTime": {
     "end_time": "2017-05-21T19:11:46.902268",
     "start_time": "2017-05-21T19:11:45.507472"
    },
    "collapsed": false
   },
   "outputs": [
    {
     "name": "stderr",
     "output_type": "stream",
     "text": [
      "/home/ra-danny/anaconda36/lib/python3.6/site-packages/sklearn/cross_validation.py:44: DeprecationWarning: This module was deprecated in version 0.18 in favor of the model_selection module into which all the refactored classes and functions are moved. Also note that the interface of the new CV iterators are different from that of this module. This module will be removed in 0.20.\n",
      "  \"This module will be removed in 0.20.\", DeprecationWarning)\n"
     ]
    }
   ],
   "source": [
    "# Now we divided the feature into two sets: a trainin set and another one for testing. \n",
    "# Training set = 80% of the entire data\n",
    "# Testing set  = 20% of the entire data\n",
    "\n",
    "from sklearn.cross_validation import train_test_split\n",
    "seed = 2017\n",
    "X_train, X_test, y_train, y_test = train_test_split(X, y, test_size=0.2, random_state=seed)"
   ]
  },
  {
   "cell_type": "code",
   "execution_count": 29,
   "metadata": {
    "ExecuteTime": {
     "end_time": "2017-05-21T19:11:46.908761",
     "start_time": "2017-05-21T19:11:46.903853"
    },
    "collapsed": false
   },
   "outputs": [
    {
     "name": "stdout",
     "output_type": "stream",
     "text": [
      "X_train:  (76800, 26180)\n",
      "y_train:  (76800,)\n",
      "X_test:   (19200, 26180)\n",
      "y_test:   (19200,)\n"
     ]
    }
   ],
   "source": [
    "# Train\n",
    "print(\"X_train: \", X_train.shape)\n",
    "print(\"y_train: \", y_train.shape)\n",
    "\n",
    "# Test\n",
    "print(\"X_test:  \", X_test.shape)\n",
    "print(\"y_test:  \", y_test.shape)"
   ]
  },
  {
   "cell_type": "markdown",
   "metadata": {},
   "source": [
    "## <a name=\"models1\"></a> Models\n",
    "\n",
    "For each step, we will try five different models:\n",
    "\n",
    "* Dummy Classifier\n",
    "* Linear Support Vector Classification\n",
    "* SGD\n",
    "* K-nearest neighbors \n",
    "* Random forest classifier\n",
    "\n",
    "For some of those models, we will use a *Grid search* to optimize the parameters to use"
   ]
  },
  {
   "cell_type": "code",
   "execution_count": 30,
   "metadata": {
    "ExecuteTime": {
     "end_time": "2017-05-21T19:11:46.915154",
     "start_time": "2017-05-21T19:11:46.910146"
    },
    "collapsed": true
   },
   "outputs": [],
   "source": [
    "# We define an helper function to compute and print the precision of our models\n",
    "# Since we are dealing with a classifier, we decide to print only the 'precision? of the models\n",
    "# Therefore, we don't use recall, f measure and support\n",
    "def print_precision(y_t, y_pred):\n",
    "    p_and_rec=precision_recall_fscore_support(y_t,y_pred)\n",
    "    precision = p_and_rec[0]\n",
    "    recall = p_and_rec[1]\n",
    "    f_measure = p_and_rec[2]\n",
    "    support = p_and_rec[3]\n",
    "    print(\"Precision mean: \", np.mean(precision))"
   ]
  },
  {
   "cell_type": "markdown",
   "metadata": {},
   "source": [
    "### Baseline model (Dummy Classifier)"
   ]
  },
  {
   "cell_type": "code",
   "execution_count": 31,
   "metadata": {
    "ExecuteTime": {
     "end_time": "2017-05-21T19:11:47.395382",
     "start_time": "2017-05-21T19:11:46.916540"
    },
    "collapsed": false
   },
   "outputs": [
    {
     "name": "stdout",
     "output_type": "stream",
     "text": [
      "Precision mean:  0.0447061846207\n",
      "1 / 24 =  0.041666666666666664\n"
     ]
    }
   ],
   "source": [
    "from sklearn.metrics import precision_recall_fscore_support\n",
    "from sklearn.dummy import DummyClassifier\n",
    "baselineModel = DummyClassifier(random_state=seed)\n",
    "baselineModel.fit(X_train,y_train)\n",
    "y_pred = baselineModel.predict(X_test)\n",
    "\n",
    "print_precision(y_test, y_pred)\n",
    "print(\"1 / 24 = \", 1/24)"
   ]
  },
  {
   "cell_type": "markdown",
   "metadata": {},
   "source": [
    "The baseline model has a precision that is close to 1/24. This is completly normal, since we have 24 features !"
   ]
  },
  {
   "cell_type": "code",
   "execution_count": 32,
   "metadata": {
    "ExecuteTime": {
     "end_time": "2017-05-21T19:11:47.400617",
     "start_time": "2017-05-21T19:11:47.396956"
    },
    "collapsed": true
   },
   "outputs": [],
   "source": [
    "baseline_precision = 0.0447061846207"
   ]
  },
  {
   "cell_type": "markdown",
   "metadata": {},
   "source": [
    "### Support Vector Model: Linear Support Vector Classification"
   ]
  },
  {
   "cell_type": "code",
   "execution_count": 33,
   "metadata": {
    "ExecuteTime": {
     "end_time": "2017-05-21T19:11:47.412425",
     "start_time": "2017-05-21T19:11:47.402209"
    },
    "collapsed": false
   },
   "outputs": [
    {
     "name": "stdout",
     "output_type": "stream",
     "text": [
      "{'svm_clf__C': 0.125}\n"
     ]
    }
   ],
   "source": [
    "from sklearn.model_selection import GridSearchCV\n",
    "from sklearn.pipeline import Pipeline\n",
    "from sklearn.svm import LinearSVC\n",
    "\n",
    "# setup pipeline\n",
    "estimators = []\n",
    "estimators.append(('svm_clf', LinearSVC()))\n",
    "pipe = Pipeline(estimators)\n",
    "\n",
    "# tuning requsted parameter\n",
    "tuned_parameters = [{'svm_clf__C': np.logspace(-5,15,11,base=2.0)}]\n",
    "clf = GridSearchCV(pipe, tuned_parameters, cv=5, scoring='accuracy')\n",
    "\n",
    "run = False\n",
    "if run:\n",
    "    # Speed up computation: with only a subset of the training data for Grid search\n",
    "    subset_size = 10000\n",
    "    clf.fit(X_train[:subset_size],y_train[:subset_size])\n",
    "    print(clf.best_params_)\n",
    "else:\n",
    "    print(\"{'svm_clf__C': 0.125}\")"
   ]
  },
  {
   "cell_type": "code",
   "execution_count": 34,
   "metadata": {
    "ExecuteTime": {
     "end_time": "2017-05-21T19:11:47.416420",
     "start_time": "2017-05-21T19:11:47.413846"
    },
    "collapsed": true
   },
   "outputs": [],
   "source": [
    "# bect C value resulting from GridSearch\n",
    "best_C = 0.125"
   ]
  },
  {
   "cell_type": "code",
   "execution_count": 35,
   "metadata": {
    "ExecuteTime": {
     "end_time": "2017-05-21T19:11:55.559104",
     "start_time": "2017-05-21T19:11:47.417955"
    },
    "collapsed": false
   },
   "outputs": [
    {
     "name": "stdout",
     "output_type": "stream",
     "text": [
      "Precision mean:  0.761371848734\n"
     ]
    }
   ],
   "source": [
    "svc = LinearSVC(C=best_C)\n",
    "svc.fit(X_train, y_train)\n",
    "\n",
    "y_pred = svc.predict(X_test)\n",
    "print_precision(y_test, y_pred)"
   ]
  },
  {
   "cell_type": "code",
   "execution_count": 36,
   "metadata": {
    "ExecuteTime": {
     "end_time": "2017-05-21T19:11:55.562680",
     "start_time": "2017-05-21T19:11:55.560432"
    },
    "collapsed": true
   },
   "outputs": [],
   "source": [
    "svc_precision = 0.761371848734"
   ]
  },
  {
   "cell_type": "markdown",
   "metadata": {},
   "source": [
    "### Linear Model:  Stochastic Gradient Descent"
   ]
  },
  {
   "cell_type": "code",
   "execution_count": 37,
   "metadata": {
    "ExecuteTime": {
     "end_time": "2017-05-21T19:11:55.575287",
     "start_time": "2017-05-21T19:11:55.563942"
    },
    "collapsed": false
   },
   "outputs": [
    {
     "name": "stdout",
     "output_type": "stream",
     "text": [
      "Best params: {'alpha': 1e-05, 'average': False, 'class_weight': None, 'epsilon': 0.1, 'eta0': 0.0, 'fit_intercept': True,           'l1_ratio': 0.15, 'learning_rate': 'optimal', 'loss': 'hinge', 'n_iter': 5, 'n_jobs': 1, 'penalty': 'l1', 'power_t': 0.5, 'random_state': 2017, 'shuffle': True, 'verbose': 0, 'warm_start': False}\n"
     ]
    }
   ],
   "source": [
    "from sklearn.linear_model import SGDClassifier\n",
    "from sklearn.model_selection import KFold\n",
    "from sklearn.model_selection import GridSearchCV\n",
    "parameters = {\n",
    "    'penalty': ['l1', 'l2', 'elasticnet'],\n",
    "    'alpha': [0.001, 0.0001, 0.00001, 0.000001]\n",
    "}\n",
    "cv = KFold(n_splits=10, random_state=seed)\n",
    "sgd = GridSearchCV(SGDClassifier(loss=\"hinge\", random_state=seed), parameters,\n",
    "     scoring=\"accuracy\", cv=cv)\n",
    "\n",
    "# Takes approximately 15 minutes to run with our machines\n",
    "runGridSearch = False\n",
    "if (runGridSearch):\n",
    "    X_train_s, X_test_s, y_train_s, y_test_s = train_test_split(X_train, y_train, test_size=0.001, random_state=seed)\n",
    "    X_train_s1, X_test_s1, y_train_s1, y_test_s1 = train_test_split(X_train_s, y_train_s, test_size=0.2, random_state=seed)\n",
    "    sgd.fit(X_train_s1, y_train_s1)\n",
    "    print(\"Best params:\", sgd.best_estimator_.get_params())\n",
    "else:\n",
    "    # Copy/Paste from the results of the 'if' block\n",
    "    print(\"Best params: {'alpha': 1e-05, 'average': False, 'class_weight': None, 'epsilon': 0.1, 'eta0': 0.0, 'fit_intercept': True, \\\n",
    "          'l1_ratio': 0.15, 'learning_rate': 'optimal', 'loss': 'hinge', 'n_iter': 5, 'n_jobs': 1, 'penalty': 'l1', 'power_t': 0.5, 'random_state': 2017, 'shuffle': True, 'verbose': 0, 'warm_start': False}\")"
   ]
  },
  {
   "cell_type": "code",
   "execution_count": 38,
   "metadata": {
    "ExecuteTime": {
     "end_time": "2017-05-21T19:12:04.906983",
     "start_time": "2017-05-21T19:11:55.576635"
    },
    "collapsed": false
   },
   "outputs": [
    {
     "name": "stdout",
     "output_type": "stream",
     "text": [
      "Precision mean:  0.734385828477\n"
     ]
    }
   ],
   "source": [
    "# Build the SGDClassifier with the best params return by grid search\n",
    "sgd = SGDClassifier(alpha=1e-05, average=False, class_weight=None, epsilon=0.1, eta0=0.0, fit_intercept=True, l1_ratio=0.15, learning_rate='optimal', loss='hinge', n_iter=5, n_jobs=1, penalty='l1', power_t=0.5, random_state=2017, shuffle= True, verbose=0, warm_start=False)\n",
    "\n",
    "# Predict testing data\n",
    "sgd.fit(X_train, y_train)\n",
    "y_pred = sgd.predict(X_test)\n",
    "print_precision(y_test, y_pred)"
   ]
  },
  {
   "cell_type": "code",
   "execution_count": 39,
   "metadata": {
    "ExecuteTime": {
     "end_time": "2017-05-21T19:12:04.911788",
     "start_time": "2017-05-21T19:12:04.909040"
    },
    "collapsed": true
   },
   "outputs": [],
   "source": [
    "SGD_precision = 0.734385828477"
   ]
  },
  {
   "cell_type": "markdown",
   "metadata": {},
   "source": [
    "### Similarity-based model: KNN Classifier"
   ]
  },
  {
   "cell_type": "code",
   "execution_count": 40,
   "metadata": {
    "ExecuteTime": {
     "end_time": "2017-05-21T19:12:04.918067",
     "start_time": "2017-05-21T19:12:04.913425"
    },
    "collapsed": true
   },
   "outputs": [],
   "source": [
    "from sklearn.model_selection import cross_val_score, cross_val_predict, GridSearchCV"
   ]
  },
  {
   "cell_type": "code",
   "execution_count": 41,
   "metadata": {
    "ExecuteTime": {
     "end_time": "2017-05-21T19:12:04.937381",
     "start_time": "2017-05-21T19:12:04.919991"
    },
    "collapsed": false
   },
   "outputs": [
    {
     "name": "stdout",
     "output_type": "stream",
     "text": [
      "Pipeline(steps=[('knn_clf', KNeighborsClassifier(algorithm='brute', leaf_size=30, metric='minkowski',           metric_params=None, n_jobs=1, n_neighbors=61, p=2,           weights='uniform'))])\n"
     ]
    }
   ],
   "source": [
    "from sklearn.neighbors import KNeighborsClassifier\n",
    "estimators = []\n",
    "estimators.append(('knn_clf', KNeighborsClassifier()))\n",
    "knn_clf_pipe = Pipeline(estimators)\n",
    "knn_clf_pipe.set_params(knn_clf__algorithm='brute')\n",
    "knn_clf_pipe.set_params(knn_clf__weights='distance')\n",
    "\n",
    "# create a grid search over n_neighbors values\n",
    "# We decided to test from a large variety of neighbors possible. To speed up the computation time, we didn't test all possibilities, but use a step between each number\n",
    "parameters = {\n",
    "        'knn_clf__n_neighbors' : range(1,151,10)\n",
    "}\n",
    "estimator_knnclf = GridSearchCV(knn_clf_pipe, parameters, cv=5)\n",
    "\n",
    "run = False\n",
    "if run:\n",
    "    # With our machines, we had several memory errors. Therefore we decide to use less data in order to have some results\n",
    "    subset_size = 10000\n",
    "    # evaluate the grid search and print best regressor\n",
    "    estimator_knnclf.fit(X_train[:subset_size], y_train[:subset_size])\n",
    "    print(estimator_knnclf.best_estimator_)\n",
    "else:\n",
    "    # Copy/Paste from the results of the 'if' block\n",
    "    print(\"Pipeline(steps=[('knn_clf', KNeighborsClassifier(algorithm='brute', leaf_size=30, metric='minkowski',\\\n",
    "           metric_params=None, n_jobs=1, n_neighbors=61, p=2,\\\n",
    "           weights='uniform'))])\")"
   ]
  },
  {
   "cell_type": "code",
   "execution_count": 42,
   "metadata": {
    "ExecuteTime": {
     "end_time": "2017-05-21T19:12:04.942483",
     "start_time": "2017-05-21T19:12:04.939018"
    },
    "collapsed": true
   },
   "outputs": [],
   "source": [
    "# best number of neighbors obtained using GridSearchCV\n",
    "best_clf_neighbors = 61"
   ]
  },
  {
   "cell_type": "code",
   "execution_count": 43,
   "metadata": {
    "ExecuteTime": {
     "end_time": "2017-05-21T19:12:11.308998",
     "start_time": "2017-05-21T19:12:04.944311"
    },
    "collapsed": false
   },
   "outputs": [
    {
     "name": "stdout",
     "output_type": "stream",
     "text": [
      "Precision mean:  0.477426674362\n"
     ]
    }
   ],
   "source": [
    "# fix the number of neighbors to the best value\n",
    "knn_clf_pipe.set_params(knn_clf__n_neighbors=best_clf_neighbors)\n",
    "\n",
    "# fit the model to the training set\n",
    "knn_clf_pipe.fit(X_train, y_train)\n",
    "\n",
    "y_pred = knn_clf_pipe.predict(X_test[:1000])\n",
    "print_precision(y_test[:1000], y_pred)"
   ]
  },
  {
   "cell_type": "code",
   "execution_count": 44,
   "metadata": {
    "ExecuteTime": {
     "end_time": "2017-05-21T19:12:11.314125",
     "start_time": "2017-05-21T19:12:11.310869"
    },
    "collapsed": true
   },
   "outputs": [],
   "source": [
    "knn_precision = 0.477426674362"
   ]
  },
  {
   "cell_type": "markdown",
   "metadata": {},
   "source": [
    "### Information Based model: Random Forest Classifier"
   ]
  },
  {
   "cell_type": "code",
   "execution_count": 45,
   "metadata": {
    "ExecuteTime": {
     "end_time": "2017-05-21T19:12:11.340003",
     "start_time": "2017-05-21T19:12:11.315584"
    },
    "collapsed": false
   },
   "outputs": [
    {
     "name": "stdout",
     "output_type": "stream",
     "text": [
      "{'max_depth': 41, 'n_estimators': 701}\n"
     ]
    }
   ],
   "source": [
    "from sklearn.ensemble import RandomForestClassifier\n",
    "tuned_parameters = {\n",
    "    'n_estimators': range(1,801,100),\n",
    "    'max_depth': range(1,101,20)\n",
    "    }\n",
    "\n",
    "rf_clf = GridSearchCV(RandomForestClassifier(), tuned_parameters, cv=5, scoring='accuracy')\n",
    "\n",
    "run = False\n",
    "if run:\n",
    "    # As for before, we need to use less data to avoid 'memory_errors'\n",
    "    subset_size = 1000\n",
    "    rf_clf.fit(X_train[:subset_size],y_train[:subset_size])\n",
    "    print(rf_clf.best_params_)\n",
    "else:\n",
    "    print(\"{'max_depth': 41, 'n_estimators': 701}\")"
   ]
  },
  {
   "cell_type": "code",
   "execution_count": 46,
   "metadata": {
    "ExecuteTime": {
     "end_time": "2017-05-21T19:12:11.348673",
     "start_time": "2017-05-21T19:12:11.341629"
    },
    "collapsed": false
   },
   "outputs": [
    {
     "name": "stdout",
     "output_type": "stream",
     "text": [
      "{'max_depth': 42, 'n_estimators': 752}\n"
     ]
    }
   ],
   "source": [
    "tuned_parameters = {\n",
    "    'n_estimators': range(602,801,30),\n",
    "    'max_depth': range(32,51,5)\n",
    "    }\n",
    "\n",
    "rf_clf = GridSearchCV(RandomForestClassifier(), tuned_parameters, cv=5, scoring='accuracy')\n",
    "\n",
    "run = False\n",
    "if run:\n",
    "    # As for before, we need to use less data to avoid 'memory_errors'\n",
    "    subset_size = 1000\n",
    "    rf_clf.fit(X_train[:subset_size],y_train[:subset_size])\n",
    "    print(rf_clf.best_params_)\n",
    "else:\n",
    "    print(\"{'max_depth': 42, 'n_estimators': 752}\")"
   ]
  },
  {
   "cell_type": "code",
   "execution_count": 47,
   "metadata": {
    "ExecuteTime": {
     "end_time": "2017-05-21T19:12:11.353051",
     "start_time": "2017-05-21T19:12:11.349986"
    },
    "collapsed": true
   },
   "outputs": [],
   "source": [
    "best_n_estimators = 752\n",
    "best_clf_tree_depth = 42"
   ]
  },
  {
   "cell_type": "code",
   "execution_count": 48,
   "metadata": {
    "ExecuteTime": {
     "end_time": "2017-05-21T19:13:29.885534",
     "start_time": "2017-05-21T19:12:11.354418"
    },
    "collapsed": false
   },
   "outputs": [
    {
     "name": "stdout",
     "output_type": "stream",
     "text": [
      "Precision mean:  0.630331140822\n"
     ]
    }
   ],
   "source": [
    "rf_clf = RandomForestClassifier(n_estimators=best_n_estimators, max_depth=best_clf_tree_depth)\n",
    "\n",
    "# As for before, we need to use less data to avoid 'memory_errors' and speed up the all computation\n",
    "subset_size = 10000\n",
    "rf_clf.fit(X_train[:subset_size],y_train[:subset_size])\n",
    "\n",
    "y_pred = rf_clf.predict(X_test)\n",
    "print_precision(y_test, y_pred)"
   ]
  },
  {
   "cell_type": "code",
   "execution_count": 49,
   "metadata": {
    "ExecuteTime": {
     "end_time": "2017-05-21T19:13:29.890815",
     "start_time": "2017-05-21T19:13:29.887670"
    },
    "collapsed": true
   },
   "outputs": [],
   "source": [
    "randomForest_precision = 0.630331140822"
   ]
  },
  {
   "cell_type": "markdown",
   "metadata": {},
   "source": [
    "## <a name=\"modelscomparison1\"></a> Models comparison\n",
    "We rank our models by the accuracy it achieved with the test data."
   ]
  },
  {
   "cell_type": "code",
   "execution_count": 51,
   "metadata": {
    "ExecuteTime": {
     "end_time": "2017-05-21T19:14:02.370286",
     "start_time": "2017-05-21T19:14:02.194142"
    },
    "collapsed": false
   },
   "outputs": [
    {
     "data": {
      "image/png": "[encoded data removed]",
      "text/plain": [
       "<matplotlib.figure.Figure at 0x7fe55add1470>"
      ]
     },
     "metadata": {},
     "output_type": "display_data"
    }
   ],
   "source": [
    "models_precision = [baseline_precision, svc_precision, SGD_precision, knn_precision, randomForest_precision]\n",
    "models = [\"Baseline\", \"SVC\", \"SGD\", \"KNN\", \"Random Forest\"]\n",
    "\n",
    "models_df = pd.DataFrame(models_precision, models)\n",
    "models_df[0].plot(kind='bar')\n",
    "plt.show()"
   ]
  },
  {
   "cell_type": "code",
   "execution_count": 52,
   "metadata": {
    "ExecuteTime": {
     "end_time": "2017-05-21T19:14:04.967851",
     "start_time": "2017-05-21T19:14:04.961212"
    },
    "collapsed": false
   },
   "outputs": [
    {
     "data": {
      "text/plain": [
       "[0.0447061846207,\n",
       " 0.761371848734,\n",
       " 0.734385828477,\n",
       " 0.477426674362,\n",
       " 0.629249026803]"
      ]
     },
     "execution_count": 52,
     "metadata": {},
     "output_type": "execute_result"
    }
   ],
   "source": [
    "models_precision"
   ]
  },
  {
   "cell_type": "markdown",
   "metadata": {},
   "source": [
    "As we can see, the two linear models perform the best among the others. We will use the **SVC model** to predict the unseen data, as it performs better with our test data. \n",
    "\n",
    "Compare to the baseline model, we can observe that our models aren't bad ! Almost 80% of accuracy for a 24 classes classifier is an acceptable result in our opinion."
   ]
  },
  {
   "cell_type": "markdown",
   "metadata": {},
   "source": [
    "## <a name=\"unseen1\"></a>Prediction of the unseen data"
   ]
  },
  {
   "cell_type": "code",
   "execution_count": 53,
   "metadata": {
    "ExecuteTime": {
     "end_time": "2017-05-21T19:14:18.673709",
     "start_time": "2017-05-21T19:14:18.211783"
    },
    "collapsed": false
   },
   "outputs": [
    {
     "data": {
      "text/html": [
       "<div>\n",
       "<table border=\"1\" class=\"dataframe\">\n",
       "  <thead>\n",
       "    <tr style=\"text-align: right;\">\n",
       "      <th></th>\n",
       "      <th>Unnamed: 0</th>\n",
       "      <th>reviewerID</th>\n",
       "      <th>asin</th>\n",
       "      <th>reviewerName</th>\n",
       "      <th>helpful</th>\n",
       "      <th>reviewText</th>\n",
       "      <th>overall</th>\n",
       "      <th>summary</th>\n",
       "      <th>unixReviewTime</th>\n",
       "      <th>reviewTime</th>\n",
       "      <th>label</th>\n",
       "    </tr>\n",
       "  </thead>\n",
       "  <tbody>\n",
       "    <tr>\n",
       "      <th>3462</th>\n",
       "      <td>3462</td>\n",
       "      <td>A2HQSN2IGPBK1S</td>\n",
       "      <td>B00004S1C5</td>\n",
       "      <td>MooziBear</td>\n",
       "      <td>[0, 0]</td>\n",
       "      <td>I bought these to make at-home finger paint fo...</td>\n",
       "      <td>4.0</td>\n",
       "      <td>Professional quality, vibrant colors</td>\n",
       "      <td>1381881600</td>\n",
       "      <td>10 16, 2013</td>\n",
       "      <td>?</td>\n",
       "    </tr>\n",
       "    <tr>\n",
       "      <th>7790</th>\n",
       "      <td>7790</td>\n",
       "      <td>A2H9LCEEXDMAK0</td>\n",
       "      <td>9828377403</td>\n",
       "      <td>William L. Cryer \"BC\"</td>\n",
       "      <td>[0, 0]</td>\n",
       "      <td>But my parrots ate it up, cardboard, string, t...</td>\n",
       "      <td>5.0</td>\n",
       "      <td>I thought it was dumb...</td>\n",
       "      <td>1399852800</td>\n",
       "      <td>05 12, 2014</td>\n",
       "      <td>?</td>\n",
       "    </tr>\n",
       "    <tr>\n",
       "      <th>3485</th>\n",
       "      <td>3485</td>\n",
       "      <td>A1HB4DFQC6ZGHW</td>\n",
       "      <td>9747842297</td>\n",
       "      <td>california</td>\n",
       "      <td>[3, 4]</td>\n",
       "      <td>Didn't like this once I got it..Bought it for ...</td>\n",
       "      <td>1.0</td>\n",
       "      <td>Tom Ford Private Blend</td>\n",
       "      <td>1373500800</td>\n",
       "      <td>07 11, 2013</td>\n",
       "      <td>?</td>\n",
       "    </tr>\n",
       "    <tr>\n",
       "      <th>12259</th>\n",
       "      <td>12259</td>\n",
       "      <td>A32QJMKQAIED6X</td>\n",
       "      <td>B00000GC69</td>\n",
       "      <td>Lindsay Janus</td>\n",
       "      <td>[4, 4]</td>\n",
       "      <td>The metal detector is holding up well but it h...</td>\n",
       "      <td>4.0</td>\n",
       "      <td>Definitely sensitive</td>\n",
       "      <td>1009497600</td>\n",
       "      <td>12 28, 2001</td>\n",
       "      <td>?</td>\n",
       "    </tr>\n",
       "    <tr>\n",
       "      <th>12630</th>\n",
       "      <td>12630</td>\n",
       "      <td>A3NBXK8YWMGHNF</td>\n",
       "      <td>B00002N66A</td>\n",
       "      <td>Deborah  Brenton</td>\n",
       "      <td>[5, 7]</td>\n",
       "      <td>This is a terrific tool and a must-have for an...</td>\n",
       "      <td>5.0</td>\n",
       "      <td>Fantastic garden tool</td>\n",
       "      <td>1275436800</td>\n",
       "      <td>06 2, 2010</td>\n",
       "      <td>?</td>\n",
       "    </tr>\n",
       "  </tbody>\n",
       "</table>\n",
       "</div>"
      ],
      "text/plain": [
       "       Unnamed: 0      reviewerID        asin           reviewerName helpful  \\\n",
       "3462         3462  A2HQSN2IGPBK1S  B00004S1C5              MooziBear  [0, 0]   \n",
       "7790         7790  A2H9LCEEXDMAK0  9828377403  William L. Cryer \"BC\"  [0, 0]   \n",
       "3485         3485  A1HB4DFQC6ZGHW  9747842297             california  [3, 4]   \n",
       "12259       12259  A32QJMKQAIED6X  B00000GC69          Lindsay Janus  [4, 4]   \n",
       "12630       12630  A3NBXK8YWMGHNF  B00002N66A       Deborah  Brenton  [5, 7]   \n",
       "\n",
       "                                              reviewText  overall  \\\n",
       "3462   I bought these to make at-home finger paint fo...      4.0   \n",
       "7790   But my parrots ate it up, cardboard, string, t...      5.0   \n",
       "3485   Didn't like this once I got it..Bought it for ...      1.0   \n",
       "12259  The metal detector is holding up well but it h...      4.0   \n",
       "12630  This is a terrific tool and a must-have for an...      5.0   \n",
       "\n",
       "                                    summary  unixReviewTime   reviewTime label  \n",
       "3462   Professional quality, vibrant colors      1381881600  10 16, 2013     ?  \n",
       "7790               I thought it was dumb...      1399852800  05 12, 2014     ?  \n",
       "3485                 Tom Ford Private Blend      1373500800  07 11, 2013     ?  \n",
       "12259                  Definitely sensitive      1009497600  12 28, 2001     ?  \n",
       "12630                 Fantastic garden tool      1275436800   06 2, 2010     ?  "
      ]
     },
     "execution_count": 53,
     "metadata": {},
     "output_type": "execute_result"
    }
   ],
   "source": [
    "# We will apply the same modification as for the preprocessing step for this new dataset\n",
    "\n",
    "!gunzip -c amazon_step1_unseen.csv.gz > amazon_step1_unseen.csv\n",
    "df1_unseen = pd.read_csv(\"amazon_step1_unseen.csv\")\n",
    "\n",
    "df1_unseen.sample(5)"
   ]
  },
  {
   "cell_type": "code",
   "execution_count": 54,
   "metadata": {
    "ExecuteTime": {
     "end_time": "2017-05-21T19:14:19.171192",
     "start_time": "2017-05-21T19:14:19.143268"
    },
    "collapsed": false
   },
   "outputs": [
    {
     "data": {
      "text/plain": [
       "Unnamed: 0         0\n",
       "reviewerID         0\n",
       "asin               0\n",
       "reviewerName      90\n",
       "helpful            0\n",
       "reviewText         7\n",
       "overall            0\n",
       "summary            1\n",
       "unixReviewTime     0\n",
       "reviewTime         0\n",
       "label              0\n",
       "dtype: int64"
      ]
     },
     "execution_count": 54,
     "metadata": {},
     "output_type": "execute_result"
    }
   ],
   "source": [
    "# Verifiy if this data as null values\n",
    "df1_unseen.isnull().sum()"
   ]
  },
  {
   "cell_type": "markdown",
   "metadata": {},
   "source": [
    "Ah ! Compare to the training dataset, this validation data has some null values within two features of interest: `reviewText` and `summary`. \n",
    "\n",
    "We cannot drop those rows from our dataset: we need to predict the category of the product in a way ! We decide to replace some null entries by an empty string. For example, when the `reviewText` field is missing, we hope that the `summary`feature will be enough to predit the category."
   ]
  },
  {
   "cell_type": "code",
   "execution_count": 55,
   "metadata": {
    "ExecuteTime": {
     "end_time": "2017-05-21T19:14:22.871514",
     "start_time": "2017-05-21T19:14:22.837059"
    },
    "collapsed": false
   },
   "outputs": [
    {
     "data": {
      "text/plain": [
       "Unnamed: 0         0\n",
       "reviewerID         0\n",
       "asin               0\n",
       "reviewerName      90\n",
       "helpful            0\n",
       "reviewText         0\n",
       "overall            0\n",
       "summary            0\n",
       "unixReviewTime     0\n",
       "reviewTime         0\n",
       "label              0\n",
       "dtype: int64"
      ]
     },
     "execution_count": 55,
     "metadata": {},
     "output_type": "execute_result"
    }
   ],
   "source": [
    "df1_unseen.reviewText.fillna(\"\", inplace=True)\n",
    "df1_unseen.summary.fillna(\"\", inplace=True)\n",
    "\n",
    "# Assert that there is no more null values within this two features\n",
    "df1_unseen.isnull().sum()"
   ]
  },
  {
   "cell_type": "code",
   "execution_count": 56,
   "metadata": {
    "ExecuteTime": {
     "end_time": "2017-05-21T19:17:52.379881",
     "start_time": "2017-05-21T19:14:25.376535"
    },
    "collapsed": true
   },
   "outputs": [],
   "source": [
    "# TF-IDF for 'reviewText'\n",
    "pipe_modified.fit(df1.reviewText)\n",
    "x_reviewText = pipe_modified.transform(df1_unseen.reviewText)\n",
    "\n",
    "# TF-IDF for 'summary'\n",
    "pipe_modified.fit(df1.summary)\n",
    "x_summary = pipe_modified.transform(df1_unseen.summary)\n",
    "\n",
    "# Merge all features into a single dataframe\n",
    "X_unseen = hstack((x_reviewText, x_summary))"
   ]
  },
  {
   "cell_type": "code",
   "execution_count": 57,
   "metadata": {
    "ExecuteTime": {
     "end_time": "2017-05-21T19:18:04.149148",
     "start_time": "2017-05-21T19:17:52.381489"
    },
    "collapsed": false
   },
   "outputs": [
    {
     "name": "stdout",
     "output_type": "stream",
     "text": [
      "Precision mean:  0.630331140822\n"
     ]
    }
   ],
   "source": [
    "# SVC Classifier gives use the best prediction accuracy, we use it \n",
    "svc = LinearSVC(C=best_C)\n",
    "svc.fit(X, y)\n",
    "\n",
    "y_unseen_pred = svc.predict(X_unseen)"
   ]
  },
  {
   "cell_type": "markdown",
   "metadata": {},
   "source": [
    "> Note that for predicting the unseen data, we use the totallity of the training data !"
   ]
  },
  {
   "cell_type": "code",
   "execution_count": 58,
   "metadata": {
    "ExecuteTime": {
     "end_time": "2017-05-21T19:20:16.247594",
     "start_time": "2017-05-21T19:20:16.216304"
    },
    "collapsed": true
   },
   "outputs": [],
   "source": [
    "# export the prediction into a file named \"pred1.txt\"\n",
    "file = open('pred1.txt', 'w')\n",
    "for item in y_unseen_pred:\n",
    "  file.write(\"%s\\n\" % item)"
   ]
  },
  {
   "cell_type": "markdown",
   "metadata": {},
   "source": [
    "# <a name=\"step2\"> </a>Step 2\n",
    "\n",
    "> Predict whether a product review has 5 stars rating or not (yes/no), based on the reviewText field. The dataset for this step is filtered down to the Digital_Music category. Construct the problem as a binary classification (rank 5: 1, others: 0).\n",
    ">\n",
    "> `f(reviewText) -> overall (5 or not)` "
   ]
  },
  {
   "cell_type": "markdown",
   "metadata": {},
   "source": [
    "## <a name=\"preprocessing2\"> </a> Preprocessing"
   ]
  },
  {
   "cell_type": "code",
   "execution_count": 59,
   "metadata": {
    "ExecuteTime": {
     "end_time": "2017-05-21T19:21:46.098430",
     "start_time": "2017-05-21T19:21:43.050960"
    },
    "collapsed": false
   },
   "outputs": [
    {
     "data": {
      "text/html": [
       "<div>\n",
       "<table border=\"1\" class=\"dataframe\">\n",
       "  <thead>\n",
       "    <tr style=\"text-align: right;\">\n",
       "      <th></th>\n",
       "      <th>asin</th>\n",
       "      <th>helpful</th>\n",
       "      <th>overall</th>\n",
       "      <th>reviewText</th>\n",
       "      <th>reviewTime</th>\n",
       "      <th>reviewerID</th>\n",
       "      <th>reviewerName</th>\n",
       "      <th>summary</th>\n",
       "      <th>unixReviewTime</th>\n",
       "    </tr>\n",
       "  </thead>\n",
       "  <tbody>\n",
       "    <tr>\n",
       "      <th>27261</th>\n",
       "      <td>B00000DLVA</td>\n",
       "      <td>[0, 0]</td>\n",
       "      <td>4</td>\n",
       "      <td>The Cardigans have come a long way since &amp;quot...</td>\n",
       "      <td>04 16, 2002</td>\n",
       "      <td>A31FNEBGVMJ1OD</td>\n",
       "      <td>John</td>\n",
       "      <td>The Cardigans Change Their Wardrobe For Gran T...</td>\n",
       "      <td>1018915200</td>\n",
       "    </tr>\n",
       "    <tr>\n",
       "      <th>14540</th>\n",
       "      <td>B000002JV1</td>\n",
       "      <td>[2, 3]</td>\n",
       "      <td>3</td>\n",
       "      <td>I just wondered what happenned to the other JM...</td>\n",
       "      <td>11 26, 2005</td>\n",
       "      <td>AJMO5NI0FNMDQ</td>\n",
       "      <td>JiggaJ1979 \"Nice\"</td>\n",
       "      <td>Its Ok</td>\n",
       "      <td>1132963200</td>\n",
       "    </tr>\n",
       "    <tr>\n",
       "      <th>39201</th>\n",
       "      <td>B00006C2DI</td>\n",
       "      <td>[4, 4]</td>\n",
       "      <td>5</td>\n",
       "      <td>even the title of swayzak's third full length ...</td>\n",
       "      <td>10 25, 2002</td>\n",
       "      <td>A3LPD7NTGFH7V4</td>\n",
       "      <td>bowery boy</td>\n",
       "      <td>flashback:  1982</td>\n",
       "      <td>1035504000</td>\n",
       "    </tr>\n",
       "    <tr>\n",
       "      <th>48557</th>\n",
       "      <td>B0007NFL18</td>\n",
       "      <td>[2, 4]</td>\n",
       "      <td>5</td>\n",
       "      <td>1.1.Intro - 0:41 4/5 funny but korny at the sa...</td>\n",
       "      <td>07 11, 2005</td>\n",
       "      <td>A2XLYYVLHE3LKW</td>\n",
       "      <td>Derek Ryder</td>\n",
       "      <td>this cd is hot</td>\n",
       "      <td>1121040000</td>\n",
       "    </tr>\n",
       "    <tr>\n",
       "      <th>4859</th>\n",
       "      <td>B000001F5Y</td>\n",
       "      <td>[1, 1]</td>\n",
       "      <td>5</td>\n",
       "      <td>This was the album that introduced me to the M...</td>\n",
       "      <td>12 19, 2008</td>\n",
       "      <td>A2C7BOQVFH1HLE</td>\n",
       "      <td>Frederick Baptist</td>\n",
       "      <td>The Moody Blues' Best Album Just Got A Whole L...</td>\n",
       "      <td>1229644800</td>\n",
       "    </tr>\n",
       "  </tbody>\n",
       "</table>\n",
       "</div>"
      ],
      "text/plain": [
       "             asin helpful  overall  \\\n",
       "27261  B00000DLVA  [0, 0]        4   \n",
       "14540  B000002JV1  [2, 3]        3   \n",
       "39201  B00006C2DI  [4, 4]        5   \n",
       "48557  B0007NFL18  [2, 4]        5   \n",
       "4859   B000001F5Y  [1, 1]        5   \n",
       "\n",
       "                                              reviewText   reviewTime  \\\n",
       "27261  The Cardigans have come a long way since &quot...  04 16, 2002   \n",
       "14540  I just wondered what happenned to the other JM...  11 26, 2005   \n",
       "39201  even the title of swayzak's third full length ...  10 25, 2002   \n",
       "48557  1.1.Intro - 0:41 4/5 funny but korny at the sa...  07 11, 2005   \n",
       "4859   This was the album that introduced me to the M...  12 19, 2008   \n",
       "\n",
       "           reviewerID       reviewerName  \\\n",
       "27261  A31FNEBGVMJ1OD               John   \n",
       "14540   AJMO5NI0FNMDQ  JiggaJ1979 \"Nice\"   \n",
       "39201  A3LPD7NTGFH7V4         bowery boy   \n",
       "48557  A2XLYYVLHE3LKW        Derek Ryder   \n",
       "4859   A2C7BOQVFH1HLE  Frederick Baptist   \n",
       "\n",
       "                                                 summary  unixReviewTime  \n",
       "27261  The Cardigans Change Their Wardrobe For Gran T...      1018915200  \n",
       "14540                                             Its Ok      1132963200  \n",
       "39201                                   flashback:  1982      1035504000  \n",
       "48557                                     this cd is hot      1121040000  \n",
       "4859   The Moody Blues' Best Album Just Got A Whole L...      1229644800  "
      ]
     },
     "execution_count": 59,
     "metadata": {},
     "output_type": "execute_result"
    }
   ],
   "source": [
    "!gunzip -c amazon_step23.json.gz > amazon_step23.json\n",
    "with open('amazon_step23.json') as f:\n",
    "   content = f.readlines()\n",
    "\n",
    "df2 = pd.read_json(\"\".join(content), lines=True)\n",
    "df2.sample(5)"
   ]
  },
  {
   "cell_type": "code",
   "execution_count": 60,
   "metadata": {
    "ExecuteTime": {
     "end_time": "2017-05-21T19:21:46.174713",
     "start_time": "2017-05-21T19:21:46.099662"
    },
    "collapsed": false
   },
   "outputs": [
    {
     "data": {
      "text/plain": [
       "asin                0\n",
       "helpful             0\n",
       "overall             0\n",
       "reviewText          0\n",
       "reviewTime          0\n",
       "reviewerID          0\n",
       "reviewerName      177\n",
       "summary             0\n",
       "unixReviewTime      0\n",
       "dtype: int64"
      ]
     },
     "execution_count": 60,
     "metadata": {},
     "output_type": "execute_result"
    }
   ],
   "source": [
    "df2.isnull().sum()"
   ]
  },
  {
   "cell_type": "markdown",
   "metadata": {},
   "source": [
    "As for the preprocessing of step 1, there is only a few samples that have null values, all with the feature `reviewerName`. As discussed earlier, this is not problem for us."
   ]
  },
  {
   "cell_type": "code",
   "execution_count": 61,
   "metadata": {
    "ExecuteTime": {
     "end_time": "2017-05-21T19:28:51.793470",
     "start_time": "2017-05-21T19:21:48.627216"
    },
    "collapsed": false
   },
   "outputs": [
    {
     "name": "stderr",
     "output_type": "stream",
     "text": [
      "/home/ra-danny/anaconda36/lib/python3.6/site-packages/sklearn/utils/validation.py:429: DataConversionWarning: Data with input dtype int64 was converted to float64 by StandardScaler.\n",
      "  warnings.warn(msg, _DataConversionWarning)\n"
     ]
    }
   ],
   "source": [
    "# Create the new features\n",
    "createHelpfulPercentage(df2)\n",
    "createTextLength(df2, \"reviewText\")\n",
    "createTextPunctuationFeatures(df2, \"reviewText\")\n",
    "contains_smiley(df2, \"reviewText\")\n",
    "createALLCAPS(df2, \"reviewText\")\n",
    "\n",
    "\n",
    "\n",
    "# Standardize with MinMaxScaler\n",
    "df2.helpfulPercentage     =    scalerHelpful.fit_transform(     df2.helpfulPercentage.values.reshape(-1,1))\n",
    "df2.reviewTextLength      =    scalerTextLength.fit_transform(  df2.reviewTextLength.values.reshape(-1,1))\n",
    "df2.reviewTextCountPoints         =    scalerCountPoints.fit_transform( df2.reviewTextCountPoints.values.reshape(-1,1))\n",
    "df2.reviewTextCountExcl           =    scalerCountExcl.fit_transform(   df2.reviewTextCountExcl.values.reshape(-1,1))\n",
    "df2.reviewTextCountInterr         =    scalerCountInterr.fit_transform( df2.reviewTextCountInterr.values.reshape(-1,1))\n",
    "df2.reviewTextCountComas          =    scalerCountComas.fit_transform(  df2.reviewTextCountComas.values.reshape(-1,1))\n",
    "\n",
    "\n",
    "# Drop useless features\n",
    "df2 = df2.drop(['asin', 'reviewTime', 'reviewerID', 'reviewerName', 'unixReviewTime', 'helpful'], axis=1)\n",
    "\n",
    "# TF-IDF for 'reviewText'\n",
    "pipe_modified.fit(df2.reviewText)\n",
    "x_reviewText = pipe_modified.transform(df2.reviewText)\n",
    "\n",
    "# TF-IDF for 'summary'\n",
    "pipe_modified.fit(df2.summary)\n",
    "x_summary = pipe_modified.transform(df2.summary)"
   ]
  },
  {
   "cell_type": "code",
   "execution_count": 62,
   "metadata": {
    "ExecuteTime": {
     "end_time": "2017-05-21T19:28:51.950498",
     "start_time": "2017-05-21T19:28:51.794779"
    },
    "collapsed": false,
    "scrolled": true
   },
   "outputs": [
    {
     "data": {
      "image/png": "[encoded data removed]",
      "text/plain": [
       "<matplotlib.figure.Figure at 0x7fe55ae286d8>"
      ]
     },
     "metadata": {},
     "output_type": "display_data"
    }
   ],
   "source": [
    "# Then we create BIN_OVERALL that is equal to 1 if rank is 5, and 0 otherwise\n",
    "df2[\"BIN_OVERALL\"] = 1 * (df2[\"overall\"] == 5)\n",
    "y = df2.BIN_OVERALL\n",
    "\n",
    "# Plot the number of samples per class\n",
    "df2.groupby(\"BIN_OVERALL\").size().plot(kind='bar')\n",
    "plt.show()"
   ]
  },
  {
   "cell_type": "markdown",
   "metadata": {
    "ExecuteTime": {
     "end_time": "2017-05-21T15:31:45.714867",
     "start_time": "2017-05-21T15:31:45.698097"
    }
   },
   "source": [
    "We can also make us of positive (http://ptrckprry.com/course/ssd/data/positive-words.txt) and\n",
    "negative (http://ptrckprry.com/course/ssd/data/negative-words.txt) word lists.<br />\n",
    "For example, if a review contains only negative words, we guess the rating is not 5, and vice-versa. If a review has no positive nor negative words, we set the new feature to 1.<br />\n",
    "Otherwise, we set it to $\\dfrac{\\#positives}{\\#positives + \\#negatives}$<br />\n",
    "In order to deal with negations (e.g. 'not cool'), we classify 'not cool' as a negative word, while 'not bad' becomes a positive word.<br />\n",
    "Caveats: Sentences like \"I don't think this product is good\" will still be missclassified."
   ]
  },
  {
   "cell_type": "code",
   "execution_count": 63,
   "metadata": {
    "ExecuteTime": {
     "end_time": "2017-05-21T19:28:53.250084",
     "start_time": "2017-05-21T19:28:51.951833"
    },
    "collapsed": false
   },
   "outputs": [
    {
     "name": "stdout",
     "output_type": "stream",
     "text": [
      "--2017-05-21 19:28:52--  http://ptrckprry.com/course/ssd/data/positive-words.txt\n",
      "Resolving ptrckprry.com (ptrckprry.com)... 192.30.252.153, 192.30.252.154\n",
      "Connecting to ptrckprry.com (ptrckprry.com)|192.30.252.153|:80... connected.\n",
      "HTTP request sent, awaiting response... 200 OK\n",
      "Length: 20630 (20K) [text/plain]\n",
      "Saving to: ‘positive-words.txt’\n",
      "\n",
      "positive-words.txt  100%[===================>]  20.15K  --.-KB/s    in 0.1s    \n",
      "\n",
      "2017-05-21 19:28:52 (169 KB/s) - ‘positive-words.txt’ saved [20630/20630]\n",
      "\n",
      "--2017-05-21 19:28:52--  http://ptrckprry.com/course/ssd/data/negative-words.txt\n",
      "Resolving ptrckprry.com (ptrckprry.com)... 192.30.252.154, 192.30.252.153\n",
      "Connecting to ptrckprry.com (ptrckprry.com)|192.30.252.154|:80... connected.\n",
      "HTTP request sent, awaiting response... 200 OK\n",
      "Length: 46299 (45K) [text/plain]\n",
      "Saving to: ‘negative-words.txt’\n",
      "\n",
      "negative-words.txt  100%[===================>]  45.21K   174KB/s    in 0.3s    \n",
      "\n",
      "2017-05-21 19:28:53 (174 KB/s) - ‘negative-words.txt’ saved [46299/46299]\n",
      "\n"
     ]
    }
   ],
   "source": [
    "# Download wordlists\n",
    "!wget -O positive-words.txt http://ptrckprry.com/course/ssd/data/positive-words.txt\n",
    "!wget -O negative-words.txt http://ptrckprry.com/course/ssd/data/negative-words.txt"
   ]
  },
  {
   "cell_type": "code",
   "execution_count": 66,
   "metadata": {
    "ExecuteTime": {
     "end_time": "2017-05-21T19:31:36.846190",
     "start_time": "2017-05-21T19:31:36.823935"
    },
    "collapsed": true
   },
   "outputs": [],
   "source": [
    "# Construct lists\n",
    "import codecs\n",
    "def get_list(fname):\n",
    "    res = []\n",
    "    with codecs.open(fname,'r',encoding='utf8') as f:\n",
    "        try:\n",
    "            for l in f.readlines():\n",
    "                if not l.startswith(\";\") and not l == \"\\n\":\n",
    "                    res.append(l.rstrip())\n",
    "        except UnicodeDecodeError as e:\n",
    "            # drop word\n",
    "            pass\n",
    "    return res\n",
    "\n",
    "positive_words = get_list('positive-words.txt')\n",
    "negative_words = get_list('negative-words.txt')\n",
    "\n",
    "def count_word_occurences(row):\n",
    "    pos = 0.\n",
    "    neg = 0.\n",
    "    for w in positive_words:\n",
    "        #w = w.decode('utf-8')\n",
    "        if w in row:\n",
    "            if \"not \" + w in row:\n",
    "                neg += 1\n",
    "            else:\n",
    "                pos += 1\n",
    "    for w in negative_words:\n",
    "        #w = w.decode('utf-8')\n",
    "        if w in row:\n",
    "            if \"not \" + w in row:\n",
    "                pos += 1\n",
    "            else:\n",
    "                neg += 1\n",
    "    if (pos + neg) == 0:\n",
    "        return 1\n",
    "    else:\n",
    "        return pos / (pos + neg)"
   ]
  },
  {
   "cell_type": "code",
   "execution_count": 67,
   "metadata": {
    "ExecuteTime": {
     "end_time": "2017-05-21T19:33:30.375438",
     "start_time": "2017-05-21T19:31:38.664939"
    },
    "collapsed": false
   },
   "outputs": [
    {
     "data": {
      "text/html": [
       "<div>\n",
       "<table border=\"1\" class=\"dataframe\">\n",
       "  <thead>\n",
       "    <tr style=\"text-align: right;\">\n",
       "      <th></th>\n",
       "      <th>positiveRatio</th>\n",
       "      <th>positiveRatioSummary</th>\n",
       "    </tr>\n",
       "  </thead>\n",
       "  <tbody>\n",
       "    <tr>\n",
       "      <th>0</th>\n",
       "      <td>1.0</td>\n",
       "      <td>1.0</td>\n",
       "    </tr>\n",
       "    <tr>\n",
       "      <th>1</th>\n",
       "      <td>1.0</td>\n",
       "      <td>1.0</td>\n",
       "    </tr>\n",
       "    <tr>\n",
       "      <th>2</th>\n",
       "      <td>1.0</td>\n",
       "      <td>1.0</td>\n",
       "    </tr>\n",
       "    <tr>\n",
       "      <th>3</th>\n",
       "      <td>1.0</td>\n",
       "      <td>1.0</td>\n",
       "    </tr>\n",
       "    <tr>\n",
       "      <th>4</th>\n",
       "      <td>1.0</td>\n",
       "      <td>1.0</td>\n",
       "    </tr>\n",
       "  </tbody>\n",
       "</table>\n",
       "</div>"
      ],
      "text/plain": [
       "   positiveRatio  positiveRatioSummary\n",
       "0            1.0                   1.0\n",
       "1            1.0                   1.0\n",
       "2            1.0                   1.0\n",
       "3            1.0                   1.0\n",
       "4            1.0                   1.0"
      ]
     },
     "execution_count": 67,
     "metadata": {},
     "output_type": "execute_result"
    }
   ],
   "source": [
    "def wordSentimentRatio(df):\n",
    "    df[\"positiveRatio\"] = df[\"reviewText\"].apply(count_word_occurences)\n",
    "    df[\"positiveRatioSummary\"] = df[\"summary\"].apply(count_word_occurences)\n",
    "\n",
    "wordSentimentRatio(df2)\n",
    "\n",
    "df2[[\"positiveRatio\", \"positiveRatioSummary\"]].head()"
   ]
  },
  {
   "cell_type": "markdown",
   "metadata": {},
   "source": [
    "Let's see which of the features we create seems to be the most useful. To do so, we will compute the mean for each of those features, dividing the dataset into two groups, based on the `BIN_OVERALL` feature."
   ]
  },
  {
   "cell_type": "code",
   "execution_count": 71,
   "metadata": {
    "ExecuteTime": {
     "end_time": "2017-05-21T19:35:15.844135",
     "start_time": "2017-05-21T19:35:15.812490"
    },
    "collapsed": false
   },
   "outputs": [
    {
     "data": {
      "text/html": [
       "<div>\n",
       "<table border=\"1\" class=\"dataframe\">\n",
       "  <thead>\n",
       "    <tr style=\"text-align: right;\">\n",
       "      <th></th>\n",
       "      <th>helpfulPercentage</th>\n",
       "      <th>reviewTextLength</th>\n",
       "      <th>reviewTextCountPoints</th>\n",
       "      <th>reviewTextCountExcl</th>\n",
       "      <th>reviewTextCountInterr</th>\n",
       "      <th>reviewTextCountComas</th>\n",
       "    </tr>\n",
       "    <tr>\n",
       "      <th>BIN_OVERALL</th>\n",
       "      <th></th>\n",
       "      <th></th>\n",
       "      <th></th>\n",
       "      <th></th>\n",
       "      <th></th>\n",
       "      <th></th>\n",
       "    </tr>\n",
       "  </thead>\n",
       "  <tbody>\n",
       "    <tr>\n",
       "      <th>0</th>\n",
       "      <td>-0.118421</td>\n",
       "      <td>0.025184</td>\n",
       "      <td>0.023004</td>\n",
       "      <td>-0.083407</td>\n",
       "      <td>0.064561</td>\n",
       "      <td>0.029732</td>\n",
       "    </tr>\n",
       "    <tr>\n",
       "      <th>1</th>\n",
       "      <td>0.096940</td>\n",
       "      <td>-0.020616</td>\n",
       "      <td>-0.018831</td>\n",
       "      <td>0.068278</td>\n",
       "      <td>-0.052850</td>\n",
       "      <td>-0.024339</td>\n",
       "    </tr>\n",
       "  </tbody>\n",
       "</table>\n",
       "</div>"
      ],
      "text/plain": [
       "             helpfulPercentage  reviewTextLength  reviewTextCountPoints  \\\n",
       "BIN_OVERALL                                                               \n",
       "0                    -0.118421          0.025184               0.023004   \n",
       "1                     0.096940         -0.020616              -0.018831   \n",
       "\n",
       "             reviewTextCountExcl  reviewTextCountInterr  reviewTextCountComas  \n",
       "BIN_OVERALL                                                                    \n",
       "0                      -0.083407               0.064561              0.029732  \n",
       "1                       0.068278              -0.052850             -0.024339  "
      ]
     },
     "execution_count": 71,
     "metadata": {},
     "output_type": "execute_result"
    }
   ],
   "source": [
    "df_created_features = df2.groupby('BIN_OVERALL').mean()\n",
    "df_created_features = df_created_features.drop(['overall', 'reviewTextPositiveSmiley', 'reviewTextNegativeSmiley', 'reviewTextAllCAPS', \"positiveRatio\", \"positiveRatioSummary\"], axis=1)\n",
    "df_created_features"
   ]
  },
  {
   "cell_type": "code",
   "execution_count": 72,
   "metadata": {
    "ExecuteTime": {
     "end_time": "2017-05-21T19:35:18.900766",
     "start_time": "2017-05-21T19:35:18.681923"
    },
    "collapsed": false
   },
   "outputs": [
    {
     "data": {
      "image/png": "[encoded data removed]",
      "text/plain": [
       "<matplotlib.figure.Figure at 0x7fe55a5fdcc0>"
      ]
     },
     "metadata": {},
     "output_type": "display_data"
    }
   ],
   "source": [
    "width = 0.35       # the width of the bars\n",
    "fig, ax = plt.subplots()\n",
    "\n",
    "ranking14 = df_created_features.as_matrix()[0]\n",
    "ind = np.arange(len(ranking14))  # the x locations for the groups\n",
    "rects1 = ax.bar(ind, ranking14, width, color='r')\n",
    "\n",
    "ranking5 = df_created_features.as_matrix()[1]\n",
    "rects2 = ax.bar(ind + width, ranking5, width, color='y')\n",
    "\n",
    "\n",
    "# add some text for labels, title and axes ticks\n",
    "ax.set_ylabel('Mean of values')\n",
    "ax.set_title('Mean of the values (standardized) for the created features')\n",
    "ax.set_xticks(ind)\n",
    "ax.set_xticklabels(df_created_features.columns.tolist(), rotation=30)\n",
    "ax.legend((rects1[0], rects2[0]), ('1-4 stars', '5 stars'))\n",
    "plt.show()"
   ]
  },
  {
   "cell_type": "markdown",
   "metadata": {},
   "source": [
    "The feature that we create from `helpful` seems do be very intersting. The number of exclamation (!) and interrogatoin (?) marks in the `reviewText` also seem to have a significant impact in the classification. On the other side, the length of the review and the number of point have fewer impact, but we can still see a small difference. We decided to keep all of this features for our classification models."
   ]
  },
  {
   "cell_type": "markdown",
   "metadata": {},
   "source": [
    "For the two smileys features, we can see below that the percentage of samples with a positive smiley is almost the same between the two classes. However, it is really different for negative smiley, where 5 stars ratings don't contain much. Even if the number of samples with negative smileys is low, we decided to keep this feature. For the `ALLCAPS` feature, it is the same deduction as for the `positiveSmiley` feature: we drop it too."
   ]
  },
  {
   "cell_type": "code",
   "execution_count": 73,
   "metadata": {
    "ExecuteTime": {
     "end_time": "2017-05-21T19:35:22.976025",
     "start_time": "2017-05-21T19:35:22.940451"
    },
    "collapsed": false
   },
   "outputs": [
    {
     "name": "stdout",
     "output_type": "stream",
     "text": [
      "-- Positive Smiley\n",
      "Percentage, per class, of samples with a positive smiley\n",
      "1-4 ==>  0.0230378356108 %\n",
      "5   ==>  0.0235244519393 %\n",
      "\n",
      "-- Negative Smiley\n",
      "Percentage, per class, of samples with a negative smiley\n",
      "1-4 ==>  0.00113300830873 %\n",
      "5   ==>  0.00053400786959 %\n",
      "\n",
      "-- ALL CAPS word\n",
      "Percentage, per class, of samples contains a words written in capital letters in the reviewText feature\n",
      "1-4 ==>  0.328435075191 %\n",
      "5   ==>  0.332743114109 %\n"
     ]
    }
   ],
   "source": [
    "total_nbr = df2.groupby(\"BIN_OVERALL\").size()\n",
    "\n",
    "print(\"-- Positive Smiley\")\n",
    "print(\"Percentage, per class, of samples with a positive smiley\")\n",
    "xx = df2[df2.reviewTextPositiveSmiley == 1].groupby(\"BIN_OVERALL\").size()\n",
    "print(\"1-4 ==> \", xx[0] / total_nbr[0], \"%\")\n",
    "print(\"5   ==> \", xx[1] / total_nbr[1], \"%\")\n",
    "\n",
    "print()\n",
    "\n",
    "print(\"-- Negative Smiley\")\n",
    "print(\"Percentage, per class, of samples with a negative smiley\")\n",
    "xx = df2[df2.reviewTextNegativeSmiley == 1].groupby(\"BIN_OVERALL\").size()\n",
    "print(\"1-4 ==> \", xx[0] / total_nbr[0], \"%\")\n",
    "print(\"5   ==> \", xx[1] / total_nbr[1], \"%\")\n",
    "\n",
    "print()\n",
    "\n",
    "print(\"-- ALL CAPS word\")\n",
    "print(\"Percentage, per class, of samples contains a words written in capital letters in the reviewText feature\")\n",
    "xx = df2[df2.reviewTextAllCAPS == 1].groupby(\"BIN_OVERALL\").size()\n",
    "print(\"1-4 ==> \", xx[0] / total_nbr[0], \"%\")\n",
    "print(\"5   ==> \", xx[1] / total_nbr[1], \"%\")"
   ]
  },
  {
   "cell_type": "code",
   "execution_count": 74,
   "metadata": {
    "ExecuteTime": {
     "end_time": "2017-05-21T19:35:34.809998",
     "start_time": "2017-05-21T19:35:34.359444"
    },
    "collapsed": false
   },
   "outputs": [
    {
     "name": "stderr",
     "output_type": "stream",
     "text": [
      "/home/ra-danny/anaconda36/lib/python3.6/site-packages/sklearn/utils/validation.py:429: DataConversionWarning: Data with input dtype int64 was converted to float64 by StandardScaler.\n",
      "  warnings.warn(msg, _DataConversionWarning)\n"
     ]
    }
   ],
   "source": [
    "# Let's compute the same features as we did for 'reviewText', but for the 'summary' feature this time !\n",
    "\n",
    "# Create the new features\n",
    "createTextLength(df2, \"summary\")\n",
    "createTextPunctuationFeatures(df2, \"summary\")\n",
    "contains_smiley(df2, \"summary\")\n",
    "createALLCAPS(df2, \"summary\")\n",
    "\n",
    "\n",
    "# Standardize with MinMaxScaler\n",
    "summaryScalerTextLength   = StandardScaler()\n",
    "summaryScalerCountPoint   = StandardScaler()\n",
    "summaryScalerCountExcl    = StandardScaler()\n",
    "summaryScalerCountInterr  = StandardScaler()\n",
    "summaryScalerCountComas   = StandardScaler()\n",
    "\n",
    "df2.summaryLength              =    summaryScalerTextLength.fit_transform(  df2.summaryLength.values.reshape(-1,1))\n",
    "df2.summaryCountPoints         =    summaryScalerCountPoint.fit_transform( df2.summaryCountPoints.values.reshape(-1,1))\n",
    "df2.summaryCountExcl           =    summaryScalerCountExcl.fit_transform(   df2.summaryCountExcl.values.reshape(-1,1))\n",
    "df2.summaryCountInterr         =    summaryScalerCountInterr.fit_transform( df2.summaryCountInterr.values.reshape(-1,1))\n",
    "df2.summaryCountComas          =    summaryScalerCountComas.fit_transform(  df2.summaryCountComas.values.reshape(-1,1))"
   ]
  },
  {
   "cell_type": "markdown",
   "metadata": {},
   "source": [
    "As for the `reviewText feature`, this features seems interesting. It is not a surprise that the length of the summary isn't usefull, but for the others ones, we decided to keep them."
   ]
  },
  {
   "cell_type": "code",
   "execution_count": 75,
   "metadata": {
    "ExecuteTime": {
     "end_time": "2017-05-21T19:35:39.131992",
     "start_time": "2017-05-21T19:35:38.899672"
    },
    "collapsed": false
   },
   "outputs": [
    {
     "data": {
      "image/png": "[encoded data removed]",
      "text/plain": [
       "<matplotlib.figure.Figure at 0x7fe55a390a58>"
      ]
     },
     "metadata": {},
     "output_type": "display_data"
    }
   ],
   "source": [
    "df_created_features = df2[[\"BIN_OVERALL\", \"summaryLength\", \"summaryCountPoints\", \"summaryCountExcl\", \"summaryCountInterr\", \"summaryCountComas\"]]\n",
    "df_created_features = df_created_features.groupby('BIN_OVERALL').mean()\n",
    "\n",
    "\n",
    "width = 0.35       # the width of the bars\n",
    "fig, ax = plt.subplots()\n",
    "\n",
    "ranking14 = df_created_features.as_matrix()[0]\n",
    "ind = np.arange(len(ranking14))  # the x locations for the groups\n",
    "rects1 = ax.bar(ind, ranking14, width, color='r')\n",
    "\n",
    "ranking5 = df_created_features.as_matrix()[1]\n",
    "rects2 = ax.bar(ind + width, ranking5, width, color='y')\n",
    "\n",
    "\n",
    "# add some text for labels, title and axes ticks\n",
    "ax.set_ylabel('Mean of values')\n",
    "ax.set_title('Mean of the values (standardized) for the created features')\n",
    "ax.set_xticks(ind)\n",
    "ax.set_xticklabels(df_created_features.columns.tolist(), rotation=50)\n",
    "ax.legend((rects1[0], rects2[0]), ('1-4 stars', '5 stars'))\n",
    "plt.show()"
   ]
  },
  {
   "cell_type": "markdown",
   "metadata": {},
   "source": [
    "For the two smileys features, `summaryPositiveSmiley` and `summaryNegativeSmiley` aren't present in a lot of samples to considering it useful for something. For the feature `summaryAllCAPS`, we consider that the difference between the two classes isn't that big to keep the feature."
   ]
  },
  {
   "cell_type": "code",
   "execution_count": 76,
   "metadata": {
    "ExecuteTime": {
     "end_time": "2017-05-21T19:35:41.048126",
     "start_time": "2017-05-21T19:35:41.013926"
    },
    "collapsed": false
   },
   "outputs": [
    {
     "name": "stdout",
     "output_type": "stream",
     "text": [
      "-- Positive Smiley\n",
      "Percentage, per class, of samples with a positive smiley\n",
      "1-4 ==>  0.000446336606468 %\n",
      "5   ==>  0.000843170320405 %\n",
      "\n",
      "-- Negative Smiley\n",
      "Percentage, per class, of samples with a negative smiley\n",
      "1-4 ==>  0.00034333585113 %\n",
      "5   ==>  0 %\n",
      "\n",
      "-- ALL CAPS word\n",
      "Percentage, per class, of samples contains a words written in capital letters in the reviewText feature\n",
      "1-4 ==>  0.0788985785896 %\n",
      "5   ==>  0.108712759978 %\n"
     ]
    }
   ],
   "source": [
    "total_nbr = df2.groupby(\"BIN_OVERALL\").size()\n",
    "\n",
    "print(\"-- Positive Smiley\")\n",
    "print(\"Percentage, per class, of samples with a positive smiley\")\n",
    "xx = df2[df2.summaryPositiveSmiley == 1].groupby(\"BIN_OVERALL\").size()\n",
    "print(\"1-4 ==> \", xx[0] / total_nbr[0], \"%\")\n",
    "print(\"5   ==> \", xx[1] / total_nbr[1], \"%\")\n",
    "\n",
    "print()\n",
    "\n",
    "print(\"-- Negative Smiley\")\n",
    "print(\"Percentage, per class, of samples with a negative smiley\")\n",
    "xx = df2[df2.summaryNegativeSmiley == 1].groupby(\"BIN_OVERALL\").size()\n",
    "print(\"1-4 ==> \", xx[0] / total_nbr[0], \"%\")\n",
    "print(\"5   ==> \", 0, \"%\")\n",
    "\n",
    "print()\n",
    "\n",
    "print(\"-- ALL CAPS word\")\n",
    "print(\"Percentage, per class, of samples contains a words written in capital letters in the reviewText feature\")\n",
    "xx = df2[df2.summaryAllCAPS == 1].groupby(\"BIN_OVERALL\").size()\n",
    "print(\"1-4 ==> \", xx[0] / total_nbr[0], \"%\")\n",
    "print(\"5   ==> \", xx[1] / total_nbr[1], \"%\")"
   ]
  },
  {
   "cell_type": "code",
   "execution_count": 77,
   "metadata": {
    "ExecuteTime": {
     "end_time": "2017-05-21T19:35:45.014050",
     "start_time": "2017-05-21T19:35:43.431194"
    },
    "collapsed": true
   },
   "outputs": [],
   "source": [
    "# Merge all features into a single dataframe\n",
    "X2 = hstack((x_reviewText, x_summary))\n",
    "featuresToUse = [\"helpfulPercentage\", \"reviewTextLength\", \"reviewTextCountPoints\", \"reviewTextCountExcl\", \"reviewTextCountInterr\", \"reviewTextCountComas\", \"reviewTextNegativeSmiley\", \\\n",
    "                \"summaryCountPoints\", \"summaryCountExcl\", \"summaryCountInterr\", \"summaryCountComas\", \"positiveRatio\", \"positiveRatioSummary\"]\n",
    "for c in featuresToUse:\n",
    "    X2 = hstack((X2,(df2[c])[:,None]))"
   ]
  },
  {
   "cell_type": "code",
   "execution_count": 78,
   "metadata": {
    "ExecuteTime": {
     "end_time": "2017-05-21T19:35:45.843577",
     "start_time": "2017-05-21T19:35:45.835598"
    },
    "collapsed": true
   },
   "outputs": [],
   "source": [
    "y = df2.BIN_OVERALL"
   ]
  },
  {
   "cell_type": "code",
   "execution_count": 79,
   "metadata": {
    "ExecuteTime": {
     "end_time": "2017-05-21T19:35:49.045335",
     "start_time": "2017-05-21T19:35:47.263954"
    },
    "collapsed": false
   },
   "outputs": [
    {
     "name": "stdout",
     "output_type": "stream",
     "text": [
      "X_train:  (51764, 26525)\n",
      "y_train:  (51764,)\n",
      "X_test:   (12942, 26525)\n",
      "y_test:   (12942,)\n"
     ]
    }
   ],
   "source": [
    "X_train, X_test, y_train, y_test = train_test_split(X2, y, test_size=0.2, random_state=seed)\n",
    "\n",
    "# Train\n",
    "print(\"X_train: \", X_train.shape)\n",
    "print(\"y_train: \", y_train.shape)\n",
    "\n",
    "# Test\n",
    "print(\"X_test:  \", X_test.shape)\n",
    "print(\"y_test:  \", y_test.shape)"
   ]
  },
  {
   "cell_type": "markdown",
   "metadata": {},
   "source": [
    "> **Some notes about the preprocessing for steps 2 & 3**\n",
    ">\n",
    "> * We decide to not merge the features 'reviewText' and 'summary'. They are both two textual features that we transform into numerical values and we use the same piple, so one could argue that they could have been combined and speed up the computational time of the models. Even is this last argument is interesting, we think that the information stored in the 'summary' feature is very important. In a summary, some key words are contained and merging them with the words in the 'reviewText' will remove the some weight on our model. So we decided to use to separate pipeline for this two separated features.\n",
    ">\n",
    ">\n",
    "> * The data is skewed. For step 2, the difference exists but it isn't significant. But for step 3, where we will build a classifier with 5 classes, skewed data can have a large impact. We think about it and decided to... do nothing. As we have seen from the data in step 1, the probability for a review to be a 5 stars is much higher that to be a 1 start product. Therefore, we hope that the unseend data follows the same path.\n",
    ">\n",
    ">\n",
    "> * Coming back to the 'reviewerID' feature, we could also have created another new feature for the steps 2 & 3: Try to find out if an user is a \"troll\" or not. If that user only rates negatively. That something we didn't take into account in this project: the reviewer, the user. To take it into account, we could have analyzed the impact of adding the rating mean of the user as a new feature. Then standardize it, so new users will be assigned with a mean of 0."
   ]
  },
  {
   "cell_type": "markdown",
   "metadata": {},
   "source": [
    "## <a name=\"models2\"> </a> Models"
   ]
  },
  {
   "cell_type": "markdown",
   "metadata": {},
   "source": [
    "### Baseline model"
   ]
  },
  {
   "cell_type": "code",
   "execution_count": 80,
   "metadata": {
    "ExecuteTime": {
     "end_time": "2017-05-21T19:35:51.061925",
     "start_time": "2017-05-21T19:35:51.038192"
    },
    "collapsed": false
   },
   "outputs": [
    {
     "name": "stdout",
     "output_type": "stream",
     "text": [
      "Precision mean:  0.501699828321\n"
     ]
    }
   ],
   "source": [
    "baselineModel = DummyClassifier(random_state=seed)\n",
    "baselineModel.fit(X_train,y_train)\n",
    "y_pred = baselineModel.predict(X_test)\n",
    "\n",
    "print_precision(y_test, y_pred)"
   ]
  },
  {
   "cell_type": "code",
   "execution_count": 81,
   "metadata": {
    "ExecuteTime": {
     "end_time": "2017-05-21T19:35:54.332976",
     "start_time": "2017-05-21T19:35:54.327854"
    },
    "collapsed": true
   },
   "outputs": [],
   "source": [
    "baseline_precision = 0.501699828321"
   ]
  },
  {
   "cell_type": "markdown",
   "metadata": {},
   "source": [
    "We have two classes, it is normal to be around 0.5"
   ]
  },
  {
   "cell_type": "markdown",
   "metadata": {},
   "source": [
    "### Support Vector Model: Linear Support Vector Classification"
   ]
  },
  {
   "cell_type": "code",
   "execution_count": 82,
   "metadata": {
    "ExecuteTime": {
     "end_time": "2017-05-21T19:38:22.499873",
     "start_time": "2017-05-21T19:36:21.584291"
    },
    "collapsed": false
   },
   "outputs": [
    {
     "data": {
      "text/plain": [
       "{'svm_clf__C': 0.125}"
      ]
     },
     "execution_count": 82,
     "metadata": {},
     "output_type": "execute_result"
    }
   ],
   "source": [
    "# setup pipeline\n",
    "estimators = []\n",
    "estimators.append(('svm_clf', LinearSVC()))\n",
    "pipe = Pipeline(estimators)\n",
    "\n",
    "# tuning requsted parameter\n",
    "tuned_parameters = [{'svm_clf__C': np.logspace(-5,15,11,base=2.0)}]\n",
    "clf = GridSearchCV(pipe, tuned_parameters, cv=5, scoring='accuracy')\n",
    "\n",
    "# Speed up computation: with only a subset of the training data for Grid search\n",
    "subset_size = 5000\n",
    "clf.fit(X_train[:subset_size],y_train[:subset_size])\n",
    "clf.best_params_"
   ]
  },
  {
   "cell_type": "code",
   "execution_count": 83,
   "metadata": {
    "ExecuteTime": {
     "end_time": "2017-05-21T19:38:38.458510",
     "start_time": "2017-05-21T19:38:38.454889"
    },
    "collapsed": true
   },
   "outputs": [],
   "source": [
    "# bect C value resulting from GridSearch\n",
    "best_C = 0.125"
   ]
  },
  {
   "cell_type": "code",
   "execution_count": 84,
   "metadata": {
    "ExecuteTime": {
     "end_time": "2017-05-21T19:39:11.530846",
     "start_time": "2017-05-21T19:38:40.082977"
    },
    "collapsed": false
   },
   "outputs": [
    {
     "name": "stdout",
     "output_type": "stream",
     "text": [
      "Precision mean:  0.779240039965\n"
     ]
    }
   ],
   "source": [
    "svc = LinearSVC(C=best_C)\n",
    "svc.fit(X_train, y_train)\n",
    "\n",
    "y_pred = svc.predict(X_test)\n",
    "print_precision(y_test, y_pred)"
   ]
  },
  {
   "cell_type": "code",
   "execution_count": 85,
   "metadata": {
    "ExecuteTime": {
     "end_time": "2017-05-21T19:39:25.999900",
     "start_time": "2017-05-21T19:39:25.995487"
    },
    "collapsed": true
   },
   "outputs": [],
   "source": [
    "svc_precision = 0.779240039965"
   ]
  },
  {
   "cell_type": "markdown",
   "metadata": {},
   "source": [
    "### Linear Model:  Stochastic Gradient Descent"
   ]
  },
  {
   "cell_type": "code",
   "execution_count": 86,
   "metadata": {
    "ExecuteTime": {
     "end_time": "2017-05-21T19:39:41.304513",
     "start_time": "2017-05-21T19:39:41.283342"
    },
    "collapsed": false
   },
   "outputs": [
    {
     "name": "stdout",
     "output_type": "stream",
     "text": [
      "Best params: {'alpha': 0.0001, 'average': False, 'class_weight': None, 'epsilon': 0.1, 'eta0': 0.0, 'fit_intercept': True,          'l1_ratio': 0.15, 'learning_rate': 'optimal', 'loss': 'hinge', 'n_iter': 5, 'n_jobs': 1, 'penalty': 'elasticnet', 'power_t': 0.5, 'random_state': 2017, 'shuffle': True, 'verbose': 0, 'warm_start': False}\n"
     ]
    }
   ],
   "source": [
    "parameters = {\n",
    "    'penalty': ['l1', 'l2', 'elasticnet'],\n",
    "    'alpha': [0.001, 0.0001, 0.00001, 0.000001]\n",
    "}\n",
    "cv = KFold(n_splits=10, random_state=seed)\n",
    "sgd = GridSearchCV(SGDClassifier(loss=\"hinge\", random_state=seed), parameters,\n",
    "     scoring=\"accuracy\", cv=cv)\n",
    "\n",
    "runGridSearch = False\n",
    "if (runGridSearch):\n",
    "    X_train_s, X_test_s, y_train_s, y_test_s = train_test_split(X_train, y_train, test_size=0.001, random_state=seed)\n",
    "    X_train_s1, X_test_s1, y_train_s1, y_test_s1 = train_test_split(X_train_s, y_train_s, test_size=0.2, random_state=seed)\n",
    "    sgd.fit(X_train_s1, y_train_s1)\n",
    "    print(\"Best params:\", sgd.best_estimator_.get_params())\n",
    "else:\n",
    "    # Copy/Paste from the results of the 'if' block\n",
    "    print(\"Best params: {'alpha': 0.0001, 'average': False, 'class_weight': None, 'epsilon': 0.1, 'eta0': 0.0, 'fit_intercept': True,\\\n",
    "          'l1_ratio': 0.15, 'learning_rate': 'optimal', 'loss': 'hinge', 'n_iter': 5, 'n_jobs': 1, 'penalty': 'elasticnet', 'power_t': 0.5, 'random_state': 2017, 'shuffle': True, 'verbose': 0, 'warm_start': False}\")"
   ]
  },
  {
   "cell_type": "code",
   "execution_count": 87,
   "metadata": {
    "ExecuteTime": {
     "end_time": "2017-05-21T19:39:44.472126",
     "start_time": "2017-05-21T19:39:43.950980"
    },
    "collapsed": false
   },
   "outputs": [
    {
     "name": "stdout",
     "output_type": "stream",
     "text": [
      "Precision mean:  0.773593728562\n"
     ]
    }
   ],
   "source": [
    "# Build the SGDClassifier with the best params return by grid search\n",
    "sgd = SGDClassifier(alpha=0.0001, average=False, class_weight=None, epsilon=0.1, eta0=0.0, fit_intercept=True, l1_ratio=0.15, learning_rate='optimal', loss='hinge', n_iter=5, n_jobs=1, penalty='elasticnet',\n",
    "                    power_t= 0.5, random_state=2017, shuffle=True, verbose=0, warm_start=False)\n",
    "\n",
    "# Predict testing data\n",
    "sgd.fit(X_train, y_train)\n",
    "y_pred = sgd.predict(X_test)\n",
    "print_precision(y_test, y_pred)"
   ]
  },
  {
   "cell_type": "code",
   "execution_count": 88,
   "metadata": {
    "ExecuteTime": {
     "end_time": "2017-05-21T19:39:49.216929",
     "start_time": "2017-05-21T19:39:49.210377"
    },
    "collapsed": true
   },
   "outputs": [],
   "source": [
    "SGD_precision = 0.773593728562"
   ]
  },
  {
   "cell_type": "markdown",
   "metadata": {},
   "source": [
    "### Similarity-based model: KNN Classifier"
   ]
  },
  {
   "cell_type": "code",
   "execution_count": 89,
   "metadata": {
    "ExecuteTime": {
     "end_time": "2017-05-21T19:39:56.438290",
     "start_time": "2017-05-21T19:39:56.416892"
    },
    "collapsed": false
   },
   "outputs": [
    {
     "name": "stdout",
     "output_type": "stream",
     "text": [
      "Pipeline(steps=[('knn_clf', KNeighborsClassifier(algorithm='brute', leaf_size=30, metric='minkowski',           metric_params=None, n_jobs=1, n_neighbors=71, p=2,           weights='uniform'))])\n"
     ]
    }
   ],
   "source": [
    "estimators = []\n",
    "estimators.append(('knn_clf', KNeighborsClassifier()))\n",
    "knn_clf_pipe = Pipeline(estimators)\n",
    "knn_clf_pipe.set_params(knn_clf__algorithm='brute')\n",
    "knn_clf_pipe.set_params(knn_clf__weights='distance')\n",
    "\n",
    "# create a grid search over n_neighbors values\n",
    "# We decided to test from a large variety of neighbors possible. To speed up the computation time, we didn't test all possibilities, but use a step between each number\n",
    "parameters = {\n",
    "        'knn_clf__n_neighbors' : range(1,151,10)\n",
    "}\n",
    "estimator_knnclf = GridSearchCV(knn_clf_pipe, parameters, cv=5)\n",
    "\n",
    "run = False\n",
    "if run:\n",
    "    # With our machines, we had several memory errors. Therefore we decide to use less data in order to have some results\n",
    "    subset_size = 10000\n",
    "    # evaluate the grid search and print best regressor\n",
    "    estimator_knnclf.fit(X_train[:subset_size], y_train[:subset_size])\n",
    "    print(estimator_knnclf.best_estimator_)\n",
    "else:\n",
    "    # Copy/Paste from the results of the 'if' block\n",
    "    print(\"Pipeline(steps=[('knn_clf', KNeighborsClassifier(algorithm='brute', leaf_size=30, metric='minkowski',\\\n",
    "           metric_params=None, n_jobs=1, n_neighbors=71, p=2,\\\n",
    "           weights='uniform'))])\")"
   ]
  },
  {
   "cell_type": "code",
   "execution_count": 90,
   "metadata": {
    "ExecuteTime": {
     "end_time": "2017-05-21T19:39:59.987341",
     "start_time": "2017-05-21T19:39:59.982719"
    },
    "collapsed": true
   },
   "outputs": [],
   "source": [
    "# best number of neighbors obtained using GridSearchCV\n",
    "best_clf_tree_neighbors = 71"
   ]
  },
  {
   "cell_type": "code",
   "execution_count": 91,
   "metadata": {
    "ExecuteTime": {
     "end_time": "2017-05-21T19:40:14.512736",
     "start_time": "2017-05-21T19:40:02.322991"
    },
    "collapsed": false
   },
   "outputs": [
    {
     "name": "stdout",
     "output_type": "stream",
     "text": [
      "Precision mean:  0.633376574436\n"
     ]
    }
   ],
   "source": [
    "# fix the number of neighbors to the best value\n",
    "knn_clf_pipe.set_params(knn_clf__n_neighbors=best_clf_tree_neighbors)\n",
    "\n",
    "# fit the model to the training set\n",
    "knn_clf_pipe.fit(X_train, y_train)\n",
    "\n",
    "# Need to use a subset to avoid memorry_errors !\n",
    "subset_size = 2000\n",
    "y_pred = knn_clf_pipe.predict(X_test[:subset_size])\n",
    "print_precision(y_test[:subset_size], y_pred)"
   ]
  },
  {
   "cell_type": "code",
   "execution_count": 92,
   "metadata": {
    "ExecuteTime": {
     "end_time": "2017-05-21T19:40:26.388865",
     "start_time": "2017-05-21T19:40:26.382898"
    },
    "collapsed": true
   },
   "outputs": [],
   "source": [
    "knn_precision = 0.633376574436"
   ]
  },
  {
   "cell_type": "markdown",
   "metadata": {},
   "source": [
    "### Information Based model: Random Forest Classifier"
   ]
  },
  {
   "cell_type": "code",
   "execution_count": 93,
   "metadata": {
    "ExecuteTime": {
     "end_time": "2017-05-21T19:40:27.999991",
     "start_time": "2017-05-21T19:40:27.982854"
    },
    "collapsed": false
   },
   "outputs": [
    {
     "name": "stdout",
     "output_type": "stream",
     "text": [
      "{'max_depth': 41, 'n_estimators': 501}\n"
     ]
    }
   ],
   "source": [
    "tuned_parameters = {\n",
    "    'n_estimators': range(1,801,100),\n",
    "    'max_depth': range(1,101,20)\n",
    "    }\n",
    "\n",
    "rf_clf = GridSearchCV(RandomForestClassifier(), tuned_parameters, cv=5, scoring='accuracy')\n",
    "\n",
    "run = False\n",
    "if run:\n",
    "    # As for before, we need to use less data to avoid 'memory_errors'\n",
    "    subset_size = 1000\n",
    "    rf_clf.fit(X_train[:subset_size],y_train[:subset_size])\n",
    "    print(rf_clf.best_params_)\n",
    "else:\n",
    "    print(\"{'max_depth': 41, 'n_estimators': 501}\")"
   ]
  },
  {
   "cell_type": "code",
   "execution_count": 94,
   "metadata": {
    "ExecuteTime": {
     "end_time": "2017-05-21T19:40:29.713906",
     "start_time": "2017-05-21T19:40:29.701964"
    },
    "collapsed": false
   },
   "outputs": [
    {
     "name": "stdout",
     "output_type": "stream",
     "text": [
      "{'max_depth': 32, 'n_estimators': 507}\n"
     ]
    }
   ],
   "source": [
    "tuned_parameters = {\n",
    "    'n_estimators': range(492,511,5),\n",
    "    'max_depth': range(32,51,3)\n",
    "    }\n",
    "\n",
    "rf_clf = GridSearchCV(RandomForestClassifier(), tuned_parameters, cv=5, scoring='accuracy')\n",
    "\n",
    "run = False\n",
    "if run:\n",
    "    # As for before, we need to use less data to avoid 'memory_errors'\n",
    "    subset_size = 1000\n",
    "    rf_clf.fit(X_train[:subset_size],y_train[:subset_size])\n",
    "    print(rf_clf.best_params_)\n",
    "else:\n",
    "    print(\"{'max_depth': 32, 'n_estimators': 507}\")"
   ]
  },
  {
   "cell_type": "code",
   "execution_count": 95,
   "metadata": {
    "ExecuteTime": {
     "end_time": "2017-05-21T19:40:31.806423",
     "start_time": "2017-05-21T19:40:31.800894"
    },
    "collapsed": true
   },
   "outputs": [],
   "source": [
    "best_n_estimators = 507\n",
    "best_clf_tree_depth = 32"
   ]
  },
  {
   "cell_type": "code",
   "execution_count": 96,
   "metadata": {
    "ExecuteTime": {
     "end_time": "2017-05-21T19:41:21.828598",
     "start_time": "2017-05-21T19:40:35.869113"
    },
    "collapsed": false
   },
   "outputs": [
    {
     "name": "stdout",
     "output_type": "stream",
     "text": [
      "Precision mean:  0.761861106092\n"
     ]
    }
   ],
   "source": [
    "rf_clf = RandomForestClassifier(n_estimators=best_n_estimators, max_depth=best_clf_tree_depth)\n",
    "\n",
    "# As for before, we need to use less data to avoid 'memory_errors' and speed up the all computation\n",
    "subset_size = 10000\n",
    "rf_clf.fit(X_train[:subset_size],y_train[:subset_size])\n",
    "\n",
    "y_pred = rf_clf.predict(X_test)\n",
    "print_precision(y_test, y_pred)"
   ]
  },
  {
   "cell_type": "code",
   "execution_count": 97,
   "metadata": {
    "ExecuteTime": {
     "end_time": "2017-05-21T19:41:42.878602",
     "start_time": "2017-05-21T19:41:42.875114"
    },
    "collapsed": true
   },
   "outputs": [],
   "source": [
    "randomForest_precision = 0.761861106092"
   ]
  },
  {
   "cell_type": "markdown",
   "metadata": {},
   "source": [
    "## <a name=\"modelscomparison2\"> </a>Models comparison"
   ]
  },
  {
   "cell_type": "code",
   "execution_count": 98,
   "metadata": {
    "ExecuteTime": {
     "end_time": "2017-05-21T19:41:44.968769",
     "start_time": "2017-05-21T19:41:44.768167"
    },
    "collapsed": false
   },
   "outputs": [
    {
     "data": {
      "image/png": "[encoded data removed]",
      "text/plain": [
       "<matplotlib.figure.Figure at 0x7fe55aeb3d68>"
      ]
     },
     "metadata": {},
     "output_type": "display_data"
    }
   ],
   "source": [
    "models_precision = [baseline_precision, svc_precision, SGD_precision, knn_precision, randomForest_precision]\n",
    "models = [\"Baseline\", \"SVC\", \"SGD\", \"KNN\", \"Random Forest\"]\n",
    "\n",
    "models_df = pd.DataFrame(models_precision, models)\n",
    "models_df[0].plot(kind='bar')\n",
    "plt.show()"
   ]
  },
  {
   "cell_type": "code",
   "execution_count": 99,
   "metadata": {
    "ExecuteTime": {
     "end_time": "2017-05-21T19:41:47.525461",
     "start_time": "2017-05-21T19:41:47.517540"
    },
    "collapsed": false
   },
   "outputs": [
    {
     "data": {
      "text/plain": [
       "[0.501699828321,\n",
       " 0.779240039965,\n",
       " 0.773593728562,\n",
       " 0.633376574436,\n",
       " 0.761861106092]"
      ]
     },
     "execution_count": 99,
     "metadata": {},
     "output_type": "execute_result"
    }
   ],
   "source": [
    "models_precision"
   ]
  },
  {
   "cell_type": "markdown",
   "metadata": {},
   "source": [
    "As for step 1, we have the two linear models and the tree model that perform the best. We can also note that the KNN model has 'reduce' its difference with the others. But as for step 1, the two linear models are perform better and the **SVC model** seems to be the best fit to predict the unseen data (difference of 0.0056 !)"
   ]
  },
  {
   "cell_type": "markdown",
   "metadata": {},
   "source": [
    "## <a name=\"unseen2\"> </a>Prediction of the unseen data"
   ]
  },
  {
   "cell_type": "code",
   "execution_count": 100,
   "metadata": {
    "ExecuteTime": {
     "end_time": "2017-05-21T19:41:55.661599",
     "start_time": "2017-05-21T19:41:55.230664"
    },
    "collapsed": false
   },
   "outputs": [
    {
     "data": {
      "text/html": [
       "<div>\n",
       "<table border=\"1\" class=\"dataframe\">\n",
       "  <thead>\n",
       "    <tr style=\"text-align: right;\">\n",
       "      <th></th>\n",
       "      <th>Unnamed: 0</th>\n",
       "      <th>reviewerID</th>\n",
       "      <th>asin</th>\n",
       "      <th>reviewerName</th>\n",
       "      <th>helpful</th>\n",
       "      <th>reviewText</th>\n",
       "      <th>summary</th>\n",
       "      <th>unixReviewTime</th>\n",
       "      <th>reviewTime</th>\n",
       "      <th>label</th>\n",
       "    </tr>\n",
       "  </thead>\n",
       "  <tbody>\n",
       "    <tr>\n",
       "      <th>7606</th>\n",
       "      <td>7606</td>\n",
       "      <td>A14GRP7FESS14S</td>\n",
       "      <td>B002W9NCKW</td>\n",
       "      <td>Cher \"Cher\"</td>\n",
       "      <td>[0, 0]</td>\n",
       "      <td>Looked up the lyrics for this song and found i...</td>\n",
       "      <td>Surprising and Inspiring...</td>\n",
       "      <td>1388707200</td>\n",
       "      <td>01 3, 2014</td>\n",
       "      <td>?</td>\n",
       "    </tr>\n",
       "    <tr>\n",
       "      <th>3253</th>\n",
       "      <td>3253</td>\n",
       "      <td>A2Q52DYTI0JV3P</td>\n",
       "      <td>B0024RI70M</td>\n",
       "      <td>Smiles \"Smiles\"</td>\n",
       "      <td>[0, 0]</td>\n",
       "      <td>Diane Birch has a fresh sound. She is an absol...</td>\n",
       "      <td>Awesome!</td>\n",
       "      <td>1245196800</td>\n",
       "      <td>06 17, 2009</td>\n",
       "      <td>?</td>\n",
       "    </tr>\n",
       "    <tr>\n",
       "      <th>10031</th>\n",
       "      <td>10031</td>\n",
       "      <td>A2TOHSAH9W7IO1</td>\n",
       "      <td>B00122A8HA</td>\n",
       "      <td>Carolyn Peterson</td>\n",
       "      <td>[0, 0]</td>\n",
       "      <td>Can listen to Josh Groban any time.  He has th...</td>\n",
       "      <td>Love this</td>\n",
       "      <td>1362182400</td>\n",
       "      <td>03 2, 2013</td>\n",
       "      <td>?</td>\n",
       "    </tr>\n",
       "    <tr>\n",
       "      <th>1699</th>\n",
       "      <td>1699</td>\n",
       "      <td>AWPCZDD0G62UR</td>\n",
       "      <td>B0089DOZ9M</td>\n",
       "      <td>N.A.S.</td>\n",
       "      <td>[0, 0]</td>\n",
       "      <td>Hollywood brings electronica together with an ...</td>\n",
       "      <td>Hollywood brings the electric</td>\n",
       "      <td>1387497600</td>\n",
       "      <td>12 20, 2013</td>\n",
       "      <td>?</td>\n",
       "    </tr>\n",
       "    <tr>\n",
       "      <th>3709</th>\n",
       "      <td>3709</td>\n",
       "      <td>A2BXI4B2MUU634</td>\n",
       "      <td>B002YI04P2</td>\n",
       "      <td>Josh</td>\n",
       "      <td>[0, 0]</td>\n",
       "      <td>Starts off real nice with Props, and all the s...</td>\n",
       "      <td>Good, but definitely no Paullelujah</td>\n",
       "      <td>1395100800</td>\n",
       "      <td>03 18, 2014</td>\n",
       "      <td>?</td>\n",
       "    </tr>\n",
       "  </tbody>\n",
       "</table>\n",
       "</div>"
      ],
      "text/plain": [
       "       Unnamed: 0      reviewerID        asin      reviewerName helpful  \\\n",
       "7606         7606  A14GRP7FESS14S  B002W9NCKW       Cher \"Cher\"  [0, 0]   \n",
       "3253         3253  A2Q52DYTI0JV3P  B0024RI70M   Smiles \"Smiles\"  [0, 0]   \n",
       "10031       10031  A2TOHSAH9W7IO1  B00122A8HA  Carolyn Peterson  [0, 0]   \n",
       "1699         1699   AWPCZDD0G62UR  B0089DOZ9M            N.A.S.  [0, 0]   \n",
       "3709         3709  A2BXI4B2MUU634  B002YI04P2              Josh  [0, 0]   \n",
       "\n",
       "                                              reviewText  \\\n",
       "7606   Looked up the lyrics for this song and found i...   \n",
       "3253   Diane Birch has a fresh sound. She is an absol...   \n",
       "10031  Can listen to Josh Groban any time.  He has th...   \n",
       "1699   Hollywood brings electronica together with an ...   \n",
       "3709   Starts off real nice with Props, and all the s...   \n",
       "\n",
       "                                   summary  unixReviewTime   reviewTime label  \n",
       "7606           Surprising and Inspiring...      1388707200   01 3, 2014     ?  \n",
       "3253                              Awesome!      1245196800  06 17, 2009     ?  \n",
       "10031                            Love this      1362182400   03 2, 2013     ?  \n",
       "1699         Hollywood brings the electric      1387497600  12 20, 2013     ?  \n",
       "3709   Good, but definitely no Paullelujah      1395100800  03 18, 2014     ?  "
      ]
     },
     "execution_count": 100,
     "metadata": {},
     "output_type": "execute_result"
    }
   ],
   "source": [
    "# We will apply the same modification as for the preprocessing step for this new dataset\n",
    "\n",
    "!gunzip -c amazon_step1_unseen.csv.gz > amazon_step1_unseen.csv\n",
    "df2_unseen = pd.read_csv(\"amazon_step2_unseen.csv\")\n",
    "\n",
    "df2_unseen.sample(5)"
   ]
  },
  {
   "cell_type": "code",
   "execution_count": 101,
   "metadata": {
    "ExecuteTime": {
     "end_time": "2017-05-21T19:41:57.962992",
     "start_time": "2017-05-21T19:41:57.941452"
    },
    "collapsed": false
   },
   "outputs": [
    {
     "data": {
      "text/plain": [
       "Unnamed: 0         0\n",
       "reviewerID         0\n",
       "asin               0\n",
       "reviewerName      44\n",
       "helpful            0\n",
       "reviewText         0\n",
       "summary            0\n",
       "unixReviewTime     0\n",
       "reviewTime         0\n",
       "label              0\n",
       "dtype: int64"
      ]
     },
     "execution_count": 101,
     "metadata": {},
     "output_type": "execute_result"
    }
   ],
   "source": [
    "# Verifiy if this data as null values\n",
    "df2_unseen.isnull().sum()"
   ]
  },
  {
   "cell_type": "code",
   "execution_count": 102,
   "metadata": {
    "ExecuteTime": {
     "end_time": "2017-05-21T19:46:02.535364",
     "start_time": "2017-05-21T19:42:01.411665"
    },
    "collapsed": false
   },
   "outputs": [
    {
     "name": "stderr",
     "output_type": "stream",
     "text": [
      "/home/ra-danny/anaconda36/lib/python3.6/site-packages/sklearn/utils/validation.py:429: DataConversionWarning: Data with input dtype int64 was converted to float64 by StandardScaler.\n",
      "  warnings.warn(msg, _DataConversionWarning)\n"
     ]
    }
   ],
   "source": [
    "# Create the new features\n",
    "createHelpfulPercentage(df2_unseen)\n",
    "createTextLength(df2_unseen, \"reviewText\")\n",
    "createTextPunctuationFeatures(df2_unseen, \"reviewText\")\n",
    "contains_smiley(df2_unseen, \"reviewText\")\n",
    "createALLCAPS(df2_unseen, \"reviewText\")\n",
    "createTextLength(df2_unseen, \"summary\")\n",
    "createTextPunctuationFeatures(df2_unseen, \"summary\")\n",
    "contains_smiley(df2_unseen, \"summary\")\n",
    "createALLCAPS(df2_unseen, \"summary\")\n",
    "wordSentimentRatio(df2_unseen)\n",
    "\n",
    "\n",
    "# Standardize with MinMaxScaler\n",
    "df2_unseen.helpfulPercentage          =    scalerHelpful.transform(     df2_unseen.helpfulPercentage.values.reshape(-1,1))\n",
    "df2_unseen.reviewTextLength           =    scalerTextLength.transform(  df2_unseen.reviewTextLength.values.reshape(-1,1))\n",
    "df2_unseen.reviewTextCountPoints      =    scalerCountPoints.transform( df2_unseen.reviewTextCountPoints.values.reshape(-1,1))\n",
    "df2_unseen.reviewTextCountExcl        =    scalerCountExcl.transform(   df2_unseen.reviewTextCountExcl.values.reshape(-1,1))\n",
    "df2_unseen.reviewTextCountInterr      =    scalerCountInterr.transform( df2_unseen.reviewTextCountInterr.values.reshape(-1,1))\n",
    "df2_unseen.reviewTextCountComas       =    scalerCountComas.transform(  df2_unseen.reviewTextCountComas.values.reshape(-1,1))\n",
    "df2_unseen.summaryLength              =    summaryScalerTextLength.transform(  df2_unseen.summaryLength.values.reshape(-1,1))\n",
    "df2_unseen.summaryCountPoints         =    summaryScalerCountPoint.transform( df2_unseen.summaryCountPoints.values.reshape(-1,1))\n",
    "df2_unseen.summaryCountExcl           =    summaryScalerCountExcl.transform(   df2_unseen.summaryCountExcl.values.reshape(-1,1))\n",
    "df2_unseen.summaryCountInterr         =    summaryScalerCountInterr.transform( df2_unseen.summaryCountInterr.values.reshape(-1,1))\n",
    "df2_unseen.summaryCountComas          =    summaryScalerCountComas.transform(  df2_unseen.summaryCountComas.values.reshape(-1,1))\n",
    "\n",
    "# TF-IDF for 'reviewText'\n",
    "pipe_modified.fit(df2.reviewText)\n",
    "x_reviewText = pipe_modified.transform(df2_unseen.reviewText)\n",
    "\n",
    "# TF-IDF for 'summary'\n",
    "pipe_modified.fit(df2.summary)\n",
    "x_summary = pipe_modified.transform(df2_unseen.summary)\n",
    "\n",
    "# Merge all features into a single dataframe\n",
    "X_unseen = hstack((x_reviewText, x_summary))\n",
    "featuresToUse = [\"helpfulPercentage\", \"reviewTextLength\", \"reviewTextCountPoints\", \"reviewTextCountExcl\", \"reviewTextCountInterr\", \"reviewTextCountComas\", \"reviewTextNegativeSmiley\", \\\n",
    "                \"summaryCountPoints\", \"summaryCountExcl\", \"summaryCountInterr\", \"summaryCountComas\", \"positiveRatio\", \"positiveRatioSummary\"]\n",
    "for c in featuresToUse:\n",
    "    X_unseen = hstack((X_unseen,(df2_unseen[c])[:,None]))"
   ]
  },
  {
   "cell_type": "code",
   "execution_count": 106,
   "metadata": {
    "ExecuteTime": {
     "end_time": "2017-05-21T19:49:51.852981",
     "start_time": "2017-05-21T19:49:08.488904"
    },
    "collapsed": false
   },
   "outputs": [],
   "source": [
    "# SVC Classifier gives use the best prediction accuracy, we use it \n",
    "svc = LinearSVC(C=best_C)\n",
    "svc.fit(X2, y)\n",
    "\n",
    "y_unseen_pred = svc.predict(X_unseen)"
   ]
  },
  {
   "cell_type": "code",
   "execution_count": 107,
   "metadata": {
    "ExecuteTime": {
     "end_time": "2017-05-21T19:49:55.003744",
     "start_time": "2017-05-21T19:49:54.939047"
    },
    "collapsed": true
   },
   "outputs": [],
   "source": [
    "# export the prediction into a file named \"pred2.txt\"\n",
    "file = open('pred2.txt', 'w')\n",
    "for item in y_unseen_pred:\n",
    "  file.write(\"%s\\n\" % item)"
   ]
  },
  {
   "cell_type": "markdown",
   "metadata": {
    "collapsed": true
   },
   "source": [
    "# <a name=\"step3\"> </a>Step 3\n",
    "\n",
    "> Predict the actual number of stars, based on the reviewText field. Again, the dataset for this step is filtered down to the Digital_Music category. Construct the problem as a multiclass classification (5 categories labeled from 1 to 5).\n",
    ">\n",
    "> `f(reviewText) -> overall`"
   ]
  },
  {
   "cell_type": "markdown",
   "metadata": {},
   "source": [
    "## <a name=\"preprocessing3\"> </a> Preprocessing"
   ]
  },
  {
   "cell_type": "code",
   "execution_count": 108,
   "metadata": {
    "ExecuteTime": {
     "end_time": "2017-05-21T19:50:00.145419",
     "start_time": "2017-05-21T19:50:00.100664"
    },
    "collapsed": false
   },
   "outputs": [
    {
     "data": {
      "text/html": [
       "<div>\n",
       "<table border=\"1\" class=\"dataframe\">\n",
       "  <thead>\n",
       "    <tr style=\"text-align: right;\">\n",
       "      <th></th>\n",
       "      <th>overall</th>\n",
       "      <th>reviewText</th>\n",
       "      <th>summary</th>\n",
       "      <th>helpfulPercentage</th>\n",
       "      <th>reviewTextLength</th>\n",
       "      <th>reviewTextCountPoints</th>\n",
       "      <th>reviewTextCountExcl</th>\n",
       "      <th>reviewTextCountInterr</th>\n",
       "      <th>reviewTextCountComas</th>\n",
       "      <th>reviewTextPositiveSmiley</th>\n",
       "      <th>...</th>\n",
       "      <th>positiveRatio</th>\n",
       "      <th>positiveRatioSummary</th>\n",
       "      <th>summaryLength</th>\n",
       "      <th>summaryCountPoints</th>\n",
       "      <th>summaryCountExcl</th>\n",
       "      <th>summaryCountInterr</th>\n",
       "      <th>summaryCountComas</th>\n",
       "      <th>summaryPositiveSmiley</th>\n",
       "      <th>summaryNegativeSmiley</th>\n",
       "      <th>summaryAllCAPS</th>\n",
       "    </tr>\n",
       "  </thead>\n",
       "  <tbody>\n",
       "    <tr>\n",
       "      <th>6238</th>\n",
       "      <td>5</td>\n",
       "      <td>As the radio nowadays is polluted by no talent...</td>\n",
       "      <td>Buy it for &amp;quot;What's Up&amp;quot;</td>\n",
       "      <td>0.874000</td>\n",
       "      <td>-0.321568</td>\n",
       "      <td>-0.411900</td>\n",
       "      <td>-0.320319</td>\n",
       "      <td>1.570981</td>\n",
       "      <td>-0.687063</td>\n",
       "      <td>0</td>\n",
       "      <td>...</td>\n",
       "      <td>1.0</td>\n",
       "      <td>1.0</td>\n",
       "      <td>0.227507</td>\n",
       "      <td>-0.343490</td>\n",
       "      <td>-0.242413</td>\n",
       "      <td>-0.144688</td>\n",
       "      <td>-0.316271</td>\n",
       "      <td>0</td>\n",
       "      <td>0</td>\n",
       "      <td>False</td>\n",
       "    </tr>\n",
       "    <tr>\n",
       "      <th>38097</th>\n",
       "      <td>3</td>\n",
       "      <td>What most people don't realize is that The Wal...</td>\n",
       "      <td>Arising from the ashes...</td>\n",
       "      <td>-0.437612</td>\n",
       "      <td>-0.011189</td>\n",
       "      <td>-0.334815</td>\n",
       "      <td>-0.320319</td>\n",
       "      <td>-0.327919</td>\n",
       "      <td>0.006754</td>\n",
       "      <td>0</td>\n",
       "      <td>...</td>\n",
       "      <td>1.0</td>\n",
       "      <td>1.0</td>\n",
       "      <td>-0.202772</td>\n",
       "      <td>1.605576</td>\n",
       "      <td>-0.242413</td>\n",
       "      <td>-0.144688</td>\n",
       "      <td>-0.316271</td>\n",
       "      <td>0</td>\n",
       "      <td>0</td>\n",
       "      <td>False</td>\n",
       "    </tr>\n",
       "    <tr>\n",
       "      <th>40087</th>\n",
       "      <td>5</td>\n",
       "      <td>Bone Thugs N' Harmony (Krayzie, Layzie, Bizzy,...</td>\n",
       "      <td>More Like 4.5</td>\n",
       "      <td>1.136323</td>\n",
       "      <td>2.353164</td>\n",
       "      <td>5.061145</td>\n",
       "      <td>0.720920</td>\n",
       "      <td>0.621531</td>\n",
       "      <td>1.481114</td>\n",
       "      <td>0</td>\n",
       "      <td>...</td>\n",
       "      <td>1.0</td>\n",
       "      <td>1.0</td>\n",
       "      <td>-0.940392</td>\n",
       "      <td>0.306199</td>\n",
       "      <td>-0.242413</td>\n",
       "      <td>-0.144688</td>\n",
       "      <td>-0.316271</td>\n",
       "      <td>0</td>\n",
       "      <td>0</td>\n",
       "      <td>False</td>\n",
       "    </tr>\n",
       "    <tr>\n",
       "      <th>19228</th>\n",
       "      <td>3</td>\n",
       "      <td>Yall act as if this is the best Jodeci CD ever...</td>\n",
       "      <td>DIARY OF A MAD BAND IS THEIR BEST EVER!</td>\n",
       "      <td>0.664142</td>\n",
       "      <td>-0.359908</td>\n",
       "      <td>-0.643156</td>\n",
       "      <td>0.026761</td>\n",
       "      <td>-0.327919</td>\n",
       "      <td>0.353662</td>\n",
       "      <td>0</td>\n",
       "      <td>...</td>\n",
       "      <td>1.0</td>\n",
       "      <td>1.0</td>\n",
       "      <td>0.657786</td>\n",
       "      <td>-0.343490</td>\n",
       "      <td>0.552276</td>\n",
       "      <td>-0.144688</td>\n",
       "      <td>-0.316271</td>\n",
       "      <td>0</td>\n",
       "      <td>0</td>\n",
       "      <td>True</td>\n",
       "    </tr>\n",
       "    <tr>\n",
       "      <th>40431</th>\n",
       "      <td>4</td>\n",
       "      <td>In my opinion, no talent in hip-hop has been m...</td>\n",
       "      <td>Quik's &amp;quot;Greatest Hits&amp;quot; Review</td>\n",
       "      <td>1.136323</td>\n",
       "      <td>0.403257</td>\n",
       "      <td>0.050611</td>\n",
       "      <td>-0.320319</td>\n",
       "      <td>0.621531</td>\n",
       "      <td>0.353662</td>\n",
       "      <td>0</td>\n",
       "      <td>...</td>\n",
       "      <td>1.0</td>\n",
       "      <td>1.0</td>\n",
       "      <td>0.657786</td>\n",
       "      <td>-0.343490</td>\n",
       "      <td>-0.242413</td>\n",
       "      <td>-0.144688</td>\n",
       "      <td>-0.316271</td>\n",
       "      <td>0</td>\n",
       "      <td>0</td>\n",
       "      <td>False</td>\n",
       "    </tr>\n",
       "  </tbody>\n",
       "</table>\n",
       "<p>5 rows × 23 columns</p>\n",
       "</div>"
      ],
      "text/plain": [
       "       overall                                         reviewText  \\\n",
       "6238         5  As the radio nowadays is polluted by no talent...   \n",
       "38097        3  What most people don't realize is that The Wal...   \n",
       "40087        5  Bone Thugs N' Harmony (Krayzie, Layzie, Bizzy,...   \n",
       "19228        3  Yall act as if this is the best Jodeci CD ever...   \n",
       "40431        4  In my opinion, no talent in hip-hop has been m...   \n",
       "\n",
       "                                       summary  helpfulPercentage  \\\n",
       "6238          Buy it for &quot;What's Up&quot;           0.874000   \n",
       "38097                Arising from the ashes...          -0.437612   \n",
       "40087                            More Like 4.5           1.136323   \n",
       "19228  DIARY OF A MAD BAND IS THEIR BEST EVER!           0.664142   \n",
       "40431  Quik's &quot;Greatest Hits&quot; Review           1.136323   \n",
       "\n",
       "       reviewTextLength  reviewTextCountPoints  reviewTextCountExcl  \\\n",
       "6238          -0.321568              -0.411900            -0.320319   \n",
       "38097         -0.011189              -0.334815            -0.320319   \n",
       "40087          2.353164               5.061145             0.720920   \n",
       "19228         -0.359908              -0.643156             0.026761   \n",
       "40431          0.403257               0.050611            -0.320319   \n",
       "\n",
       "       reviewTextCountInterr  reviewTextCountComas  reviewTextPositiveSmiley  \\\n",
       "6238                1.570981             -0.687063                         0   \n",
       "38097              -0.327919              0.006754                         0   \n",
       "40087               0.621531              1.481114                         0   \n",
       "19228              -0.327919              0.353662                         0   \n",
       "40431               0.621531              0.353662                         0   \n",
       "\n",
       "            ...        positiveRatio positiveRatioSummary  summaryLength  \\\n",
       "6238        ...                  1.0                  1.0       0.227507   \n",
       "38097       ...                  1.0                  1.0      -0.202772   \n",
       "40087       ...                  1.0                  1.0      -0.940392   \n",
       "19228       ...                  1.0                  1.0       0.657786   \n",
       "40431       ...                  1.0                  1.0       0.657786   \n",
       "\n",
       "       summaryCountPoints  summaryCountExcl  summaryCountInterr  \\\n",
       "6238            -0.343490         -0.242413           -0.144688   \n",
       "38097            1.605576         -0.242413           -0.144688   \n",
       "40087            0.306199         -0.242413           -0.144688   \n",
       "19228           -0.343490          0.552276           -0.144688   \n",
       "40431           -0.343490         -0.242413           -0.144688   \n",
       "\n",
       "       summaryCountComas  summaryPositiveSmiley  summaryNegativeSmiley  \\\n",
       "6238           -0.316271                      0                      0   \n",
       "38097          -0.316271                      0                      0   \n",
       "40087          -0.316271                      0                      0   \n",
       "19228          -0.316271                      0                      0   \n",
       "40431          -0.316271                      0                      0   \n",
       "\n",
       "       summaryAllCAPS  \n",
       "6238            False  \n",
       "38097           False  \n",
       "40087           False  \n",
       "19228            True  \n",
       "40431           False  \n",
       "\n",
       "[5 rows x 23 columns]"
      ]
     },
     "execution_count": 108,
     "metadata": {},
     "output_type": "execute_result"
    }
   ],
   "source": [
    "# We use exactly the same preprocessing as for `step 2`\n",
    "df3 = df2.copy(deep=True)\n",
    "df3.sample(5)"
   ]
  },
  {
   "cell_type": "code",
   "execution_count": 109,
   "metadata": {
    "ExecuteTime": {
     "end_time": "2017-05-21T19:50:01.562900",
     "start_time": "2017-05-21T19:50:01.542782"
    },
    "collapsed": true
   },
   "outputs": [],
   "source": [
    "# The output for part 2 isn't applicable here\n",
    "df3 = df3.drop(['BIN_OVERALL'], axis=1)"
   ]
  },
  {
   "cell_type": "code",
   "execution_count": 110,
   "metadata": {
    "ExecuteTime": {
     "end_time": "2017-05-21T19:50:03.556199",
     "start_time": "2017-05-21T19:50:03.381035"
    },
    "collapsed": false
   },
   "outputs": [
    {
     "data": {
      "image/png": "[encoded data removed]",
      "text/plain": [
       "<matplotlib.figure.Figure at 0x7fe55a4faa58>"
      ]
     },
     "metadata": {},
     "output_type": "display_data"
    }
   ],
   "source": [
    "# Confirmation of what we wrote earlier: data is skewed\n",
    "df3.overall.value_counts().plot(kind='bar')\n",
    "plt.show()"
   ]
  },
  {
   "cell_type": "code",
   "execution_count": 111,
   "metadata": {
    "ExecuteTime": {
     "end_time": "2017-05-21T19:50:04.466131",
     "start_time": "2017-05-21T19:50:04.421981"
    },
    "collapsed": false
   },
   "outputs": [
    {
     "data": {
      "text/html": [
       "<div>\n",
       "<table border=\"1\" class=\"dataframe\">\n",
       "  <thead>\n",
       "    <tr style=\"text-align: right;\">\n",
       "      <th></th>\n",
       "      <th>helpfulPercentage</th>\n",
       "      <th>reviewTextLength</th>\n",
       "      <th>reviewTextCountPoints</th>\n",
       "      <th>reviewTextCountExcl</th>\n",
       "      <th>reviewTextCountInterr</th>\n",
       "      <th>reviewTextCountComas</th>\n",
       "      <th>positiveRatio</th>\n",
       "      <th>positiveRatioSummary</th>\n",
       "      <th>summaryLength</th>\n",
       "      <th>summaryCountPoints</th>\n",
       "      <th>summaryCountExcl</th>\n",
       "      <th>summaryCountInterr</th>\n",
       "      <th>summaryCountComas</th>\n",
       "    </tr>\n",
       "    <tr>\n",
       "      <th>overall</th>\n",
       "      <th></th>\n",
       "      <th></th>\n",
       "      <th></th>\n",
       "      <th></th>\n",
       "      <th></th>\n",
       "      <th></th>\n",
       "      <th></th>\n",
       "      <th></th>\n",
       "      <th></th>\n",
       "      <th></th>\n",
       "      <th></th>\n",
       "      <th></th>\n",
       "      <th></th>\n",
       "    </tr>\n",
       "  </thead>\n",
       "  <tbody>\n",
       "    <tr>\n",
       "      <th>1</th>\n",
       "      <td>-0.335824</td>\n",
       "      <td>-0.376946</td>\n",
       "      <td>-0.246240</td>\n",
       "      <td>0.134205</td>\n",
       "      <td>0.394289</td>\n",
       "      <td>-0.329403</td>\n",
       "      <td>0.988695</td>\n",
       "      <td>0.995999</td>\n",
       "      <td>-0.111395</td>\n",
       "      <td>0.091576</td>\n",
       "      <td>0.086169</td>\n",
       "      <td>0.370742</td>\n",
       "      <td>-0.022576</td>\n",
       "    </tr>\n",
       "    <tr>\n",
       "      <th>2</th>\n",
       "      <td>-0.340399</td>\n",
       "      <td>-0.128550</td>\n",
       "      <td>-0.047065</td>\n",
       "      <td>-0.081976</td>\n",
       "      <td>0.228819</td>\n",
       "      <td>-0.125382</td>\n",
       "      <td>0.985658</td>\n",
       "      <td>0.994740</td>\n",
       "      <td>-0.069318</td>\n",
       "      <td>0.101795</td>\n",
       "      <td>-0.128622</td>\n",
       "      <td>0.278558</td>\n",
       "      <td>0.053857</td>\n",
       "    </tr>\n",
       "    <tr>\n",
       "      <th>3</th>\n",
       "      <td>-0.247434</td>\n",
       "      <td>0.051797</td>\n",
       "      <td>0.053358</td>\n",
       "      <td>-0.159637</td>\n",
       "      <td>0.078209</td>\n",
       "      <td>0.057405</td>\n",
       "      <td>0.990815</td>\n",
       "      <td>0.992453</td>\n",
       "      <td>0.027809</td>\n",
       "      <td>0.072123</td>\n",
       "      <td>-0.158016</td>\n",
       "      <td>0.061875</td>\n",
       "      <td>0.137905</td>\n",
       "    </tr>\n",
       "    <tr>\n",
       "      <th>4</th>\n",
       "      <td>0.011647</td>\n",
       "      <td>0.110114</td>\n",
       "      <td>0.068740</td>\n",
       "      <td>-0.089100</td>\n",
       "      <td>-0.026594</td>\n",
       "      <td>0.107222</td>\n",
       "      <td>0.994704</td>\n",
       "      <td>0.996452</td>\n",
       "      <td>0.038150</td>\n",
       "      <td>0.005321</td>\n",
       "      <td>-0.092279</td>\n",
       "      <td>-0.042961</td>\n",
       "      <td>0.049141</td>\n",
       "    </tr>\n",
       "    <tr>\n",
       "      <th>5</th>\n",
       "      <td>0.096940</td>\n",
       "      <td>-0.020616</td>\n",
       "      <td>-0.018831</td>\n",
       "      <td>0.068278</td>\n",
       "      <td>-0.052850</td>\n",
       "      <td>-0.024339</td>\n",
       "      <td>0.996739</td>\n",
       "      <td>0.999250</td>\n",
       "      <td>-0.008435</td>\n",
       "      <td>-0.032030</td>\n",
       "      <td>0.077160</td>\n",
       "      <td>-0.044488</td>\n",
       "      <td>-0.051937</td>\n",
       "    </tr>\n",
       "  </tbody>\n",
       "</table>\n",
       "</div>"
      ],
      "text/plain": [
       "         helpfulPercentage  reviewTextLength  reviewTextCountPoints  \\\n",
       "overall                                                               \n",
       "1                -0.335824         -0.376946              -0.246240   \n",
       "2                -0.340399         -0.128550              -0.047065   \n",
       "3                -0.247434          0.051797               0.053358   \n",
       "4                 0.011647          0.110114               0.068740   \n",
       "5                 0.096940         -0.020616              -0.018831   \n",
       "\n",
       "         reviewTextCountExcl  reviewTextCountInterr  reviewTextCountComas  \\\n",
       "overall                                                                     \n",
       "1                   0.134205               0.394289             -0.329403   \n",
       "2                  -0.081976               0.228819             -0.125382   \n",
       "3                  -0.159637               0.078209              0.057405   \n",
       "4                  -0.089100              -0.026594              0.107222   \n",
       "5                   0.068278              -0.052850             -0.024339   \n",
       "\n",
       "         positiveRatio  positiveRatioSummary  summaryLength  \\\n",
       "overall                                                       \n",
       "1             0.988695              0.995999      -0.111395   \n",
       "2             0.985658              0.994740      -0.069318   \n",
       "3             0.990815              0.992453       0.027809   \n",
       "4             0.994704              0.996452       0.038150   \n",
       "5             0.996739              0.999250      -0.008435   \n",
       "\n",
       "         summaryCountPoints  summaryCountExcl  summaryCountInterr  \\\n",
       "overall                                                             \n",
       "1                  0.091576          0.086169            0.370742   \n",
       "2                  0.101795         -0.128622            0.278558   \n",
       "3                  0.072123         -0.158016            0.061875   \n",
       "4                  0.005321         -0.092279           -0.042961   \n",
       "5                 -0.032030          0.077160           -0.044488   \n",
       "\n",
       "         summaryCountComas  \n",
       "overall                     \n",
       "1                -0.022576  \n",
       "2                 0.053857  \n",
       "3                 0.137905  \n",
       "4                 0.049141  \n",
       "5                -0.051937  "
      ]
     },
     "execution_count": 111,
     "metadata": {},
     "output_type": "execute_result"
    }
   ],
   "source": [
    "df_created_features = df3.groupby('overall').mean()\n",
    "df_created_features = df_created_features.drop(['reviewTextPositiveSmiley', 'reviewTextNegativeSmiley', 'reviewTextAllCAPS', 'summaryPositiveSmiley', 'summaryNegativeSmiley', 'summaryAllCAPS', ], axis=1)\n",
    "df_created_features"
   ]
  },
  {
   "cell_type": "code",
   "execution_count": 112,
   "metadata": {
    "ExecuteTime": {
     "end_time": "2017-05-21T19:50:07.754517",
     "start_time": "2017-05-21T19:50:05.263042"
    },
    "collapsed": false,
    "scrolled": false
   },
   "outputs": [
    {
     "data": {
      "image/png": "[encoded data removed]",
      "text/plain": [
       "<matplotlib.figure.Figure at 0x7fe55a7894e0>"
      ]
     },
     "metadata": {},
     "output_type": "display_data"
    },
    {
     "data": {
      "image/png": "[encoded data removed]",
      "text/plain": [
       "<matplotlib.figure.Figure at 0x7fe55a8d2e80>"
      ]
     },
     "metadata": {},
     "output_type": "display_data"
    },
    {
     "data": {
      "image/png": "[encoded data removed]",
      "text/plain": [
       "<matplotlib.figure.Figure at 0x7fe55a28edd8>"
      ]
     },
     "metadata": {},
     "output_type": "display_data"
    },
    {
     "data": {
      "image/png": "[encoded data removed]",
      "text/plain": [
       "<matplotlib.figure.Figure at 0x7fe559c5c9b0>"
      ]
     },
     "metadata": {},
     "output_type": "display_data"
    },
    {
     "data": {
      "image/png": "[encoded data removed]",
      "text/plain": [
       "<matplotlib.figure.Figure at 0x7fe55a8cb860>"
      ]
     },
     "metadata": {},
     "output_type": "display_data"
    },
    {
     "data": {
      "image/png": "[encoded data removed]",
      "text/plain": [
       "<matplotlib.figure.Figure at 0x7fe558dc66a0>"
      ]
     },
     "metadata": {},
     "output_type": "display_data"
    },
    {
     "data": {
      "image/png": "[encoded data removed]",
      "text/plain": [
       "<matplotlib.figure.Figure at 0x7fe558ccdeb8>"
      ]
     },
     "metadata": {},
     "output_type": "display_data"
    },
    {
     "data": {
      "image/png": "[encoded data removed]",
      "text/plain": [
       "<matplotlib.figure.Figure at 0x7fe55aa3db00>"
      ]
     },
     "metadata": {},
     "output_type": "display_data"
    },
    {
     "data": {
      "image/png": "[encoded data removed]",
      "text/plain": [
       "<matplotlib.figure.Figure at 0x7fe55a2952e8>"
      ]
     },
     "metadata": {},
     "output_type": "display_data"
    },
    {
     "data": {
      "image/png": "[encoded data removed]",
      "text/plain": [
       "<matplotlib.figure.Figure at 0x7fe55b87c6a0>"
      ]
     },
     "metadata": {},
     "output_type": "display_data"
    },
    {
     "data": {
      "image/png": "[encoded data removed]",
      "text/plain": [
       "<matplotlib.figure.Figure at 0x7fe55ac7e828>"
      ]
     },
     "metadata": {},
     "output_type": "display_data"
    },
    {
     "data": {
      "image/png": "[encoded data removed]",
      "text/plain": [
       "<matplotlib.figure.Figure at 0x7fe55b9c7518>"
      ]
     },
     "metadata": {},
     "output_type": "display_data"
    },
    {
     "data": {
      "image/png": "[encoded data removed]",
      "text/plain": [
       "<matplotlib.figure.Figure at 0x7fe55acbce10>"
      ]
     },
     "metadata": {},
     "output_type": "display_data"
    }
   ],
   "source": [
    "for x in df_created_features:\n",
    "    mean_values = df_created_features[x].values\n",
    "    overall = [\"1\", \"2\", \"3\", \"4\", \"5\"]\n",
    "    \n",
    "    mvalues_df = pd.DataFrame(mean_values, overall)\n",
    "    mvalues_df.plot(kind='bar')\n",
    "    \n",
    "    plt.title(x)\n",
    "    plt.ylim([-0.4, 0.4])\n",
    "    plt.show()"
   ]
  },
  {
   "cell_type": "markdown",
   "metadata": {},
   "source": [
    "We decide to keep all features created !"
   ]
  },
  {
   "cell_type": "code",
   "execution_count": 114,
   "metadata": {
    "ExecuteTime": {
     "end_time": "2017-05-21T19:50:34.999168",
     "start_time": "2017-05-21T19:50:34.938420"
    },
    "collapsed": false
   },
   "outputs": [
    {
     "name": "stdout",
     "output_type": "stream",
     "text": [
      "-- Positive Smiley\n",
      "Percentage, per class, of samples with a positive smiley\n",
      "1 ==>  0.00967395198853 %\n",
      "2 ==>  0.0136212624585 %\n",
      "3 ==>  0.0219472676388 %\n",
      "4 ==>  0.0274552491534 %\n",
      "5 ==>  0.0235244519393 %\n",
      "\n",
      "-- Negative Smiley\n",
      "Percentage, per class, of samples with a negative smiley\n",
      "1 ==>  0.00322465066284 %\n",
      "2 ==>  0.00199335548173 %\n",
      "3 ==>  0.00103107968773 %\n",
      "4 ==>  0.000665215287857 %\n",
      "5 ==>  0.00053400786959 %\n",
      "\n",
      "-- ALL CAPS word\n",
      "Percentage, per class, of samples contains a words written in capital letters in the reviewText feature\n",
      "1 ==>  0.367251881046 %\n",
      "2 ==>  0.336212624585 %\n",
      "3 ==>  0.314479304758 %\n",
      "4 ==>  0.326197387518 %\n",
      "5 ==>  0.332743114109 %\n"
     ]
    }
   ],
   "source": [
    "total_nbr = df3.groupby(\"overall\").size()\n",
    "\n",
    "print(\"-- Positive Smiley\")\n",
    "print(\"Percentage, per class, of samples with a positive smiley\")\n",
    "xx = df3[df3.reviewTextPositiveSmiley == 1].groupby(\"overall\").size()\n",
    "for i in range(1,6):\n",
    "    if i not in xx:\n",
    "        xx[i] = 0\n",
    "print(\"1 ==> \", xx[1] / total_nbr[1], \"%\")\n",
    "print(\"2 ==> \", xx[2] / total_nbr[2], \"%\")\n",
    "print(\"3 ==> \", xx[3] / total_nbr[3], \"%\")\n",
    "print(\"4 ==> \", xx[4] / total_nbr[4], \"%\")\n",
    "print(\"5 ==> \", xx[5] / total_nbr[5], \"%\")\n",
    "\n",
    "print()\n",
    "\n",
    "print(\"-- Negative Smiley\")\n",
    "print(\"Percentage, per class, of samples with a negative smiley\")\n",
    "xx = df3[df3.reviewTextNegativeSmiley == 1].groupby(\"overall\").size()\n",
    "for i in range(1,6):\n",
    "    if i not in xx:\n",
    "        xx[i] = 0\n",
    "print(\"1 ==> \", xx[1] / total_nbr[1], \"%\")\n",
    "print(\"2 ==> \", xx[2] / total_nbr[2], \"%\")\n",
    "print(\"3 ==> \", xx[3] / total_nbr[3], \"%\")\n",
    "print(\"4 ==> \", xx[4] / total_nbr[4], \"%\")\n",
    "print(\"5 ==> \", xx[5] / total_nbr[5], \"%\")\n",
    "\n",
    "print()\n",
    "\n",
    "print(\"-- ALL CAPS word\")\n",
    "print(\"Percentage, per class, of samples contains a words written in capital letters in the reviewText feature\")\n",
    "xx = df3[df3.reviewTextAllCAPS == 1].groupby(\"overall\").size()\n",
    "for i in range(1,6):\n",
    "    if i not in xx:\n",
    "        xx[i] = 0\n",
    "print(\"1 ==> \", xx[1] / total_nbr[1], \"%\")\n",
    "print(\"2 ==> \", xx[2] / total_nbr[2], \"%\")\n",
    "print(\"3 ==> \", xx[3] / total_nbr[3], \"%\")\n",
    "print(\"4 ==> \", xx[4] / total_nbr[4], \"%\")\n",
    "print(\"5 ==> \", xx[5] / total_nbr[5], \"%\")"
   ]
  },
  {
   "cell_type": "code",
   "execution_count": 115,
   "metadata": {
    "ExecuteTime": {
     "end_time": "2017-05-21T19:50:40.751869",
     "start_time": "2017-05-21T19:50:40.700904"
    },
    "collapsed": false
   },
   "outputs": [
    {
     "name": "stdout",
     "output_type": "stream",
     "text": [
      "-- Positive Smiley\n",
      "Percentage, per class, of samples with a positive smiley\n",
      "1 ==>  0.0 %\n",
      "2 ==>  0.000332225913621 %\n",
      "3 ==>  0.000294594196494 %\n",
      "4 ==>  0.000604741170779 %\n",
      "5 ==>  0.000843170320405 %\n",
      "\n",
      "-- Negative Smiley\n",
      "Percentage, per class, of samples with a negative smiley\n",
      "1 ==>  0.000358294518094 %\n",
      "2 ==>  0.000996677740864 %\n",
      "3 ==>  0.000589188392989 %\n",
      "4 ==>  0.000120948234156 %\n",
      "5 ==>  0.0 %\n",
      "\n",
      "-- ALL CAPS word\n",
      "Percentage, per class, of samples contains a words written in capital letters in the reviewText feature\n",
      "1 ==>  0.145825868864 %\n",
      "2 ==>  0.0800664451827 %\n",
      "3 ==>  0.0705553100604 %\n",
      "4 ==>  0.0708151910982 %\n",
      "5 ==>  0.108712759978 %\n"
     ]
    }
   ],
   "source": [
    "total_nbr = df3.groupby(\"overall\").size()\n",
    "\n",
    "print(\"-- Positive Smiley\")\n",
    "print(\"Percentage, per class, of samples with a positive smiley\")\n",
    "xx = df3[df3.summaryPositiveSmiley == 1].groupby(\"overall\").size()\n",
    "for i in range(1,6):\n",
    "    if i not in xx:\n",
    "        xx[i] = 0\n",
    "print(\"1 ==> \", xx[1] / total_nbr[1], \"%\")\n",
    "print(\"2 ==> \", xx[2] / total_nbr[2], \"%\")\n",
    "print(\"3 ==> \", xx[3] / total_nbr[3], \"%\")\n",
    "print(\"4 ==> \", xx[4] / total_nbr[4], \"%\")\n",
    "print(\"5 ==> \", xx[5] / total_nbr[5], \"%\")\n",
    "\n",
    "print()\n",
    "\n",
    "print(\"-- Negative Smiley\")\n",
    "print(\"Percentage, per class, of samples with a negative smiley\")\n",
    "xx = df3[df3.summaryNegativeSmiley == 1].groupby(\"overall\").size()\n",
    "for i in range(1,6):\n",
    "    if i not in xx:\n",
    "        xx[i] = 0\n",
    "print(\"1 ==> \", xx[1] / total_nbr[1], \"%\")\n",
    "print(\"2 ==> \", xx[2] / total_nbr[2], \"%\")\n",
    "print(\"3 ==> \", xx[3] / total_nbr[3], \"%\")\n",
    "print(\"4 ==> \", xx[4] / total_nbr[4], \"%\")\n",
    "print(\"5 ==> \", xx[5] / total_nbr[5], \"%\")\n",
    "\n",
    "print()\n",
    "\n",
    "print(\"-- ALL CAPS word\")\n",
    "print(\"Percentage, per class, of samples contains a words written in capital letters in the reviewText feature\")\n",
    "xx = df3[df3.summaryAllCAPS == 1].groupby(\"overall\").size()\n",
    "for i in range(1,6):\n",
    "    if i not in xx:\n",
    "        xx[i] = 0\n",
    "print(\"1 ==> \", xx[1] / total_nbr[1], \"%\")\n",
    "print(\"2 ==> \", xx[2] / total_nbr[2], \"%\")\n",
    "print(\"3 ==> \", xx[3] / total_nbr[3], \"%\")\n",
    "print(\"4 ==> \", xx[4] / total_nbr[4], \"%\")\n",
    "print(\"5 ==> \", xx[5] / total_nbr[5], \"%\")"
   ]
  },
  {
   "cell_type": "code",
   "execution_count": 116,
   "metadata": {
    "ExecuteTime": {
     "end_time": "2017-05-21T19:57:39.198190",
     "start_time": "2017-05-21T19:50:45.291286"
    },
    "collapsed": true
   },
   "outputs": [],
   "source": [
    "# TF-IDF for 'reviewText'\n",
    "pipe_modified.fit(df3.reviewText)\n",
    "x_reviewText = pipe_modified.transform(df3.reviewText)\n",
    "\n",
    "# TF-IDF for 'summary'\n",
    "pipe_modified.fit(df3.summary)\n",
    "x_summary = pipe_modified.transform(df3.summary)"
   ]
  },
  {
   "cell_type": "code",
   "execution_count": 117,
   "metadata": {
    "ExecuteTime": {
     "end_time": "2017-05-21T19:57:39.361469",
     "start_time": "2017-05-21T19:57:39.199591"
    },
    "collapsed": true
   },
   "outputs": [],
   "source": [
    "# Merge all features into a single dataframe\n",
    "X3 = hstack((x_reviewText, x_summary))"
   ]
  },
  {
   "cell_type": "code",
   "execution_count": 118,
   "metadata": {
    "ExecuteTime": {
     "end_time": "2017-05-21T19:57:40.887522",
     "start_time": "2017-05-21T19:57:39.362919"
    },
    "collapsed": true
   },
   "outputs": [],
   "source": [
    "featuresToUse = [\"helpfulPercentage\", \"reviewTextLength\", \"reviewTextCountPoints\", \"reviewTextCountExcl\", \"reviewTextCountInterr\", \"reviewTextCountComas\", \"reviewTextPositiveSmiley\", \"reviewTextNegativeSmiley\", \"reviewTextAllCAPS\", \\\n",
    "                \"summaryCountPoints\", \"summaryCountExcl\", \"summaryCountInterr\", \"summaryCountComas\", \"summaryPositiveSmiley\", \"summaryNegativeSmiley\", \"summaryAllCAPS\"]\n",
    "for c in featuresToUse:\n",
    "    X3 = hstack((X3,(df3[c])[:,None]))"
   ]
  },
  {
   "cell_type": "code",
   "execution_count": 119,
   "metadata": {
    "ExecuteTime": {
     "end_time": "2017-05-21T19:57:40.893013",
     "start_time": "2017-05-21T19:57:40.889319"
    },
    "collapsed": true
   },
   "outputs": [],
   "source": [
    "y = df3.overall"
   ]
  },
  {
   "cell_type": "code",
   "execution_count": 120,
   "metadata": {
    "ExecuteTime": {
     "end_time": "2017-05-21T19:57:42.514234",
     "start_time": "2017-05-21T19:57:40.894773"
    },
    "collapsed": false
   },
   "outputs": [
    {
     "name": "stdout",
     "output_type": "stream",
     "text": [
      "X_train:  (51764, 26528)\n",
      "y_train:  (51764,)\n",
      "X_test:   (12942, 26528)\n",
      "y_test:   (12942,)\n"
     ]
    }
   ],
   "source": [
    "X_train, X_test, y_train, y_test = train_test_split(X3, y, test_size=0.2, random_state=seed)\n",
    "\n",
    "# Train\n",
    "print(\"X_train: \", X_train.shape)\n",
    "print(\"y_train: \", y_train.shape)\n",
    "\n",
    "# Test\n",
    "print(\"X_test:  \", X_test.shape)\n",
    "print(\"y_test:  \", y_test.shape)"
   ]
  },
  {
   "cell_type": "markdown",
   "metadata": {},
   "source": [
    "## <a name=\"models3\"> </a> Models"
   ]
  },
  {
   "cell_type": "markdown",
   "metadata": {},
   "source": [
    "### Baseline model"
   ]
  },
  {
   "cell_type": "code",
   "execution_count": 121,
   "metadata": {
    "ExecuteTime": {
     "end_time": "2017-05-21T19:58:03.445117",
     "start_time": "2017-05-21T19:58:03.417739"
    },
    "collapsed": false
   },
   "outputs": [
    {
     "name": "stdout",
     "output_type": "stream",
     "text": [
      "Precision mean:  0.202680732136\n"
     ]
    }
   ],
   "source": [
    "baselineModel = DummyClassifier(random_state=seed)\n",
    "baselineModel.fit(X_train,y_train)\n",
    "y_pred = baselineModel.predict(X_test)\n",
    "\n",
    "print_precision(y_test, y_pred)"
   ]
  },
  {
   "cell_type": "code",
   "execution_count": 122,
   "metadata": {
    "ExecuteTime": {
     "end_time": "2017-05-21T19:58:04.498015",
     "start_time": "2017-05-21T19:58:04.492296"
    },
    "collapsed": true
   },
   "outputs": [],
   "source": [
    "baseline_precision = 0.202680732136"
   ]
  },
  {
   "cell_type": "markdown",
   "metadata": {},
   "source": [
    "### Support Vector Model: Linear Support Vector Classification"
   ]
  },
  {
   "cell_type": "code",
   "execution_count": 123,
   "metadata": {
    "ExecuteTime": {
     "end_time": "2017-05-21T19:59:47.443624",
     "start_time": "2017-05-21T19:58:06.730522"
    },
    "collapsed": false
   },
   "outputs": [
    {
     "data": {
      "text/plain": [
       "{'svm_clf__C': 0.125}"
      ]
     },
     "execution_count": 123,
     "metadata": {},
     "output_type": "execute_result"
    }
   ],
   "source": [
    "# setup pipeline\n",
    "estimators = []\n",
    "estimators.append(('svm_clf', LinearSVC()))\n",
    "pipe = Pipeline(estimators)\n",
    "\n",
    "# tuning requsted parameter\n",
    "tuned_parameters = [{'svm_clf__C': np.logspace(-5,15,11,base=2.0)}]\n",
    "clf = GridSearchCV(pipe, tuned_parameters, cv=5, scoring='accuracy')\n",
    "\n",
    "# Speed up computation: with only a subset of the training data for Grid search\n",
    "subset_size = 2000\n",
    "clf.fit(X_train[:subset_size],y_train[:subset_size])\n",
    "clf.best_params_"
   ]
  },
  {
   "cell_type": "code",
   "execution_count": 124,
   "metadata": {
    "ExecuteTime": {
     "end_time": "2017-05-21T20:00:25.056804",
     "start_time": "2017-05-21T20:00:25.051716"
    },
    "collapsed": true
   },
   "outputs": [],
   "source": [
    "# bect C value resulting from GridSearch\n",
    "best_C = 0.125"
   ]
  },
  {
   "cell_type": "code",
   "execution_count": 125,
   "metadata": {
    "ExecuteTime": {
     "end_time": "2017-05-21T20:02:09.434088",
     "start_time": "2017-05-21T20:00:25.990509"
    },
    "collapsed": false
   },
   "outputs": [
    {
     "name": "stdout",
     "output_type": "stream",
     "text": [
      "Precision mean:  0.569999522747\n"
     ]
    }
   ],
   "source": [
    "svc = LinearSVC(C=best_C)\n",
    "svc.fit(X_train, y_train)\n",
    "\n",
    "y_pred = svc.predict(X_test)\n",
    "print_precision(y_test, y_pred)"
   ]
  },
  {
   "cell_type": "code",
   "execution_count": 141,
   "metadata": {
    "ExecuteTime": {
     "end_time": "2017-05-21T20:06:36.976849",
     "start_time": "2017-05-21T20:06:36.973556"
    },
    "collapsed": true
   },
   "outputs": [],
   "source": [
    "svc_precision = 0.569999522747"
   ]
  },
  {
   "cell_type": "markdown",
   "metadata": {
    "ExecuteTime": {
     "end_time": "2017-05-21T09:32:26.201721",
     "start_time": "2017-05-21T07:28:05.390Z"
    }
   },
   "source": [
    "### Linear Model:  Stochastic Gradient Descent"
   ]
  },
  {
   "cell_type": "code",
   "execution_count": 127,
   "metadata": {
    "ExecuteTime": {
     "end_time": "2017-05-21T20:02:09.457253",
     "start_time": "2017-05-21T20:02:09.441066"
    },
    "collapsed": false
   },
   "outputs": [
    {
     "name": "stdout",
     "output_type": "stream",
     "text": [
      "Best params: {'alpha': 0.0001,, 'average': False, 'class_weight': None, 'epsilon': 0.1, 'eta0': 0.0, 'fit_intercept': True,           'l1_ratio': 0.15, 'learning_rate': 'optimal', 'loss': 'hinge', 'n_iter': 5, 'n_jobs': 1, 'penalty': 'l1', 'power_t': 0.5, 'random_state': 2017, 'shuffle': True, 'verbose': 0, 'warm_start': False}\n"
     ]
    }
   ],
   "source": [
    "parameters = {\n",
    "    'penalty': ['l1', 'l2', 'elasticnet'],\n",
    "    'alpha': [0.001, 0.0001, 0.00001, 0.000001]\n",
    "}\n",
    "cv = KFold(n_splits=10, random_state=seed)\n",
    "sgd = GridSearchCV(SGDClassifier(loss=\"hinge\", random_state=seed), parameters,\n",
    "     scoring=\"accuracy\", cv=cv)\n",
    "\n",
    "# Takes approximately 15 minutes to run with our machines\n",
    "runGridSearch = False\n",
    "if (runGridSearch):\n",
    "    X_train_s, X_test_s, y_train_s, y_test_s = train_test_split(X_train, y_train, test_size=0.001, random_state=seed)\n",
    "    X_train_s1, X_test_s1, y_train_s1, y_test_s1 = train_test_split(X_train_s, y_train_s, test_size=0.2, random_state=seed)\n",
    "    sgd.fit(X_train_s1, y_train_s1)\n",
    "    print(\"Best params:\", sgd.best_estimator_.get_params())\n",
    "else:\n",
    "    # Copy/Paste from the results of the 'if' block\n",
    "    print(\"Best params: {'alpha': 0.0001,, 'average': False, 'class_weight': None, 'epsilon': 0.1, 'eta0': 0.0, 'fit_intercept': True, \\\n",
    "          'l1_ratio': 0.15, 'learning_rate': 'optimal', 'loss': 'hinge', 'n_iter': 5, 'n_jobs': 1, 'penalty': 'l1', 'power_t': 0.5, 'random_state': 2017, 'shuffle': True, 'verbose': 0, 'warm_start': False}\")"
   ]
  },
  {
   "cell_type": "code",
   "execution_count": 128,
   "metadata": {
    "ExecuteTime": {
     "end_time": "2017-05-21T20:02:11.186206",
     "start_time": "2017-05-21T20:02:09.461988"
    },
    "collapsed": false
   },
   "outputs": [
    {
     "name": "stdout",
     "output_type": "stream",
     "text": [
      "Precision mean:  0.509374938089\n"
     ]
    }
   ],
   "source": [
    "# Build the SGDClassifier with the best params return by grid search\n",
    "sgd = SGDClassifier(alpha=0.0001, average=False, class_weight=None, epsilon=0.1, eta0=0.0, fit_intercept=True, l1_ratio=0.15, learning_rate='optimal', loss='hinge', n_iter=5, n_jobs=1, penalty='l1', power_t=0.5, random_state=2017, shuffle= True, verbose=0, warm_start=False)\n",
    "\n",
    "# Predict testing data\n",
    "sgd.fit(X_train, y_train)\n",
    "y_pred = sgd.predict(X_test)\n",
    "print_precision(y_test, y_pred)"
   ]
  },
  {
   "cell_type": "code",
   "execution_count": 129,
   "metadata": {
    "ExecuteTime": {
     "end_time": "2017-05-21T20:02:11.190846",
     "start_time": "2017-05-21T20:02:11.188138"
    },
    "collapsed": true
   },
   "outputs": [],
   "source": [
    "SGD_precision = 0.509374938089"
   ]
  },
  {
   "cell_type": "markdown",
   "metadata": {
    "ExecuteTime": {
     "end_time": "2017-05-21T09:32:26.201910",
     "start_time": "2017-05-21T07:28:31.267Z"
    }
   },
   "source": [
    "### Similarity-based model: KNN Classifier"
   ]
  },
  {
   "cell_type": "code",
   "execution_count": 130,
   "metadata": {
    "ExecuteTime": {
     "end_time": "2017-05-21T20:02:11.208633",
     "start_time": "2017-05-21T20:02:11.192814"
    },
    "collapsed": false
   },
   "outputs": [
    {
     "name": "stdout",
     "output_type": "stream",
     "text": [
      "Pipeline(steps=[('knn_clf', KNeighborsClassifier(algorithm='brute', leaf_size=30, metric='minkowski',           metric_params=None, n_jobs=1, n_neighbors=91, p=2,           weights='uniform'))])\n"
     ]
    }
   ],
   "source": [
    "estimators = []\n",
    "estimators.append(('knn_clf', KNeighborsClassifier()))\n",
    "knn_clf_pipe = Pipeline(estimators)\n",
    "knn_clf_pipe.set_params(knn_clf__algorithm='brute')\n",
    "knn_clf_pipe.set_params(knn_clf__weights='distance')\n",
    "\n",
    "# create a grid search over n_neighbors values\n",
    "# We decided to test from a large variety of neighbors possible. To speed up the computation time, we didn't test all possibilities, but use a step between each number\n",
    "parameters = {\n",
    "        'knn_clf__n_neighbors' : range(1,151,10)\n",
    "}\n",
    "estimator_knnclf = GridSearchCV(knn_clf_pipe, parameters, cv=5)\n",
    "\n",
    "run = False\n",
    "if run:\n",
    "    # With our machines, we had several memory errors. Therefore we decide to use less data in order to have some results\n",
    "    subset_size = 10000\n",
    "    # evaluate the grid search and print best regressor\n",
    "    estimator_knnclf.fit(X_train[:subset_size], y_train[:subset_size])\n",
    "    print(estimator_knnclf.best_estimator_)\n",
    "else:\n",
    "    # Copy/Paste from the results of the 'if' block\n",
    "    print(\"Pipeline(steps=[('knn_clf', KNeighborsClassifier(algorithm='brute', leaf_size=30, metric='minkowski',\\\n",
    "           metric_params=None, n_jobs=1, n_neighbors=91, p=2,\\\n",
    "           weights='uniform'))])\")"
   ]
  },
  {
   "cell_type": "code",
   "execution_count": 131,
   "metadata": {
    "ExecuteTime": {
     "end_time": "2017-05-21T20:02:11.213823",
     "start_time": "2017-05-21T20:02:11.210215"
    },
    "collapsed": true
   },
   "outputs": [],
   "source": [
    "# best number of neighbors obtained using GridSearchCV\n",
    "best_clf_neighbors = 91"
   ]
  },
  {
   "cell_type": "code",
   "execution_count": 132,
   "metadata": {
    "ExecuteTime": {
     "end_time": "2017-05-21T20:02:51.281621",
     "start_time": "2017-05-21T20:02:11.215198"
    },
    "collapsed": false
   },
   "outputs": [
    {
     "name": "stdout",
     "output_type": "stream",
     "text": [
      "Precision mean:  0.440983348837\n"
     ]
    }
   ],
   "source": [
    "# fix the number of neighbors to the best value\n",
    "knn_clf_pipe.set_params(knn_clf__n_neighbors=best_clf_neighbors)\n",
    "\n",
    "# fit the model to the training set\n",
    "knn_clf_pipe.fit(X_train, y_train)\n",
    "\n",
    "subset_size = 5000\n",
    "y_pred = knn_clf_pipe.predict(X_test[:subset_size])\n",
    "print_precision(y_test[:subset_size], y_pred)"
   ]
  },
  {
   "cell_type": "code",
   "execution_count": 133,
   "metadata": {
    "ExecuteTime": {
     "end_time": "2017-05-21T20:02:51.370791",
     "start_time": "2017-05-21T20:02:51.313243"
    },
    "collapsed": true
   },
   "outputs": [],
   "source": [
    "knn_precision = 0.440983348837"
   ]
  },
  {
   "cell_type": "markdown",
   "metadata": {},
   "source": [
    "### Information Based model: Random Forest Classifier"
   ]
  },
  {
   "cell_type": "code",
   "execution_count": 134,
   "metadata": {
    "ExecuteTime": {
     "end_time": "2017-05-21T20:02:51.749026",
     "start_time": "2017-05-21T20:02:51.393739"
    },
    "collapsed": false
   },
   "outputs": [
    {
     "name": "stdout",
     "output_type": "stream",
     "text": [
      "{'max_depth': 74, 'n_estimators': 101}\n"
     ]
    }
   ],
   "source": [
    "tuned_parameters = {\n",
    "    'n_estimators': range(1,501,100),\n",
    "    'max_depth': range(44,104,10)\n",
    "    }\n",
    "\n",
    "rf_clf = GridSearchCV(RandomForestClassifier(), tuned_parameters, cv=5, scoring='accuracy')\n",
    "\n",
    "run = False\n",
    "if run:\n",
    "    # As for before, we need to use less data to avoid 'memory_errors'\n",
    "    subset_size = 1000\n",
    "    rf_clf.fit(X_train[:subset_size],y_train[:subset_size])\n",
    "    print(rf_clf.best_params_)\n",
    "else:\n",
    "    print(\"{'max_depth': 74, 'n_estimators': 101}\")"
   ]
  },
  {
   "cell_type": "code",
   "execution_count": 135,
   "metadata": {
    "ExecuteTime": {
     "end_time": "2017-05-21T20:02:51.764973",
     "start_time": "2017-05-21T20:02:51.753465"
    },
    "collapsed": false
   },
   "outputs": [
    {
     "name": "stdout",
     "output_type": "stream",
     "text": [
      "{'max_depth': 72, 'n_estimators': 106}\n"
     ]
    }
   ],
   "source": [
    "tuned_parameters = {\n",
    "    'n_estimators': range(90,111,2),\n",
    "    'max_depth': range(60,90,2)\n",
    "    }\n",
    "\n",
    "rf_clf = GridSearchCV(RandomForestClassifier(), tuned_parameters, cv=5, scoring='accuracy')\n",
    "\n",
    "run = False\n",
    "if run:\n",
    "    # As for before, we need to use less data to avoid 'memory_errors'\n",
    "    subset_size = 1000\n",
    "    rf_clf.fit(X_train[:subset_size],y_train[:subset_size])\n",
    "    print(rf_clf.best_params_)\n",
    "else:\n",
    "    print(\"{'max_depth': 72, 'n_estimators': 106}\")"
   ]
  },
  {
   "cell_type": "code",
   "execution_count": 136,
   "metadata": {
    "ExecuteTime": {
     "end_time": "2017-05-21T20:02:51.795904",
     "start_time": "2017-05-21T20:02:51.785187"
    },
    "collapsed": true
   },
   "outputs": [],
   "source": [
    "best_clf_tree_depth = 72\n",
    "best_n_estimators = 106"
   ]
  },
  {
   "cell_type": "code",
   "execution_count": 137,
   "metadata": {
    "ExecuteTime": {
     "end_time": "2017-05-21T20:06:36.230133",
     "start_time": "2017-05-21T20:02:51.812637"
    },
    "collapsed": false
   },
   "outputs": [
    {
     "name": "stdout",
     "output_type": "stream",
     "text": [
      "Precision mean:  0.510858219221\n"
     ]
    },
    {
     "name": "stderr",
     "output_type": "stream",
     "text": [
      "/home/ra-danny/anaconda36/lib/python3.6/site-packages/sklearn/metrics/classification.py:1113: UndefinedMetricWarning: Precision and F-score are ill-defined and being set to 0.0 in labels with no predicted samples.\n",
      "  'precision', 'predicted', average, warn_for)\n"
     ]
    }
   ],
   "source": [
    "rf_clf = RandomForestClassifier(n_estimators=best_n_estimators, max_depth=best_clf_tree_depth)\n",
    "\n",
    "# As for before, we need to use less data to avoid 'memory_errors' and speed up the all computation\n",
    "rf_clf.fit(X_train,y_train)\n",
    "\n",
    "y_pred = rf_clf.predict(X_test)\n",
    "print_precision(y_test, y_pred)"
   ]
  },
  {
   "cell_type": "code",
   "execution_count": 142,
   "metadata": {
    "ExecuteTime": {
     "end_time": "2017-05-21T20:07:09.074982",
     "start_time": "2017-05-21T20:07:09.070538"
    },
    "collapsed": true
   },
   "outputs": [],
   "source": [
    "randomForest_precision = 0.510858219221"
   ]
  },
  {
   "cell_type": "markdown",
   "metadata": {},
   "source": [
    "## <a name=\"modelscomparison3\"> </a> Model comparison and best model\n",
    "We rank our models by the accuracy it achieved with the test data."
   ]
  },
  {
   "cell_type": "code",
   "execution_count": 143,
   "metadata": {
    "ExecuteTime": {
     "end_time": "2017-05-21T20:07:11.929854",
     "start_time": "2017-05-21T20:07:11.631481"
    },
    "collapsed": false
   },
   "outputs": [
    {
     "data": {
      "image/png": "[encoded data removed]",
      "text/plain": [
       "<matplotlib.figure.Figure at 0x7fe55a36cf60>"
      ]
     },
     "metadata": {},
     "output_type": "display_data"
    }
   ],
   "source": [
    "models_precision = [baseline_precision, svc_precision, SGD_precision, knn_precision, randomForest_precision]\n",
    "models = [\"Baseline\", \"SVC\", \"SGD\", \"KNN\", \"Random Forest\"]\n",
    "\n",
    "models_df = pd.DataFrame(models_precision, models)\n",
    "models_df[0].plot(kind='bar')\n",
    "plt.show()"
   ]
  },
  {
   "cell_type": "code",
   "execution_count": 144,
   "metadata": {
    "ExecuteTime": {
     "end_time": "2017-05-21T20:07:13.787691",
     "start_time": "2017-05-21T20:07:13.767375"
    },
    "collapsed": false
   },
   "outputs": [
    {
     "data": {
      "text/plain": [
       "[0.202680732136,\n",
       " 0.569999522747,\n",
       " 0.509374938089,\n",
       " 0.440983348837,\n",
       " 0.510858219221]"
      ]
     },
     "execution_count": 144,
     "metadata": {},
     "output_type": "execute_result"
    }
   ],
   "source": [
    "models_precision"
   ]
  },
  {
   "cell_type": "markdown",
   "metadata": {},
   "source": [
    "We observe the same results as before, the two linear models perform the best, with a slightly better accuracy score for the **SVC model**. Note that for this step 3, the scores are much lower compare to the two others steps."
   ]
  },
  {
   "cell_type": "markdown",
   "metadata": {
    "ExecuteTime": {
     "end_time": "2017-05-21T09:32:26.202092",
     "start_time": "2017-05-21T07:30:02.629Z"
    }
   },
   "source": [
    "## <a name=\"unseen3\"> </a> Prediction of the unseen data"
   ]
  },
  {
   "cell_type": "code",
   "execution_count": 146,
   "metadata": {
    "ExecuteTime": {
     "end_time": "2017-05-21T20:07:26.050556",
     "start_time": "2017-05-21T20:07:25.146136"
    },
    "collapsed": false
   },
   "outputs": [
    {
     "data": {
      "text/html": [
       "<div>\n",
       "<table border=\"1\" class=\"dataframe\">\n",
       "  <thead>\n",
       "    <tr style=\"text-align: right;\">\n",
       "      <th></th>\n",
       "      <th>Unnamed: 0</th>\n",
       "      <th>reviewerID</th>\n",
       "      <th>asin</th>\n",
       "      <th>reviewerName</th>\n",
       "      <th>helpful</th>\n",
       "      <th>reviewText</th>\n",
       "      <th>summary</th>\n",
       "      <th>unixReviewTime</th>\n",
       "      <th>reviewTime</th>\n",
       "      <th>label</th>\n",
       "    </tr>\n",
       "  </thead>\n",
       "  <tbody>\n",
       "    <tr>\n",
       "      <th>3547</th>\n",
       "      <td>3547</td>\n",
       "      <td>A3DXVYD2TQHWGD</td>\n",
       "      <td>B0000009UX</td>\n",
       "      <td>J. Carroll \"Jack\"</td>\n",
       "      <td>[1, 3]</td>\n",
       "      <td>Listen to the opening lines of \"The Loved Ones...</td>\n",
       "      <td>Some great tunes, too much production</td>\n",
       "      <td>1037750400</td>\n",
       "      <td>11 20, 2002</td>\n",
       "      <td>?</td>\n",
       "    </tr>\n",
       "    <tr>\n",
       "      <th>5710</th>\n",
       "      <td>5710</td>\n",
       "      <td>A22YHFBQRQSD2T</td>\n",
       "      <td>B000W05C06</td>\n",
       "      <td>GailBar</td>\n",
       "      <td>[0, 0]</td>\n",
       "      <td>Buju great music writer and performer love his...</td>\n",
       "      <td>Great Musician</td>\n",
       "      <td>1386201600</td>\n",
       "      <td>12 5, 2013</td>\n",
       "      <td>?</td>\n",
       "    </tr>\n",
       "    <tr>\n",
       "      <th>3124</th>\n",
       "      <td>3124</td>\n",
       "      <td>ARJC9LCKUMEWY</td>\n",
       "      <td>B0000AGWEC</td>\n",
       "      <td>NaN</td>\n",
       "      <td>[8, 21]</td>\n",
       "      <td>Ideal for people who like the music of Clay Ai...</td>\n",
       "      <td>Essential!</td>\n",
       "      <td>1136678400</td>\n",
       "      <td>01 8, 2006</td>\n",
       "      <td>?</td>\n",
       "    </tr>\n",
       "    <tr>\n",
       "      <th>10225</th>\n",
       "      <td>10225</td>\n",
       "      <td>AO5156GAU9A47</td>\n",
       "      <td>B006M4HVD2</td>\n",
       "      <td>Cassandra</td>\n",
       "      <td>[0, 0]</td>\n",
       "      <td>This song just takes you to another level min ...</td>\n",
       "      <td>Royality is a 5</td>\n",
       "      <td>1366761600</td>\n",
       "      <td>04 24, 2013</td>\n",
       "      <td>?</td>\n",
       "    </tr>\n",
       "    <tr>\n",
       "      <th>13421</th>\n",
       "      <td>13421</td>\n",
       "      <td>A2PUO3JLW2C4FZ</td>\n",
       "      <td>B0075MFS9Y</td>\n",
       "      <td>Aedmonds</td>\n",
       "      <td>[0, 0]</td>\n",
       "      <td>Great cd I love every song. Lumineers are the ...</td>\n",
       "      <td>Good buy</td>\n",
       "      <td>1360713600</td>\n",
       "      <td>02 13, 2013</td>\n",
       "      <td>?</td>\n",
       "    </tr>\n",
       "  </tbody>\n",
       "</table>\n",
       "</div>"
      ],
      "text/plain": [
       "       Unnamed: 0      reviewerID        asin       reviewerName  helpful  \\\n",
       "3547         3547  A3DXVYD2TQHWGD  B0000009UX  J. Carroll \"Jack\"   [1, 3]   \n",
       "5710         5710  A22YHFBQRQSD2T  B000W05C06            GailBar   [0, 0]   \n",
       "3124         3124   ARJC9LCKUMEWY  B0000AGWEC                NaN  [8, 21]   \n",
       "10225       10225   AO5156GAU9A47  B006M4HVD2          Cassandra   [0, 0]   \n",
       "13421       13421  A2PUO3JLW2C4FZ  B0075MFS9Y           Aedmonds   [0, 0]   \n",
       "\n",
       "                                              reviewText  \\\n",
       "3547   Listen to the opening lines of \"The Loved Ones...   \n",
       "5710   Buju great music writer and performer love his...   \n",
       "3124   Ideal for people who like the music of Clay Ai...   \n",
       "10225  This song just takes you to another level min ...   \n",
       "13421  Great cd I love every song. Lumineers are the ...   \n",
       "\n",
       "                                     summary  unixReviewTime   reviewTime  \\\n",
       "3547   Some great tunes, too much production      1037750400  11 20, 2002   \n",
       "5710                          Great Musician      1386201600   12 5, 2013   \n",
       "3124                              Essential!      1136678400   01 8, 2006   \n",
       "10225                        Royality is a 5      1366761600  04 24, 2013   \n",
       "13421                               Good buy      1360713600  02 13, 2013   \n",
       "\n",
       "      label  \n",
       "3547      ?  \n",
       "5710      ?  \n",
       "3124      ?  \n",
       "10225     ?  \n",
       "13421     ?  "
      ]
     },
     "execution_count": 146,
     "metadata": {},
     "output_type": "execute_result"
    }
   ],
   "source": [
    "# We will apply the same modification as for the preprocessing step for this new dataset\n",
    "\n",
    "!gunzip -c amazon_step1_unseen.csv.gz > amazon_step1_unseen.csv\n",
    "df3_unseen = pd.read_csv(\"amazon_step2_unseen.csv\")\n",
    "\n",
    "df3_unseen.sample(5)"
   ]
  },
  {
   "cell_type": "code",
   "execution_count": 147,
   "metadata": {
    "ExecuteTime": {
     "end_time": "2017-05-21T20:11:40.863838",
     "start_time": "2017-05-21T20:07:32.170323"
    },
    "collapsed": false
   },
   "outputs": [
    {
     "name": "stderr",
     "output_type": "stream",
     "text": [
      "/home/ra-danny/anaconda36/lib/python3.6/site-packages/sklearn/utils/validation.py:429: DataConversionWarning: Data with input dtype int64 was converted to float64 by StandardScaler.\n",
      "  warnings.warn(msg, _DataConversionWarning)\n"
     ]
    }
   ],
   "source": [
    "# Create the new features\n",
    "createHelpfulPercentage(df3_unseen)\n",
    "createTextLength(df3_unseen, \"reviewText\")\n",
    "createTextPunctuationFeatures(df3_unseen, \"reviewText\")\n",
    "contains_smiley(df3_unseen, \"reviewText\")\n",
    "createALLCAPS(df3_unseen, \"reviewText\")\n",
    "createTextLength(df3_unseen, \"summary\")\n",
    "createTextPunctuationFeatures(df3_unseen, \"summary\")\n",
    "contains_smiley(df3_unseen, \"summary\")\n",
    "createALLCAPS(df3_unseen, \"summary\")\n",
    "wordSentimentRatio(df3_unseen)\n",
    "\n",
    "# Standardize with MinMaxScaler\n",
    "df3_unseen.helpfulPercentage          =    scalerHelpful.transform(     df3_unseen.helpfulPercentage.values.reshape(-1,1))\n",
    "df3_unseen.reviewTextLength           =    scalerTextLength.transform(  df3_unseen.reviewTextLength.values.reshape(-1,1))\n",
    "df3_unseen.reviewTextCountPoints      =    scalerCountPoints.transform( df3_unseen.reviewTextCountPoints.values.reshape(-1,1))\n",
    "df3_unseen.reviewTextCountExcl        =    scalerCountExcl.transform(   df3_unseen.reviewTextCountExcl.values.reshape(-1,1))\n",
    "df3_unseen.reviewTextCountInterr      =    scalerCountInterr.transform( df3_unseen.reviewTextCountInterr.values.reshape(-1,1))\n",
    "df3_unseen.reviewTextCountComas       =    scalerCountComas.transform(  df3_unseen.reviewTextCountComas.values.reshape(-1,1))\n",
    "df3_unseen.summaryLength              =    summaryScalerTextLength.transform(  df3_unseen.summaryLength.values.reshape(-1,1))\n",
    "df3_unseen.summaryCountPoints         =    summaryScalerCountPoint.transform( df3_unseen.summaryCountPoints.values.reshape(-1,1))\n",
    "df3_unseen.summaryCountExcl           =    summaryScalerCountExcl.transform(   df3_unseen.summaryCountExcl.values.reshape(-1,1))\n",
    "df3_unseen.summaryCountInterr         =    summaryScalerCountInterr.transform( df3_unseen.summaryCountInterr.values.reshape(-1,1))\n",
    "df3_unseen.summaryCountComas          =    summaryScalerCountComas.transform(  df3_unseen.summaryCountComas.values.reshape(-1,1))\n",
    "\n",
    "# TF-IDF for 'reviewText'\n",
    "pipe_modified.fit(df3.reviewText)\n",
    "x_reviewText = pipe_modified.transform(df3_unseen.reviewText)\n",
    "\n",
    "# TF-IDF for 'summary'\n",
    "pipe_modified.fit(df3.summary)\n",
    "x_summary = pipe_modified.transform(df3_unseen.summary)\n",
    "\n",
    "# Merge all features into a single dataframe\n",
    "X_unseen = hstack((x_reviewText, x_summary))\n",
    "featuresToUse = [\"helpfulPercentage\", \"reviewTextLength\", \"reviewTextCountPoints\", \"reviewTextCountExcl\", \"reviewTextCountInterr\", \"reviewTextCountComas\", \"reviewTextPositiveSmiley\", \"reviewTextNegativeSmiley\", \"reviewTextAllCAPS\", \\\n",
    "                \"summaryCountPoints\", \"summaryCountExcl\", \"summaryCountInterr\", \"summaryCountComas\", \"summaryPositiveSmiley\", \"summaryNegativeSmiley\", \"summaryAllCAPS\"]\n",
    "for c in featuresToUse:\n",
    "    X_unseen = hstack((X_unseen,(df3_unseen[c])[:,None]))"
   ]
  },
  {
   "cell_type": "code",
   "execution_count": 148,
   "metadata": {
    "ExecuteTime": {
     "end_time": "2017-05-21T20:14:12.585667",
     "start_time": "2017-05-21T20:11:40.866492"
    },
    "collapsed": true
   },
   "outputs": [],
   "source": [
    "# Build the SVC with the best params return by grid search\n",
    "svc = LinearSVC(C=best_C)\n",
    "svc.fit(X3, y)\n",
    "\n",
    "y_unseen_pred = svc.predict(X_unseen)"
   ]
  },
  {
   "cell_type": "code",
   "execution_count": 149,
   "metadata": {
    "ExecuteTime": {
     "end_time": "2017-05-21T20:14:12.628744",
     "start_time": "2017-05-21T20:14:12.588322"
    },
    "collapsed": true
   },
   "outputs": [],
   "source": [
    "# export the prediction into a file named \"pred3.txt\"\n",
    "file = open('pred3.txt', 'w')\n",
    "for item in y_unseen_pred:\n",
    "  file.write(\"%s\\n\" % item)"
   ]
  }
 ],
 "metadata": {
  "kernelspec": {
   "display_name": "Python 3",
   "language": "python",
   "name": "python3"
  },
  "language_info": {
   "codemirror_mode": {
    "name": "ipython",
    "version": 3
   },
   "file_extension": ".py",
   "mimetype": "text/x-python",
   "name": "python",
   "nbconvert_exporter": "python",
   "pygments_lexer": "ipython3",
   "version": "3.6.0"
  },
  "toc": {
   "colors": {
    "hover_highlight": "#DAA520",
    "running_highlight": "#FF0000",
    "selected_highlight": "#FFD700"
   },
   "moveMenuLeft": true,
   "nav_menu": {
    "height": "12px",
    "width": "252px"
   },
   "navigate_menu": true,
   "number_sections": false,
   "sideBar": true,
   "threshold": "0",
   "toc_cell": false,
   "toc_section_display": "block",
   "toc_window_display": false
  }
 },
 "nbformat": 4,
 "nbformat_minor": 2
}
